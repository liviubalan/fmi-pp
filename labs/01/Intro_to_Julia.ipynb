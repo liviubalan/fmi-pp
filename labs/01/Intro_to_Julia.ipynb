{
  "cells": [
    {
      "cell_type": "markdown",
      "metadata": {
        "id": "tQ1r1bbb0yBv"
      },
      "source": [
        "# <img src=\"https://github.com/JuliaLang/julia-logo-graphics/raw/master/images/julia-logo-color.png\" height=\"100\" /> _Notebook_\n",
        "\n",
        "## Instructions\n",
        "1. Work on a copy of this notebook: _File_ > _Save a copy in Drive_ (you will need a Google account). Alternatively, you can download the notebook using _File_ > _Download .ipynb_, then upload it to [Colab](https://colab.research.google.com/).\n",
        "2. If you need a GPU: _Runtime_ > _Change runtime type_ > _Harware accelerator_ = _GPU_.\n",
        "3. Execute the following cell (click on it and press Ctrl+Enter) to install Julia, IJulia and other packages (if needed, update `JULIA_VERSION` and the other parameters). This takes a couple of minutes.\n",
        "4. Reload this page (press Ctrl+R, or ⌘+R, or the F5 key) and continue to the next section.\n",
        "\n",
        "_Notes_:\n",
        "* If your Colab Runtime gets reset (e.g., due to inactivity), repeat steps 2, 3 and 4.\n",
        "* After installation, if you want to change the Julia version or activate/deactivate the GPU, you will need to reset the Runtime: _Runtime_ > _Factory reset runtime_ and repeat steps 3 and 4."
      ]
    },
    {
      "cell_type": "code",
      "execution_count": null,
      "metadata": {
        "colab": {
          "background_save": true,
          "base_uri": "https://localhost:8080/"
        },
        "id": "GIeFXS0F0zww",
        "outputId": "603fcb06-cf4e-4bc4-93bc-cc73a283e9bc"
      },
      "outputs": [
        {
          "name": "stdout",
          "output_type": "stream",
          "text": [
            "Installing Julia 1.7.1 on the current Colab Runtime...\n",
            "2022-10-07 12:54:00 URL:https://storage.googleapis.com/julialang2/bin/linux/x64/1.7/julia-1.7.1-linux-x86_64.tar.gz [123374573/123374573] -> \"/tmp/julia.tar.gz\" [1]\n",
            "Installing Julia package IJulia...\n",
            "Installing Julia package BenchmarkTools...\n",
            "Installing Julia package Plots...\n",
            "Installing IJulia kernel...\n",
            "\u001b[36m\u001b[1m[ \u001b[22m\u001b[39m\u001b[36m\u001b[1mInfo: \u001b[22m\u001b[39mInstalling julia kernelspec in /root/.local/share/jupyter/kernels/julia-1.7\n",
            "\n",
            "Successfully installed julia version 1.7.1!\n",
            "Please reload this page (press Ctrl+R, ⌘+R, or the F5 key) then\n",
            "jump to the 'Checking the Installation' section.\n"
          ]
        },
        {
          "data": {
            "text/plain": []
          },
          "execution_count": 1,
          "metadata": {},
          "output_type": "execute_result"
        }
      ],
      "source": [
        "%%shell\n",
        "set -e\n",
        "\n",
        "#---------------------------------------------------#\n",
        "JULIA_VERSION=\"1.7.1\" # any version ≥ 0.7.0\n",
        "JULIA_PACKAGES=\"IJulia BenchmarkTools Plots\"\n",
        "JULIA_PACKAGES_IF_GPU=\"CUDA\" # or CuArrays for older Julia versions\n",
        "JULIA_NUM_THREADS=2\n",
        "#---------------------------------------------------#\n",
        "\n",
        "if [ -n \"$COLAB_GPU\" ] && [ -z `which julia` ]; then\n",
        "  # Install Julia\n",
        "  JULIA_VER=`cut -d '.' -f -2 <<< \"$JULIA_VERSION\"`\n",
        "  echo \"Installing Julia $JULIA_VERSION on the current Colab Runtime...\"\n",
        "  BASE_URL=\"https://julialang-s3.julialang.org/bin/linux/x64\"\n",
        "  URL=\"$BASE_URL/$JULIA_VER/julia-$JULIA_VERSION-linux-x86_64.tar.gz\"\n",
        "  wget -nv $URL -O /tmp/julia.tar.gz # -nv means \"not verbose\"\n",
        "  tar -x -f /tmp/julia.tar.gz -C /usr/local --strip-components 1\n",
        "  rm /tmp/julia.tar.gz\n",
        "\n",
        "  # Install Packages\n",
        "  if [ \"$COLAB_GPU\" = \"1\" ]; then\n",
        "      JULIA_PACKAGES=\"$JULIA_PACKAGES $JULIA_PACKAGES_IF_GPU\"\n",
        "  fi\n",
        "  for PKG in `echo $JULIA_PACKAGES`; do\n",
        "    echo \"Installing Julia package $PKG...\"\n",
        "    julia -e 'using Pkg; pkg\"add '$PKG'; precompile;\"' &> /dev/null\n",
        "  done\n",
        "\n",
        "  # Install kernel and rename it to \"julia\"\n",
        "  echo \"Installing IJulia kernel...\"\n",
        "  julia -e 'using IJulia; IJulia.installkernel(\"julia\", env=Dict(\n",
        "      \"JULIA_NUM_THREADS\"=>\"'\"$JULIA_NUM_THREADS\"'\"))'\n",
        "  KERNEL_DIR=`julia -e \"using IJulia; print(IJulia.kerneldir())\"`\n",
        "  KERNEL_NAME=`ls -d \"$KERNEL_DIR\"/julia*`\n",
        "  mv -f $KERNEL_NAME \"$KERNEL_DIR\"/julia  \n",
        "\n",
        "  echo ''\n",
        "  echo \"Successfully installed `julia -v`!\"\n",
        "  echo \"Please reload this page (press Ctrl+R, ⌘+R, or the F5 key) then\"\n",
        "  echo \"jump to the 'Checking the Installation' section.\"\n",
        "fi"
      ]
    },
    {
      "cell_type": "markdown",
      "metadata": {
        "id": "-OS3Ac017T1i"
      },
      "source": [
        "## Checking the Installation\n",
        "The `versioninfo()` function should print your Julia version and some other info about the system:"
      ]
    },
    {
      "cell_type": "code",
      "execution_count": null,
      "metadata": {
        "colab": {
          "background_save": true,
          "base_uri": "https://localhost:8080/"
        },
        "id": "EEzvvzCl1i0F",
        "outputId": "82f45acb-6969-4c56-97c0-bb5ee6784a75"
      },
      "outputs": [
        {
          "ename": "NameError",
          "evalue": "ignored",
          "output_type": "error",
          "traceback": [
            "\u001b[0;31m---------------------------------------------------------------------------\u001b[0m",
            "\u001b[0;31mNameError\u001b[0m                                 Traceback (most recent call last)",
            "\u001b[0;32m<ipython-input-2-a67619e8ecad>\u001b[0m in \u001b[0;36m<module>\u001b[0;34m\u001b[0m\n\u001b[0;32m----> 1\u001b[0;31m \u001b[0mversioninfo\u001b[0m\u001b[0;34m(\u001b[0m\u001b[0;34m)\u001b[0m\u001b[0;34m\u001b[0m\u001b[0;34m\u001b[0m\u001b[0m\n\u001b[0m",
            "\u001b[0;31mNameError\u001b[0m: name 'versioninfo' is not defined"
          ]
        }
      ],
      "source": [
        "versioninfo()"
      ]
    },
    {
      "cell_type": "code",
      "execution_count": null,
      "metadata": {
        "colab": {
          "background_save": true
        },
        "id": "YjM_qq54lCcs"
      },
      "outputs": [],
      "source": [
        "using BenchmarkTools\n",
        "\n",
        "M = rand(2^11, 2^11)\n",
        "\n",
        "@btime $M * $M;"
      ]
    },
    {
      "cell_type": "code",
      "execution_count": null,
      "metadata": {
        "colab": {
          "background_save": true
        },
        "id": "XciCcMAJOT3_"
      },
      "outputs": [],
      "source": [
        "if ENV[\"COLAB_GPU\"] == \"1\"\n",
        "    using CUDA\n",
        "\n",
        "    run(`nvidia-smi`)\n",
        "\n",
        "    # Create a new random matrix directly on the GPU:\n",
        "    M_on_gpu = CUDA.CURAND.rand(2^11, 2^11)\n",
        "    @btime $M_on_gpu * $M_on_gpu; nothing\n",
        "else\n",
        "    println(\"No GPU found.\")\n",
        "end"
      ]
    },
    {
      "cell_type": "markdown",
      "metadata": {
        "id": "COwNQybomFkf"
      },
      "source": [
        "Install all necessary packages for this notebook."
      ]
    },
    {
      "cell_type": "code",
      "execution_count": 13,
      "metadata": {
        "colab": {
          "base_uri": "https://localhost:8080/"
        },
        "id": "C9gi6tN-mDZC",
        "outputId": "08a1aba0-42ad-4044-b903-29eb2f04a464"
      },
      "outputs": [
        {
          "output_type": "stream",
          "name": "stderr",
          "text": [
            "\u001b[32m\u001b[1m   Resolving\u001b[22m\u001b[39m package versions...\n",
            "\u001b[32m\u001b[1m   Installed\u001b[22m\u001b[39m IntelOpenMP_jll ─── v2018.0.3+2\n",
            "\u001b[32m\u001b[1m   Installed\u001b[22m\u001b[39m Ratios ──────────── v0.4.3\n",
            "\u001b[32m\u001b[1m   Installed\u001b[22m\u001b[39m FFTW ────────────── v1.5.0\n",
            "\u001b[32m\u001b[1m   Installed\u001b[22m\u001b[39m OffsetArrays ────── v1.12.7\n",
            "\u001b[32m\u001b[1m   Installed\u001b[22m\u001b[39m DataValues ──────── v0.4.13\n",
            "\u001b[32m\u001b[1m   Installed\u001b[22m\u001b[39m Distances ───────── v0.10.7\n",
            "\u001b[32m\u001b[1m   Installed\u001b[22m\u001b[39m NearestNeighbors ── v0.4.12\n",
            "\u001b[32m\u001b[1m   Installed\u001b[22m\u001b[39m MKL_jll ─────────── v2022.1.0+0\n",
            "\u001b[32m\u001b[1m   Installed\u001b[22m\u001b[39m StatsPlots ──────── v0.15.4\n",
            "\u001b[32m\u001b[1m   Installed\u001b[22m\u001b[39m FFTW_jll ────────── v3.3.10+0\n",
            "\u001b[32m\u001b[1m   Installed\u001b[22m\u001b[39m KernelDensity ───── v0.6.5\n",
            "\u001b[32m\u001b[1m   Installed\u001b[22m\u001b[39m Clustering ──────── v0.14.3\n",
            "\u001b[32m\u001b[1m   Installed\u001b[22m\u001b[39m AbstractFFTs ────── v1.2.1\n",
            "\u001b[32m\u001b[1m   Installed\u001b[22m\u001b[39m Arpack_jll ──────── v3.5.1+1\n",
            "\u001b[32m\u001b[1m   Installed\u001b[22m\u001b[39m MultivariateStats ─ v0.10.0\n",
            "\u001b[32m\u001b[1m   Installed\u001b[22m\u001b[39m Adapt ───────────── v3.4.0\n",
            "\u001b[32m\u001b[1m   Installed\u001b[22m\u001b[39m Widgets ─────────── v0.6.6\n",
            "\u001b[32m\u001b[1m   Installed\u001b[22m\u001b[39m TableOperations ─── v1.2.0\n",
            "\u001b[32m\u001b[1m   Installed\u001b[22m\u001b[39m AxisAlgorithms ──── v1.0.1\n",
            "\u001b[32m\u001b[1m   Installed\u001b[22m\u001b[39m Arpack ──────────── v0.5.3\n",
            "\u001b[32m\u001b[1m   Installed\u001b[22m\u001b[39m WoodburyMatrices ── v0.5.5\n",
            "\u001b[32m\u001b[1m   Installed\u001b[22m\u001b[39m Observables ─────── v0.5.2\n",
            "\u001b[32m\u001b[1m   Installed\u001b[22m\u001b[39m Interpolations ──── v0.14.6\n",
            "\u001b[32m\u001b[1m    Updating\u001b[22m\u001b[39m `~/.julia/environments/v1.7/Project.toml`\n",
            " \u001b[90m [f3b207a7] \u001b[39m\u001b[92m+ StatsPlots v0.15.4\u001b[39m\n",
            "\u001b[32m\u001b[1m    Updating\u001b[22m\u001b[39m `~/.julia/environments/v1.7/Manifest.toml`\n",
            " \u001b[90m [621f4979] \u001b[39m\u001b[92m+ AbstractFFTs v1.2.1\u001b[39m\n",
            " \u001b[90m [79e6a3ab] \u001b[39m\u001b[92m+ Adapt v3.4.0\u001b[39m\n",
            " \u001b[90m [7d9fca2a] \u001b[39m\u001b[92m+ Arpack v0.5.3\u001b[39m\n",
            " \u001b[90m [13072b0f] \u001b[39m\u001b[92m+ AxisAlgorithms v1.0.1\u001b[39m\n",
            " \u001b[90m [aaaa29a8] \u001b[39m\u001b[92m+ Clustering v0.14.3\u001b[39m\n",
            " \u001b[90m [e7dc6d0d] \u001b[39m\u001b[92m+ DataValues v0.4.13\u001b[39m\n",
            " \u001b[90m [b4f34e82] \u001b[39m\u001b[92m+ Distances v0.10.7\u001b[39m\n",
            " \u001b[90m [7a1cc6ca] \u001b[39m\u001b[92m+ FFTW v1.5.0\u001b[39m\n",
            " \u001b[90m [a98d9a8b] \u001b[39m\u001b[92m+ Interpolations v0.14.6\u001b[39m\n",
            " \u001b[90m [5ab0869b] \u001b[39m\u001b[92m+ KernelDensity v0.6.5\u001b[39m\n",
            " \u001b[90m [6f286f6a] \u001b[39m\u001b[92m+ MultivariateStats v0.10.0\u001b[39m\n",
            " \u001b[90m [b8a86587] \u001b[39m\u001b[92m+ NearestNeighbors v0.4.12\u001b[39m\n",
            " \u001b[90m [510215fc] \u001b[39m\u001b[92m+ Observables v0.5.2\u001b[39m\n",
            " \u001b[90m [6fe1bfb0] \u001b[39m\u001b[92m+ OffsetArrays v1.12.7\u001b[39m\n",
            " \u001b[90m [c84ed2f1] \u001b[39m\u001b[92m+ Ratios v0.4.3\u001b[39m\n",
            " \u001b[90m [f3b207a7] \u001b[39m\u001b[92m+ StatsPlots v0.15.4\u001b[39m\n",
            " \u001b[90m [ab02a1b2] \u001b[39m\u001b[92m+ TableOperations v1.2.0\u001b[39m\n",
            " \u001b[90m [cc8bc4a8] \u001b[39m\u001b[92m+ Widgets v0.6.6\u001b[39m\n",
            " \u001b[90m [efce3f68] \u001b[39m\u001b[92m+ WoodburyMatrices v0.5.5\u001b[39m\n",
            " \u001b[90m [68821587] \u001b[39m\u001b[92m+ Arpack_jll v3.5.1+1\u001b[39m\n",
            " \u001b[90m [f5851436] \u001b[39m\u001b[92m+ FFTW_jll v3.3.10+0\u001b[39m\n",
            " \u001b[90m [1d5cc7b8] \u001b[39m\u001b[92m+ IntelOpenMP_jll v2018.0.3+2\u001b[39m\n",
            " \u001b[90m [856f044c] \u001b[39m\u001b[92m+ MKL_jll v2022.1.0+0\u001b[39m\n",
            " \u001b[90m [8ba89e20] \u001b[39m\u001b[92m+ Distributed\u001b[39m\n",
            " \u001b[90m [1a1011a3] \u001b[39m\u001b[92m+ SharedArrays\u001b[39m\n",
            "\u001b[32m\u001b[1mPrecompiling\u001b[22m\u001b[39m project...\n",
            "\u001b[32m  ✓ \u001b[39m\u001b[90mWoodburyMatrices\u001b[39m\n",
            "\u001b[32m  ✓ \u001b[39m\u001b[90mObservables\u001b[39m\n",
            "\u001b[32m  ✓ \u001b[39m\u001b[90mRatios\u001b[39m\n",
            "\u001b[32m  ✓ \u001b[39m\u001b[90mDistances\u001b[39m\n",
            "\u001b[32m  ✓ \u001b[39m\u001b[90mDataValues\u001b[39m\n",
            "\u001b[32m  ✓ \u001b[39m\u001b[90mAdapt\u001b[39m\n",
            "\u001b[32m  ✓ \u001b[39m\u001b[90mAbstractFFTs\u001b[39m\n",
            "\u001b[32m  ✓ \u001b[39m\u001b[90mIntelOpenMP_jll\u001b[39m\n",
            "\u001b[32m  ✓ \u001b[39m\u001b[90mFFTW_jll\u001b[39m\n",
            "\u001b[32m  ✓ \u001b[39m\u001b[90mArpack_jll\u001b[39m\n",
            "\u001b[32m  ✓ \u001b[39m\u001b[90mAxisAlgorithms\u001b[39m\n",
            "\u001b[32m  ✓ \u001b[39m\u001b[90mTableOperations\u001b[39m\n",
            "\u001b[32m  ✓ \u001b[39m\u001b[90mOffsetArrays\u001b[39m\n",
            "\u001b[32m  ✓ \u001b[39m\u001b[90mWidgets\u001b[39m\n",
            "\u001b[32m  ✓ \u001b[39m\u001b[90mNearestNeighbors\u001b[39m\n",
            "\u001b[32m  ✓ \u001b[39m\u001b[90mArpack\u001b[39m\n",
            "\u001b[32m  ✓ \u001b[39m\u001b[90mMKL_jll\u001b[39m\n",
            "\u001b[32m  ✓ \u001b[39m\u001b[90mMultivariateStats\u001b[39m\n",
            "\u001b[32m  ✓ \u001b[39m\u001b[90mClustering\u001b[39m\n",
            "\u001b[32m  ✓ \u001b[39m\u001b[90mInterpolations\u001b[39m\n",
            "\u001b[32m  ✓ \u001b[39m\u001b[90mFFTW\u001b[39m\n",
            "\u001b[32m  ✓ \u001b[39m\u001b[90mKernelDensity\u001b[39m\n",
            "\u001b[32m  ✓ \u001b[39mStatsPlots\n",
            "  23 dependencies successfully precompiled in 26 seconds (188 already precompiled)\n"
          ]
        }
      ],
      "source": [
        "using Pkg\n",
        "\n",
        "packages = [\"DataFrames\", \"HTTP\", \"CSV\", \"Plots\", \"PyPlot\", \"RDatasets\", \"Gen\", \"StatsPlots\"]\n",
        "\n",
        "Pkg.add(packages)"
      ]
    },
    {
      "cell_type": "markdown",
      "metadata": {
        "id": "-UsKPF01n37h"
      },
      "source": [
        "## Local Installation\n",
        "\n",
        "Alternatively, if you want to run Julia locally, visit [the official website](https://julialang.org/downloads/) and download the installer for your OS.\n",
        "\n",
        "To install packages outside scripts, open the [Julia command line](https://docs.julialang.org/en/v1/stdlib/REPL/) by double clicking the executable or typing Julia in your terminal. \n",
        "\n",
        "```\n",
        "$ julia\n",
        "\n",
        "               _\n",
        "   _       _ _(_)_     |  Documentation: https://docs.julialang.org\n",
        "  (_)     | (_) (_)    |\n",
        "   _ _   _| |_  __ _   |  Type \"?\" for help, \"]?\" for Pkg help.\n",
        "  | | | | | | |/ _` |  |\n",
        "  | | |_| | | | (_| |  |  Version 1.8.2 (2022-09-29)\n",
        " _/ |\\__'_|_|_|\\__'_|  |  Official https://julialang.org/ release\n",
        "|__/       \n",
        "```\n",
        "\n",
        "After this, enter [package mode](https://docs.julialang.org/en/v1/stdlib/Pkg/) by typing `]`, which will open the following prompt:\n",
        "\n",
        "```\n",
        "(v1.1) pkg>\n",
        "```\n",
        "\n",
        "You are then free to add whichever package(s) by typing `add package1 package2` and so on. Below you'll find the command for adding all the pakcages used in this notebook.\n",
        "\n",
        "```\n",
        "(v1.1) pkg> add DataFrames HTTP CSV Plots PyPlot RDatasets Gen\n",
        "```\n",
        "\n",
        "To run a script, simply type the name of the script in the Julia command line:\n",
        "\n",
        "```\n",
        "$ julia script.jl\n",
        "```\n",
        "\n",
        "To run a Jupyter notebook, install the `IJulia` package, then open the Jupyter server and create a new Julia Notebook.\n",
        "\n",
        "![image.png](https://media.geeksforgeeks.org/wp-content/uploads/20200707172752/Screenshot24.png)"
      ]
    },
    {
      "cell_type": "markdown",
      "metadata": {
        "id": "2UMidUQB03vJ"
      },
      "source": [
        "Have fun!\n",
        "\n",
        "<img src=\"https://raw.githubusercontent.com/JuliaLang/julia-logo-graphics/master/images/julia-logo-mask.png\" height=\"100\" />"
      ]
    },
    {
      "cell_type": "markdown",
      "metadata": {
        "id": "1Sn6_RUvkOKt"
      },
      "source": [
        "# Basic use"
      ]
    },
    {
      "cell_type": "code",
      "execution_count": null,
      "metadata": {
        "colab": {
          "base_uri": "https://localhost:8080/"
        },
        "id": "fRV8_ErIkOXu",
        "outputId": "d002a9d9-695f-40bc-8120-74cd2fb22d24"
      },
      "outputs": [
        {
          "data": {
            "text/plain": [
              "9"
            ]
          },
          "execution_count": 5,
          "metadata": {},
          "output_type": "execute_result"
        }
      ],
      "source": [
        "a = 1\n",
        "b = 2\n",
        "# This is a comment \n",
        "c = a^2 + b^3 "
      ]
    },
    {
      "cell_type": "code",
      "execution_count": null,
      "metadata": {
        "colab": {
          "base_uri": "https://localhost:8080/"
        },
        "id": "_E-YtOKXlvOU",
        "outputId": "70724df0-92e6-432f-f7d9-734617dd7911"
      },
      "outputs": [
        {
          "name": "stdout",
          "output_type": "stream",
          "text": [
            "Huchette"
          ]
        }
      ],
      "source": [
        "if c >= 10\n",
        "    print(\"Joey\")\n",
        "else\n",
        "    print(\"Huchette\")\n",
        "end"
      ]
    },
    {
      "cell_type": "code",
      "execution_count": null,
      "metadata": {
        "colab": {
          "base_uri": "https://localhost:8080/"
        },
        "id": "ACKvT37VlvMA",
        "outputId": "3cd49082-2990-427f-c2ed-c5cdf8be0665"
      },
      "outputs": [
        {
          "name": "stdout",
          "output_type": "stream",
          "text": [
            "Joey!\n",
            "Joey!\n",
            "Joey!\n",
            "Joey!\n",
            "Joey!\n"
          ]
        }
      ],
      "source": [
        "i = 1\n",
        "while i <= 5\n",
        "    println(\"Joey!\") # Print with a new line\n",
        "    i += 1\n",
        "end"
      ]
    },
    {
      "cell_type": "code",
      "execution_count": null,
      "metadata": {
        "colab": {
          "base_uri": "https://localhost:8080/"
        },
        "id": "rOH8Iqe1lvCW",
        "outputId": "0e3ab9dc-ca5e-4643-a239-03d53d54ca67"
      },
      "outputs": [
        {
          "name": "stdout",
          "output_type": "stream",
          "text": [
            "1 Joey\n",
            "2 Joeys\n",
            "3 Joeys\n"
          ]
        }
      ],
      "source": [
        "for i = 1:3\n",
        "    print(\"$i Joey\") # '$' can be used to insert variables into text\n",
        "    if i>1\n",
        "        print(\"s\")\n",
        "    end\n",
        "    println() # Just a new line\n",
        "end"
      ]
    },
    {
      "cell_type": "markdown",
      "metadata": {
        "id": "Rfc8fhFPoEe7"
      },
      "source": [
        "# Arrays"
      ]
    },
    {
      "cell_type": "markdown",
      "metadata": {
        "id": "k1rYyDAAoptV"
      },
      "source": [
        "### 1D Arrays"
      ]
    },
    {
      "cell_type": "code",
      "execution_count": null,
      "metadata": {
        "colab": {
          "base_uri": "https://localhost:8080/"
        },
        "id": "k2xMUZ9hoFgz",
        "outputId": "59007003-ae49-4b31-ff63-da1f3728722b"
      },
      "outputs": [
        {
          "data": {
            "text/plain": [
              "4-element Vector{Int64}:\n",
              " 1\n",
              " 2\n",
              " 3\n",
              " 4"
            ]
          },
          "execution_count": 9,
          "metadata": {},
          "output_type": "execute_result"
        }
      ],
      "source": [
        "A = [1, 2, 3, 4]\n",
        "A"
      ]
    },
    {
      "cell_type": "markdown",
      "metadata": {
        "id": "PmM-0Q6ipSbe"
      },
      "source": [
        "Accessing Elements in 1D Arrays"
      ]
    },
    {
      "cell_type": "code",
      "execution_count": null,
      "metadata": {
        "colab": {
          "base_uri": "https://localhost:8080/"
        },
        "id": "E_ALU-PNpSQq",
        "outputId": "f3f9bd72-f167-4383-e187-329e86c9f2d1"
      },
      "outputs": [
        {
          "name": "stdout",
          "output_type": "stream",
          "text": [
            "3\n",
            "Geeks\n",
            "Any[3, \"Hello\", \"Geeks\"]\n",
            "Any[3, 4, \"Hello\", \"Geeks\"]\n",
            "Any[1, 2, \"Geeks\"]\n"
          ]
        }
      ],
      "source": [
        "# Creating a 1D Array\n",
        "Array1 = [1, 2, 3, 4, \"Hello\", \"Geeks\"]\n",
        " \n",
        "# Passing index value\n",
        "println(Array1[3])\n",
        " \n",
        "# Accessing last value\n",
        "println(Array1[end])\n",
        " \n",
        "# Passing a bunch of index values\n",
        "println(Array1[[3, 5, 6]])\n",
        " \n",
        "# Passing a range of indices\n",
        "println(Array1[3:end])\n",
        " \n",
        "# Using true-false to print values\n",
        "println(Array1[[true, true, false, false, false, true]])"
      ]
    },
    {
      "cell_type": "markdown",
      "metadata": {
        "id": "4lXPNGbeqNSb"
      },
      "source": [
        "Adding Elements to a 1D Array"
      ]
    },
    {
      "cell_type": "code",
      "execution_count": null,
      "metadata": {
        "colab": {
          "base_uri": "https://localhost:8080/"
        },
        "id": "BblVQA9IqNb8",
        "outputId": "f2997ae4-7bb9-4906-c459-e87057bcea1e"
      },
      "outputs": [
        {
          "name": "stdout",
          "output_type": "stream",
          "text": [
            "Any[1, 2, 3, 4, \"Hello\", \"Geeks\", \"Welcome\"]\n",
            "Any[0, 1, 2, 3, 4, \"Hello\", \"Geeks\", \"Welcome\"]\n",
            "Any[0, 1, 'G', 'F', 'G', 4, \"Hello\", \"Geeks\", \"Welcome\"]\n",
            "Any[0, 1, 'G', 'F', 'G', 1, 2, 3, \"Geeks\", \"Welcome\"]\n",
            "Any[0, 1, 'G', 'F', 'G', 1, 2, 3, 3, \"Geeks\", \"Welcome\"]\n",
            "Any[0, 1, 'G', \"MCMC\", 'F', 'G', 1, 2, 3, 3, \"Geeks\", \"Welcome\"]"
          ]
        }
      ],
      "source": [
        "# Creating a 1D Array\n",
        "Array1 = [1, 2, 3, 4, \"Hello\", \"Geeks\"]\n",
        " \n",
        "# Adding element at the end\n",
        "push!(Array1, \"Welcome\")\n",
        "println(Array1)\n",
        " \n",
        "# Adding element at the beginning\n",
        "pushfirst!(Array1, 0)\n",
        "println(Array1)\n",
        " \n",
        "# Adding element at specific position\n",
        "splice!(Array1, 3:4, \"GFG\")\n",
        "println(Array1)\n",
        " \n",
        "# Adding a range of elements\n",
        "splice!(Array1, 6:7, [1, 2, 3])\n",
        "println(Array1)\n",
        "\n",
        "# Adding a range of elements\n",
        "splice!(Array1, 6:7, [1, 2, 3])\n",
        "println(Array1)\n",
        "\n",
        "insert!(Array1, 4, \"MCMC\")\n",
        "print(Array1)"
      ]
    },
    {
      "cell_type": "markdown",
      "metadata": {
        "id": "qYQPGCwrqMv7"
      },
      "source": [
        "Deleting Elements from a 1D Array"
      ]
    },
    {
      "cell_type": "code",
      "execution_count": null,
      "metadata": {
        "colab": {
          "base_uri": "https://localhost:8080/"
        },
        "id": "WSkWc6cCqNJd",
        "outputId": "94d1ee1c-9ef2-4b66-a04c-f47392fa1c9a"
      },
      "outputs": [
        {
          "name": "stdout",
          "output_type": "stream",
          "text": [
            "Initial Array:\n",
            "Any[1, 2, 3, 4, 5, 6, \"Hello\", \"Geeks\"]\n",
            "\n",
            "Array after deleting last element:\n",
            "Any[1, 2, 3, 4, 5, 6, \"Hello\"]\n",
            "\n",
            "Array after deleting first element:\n",
            "Any[2, 3, 4, 5, 6, \"Hello\"]\n",
            "\n",
            "Array after deleting a specific(e.g. 4th) element:\n",
            "Any[2, 3, 4, 6, \"Hello\"]\n",
            "\n",
            "Array after deleting a range(e.g. 2:4) of elements:\n",
            "Any[2, \"Hello\"]\n",
            "\n",
            "Array after deleting all the elements:\n",
            "Any[]\n"
          ]
        }
      ],
      "source": [
        "# Creating a 1D array\n",
        "Array1 = [1, 2, 3, 4, 5, 6, \"Hello\", \"Geeks\"]\n",
        "println(\"Initial Array:\\n\", Array1)\n",
        " \n",
        "# Delete last element\n",
        "# using pop !()\n",
        "pop!(Array1)\n",
        " \n",
        "# Printing the array\n",
        "println(\"\\nArray after deleting last element:\\n\", Array1)\n",
        " \n",
        "# Delete first element\n",
        "# using popfirst !()\n",
        "popfirst!(Array1)\n",
        "println(\"\\nArray after deleting first element:\\n\", Array1)\n",
        " \n",
        "# Deleting a specific element\n",
        "# using splice !()\n",
        "splice!(Array1, 4)\n",
        " \n",
        "println(\"\\nArray after deleting a specific(e.g. 4th) element:\\n\", Array1)\n",
        " \n",
        "# Deleting a range of elements\n",
        "# using deleteat !()\n",
        "deleteat!(Array1, 2:4)\n",
        " \n",
        "println(\"\\nArray after deleting a range(e.g. 2:4) of elements:\\n\", Array1)\n",
        " \n",
        "# Deleting all the elements\n",
        "# using empty !()\n",
        "empty!(Array1)\n",
        " \n",
        "println(\"\\nArray after deleting all the elements:\\n\", Array1)"
      ]
    },
    {
      "cell_type": "markdown",
      "metadata": {
        "id": "D-6iMWmXoqAh"
      },
      "source": [
        "### 2D Arrays"
      ]
    },
    {
      "cell_type": "code",
      "execution_count": null,
      "metadata": {
        "colab": {
          "base_uri": "https://localhost:8080/"
        },
        "id": "ro8NzXD8oEzo",
        "outputId": "20725fa6-b1d2-4729-f70e-e403a0c37b23"
      },
      "outputs": [
        {
          "data": {
            "text/plain": [
              "2×2 Matrix{Int64}:\n",
              " 1  2\n",
              " 3  4"
            ]
          },
          "execution_count": 24,
          "metadata": {},
          "output_type": "execute_result"
        }
      ],
      "source": [
        "A = [1 2; 3 4]"
      ]
    },
    {
      "cell_type": "markdown",
      "metadata": {
        "id": "g_4r3dk9or6X"
      },
      "source": [
        "Accessing Elements in 2D Arrays"
      ]
    },
    {
      "cell_type": "code",
      "execution_count": null,
      "metadata": {
        "colab": {
          "base_uri": "https://localhost:8080/"
        },
        "id": "_szkR9VHosQv",
        "outputId": "5f7fb9f9-c255-4d42-e7ef-73dc757de129"
      },
      "outputs": [
        {
          "name": "stdout",
          "output_type": "stream",
          "text": [
            "Hello\n",
            "Geeks\n",
            "Geeks\n",
            "Any[\"Hello\", \"Geeks\"]\n",
            "Any[1, 2, \"Hello\"]\n"
          ]
        }
      ],
      "source": [
        "# Creating a 2D Array\n",
        "Array1 = [1 2 \"Hello\"; 3 4 \"Geeks\"]\n",
        " \n",
        "# Passing index value\n",
        "# row-column wise\n",
        "println(Array1[1, 3])\n",
        " \n",
        "# Accessing last value\n",
        "println(Array1[2, end])\n",
        " \n",
        "# Using getindex() function\n",
        "println(getindex(Array1, 2, 3))\n",
        " \n",
        "# Using colon to indicate every row\n",
        "println(Array1[:, 3])\n",
        " \n",
        "# Using colon to indicate every column\n",
        "println(Array1[1, :])"
      ]
    },
    {
      "cell_type": "markdown",
      "metadata": {
        "id": "uuWp-Vc1rME8"
      },
      "source": [
        "Adding Elements to a 2D Array"
      ]
    },
    {
      "cell_type": "code",
      "execution_count": null,
      "metadata": {
        "colab": {
          "base_uri": "https://localhost:8080/"
        },
        "id": "LxVHH-oyrMgb",
        "outputId": "4083f5d4-c7de-461d-9f86-6a80534a79b5"
      },
      "outputs": [
        {
          "name": "stdout",
          "output_type": "stream",
          "text": [
            "Any[1 2 \"Hello\"; 3 4 \"Geeks\"; 5 6 7; 8 9 10]\n"
          ]
        }
      ],
      "source": [
        "# Creating a 2D Array\n",
        "Array1 = [1 2 \"Hello\"; 3 4 \"Geeks\"]\n",
        " \n",
        "# Array of elements which are to be added\n",
        "Array2 = [5 6 7; 8 9 10]\n",
        " \n",
        "# Appending arrays\n",
        "Array3 = [Array1; Array2]\n",
        "println(Array3)"
      ]
    },
    {
      "cell_type": "markdown",
      "metadata": {
        "id": "4iy9Je0xrNBo"
      },
      "source": [
        "Deleting Elements from a 2D Array"
      ]
    },
    {
      "cell_type": "code",
      "execution_count": null,
      "metadata": {
        "colab": {
          "base_uri": "https://localhost:8080/"
        },
        "id": "TQfFIr_IrNpD",
        "outputId": "86668490-7d82-4109-af2a-95c6bd00a835"
      },
      "outputs": [
        {
          "name": "stdout",
          "output_type": "stream",
          "text": [
            "Initial Array:\n",
            "Any[1 2 3; 4 5 6; \"Hello\" \"Geeks\" \"World\"]\n",
            "\n",
            "Zero in place of element to be deleted:\n",
            "Any[1 2 0; 4 5 6; \"Hello\" \"Geeks\" \"World\"]\n",
            "\n",
            "undef in place of element to be deleted:\n",
            "Any[1 2 0; 4 5 UndefInitializer(); \"Hello\" \"Geeks\" \"World\"]\n",
            "\n",
            "Array after deleting 2nd row:\n",
            "Any[1 2 0; \"Hello\" \"Geeks\" \"World\"]\n",
            "\n",
            "Array after deleting 2nd column:\n",
            "Any[1 0; \"Hello\" \"World\"]\n"
          ]
        }
      ],
      "source": [
        "Array2 = [1 2 3; 4 5 6; \"Hello\" \"Geeks\" \"World\"]\n",
        "println(\"Initial Array:\\n\", Array2)\n",
        " \n",
        "# Assigning zero in place of\n",
        "# element to be deleted(e.g. element at 1, 3)\n",
        "Array2[1, 3] = 0\n",
        " \n",
        "println(\"\\nZero in place of element to be deleted:\\n\", Array2)\n",
        " \n",
        "# Assigning undefined value in place of\n",
        "# element to be deleted(e.g. element at 2, 3)\n",
        "Array2[2, 3] = undef\n",
        " \n",
        "println(\"\\nundef in place of element to be deleted:\\n\", Array2)\n",
        " \n",
        "# Deleting entire row of elements(e.g. 2nd row)\n",
        "Array2 = Array2[1:size(Array2, 1) .!= 2, :]\n",
        " \n",
        "println(\"\\nArray after deleting 2nd row:\\n\", Array2)\n",
        " \n",
        "# Deleting entire column of elements(e.g. 2nd column)\n",
        "Array2 = Array2[:, 1:size(Array2, 2) .!= 2]\n",
        " \n",
        "println(\"\\nArray after deleting 2nd column:\\n\", Array2)"
      ]
    },
    {
      "cell_type": "markdown",
      "metadata": {
        "id": "AkUoPUzeoqcN"
      },
      "source": [
        "### 3D Arrays"
      ]
    },
    {
      "cell_type": "code",
      "execution_count": null,
      "metadata": {
        "colab": {
          "base_uri": "https://localhost:8080/"
        },
        "id": "CF1ImqcioFI9",
        "outputId": "f375eb71-e51e-4e00-8f73-bdb8c62dd3b4"
      },
      "outputs": [
        {
          "data": {
            "text/plain": [
              "2×2×2 Array{Int64, 3}:\n",
              "[:, :, 1] =\n",
              " 1  2\n",
              " 3  4\n",
              "\n",
              "[:, :, 2] =\n",
              " 5  6\n",
              " 7  8"
            ]
          },
          "execution_count": 28,
          "metadata": {},
          "output_type": "execute_result"
        }
      ],
      "source": [
        "A = cat([1 2; 3 4], [5 6; 7 8], dims=3)"
      ]
    },
    {
      "cell_type": "markdown",
      "metadata": {
        "id": "YI7KSIv7oth2"
      },
      "source": [
        "Accessing Elements in 3D Arrays"
      ]
    },
    {
      "cell_type": "code",
      "execution_count": null,
      "metadata": {
        "colab": {
          "base_uri": "https://localhost:8080/"
        },
        "id": "6hQfnQO7otqu",
        "outputId": "627a48ea-df41-4cdf-ea59-045d99b59a41"
      },
      "outputs": [
        {
          "name": "stdout",
          "output_type": "stream",
          "text": [
            "Geeks\n",
            "Any[\"hello\" \"Geeks\"; \"Welcome\" \"GFG\"]\n",
            "Any[5 6; 7 8]\n",
            "Geeks\n",
            "Any[\"hello\", \"Geeks\"]\n"
          ]
        }
      ],
      "source": [
        "# Creating a 3D array\n",
        "# using 'cat' command\n",
        "Array3 = cat([1 2; 3 4],\n",
        "              [\"hello\" \"Geeks\"; \"Welcome\" \"GFG\"],\n",
        "              [5 6; 7 8], dims = 3)\n",
        "  \n",
        "# Accessing element using index value\n",
        "println(Array3[1, 2, 2])\n",
        "  \n",
        "# Accessing Range of elements\n",
        "println(Array3[1:2, 1:2, 2])\n",
        "  \n",
        "# Using colon to access every row or column\n",
        "println(Array3[:, :, 3])\n",
        "  \n",
        "# Using getindex function\n",
        "println(getindex(Array3, 1, 2, 2))\n",
        "  \n",
        "# Using getindex with colon operator\n",
        "println(getindex(Array3, 1, :, 2))"
      ]
    },
    {
      "cell_type": "markdown",
      "metadata": {
        "id": "B69zUvJvrOTp"
      },
      "source": [
        "Adding Elements to a 3D Array"
      ]
    },
    {
      "cell_type": "code",
      "execution_count": null,
      "metadata": {
        "colab": {
          "base_uri": "https://localhost:8080/"
        },
        "id": "5dA7-RkRrOi3",
        "outputId": "d779de03-5262-4859-951b-857c17b9e125"
      },
      "outputs": [
        {
          "name": "stdout",
          "output_type": "stream",
          "text": [
            "[1 2; 3 4; 0 2; 1 4;;; \"hello\" \"Geeks\"; \"Welcome\" \"GFG\"; \"GFG\" \"Geeks\"; \"abc\" \"def\"]\n"
          ]
        }
      ],
      "source": [
        "# Creating a 2D Array\n",
        "Array1 = cat([1 2; 3 4],\n",
        "             [\"hello\" \"Geeks\"; \"Welcome\" \"GFG\"],\n",
        "             dims = 3)\n",
        "  \n",
        "# Array of elements which is to be added\n",
        "Array2 = cat([0 2; 1 4],\n",
        "             [\"GFG\" \"Geeks\"; \"abc\" \"def\" ],\n",
        "             dims = 3)\n",
        "  \n",
        "# Appending arrays\n",
        "Array3 = [Array1; Array2]\n",
        "println(Array3)"
      ]
    },
    {
      "cell_type": "markdown",
      "metadata": {
        "id": "sVGiF9rfrO3S"
      },
      "source": [
        "Deleting Elements from a 2D Array"
      ]
    },
    {
      "cell_type": "code",
      "execution_count": null,
      "metadata": {
        "colab": {
          "base_uri": "https://localhost:8080/"
        },
        "id": "9gCVl59SrPIn",
        "outputId": "16ef1c1a-27a7-4b07-bee1-cbac6754d06c"
      },
      "outputs": [
        {
          "name": "stdout",
          "output_type": "stream",
          "text": [
            "Initial 3D Array:\n",
            "[1 2 3; 3 4 5; 5 6 7;;; \"a\" \"b\" \"c\"; \"c\" \"d\" \"e\"; \"e\" \"f\" \"g\"]\n",
            "\n",
            "Zero in place of element to be deleted:\n",
            "[1 2 0; 3 4 5; 5 6 7;;; \"a\" \"b\" \"c\"; \"c\" \"d\" \"e\"; \"e\" \"f\" \"g\"]\n",
            "\n",
            "undef in place of element to be deleted:\n",
            "[1 2 0; 3 4 5; 5 6 7;;; \"a\" \"b\" UndefInitializer(); \"c\" \"d\" \"e\"; \"e\" \"f\" \"g\"]\n",
            "\n",
            "Array after deleting 2nd row:\n",
            "[0 2; 1 4;;; \"GFG\" \"Geeks\"; \"abc\" \"def\"]\n",
            "\n",
            "Array after deleting 2nd column:\n",
            "[0 2; 1 4;;; \"GFG\" \"Geeks\"; \"abc\" \"def\"]\n"
          ]
        }
      ],
      "source": [
        "# Creating a 3D array\n",
        "Array3 = cat([1 2 3; 3 4 5; 5 6 7],\n",
        "             [\"a\" \"b\" \"c\"; \"c\" \"d\" \"e\"; \"e\" \"f\" \"g\"],\n",
        "             dims = 3)\n",
        "println(\"Initial 3D Array:\\n\", Array3)\n",
        "  \n",
        "# Assigning zero in place of\n",
        "# element to be deleted(e.g. element at 1, 3, 1)\n",
        "Array3[1, 3, 1] = 0\n",
        "  \n",
        "println(\"\\nZero in place of element to be deleted:\\n\", Array3)\n",
        "  \n",
        "# Assigning undefined value in place of\n",
        "# element to be deleted(e.g. element at 1, 3, 2)\n",
        "Array3[1, 3, 2] = undef\n",
        "  \n",
        "println(\"\\nundef in place of element to be deleted:\\n\", Array3)\n",
        "  \n",
        "# Deleting entire row of elements(e.g. 2nd row)\n",
        "Array3 = Array3[1:size(Array3, 2) .!= 2, :, :]\n",
        "  \n",
        "println(\"\\nArray after deleting 2nd row:\\n\", Array2)\n",
        "  \n",
        "# Deleting entire column of elements(e.g. 2nd column)\n",
        "Array3 = Array3[:, 1:size(Array3, 2) .!= 2, :]\n",
        "  \n",
        "println(\"\\nArray after deleting 2nd column:\\n\", Array2)"
      ]
    },
    {
      "cell_type": "markdown",
      "metadata": {
        "id": "Hq2Y9ptTr1zw"
      },
      "source": [
        "### Updating Array Elements"
      ]
    },
    {
      "cell_type": "code",
      "execution_count": null,
      "metadata": {
        "colab": {
          "base_uri": "https://localhost:8080/"
        },
        "id": "0kGqdCbQsDLh",
        "outputId": "317d61ba-82ed-4f6a-efd5-94fbe3819be6"
      },
      "outputs": [
        {
          "name": "stdout",
          "output_type": "stream",
          "text": [
            "Existing 1D Array:\n",
            "Any[1, 2, 3, 4, 5, 6, \"a\", \"b\"]\n",
            "\n",
            "Updated 1D Array:\n",
            "Any[1, 2, 3, \"Hello\", 5, 6, \"a\", \"b\"]\n",
            "\n",
            "Existing 2D Array:\n",
            "[1 2 3; 4 5 6]\n",
            "\n",
            "Updated 2D Array:\n",
            "[1 2 3; 4 10 6]\n",
            "\n",
            "Existing 3D Array:\n",
            "[1 2; 3 4;;; \"hello\" \"Geeks\"; \"Welcome\" \"GFG\"]\n",
            "\n",
            "Updated 3D Array:\n",
            "[1 2; 3 4;;; \"hello\" \"Geeks\"; \"Welcome\" \"World\"]\n"
          ]
        }
      ],
      "source": [
        "# Creating a 1D array\n",
        "Array1 = [1, 2, 3, 4, 5, 6, \"a\", \"b\"]\n",
        "println(\"Existing 1D Array:\\n\", Array1)\n",
        "  \n",
        "# Updating value at specific index\n",
        "Array1[4] = \"Hello\"\n",
        "println(\"\\nUpdated 1D Array:\\n\", Array1)\n",
        "  \n",
        "# Creating a 2D array\n",
        "Array2 = [1 2 3; 4 5 6]\n",
        "println(\"\\nExisting 2D Array:\\n\", Array2)\n",
        "  \n",
        "# Updating value at specific index\n",
        "Array2[2, 2] = 10\n",
        "println(\"\\nUpdated 2D Array:\\n\", Array2)\n",
        "  \n",
        "# Creating a 3D array\n",
        "Array3 = cat([1 2; 3 4],\n",
        "             [\"hello\" \"Geeks\"; \"Welcome\" \"GFG\"],\n",
        "             dims = 3)\n",
        "println(\"\\nExisting 3D Array:\\n\", Array3)\n",
        "  \n",
        "# Updating value at specific index\n",
        "Array3[2, 2, 2] = \"World\"\n",
        "println(\"\\nUpdated 3D Array:\\n\", Array3)"
      ]
    },
    {
      "cell_type": "markdown",
      "metadata": {
        "id": "yavwGWO1sKvg"
      },
      "source": [
        "# Functions"
      ]
    },
    {
      "cell_type": "markdown",
      "metadata": {
        "id": "RiTKlu-p7NZ1"
      },
      "source": [
        "Functions are defined using the `function` keyword, pretty much like `def` in Python. The function body has to be closed by the `end` keyword."
      ]
    },
    {
      "cell_type": "code",
      "execution_count": null,
      "metadata": {
        "colab": {
          "base_uri": "https://localhost:8080/"
        },
        "id": "HeNpeywJ7Noz",
        "outputId": "95daa3a6-cf3d-4681-b0d5-96e89a2d1dc5"
      },
      "outputs": [
        {
          "data": {
            "text/plain": [
              "5"
            ]
          },
          "execution_count": 33,
          "metadata": {},
          "output_type": "execute_result"
        }
      ],
      "source": [
        "function f(x,y)\n",
        "  x + y\n",
        "end\n",
        "\n",
        "f(2,3)"
      ]
    },
    {
      "cell_type": "markdown",
      "metadata": {
        "id": "6qlL6i727N41"
      },
      "source": [
        "Simple functions can be defined similarly to a variable."
      ]
    },
    {
      "cell_type": "code",
      "execution_count": null,
      "metadata": {
        "colab": {
          "base_uri": "https://localhost:8080/"
        },
        "id": "OFKjU8OO7OJ_",
        "outputId": "2f81bfd8-6fb0-4e96-e88c-f3da02886ccd"
      },
      "outputs": [
        {
          "data": {
            "text/plain": [
              "5"
            ]
          },
          "execution_count": 34,
          "metadata": {},
          "output_type": "execute_result"
        }
      ],
      "source": [
        "f(x,y) = x + y\n",
        "\n",
        "f(2,3)"
      ]
    },
    {
      "cell_type": "markdown",
      "metadata": {
        "id": "47zQmHlm7Owr"
      },
      "source": [
        "And for some reason, Julia allows you to have weird ASCII characters as function names. Your team will surely thank you for using those!"
      ]
    },
    {
      "cell_type": "code",
      "execution_count": null,
      "metadata": {
        "colab": {
          "base_uri": "https://localhost:8080/"
        },
        "id": "yFtftPXd7PAC",
        "outputId": "9cf1fe4c-7297-4345-ab4a-1abce79ad851"
      },
      "outputs": [
        {
          "data": {
            "text/plain": [
              "5"
            ]
          },
          "execution_count": 35,
          "metadata": {},
          "output_type": "execute_result"
        }
      ],
      "source": [
        "∑(x,y) = x + y\n",
        "\n",
        "∑(2, 3)"
      ]
    },
    {
      "cell_type": "markdown",
      "metadata": {
        "id": "vljeTnX07PW-"
      },
      "source": [
        "You can set the type of both function parameters and output."
      ]
    },
    {
      "cell_type": "code",
      "execution_count": null,
      "metadata": {
        "colab": {
          "base_uri": "https://localhost:8080/",
          "height": 276
        },
        "id": "qZzPDyTx7PwW",
        "outputId": "5b470385-45ce-4d46-8780-236212514656"
      },
      "outputs": [
        {
          "name": "stdout",
          "output_type": "stream",
          "text": [
            "55\n"
          ]
        },
        {
          "ename": "LoadError",
          "evalue": "ignored",
          "output_type": "error",
          "traceback": [
            "MethodError: no method matching g(::Tuple{Int64, Int64})\n\u001b[0mClosest candidates are:\n\u001b[0m  g(::Any, \u001b[91m::Any\u001b[39m) at In[36]:5",
            "",
            "Stacktrace:",
            " [1] top-level scope",
            "   @ In[36]:9",
            " [2] eval",
            "   @ ./boot.jl:373 [inlined]",
            " [3] include_string(mapexpr::typeof(REPL.softscope), mod::Module, code::String, filename::String)",
            "   @ Base ./loading.jl:1196"
          ]
        }
      ],
      "source": [
        "fib(n::Integer) = n ≤ 2 ? one(n) : fib(n-1) + fib(n-2)\n",
        "\n",
        "println(fib(10))\n",
        "\n",
        "function g(x, y)::Int8\n",
        "    return x * y\n",
        "end\n",
        "\n",
        "typeof(g((1, 2)))"
      ]
    },
    {
      "cell_type": "markdown",
      "metadata": {
        "id": "OXZGN_CV9I8l"
      },
      "source": [
        "Positional arguments — These are the commonly used type of argument. Positional arguments are specified by their position and can’t be called without using their name, doing so will result in an error."
      ]
    },
    {
      "cell_type": "code",
      "execution_count": null,
      "metadata": {
        "colab": {
          "base_uri": "https://localhost:8080/"
        },
        "id": "JCzog2Gx9JNI",
        "outputId": "aa9dc3d0-e3af-4013-df67-cb21adc6690d"
      },
      "outputs": [
        {
          "name": "stdout",
          "output_type": "stream",
          "text": [
            "123511052"
          ]
        }
      ],
      "source": [
        "function name_demo(a, b=10; c, d=5)\n",
        "     print(a, b, c, d)\n",
        "end\n",
        "\n",
        "name_demo(1,2,c=3)        # a -> 1, b -> 2, c -> 3\n",
        "name_demo(1,2,3)          # Results in an error\n",
        "name_demo(1, c=5, d=2)    # a -> 1, b -> 10, c -> 5, d -> 2"
      ]
    },
    {
      "cell_type": "markdown",
      "metadata": {
        "id": "4VLudOwE8eYf"
      },
      "source": [
        "Just as in Python, Julia functions can return a `NoneType` called `nothing`."
      ]
    },
    {
      "cell_type": "code",
      "execution_count": null,
      "metadata": {
        "colab": {
          "base_uri": "https://localhost:8080/"
        },
        "id": "DfP5yHAX8eub",
        "outputId": "168e8a6f-6a66-426a-a374-3db06aebcc5f"
      },
      "outputs": [
        {
          "data": {
            "text/plain": [
              "printx (generic function with 1 method)"
            ]
          },
          "execution_count": 39,
          "metadata": {},
          "output_type": "execute_result"
        }
      ],
      "source": [
        "function printx(x)\n",
        "    println(\"x = $x\")\n",
        "    return nothing\n",
        "end"
      ]
    },
    {
      "cell_type": "markdown",
      "metadata": {
        "id": "nC6t-HoJ8fD3"
      },
      "source": [
        "Not surpisingly, Julia has lambdas as well."
      ]
    },
    {
      "cell_type": "code",
      "execution_count": null,
      "metadata": {
        "colab": {
          "base_uri": "https://localhost:8080/"
        },
        "id": "1UmP0K-w8fYC",
        "outputId": "ea0e48b9-c35f-4367-da0e-3edce449f501"
      },
      "outputs": [
        {
          "data": {
            "text/plain": [
              "3-element Vector{Int64}:\n",
              "  2\n",
              " 14\n",
              " -2"
            ]
          },
          "execution_count": 40,
          "metadata": {},
          "output_type": "execute_result"
        }
      ],
      "source": [
        "x -> x^2 + 2*x - 1\n",
        "\n",
        "map(x -> x^2 + 2*x - 1, [1, 3, -1])"
      ]
    },
    {
      "cell_type": "markdown",
      "metadata": {
        "id": "S_vQjnn_9lrK"
      },
      "source": [
        "In Julia, it's a convention to append ! to names of functions that modify their arguments. The reason is Julia function arguments are passed-by-sharing, without this \"bang\" convention, it's not easy to know whether a function will change the content of input arguments or not.\n",
        "\n",
        "Julia Base uses this convention throughout and contains examples of functions with both copying and modifying forms (e.g., `sort` and `sort!`), and others which are just modifying (e.g., `push!`, `pop!`, `splice!`). It is typical for such functions to also return the modified array for convenience.\n"
      ]
    },
    {
      "cell_type": "code",
      "execution_count": null,
      "metadata": {
        "colab": {
          "base_uri": "https://localhost:8080/"
        },
        "id": "WyHCePtO9lLq",
        "outputId": "378ca182-6955-4405-d4b0-b5072f3c78ea"
      },
      "outputs": [
        {
          "data": {
            "text/plain": [
              "double! (generic function with 1 method)"
            ]
          },
          "execution_count": 41,
          "metadata": {},
          "output_type": "execute_result"
        }
      ],
      "source": [
        "function double!(a::AbstractArray{<:Number})\n",
        "    for i = firstindex(a):lastindex(a)\n",
        "        a[i] *= 2\n",
        "    end\n",
        "end"
      ]
    },
    {
      "cell_type": "markdown",
      "metadata": {
        "id": "Ltp6WFGZOYIl"
      },
      "source": [
        "The `.` notation in Julia is used to vectorize functions. \n",
        "\n",
        "For functions, the dot always goes behind the function name.\n",
        "\n",
        "For operators, like `*` or `+` for example, the dot goes before the operator."
      ]
    },
    {
      "cell_type": "code",
      "execution_count": null,
      "metadata": {
        "colab": {
          "base_uri": "https://localhost:8080/"
        },
        "id": "erp_JBjCF8NJ",
        "outputId": "9db439fd-54b5-42a5-f747-d562b9edf1db"
      },
      "outputs": [
        {
          "data": {
            "text/plain": [
              "3-element Vector{Int64}:\n",
              " 2\n",
              " 3\n",
              " 4"
            ]
          },
          "execution_count": 42,
          "metadata": {},
          "output_type": "execute_result"
        }
      ],
      "source": [
        "function add_one!(x)\n",
        "    x .= x .+ 1\n",
        "end\n",
        "\n",
        "x = [1,2,3]\n",
        "add_one!(x)"
      ]
    },
    {
      "cell_type": "markdown",
      "metadata": {
        "id": "BkGVovaIsM1X"
      },
      "source": [
        "# DataFrames"
      ]
    },
    {
      "cell_type": "markdown",
      "metadata": {
        "id": "OSm-v5j8DC1h"
      },
      "source": [
        "Load all necessary libraries for this section."
      ]
    },
    {
      "cell_type": "code",
      "execution_count": null,
      "metadata": {
        "colab": {
          "base_uri": "https://localhost:8080/",
          "height": 258
        },
        "id": "ikzs9U3YSTuo",
        "outputId": "66aab72e-a970-4fed-ab57-6918932476eb"
      },
      "outputs": [
        {
          "ename": "LoadError",
          "evalue": "ignored",
          "output_type": "error",
          "traceback": [
            "ArgumentError: Package DataFrameMeta not found in current path:\n- Run `import Pkg; Pkg.add(\"DataFrameMeta\")` to install the DataFrameMeta package.\n",
            "",
            "Stacktrace:",
            " [1] require(into::Module, mod::Symbol)",
            "   @ Base ./loading.jl:967",
            " [2] eval",
            "   @ ./boot.jl:373 [inlined]",
            " [3] include_string(mapexpr::typeof(REPL.softscope), mod::Module, code::String, filename::String)",
            "   @ Base ./loading.jl:1196"
          ]
        }
      ],
      "source": [
        "using DataFrames, HTTP, CSV, DataFrameMeta"
      ]
    },
    {
      "cell_type": "markdown",
      "metadata": {
        "id": "Y_xz052TCNxM"
      },
      "source": [
        "For those new to the concept of DataFrames, we recommend you take a crash course on them by reading [this description by DataBricks](https://www.databricks.com/glossary/what-are-dataframes#:~:text=A%20DataFrame%20is%20a%20data,storing%20and%20working%20with%20data.) and/or [this overview by GeeksForGeeks](https://www.geeksforgeeks.org/python-pandas-dataframe/).\n",
        "\n",
        "Moving on, there are multiple ways to create a DataFrame in Julia."
      ]
    },
    {
      "cell_type": "code",
      "execution_count": null,
      "metadata": {
        "colab": {
          "base_uri": "https://localhost:8080/",
          "height": 222
        },
        "id": "fGprFEGHffsU",
        "outputId": "e3213f0d-f16a-4239-dca5-f7f526270009"
      },
      "outputs": [
        {
          "ename": "LoadError",
          "evalue": "ignored",
          "output_type": "error",
          "traceback": [
            "UndefVarError: mat not defined",
            "",
            "Stacktrace:",
            " [1] top-level scope",
            "   @ In[65]:32",
            " [2] eval",
            "   @ ./boot.jl:373 [inlined]",
            " [3] include_string(mapexpr::typeof(REPL.softscope), mod::Module, code::String, filename::String)",
            "   @ Base ./loading.jl:1196"
          ]
        }
      ],
      "source": [
        "#from a string\n",
        "supplytable = CSV.read(IOBuffer(\"\"\"\n",
        "prod      Epinal Bordeaux Grenoble\n",
        "Fuelwood  400    700      800\n",
        "Sawnwood  800    1600     1800\n",
        "Pannels   200    300      300\n",
        "\"\"\"), DataFrame, delim=\" \", ignorerepeated=true, copycols=true)\n",
        "\n",
        "#from a file\n",
        "#file = your_local_file_path_here\n",
        "#myData = CSV.read(file, Dataframe; delim=';', missingstring=\"NA\", delim=\";\", decimal=',', copycols=true)\n",
        "\n",
        "#from a server-hosted file\n",
        "resp = HTTP.request(\"GET\", \"https://data.cityofnewyork.us/api/views/kku6-nxdu/rows.csv?accessType=DOWNLOAD\")\n",
        "df1 = CSV.read(IOBuffer(String(resp.body)), DataFrame)\n",
        "\n",
        "#from an Array\n",
        "space_companies = [\"SpaceX\", \"Blue Origin\", \"Boeing\", \"Sierra Nevada Corporation\"]\n",
        "df = DataFrame([space_companies], [:space_brands])\n",
        "\n",
        "#from multiple arrays\n",
        "df2 = DataFrame(\n",
        "  colour = [\"green\",\"blue\",\"white\",\"green\",\"green\"],\n",
        "  shape  = [\"circle\", \"triangle\", \"square\",\"square\",\"circle\"],\n",
        "  border = [\"dotted\", \"line\", \"line\", \"line\", \"dotted\"],\n",
        "  area   = [1.1, 2.3, 3.1, missing, 5.2])\n",
        "\n",
        "#from nothing\n",
        "df3 = DataFrame(A = Int64[], B = Float64[])\n",
        "\n",
        "#or from matrices\n",
        "df4 = DataFrame([[mat[:,i]...] for i in 1:size(mat,2)], Symbol.(headerstrs))\n",
        "\n",
        "df5 = DataFrame([[mat[2:end,i]...] for i in 1:size(mat,2)], Symbol.(mat[1,:]))"
      ]
    },
    {
      "cell_type": "markdown",
      "metadata": {
        "id": "lCZecXnKSmo_"
      },
      "source": [
        "There are a myriad operations that can be done on a DataFrame. Below we list only a few of them. For more examples please consult the link at the end of the section.\n",
        "\n",
        "We start by providing a number of nuclear operations on DataFrames."
      ]
    },
    {
      "cell_type": "code",
      "execution_count": null,
      "metadata": {
        "colab": {
          "base_uri": "https://localhost:8080/"
        },
        "id": "7BeFKPdbSmUU",
        "outputId": "70e8f89a-5449-471a-e562-78c083fc3bd9"
      },
      "outputs": [
        {
          "name": "stdout",
          "output_type": "stream",
          "text": [
            "\u001b[1m4×1 DataFrame\u001b[0m\n",
            "\u001b[1m Row \u001b[0m│\u001b[1m space_brands              \u001b[0m\n",
            "     │\u001b[90m String                    \u001b[0m\n",
            "─────┼───────────────────────────\n",
            "   1 │ SpaceX\n",
            "   2 │ Blue Origin\n",
            "   3 │ Boeing\n",
            "   4 │ Sierra Nevada Corporation"
          ]
        },
        {
          "data": {
            "text/plain": [
              "1"
            ]
          },
          "execution_count": 88,
          "metadata": {},
          "output_type": "execute_result"
        }
      ],
      "source": [
        "first(df, 6)\n",
        "\n",
        "show(df, allrows=true, allcols=true)\n",
        "\n",
        "last(df, 6)\n",
        "\n",
        "describe(df)\n",
        "\n",
        "unique(df.space_brands)\n",
        "\n",
        "names(df) # returns array of column names\n",
        "\n",
        "[eltype(col) for col = eachcol(df)] # returns an array of column types\n",
        "\n",
        "size(df)\n",
        "\n",
        "size(df)[1]\n",
        "\n",
        "size(df)[2]\n",
        "\n",
        "#for c in eachcol(df) # iterates over each column\n",
        "\n",
        "#for r in eachrow(df) # iterates over each row"
      ]
    },
    {
      "cell_type": "markdown",
      "metadata": {
        "id": "6Q4lzHgCdDB2"
      },
      "source": [
        "Some examples of manipulating DataFrame metadata."
      ]
    },
    {
      "cell_type": "code",
      "execution_count": null,
      "metadata": {
        "colab": {
          "base_uri": "https://localhost:8080/"
        },
        "id": "_UZPReYpdDR6",
        "outputId": "8513f313-5767-4703-bbe8-eba71fd69af3"
      },
      "outputs": [
        {
          "name": "stdout",
          "output_type": "stream",
          "text": [
            "\u001b[1m4×3 DataFrame\u001b[0m\n",
            "\u001b[1m Row \u001b[0m│\u001b[1m item           \u001b[0m\u001b[1m id    \u001b[0m\u001b[1m type       \u001b[0m\n",
            "     │\u001b[90m String         \u001b[0m\u001b[90m Int64 \u001b[0m\u001b[90m String     \u001b[0m\n",
            "─────┼───────────────────────────────────\n",
            "   1 │ Mars Rover        100  Rover\n",
            "   2 │ Venus Explorer    101  Spaceship\n",
            "   3 │ Lunar Rover       102  Rover\n",
            "   4 │ 30% Sun Filter    103  Sun Filter\n",
            "\u001b[1m4×4 DataFrame\u001b[0m\n",
            "\u001b[1m Row \u001b[0m│\u001b[1m item           \u001b[0m\u001b[1m id    \u001b[0m\u001b[1m type       \u001b[0m\u001b[1m condition \u001b[0m\n",
            "     │\u001b[90m String         \u001b[0m\u001b[90m Int64 \u001b[0m\u001b[90m String     \u001b[0m\u001b[90m String    \u001b[0m\n",
            "─────┼──────────────────────────────────────────────\n",
            "   1 │ Mars Rover        100  Rover       Fair\n",
            "   2 │ Venus Explorer    101  Spaceship   Excellent\n",
            "   3 │ Lunar Rover       102  Rover       Fair\n",
            "   4 │ 30% Sun Filter    103  Sun Filter  Poor"
          ]
        },
        {
          "data": {
            "text/plain": [
              "\"inventory.csv\""
            ]
          },
          "execution_count": 89,
          "metadata": {},
          "output_type": "execute_result"
        }
      ],
      "source": [
        "inventory = DataFrame(\n",
        "\titem = [\"Mars Rover\", \"Venus Explorer\", \"Lunar Rover\", \"30% Sun Filter\"],\n",
        "\tid = [100, 101, 102, 103],\n",
        "\tkind = [\"Rover\", \"Spaceship\", \"Rover\", \"Sun Filter\"])\n",
        "\n",
        "#renaming a DataFrame column.\n",
        "rename!(inventory, :kind => :type)\n",
        "\n",
        "println(inventory)\n",
        "\n",
        "#creating a new DataFrame column.\n",
        "condition = [\"Fair\", \"Excellent\", \"Fair\", \"Poor\"]\n",
        "\n",
        "inventory[!, :condition] = condition\n",
        "\n",
        "print(inventory)\n",
        "\n",
        "#writing a DataFrame to a file.\n",
        "CSV.write(\"inventory.csv\", inventory)"
      ]
    },
    {
      "cell_type": "markdown",
      "metadata": {
        "id": "hFsh4XyOe40Q"
      },
      "source": [
        "Filtering a DataFrame by some criteria."
      ]
    },
    {
      "cell_type": "code",
      "execution_count": null,
      "metadata": {
        "colab": {
          "base_uri": "https://localhost:8080/",
          "height": 127
        },
        "id": "3cU_d6vgewpV",
        "outputId": "a8168bd9-ac5c-4a5c-efd8-b80b299a627c"
      },
      "outputs": [
        {
          "data": {
            "text/html": [
              "<div><div style = \"float: left;\"><span>2×4 DataFrame</span></div><div style = \"clear: both;\"></div></div><div class = \"data-frame\" style = \"overflow-x: scroll;\"><table class = \"data-frame\" style = \"margin-bottom: 6px;\"><thead><tr class = \"header\"><th class = \"rowNumber\" style = \"font-weight: bold; text-align: right;\">Row</th><th style = \"text-align: left;\">item</th><th style = \"text-align: left;\">id</th><th style = \"text-align: left;\">type</th><th style = \"text-align: left;\">condition</th></tr><tr class = \"subheader headerLastRow\"><th class = \"rowNumber\" style = \"font-weight: bold; text-align: right;\"></th><th title = \"String\" style = \"text-align: left;\">String</th><th title = \"Int64\" style = \"text-align: left;\">Int64</th><th title = \"String\" style = \"text-align: left;\">String</th><th title = \"String\" style = \"text-align: left;\">String</th></tr></thead><tbody><tr><td class = \"rowNumber\" style = \"font-weight: bold; text-align: right;\">1</td><td style = \"text-align: left;\">Mars Rover</td><td style = \"text-align: right;\">100</td><td style = \"text-align: left;\">Rover</td><td style = \"text-align: left;\">Fair</td></tr><tr><td class = \"rowNumber\" style = \"font-weight: bold; text-align: right;\">2</td><td style = \"text-align: left;\">Lunar Rover</td><td style = \"text-align: right;\">102</td><td style = \"text-align: left;\">Rover</td><td style = \"text-align: left;\">Fair</td></tr></tbody></table></div>"
            ],
            "text/latex": "\\begin{tabular}{r|cccc}\n\t& item & id & type & condition\\\\\n\t\\hline\n\t& String & Int64 & String & String\\\\\n\t\\hline\n\t1 & Mars Rover & 100 & Rover & Fair \\\\\n\t2 & Lunar Rover & 102 & Rover & Fair \\\\\n\\end{tabular}\n",
            "text/plain": [
              "\u001b[1m2×4 DataFrame\u001b[0m\n",
              "\u001b[1m Row \u001b[0m│\u001b[1m item        \u001b[0m\u001b[1m id    \u001b[0m\u001b[1m type   \u001b[0m\u001b[1m condition \u001b[0m\n",
              "     │\u001b[90m String      \u001b[0m\u001b[90m Int64 \u001b[0m\u001b[90m String \u001b[0m\u001b[90m String    \u001b[0m\n",
              "─────┼───────────────────────────────────────\n",
              "   1 │ Mars Rover     100  Rover   Fair\n",
              "   2 │ Lunar Rover    102  Rover   Fair"
            ]
          },
          "execution_count": 90,
          "metadata": {},
          "output_type": "execute_result"
        }
      ],
      "source": [
        "rovers = filter(\n",
        "\tx -> any(occursin.([\"Rover\"], x.item)),\n",
        "\tinventory\n",
        ")\n",
        "\n",
        "rovers"
      ]
    },
    {
      "cell_type": "markdown",
      "metadata": {
        "id": "EVFk4V0fdDiS"
      },
      "source": [
        "Merging two DataFrames."
      ]
    },
    {
      "cell_type": "code",
      "execution_count": null,
      "metadata": {
        "colab": {
          "base_uri": "https://localhost:8080/",
          "height": 169
        },
        "id": "t4T6B2wbdDw-",
        "outputId": "1bb9b645-86de-43fd-e769-80686d15181b"
      },
      "outputs": [
        {
          "data": {
            "text/html": [
              "<div><div style = \"float: left;\"><span>4×5 DataFrame</span></div><div style = \"clear: both;\"></div></div><div class = \"data-frame\" style = \"overflow-x: scroll;\"><table class = \"data-frame\" style = \"margin-bottom: 6px;\"><thead><tr class = \"header\"><th class = \"rowNumber\" style = \"font-weight: bold; text-align: right;\">Row</th><th style = \"text-align: left;\">item</th><th style = \"text-align: left;\">id</th><th style = \"text-align: left;\">type</th><th style = \"text-align: left;\">condition</th><th style = \"text-align: left;\">sku</th></tr><tr class = \"subheader headerLastRow\"><th class = \"rowNumber\" style = \"font-weight: bold; text-align: right;\"></th><th title = \"String\" style = \"text-align: left;\">String</th><th title = \"Union{Missing, Int64}\" style = \"text-align: left;\">Int64?</th><th title = \"Union{Missing, String}\" style = \"text-align: left;\">String?</th><th title = \"Union{Missing, String}\" style = \"text-align: left;\">String?</th><th title = \"Union{Missing, Int64}\" style = \"text-align: left;\">Int64?</th></tr></thead><tbody><tr><td class = \"rowNumber\" style = \"font-weight: bold; text-align: right;\">1</td><td style = \"text-align: left;\">Mars Rover</td><td style = \"text-align: right;\">100</td><td style = \"text-align: left;\">Rover</td><td style = \"text-align: left;\">Fair</td><td style = \"text-align: right;\">34566</td></tr><tr><td class = \"rowNumber\" style = \"font-weight: bold; text-align: right;\">2</td><td style = \"text-align: left;\">Venus Explorer</td><td style = \"text-align: right;\">101</td><td style = \"text-align: left;\">Spaceship</td><td style = \"text-align: left;\">Excellent</td><td style = \"text-align: right;\">78945</td></tr><tr><td class = \"rowNumber\" style = \"font-weight: bold; text-align: right;\">3</td><td style = \"text-align: left;\">Lunar Rover</td><td style = \"text-align: right;\">102</td><td style = \"text-align: left;\">Rover</td><td style = \"text-align: left;\">Fair</td><td style = \"text-align: right;\">15179</td></tr><tr><td class = \"rowNumber\" style = \"font-weight: bold; text-align: right;\">4</td><td style = \"text-align: left;\">30% Sun Filter</td><td style = \"text-align: right;\">103</td><td style = \"text-align: left;\">Sun Filter</td><td style = \"text-align: left;\">Poor</td><td style = \"text-align: right;\">77254</td></tr></tbody></table></div>"
            ],
            "text/latex": "\\begin{tabular}{r|ccccc}\n\t& item & id & type & condition & sku\\\\\n\t\\hline\n\t& String & Int64? & String? & String? & Int64?\\\\\n\t\\hline\n\t1 & Mars Rover & 100 & Rover & Fair & 34566 \\\\\n\t2 & Venus Explorer & 101 & Spaceship & Excellent & 78945 \\\\\n\t3 & Lunar Rover & 102 & Rover & Fair & 15179 \\\\\n\t4 & 30\\% Sun Filter & 103 & Sun Filter & Poor & 77254 \\\\\n\\end{tabular}\n",
            "text/plain": [
              "\u001b[1m4×5 DataFrame\u001b[0m\n",
              "\u001b[1m Row \u001b[0m│\u001b[1m item           \u001b[0m\u001b[1m id     \u001b[0m\u001b[1m type       \u001b[0m\u001b[1m condition \u001b[0m\u001b[1m sku    \u001b[0m\n",
              "     │\u001b[90m String         \u001b[0m\u001b[90m Int64? \u001b[0m\u001b[90m String?    \u001b[0m\u001b[90m String?   \u001b[0m\u001b[90m Int64? \u001b[0m\n",
              "─────┼───────────────────────────────────────────────────────\n",
              "   1 │ Mars Rover         100  Rover       Fair        34566\n",
              "   2 │ Venus Explorer     101  Spaceship   Excellent   78945\n",
              "   3 │ Lunar Rover        102  Rover       Fair        15179\n",
              "   4 │ 30% Sun Filter     103  Sun Filter  Poor        77254"
            ]
          },
          "execution_count": 91,
          "metadata": {},
          "output_type": "execute_result"
        }
      ],
      "source": [
        "sku = DataFrame(\n",
        "\titem = [\"Mars Rover\", \"Venus Explorer\", \"Lunar Rover\", \"30% Sun Filter\"],\n",
        "\tsku = [34566, 78945, 15179, 77254])\n",
        "\n",
        "inventory_sku = outerjoin(inventory, sku, on = :item)\n",
        "\n",
        "inventory_sku"
      ]
    },
    {
      "cell_type": "markdown",
      "metadata": {
        "id": "itL6NRVIG9s2"
      },
      "source": [
        "[Here](https://github.com/bkamins/Julia-DataFrames-Tutorial) are a lot more things that you can do to or with DataFrames and [here](https://www.nelsontang.com/blog/2022-03-27-sql-to-julia) you can find a table operation cheatsheet. We recommend bookmarking these link, it might prove useful in the future."
      ]
    },
    {
      "cell_type": "markdown",
      "metadata": {
        "id": "HNBvTLcnyjka"
      },
      "source": [
        "# Plots"
      ]
    },
    {
      "cell_type": "markdown",
      "metadata": {
        "id": "eI-he1-aiLMf"
      },
      "source": [
        "Below we provide a sample of Julia's plotting functionality. For more examples please consult the link at the end of the section.\n",
        "\n",
        "We start by simply calling the plot function for some random 1D data."
      ]
    },
    {
      "cell_type": "code",
      "execution_count": null,
      "metadata": {
        "id": "d4X71Y71iKtx"
      },
      "outputs": [],
      "source": [
        "using Plots\n",
        "data = rand(10)\n",
        "f() = plot(data)\n",
        "@show f()"
      ]
    },
    {
      "cell_type": "markdown",
      "metadata": {
        "id": "JG6d34GfiMIA"
      },
      "source": [
        "We can add more than 1 graph to the same plot. In Julia's plotting backend, every column of a matrix or DataFrame represents a 'series'."
      ]
    },
    {
      "cell_type": "code",
      "execution_count": null,
      "metadata": {
        "id": "BvX8IcsqiMan"
      },
      "outputs": [],
      "source": [
        "using Plots \n",
        "data2 = rand(10, 2); # 10x2 random mat\n",
        "plot(data2)"
      ]
    },
    {
      "cell_type": "markdown",
      "metadata": {
        "id": "zQezuuR9iZxM"
      },
      "source": [
        "We can also add to the most recent plot using plot!()"
      ]
    },
    {
      "cell_type": "code",
      "execution_count": null,
      "metadata": {
        "id": "pZ6Y2urmiaA8"
      },
      "outputs": [],
      "source": [
        "plot!(rand(10))"
      ]
    },
    {
      "cell_type": "markdown",
      "metadata": {
        "id": "5lS_Q88IiaYo"
      },
      "source": [
        "Although we usually will want to add to a specific plot."
      ]
    },
    {
      "cell_type": "code",
      "execution_count": null,
      "metadata": {
        "id": "h_XIyx5wiams"
      },
      "outputs": [],
      "source": [
        "plot!(f(), rand(10))"
      ]
    },
    {
      "cell_type": "markdown",
      "metadata": {
        "id": "cUxl1ah8i13Q"
      },
      "source": [
        "Continuing we present several types of plots and how to draw them.\n",
        "\n",
        "Pseudo-Time-Series-like plot."
      ]
    },
    {
      "cell_type": "code",
      "execution_count": null,
      "metadata": {
        "id": "WlagGprPi1Qt"
      },
      "outputs": [],
      "source": [
        "data = hcat(Array(0:0.01:1),Array(1:-0.01:0)) #concatenate along dimension 2\n",
        "data += .05*randn(size(data))\n",
        "\n",
        "plot(data, title=\"Pizza Intake vs Regret\", xaxis = (font(5), \"Slices Eaten\", 0:25:101, :log10), \n",
        "     ylabel=\"Regret\",line=(0.5, 3), label=[\"Charlie\" \"Omar\"])"
      ]
    },
    {
      "cell_type": "markdown",
      "metadata": {
        "id": "3TvYKO00i2ub"
      },
      "source": [
        "Multiple window plot."
      ]
    },
    {
      "cell_type": "code",
      "execution_count": null,
      "metadata": {
        "id": "nvjydGFTi2MM"
      },
      "outputs": [],
      "source": [
        "p1() = plot(sin, 0:0.01:2*pi)\n",
        "p2() = plot(0:0.01:2*pi, sin)\n",
        "\n",
        "x = Array(0:0.01:2*pi);\n",
        "y = sin.(x); # elementwise sin(x)\n",
        "\n",
        "p3() = plot(x,y)\n",
        "p4() = plot(y,x)\n",
        "\n",
        "\n",
        "plot(p1(), p2(), p3(), p4())"
      ]
    },
    {
      "cell_type": "markdown",
      "metadata": {
        "id": "50BDOr9njTmD"
      },
      "source": [
        "Dynamic plots."
      ]
    },
    {
      "cell_type": "code",
      "execution_count": null,
      "metadata": {
        "id": "wWKjEVj5jTZM"
      },
      "outputs": [],
      "source": [
        "using Plots\n",
        "default(legend = false)\n",
        "x = y = range(-5, 5, length = 40)\n",
        "zs = zeros(0, 40)\n",
        "n = 100\n",
        "\n",
        "@gif for i in range(0, stop = 2π, length = n)\n",
        "    f(x, y) = sin(x + 10sin(i)) + cos(y)\n",
        "\n",
        "    # create a plot with 3 subplots and a custom layout\n",
        "    l = @layout [a{0.7w} b; c{0.2h}]\n",
        "    p = plot(x, y, f, st = [:surface, :contourf], layout = l)\n",
        "\n",
        "    # induce a slight oscillating camera angle sweep, in degrees (azimuth, altitude)\n",
        "    plot!(p[1], camera = (10 * (1 + cos(i)), 40))\n",
        "\n",
        "    # add a tracking line\n",
        "    fixed_x = zeros(40)\n",
        "    z = map(f, fixed_x, y)\n",
        "    plot!(p[1], fixed_x, y, z, line = (:black, 5, 0.2))\n",
        "    vline!(p[2], [0], line = (:black, 5))\n",
        "\n",
        "    # add to and show the tracked values over time\n",
        "    global zs = vcat(zs, z')\n",
        "    plot!(p[3], zs, alpha = 0.2, palette = cgrad(:blues).colors)\n",
        "end"
      ]
    },
    {
      "cell_type": "markdown",
      "metadata": {
        "id": "Bi3mePu3jb6A"
      },
      "source": [
        "Dataset plots."
      ]
    },
    {
      "cell_type": "code",
      "execution_count": null,
      "metadata": {
        "id": "54aIAMhDjbRZ"
      },
      "outputs": [],
      "source": [
        "# load a dataset\n",
        "using RDatasets\n",
        "iris = dataset(\"datasets\", \"iris\");\n",
        "\n",
        "# load the StatsPlots recipes (for DataFrames) available via:\n",
        "using StatsPlots\n",
        "\n",
        "# Scatter plot with some custom settings\n",
        "@df iris scatter(\n",
        "    :SepalLength,\n",
        "    :SepalWidth,\n",
        "    group = :Species,\n",
        "    title = \"My awesome plot\",\n",
        "    xlabel = \"Length\",\n",
        "    ylabel = \"Width\",\n",
        "    m = (0.5, [:cross :hex :star7], 12),\n",
        "    bg = RGB(0.2, 0.2, 0.2)\n",
        ")"
      ]
    },
    {
      "cell_type": "markdown",
      "metadata": {
        "id": "gBI_7POgMUSe"
      },
      "source": [
        "[Here](https://www.math.purdue.edu/~allen450/Plotting-Tutorial.html) you can find many more plotting examples using Julia. Since the language is compatible with the PyPlot library, we also recommend taking a look at [Python Graph Gallery.](https://www.python-graph-gallery.com/)"
      ]
    },
    {
      "cell_type": "markdown",
      "metadata": {
        "id": "w61CPK3MsNx3"
      },
      "source": [
        "# Gen\n",
        "\n",
        "Gen is Julia's open-source framework for generative modeling and probabilistic inference. In the following few cells we are going to go through some of the most basic blocks of creating ingerence models in Julia."
      ]
    },
    {
      "cell_type": "markdown",
      "metadata": {
        "id": "PfdKLqw-fiwH"
      },
      "source": [
        "Generative functions written are prefixed with the `@gen` keyword.\n",
        "\n",
        "The function represents the data-generating process we are modeling. Conceptually, every time we run the function, it should generate a new “synthetic dataset” in line with our assumptions. Along the way, it will make random choices; each random choice it makes can be thought of as adding a random variable to a probabilistic model."
      ]
    },
    {
      "cell_type": "code",
      "execution_count": null,
      "metadata": {
        "colab": {
          "base_uri": "https://localhost:8080/"
        },
        "id": "PedxEzNVfi-o",
        "outputId": "2d81635d-16b0-426f-b090-68eec577fb74"
      },
      "outputs": [
        {
          "name": "stderr",
          "output_type": "stream",
          "text": [
            "┌ Info: Precompiling Gen [ea4f424c-a589-11e8-07c0-fd5c91b9da4a]\n",
            "└ @ Base loading.jl:1423\n"
          ]
        },
        {
          "data": {
            "text/plain": [
              "DynamicDSLFunction{Any}(Dict{Symbol, Any}(), Dict{Symbol, Any}(), Type[Any], false, Union{Nothing, Some{Any}}[nothing], var\"##function_name_here#348\", Bool[0], false)"
            ]
          },
          "execution_count": 137,
          "metadata": {},
          "output_type": "execute_result"
        }
      ],
      "source": [
        "using Gen\n",
        "\n",
        "@gen function function_name_here(input_arguments)\n",
        "    # Function body...\n",
        "    return nothing\n",
        "end"
      ]
    },
    {
      "cell_type": "markdown",
      "metadata": {
        "id": "nJdz-tHqfjSI"
      },
      "source": [
        "Withing these functions you can use most of Julia's functions and functionalities. However, you'll have to keep an eye on your `variables`. That is because only specific variables enter the generative process, which are called `random variables`.\n",
        "\n",
        "Below you may find a random variable which is instantiated using the normal distribution parametrized with mean 0 and standard deviation 1:\n",
        "\n",
        "\n",
        "\n",
        "```\n",
        "my_variable = [:my_variable_address] ~ normal(0, 1)\n",
        "```\n",
        "\n",
        "\n"
      ]
    },
    {
      "cell_type": "markdown",
      "metadata": {
        "id": "UN5oPJJIj0wC"
      },
      "source": [
        "Every random choice must be given an address, which can be an arbitrary value—but we often use a symbol. (`:my_variable_address` is a symbol in the Julia language.) Think of the address as the name of a particular random choice, which is distinct from the name of the variable.\n",
        "\n",
        "The following cell manipulates a single variable, x, but may make up to two random choices: `:initial_x` and `:addition_to_x`:\n",
        "\n",
        "\n",
        "\n",
        "```\n",
        "x = {:initial_x} ~ normal(0, 1)\n",
        "if x < 0\n",
        "    x = x + ({:addition_to_x} ~ normal(2, 1))\n",
        "end\n",
        "```\n",
        "\n"
      ]
    },
    {
      "cell_type": "markdown",
      "metadata": {
        "id": "-oBhZpnIj1FQ"
      },
      "source": [
        "The generative function below represents a probabilistic model of a linear relationship in the xOy plane. Given a set of `x` coordinates, it randomly chooses a line in the plane and generates corresponding  coordinates so that each `(x,y)` is near the line. We might think of this function as modeling house prices as a function of square footage, or the measured volume of a gas as a function of its measured temperature."
      ]
    },
    {
      "cell_type": "code",
      "execution_count": null,
      "metadata": {
        "id": "zYIKKVjAj1SF"
      },
      "outputs": [],
      "source": [
        "@gen function line_model(xs::Vector{Float64})\n",
        "    # We begin by sampling a slope and intercept for the line.\n",
        "    # Before we have seen the data, we don't know the values of\n",
        "    # these parameters, so we treat them as random choices. The\n",
        "    # distributions they are drawn from represent our prior beliefs\n",
        "    # about the parameters: in this case, that neither the slope nor the\n",
        "    # intercept will be more than a couple points away from 0.\n",
        "    slope = ({:slope} ~ normal(0, 1))\n",
        "    intercept = ({:intercept} ~ normal(0, 2))\n",
        "    \n",
        "    # We define a function to compute y for a given x\n",
        "    function y(x)\n",
        "        return slope * x + intercept\n",
        "    end\n",
        "\n",
        "    # Given the slope and intercept, we can sample y coordinates\n",
        "    # for each of the x coordinates in our input vector.\n",
        "    for (i, x) in enumerate(xs)\n",
        "        # Note that we name each random choice in this loop\n",
        "        # slightly differently: the first time through,\n",
        "        # the name (:y, 1) will be used, then (:y, 2) for\n",
        "        # the second point, and so on.\n",
        "        ({(:y, i)} ~ normal(y(x), 0.1))\n",
        "    end\n",
        "\n",
        "    # Most of the time, we don't care about the return\n",
        "    # value of a model, only the random choices it makes.\n",
        "    # It can sometimems be useful to return something\n",
        "    # meaningful, however; here, we return the function `y`.\n",
        "    return y\n",
        "end;"
      ]
    },
    {
      "cell_type": "markdown",
      "metadata": {
        "id": "-_1k7stJj1fT"
      },
      "source": [
        "Here we create a vector of x-coordinates, which are the argument for our generative function.\n",
        "\n",
        "Given this vector, the generative function samples a random choice representing the slope of a line from a normal distribution with mean 0 and standard deviation 1, and a random choice representing the intercept of a line from a normal distribution with mean 0 and standard deviation 2. In Bayesian statistics terms, these distributions are the prior distributions of the slope and intercept respectively. Then, the function samples values for the y-coordinates corresponding to each of the provided x-coordinates.\n",
        "\n",
        "This generative function returns a function y encoding the slope and intercept. We can run the model like we run a regular Julia function:"
      ]
    },
    {
      "cell_type": "code",
      "execution_count": null,
      "metadata": {
        "colab": {
          "base_uri": "https://localhost:8080/"
        },
        "id": "3x3dOg9fj1vt",
        "outputId": "22a65e7f-03ba-4af7-850d-f0e7d685805e"
      },
      "outputs": [
        {
          "name": "stdout",
          "output_type": "stream",
          "text": [
            "Gen.DynamicDSLTrace{DynamicDSLFunction{Any}}(DynamicDSLFunction{Any}(Dict{Symbol, Any}(), Dict{Symbol, Any}(), Type[Vector{Float64}], false, Union{Nothing, Some{Any}}[nothing], var\"##line_model#349\", Bool[0], false), Trie{Any, Gen.ChoiceOrCallRecord}(Dict{Any, Gen.ChoiceOrCallRecord}((:y, 11) => Gen.ChoiceOrCallRecord{Float64}(-0.9477808099388932, 0.36075612649099464, NaN, true), (:y, 3) => Gen.ChoiceOrCallRecord{Float64}(-4.031254429940833, 1.048779337989651, NaN, true), :intercept => Gen.ChoiceOrCallRecord{Float64}(-2.770166958439324, -2.57131383596824, NaN, true), (:y, 1) => Gen.ChoiceOrCallRecord{Float64}(-4.826509073282032, 0.9702772316579038, NaN, true), (:y, 8) => Gen.ChoiceOrCallRecord{Float64}(-2.061981225310661, 1.0795943927149687, NaN, true), (:y, 7) => Gen.ChoiceOrCallRecord{Float64}(-2.423516692858288, 1.2758448125313748, NaN, true), (:y, 5) => Gen.ChoiceOrCallRecord{Float64}(-3.160445171769797, 1.3832531092784788, NaN, true), (:y, 6) => Gen.ChoiceOrCallRecord{Float64}(-2.9230438706628146, 0.2150790452399316, NaN, true), (:y, 10) => Gen.ChoiceOrCallRecord{Float64}(-1.4245962857789065, -1.1874236980767878, NaN, true), :slope => Gen.ChoiceOrCallRecord{Float64}(0.3930833889431356, -0.9961958085361828, NaN, true), (:y, 4) => Gen.ChoiceOrCallRecord{Float64}(-3.6529643244445906, 0.916773031778225, NaN, true), (:y, 2) => Gen.ChoiceOrCallRecord{Float64}(-4.342504872586442, 1.3836465588396014, NaN, true), (:y, 9) => Gen.ChoiceOrCallRecord{Float64}(-1.5527675219347405, 1.3108782209519052, NaN, true)), Dict{Any, Trie{Any, Gen.ChoiceOrCallRecord}}()), false, 5.1899485248918245, 0.0, ([-5.0, -4.0, -3.0, -2.0, -1.0, 0.0, 1.0, 2.0, 3.0, 4.0, 5.0],), var\"#y#48\"{Float64, Float64}(-2.770166958439324, 0.3930833889431356))\n"
          ]
        }
      ],
      "source": [
        "xs = [-5., -4., -3., -2., -1., 0., 1., 2., 3., 4., 5.];\n",
        "\n",
        "y = line_model(xs)\n",
        "\n",
        "trace = Gen.simulate(line_model, (xs,));\n",
        "\n",
        "println(trace)"
      ]
    },
    {
      "cell_type": "markdown",
      "metadata": {
        "id": "zqcOPGh5luBa"
      },
      "source": [
        "In order to understand the probabilistic behavior of a generative function, it is helpful to be able to visualize its traces. Below, we define a function that uses PyPlot to render a trace of the generative function above. The rendering shows the x-y data points and the line that is represented by the slope and intercept choices."
      ]
    },
    {
      "cell_type": "code",
      "execution_count": null,
      "metadata": {
        "id": "OVZ8a_uvltqy"
      },
      "outputs": [],
      "source": [
        "function render_trace(trace; show_data=true)\n",
        "    \n",
        "    # Pull out xs from the trace\n",
        "    xs, = get_args(trace)\n",
        "    \n",
        "    xmin = minimum(xs)\n",
        "    xmax = maximum(xs)\n",
        "\n",
        "    # Pull out the return value, useful for plotting\n",
        "    y = get_retval(trace)\n",
        "    \n",
        "    # Draw the line\n",
        "    test_xs = collect(range(-5, stop=5, length=1000))\n",
        "    fig = plot(test_xs, map(y, test_xs), color=\"black\", alpha=0.5, label=nothing,\n",
        "                xlim=(xmin, xmax), ylim=(xmin, xmax))\n",
        "\n",
        "    if show_data\n",
        "        ys = [trace[(:y, i)] for i=1:length(xs)]\n",
        "        \n",
        "        # Plot the data set\n",
        "        scatter!(xs, ys, c=\"black\", label=nothing)\n",
        "    end\n",
        "    \n",
        "    return fig\n",
        "end;"
      ]
    },
    {
      "cell_type": "markdown",
      "metadata": {
        "id": "dnqhq5cplulH"
      },
      "source": [
        "And call the function."
      ]
    },
    {
      "cell_type": "code",
      "execution_count": null,
      "metadata": {
        "id": "x0rI2joXlvS7"
      },
      "outputs": [],
      "source": [
        "render_trace(trace)"
      ]
    },
    {
      "cell_type": "markdown",
      "metadata": {
        "id": "LcYexmHesPTy"
      },
      "source": [
        "# References\n",
        "\n",
        "We thank whoever wrote the material from the following sources:\n",
        "\n",
        "- https://www.geeksforgeeks.org/how-to-work-with-julia-on-jupyter-notebook/\n",
        "- https://www.geeksforgeeks.org/arrays-in-julia/\n",
        "- https://www.geeksforgeeks.org/functions-in-julia/\n",
        "- https://docs.julialang.org/en/v1/manual/functions/ \n",
        "- https://julia.school/julia/dataframes/\n",
        "- https://github.com/bkamins/Julia-DataFrames-Tutorial\n",
        "- https://gist.github.com/gizmaa/7214002\n",
        "- https://syl1.gitbook.io/julia-language-a-concise-tutorial/useful-packages/dataframes\n",
        "- https://www.math.purdue.edu/~allen450/Plotting-Tutorial.html \n",
        "- https://docs.juliaplots.org/stable/ \n",
        "- https://www.gen.dev/tutorials/intro-to-modeling/tutorial\n",
        "\n",
        "They allowed us to put minimal effort into making this Jupyter Notebook."
      ]
    }
  ],
  "metadata": {
    "colab": {
      "collapsed_sections": [
        "-OS3Ac017T1i",
        "-UsKPF01n37h",
        "1Sn6_RUvkOKt",
        "Rfc8fhFPoEe7",
        "k1rYyDAAoptV",
        "D-6iMWmXoqAh",
        "AkUoPUzeoqcN",
        "Hq2Y9ptTr1zw",
        "yavwGWO1sKvg",
        "BkGVovaIsM1X",
        "HNBvTLcnyjka",
        "LcYexmHesPTy"
      ],
      "provenance": []
    },
    "kernelspec": {
      "display_name": "Julia",
      "language": "julia",
      "name": "julia"
    },
    "language_info": {
      "file_extension": ".jl",
      "mimetype": "application/julia",
      "name": "julia"
    }
  },
  "nbformat": 4,
  "nbformat_minor": 0
}