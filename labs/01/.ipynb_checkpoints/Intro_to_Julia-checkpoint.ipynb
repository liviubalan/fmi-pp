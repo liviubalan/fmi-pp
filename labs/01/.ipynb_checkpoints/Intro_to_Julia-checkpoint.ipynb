{
 "cells": [
  {
   "cell_type": "markdown",
   "metadata": {
    "id": "tQ1r1bbb0yBv"
   },
   "source": [
    "# <img src=\"https://github.com/JuliaLang/julia-logo-graphics/raw/master/images/julia-logo-color.png\" height=\"100\" /> _Notebook_\n",
    "\n",
    "## Instructions\n",
    "1. Work on a copy of this notebook: _File_ > _Save a copy in Drive_ (you will need a Google account). Alternatively, you can download the notebook using _File_ > _Download .ipynb_, then upload it to [Colab](https://colab.research.google.com/).\n",
    "2. If you need a GPU: _Runtime_ > _Change runtime type_ > _Harware accelerator_ = _GPU_.\n",
    "3. Execute the following cell (click on it and press Ctrl+Enter) to install Julia, IJulia and other packages (if needed, update `JULIA_VERSION` and the other parameters). This takes a couple of minutes.\n",
    "4. Reload this page (press Ctrl+R, or ⌘+R, or the F5 key) and continue to the next section.\n",
    "\n",
    "_Notes_:\n",
    "* If your Colab Runtime gets reset (e.g., due to inactivity), repeat steps 2, 3 and 4.\n",
    "* After installation, if you want to change the Julia version or activate/deactivate the GPU, you will need to reset the Runtime: _Runtime_ > _Factory reset runtime_ and repeat steps 3 and 4."
   ]
  },
  {
   "cell_type": "code",
   "execution_count": null,
   "metadata": {
    "colab": {
     "background_save": true,
     "base_uri": "https://localhost:8080/"
    },
    "id": "GIeFXS0F0zww",
    "outputId": "603fcb06-cf4e-4bc4-93bc-cc73a283e9bc"
   },
   "outputs": [],
   "source": [
    "%%shell\n",
    "set -e\n",
    "\n",
    "#---------------------------------------------------#\n",
    "JULIA_VERSION=\"1.7.1\" # any version ≥ 0.7.0\n",
    "JULIA_PACKAGES=\"IJulia BenchmarkTools Plots\"\n",
    "JULIA_PACKAGES_IF_GPU=\"CUDA\" # or CuArrays for older Julia versions\n",
    "JULIA_NUM_THREADS=2\n",
    "#---------------------------------------------------#\n",
    "\n",
    "if [ -n \"$COLAB_GPU\" ] && [ -z `which julia` ]; then\n",
    "  # Install Julia\n",
    "  JULIA_VER=`cut -d '.' -f -2 <<< \"$JULIA_VERSION\"`\n",
    "  echo \"Installing Julia $JULIA_VERSION on the current Colab Runtime...\"\n",
    "  BASE_URL=\"https://julialang-s3.julialang.org/bin/linux/x64\"\n",
    "  URL=\"$BASE_URL/$JULIA_VER/julia-$JULIA_VERSION-linux-x86_64.tar.gz\"\n",
    "  wget -nv $URL -O /tmp/julia.tar.gz # -nv means \"not verbose\"\n",
    "  tar -x -f /tmp/julia.tar.gz -C /usr/local --strip-components 1\n",
    "  rm /tmp/julia.tar.gz\n",
    "\n",
    "  # Install Packages\n",
    "  if [ \"$COLAB_GPU\" = \"1\" ]; then\n",
    "      JULIA_PACKAGES=\"$JULIA_PACKAGES $JULIA_PACKAGES_IF_GPU\"\n",
    "  fi\n",
    "  for PKG in `echo $JULIA_PACKAGES`; do\n",
    "    echo \"Installing Julia package $PKG...\"\n",
    "    julia -e 'using Pkg; pkg\"add '$PKG'; precompile;\"' &> /dev/null\n",
    "  done\n",
    "\n",
    "  # Install kernel and rename it to \"julia\"\n",
    "  echo \"Installing IJulia kernel...\"\n",
    "  julia -e 'using IJulia; IJulia.installkernel(\"julia\", env=Dict(\n",
    "      \"JULIA_NUM_THREADS\"=>\"'\"$JULIA_NUM_THREADS\"'\"))'\n",
    "  KERNEL_DIR=`julia -e \"using IJulia; print(IJulia.kerneldir())\"`\n",
    "  KERNEL_NAME=`ls -d \"$KERNEL_DIR\"/julia*`\n",
    "  mv -f $KERNEL_NAME \"$KERNEL_DIR\"/julia  \n",
    "\n",
    "  echo ''\n",
    "  echo \"Successfully installed `julia -v`!\"\n",
    "  echo \"Please reload this page (press Ctrl+R, ⌘+R, or the F5 key) then\"\n",
    "  echo \"jump to the 'Checking the Installation' section.\"\n",
    "fi"
   ]
  },
  {
   "cell_type": "markdown",
   "metadata": {
    "id": "-OS3Ac017T1i"
   },
   "source": [
    "## Checking the Installation\n",
    "The `versioninfo()` function should print your Julia version and some other info about the system:"
   ]
  },
  {
   "cell_type": "code",
   "execution_count": 1,
   "metadata": {
    "colab": {
     "background_save": true,
     "base_uri": "https://localhost:8080/"
    },
    "id": "EEzvvzCl1i0F",
    "outputId": "82f45acb-6969-4c56-97c0-bb5ee6784a75"
   },
   "outputs": [
    {
     "name": "stdout",
     "output_type": "stream",
     "text": [
      "Julia Version 1.8.2\n",
      "Commit 36034abf260 (2022-09-29 15:21 UTC)\n",
      "Platform Info:\n",
      "  OS: Linux (x86_64-linux-gnu)\n",
      "  CPU: 8 × 11th Gen Intel(R) Core(TM) i7-1185G7 @ 3.00GHz\n",
      "  WORD_SIZE: 64\n",
      "  LIBM: libopenlibm\n",
      "  LLVM: libLLVM-13.0.1 (ORCJIT, tigerlake)\n",
      "  Threads: 1 on 8 virtual cores\n"
     ]
    }
   ],
   "source": [
    "versioninfo()"
   ]
  },
  {
   "cell_type": "code",
   "execution_count": null,
   "metadata": {},
   "outputs": [],
   "source": [
    "# By Liviu Balan\n",
    "import Pkg; Pkg.add(\"BenchmarkTools\")"
   ]
  },
  {
   "cell_type": "code",
   "execution_count": 3,
   "metadata": {
    "colab": {
     "background_save": true
    },
    "id": "YjM_qq54lCcs"
   },
   "outputs": [
    {
     "name": "stdout",
     "output_type": "stream",
     "text": [
      "  101.027 ms (2 allocations: 32.00 MiB)\n"
     ]
    }
   ],
   "source": [
    "using BenchmarkTools\n",
    "\n",
    "M = rand(2^11, 2^11)\n",
    "\n",
    "@btime $M * $M;"
   ]
  },
  {
   "cell_type": "code",
   "execution_count": 4,
   "metadata": {
    "colab": {
     "background_save": true
    },
    "id": "XciCcMAJOT3_"
   },
   "outputs": [
    {
     "ename": "LoadError",
     "evalue": "KeyError: key \"COLAB_GPU\" not found",
     "output_type": "error",
     "traceback": [
      "KeyError: key \"COLAB_GPU\" not found",
      "",
      "Stacktrace:",
      " [1] (::Base.var\"#657#658\")(k::String)",
      "   @ Base ./env.jl:79",
      " [2] access_env",
      "   @ ./env.jl:43 [inlined]",
      " [3] getindex(#unused#::Base.EnvDict, k::String)",
      "   @ Base ./env.jl:79",
      " [4] top-level scope",
      "   @ In[4]:1",
      " [5] eval",
      "   @ ./boot.jl:368 [inlined]",
      " [6] include_string(mapexpr::typeof(REPL.softscope), mod::Module, code::String, filename::String)",
      "   @ Base ./loading.jl:1428"
     ]
    }
   ],
   "source": [
    "if ENV[\"COLAB_GPU\"] == \"1\"\n",
    "    using CUDA\n",
    "\n",
    "    run(`nvidia-smi`)\n",
    "\n",
    "    # Create a new random matrix directly on the GPU:\n",
    "    M_on_gpu = CUDA.CURAND.rand(2^11, 2^11)\n",
    "    @btime $M_on_gpu * $M_on_gpu; nothing\n",
    "else\n",
    "    println(\"No GPU found.\")\n",
    "end"
   ]
  },
  {
   "cell_type": "markdown",
   "metadata": {
    "id": "COwNQybomFkf"
   },
   "source": [
    "Install all necessary packages for this notebook."
   ]
  },
  {
   "cell_type": "code",
   "execution_count": 5,
   "metadata": {
    "colab": {
     "base_uri": "https://localhost:8080/"
    },
    "id": "C9gi6tN-mDZC",
    "outputId": "08a1aba0-42ad-4044-b903-29eb2f04a464"
   },
   "outputs": [
    {
     "name": "stderr",
     "output_type": "stream",
     "text": [
      "\u001b[32m\u001b[1m    Updating\u001b[22m\u001b[39m registry at `~/.julia/registries/General.toml`\n",
      "\u001b[32m\u001b[1m   Resolving\u001b[22m\u001b[39m package versions...\n",
      "\u001b[32m\u001b[1m  No Changes\u001b[22m\u001b[39m to `~/.julia/environments/v1.8/Project.toml`\n",
      "\u001b[32m\u001b[1m  No Changes\u001b[22m\u001b[39m to `~/.julia/environments/v1.8/Manifest.toml`\n"
     ]
    }
   ],
   "source": [
    "using Pkg\n",
    "\n",
    "packages = [\"DataFrames\", \"HTTP\", \"CSV\", \"Plots\", \"PyPlot\", \"RDatasets\", \"Gen\", \"StatsPlots\"]\n",
    "\n",
    "Pkg.add(packages)"
   ]
  },
  {
   "cell_type": "markdown",
   "metadata": {
    "id": "-UsKPF01n37h"
   },
   "source": [
    "## Local Installation\n",
    "\n",
    "Alternatively, if you want to run Julia locally, visit [the official website](https://julialang.org/downloads/) and download the installer for your OS.\n",
    "\n",
    "To install packages outside scripts, open the [Julia command line](https://docs.julialang.org/en/v1/stdlib/REPL/) by double clicking the executable or typing Julia in your terminal. \n",
    "\n",
    "```\n",
    "$ julia\n",
    "\n",
    "               _\n",
    "   _       _ _(_)_     |  Documentation: https://docs.julialang.org\n",
    "  (_)     | (_) (_)    |\n",
    "   _ _   _| |_  __ _   |  Type \"?\" for help, \"]?\" for Pkg help.\n",
    "  | | | | | | |/ _` |  |\n",
    "  | | |_| | | | (_| |  |  Version 1.8.2 (2022-09-29)\n",
    " _/ |\\__'_|_|_|\\__'_|  |  Official https://julialang.org/ release\n",
    "|__/       \n",
    "```\n",
    "\n",
    "After this, enter [package mode](https://docs.julialang.org/en/v1/stdlib/Pkg/) by typing `]`, which will open the following prompt:\n",
    "\n",
    "```\n",
    "(v1.1) pkg>\n",
    "```\n",
    "\n",
    "You are then free to add whichever package(s) by typing `add package1 package2` and so on. Below you'll find the command for adding all the pakcages used in this notebook.\n",
    "\n",
    "```\n",
    "(v1.1) pkg> add DataFrames HTTP CSV Plots PyPlot RDatasets Gen\n",
    "```\n",
    "\n",
    "To run a script, simply type the name of the script in the Julia command line:\n",
    "\n",
    "```\n",
    "$ julia script.jl\n",
    "```\n",
    "\n",
    "To run a Jupyter notebook, install the `IJulia` package, then open the Jupyter server and create a new Julia Notebook.\n",
    "\n",
    "![image.png](https://media.geeksforgeeks.org/wp-content/uploads/20200707172752/Screenshot24.png)"
   ]
  },
  {
   "cell_type": "markdown",
   "metadata": {
    "id": "2UMidUQB03vJ"
   },
   "source": [
    "Have fun!\n",
    "\n",
    "<img src=\"https://raw.githubusercontent.com/JuliaLang/julia-logo-graphics/master/images/julia-logo-mask.png\" height=\"100\" />"
   ]
  },
  {
   "cell_type": "markdown",
   "metadata": {
    "id": "1Sn6_RUvkOKt"
   },
   "source": [
    "# Basic use"
   ]
  },
  {
   "cell_type": "code",
   "execution_count": 6,
   "metadata": {
    "colab": {
     "base_uri": "https://localhost:8080/"
    },
    "id": "fRV8_ErIkOXu",
    "outputId": "d002a9d9-695f-40bc-8120-74cd2fb22d24"
   },
   "outputs": [
    {
     "data": {
      "text/plain": [
       "9"
      ]
     },
     "execution_count": 6,
     "metadata": {},
     "output_type": "execute_result"
    }
   ],
   "source": [
    "a = 1\n",
    "b = 2\n",
    "# This is a comment \n",
    "c = a^2 + b^3 "
   ]
  },
  {
   "cell_type": "code",
   "execution_count": 7,
   "metadata": {
    "colab": {
     "base_uri": "https://localhost:8080/"
    },
    "id": "_E-YtOKXlvOU",
    "outputId": "70724df0-92e6-432f-f7d9-734617dd7911"
   },
   "outputs": [
    {
     "name": "stdout",
     "output_type": "stream",
     "text": [
      "Huchette"
     ]
    }
   ],
   "source": [
    "if c >= 10\n",
    "    print(\"Joey\")\n",
    "else\n",
    "    print(\"Huchette\")\n",
    "end"
   ]
  },
  {
   "cell_type": "code",
   "execution_count": 10,
   "metadata": {
    "colab": {
     "base_uri": "https://localhost:8080/"
    },
    "id": "ACKvT37VlvMA",
    "outputId": "3cd49082-2990-427f-c2ed-c5cdf8be0665"
   },
   "outputs": [
    {
     "name": "stdout",
     "output_type": "stream",
     "text": [
      "Joey!\n",
      "Joey!\n",
      "Joey!\n",
      "Joey!\n",
      "Joey!\n"
     ]
    }
   ],
   "source": [
    "i = 1\n",
    "while i <= 5\n",
    "    println(\"Joey!\") # Print with a new line\n",
    "i += 1\n",
    "end"
   ]
  },
  {
   "cell_type": "code",
   "execution_count": 11,
   "metadata": {
    "colab": {
     "base_uri": "https://localhost:8080/"
    },
    "id": "rOH8Iqe1lvCW",
    "outputId": "0e3ab9dc-ca5e-4643-a239-03d53d54ca67"
   },
   "outputs": [
    {
     "name": "stdout",
     "output_type": "stream",
     "text": [
      "1 Joey\n",
      "2 Joeys\n",
      "3 Joeys\n"
     ]
    }
   ],
   "source": [
    "for i = 1:3\n",
    "    print(\"$i Joey\") # '$' can be used to insert variables into text\n",
    "    if i>1\n",
    "        print(\"s\")\n",
    "    end\n",
    "    println() # Just a new line\n",
    "end"
   ]
  },
  {
   "cell_type": "markdown",
   "metadata": {
    "id": "Rfc8fhFPoEe7"
   },
   "source": [
    "# Arrays"
   ]
  },
  {
   "cell_type": "markdown",
   "metadata": {
    "id": "k1rYyDAAoptV"
   },
   "source": [
    "### 1D Arrays"
   ]
  },
  {
   "cell_type": "code",
   "execution_count": 12,
   "metadata": {
    "colab": {
     "base_uri": "https://localhost:8080/"
    },
    "id": "k2xMUZ9hoFgz",
    "outputId": "59007003-ae49-4b31-ff63-da1f3728722b"
   },
   "outputs": [
    {
     "data": {
      "text/plain": [
       "4-element Vector{Int64}:\n",
       " 1\n",
       " 2\n",
       " 3\n",
       " 4"
      ]
     },
     "execution_count": 12,
     "metadata": {},
     "output_type": "execute_result"
    }
   ],
   "source": [
    "A = [1, 2, 3, 4]\n",
    "A"
   ]
  },
  {
   "cell_type": "markdown",
   "metadata": {
    "id": "PmM-0Q6ipSbe"
   },
   "source": [
    "Accessing Elements in 1D Arrays"
   ]
  },
  {
   "cell_type": "code",
   "execution_count": 13,
   "metadata": {
    "colab": {
     "base_uri": "https://localhost:8080/"
    },
    "id": "E_ALU-PNpSQq",
    "outputId": "f3f9bd72-f167-4383-e187-329e86c9f2d1"
   },
   "outputs": [
    {
     "name": "stdout",
     "output_type": "stream",
     "text": [
      "3\n",
      "Geeks\n",
      "Any[3, \"Hello\", \"Geeks\"]\n",
      "Any[3, 4, \"Hello\", \"Geeks\"]\n",
      "Any[1, 2, \"Geeks\"]\n"
     ]
    }
   ],
   "source": [
    "# Creating a 1D Array\n",
    "Array1 = [1, 2, 3, 4, \"Hello\", \"Geeks\"]\n",
    " \n",
    "# Passing index value\n",
    "println(Array1[3])\n",
    " \n",
    "# Accessing last value\n",
    "println(Array1[end])\n",
    " \n",
    "# Passing a bunch of index values\n",
    "println(Array1[[3, 5, 6]])\n",
    " \n",
    "# Passing a range of indices\n",
    "println(Array1[3:end])\n",
    " \n",
    "# Using true-false to print values\n",
    "println(Array1[[true, true, false, false, false, true]])"
   ]
  },
  {
   "cell_type": "markdown",
   "metadata": {
    "id": "4lXPNGbeqNSb"
   },
   "source": [
    "Adding Elements to a 1D Array"
   ]
  },
  {
   "cell_type": "code",
   "execution_count": 14,
   "metadata": {
    "colab": {
     "base_uri": "https://localhost:8080/"
    },
    "id": "BblVQA9IqNb8",
    "outputId": "f2997ae4-7bb9-4906-c459-e87057bcea1e"
   },
   "outputs": [
    {
     "name": "stdout",
     "output_type": "stream",
     "text": [
      "Any[1, 2, 3, 4, \"Hello\", \"Geeks\", \"Welcome\"]\n",
      "Any[0, 1, 2, 3, 4, \"Hello\", \"Geeks\", \"Welcome\"]\n",
      "Any[0, 1, 'G', 'F', 'G', 4, \"Hello\", \"Geeks\", \"Welcome\"]\n",
      "Any[0, 1, 'G', 'F', 'G', 1, 2, 3, \"Geeks\", \"Welcome\"]\n",
      "Any[0, 1, 'G', 'F', 'G', 1, 2, 3, 3, \"Geeks\", \"Welcome\"]\n",
      "Any[0, 1, 'G', \"MCMC\", 'F', 'G', 1, 2, 3, 3, \"Geeks\", \"Welcome\"]"
     ]
    }
   ],
   "source": [
    "# Creating a 1D Array\n",
    "Array1 = [1, 2, 3, 4, \"Hello\", \"Geeks\"]\n",
    " \n",
    "# Adding element at the end\n",
    "push!(Array1, \"Welcome\")\n",
    "println(Array1)\n",
    " \n",
    "# Adding element at the beginning\n",
    "pushfirst!(Array1, 0)\n",
    "println(Array1)\n",
    " \n",
    "# Adding element at specific position\n",
    "splice!(Array1, 3:4, \"GFG\")\n",
    "println(Array1)\n",
    " \n",
    "# Adding a range of elements\n",
    "splice!(Array1, 6:7, [1, 2, 3])\n",
    "println(Array1)\n",
    "\n",
    "# Adding a range of elements\n",
    "splice!(Array1, 6:7, [1, 2, 3])\n",
    "println(Array1)\n",
    "\n",
    "insert!(Array1, 4, \"MCMC\")\n",
    "print(Array1)"
   ]
  },
  {
   "cell_type": "markdown",
   "metadata": {
    "id": "qYQPGCwrqMv7"
   },
   "source": [
    "Deleting Elements from a 1D Array"
   ]
  },
  {
   "cell_type": "code",
   "execution_count": 15,
   "metadata": {
    "colab": {
     "base_uri": "https://localhost:8080/"
    },
    "id": "WSkWc6cCqNJd",
    "outputId": "94d1ee1c-9ef2-4b66-a04c-f47392fa1c9a"
   },
   "outputs": [
    {
     "name": "stdout",
     "output_type": "stream",
     "text": [
      "Initial Array:\n",
      "Any[1, 2, 3, 4, 5, 6, \"Hello\", \"Geeks\"]\n",
      "\n",
      "Array after deleting last element:\n",
      "Any[1, 2, 3, 4, 5, 6, \"Hello\"]\n",
      "\n",
      "Array after deleting first element:\n",
      "Any[2, 3, 4, 5, 6, \"Hello\"]\n",
      "\n",
      "Array after deleting a specific(e.g. 4th) element:\n",
      "Any[2, 3, 4, 6, \"Hello\"]\n",
      "\n",
      "Array after deleting a range(e.g. 2:4) of elements:\n",
      "Any[2, \"Hello\"]\n",
      "\n",
      "Array after deleting all the elements:\n",
      "Any[]\n"
     ]
    }
   ],
   "source": [
    "# Creating a 1D array\n",
    "Array1 = [1, 2, 3, 4, 5, 6, \"Hello\", \"Geeks\"]\n",
    "println(\"Initial Array:\\n\", Array1)\n",
    " \n",
    "# Delete last element\n",
    "# using pop !()\n",
    "pop!(Array1)\n",
    " \n",
    "# Printing the array\n",
    "println(\"\\nArray after deleting last element:\\n\", Array1)\n",
    " \n",
    "# Delete first element\n",
    "# using popfirst !()\n",
    "popfirst!(Array1)\n",
    "println(\"\\nArray after deleting first element:\\n\", Array1)\n",
    " \n",
    "# Deleting a specific element\n",
    "# using splice !()\n",
    "splice!(Array1, 4)\n",
    " \n",
    "println(\"\\nArray after deleting a specific(e.g. 4th) element:\\n\", Array1)\n",
    " \n",
    "# Deleting a range of elements\n",
    "# using deleteat !()\n",
    "deleteat!(Array1, 2:4)\n",
    " \n",
    "println(\"\\nArray after deleting a range(e.g. 2:4) of elements:\\n\", Array1)\n",
    " \n",
    "# Deleting all the elements\n",
    "# using empty !()\n",
    "empty!(Array1)\n",
    " \n",
    "println(\"\\nArray after deleting all the elements:\\n\", Array1)"
   ]
  },
  {
   "cell_type": "markdown",
   "metadata": {
    "id": "D-6iMWmXoqAh"
   },
   "source": [
    "### 2D Arrays"
   ]
  },
  {
   "cell_type": "code",
   "execution_count": 16,
   "metadata": {
    "colab": {
     "base_uri": "https://localhost:8080/"
    },
    "id": "ro8NzXD8oEzo",
    "outputId": "20725fa6-b1d2-4729-f70e-e403a0c37b23"
   },
   "outputs": [
    {
     "data": {
      "text/plain": [
       "2×2 Matrix{Int64}:\n",
       " 1  2\n",
       " 3  4"
      ]
     },
     "execution_count": 16,
     "metadata": {},
     "output_type": "execute_result"
    }
   ],
   "source": [
    "A = [1 2; 3 4]"
   ]
  },
  {
   "cell_type": "markdown",
   "metadata": {
    "id": "g_4r3dk9or6X"
   },
   "source": [
    "Accessing Elements in 2D Arrays"
   ]
  },
  {
   "cell_type": "code",
   "execution_count": 20,
   "metadata": {},
   "outputs": [
    {
     "data": {
      "text/plain": [
       "2×3 Matrix{Any}:\n",
       " 1  2  \"Hello\"\n",
       " 3  4  \"Geeks\""
      ]
     },
     "execution_count": 20,
     "metadata": {},
     "output_type": "execute_result"
    }
   ],
   "source": [
    "# Creating a 2D Array\n",
    "Array1 = [1 2 \"Hello\"; 3 4 \"Geeks\"]"
   ]
  },
  {
   "cell_type": "code",
   "execution_count": 21,
   "metadata": {
    "colab": {
     "base_uri": "https://localhost:8080/"
    },
    "id": "_szkR9VHosQv",
    "outputId": "5f7fb9f9-c255-4d42-e7ef-73dc757de129"
   },
   "outputs": [
    {
     "name": "stdout",
     "output_type": "stream",
     "text": [
      "Hello\n",
      "Geeks\n",
      "Geeks\n",
      "Any[\"Hello\", \"Geeks\"]\n",
      "Any[1, 2, \"Hello\"]\n"
     ]
    }
   ],
   "source": [
    "# Passing index value\n",
    "# row-column wise\n",
    "println(Array1[1, 3])\n",
    " \n",
    "# Accessing last value\n",
    "println(Array1[2, end])\n",
    " \n",
    "# Using getindex() function\n",
    "println(getindex(Array1, 2, 3))\n",
    " \n",
    "# Using colon to indicate every row\n",
    "println(Array1[:, 3])\n",
    " \n",
    "# Using colon to indicate every column\n",
    "println(Array1[1, :])"
   ]
  },
  {
   "cell_type": "markdown",
   "metadata": {
    "id": "uuWp-Vc1rME8"
   },
   "source": [
    "Adding Elements to a 2D Array"
   ]
  },
  {
   "cell_type": "code",
   "execution_count": 22,
   "metadata": {},
   "outputs": [
    {
     "data": {
      "text/plain": [
       "2×3 Matrix{Any}:\n",
       " 1  2  \"Hello\"\n",
       " 3  4  \"Geeks\""
      ]
     },
     "execution_count": 22,
     "metadata": {},
     "output_type": "execute_result"
    }
   ],
   "source": [
    "# Creating a 2D Array\n",
    "Array1 = [1 2 \"Hello\"; 3 4 \"Geeks\"]"
   ]
  },
  {
   "cell_type": "code",
   "execution_count": 26,
   "metadata": {
    "colab": {
     "base_uri": "https://localhost:8080/"
    },
    "id": "LxVHH-oyrMgb",
    "outputId": "4083f5d4-c7de-461d-9f86-6a80534a79b5"
   },
   "outputs": [
    {
     "data": {
      "text/plain": [
       "4×3 Matrix{Any}:\n",
       " 1  2    \"Hello\"\n",
       " 3  4    \"Geeks\"\n",
       " 5  6   7\n",
       " 8  9  10"
      ]
     },
     "execution_count": 26,
     "metadata": {},
     "output_type": "execute_result"
    }
   ],
   "source": [
    "# Array of elements which are to be added\n",
    "Array2 = [5 6 7; 8 9 10]\n",
    "\n",
    "# Appending arrays\n",
    "Array3 = [Array1; Array2]\n",
    "# println(Array3)\n",
    "Array3"
   ]
  },
  {
   "cell_type": "markdown",
   "metadata": {
    "id": "4iy9Je0xrNBo"
   },
   "source": [
    "Deleting Elements from a 2D Array"
   ]
  },
  {
   "cell_type": "code",
   "execution_count": 28,
   "metadata": {},
   "outputs": [
    {
     "data": {
      "text/plain": [
       "3×3 Matrix{Any}:\n",
       " 1         2         3\n",
       " 4         5         6\n",
       "  \"Hello\"   \"Geeks\"   \"World\""
      ]
     },
     "execution_count": 28,
     "metadata": {},
     "output_type": "execute_result"
    }
   ],
   "source": [
    "Array2 = [1 2 3; 4 5 6; \"Hello\" \"Geeks\" \"World\"]"
   ]
  },
  {
   "cell_type": "code",
   "execution_count": 29,
   "metadata": {
    "colab": {
     "base_uri": "https://localhost:8080/"
    },
    "id": "TQfFIr_IrNpD",
    "outputId": "86668490-7d82-4109-af2a-95c6bd00a835"
   },
   "outputs": [
    {
     "name": "stdout",
     "output_type": "stream",
     "text": [
      "Initial Array:\n",
      "Any[1 2 3; 4 5 6; \"Hello\" \"Geeks\" \"World\"]\n",
      "\n",
      "Zero in place of element to be deleted:\n",
      "Any[1 2 0; 4 5 6; \"Hello\" \"Geeks\" \"World\"]\n",
      "\n",
      "undef in place of element to be deleted:\n",
      "Any[1 2 0; 4 5 UndefInitializer(); \"Hello\" \"Geeks\" \"World\"]\n",
      "\n",
      "Array after deleting 2nd row:\n",
      "Any[1 2 0; \"Hello\" \"Geeks\" \"World\"]\n",
      "\n",
      "Array after deleting 2nd column:\n",
      "Any[1 0; \"Hello\" \"World\"]\n"
     ]
    }
   ],
   "source": [
    "println(\"Initial Array:\\n\", Array2)\n",
    " \n",
    "# Assigning zero in place of\n",
    "# element to be deleted(e.g. element at 1, 3)\n",
    "Array2[1, 3] = 0\n",
    " \n",
    "println(\"\\nZero in place of element to be deleted:\\n\", Array2)\n",
    " \n",
    "# Assigning undefined value in place of\n",
    "# element to be deleted(e.g. element at 2, 3)\n",
    "Array2[2, 3] = undef\n",
    " \n",
    "println(\"\\nundef in place of element to be deleted:\\n\", Array2)\n",
    " \n",
    "# Deleting entire row of elements(e.g. 2nd row)\n",
    "Array2 = Array2[1:size(Array2, 1) .!= 2, :]\n",
    " \n",
    "println(\"\\nArray after deleting 2nd row:\\n\", Array2)\n",
    " \n",
    "# Deleting entire column of elements(e.g. 2nd column)\n",
    "Array2 = Array2[:, 1:size(Array2, 2) .!= 2]\n",
    " \n",
    "println(\"\\nArray after deleting 2nd column:\\n\", Array2)"
   ]
  },
  {
   "cell_type": "markdown",
   "metadata": {
    "id": "AkUoPUzeoqcN"
   },
   "source": [
    "### 3D Arrays"
   ]
  },
  {
   "cell_type": "code",
   "execution_count": 30,
   "metadata": {
    "colab": {
     "base_uri": "https://localhost:8080/"
    },
    "id": "CF1ImqcioFI9",
    "outputId": "f375eb71-e51e-4e00-8f73-bdb8c62dd3b4"
   },
   "outputs": [
    {
     "data": {
      "text/plain": [
       "2×2×2 Array{Int64, 3}:\n",
       "[:, :, 1] =\n",
       " 1  2\n",
       " 3  4\n",
       "\n",
       "[:, :, 2] =\n",
       " 5  6\n",
       " 7  8"
      ]
     },
     "execution_count": 30,
     "metadata": {},
     "output_type": "execute_result"
    }
   ],
   "source": [
    "A = cat([1 2; 3 4], [5 6; 7 8], dims=3)"
   ]
  },
  {
   "cell_type": "markdown",
   "metadata": {
    "id": "YI7KSIv7oth2"
   },
   "source": [
    "Accessing Elements in 3D Arrays"
   ]
  },
  {
   "cell_type": "code",
   "execution_count": 31,
   "metadata": {
    "colab": {
     "base_uri": "https://localhost:8080/"
    },
    "id": "6hQfnQO7otqu",
    "outputId": "627a48ea-df41-4cdf-ea59-045d99b59a41"
   },
   "outputs": [
    {
     "name": "stdout",
     "output_type": "stream",
     "text": [
      "Geeks\n",
      "Any[\"hello\" \"Geeks\"; \"Welcome\" \"GFG\"]\n",
      "Any[5 6; 7 8]\n",
      "Geeks\n",
      "Any[\"hello\", \"Geeks\"]\n"
     ]
    }
   ],
   "source": [
    "# Creating a 3D array\n",
    "# using 'cat' command\n",
    "Array3 = cat([1 2; 3 4],\n",
    "              [\"hello\" \"Geeks\"; \"Welcome\" \"GFG\"],\n",
    "              [5 6; 7 8], dims = 3)\n",
    "  \n",
    "# Accessing element using index value\n",
    "println(Array3[1, 2, 2])\n",
    "  \n",
    "# Accessing Range of elements\n",
    "println(Array3[1:2, 1:2, 2])\n",
    "  \n",
    "# Using colon to access every row or column\n",
    "println(Array3[:, :, 3])\n",
    "  \n",
    "# Using getindex function\n",
    "println(getindex(Array3, 1, 2, 2))\n",
    "  \n",
    "# Using getindex with colon operator\n",
    "println(getindex(Array3, 1, :, 2))"
   ]
  },
  {
   "cell_type": "markdown",
   "metadata": {
    "id": "B69zUvJvrOTp"
   },
   "source": [
    "Adding Elements to a 3D Array"
   ]
  },
  {
   "cell_type": "code",
   "execution_count": 32,
   "metadata": {
    "colab": {
     "base_uri": "https://localhost:8080/"
    },
    "id": "5dA7-RkRrOi3",
    "outputId": "d779de03-5262-4859-951b-857c17b9e125"
   },
   "outputs": [
    {
     "name": "stdout",
     "output_type": "stream",
     "text": [
      "[1 2; 3 4; 0 2; 1 4;;; \"hello\" \"Geeks\"; \"Welcome\" \"GFG\"; \"GFG\" \"Geeks\"; \"abc\" \"def\"]\n"
     ]
    }
   ],
   "source": [
    "# Creating a 2D Array\n",
    "Array1 = cat([1 2; 3 4],\n",
    "             [\"hello\" \"Geeks\"; \"Welcome\" \"GFG\"],\n",
    "             dims = 3)\n",
    "  \n",
    "# Array of elements which is to be added\n",
    "Array2 = cat([0 2; 1 4],\n",
    "             [\"GFG\" \"Geeks\"; \"abc\" \"def\" ],\n",
    "             dims = 3)\n",
    "  \n",
    "# Appending arrays\n",
    "Array3 = [Array1; Array2]\n",
    "println(Array3)"
   ]
  },
  {
   "cell_type": "markdown",
   "metadata": {
    "id": "sVGiF9rfrO3S"
   },
   "source": [
    "Deleting Elements from a 2D Array"
   ]
  },
  {
   "cell_type": "code",
   "execution_count": 33,
   "metadata": {
    "colab": {
     "base_uri": "https://localhost:8080/"
    },
    "id": "9gCVl59SrPIn",
    "outputId": "16ef1c1a-27a7-4b07-bee1-cbac6754d06c"
   },
   "outputs": [
    {
     "name": "stdout",
     "output_type": "stream",
     "text": [
      "Initial 3D Array:\n",
      "[1 2 3; 3 4 5; 5 6 7;;; \"a\" \"b\" \"c\"; \"c\" \"d\" \"e\"; \"e\" \"f\" \"g\"]\n",
      "\n",
      "Zero in place of element to be deleted:\n",
      "[1 2 0; 3 4 5; 5 6 7;;; \"a\" \"b\" \"c\"; \"c\" \"d\" \"e\"; \"e\" \"f\" \"g\"]\n",
      "\n",
      "undef in place of element to be deleted:\n",
      "[1 2 0; 3 4 5; 5 6 7;;; \"a\" \"b\" UndefInitializer(); \"c\" \"d\" \"e\"; \"e\" \"f\" \"g\"]\n",
      "\n",
      "Array after deleting 2nd row:\n",
      "[0 2; 1 4;;; \"GFG\" \"Geeks\"; \"abc\" \"def\"]\n",
      "\n",
      "Array after deleting 2nd column:\n",
      "[0 2; 1 4;;; \"GFG\" \"Geeks\"; \"abc\" \"def\"]\n"
     ]
    }
   ],
   "source": [
    "# Creating a 3D array\n",
    "Array3 = cat([1 2 3; 3 4 5; 5 6 7],\n",
    "             [\"a\" \"b\" \"c\"; \"c\" \"d\" \"e\"; \"e\" \"f\" \"g\"],\n",
    "             dims = 3)\n",
    "println(\"Initial 3D Array:\\n\", Array3)\n",
    "  \n",
    "# Assigning zero in place of\n",
    "# element to be deleted(e.g. element at 1, 3, 1)\n",
    "Array3[1, 3, 1] = 0\n",
    "  \n",
    "println(\"\\nZero in place of element to be deleted:\\n\", Array3)\n",
    "  \n",
    "# Assigning undefined value in place of\n",
    "# element to be deleted(e.g. element at 1, 3, 2)\n",
    "Array3[1, 3, 2] = undef\n",
    "  \n",
    "println(\"\\nundef in place of element to be deleted:\\n\", Array3)\n",
    "  \n",
    "# Deleting entire row of elements(e.g. 2nd row)\n",
    "Array3 = Array3[1:size(Array3, 2) .!= 2, :, :]\n",
    "  \n",
    "println(\"\\nArray after deleting 2nd row:\\n\", Array2)\n",
    "  \n",
    "# Deleting entire column of elements(e.g. 2nd column)\n",
    "Array3 = Array3[:, 1:size(Array3, 2) .!= 2, :]\n",
    "  \n",
    "println(\"\\nArray after deleting 2nd column:\\n\", Array2)"
   ]
  },
  {
   "cell_type": "markdown",
   "metadata": {
    "id": "Hq2Y9ptTr1zw"
   },
   "source": [
    "### Updating Array Elements"
   ]
  },
  {
   "cell_type": "code",
   "execution_count": 34,
   "metadata": {
    "colab": {
     "base_uri": "https://localhost:8080/"
    },
    "id": "0kGqdCbQsDLh",
    "outputId": "317d61ba-82ed-4f6a-efd5-94fbe3819be6"
   },
   "outputs": [
    {
     "name": "stdout",
     "output_type": "stream",
     "text": [
      "Existing 1D Array:\n",
      "Any[1, 2, 3, 4, 5, 6, \"a\", \"b\"]\n",
      "\n",
      "Updated 1D Array:\n",
      "Any[1, 2, 3, \"Hello\", 5, 6, \"a\", \"b\"]\n",
      "\n",
      "Existing 2D Array:\n",
      "[1 2 3; 4 5 6]\n",
      "\n",
      "Updated 2D Array:\n",
      "[1 2 3; 4 10 6]\n",
      "\n",
      "Existing 3D Array:\n",
      "[1 2; 3 4;;; \"hello\" \"Geeks\"; \"Welcome\" \"GFG\"]\n",
      "\n",
      "Updated 3D Array:\n",
      "[1 2; 3 4;;; \"hello\" \"Geeks\"; \"Welcome\" \"World\"]\n"
     ]
    }
   ],
   "source": [
    "# Creating a 1D array\n",
    "Array1 = [1, 2, 3, 4, 5, 6, \"a\", \"b\"]\n",
    "println(\"Existing 1D Array:\\n\", Array1)\n",
    "  \n",
    "# Updating value at specific index\n",
    "Array1[4] = \"Hello\"\n",
    "println(\"\\nUpdated 1D Array:\\n\", Array1)\n",
    "  \n",
    "# Creating a 2D array\n",
    "Array2 = [1 2 3; 4 5 6]\n",
    "println(\"\\nExisting 2D Array:\\n\", Array2)\n",
    "  \n",
    "# Updating value at specific index\n",
    "Array2[2, 2] = 10\n",
    "println(\"\\nUpdated 2D Array:\\n\", Array2)\n",
    "  \n",
    "# Creating a 3D array\n",
    "Array3 = cat([1 2; 3 4],\n",
    "             [\"hello\" \"Geeks\"; \"Welcome\" \"GFG\"],\n",
    "             dims = 3)\n",
    "println(\"\\nExisting 3D Array:\\n\", Array3)\n",
    "  \n",
    "# Updating value at specific index\n",
    "Array3[2, 2, 2] = \"World\"\n",
    "println(\"\\nUpdated 3D Array:\\n\", Array3)"
   ]
  },
  {
   "cell_type": "markdown",
   "metadata": {
    "id": "yavwGWO1sKvg"
   },
   "source": [
    "# Functions"
   ]
  },
  {
   "cell_type": "markdown",
   "metadata": {
    "id": "RiTKlu-p7NZ1"
   },
   "source": [
    "Functions are defined using the `function` keyword, pretty much like `def` in Python. The function body has to be closed by the `end` keyword."
   ]
  },
  {
   "cell_type": "code",
   "execution_count": 35,
   "metadata": {
    "colab": {
     "base_uri": "https://localhost:8080/"
    },
    "id": "HeNpeywJ7Noz",
    "outputId": "95daa3a6-cf3d-4681-b0d5-96e89a2d1dc5"
   },
   "outputs": [
    {
     "data": {
      "text/plain": [
       "5"
      ]
     },
     "execution_count": 35,
     "metadata": {},
     "output_type": "execute_result"
    }
   ],
   "source": [
    "function f(x,y)\n",
    "  x + y\n",
    "end\n",
    "\n",
    "f(2,3)"
   ]
  },
  {
   "cell_type": "markdown",
   "metadata": {
    "id": "6qlL6i727N41"
   },
   "source": [
    "Simple functions can be defined similarly to a variable."
   ]
  },
  {
   "cell_type": "code",
   "execution_count": 36,
   "metadata": {
    "colab": {
     "base_uri": "https://localhost:8080/"
    },
    "id": "OFKjU8OO7OJ_",
    "outputId": "2f81bfd8-6fb0-4e96-e88c-f3da02886ccd"
   },
   "outputs": [
    {
     "data": {
      "text/plain": [
       "5"
      ]
     },
     "execution_count": 36,
     "metadata": {},
     "output_type": "execute_result"
    }
   ],
   "source": [
    "f(x,y) = x + y\n",
    "\n",
    "f(2,3)"
   ]
  },
  {
   "cell_type": "markdown",
   "metadata": {
    "id": "47zQmHlm7Owr"
   },
   "source": [
    "And for some reason, Julia allows you to have weird ASCII characters as function names. Your team will surely thank you for using those!"
   ]
  },
  {
   "cell_type": "code",
   "execution_count": 37,
   "metadata": {
    "colab": {
     "base_uri": "https://localhost:8080/"
    },
    "id": "yFtftPXd7PAC",
    "outputId": "9cf1fe4c-7297-4345-ab4a-1abce79ad851"
   },
   "outputs": [
    {
     "data": {
      "text/plain": [
       "5"
      ]
     },
     "execution_count": 37,
     "metadata": {},
     "output_type": "execute_result"
    }
   ],
   "source": [
    "∑(x,y) = x + y\n",
    "\n",
    "∑(2, 3)"
   ]
  },
  {
   "cell_type": "markdown",
   "metadata": {
    "id": "vljeTnX07PW-"
   },
   "source": [
    "You can set the type of both function parameters and output."
   ]
  },
  {
   "cell_type": "code",
   "execution_count": 42,
   "metadata": {
    "colab": {
     "base_uri": "https://localhost:8080/",
     "height": 276
    },
    "id": "qZzPDyTx7PwW",
    "outputId": "5b470385-45ce-4d46-8780-236212514656"
   },
   "outputs": [
    {
     "name": "stdout",
     "output_type": "stream",
     "text": [
      "55\n"
     ]
    },
    {
     "data": {
      "text/plain": [
       "Int8"
      ]
     },
     "execution_count": 42,
     "metadata": {},
     "output_type": "execute_result"
    }
   ],
   "source": [
    "fib(n::Integer) = n ≤ 2 ? one(n) : fib(n-1) + fib(n-2)\n",
    "\n",
    "println(fib(10))\n",
    "\n",
    "function g(x, y)::Int8\n",
    "    return x * y\n",
    "end\n",
    "\n",
    "# typeof(g((1, 2))) # Fix by Liviu Balan\n",
    "typeof(g(1, 2))"
   ]
  },
  {
   "cell_type": "markdown",
   "metadata": {
    "id": "OXZGN_CV9I8l"
   },
   "source": [
    "Positional arguments — These are the commonly used type of argument. Positional arguments are specified by their position and can’t be called without using their name, doing so will result in an error."
   ]
  },
  {
   "cell_type": "code",
   "execution_count": 45,
   "metadata": {
    "colab": {
     "base_uri": "https://localhost:8080/"
    },
    "id": "JCzog2Gx9JNI",
    "outputId": "aa9dc3d0-e3af-4013-df67-cb21adc6690d"
   },
   "outputs": [
    {
     "name": "stdout",
     "output_type": "stream",
     "text": [
      "1235\n",
      "11052\n"
     ]
    }
   ],
   "source": [
    "function name_demo(a, b=10; c, d=5)\n",
    "     println(a, b, c, d)\n",
    "end\n",
    "\n",
    "name_demo(1,2,c=3)        # a -> 1, b -> 2, c -> 3\n",
    "# name_demo(1,2,3)          # Results in an error\n",
    "name_demo(1, c=5, d=2)    # a -> 1, b -> 10, c -> 5, d -> 2"
   ]
  },
  {
   "cell_type": "markdown",
   "metadata": {
    "id": "4VLudOwE8eYf"
   },
   "source": [
    "Just as in Python, Julia functions can return a `NoneType` called `nothing`."
   ]
  },
  {
   "cell_type": "code",
   "execution_count": 46,
   "metadata": {
    "colab": {
     "base_uri": "https://localhost:8080/"
    },
    "id": "DfP5yHAX8eub",
    "outputId": "168e8a6f-6a66-426a-a374-3db06aebcc5f"
   },
   "outputs": [
    {
     "data": {
      "text/plain": [
       "printx (generic function with 1 method)"
      ]
     },
     "execution_count": 46,
     "metadata": {},
     "output_type": "execute_result"
    }
   ],
   "source": [
    "function printx(x)\n",
    "    println(\"x = $x\")\n",
    "    return nothing\n",
    "end"
   ]
  },
  {
   "cell_type": "markdown",
   "metadata": {
    "id": "nC6t-HoJ8fD3"
   },
   "source": [
    "Not surpisingly, Julia has lambdas as well."
   ]
  },
  {
   "cell_type": "code",
   "execution_count": 47,
   "metadata": {
    "colab": {
     "base_uri": "https://localhost:8080/"
    },
    "id": "1UmP0K-w8fYC",
    "outputId": "ea0e48b9-c35f-4367-da0e-3edce449f501"
   },
   "outputs": [
    {
     "data": {
      "text/plain": [
       "3-element Vector{Int64}:\n",
       "  2\n",
       " 14\n",
       " -2"
      ]
     },
     "execution_count": 47,
     "metadata": {},
     "output_type": "execute_result"
    }
   ],
   "source": [
    "x -> x^2 + 2*x - 1\n",
    "\n",
    "map(x -> x^2 + 2*x - 1, [1, 3, -1])"
   ]
  },
  {
   "cell_type": "markdown",
   "metadata": {
    "id": "S_vQjnn_9lrK"
   },
   "source": [
    "In Julia, it's a convention to append ! to names of functions that modify their arguments. The reason is Julia function arguments are passed-by-sharing, without this \"bang\" convention, it's not easy to know whether a function will change the content of input arguments or not.\n",
    "\n",
    "Julia Base uses this convention throughout and contains examples of functions with both copying and modifying forms (e.g., `sort` and `sort!`), and others which are just modifying (e.g., `push!`, `pop!`, `splice!`). It is typical for such functions to also return the modified array for convenience.\n"
   ]
  },
  {
   "cell_type": "code",
   "execution_count": 48,
   "metadata": {
    "colab": {
     "base_uri": "https://localhost:8080/"
    },
    "id": "WyHCePtO9lLq",
    "outputId": "378ca182-6955-4405-d4b0-b5072f3c78ea"
   },
   "outputs": [
    {
     "data": {
      "text/plain": [
       "double! (generic function with 1 method)"
      ]
     },
     "execution_count": 48,
     "metadata": {},
     "output_type": "execute_result"
    }
   ],
   "source": [
    "function double!(a::AbstractArray{<:Number})\n",
    "    for i = firstindex(a):lastindex(a)\n",
    "        a[i] *= 2\n",
    "    end\n",
    "end"
   ]
  },
  {
   "cell_type": "markdown",
   "metadata": {
    "id": "Ltp6WFGZOYIl"
   },
   "source": [
    "The `.` notation in Julia is used to vectorize functions. \n",
    "\n",
    "For functions, the dot always goes behind the function name.\n",
    "\n",
    "For operators, like `*` or `+` for example, the dot goes before the operator."
   ]
  },
  {
   "cell_type": "code",
   "execution_count": 49,
   "metadata": {
    "colab": {
     "base_uri": "https://localhost:8080/"
    },
    "id": "erp_JBjCF8NJ",
    "outputId": "9db439fd-54b5-42a5-f747-d562b9edf1db"
   },
   "outputs": [
    {
     "data": {
      "text/plain": [
       "3-element Vector{Int64}:\n",
       " 2\n",
       " 3\n",
       " 4"
      ]
     },
     "execution_count": 49,
     "metadata": {},
     "output_type": "execute_result"
    }
   ],
   "source": [
    "function add_one!(x)\n",
    "    x .= x .+ 1\n",
    "end\n",
    "\n",
    "x = [1,2,3]\n",
    "add_one!(x)"
   ]
  },
  {
   "cell_type": "markdown",
   "metadata": {
    "id": "BkGVovaIsM1X"
   },
   "source": [
    "# DataFrames"
   ]
  },
  {
   "cell_type": "markdown",
   "metadata": {
    "id": "OSm-v5j8DC1h"
   },
   "source": [
    "Load all necessary libraries for this section."
   ]
  },
  {
   "cell_type": "code",
   "execution_count": 52,
   "metadata": {
    "colab": {
     "base_uri": "https://localhost:8080/",
     "height": 258
    },
    "id": "ikzs9U3YSTuo",
    "outputId": "66aab72e-a970-4fed-ab57-6918932476eb"
   },
   "outputs": [],
   "source": [
    "# using DataFrames, HTTP, CSV, DataFrameMeta\n",
    "using DataFrames, HTTP, CSV # Fix by Liviu Balan"
   ]
  },
  {
   "cell_type": "markdown",
   "metadata": {
    "id": "Y_xz052TCNxM"
   },
   "source": [
    "For those new to the concept of DataFrames, we recommend you take a crash course on them by reading [this description by DataBricks](https://www.databricks.com/glossary/what-are-dataframes#:~:text=A%20DataFrame%20is%20a%20data,storing%20and%20working%20with%20data.) and/or [this overview by GeeksForGeeks](https://www.geeksforgeeks.org/python-pandas-dataframe/).\n",
    "\n",
    "Moving on, there are multiple ways to create a DataFrame in Julia."
   ]
  },
  {
   "cell_type": "code",
   "execution_count": 53,
   "metadata": {
    "colab": {
     "base_uri": "https://localhost:8080/",
     "height": 222
    },
    "id": "fGprFEGHffsU",
    "outputId": "e3213f0d-f16a-4239-dca5-f7f526270009"
   },
   "outputs": [
    {
     "ename": "LoadError",
     "evalue": "UndefVarError: mat not defined",
     "output_type": "error",
     "traceback": [
      "UndefVarError: mat not defined",
      "",
      "Stacktrace:",
      " [1] top-level scope",
      "   @ In[53]:32",
      " [2] eval",
      "   @ ./boot.jl:368 [inlined]",
      " [3] include_string(mapexpr::typeof(REPL.softscope), mod::Module, code::String, filename::String)",
      "   @ Base ./loading.jl:1428"
     ]
    }
   ],
   "source": [
    "#from a string\n",
    "supplytable = CSV.read(IOBuffer(\"\"\"\n",
    "prod      Epinal Bordeaux Grenoble\n",
    "Fuelwood  400    700      800\n",
    "Sawnwood  800    1600     1800\n",
    "Pannels   200    300      300\n",
    "\"\"\"), DataFrame, delim=\" \", ignorerepeated=true, copycols=true)\n",
    "\n",
    "#from a file\n",
    "#file = your_local_file_path_here\n",
    "#myData = CSV.read(file, Dataframe; delim=';', missingstring=\"NA\", delim=\";\", decimal=',', copycols=true)\n",
    "\n",
    "#from a server-hosted file\n",
    "resp = HTTP.request(\"GET\", \"https://data.cityofnewyork.us/api/views/kku6-nxdu/rows.csv?accessType=DOWNLOAD\")\n",
    "df1 = CSV.read(IOBuffer(String(resp.body)), DataFrame)\n",
    "\n",
    "#from an Array\n",
    "space_companies = [\"SpaceX\", \"Blue Origin\", \"Boeing\", \"Sierra Nevada Corporation\"]\n",
    "df = DataFrame([space_companies], [:space_brands])\n",
    "\n",
    "#from multiple arrays\n",
    "df2 = DataFrame(\n",
    "  colour = [\"green\",\"blue\",\"white\",\"green\",\"green\"],\n",
    "  shape  = [\"circle\", \"triangle\", \"square\",\"square\",\"circle\"],\n",
    "  border = [\"dotted\", \"line\", \"line\", \"line\", \"dotted\"],\n",
    "  area   = [1.1, 2.3, 3.1, missing, 5.2])\n",
    "\n",
    "#from nothing\n",
    "df3 = DataFrame(A = Int64[], B = Float64[])\n",
    "\n",
    "#or from matrices\n",
    "# TODO: mat error\n",
    "df4 = DataFrame([[mat[:,i]...] for i in 1:size(mat,2)], Symbol.(headerstrs))\n",
    "\n",
    "df5 = DataFrame([[mat[2:end,i]...] for i in 1:size(mat,2)], Symbol.(mat[1,:]))"
   ]
  },
  {
   "cell_type": "markdown",
   "metadata": {
    "id": "lCZecXnKSmo_"
   },
   "source": [
    "There are a myriad operations that can be done on a DataFrame. Below we list only a few of them. For more examples please consult the link at the end of the section.\n",
    "\n",
    "We start by providing a number of nuclear operations on DataFrames."
   ]
  },
  {
   "cell_type": "code",
   "execution_count": 72,
   "metadata": {
    "colab": {
     "base_uri": "https://localhost:8080/"
    },
    "id": "7BeFKPdbSmUU",
    "outputId": "70e8f89a-5449-471a-e562-78c083fc3bd9"
   },
   "outputs": [
    {
     "name": "stdout",
     "output_type": "stream",
     "text": [
      "\u001b[1m4×1 DataFrame\u001b[0m\n",
      "\u001b[1m Row \u001b[0m│\u001b[1m space_brands              \u001b[0m\n",
      "     │\u001b[90m String                    \u001b[0m\n",
      "─────┼───────────────────────────\n",
      "   1 │ SpaceX\n",
      "   2 │ Blue Origin\n",
      "   3 │ Boeing\n",
      "   4 │ Sierra Nevada Corporation"
     ]
    },
    {
     "ename": "LoadError",
     "evalue": "syntax: incomplete: premature end of input",
     "output_type": "error",
     "traceback": [
      "syntax: incomplete: premature end of input",
      "",
      "Stacktrace:",
      " [1] top-level scope",
      "   @ In[72]:21",
      " [2] eval",
      "   @ ./boot.jl:368 [inlined]",
      " [3] include_string(mapexpr::typeof(REPL.softscope), mod::Module, code::String, filename::String)",
      "   @ Base ./loading.jl:1428"
     ]
    }
   ],
   "source": [
    "first(df, 6)\n",
    "\n",
    "show(df, allrows=true, allcols=true)\n",
    "\n",
    "last(df, 6)\n",
    "\n",
    "describe(df)\n",
    "\n",
    "unique(df.space_brands)\n",
    "\n",
    "names(df) # returns array of column names\n",
    "\n",
    "[eltype(col) for col = eachcol(df)] # returns an array of column types\n",
    "\n",
    "size(df)\n",
    "\n",
    "size(df)[1]\n",
    "\n",
    "size(df)[2]\n",
    "\n",
    "# TODO: Error\n",
    "#for c in eachcol(df) # iterates over each column\n",
    "\n",
    "# TODO: Error\n",
    "#for r in eachrow(df) # iterates over each row"
   ]
  },
  {
   "cell_type": "markdown",
   "metadata": {
    "id": "6Q4lzHgCdDB2"
   },
   "source": [
    "Some examples of manipulating DataFrame metadata."
   ]
  },
  {
   "cell_type": "code",
   "execution_count": 73,
   "metadata": {
    "colab": {
     "base_uri": "https://localhost:8080/"
    },
    "id": "_UZPReYpdDR6",
    "outputId": "8513f313-5767-4703-bbe8-eba71fd69af3"
   },
   "outputs": [
    {
     "name": "stdout",
     "output_type": "stream",
     "text": [
      "\u001b[1m4×3 DataFrame\u001b[0m\n",
      "\u001b[1m Row \u001b[0m│\u001b[1m item           \u001b[0m\u001b[1m id    \u001b[0m\u001b[1m type       \u001b[0m\n",
      "     │\u001b[90m String         \u001b[0m\u001b[90m Int64 \u001b[0m\u001b[90m String     \u001b[0m\n",
      "─────┼───────────────────────────────────\n",
      "   1 │ Mars Rover        100  Rover\n",
      "   2 │ Venus Explorer    101  Spaceship\n",
      "   3 │ Lunar Rover       102  Rover\n",
      "   4 │ 30% Sun Filter    103  Sun Filter\n",
      "\u001b[1m4×4 DataFrame\u001b[0m\n",
      "\u001b[1m Row \u001b[0m│\u001b[1m item           \u001b[0m\u001b[1m id    \u001b[0m\u001b[1m type       \u001b[0m\u001b[1m condition \u001b[0m\n",
      "     │\u001b[90m String         \u001b[0m\u001b[90m Int64 \u001b[0m\u001b[90m String     \u001b[0m\u001b[90m String    \u001b[0m\n",
      "─────┼──────────────────────────────────────────────\n",
      "   1 │ Mars Rover        100  Rover       Fair\n",
      "   2 │ Venus Explorer    101  Spaceship   Excellent\n",
      "   3 │ Lunar Rover       102  Rover       Fair\n",
      "   4 │ 30% Sun Filter    103  Sun Filter  Poor"
     ]
    },
    {
     "data": {
      "text/plain": [
       "\"inventory.csv\""
      ]
     },
     "execution_count": 73,
     "metadata": {},
     "output_type": "execute_result"
    }
   ],
   "source": [
    "inventory = DataFrame(\n",
    "\titem = [\"Mars Rover\", \"Venus Explorer\", \"Lunar Rover\", \"30% Sun Filter\"],\n",
    "\tid = [100, 101, 102, 103],\n",
    "\tkind = [\"Rover\", \"Spaceship\", \"Rover\", \"Sun Filter\"])\n",
    "\n",
    "#renaming a DataFrame column.\n",
    "rename!(inventory, :kind => :type)\n",
    "\n",
    "println(inventory)\n",
    "\n",
    "#creating a new DataFrame column.\n",
    "condition = [\"Fair\", \"Excellent\", \"Fair\", \"Poor\"]\n",
    "\n",
    "inventory[!, :condition] = condition\n",
    "\n",
    "print(inventory)\n",
    "\n",
    "#writing a DataFrame to a file.\n",
    "CSV.write(\"inventory.csv\", inventory)"
   ]
  },
  {
   "cell_type": "markdown",
   "metadata": {
    "id": "hFsh4XyOe40Q"
   },
   "source": [
    "Filtering a DataFrame by some criteria."
   ]
  },
  {
   "cell_type": "code",
   "execution_count": 74,
   "metadata": {
    "colab": {
     "base_uri": "https://localhost:8080/",
     "height": 127
    },
    "id": "3cU_d6vgewpV",
    "outputId": "a8168bd9-ac5c-4a5c-efd8-b80b299a627c"
   },
   "outputs": [
    {
     "data": {
      "text/html": [
       "<div><div style = \"float: left;\"><span>2×4 DataFrame</span></div><div style = \"clear: both;\"></div></div><div class = \"data-frame\" style = \"overflow-x: scroll;\"><table class = \"data-frame\" style = \"margin-bottom: 6px;\"><thead><tr class = \"header\"><th class = \"rowNumber\" style = \"font-weight: bold; text-align: right;\">Row</th><th style = \"text-align: left;\">item</th><th style = \"text-align: left;\">id</th><th style = \"text-align: left;\">type</th><th style = \"text-align: left;\">condition</th></tr><tr class = \"subheader headerLastRow\"><th class = \"rowNumber\" style = \"font-weight: bold; text-align: right;\"></th><th title = \"String\" style = \"text-align: left;\">String</th><th title = \"Int64\" style = \"text-align: left;\">Int64</th><th title = \"String\" style = \"text-align: left;\">String</th><th title = \"String\" style = \"text-align: left;\">String</th></tr></thead><tbody><tr><td class = \"rowNumber\" style = \"font-weight: bold; text-align: right;\">1</td><td style = \"text-align: left;\">Mars Rover</td><td style = \"text-align: right;\">100</td><td style = \"text-align: left;\">Rover</td><td style = \"text-align: left;\">Fair</td></tr><tr><td class = \"rowNumber\" style = \"font-weight: bold; text-align: right;\">2</td><td style = \"text-align: left;\">Lunar Rover</td><td style = \"text-align: right;\">102</td><td style = \"text-align: left;\">Rover</td><td style = \"text-align: left;\">Fair</td></tr></tbody></table></div>"
      ],
      "text/latex": [
       "\\begin{tabular}{r|cccc}\n",
       "\t& item & id & type & condition\\\\\n",
       "\t\\hline\n",
       "\t& String & Int64 & String & String\\\\\n",
       "\t\\hline\n",
       "\t1 & Mars Rover & 100 & Rover & Fair \\\\\n",
       "\t2 & Lunar Rover & 102 & Rover & Fair \\\\\n",
       "\\end{tabular}\n"
      ],
      "text/plain": [
       "\u001b[1m2×4 DataFrame\u001b[0m\n",
       "\u001b[1m Row \u001b[0m│\u001b[1m item        \u001b[0m\u001b[1m id    \u001b[0m\u001b[1m type   \u001b[0m\u001b[1m condition \u001b[0m\n",
       "     │\u001b[90m String      \u001b[0m\u001b[90m Int64 \u001b[0m\u001b[90m String \u001b[0m\u001b[90m String    \u001b[0m\n",
       "─────┼───────────────────────────────────────\n",
       "   1 │ Mars Rover     100  Rover   Fair\n",
       "   2 │ Lunar Rover    102  Rover   Fair"
      ]
     },
     "execution_count": 74,
     "metadata": {},
     "output_type": "execute_result"
    }
   ],
   "source": [
    "rovers = filter(\n",
    "\tx -> any(occursin.([\"Rover\"], x.item)),\n",
    "\tinventory\n",
    ")\n",
    "\n",
    "rovers"
   ]
  },
  {
   "cell_type": "markdown",
   "metadata": {
    "id": "EVFk4V0fdDiS"
   },
   "source": [
    "Merging two DataFrames."
   ]
  },
  {
   "cell_type": "code",
   "execution_count": 75,
   "metadata": {
    "colab": {
     "base_uri": "https://localhost:8080/",
     "height": 169
    },
    "id": "t4T6B2wbdDw-",
    "outputId": "1bb9b645-86de-43fd-e769-80686d15181b"
   },
   "outputs": [
    {
     "data": {
      "text/html": [
       "<div><div style = \"float: left;\"><span>4×5 DataFrame</span></div><div style = \"clear: both;\"></div></div><div class = \"data-frame\" style = \"overflow-x: scroll;\"><table class = \"data-frame\" style = \"margin-bottom: 6px;\"><thead><tr class = \"header\"><th class = \"rowNumber\" style = \"font-weight: bold; text-align: right;\">Row</th><th style = \"text-align: left;\">item</th><th style = \"text-align: left;\">id</th><th style = \"text-align: left;\">type</th><th style = \"text-align: left;\">condition</th><th style = \"text-align: left;\">sku</th></tr><tr class = \"subheader headerLastRow\"><th class = \"rowNumber\" style = \"font-weight: bold; text-align: right;\"></th><th title = \"String\" style = \"text-align: left;\">String</th><th title = \"Union{Missing, Int64}\" style = \"text-align: left;\">Int64?</th><th title = \"Union{Missing, String}\" style = \"text-align: left;\">String?</th><th title = \"Union{Missing, String}\" style = \"text-align: left;\">String?</th><th title = \"Union{Missing, Int64}\" style = \"text-align: left;\">Int64?</th></tr></thead><tbody><tr><td class = \"rowNumber\" style = \"font-weight: bold; text-align: right;\">1</td><td style = \"text-align: left;\">Mars Rover</td><td style = \"text-align: right;\">100</td><td style = \"text-align: left;\">Rover</td><td style = \"text-align: left;\">Fair</td><td style = \"text-align: right;\">34566</td></tr><tr><td class = \"rowNumber\" style = \"font-weight: bold; text-align: right;\">2</td><td style = \"text-align: left;\">Venus Explorer</td><td style = \"text-align: right;\">101</td><td style = \"text-align: left;\">Spaceship</td><td style = \"text-align: left;\">Excellent</td><td style = \"text-align: right;\">78945</td></tr><tr><td class = \"rowNumber\" style = \"font-weight: bold; text-align: right;\">3</td><td style = \"text-align: left;\">Lunar Rover</td><td style = \"text-align: right;\">102</td><td style = \"text-align: left;\">Rover</td><td style = \"text-align: left;\">Fair</td><td style = \"text-align: right;\">15179</td></tr><tr><td class = \"rowNumber\" style = \"font-weight: bold; text-align: right;\">4</td><td style = \"text-align: left;\">30% Sun Filter</td><td style = \"text-align: right;\">103</td><td style = \"text-align: left;\">Sun Filter</td><td style = \"text-align: left;\">Poor</td><td style = \"text-align: right;\">77254</td></tr></tbody></table></div>"
      ],
      "text/latex": [
       "\\begin{tabular}{r|ccccc}\n",
       "\t& item & id & type & condition & sku\\\\\n",
       "\t\\hline\n",
       "\t& String & Int64? & String? & String? & Int64?\\\\\n",
       "\t\\hline\n",
       "\t1 & Mars Rover & 100 & Rover & Fair & 34566 \\\\\n",
       "\t2 & Venus Explorer & 101 & Spaceship & Excellent & 78945 \\\\\n",
       "\t3 & Lunar Rover & 102 & Rover & Fair & 15179 \\\\\n",
       "\t4 & 30\\% Sun Filter & 103 & Sun Filter & Poor & 77254 \\\\\n",
       "\\end{tabular}\n"
      ],
      "text/plain": [
       "\u001b[1m4×5 DataFrame\u001b[0m\n",
       "\u001b[1m Row \u001b[0m│\u001b[1m item           \u001b[0m\u001b[1m id     \u001b[0m\u001b[1m type       \u001b[0m\u001b[1m condition \u001b[0m\u001b[1m sku    \u001b[0m\n",
       "     │\u001b[90m String         \u001b[0m\u001b[90m Int64? \u001b[0m\u001b[90m String?    \u001b[0m\u001b[90m String?   \u001b[0m\u001b[90m Int64? \u001b[0m\n",
       "─────┼───────────────────────────────────────────────────────\n",
       "   1 │ Mars Rover         100  Rover       Fair        34566\n",
       "   2 │ Venus Explorer     101  Spaceship   Excellent   78945\n",
       "   3 │ Lunar Rover        102  Rover       Fair        15179\n",
       "   4 │ 30% Sun Filter     103  Sun Filter  Poor        77254"
      ]
     },
     "execution_count": 75,
     "metadata": {},
     "output_type": "execute_result"
    }
   ],
   "source": [
    "sku = DataFrame(\n",
    "\titem = [\"Mars Rover\", \"Venus Explorer\", \"Lunar Rover\", \"30% Sun Filter\"],\n",
    "\tsku = [34566, 78945, 15179, 77254])\n",
    "\n",
    "inventory_sku = outerjoin(inventory, sku, on = :item)\n",
    "\n",
    "inventory_sku"
   ]
  },
  {
   "cell_type": "markdown",
   "metadata": {
    "id": "itL6NRVIG9s2"
   },
   "source": [
    "[Here](https://github.com/bkamins/Julia-DataFrames-Tutorial) are a lot more things that you can do to or with DataFrames and [here](https://www.nelsontang.com/blog/2022-03-27-sql-to-julia) you can find a table operation cheatsheet. We recommend bookmarking these link, it might prove useful in the future."
   ]
  },
  {
   "cell_type": "markdown",
   "metadata": {
    "id": "HNBvTLcnyjka"
   },
   "source": [
    "# Plots"
   ]
  },
  {
   "cell_type": "markdown",
   "metadata": {
    "id": "eI-he1-aiLMf"
   },
   "source": [
    "Below we provide a sample of Julia's plotting functionality. For more examples please consult the link at the end of the section.\n",
    "\n",
    "We start by simply calling the plot function for some random 1D data."
   ]
  },
  {
   "cell_type": "code",
   "execution_count": 76,
   "metadata": {
    "id": "d4X71Y71iKtx"
   },
   "outputs": [
    {
     "name": "stdout",
     "output_type": "stream",
     "text": [
      "f() = Plot{Plots.GRBackend() n=1}\n"
     ]
    },
    {
     "data": {
      "image/svg+xml": [
       "<?xml version=\"1.0\" encoding=\"utf-8\"?>\n",
       "<svg xmlns=\"http://www.w3.org/2000/svg\" xmlns:xlink=\"http://www.w3.org/1999/xlink\" width=\"600\" height=\"400\" viewBox=\"0 0 2400 1600\">\n",
       "<defs>\n",
       "  <clipPath id=\"clip870\">\n",
       "    <rect x=\"0\" y=\"0\" width=\"2400\" height=\"1600\"/>\n",
       "  </clipPath>\n",
       "</defs>\n",
       "<path clip-path=\"url(#clip870)\" d=\"\n",
       "M0 1600 L2400 1600 L2400 0 L0 0  Z\n",
       "  \" fill=\"#ffffff\" fill-rule=\"evenodd\" fill-opacity=\"1\"/>\n",
       "<defs>\n",
       "  <clipPath id=\"clip871\">\n",
       "    <rect x=\"480\" y=\"0\" width=\"1681\" height=\"1600\"/>\n",
       "  </clipPath>\n",
       "</defs>\n",
       "<path clip-path=\"url(#clip870)\" d=\"\n",
       "M186.274 1486.45 L2352.76 1486.45 L2352.76 47.2441 L186.274 47.2441  Z\n",
       "  \" fill=\"#ffffff\" fill-rule=\"evenodd\" fill-opacity=\"1\"/>\n",
       "<defs>\n",
       "  <clipPath id=\"clip872\">\n",
       "    <rect x=\"186\" y=\"47\" width=\"2167\" height=\"1440\"/>\n",
       "  </clipPath>\n",
       "</defs>\n",
       "<polyline clip-path=\"url(#clip872)\" style=\"stroke:#000000; stroke-linecap:round; stroke-linejoin:round; stroke-width:2; stroke-opacity:0.1; fill:none\" points=\"\n",
       "  474.684,1486.45 474.684,47.2441 \n",
       "  \"/>\n",
       "<polyline clip-path=\"url(#clip872)\" style=\"stroke:#000000; stroke-linecap:round; stroke-linejoin:round; stroke-width:2; stroke-opacity:0.1; fill:none\" points=\"\n",
       "  928.873,1486.45 928.873,47.2441 \n",
       "  \"/>\n",
       "<polyline clip-path=\"url(#clip872)\" style=\"stroke:#000000; stroke-linecap:round; stroke-linejoin:round; stroke-width:2; stroke-opacity:0.1; fill:none\" points=\"\n",
       "  1383.06,1486.45 1383.06,47.2441 \n",
       "  \"/>\n",
       "<polyline clip-path=\"url(#clip872)\" style=\"stroke:#000000; stroke-linecap:round; stroke-linejoin:round; stroke-width:2; stroke-opacity:0.1; fill:none\" points=\"\n",
       "  1837.25,1486.45 1837.25,47.2441 \n",
       "  \"/>\n",
       "<polyline clip-path=\"url(#clip872)\" style=\"stroke:#000000; stroke-linecap:round; stroke-linejoin:round; stroke-width:2; stroke-opacity:0.1; fill:none\" points=\"\n",
       "  2291.44,1486.45 2291.44,47.2441 \n",
       "  \"/>\n",
       "<polyline clip-path=\"url(#clip870)\" style=\"stroke:#000000; stroke-linecap:round; stroke-linejoin:round; stroke-width:4; stroke-opacity:1; fill:none\" points=\"\n",
       "  186.274,1486.45 2352.76,1486.45 \n",
       "  \"/>\n",
       "<polyline clip-path=\"url(#clip870)\" style=\"stroke:#000000; stroke-linecap:round; stroke-linejoin:round; stroke-width:4; stroke-opacity:1; fill:none\" points=\"\n",
       "  474.684,1486.45 474.684,1467.55 \n",
       "  \"/>\n",
       "<polyline clip-path=\"url(#clip870)\" style=\"stroke:#000000; stroke-linecap:round; stroke-linejoin:round; stroke-width:4; stroke-opacity:1; fill:none\" points=\"\n",
       "  928.873,1486.45 928.873,1467.55 \n",
       "  \"/>\n",
       "<polyline clip-path=\"url(#clip870)\" style=\"stroke:#000000; stroke-linecap:round; stroke-linejoin:round; stroke-width:4; stroke-opacity:1; fill:none\" points=\"\n",
       "  1383.06,1486.45 1383.06,1467.55 \n",
       "  \"/>\n",
       "<polyline clip-path=\"url(#clip870)\" style=\"stroke:#000000; stroke-linecap:round; stroke-linejoin:round; stroke-width:4; stroke-opacity:1; fill:none\" points=\"\n",
       "  1837.25,1486.45 1837.25,1467.55 \n",
       "  \"/>\n",
       "<polyline clip-path=\"url(#clip870)\" style=\"stroke:#000000; stroke-linecap:round; stroke-linejoin:round; stroke-width:4; stroke-opacity:1; fill:none\" points=\"\n",
       "  2291.44,1486.45 2291.44,1467.55 \n",
       "  \"/>\n",
       "<path clip-path=\"url(#clip870)\" d=\"M469.337 1544.91 L485.656 1544.91 L485.656 1548.85 L463.712 1548.85 L463.712 1544.91 Q466.374 1542.16 470.957 1537.53 Q475.564 1532.88 476.744 1531.53 Q478.99 1529.01 479.869 1527.27 Q480.772 1525.51 480.772 1523.82 Q480.772 1521.07 478.828 1519.33 Q476.906 1517.6 473.804 1517.6 Q471.605 1517.6 469.152 1518.36 Q466.721 1519.13 463.943 1520.68 L463.943 1515.95 Q466.767 1514.82 469.221 1514.24 Q471.675 1513.66 473.712 1513.66 Q479.082 1513.66 482.277 1516.35 Q485.471 1519.03 485.471 1523.52 Q485.471 1525.65 484.661 1527.57 Q483.874 1529.47 481.767 1532.07 Q481.189 1532.74 478.087 1535.95 Q474.985 1539.15 469.337 1544.91 Z\" fill=\"#000000\" fill-rule=\"evenodd\" fill-opacity=\"1\" /><path clip-path=\"url(#clip870)\" d=\"M931.882 1518.36 L920.077 1536.81 L931.882 1536.81 L931.882 1518.36 M930.656 1514.29 L936.535 1514.29 L936.535 1536.81 L941.466 1536.81 L941.466 1540.7 L936.535 1540.7 L936.535 1548.85 L931.882 1548.85 L931.882 1540.7 L916.281 1540.7 L916.281 1536.19 L930.656 1514.29 Z\" fill=\"#000000\" fill-rule=\"evenodd\" fill-opacity=\"1\" /><path clip-path=\"url(#clip870)\" d=\"M1383.47 1529.7 Q1380.32 1529.7 1378.47 1531.86 Q1376.64 1534.01 1376.64 1537.76 Q1376.64 1541.49 1378.47 1543.66 Q1380.32 1545.82 1383.47 1545.82 Q1386.62 1545.82 1388.44 1543.66 Q1390.3 1541.49 1390.3 1537.76 Q1390.3 1534.01 1388.44 1531.86 Q1386.62 1529.7 1383.47 1529.7 M1392.75 1515.05 L1392.75 1519.31 Q1390.99 1518.48 1389.18 1518.04 Q1387.4 1517.6 1385.64 1517.6 Q1381.01 1517.6 1378.56 1520.72 Q1376.13 1523.85 1375.78 1530.17 Q1377.15 1528.15 1379.21 1527.09 Q1381.27 1526 1383.75 1526 Q1388.95 1526 1391.96 1529.17 Q1395 1532.32 1395 1537.76 Q1395 1543.08 1391.85 1546.3 Q1388.7 1549.52 1383.47 1549.52 Q1377.47 1549.52 1374.3 1544.94 Q1371.13 1540.33 1371.13 1531.6 Q1371.13 1523.41 1375.02 1518.55 Q1378.91 1513.66 1385.46 1513.66 Q1387.22 1513.66 1389 1514.01 Q1390.81 1514.36 1392.75 1515.05 Z\" fill=\"#000000\" fill-rule=\"evenodd\" fill-opacity=\"1\" /><path clip-path=\"url(#clip870)\" d=\"M1837.25 1532.44 Q1833.92 1532.44 1832 1534.22 Q1830.1 1536 1830.1 1539.13 Q1830.1 1542.25 1832 1544.03 Q1833.92 1545.82 1837.25 1545.82 Q1840.58 1545.82 1842.51 1544.03 Q1844.43 1542.23 1844.43 1539.13 Q1844.43 1536 1842.51 1534.22 Q1840.61 1532.44 1837.25 1532.44 M1832.58 1530.45 Q1829.57 1529.7 1827.88 1527.64 Q1826.21 1525.58 1826.21 1522.62 Q1826.21 1518.48 1829.15 1516.07 Q1832.11 1513.66 1837.25 1513.66 Q1842.41 1513.66 1845.35 1516.07 Q1848.29 1518.48 1848.29 1522.62 Q1848.29 1525.58 1846.6 1527.64 Q1844.94 1529.7 1841.95 1530.45 Q1845.33 1531.23 1847.2 1533.52 Q1849.1 1535.82 1849.1 1539.13 Q1849.1 1544.15 1846.02 1546.83 Q1842.97 1549.52 1837.25 1549.52 Q1831.53 1549.52 1828.46 1546.83 Q1825.4 1544.15 1825.4 1539.13 Q1825.4 1535.82 1827.3 1533.52 Q1829.2 1531.23 1832.58 1530.45 M1830.86 1523.06 Q1830.86 1525.75 1832.53 1527.25 Q1834.22 1528.76 1837.25 1528.76 Q1840.26 1528.76 1841.95 1527.25 Q1843.66 1525.75 1843.66 1523.06 Q1843.66 1520.38 1841.95 1518.87 Q1840.26 1517.37 1837.25 1517.37 Q1834.22 1517.37 1832.53 1518.87 Q1830.86 1520.38 1830.86 1523.06 Z\" fill=\"#000000\" fill-rule=\"evenodd\" fill-opacity=\"1\" /><path clip-path=\"url(#clip870)\" d=\"M2266.13 1544.91 L2273.77 1544.91 L2273.77 1518.55 L2265.46 1520.21 L2265.46 1515.95 L2273.72 1514.29 L2278.4 1514.29 L2278.4 1544.91 L2286.04 1544.91 L2286.04 1548.85 L2266.13 1548.85 L2266.13 1544.91 Z\" fill=\"#000000\" fill-rule=\"evenodd\" fill-opacity=\"1\" /><path clip-path=\"url(#clip870)\" d=\"M2305.48 1517.37 Q2301.87 1517.37 2300.04 1520.93 Q2298.23 1524.47 2298.23 1531.6 Q2298.23 1538.71 2300.04 1542.27 Q2301.87 1545.82 2305.48 1545.82 Q2309.11 1545.82 2310.92 1542.27 Q2312.75 1538.71 2312.75 1531.6 Q2312.75 1524.47 2310.92 1520.93 Q2309.11 1517.37 2305.48 1517.37 M2305.48 1513.66 Q2311.29 1513.66 2314.35 1518.27 Q2317.42 1522.85 2317.42 1531.6 Q2317.42 1540.33 2314.35 1544.94 Q2311.29 1549.52 2305.48 1549.52 Q2299.67 1549.52 2296.59 1544.94 Q2293.54 1540.33 2293.54 1531.6 Q2293.54 1522.85 2296.59 1518.27 Q2299.67 1513.66 2305.48 1513.66 Z\" fill=\"#000000\" fill-rule=\"evenodd\" fill-opacity=\"1\" /><polyline clip-path=\"url(#clip872)\" style=\"stroke:#000000; stroke-linecap:round; stroke-linejoin:round; stroke-width:2; stroke-opacity:0.1; fill:none\" points=\"\n",
       "  186.274,1470.54 2352.76,1470.54 \n",
       "  \"/>\n",
       "<polyline clip-path=\"url(#clip872)\" style=\"stroke:#000000; stroke-linecap:round; stroke-linejoin:round; stroke-width:2; stroke-opacity:0.1; fill:none\" points=\"\n",
       "  186.274,1124.01 2352.76,1124.01 \n",
       "  \"/>\n",
       "<polyline clip-path=\"url(#clip872)\" style=\"stroke:#000000; stroke-linecap:round; stroke-linejoin:round; stroke-width:2; stroke-opacity:0.1; fill:none\" points=\"\n",
       "  186.274,777.478 2352.76,777.478 \n",
       "  \"/>\n",
       "<polyline clip-path=\"url(#clip872)\" style=\"stroke:#000000; stroke-linecap:round; stroke-linejoin:round; stroke-width:2; stroke-opacity:0.1; fill:none\" points=\"\n",
       "  186.274,430.946 2352.76,430.946 \n",
       "  \"/>\n",
       "<polyline clip-path=\"url(#clip872)\" style=\"stroke:#000000; stroke-linecap:round; stroke-linejoin:round; stroke-width:2; stroke-opacity:0.1; fill:none\" points=\"\n",
       "  186.274,84.4147 2352.76,84.4147 \n",
       "  \"/>\n",
       "<polyline clip-path=\"url(#clip870)\" style=\"stroke:#000000; stroke-linecap:round; stroke-linejoin:round; stroke-width:4; stroke-opacity:1; fill:none\" points=\"\n",
       "  186.274,1486.45 186.274,47.2441 \n",
       "  \"/>\n",
       "<polyline clip-path=\"url(#clip870)\" style=\"stroke:#000000; stroke-linecap:round; stroke-linejoin:round; stroke-width:4; stroke-opacity:1; fill:none\" points=\"\n",
       "  186.274,1470.54 205.172,1470.54 \n",
       "  \"/>\n",
       "<polyline clip-path=\"url(#clip870)\" style=\"stroke:#000000; stroke-linecap:round; stroke-linejoin:round; stroke-width:4; stroke-opacity:1; fill:none\" points=\"\n",
       "  186.274,1124.01 205.172,1124.01 \n",
       "  \"/>\n",
       "<polyline clip-path=\"url(#clip870)\" style=\"stroke:#000000; stroke-linecap:round; stroke-linejoin:round; stroke-width:4; stroke-opacity:1; fill:none\" points=\"\n",
       "  186.274,777.478 205.172,777.478 \n",
       "  \"/>\n",
       "<polyline clip-path=\"url(#clip870)\" style=\"stroke:#000000; stroke-linecap:round; stroke-linejoin:round; stroke-width:4; stroke-opacity:1; fill:none\" points=\"\n",
       "  186.274,430.946 205.172,430.946 \n",
       "  \"/>\n",
       "<polyline clip-path=\"url(#clip870)\" style=\"stroke:#000000; stroke-linecap:round; stroke-linejoin:round; stroke-width:4; stroke-opacity:1; fill:none\" points=\"\n",
       "  186.274,84.4147 205.172,84.4147 \n",
       "  \"/>\n",
       "<path clip-path=\"url(#clip870)\" d=\"M62.9365 1456.34 Q59.3254 1456.34 57.4967 1459.9 Q55.6912 1463.45 55.6912 1470.58 Q55.6912 1477.68 57.4967 1481.25 Q59.3254 1484.79 62.9365 1484.79 Q66.5707 1484.79 68.3763 1481.25 Q70.205 1477.68 70.205 1470.58 Q70.205 1463.45 68.3763 1459.9 Q66.5707 1456.34 62.9365 1456.34 M62.9365 1452.64 Q68.7467 1452.64 71.8022 1457.24 Q74.8809 1461.83 74.8809 1470.58 Q74.8809 1479.3 71.8022 1483.91 Q68.7467 1488.49 62.9365 1488.49 Q57.1264 1488.49 54.0477 1483.91 Q50.9921 1479.3 50.9921 1470.58 Q50.9921 1461.83 54.0477 1457.24 Q57.1264 1452.64 62.9365 1452.64 Z\" fill=\"#000000\" fill-rule=\"evenodd\" fill-opacity=\"1\" /><path clip-path=\"url(#clip870)\" d=\"M83.0984 1481.94 L87.9827 1481.94 L87.9827 1487.82 L83.0984 1487.82 L83.0984 1481.94 Z\" fill=\"#000000\" fill-rule=\"evenodd\" fill-opacity=\"1\" /><path clip-path=\"url(#clip870)\" d=\"M108.168 1456.34 Q104.557 1456.34 102.728 1459.9 Q100.922 1463.45 100.922 1470.58 Q100.922 1477.68 102.728 1481.25 Q104.557 1484.79 108.168 1484.79 Q111.802 1484.79 113.608 1481.25 Q115.436 1477.68 115.436 1470.58 Q115.436 1463.45 113.608 1459.9 Q111.802 1456.34 108.168 1456.34 M108.168 1452.64 Q113.978 1452.64 117.033 1457.24 Q120.112 1461.83 120.112 1470.58 Q120.112 1479.3 117.033 1483.91 Q113.978 1488.49 108.168 1488.49 Q102.358 1488.49 99.2789 1483.91 Q96.2234 1479.3 96.2234 1470.58 Q96.2234 1461.83 99.2789 1457.24 Q102.358 1452.64 108.168 1452.64 Z\" fill=\"#000000\" fill-rule=\"evenodd\" fill-opacity=\"1\" /><path clip-path=\"url(#clip870)\" d=\"M138.33 1456.34 Q134.719 1456.34 132.89 1459.9 Q131.084 1463.45 131.084 1470.58 Q131.084 1477.68 132.89 1481.25 Q134.719 1484.79 138.33 1484.79 Q141.964 1484.79 143.769 1481.25 Q145.598 1477.68 145.598 1470.58 Q145.598 1463.45 143.769 1459.9 Q141.964 1456.34 138.33 1456.34 M138.33 1452.64 Q144.14 1452.64 147.195 1457.24 Q150.274 1461.83 150.274 1470.58 Q150.274 1479.3 147.195 1483.91 Q144.14 1488.49 138.33 1488.49 Q132.519 1488.49 129.441 1483.91 Q126.385 1479.3 126.385 1470.58 Q126.385 1461.83 129.441 1457.24 Q132.519 1452.64 138.33 1452.64 Z\" fill=\"#000000\" fill-rule=\"evenodd\" fill-opacity=\"1\" /><path clip-path=\"url(#clip870)\" d=\"M63.9319 1109.81 Q60.3208 1109.81 58.4921 1113.37 Q56.6865 1116.91 56.6865 1124.04 Q56.6865 1131.15 58.4921 1134.71 Q60.3208 1138.26 63.9319 1138.26 Q67.5661 1138.26 69.3717 1134.71 Q71.2004 1131.15 71.2004 1124.04 Q71.2004 1116.91 69.3717 1113.37 Q67.5661 1109.81 63.9319 1109.81 M63.9319 1106.1 Q69.742 1106.1 72.7976 1110.71 Q75.8763 1115.29 75.8763 1124.04 Q75.8763 1132.77 72.7976 1137.38 Q69.742 1141.96 63.9319 1141.96 Q58.1217 1141.96 55.043 1137.38 Q51.9875 1132.77 51.9875 1124.04 Q51.9875 1115.29 55.043 1110.71 Q58.1217 1106.1 63.9319 1106.1 Z\" fill=\"#000000\" fill-rule=\"evenodd\" fill-opacity=\"1\" /><path clip-path=\"url(#clip870)\" d=\"M84.0938 1135.41 L88.978 1135.41 L88.978 1141.29 L84.0938 1141.29 L84.0938 1135.41 Z\" fill=\"#000000\" fill-rule=\"evenodd\" fill-opacity=\"1\" /><path clip-path=\"url(#clip870)\" d=\"M103.191 1137.35 L119.51 1137.35 L119.51 1141.29 L97.566 1141.29 L97.566 1137.35 Q100.228 1134.6 104.811 1129.97 Q109.418 1125.32 110.598 1123.97 Q112.844 1121.45 113.723 1119.72 Q114.626 1117.96 114.626 1116.27 Q114.626 1113.51 112.682 1111.78 Q110.76 1110.04 107.658 1110.04 Q105.459 1110.04 103.006 1110.8 Q100.575 1111.57 97.7974 1113.12 L97.7974 1108.4 Q100.621 1107.26 103.075 1106.68 Q105.529 1106.1 107.566 1106.1 Q112.936 1106.1 116.131 1108.79 Q119.325 1111.47 119.325 1115.97 Q119.325 1118.09 118.515 1120.02 Q117.728 1121.91 115.621 1124.51 Q115.043 1125.18 111.941 1128.4 Q108.839 1131.59 103.191 1137.35 Z\" fill=\"#000000\" fill-rule=\"evenodd\" fill-opacity=\"1\" /><path clip-path=\"url(#clip870)\" d=\"M129.371 1106.73 L147.728 1106.73 L147.728 1110.66 L133.654 1110.66 L133.654 1119.14 Q134.672 1118.79 135.691 1118.63 Q136.709 1118.44 137.728 1118.44 Q143.515 1118.44 146.894 1121.61 Q150.274 1124.78 150.274 1130.2 Q150.274 1135.78 146.802 1138.88 Q143.33 1141.96 137.01 1141.96 Q134.834 1141.96 132.566 1141.59 Q130.32 1141.22 127.913 1140.48 L127.913 1135.78 Q129.996 1136.91 132.219 1137.47 Q134.441 1138.03 136.918 1138.03 Q140.922 1138.03 143.26 1135.92 Q145.598 1133.81 145.598 1130.2 Q145.598 1126.59 143.26 1124.48 Q140.922 1122.38 136.918 1122.38 Q135.043 1122.38 133.168 1122.79 Q131.316 1123.21 129.371 1124.09 L129.371 1106.73 Z\" fill=\"#000000\" fill-rule=\"evenodd\" fill-opacity=\"1\" /><path clip-path=\"url(#clip870)\" d=\"M62.9365 763.276 Q59.3254 763.276 57.4967 766.841 Q55.6912 770.383 55.6912 777.512 Q55.6912 784.619 57.4967 788.184 Q59.3254 791.725 62.9365 791.725 Q66.5707 791.725 68.3763 788.184 Q70.205 784.619 70.205 777.512 Q70.205 770.383 68.3763 766.841 Q66.5707 763.276 62.9365 763.276 M62.9365 759.573 Q68.7467 759.573 71.8022 764.179 Q74.8809 768.762 74.8809 777.512 Q74.8809 786.239 71.8022 790.846 Q68.7467 795.429 62.9365 795.429 Q57.1264 795.429 54.0477 790.846 Q50.9921 786.239 50.9921 777.512 Q50.9921 768.762 54.0477 764.179 Q57.1264 759.573 62.9365 759.573 Z\" fill=\"#000000\" fill-rule=\"evenodd\" fill-opacity=\"1\" /><path clip-path=\"url(#clip870)\" d=\"M83.0984 788.878 L87.9827 788.878 L87.9827 794.758 L83.0984 794.758 L83.0984 788.878 Z\" fill=\"#000000\" fill-rule=\"evenodd\" fill-opacity=\"1\" /><path clip-path=\"url(#clip870)\" d=\"M98.2141 760.198 L116.57 760.198 L116.57 764.133 L102.496 764.133 L102.496 772.605 Q103.515 772.258 104.534 772.096 Q105.552 771.91 106.571 771.91 Q112.358 771.91 115.737 775.082 Q119.117 778.253 119.117 783.67 Q119.117 789.248 115.645 792.35 Q112.172 795.429 105.853 795.429 Q103.677 795.429 101.409 795.059 Q99.1632 794.688 96.7558 793.947 L96.7558 789.248 Q98.8391 790.383 101.061 790.938 Q103.284 791.494 105.76 791.494 Q109.765 791.494 112.103 789.387 Q114.441 787.281 114.441 783.67 Q114.441 780.059 112.103 777.952 Q109.765 775.846 105.76 775.846 Q103.885 775.846 102.01 776.262 Q100.159 776.679 98.2141 777.559 L98.2141 760.198 Z\" fill=\"#000000\" fill-rule=\"evenodd\" fill-opacity=\"1\" /><path clip-path=\"url(#clip870)\" d=\"M138.33 763.276 Q134.719 763.276 132.89 766.841 Q131.084 770.383 131.084 777.512 Q131.084 784.619 132.89 788.184 Q134.719 791.725 138.33 791.725 Q141.964 791.725 143.769 788.184 Q145.598 784.619 145.598 777.512 Q145.598 770.383 143.769 766.841 Q141.964 763.276 138.33 763.276 M138.33 759.573 Q144.14 759.573 147.195 764.179 Q150.274 768.762 150.274 777.512 Q150.274 786.239 147.195 790.846 Q144.14 795.429 138.33 795.429 Q132.519 795.429 129.441 790.846 Q126.385 786.239 126.385 777.512 Q126.385 768.762 129.441 764.179 Q132.519 759.573 138.33 759.573 Z\" fill=\"#000000\" fill-rule=\"evenodd\" fill-opacity=\"1\" /><path clip-path=\"url(#clip870)\" d=\"M63.9319 416.745 Q60.3208 416.745 58.4921 420.31 Q56.6865 423.851 56.6865 430.981 Q56.6865 438.087 58.4921 441.652 Q60.3208 445.194 63.9319 445.194 Q67.5661 445.194 69.3717 441.652 Q71.2004 438.087 71.2004 430.981 Q71.2004 423.851 69.3717 420.31 Q67.5661 416.745 63.9319 416.745 M63.9319 413.041 Q69.742 413.041 72.7976 417.648 Q75.8763 422.231 75.8763 430.981 Q75.8763 439.708 72.7976 444.314 Q69.742 448.897 63.9319 448.897 Q58.1217 448.897 55.043 444.314 Q51.9875 439.708 51.9875 430.981 Q51.9875 422.231 55.043 417.648 Q58.1217 413.041 63.9319 413.041 Z\" fill=\"#000000\" fill-rule=\"evenodd\" fill-opacity=\"1\" /><path clip-path=\"url(#clip870)\" d=\"M84.0938 442.347 L88.978 442.347 L88.978 448.226 L84.0938 448.226 L84.0938 442.347 Z\" fill=\"#000000\" fill-rule=\"evenodd\" fill-opacity=\"1\" /><path clip-path=\"url(#clip870)\" d=\"M97.9826 413.666 L120.205 413.666 L120.205 415.657 L107.658 448.226 L102.774 448.226 L114.58 417.601 L97.9826 417.601 L97.9826 413.666 Z\" fill=\"#000000\" fill-rule=\"evenodd\" fill-opacity=\"1\" /><path clip-path=\"url(#clip870)\" d=\"M129.371 413.666 L147.728 413.666 L147.728 417.601 L133.654 417.601 L133.654 426.073 Q134.672 425.726 135.691 425.564 Q136.709 425.379 137.728 425.379 Q143.515 425.379 146.894 428.55 Q150.274 431.722 150.274 437.138 Q150.274 442.717 146.802 445.819 Q143.33 448.897 137.01 448.897 Q134.834 448.897 132.566 448.527 Q130.32 448.157 127.913 447.416 L127.913 442.717 Q129.996 443.851 132.219 444.407 Q134.441 444.962 136.918 444.962 Q140.922 444.962 143.26 442.856 Q145.598 440.749 145.598 437.138 Q145.598 433.527 143.26 431.421 Q140.922 429.314 136.918 429.314 Q135.043 429.314 133.168 429.731 Q131.316 430.148 129.371 431.027 L129.371 413.666 Z\" fill=\"#000000\" fill-rule=\"evenodd\" fill-opacity=\"1\" /><path clip-path=\"url(#clip870)\" d=\"M53.7467 97.7595 L61.3856 97.7595 L61.3856 71.3939 L53.0754 73.0606 L53.0754 68.8013 L61.3393 67.1347 L66.0152 67.1347 L66.0152 97.7595 L73.654 97.7595 L73.654 101.695 L53.7467 101.695 L53.7467 97.7595 Z\" fill=\"#000000\" fill-rule=\"evenodd\" fill-opacity=\"1\" /><path clip-path=\"url(#clip870)\" d=\"M83.0984 95.8151 L87.9827 95.8151 L87.9827 101.695 L83.0984 101.695 L83.0984 95.8151 Z\" fill=\"#000000\" fill-rule=\"evenodd\" fill-opacity=\"1\" /><path clip-path=\"url(#clip870)\" d=\"M108.168 70.2134 Q104.557 70.2134 102.728 73.7782 Q100.922 77.3198 100.922 84.4494 Q100.922 91.5558 102.728 95.1206 Q104.557 98.6623 108.168 98.6623 Q111.802 98.6623 113.608 95.1206 Q115.436 91.5558 115.436 84.4494 Q115.436 77.3198 113.608 73.7782 Q111.802 70.2134 108.168 70.2134 M108.168 66.5097 Q113.978 66.5097 117.033 71.1161 Q120.112 75.6994 120.112 84.4494 Q120.112 93.1762 117.033 97.7827 Q113.978 102.366 108.168 102.366 Q102.358 102.366 99.2789 97.7827 Q96.2234 93.1762 96.2234 84.4494 Q96.2234 75.6994 99.2789 71.1161 Q102.358 66.5097 108.168 66.5097 Z\" fill=\"#000000\" fill-rule=\"evenodd\" fill-opacity=\"1\" /><path clip-path=\"url(#clip870)\" d=\"M138.33 70.2134 Q134.719 70.2134 132.89 73.7782 Q131.084 77.3198 131.084 84.4494 Q131.084 91.5558 132.89 95.1206 Q134.719 98.6623 138.33 98.6623 Q141.964 98.6623 143.769 95.1206 Q145.598 91.5558 145.598 84.4494 Q145.598 77.3198 143.769 73.7782 Q141.964 70.2134 138.33 70.2134 M138.33 66.5097 Q144.14 66.5097 147.195 71.1161 Q150.274 75.6994 150.274 84.4494 Q150.274 93.1762 147.195 97.7827 Q144.14 102.366 138.33 102.366 Q132.519 102.366 129.441 97.7827 Q126.385 93.1762 126.385 84.4494 Q126.385 75.6994 129.441 71.1161 Q132.519 66.5097 138.33 66.5097 Z\" fill=\"#000000\" fill-rule=\"evenodd\" fill-opacity=\"1\" /><polyline clip-path=\"url(#clip872)\" style=\"stroke:#009af9; stroke-linecap:round; stroke-linejoin:round; stroke-width:4; stroke-opacity:1; fill:none\" points=\"\n",
       "  247.59,1232.82 474.684,1132.76 701.779,1445.72 928.873,861.509 1155.97,1086.34 1383.06,1429.12 1610.16,1400.81 1837.25,87.9763 2064.35,283.3 2291.44,340.356 \n",
       "  \n",
       "  \"/>\n",
       "<path clip-path=\"url(#clip870)\" d=\"\n",
       "M1987.39 198.898 L2280.54 198.898 L2280.54 95.2176 L1987.39 95.2176  Z\n",
       "  \" fill=\"#ffffff\" fill-rule=\"evenodd\" fill-opacity=\"1\"/>\n",
       "<polyline clip-path=\"url(#clip870)\" style=\"stroke:#000000; stroke-linecap:round; stroke-linejoin:round; stroke-width:4; stroke-opacity:1; fill:none\" points=\"\n",
       "  1987.39,198.898 2280.54,198.898 2280.54,95.2176 1987.39,95.2176 1987.39,198.898 \n",
       "  \"/>\n",
       "<polyline clip-path=\"url(#clip870)\" style=\"stroke:#009af9; stroke-linecap:round; stroke-linejoin:round; stroke-width:4; stroke-opacity:1; fill:none\" points=\"\n",
       "  2011.46,147.058 2155.89,147.058 \n",
       "  \"/>\n",
       "<path clip-path=\"url(#clip870)\" d=\"M2193.81 166.745 Q2192 171.375 2190.29 172.787 Q2188.58 174.199 2185.71 174.199 L2182.3 174.199 L2182.3 170.634 L2184.8 170.634 Q2186.56 170.634 2187.53 169.8 Q2188.51 168.967 2189.69 165.865 L2190.45 163.921 L2179.97 138.412 L2184.48 138.412 L2192.58 158.689 L2200.68 138.412 L2205.2 138.412 L2193.81 166.745 Z\" fill=\"#000000\" fill-rule=\"evenodd\" fill-opacity=\"1\" /><path clip-path=\"url(#clip870)\" d=\"M2212.49 160.402 L2220.13 160.402 L2220.13 134.037 L2211.82 135.703 L2211.82 131.444 L2220.08 129.778 L2224.76 129.778 L2224.76 160.402 L2232.4 160.402 L2232.4 164.338 L2212.49 164.338 L2212.49 160.402 Z\" fill=\"#000000\" fill-rule=\"evenodd\" fill-opacity=\"1\" /></svg>\n"
      ]
     },
     "execution_count": 76,
     "metadata": {},
     "output_type": "execute_result"
    }
   ],
   "source": [
    "using Plots\n",
    "data = rand(10)\n",
    "f() = plot(data)\n",
    "@show f()"
   ]
  },
  {
   "cell_type": "markdown",
   "metadata": {
    "id": "JG6d34GfiMIA"
   },
   "source": [
    "We can add more than 1 graph to the same plot. In Julia's plotting backend, every column of a matrix or DataFrame represents a 'series'."
   ]
  },
  {
   "cell_type": "code",
   "execution_count": 77,
   "metadata": {
    "id": "BvX8IcsqiMan"
   },
   "outputs": [
    {
     "data": {
      "image/svg+xml": [
       "<?xml version=\"1.0\" encoding=\"utf-8\"?>\n",
       "<svg xmlns=\"http://www.w3.org/2000/svg\" xmlns:xlink=\"http://www.w3.org/1999/xlink\" width=\"600\" height=\"400\" viewBox=\"0 0 2400 1600\">\n",
       "<defs>\n",
       "  <clipPath id=\"clip910\">\n",
       "    <rect x=\"0\" y=\"0\" width=\"2400\" height=\"1600\"/>\n",
       "  </clipPath>\n",
       "</defs>\n",
       "<path clip-path=\"url(#clip910)\" d=\"\n",
       "M0 1600 L2400 1600 L2400 0 L0 0  Z\n",
       "  \" fill=\"#ffffff\" fill-rule=\"evenodd\" fill-opacity=\"1\"/>\n",
       "<defs>\n",
       "  <clipPath id=\"clip911\">\n",
       "    <rect x=\"480\" y=\"0\" width=\"1681\" height=\"1600\"/>\n",
       "  </clipPath>\n",
       "</defs>\n",
       "<path clip-path=\"url(#clip910)\" d=\"\n",
       "M186.274 1486.45 L2352.76 1486.45 L2352.76 47.2441 L186.274 47.2441  Z\n",
       "  \" fill=\"#ffffff\" fill-rule=\"evenodd\" fill-opacity=\"1\"/>\n",
       "<defs>\n",
       "  <clipPath id=\"clip912\">\n",
       "    <rect x=\"186\" y=\"47\" width=\"2167\" height=\"1440\"/>\n",
       "  </clipPath>\n",
       "</defs>\n",
       "<polyline clip-path=\"url(#clip912)\" style=\"stroke:#000000; stroke-linecap:round; stroke-linejoin:round; stroke-width:2; stroke-opacity:0.1; fill:none\" points=\"\n",
       "  474.684,1486.45 474.684,47.2441 \n",
       "  \"/>\n",
       "<polyline clip-path=\"url(#clip912)\" style=\"stroke:#000000; stroke-linecap:round; stroke-linejoin:round; stroke-width:2; stroke-opacity:0.1; fill:none\" points=\"\n",
       "  928.873,1486.45 928.873,47.2441 \n",
       "  \"/>\n",
       "<polyline clip-path=\"url(#clip912)\" style=\"stroke:#000000; stroke-linecap:round; stroke-linejoin:round; stroke-width:2; stroke-opacity:0.1; fill:none\" points=\"\n",
       "  1383.06,1486.45 1383.06,47.2441 \n",
       "  \"/>\n",
       "<polyline clip-path=\"url(#clip912)\" style=\"stroke:#000000; stroke-linecap:round; stroke-linejoin:round; stroke-width:2; stroke-opacity:0.1; fill:none\" points=\"\n",
       "  1837.25,1486.45 1837.25,47.2441 \n",
       "  \"/>\n",
       "<polyline clip-path=\"url(#clip912)\" style=\"stroke:#000000; stroke-linecap:round; stroke-linejoin:round; stroke-width:2; stroke-opacity:0.1; fill:none\" points=\"\n",
       "  2291.44,1486.45 2291.44,47.2441 \n",
       "  \"/>\n",
       "<polyline clip-path=\"url(#clip910)\" style=\"stroke:#000000; stroke-linecap:round; stroke-linejoin:round; stroke-width:4; stroke-opacity:1; fill:none\" points=\"\n",
       "  186.274,1486.45 2352.76,1486.45 \n",
       "  \"/>\n",
       "<polyline clip-path=\"url(#clip910)\" style=\"stroke:#000000; stroke-linecap:round; stroke-linejoin:round; stroke-width:4; stroke-opacity:1; fill:none\" points=\"\n",
       "  474.684,1486.45 474.684,1467.55 \n",
       "  \"/>\n",
       "<polyline clip-path=\"url(#clip910)\" style=\"stroke:#000000; stroke-linecap:round; stroke-linejoin:round; stroke-width:4; stroke-opacity:1; fill:none\" points=\"\n",
       "  928.873,1486.45 928.873,1467.55 \n",
       "  \"/>\n",
       "<polyline clip-path=\"url(#clip910)\" style=\"stroke:#000000; stroke-linecap:round; stroke-linejoin:round; stroke-width:4; stroke-opacity:1; fill:none\" points=\"\n",
       "  1383.06,1486.45 1383.06,1467.55 \n",
       "  \"/>\n",
       "<polyline clip-path=\"url(#clip910)\" style=\"stroke:#000000; stroke-linecap:round; stroke-linejoin:round; stroke-width:4; stroke-opacity:1; fill:none\" points=\"\n",
       "  1837.25,1486.45 1837.25,1467.55 \n",
       "  \"/>\n",
       "<polyline clip-path=\"url(#clip910)\" style=\"stroke:#000000; stroke-linecap:round; stroke-linejoin:round; stroke-width:4; stroke-opacity:1; fill:none\" points=\"\n",
       "  2291.44,1486.45 2291.44,1467.55 \n",
       "  \"/>\n",
       "<path clip-path=\"url(#clip910)\" d=\"M469.337 1544.91 L485.656 1544.91 L485.656 1548.85 L463.712 1548.85 L463.712 1544.91 Q466.374 1542.16 470.957 1537.53 Q475.564 1532.88 476.744 1531.53 Q478.99 1529.01 479.869 1527.27 Q480.772 1525.51 480.772 1523.82 Q480.772 1521.07 478.828 1519.33 Q476.906 1517.6 473.804 1517.6 Q471.605 1517.6 469.152 1518.36 Q466.721 1519.13 463.943 1520.68 L463.943 1515.95 Q466.767 1514.82 469.221 1514.24 Q471.675 1513.66 473.712 1513.66 Q479.082 1513.66 482.277 1516.35 Q485.471 1519.03 485.471 1523.52 Q485.471 1525.65 484.661 1527.57 Q483.874 1529.47 481.767 1532.07 Q481.189 1532.74 478.087 1535.95 Q474.985 1539.15 469.337 1544.91 Z\" fill=\"#000000\" fill-rule=\"evenodd\" fill-opacity=\"1\" /><path clip-path=\"url(#clip910)\" d=\"M931.882 1518.36 L920.077 1536.81 L931.882 1536.81 L931.882 1518.36 M930.656 1514.29 L936.535 1514.29 L936.535 1536.81 L941.466 1536.81 L941.466 1540.7 L936.535 1540.7 L936.535 1548.85 L931.882 1548.85 L931.882 1540.7 L916.281 1540.7 L916.281 1536.19 L930.656 1514.29 Z\" fill=\"#000000\" fill-rule=\"evenodd\" fill-opacity=\"1\" /><path clip-path=\"url(#clip910)\" d=\"M1383.47 1529.7 Q1380.32 1529.7 1378.47 1531.86 Q1376.64 1534.01 1376.64 1537.76 Q1376.64 1541.49 1378.47 1543.66 Q1380.32 1545.82 1383.47 1545.82 Q1386.62 1545.82 1388.44 1543.66 Q1390.3 1541.49 1390.3 1537.76 Q1390.3 1534.01 1388.44 1531.86 Q1386.62 1529.7 1383.47 1529.7 M1392.75 1515.05 L1392.75 1519.31 Q1390.99 1518.48 1389.18 1518.04 Q1387.4 1517.6 1385.64 1517.6 Q1381.01 1517.6 1378.56 1520.72 Q1376.13 1523.85 1375.78 1530.17 Q1377.15 1528.15 1379.21 1527.09 Q1381.27 1526 1383.75 1526 Q1388.95 1526 1391.96 1529.17 Q1395 1532.32 1395 1537.76 Q1395 1543.08 1391.85 1546.3 Q1388.7 1549.52 1383.47 1549.52 Q1377.47 1549.52 1374.3 1544.94 Q1371.13 1540.33 1371.13 1531.6 Q1371.13 1523.41 1375.02 1518.55 Q1378.91 1513.66 1385.46 1513.66 Q1387.22 1513.66 1389 1514.01 Q1390.81 1514.36 1392.75 1515.05 Z\" fill=\"#000000\" fill-rule=\"evenodd\" fill-opacity=\"1\" /><path clip-path=\"url(#clip910)\" d=\"M1837.25 1532.44 Q1833.92 1532.44 1832 1534.22 Q1830.1 1536 1830.1 1539.13 Q1830.1 1542.25 1832 1544.03 Q1833.92 1545.82 1837.25 1545.82 Q1840.58 1545.82 1842.51 1544.03 Q1844.43 1542.23 1844.43 1539.13 Q1844.43 1536 1842.51 1534.22 Q1840.61 1532.44 1837.25 1532.44 M1832.58 1530.45 Q1829.57 1529.7 1827.88 1527.64 Q1826.21 1525.58 1826.21 1522.62 Q1826.21 1518.48 1829.15 1516.07 Q1832.11 1513.66 1837.25 1513.66 Q1842.41 1513.66 1845.35 1516.07 Q1848.29 1518.48 1848.29 1522.62 Q1848.29 1525.58 1846.6 1527.64 Q1844.94 1529.7 1841.95 1530.45 Q1845.33 1531.23 1847.2 1533.52 Q1849.1 1535.82 1849.1 1539.13 Q1849.1 1544.15 1846.02 1546.83 Q1842.97 1549.52 1837.25 1549.52 Q1831.53 1549.52 1828.46 1546.83 Q1825.4 1544.15 1825.4 1539.13 Q1825.4 1535.82 1827.3 1533.52 Q1829.2 1531.23 1832.58 1530.45 M1830.86 1523.06 Q1830.86 1525.75 1832.53 1527.25 Q1834.22 1528.76 1837.25 1528.76 Q1840.26 1528.76 1841.95 1527.25 Q1843.66 1525.75 1843.66 1523.06 Q1843.66 1520.38 1841.95 1518.87 Q1840.26 1517.37 1837.25 1517.37 Q1834.22 1517.37 1832.53 1518.87 Q1830.86 1520.38 1830.86 1523.06 Z\" fill=\"#000000\" fill-rule=\"evenodd\" fill-opacity=\"1\" /><path clip-path=\"url(#clip910)\" d=\"M2266.13 1544.91 L2273.77 1544.91 L2273.77 1518.55 L2265.46 1520.21 L2265.46 1515.95 L2273.72 1514.29 L2278.4 1514.29 L2278.4 1544.91 L2286.04 1544.91 L2286.04 1548.85 L2266.13 1548.85 L2266.13 1544.91 Z\" fill=\"#000000\" fill-rule=\"evenodd\" fill-opacity=\"1\" /><path clip-path=\"url(#clip910)\" d=\"M2305.48 1517.37 Q2301.87 1517.37 2300.04 1520.93 Q2298.23 1524.47 2298.23 1531.6 Q2298.23 1538.71 2300.04 1542.27 Q2301.87 1545.82 2305.48 1545.82 Q2309.11 1545.82 2310.92 1542.27 Q2312.75 1538.71 2312.75 1531.6 Q2312.75 1524.47 2310.92 1520.93 Q2309.11 1517.37 2305.48 1517.37 M2305.48 1513.66 Q2311.29 1513.66 2314.35 1518.27 Q2317.42 1522.85 2317.42 1531.6 Q2317.42 1540.33 2314.35 1544.94 Q2311.29 1549.52 2305.48 1549.52 Q2299.67 1549.52 2296.59 1544.94 Q2293.54 1540.33 2293.54 1531.6 Q2293.54 1522.85 2296.59 1518.27 Q2299.67 1513.66 2305.48 1513.66 Z\" fill=\"#000000\" fill-rule=\"evenodd\" fill-opacity=\"1\" /><polyline clip-path=\"url(#clip912)\" style=\"stroke:#000000; stroke-linecap:round; stroke-linejoin:round; stroke-width:2; stroke-opacity:0.1; fill:none\" points=\"\n",
       "  186.274,1464.17 2352.76,1464.17 \n",
       "  \"/>\n",
       "<polyline clip-path=\"url(#clip912)\" style=\"stroke:#000000; stroke-linecap:round; stroke-linejoin:round; stroke-width:2; stroke-opacity:0.1; fill:none\" points=\"\n",
       "  186.274,1118.57 2352.76,1118.57 \n",
       "  \"/>\n",
       "<polyline clip-path=\"url(#clip912)\" style=\"stroke:#000000; stroke-linecap:round; stroke-linejoin:round; stroke-width:2; stroke-opacity:0.1; fill:none\" points=\"\n",
       "  186.274,772.974 2352.76,772.974 \n",
       "  \"/>\n",
       "<polyline clip-path=\"url(#clip912)\" style=\"stroke:#000000; stroke-linecap:round; stroke-linejoin:round; stroke-width:2; stroke-opacity:0.1; fill:none\" points=\"\n",
       "  186.274,427.379 2352.76,427.379 \n",
       "  \"/>\n",
       "<polyline clip-path=\"url(#clip912)\" style=\"stroke:#000000; stroke-linecap:round; stroke-linejoin:round; stroke-width:2; stroke-opacity:0.1; fill:none\" points=\"\n",
       "  186.274,81.7831 2352.76,81.7831 \n",
       "  \"/>\n",
       "<polyline clip-path=\"url(#clip910)\" style=\"stroke:#000000; stroke-linecap:round; stroke-linejoin:round; stroke-width:4; stroke-opacity:1; fill:none\" points=\"\n",
       "  186.274,1486.45 186.274,47.2441 \n",
       "  \"/>\n",
       "<polyline clip-path=\"url(#clip910)\" style=\"stroke:#000000; stroke-linecap:round; stroke-linejoin:round; stroke-width:4; stroke-opacity:1; fill:none\" points=\"\n",
       "  186.274,1464.17 205.172,1464.17 \n",
       "  \"/>\n",
       "<polyline clip-path=\"url(#clip910)\" style=\"stroke:#000000; stroke-linecap:round; stroke-linejoin:round; stroke-width:4; stroke-opacity:1; fill:none\" points=\"\n",
       "  186.274,1118.57 205.172,1118.57 \n",
       "  \"/>\n",
       "<polyline clip-path=\"url(#clip910)\" style=\"stroke:#000000; stroke-linecap:round; stroke-linejoin:round; stroke-width:4; stroke-opacity:1; fill:none\" points=\"\n",
       "  186.274,772.974 205.172,772.974 \n",
       "  \"/>\n",
       "<polyline clip-path=\"url(#clip910)\" style=\"stroke:#000000; stroke-linecap:round; stroke-linejoin:round; stroke-width:4; stroke-opacity:1; fill:none\" points=\"\n",
       "  186.274,427.379 205.172,427.379 \n",
       "  \"/>\n",
       "<polyline clip-path=\"url(#clip910)\" style=\"stroke:#000000; stroke-linecap:round; stroke-linejoin:round; stroke-width:4; stroke-opacity:1; fill:none\" points=\"\n",
       "  186.274,81.7831 205.172,81.7831 \n",
       "  \"/>\n",
       "<path clip-path=\"url(#clip910)\" d=\"M62.9365 1449.96 Q59.3254 1449.96 57.4967 1453.53 Q55.6912 1457.07 55.6912 1464.2 Q55.6912 1471.31 57.4967 1474.87 Q59.3254 1478.41 62.9365 1478.41 Q66.5707 1478.41 68.3763 1474.87 Q70.205 1471.31 70.205 1464.2 Q70.205 1457.07 68.3763 1453.53 Q66.5707 1449.96 62.9365 1449.96 M62.9365 1446.26 Q68.7467 1446.26 71.8022 1450.87 Q74.8809 1455.45 74.8809 1464.2 Q74.8809 1472.93 71.8022 1477.53 Q68.7467 1482.12 62.9365 1482.12 Q57.1264 1482.12 54.0477 1477.53 Q50.9921 1472.93 50.9921 1464.2 Q50.9921 1455.45 54.0477 1450.87 Q57.1264 1446.26 62.9365 1446.26 Z\" fill=\"#000000\" fill-rule=\"evenodd\" fill-opacity=\"1\" /><path clip-path=\"url(#clip910)\" d=\"M83.0984 1475.57 L87.9827 1475.57 L87.9827 1481.45 L83.0984 1481.45 L83.0984 1475.57 Z\" fill=\"#000000\" fill-rule=\"evenodd\" fill-opacity=\"1\" /><path clip-path=\"url(#clip910)\" d=\"M108.168 1449.96 Q104.557 1449.96 102.728 1453.53 Q100.922 1457.07 100.922 1464.2 Q100.922 1471.31 102.728 1474.87 Q104.557 1478.41 108.168 1478.41 Q111.802 1478.41 113.608 1474.87 Q115.436 1471.31 115.436 1464.2 Q115.436 1457.07 113.608 1453.53 Q111.802 1449.96 108.168 1449.96 M108.168 1446.26 Q113.978 1446.26 117.033 1450.87 Q120.112 1455.45 120.112 1464.2 Q120.112 1472.93 117.033 1477.53 Q113.978 1482.12 108.168 1482.12 Q102.358 1482.12 99.2789 1477.53 Q96.2234 1472.93 96.2234 1464.2 Q96.2234 1455.45 99.2789 1450.87 Q102.358 1446.26 108.168 1446.26 Z\" fill=\"#000000\" fill-rule=\"evenodd\" fill-opacity=\"1\" /><path clip-path=\"url(#clip910)\" d=\"M138.33 1449.96 Q134.719 1449.96 132.89 1453.53 Q131.084 1457.07 131.084 1464.2 Q131.084 1471.31 132.89 1474.87 Q134.719 1478.41 138.33 1478.41 Q141.964 1478.41 143.769 1474.87 Q145.598 1471.31 145.598 1464.2 Q145.598 1457.07 143.769 1453.53 Q141.964 1449.96 138.33 1449.96 M138.33 1446.26 Q144.14 1446.26 147.195 1450.87 Q150.274 1455.45 150.274 1464.2 Q150.274 1472.93 147.195 1477.53 Q144.14 1482.12 138.33 1482.12 Q132.519 1482.12 129.441 1477.53 Q126.385 1472.93 126.385 1464.2 Q126.385 1455.45 129.441 1450.87 Q132.519 1446.26 138.33 1446.26 Z\" fill=\"#000000\" fill-rule=\"evenodd\" fill-opacity=\"1\" /><path clip-path=\"url(#clip910)\" d=\"M63.9319 1104.37 Q60.3208 1104.37 58.4921 1107.93 Q56.6865 1111.47 56.6865 1118.6 Q56.6865 1125.71 58.4921 1129.28 Q60.3208 1132.82 63.9319 1132.82 Q67.5661 1132.82 69.3717 1129.28 Q71.2004 1125.71 71.2004 1118.6 Q71.2004 1111.47 69.3717 1107.93 Q67.5661 1104.37 63.9319 1104.37 M63.9319 1100.66 Q69.742 1100.66 72.7976 1105.27 Q75.8763 1109.85 75.8763 1118.6 Q75.8763 1127.33 72.7976 1131.94 Q69.742 1136.52 63.9319 1136.52 Q58.1217 1136.52 55.043 1131.94 Q51.9875 1127.33 51.9875 1118.6 Q51.9875 1109.85 55.043 1105.27 Q58.1217 1100.66 63.9319 1100.66 Z\" fill=\"#000000\" fill-rule=\"evenodd\" fill-opacity=\"1\" /><path clip-path=\"url(#clip910)\" d=\"M84.0938 1129.97 L88.978 1129.97 L88.978 1135.85 L84.0938 1135.85 L84.0938 1129.97 Z\" fill=\"#000000\" fill-rule=\"evenodd\" fill-opacity=\"1\" /><path clip-path=\"url(#clip910)\" d=\"M103.191 1131.91 L119.51 1131.91 L119.51 1135.85 L97.566 1135.85 L97.566 1131.91 Q100.228 1129.16 104.811 1124.53 Q109.418 1119.88 110.598 1118.53 Q112.844 1116.01 113.723 1114.28 Q114.626 1112.52 114.626 1110.83 Q114.626 1108.07 112.682 1106.34 Q110.76 1104.6 107.658 1104.6 Q105.459 1104.6 103.006 1105.36 Q100.575 1106.13 97.7974 1107.68 L97.7974 1102.96 Q100.621 1101.82 103.075 1101.24 Q105.529 1100.66 107.566 1100.66 Q112.936 1100.66 116.131 1103.35 Q119.325 1106.04 119.325 1110.53 Q119.325 1112.66 118.515 1114.58 Q117.728 1116.47 115.621 1119.07 Q115.043 1119.74 111.941 1122.96 Q108.839 1126.15 103.191 1131.91 Z\" fill=\"#000000\" fill-rule=\"evenodd\" fill-opacity=\"1\" /><path clip-path=\"url(#clip910)\" d=\"M129.371 1101.29 L147.728 1101.29 L147.728 1105.22 L133.654 1105.22 L133.654 1113.7 Q134.672 1113.35 135.691 1113.19 Q136.709 1113 137.728 1113 Q143.515 1113 146.894 1116.17 Q150.274 1119.35 150.274 1124.76 Q150.274 1130.34 146.802 1133.44 Q143.33 1136.52 137.01 1136.52 Q134.834 1136.52 132.566 1136.15 Q130.32 1135.78 127.913 1135.04 L127.913 1130.34 Q129.996 1131.47 132.219 1132.03 Q134.441 1132.59 136.918 1132.59 Q140.922 1132.59 143.26 1130.48 Q145.598 1128.37 145.598 1124.76 Q145.598 1121.15 143.26 1119.04 Q140.922 1116.94 136.918 1116.94 Q135.043 1116.94 133.168 1117.35 Q131.316 1117.77 129.371 1118.65 L129.371 1101.29 Z\" fill=\"#000000\" fill-rule=\"evenodd\" fill-opacity=\"1\" /><path clip-path=\"url(#clip910)\" d=\"M62.9365 758.773 Q59.3254 758.773 57.4967 762.338 Q55.6912 765.879 55.6912 773.009 Q55.6912 780.115 57.4967 783.68 Q59.3254 787.222 62.9365 787.222 Q66.5707 787.222 68.3763 783.68 Q70.205 780.115 70.205 773.009 Q70.205 765.879 68.3763 762.338 Q66.5707 758.773 62.9365 758.773 M62.9365 755.069 Q68.7467 755.069 71.8022 759.676 Q74.8809 764.259 74.8809 773.009 Q74.8809 781.736 71.8022 786.342 Q68.7467 790.925 62.9365 790.925 Q57.1264 790.925 54.0477 786.342 Q50.9921 781.736 50.9921 773.009 Q50.9921 764.259 54.0477 759.676 Q57.1264 755.069 62.9365 755.069 Z\" fill=\"#000000\" fill-rule=\"evenodd\" fill-opacity=\"1\" /><path clip-path=\"url(#clip910)\" d=\"M83.0984 784.375 L87.9827 784.375 L87.9827 790.254 L83.0984 790.254 L83.0984 784.375 Z\" fill=\"#000000\" fill-rule=\"evenodd\" fill-opacity=\"1\" /><path clip-path=\"url(#clip910)\" d=\"M98.2141 755.694 L116.57 755.694 L116.57 759.629 L102.496 759.629 L102.496 768.101 Q103.515 767.754 104.534 767.592 Q105.552 767.407 106.571 767.407 Q112.358 767.407 115.737 770.578 Q119.117 773.75 119.117 779.166 Q119.117 784.745 115.645 787.847 Q112.172 790.925 105.853 790.925 Q103.677 790.925 101.409 790.555 Q99.1632 790.185 96.7558 789.444 L96.7558 784.745 Q98.8391 785.879 101.061 786.435 Q103.284 786.99 105.76 786.99 Q109.765 786.99 112.103 784.884 Q114.441 782.777 114.441 779.166 Q114.441 775.555 112.103 773.449 Q109.765 771.342 105.76 771.342 Q103.885 771.342 102.01 771.759 Q100.159 772.176 98.2141 773.055 L98.2141 755.694 Z\" fill=\"#000000\" fill-rule=\"evenodd\" fill-opacity=\"1\" /><path clip-path=\"url(#clip910)\" d=\"M138.33 758.773 Q134.719 758.773 132.89 762.338 Q131.084 765.879 131.084 773.009 Q131.084 780.115 132.89 783.68 Q134.719 787.222 138.33 787.222 Q141.964 787.222 143.769 783.68 Q145.598 780.115 145.598 773.009 Q145.598 765.879 143.769 762.338 Q141.964 758.773 138.33 758.773 M138.33 755.069 Q144.14 755.069 147.195 759.676 Q150.274 764.259 150.274 773.009 Q150.274 781.736 147.195 786.342 Q144.14 790.925 138.33 790.925 Q132.519 790.925 129.441 786.342 Q126.385 781.736 126.385 773.009 Q126.385 764.259 129.441 759.676 Q132.519 755.069 138.33 755.069 Z\" fill=\"#000000\" fill-rule=\"evenodd\" fill-opacity=\"1\" /><path clip-path=\"url(#clip910)\" d=\"M63.9319 413.177 Q60.3208 413.177 58.4921 416.742 Q56.6865 420.284 56.6865 427.413 Q56.6865 434.52 58.4921 438.085 Q60.3208 441.626 63.9319 441.626 Q67.5661 441.626 69.3717 438.085 Q71.2004 434.52 71.2004 427.413 Q71.2004 420.284 69.3717 416.742 Q67.5661 413.177 63.9319 413.177 M63.9319 409.474 Q69.742 409.474 72.7976 414.08 Q75.8763 418.663 75.8763 427.413 Q75.8763 436.14 72.7976 440.747 Q69.742 445.33 63.9319 445.33 Q58.1217 445.33 55.043 440.747 Q51.9875 436.14 51.9875 427.413 Q51.9875 418.663 55.043 414.08 Q58.1217 409.474 63.9319 409.474 Z\" fill=\"#000000\" fill-rule=\"evenodd\" fill-opacity=\"1\" /><path clip-path=\"url(#clip910)\" d=\"M84.0938 438.779 L88.978 438.779 L88.978 444.659 L84.0938 444.659 L84.0938 438.779 Z\" fill=\"#000000\" fill-rule=\"evenodd\" fill-opacity=\"1\" /><path clip-path=\"url(#clip910)\" d=\"M97.9826 410.099 L120.205 410.099 L120.205 412.089 L107.658 444.659 L102.774 444.659 L114.58 414.034 L97.9826 414.034 L97.9826 410.099 Z\" fill=\"#000000\" fill-rule=\"evenodd\" fill-opacity=\"1\" /><path clip-path=\"url(#clip910)\" d=\"M129.371 410.099 L147.728 410.099 L147.728 414.034 L133.654 414.034 L133.654 422.506 Q134.672 422.159 135.691 421.997 Q136.709 421.812 137.728 421.812 Q143.515 421.812 146.894 424.983 Q150.274 428.154 150.274 433.571 Q150.274 439.149 146.802 442.251 Q143.33 445.33 137.01 445.33 Q134.834 445.33 132.566 444.96 Q130.32 444.589 127.913 443.848 L127.913 439.149 Q129.996 440.284 132.219 440.839 Q134.441 441.395 136.918 441.395 Q140.922 441.395 143.26 439.288 Q145.598 437.182 145.598 433.571 Q145.598 429.96 143.26 427.853 Q140.922 425.747 136.918 425.747 Q135.043 425.747 133.168 426.163 Q131.316 426.58 129.371 427.46 L129.371 410.099 Z\" fill=\"#000000\" fill-rule=\"evenodd\" fill-opacity=\"1\" /><path clip-path=\"url(#clip910)\" d=\"M53.7467 95.128 L61.3856 95.128 L61.3856 68.7624 L53.0754 70.429 L53.0754 66.1698 L61.3393 64.5031 L66.0152 64.5031 L66.0152 95.128 L73.654 95.128 L73.654 99.0631 L53.7467 99.0631 L53.7467 95.128 Z\" fill=\"#000000\" fill-rule=\"evenodd\" fill-opacity=\"1\" /><path clip-path=\"url(#clip910)\" d=\"M83.0984 93.1835 L87.9827 93.1835 L87.9827 99.0631 L83.0984 99.0631 L83.0984 93.1835 Z\" fill=\"#000000\" fill-rule=\"evenodd\" fill-opacity=\"1\" /><path clip-path=\"url(#clip910)\" d=\"M108.168 67.5818 Q104.557 67.5818 102.728 71.1466 Q100.922 74.6882 100.922 81.8178 Q100.922 88.9243 102.728 92.4891 Q104.557 96.0307 108.168 96.0307 Q111.802 96.0307 113.608 92.4891 Q115.436 88.9243 115.436 81.8178 Q115.436 74.6882 113.608 71.1466 Q111.802 67.5818 108.168 67.5818 M108.168 63.8781 Q113.978 63.8781 117.033 68.4846 Q120.112 73.0679 120.112 81.8178 Q120.112 90.5446 117.033 95.1511 Q113.978 99.7344 108.168 99.7344 Q102.358 99.7344 99.2789 95.1511 Q96.2234 90.5446 96.2234 81.8178 Q96.2234 73.0679 99.2789 68.4846 Q102.358 63.8781 108.168 63.8781 Z\" fill=\"#000000\" fill-rule=\"evenodd\" fill-opacity=\"1\" /><path clip-path=\"url(#clip910)\" d=\"M138.33 67.5818 Q134.719 67.5818 132.89 71.1466 Q131.084 74.6882 131.084 81.8178 Q131.084 88.9243 132.89 92.4891 Q134.719 96.0307 138.33 96.0307 Q141.964 96.0307 143.769 92.4891 Q145.598 88.9243 145.598 81.8178 Q145.598 74.6882 143.769 71.1466 Q141.964 67.5818 138.33 67.5818 M138.33 63.8781 Q144.14 63.8781 147.195 68.4846 Q150.274 73.0679 150.274 81.8178 Q150.274 90.5446 147.195 95.1511 Q144.14 99.7344 138.33 99.7344 Q132.519 99.7344 129.441 95.1511 Q126.385 90.5446 126.385 81.8178 Q126.385 73.0679 129.441 68.4846 Q132.519 63.8781 138.33 63.8781 Z\" fill=\"#000000\" fill-rule=\"evenodd\" fill-opacity=\"1\" /><polyline clip-path=\"url(#clip912)\" style=\"stroke:#009af9; stroke-linecap:round; stroke-linejoin:round; stroke-width:4; stroke-opacity:1; fill:none\" points=\"\n",
       "  247.59,647.473 474.684,1260.24 701.779,1445.72 928.873,698.214 1155.97,1101.21 1383.06,1103.84 1610.16,1035.23 1837.25,1204.68 2064.35,87.9763 2291.44,552.225 \n",
       "  \n",
       "  \"/>\n",
       "<polyline clip-path=\"url(#clip912)\" style=\"stroke:#e26f46; stroke-linecap:round; stroke-linejoin:round; stroke-width:4; stroke-opacity:1; fill:none\" points=\"\n",
       "  247.59,1299.95 474.684,693.97 701.779,1396.67 928.873,460.396 1155.97,937.041 1383.06,1168.33 1610.16,1361.24 1837.25,175.493 2064.35,1341.36 2291.44,1434.4 \n",
       "  \n",
       "  \"/>\n",
       "<path clip-path=\"url(#clip910)\" d=\"\n",
       "M1987.39 250.738 L2280.54 250.738 L2280.54 95.2176 L1987.39 95.2176  Z\n",
       "  \" fill=\"#ffffff\" fill-rule=\"evenodd\" fill-opacity=\"1\"/>\n",
       "<polyline clip-path=\"url(#clip910)\" style=\"stroke:#000000; stroke-linecap:round; stroke-linejoin:round; stroke-width:4; stroke-opacity:1; fill:none\" points=\"\n",
       "  1987.39,250.738 2280.54,250.738 2280.54,95.2176 1987.39,95.2176 1987.39,250.738 \n",
       "  \"/>\n",
       "<polyline clip-path=\"url(#clip910)\" style=\"stroke:#009af9; stroke-linecap:round; stroke-linejoin:round; stroke-width:4; stroke-opacity:1; fill:none\" points=\"\n",
       "  2011.46,147.058 2155.89,147.058 \n",
       "  \"/>\n",
       "<path clip-path=\"url(#clip910)\" d=\"M2193.81 166.745 Q2192 171.375 2190.29 172.787 Q2188.58 174.199 2185.71 174.199 L2182.3 174.199 L2182.3 170.634 L2184.8 170.634 Q2186.56 170.634 2187.53 169.8 Q2188.51 168.967 2189.69 165.865 L2190.45 163.921 L2179.97 138.412 L2184.48 138.412 L2192.58 158.689 L2200.68 138.412 L2205.2 138.412 L2193.81 166.745 Z\" fill=\"#000000\" fill-rule=\"evenodd\" fill-opacity=\"1\" /><path clip-path=\"url(#clip910)\" d=\"M2212.49 160.402 L2220.13 160.402 L2220.13 134.037 L2211.82 135.703 L2211.82 131.444 L2220.08 129.778 L2224.76 129.778 L2224.76 160.402 L2232.4 160.402 L2232.4 164.338 L2212.49 164.338 L2212.49 160.402 Z\" fill=\"#000000\" fill-rule=\"evenodd\" fill-opacity=\"1\" /><polyline clip-path=\"url(#clip910)\" style=\"stroke:#e26f46; stroke-linecap:round; stroke-linejoin:round; stroke-width:4; stroke-opacity:1; fill:none\" points=\"\n",
       "  2011.46,198.898 2155.89,198.898 \n",
       "  \"/>\n",
       "<path clip-path=\"url(#clip910)\" d=\"M2193.81 218.585 Q2192 223.215 2190.29 224.627 Q2188.58 226.039 2185.71 226.039 L2182.3 226.039 L2182.3 222.474 L2184.8 222.474 Q2186.56 222.474 2187.53 221.64 Q2188.51 220.807 2189.69 217.705 L2190.45 215.761 L2179.97 190.252 L2184.48 190.252 L2192.58 210.529 L2200.68 190.252 L2205.2 190.252 L2193.81 218.585 Z\" fill=\"#000000\" fill-rule=\"evenodd\" fill-opacity=\"1\" /><path clip-path=\"url(#clip910)\" d=\"M2215.71 212.242 L2232.03 212.242 L2232.03 216.178 L2210.08 216.178 L2210.08 212.242 Q2212.74 209.488 2217.33 204.858 Q2221.93 200.205 2223.11 198.863 Q2225.36 196.34 2226.24 194.604 Q2227.14 192.844 2227.14 191.155 Q2227.14 188.4 2225.2 186.664 Q2223.28 184.928 2220.17 184.928 Q2217.97 184.928 2215.52 185.692 Q2213.09 186.455 2210.31 188.006 L2210.31 183.284 Q2213.14 182.15 2215.59 181.571 Q2218.04 180.993 2220.08 180.993 Q2225.45 180.993 2228.65 183.678 Q2231.84 186.363 2231.84 190.854 Q2231.84 192.983 2231.03 194.905 Q2230.24 196.803 2228.14 199.395 Q2227.56 200.067 2224.46 203.284 Q2221.35 206.479 2215.71 212.242 Z\" fill=\"#000000\" fill-rule=\"evenodd\" fill-opacity=\"1\" /></svg>\n"
      ]
     },
     "execution_count": 77,
     "metadata": {},
     "output_type": "execute_result"
    }
   ],
   "source": [
    "using Plots \n",
    "data2 = rand(10, 2); # 10x2 random mat\n",
    "plot(data2)"
   ]
  },
  {
   "cell_type": "markdown",
   "metadata": {
    "id": "zQezuuR9iZxM"
   },
   "source": [
    "We can also add to the most recent plot using plot!()"
   ]
  },
  {
   "cell_type": "code",
   "execution_count": 78,
   "metadata": {
    "id": "pZ6Y2urmiaA8"
   },
   "outputs": [
    {
     "data": {
      "image/svg+xml": [
       "<?xml version=\"1.0\" encoding=\"utf-8\"?>\n",
       "<svg xmlns=\"http://www.w3.org/2000/svg\" xmlns:xlink=\"http://www.w3.org/1999/xlink\" width=\"600\" height=\"400\" viewBox=\"0 0 2400 1600\">\n",
       "<defs>\n",
       "  <clipPath id=\"clip950\">\n",
       "    <rect x=\"0\" y=\"0\" width=\"2400\" height=\"1600\"/>\n",
       "  </clipPath>\n",
       "</defs>\n",
       "<path clip-path=\"url(#clip950)\" d=\"\n",
       "M0 1600 L2400 1600 L2400 0 L0 0  Z\n",
       "  \" fill=\"#ffffff\" fill-rule=\"evenodd\" fill-opacity=\"1\"/>\n",
       "<defs>\n",
       "  <clipPath id=\"clip951\">\n",
       "    <rect x=\"480\" y=\"0\" width=\"1681\" height=\"1600\"/>\n",
       "  </clipPath>\n",
       "</defs>\n",
       "<path clip-path=\"url(#clip950)\" d=\"\n",
       "M186.274 1486.45 L2352.76 1486.45 L2352.76 47.2441 L186.274 47.2441  Z\n",
       "  \" fill=\"#ffffff\" fill-rule=\"evenodd\" fill-opacity=\"1\"/>\n",
       "<defs>\n",
       "  <clipPath id=\"clip952\">\n",
       "    <rect x=\"186\" y=\"47\" width=\"2167\" height=\"1440\"/>\n",
       "  </clipPath>\n",
       "</defs>\n",
       "<polyline clip-path=\"url(#clip952)\" style=\"stroke:#000000; stroke-linecap:round; stroke-linejoin:round; stroke-width:2; stroke-opacity:0.1; fill:none\" points=\"\n",
       "  474.684,1486.45 474.684,47.2441 \n",
       "  \"/>\n",
       "<polyline clip-path=\"url(#clip952)\" style=\"stroke:#000000; stroke-linecap:round; stroke-linejoin:round; stroke-width:2; stroke-opacity:0.1; fill:none\" points=\"\n",
       "  928.873,1486.45 928.873,47.2441 \n",
       "  \"/>\n",
       "<polyline clip-path=\"url(#clip952)\" style=\"stroke:#000000; stroke-linecap:round; stroke-linejoin:round; stroke-width:2; stroke-opacity:0.1; fill:none\" points=\"\n",
       "  1383.06,1486.45 1383.06,47.2441 \n",
       "  \"/>\n",
       "<polyline clip-path=\"url(#clip952)\" style=\"stroke:#000000; stroke-linecap:round; stroke-linejoin:round; stroke-width:2; stroke-opacity:0.1; fill:none\" points=\"\n",
       "  1837.25,1486.45 1837.25,47.2441 \n",
       "  \"/>\n",
       "<polyline clip-path=\"url(#clip952)\" style=\"stroke:#000000; stroke-linecap:round; stroke-linejoin:round; stroke-width:2; stroke-opacity:0.1; fill:none\" points=\"\n",
       "  2291.44,1486.45 2291.44,47.2441 \n",
       "  \"/>\n",
       "<polyline clip-path=\"url(#clip950)\" style=\"stroke:#000000; stroke-linecap:round; stroke-linejoin:round; stroke-width:4; stroke-opacity:1; fill:none\" points=\"\n",
       "  186.274,1486.45 2352.76,1486.45 \n",
       "  \"/>\n",
       "<polyline clip-path=\"url(#clip950)\" style=\"stroke:#000000; stroke-linecap:round; stroke-linejoin:round; stroke-width:4; stroke-opacity:1; fill:none\" points=\"\n",
       "  474.684,1486.45 474.684,1467.55 \n",
       "  \"/>\n",
       "<polyline clip-path=\"url(#clip950)\" style=\"stroke:#000000; stroke-linecap:round; stroke-linejoin:round; stroke-width:4; stroke-opacity:1; fill:none\" points=\"\n",
       "  928.873,1486.45 928.873,1467.55 \n",
       "  \"/>\n",
       "<polyline clip-path=\"url(#clip950)\" style=\"stroke:#000000; stroke-linecap:round; stroke-linejoin:round; stroke-width:4; stroke-opacity:1; fill:none\" points=\"\n",
       "  1383.06,1486.45 1383.06,1467.55 \n",
       "  \"/>\n",
       "<polyline clip-path=\"url(#clip950)\" style=\"stroke:#000000; stroke-linecap:round; stroke-linejoin:round; stroke-width:4; stroke-opacity:1; fill:none\" points=\"\n",
       "  1837.25,1486.45 1837.25,1467.55 \n",
       "  \"/>\n",
       "<polyline clip-path=\"url(#clip950)\" style=\"stroke:#000000; stroke-linecap:round; stroke-linejoin:round; stroke-width:4; stroke-opacity:1; fill:none\" points=\"\n",
       "  2291.44,1486.45 2291.44,1467.55 \n",
       "  \"/>\n",
       "<path clip-path=\"url(#clip950)\" d=\"M469.337 1544.91 L485.656 1544.91 L485.656 1548.85 L463.712 1548.85 L463.712 1544.91 Q466.374 1542.16 470.957 1537.53 Q475.564 1532.88 476.744 1531.53 Q478.99 1529.01 479.869 1527.27 Q480.772 1525.51 480.772 1523.82 Q480.772 1521.07 478.828 1519.33 Q476.906 1517.6 473.804 1517.6 Q471.605 1517.6 469.152 1518.36 Q466.721 1519.13 463.943 1520.68 L463.943 1515.95 Q466.767 1514.82 469.221 1514.24 Q471.675 1513.66 473.712 1513.66 Q479.082 1513.66 482.277 1516.35 Q485.471 1519.03 485.471 1523.52 Q485.471 1525.65 484.661 1527.57 Q483.874 1529.47 481.767 1532.07 Q481.189 1532.74 478.087 1535.95 Q474.985 1539.15 469.337 1544.91 Z\" fill=\"#000000\" fill-rule=\"evenodd\" fill-opacity=\"1\" /><path clip-path=\"url(#clip950)\" d=\"M931.882 1518.36 L920.077 1536.81 L931.882 1536.81 L931.882 1518.36 M930.656 1514.29 L936.535 1514.29 L936.535 1536.81 L941.466 1536.81 L941.466 1540.7 L936.535 1540.7 L936.535 1548.85 L931.882 1548.85 L931.882 1540.7 L916.281 1540.7 L916.281 1536.19 L930.656 1514.29 Z\" fill=\"#000000\" fill-rule=\"evenodd\" fill-opacity=\"1\" /><path clip-path=\"url(#clip950)\" d=\"M1383.47 1529.7 Q1380.32 1529.7 1378.47 1531.86 Q1376.64 1534.01 1376.64 1537.76 Q1376.64 1541.49 1378.47 1543.66 Q1380.32 1545.82 1383.47 1545.82 Q1386.62 1545.82 1388.44 1543.66 Q1390.3 1541.49 1390.3 1537.76 Q1390.3 1534.01 1388.44 1531.86 Q1386.62 1529.7 1383.47 1529.7 M1392.75 1515.05 L1392.75 1519.31 Q1390.99 1518.48 1389.18 1518.04 Q1387.4 1517.6 1385.64 1517.6 Q1381.01 1517.6 1378.56 1520.72 Q1376.13 1523.85 1375.78 1530.17 Q1377.15 1528.15 1379.21 1527.09 Q1381.27 1526 1383.75 1526 Q1388.95 1526 1391.96 1529.17 Q1395 1532.32 1395 1537.76 Q1395 1543.08 1391.85 1546.3 Q1388.7 1549.52 1383.47 1549.52 Q1377.47 1549.52 1374.3 1544.94 Q1371.13 1540.33 1371.13 1531.6 Q1371.13 1523.41 1375.02 1518.55 Q1378.91 1513.66 1385.46 1513.66 Q1387.22 1513.66 1389 1514.01 Q1390.81 1514.36 1392.75 1515.05 Z\" fill=\"#000000\" fill-rule=\"evenodd\" fill-opacity=\"1\" /><path clip-path=\"url(#clip950)\" d=\"M1837.25 1532.44 Q1833.92 1532.44 1832 1534.22 Q1830.1 1536 1830.1 1539.13 Q1830.1 1542.25 1832 1544.03 Q1833.92 1545.82 1837.25 1545.82 Q1840.58 1545.82 1842.51 1544.03 Q1844.43 1542.23 1844.43 1539.13 Q1844.43 1536 1842.51 1534.22 Q1840.61 1532.44 1837.25 1532.44 M1832.58 1530.45 Q1829.57 1529.7 1827.88 1527.64 Q1826.21 1525.58 1826.21 1522.62 Q1826.21 1518.48 1829.15 1516.07 Q1832.11 1513.66 1837.25 1513.66 Q1842.41 1513.66 1845.35 1516.07 Q1848.29 1518.48 1848.29 1522.62 Q1848.29 1525.58 1846.6 1527.64 Q1844.94 1529.7 1841.95 1530.45 Q1845.33 1531.23 1847.2 1533.52 Q1849.1 1535.82 1849.1 1539.13 Q1849.1 1544.15 1846.02 1546.83 Q1842.97 1549.52 1837.25 1549.52 Q1831.53 1549.52 1828.46 1546.83 Q1825.4 1544.15 1825.4 1539.13 Q1825.4 1535.82 1827.3 1533.52 Q1829.2 1531.23 1832.58 1530.45 M1830.86 1523.06 Q1830.86 1525.75 1832.53 1527.25 Q1834.22 1528.76 1837.25 1528.76 Q1840.26 1528.76 1841.95 1527.25 Q1843.66 1525.75 1843.66 1523.06 Q1843.66 1520.38 1841.95 1518.87 Q1840.26 1517.37 1837.25 1517.37 Q1834.22 1517.37 1832.53 1518.87 Q1830.86 1520.38 1830.86 1523.06 Z\" fill=\"#000000\" fill-rule=\"evenodd\" fill-opacity=\"1\" /><path clip-path=\"url(#clip950)\" d=\"M2266.13 1544.91 L2273.77 1544.91 L2273.77 1518.55 L2265.46 1520.21 L2265.46 1515.95 L2273.72 1514.29 L2278.4 1514.29 L2278.4 1544.91 L2286.04 1544.91 L2286.04 1548.85 L2266.13 1548.85 L2266.13 1544.91 Z\" fill=\"#000000\" fill-rule=\"evenodd\" fill-opacity=\"1\" /><path clip-path=\"url(#clip950)\" d=\"M2305.48 1517.37 Q2301.87 1517.37 2300.04 1520.93 Q2298.23 1524.47 2298.23 1531.6 Q2298.23 1538.71 2300.04 1542.27 Q2301.87 1545.82 2305.48 1545.82 Q2309.11 1545.82 2310.92 1542.27 Q2312.75 1538.71 2312.75 1531.6 Q2312.75 1524.47 2310.92 1520.93 Q2309.11 1517.37 2305.48 1517.37 M2305.48 1513.66 Q2311.29 1513.66 2314.35 1518.27 Q2317.42 1522.85 2317.42 1531.6 Q2317.42 1540.33 2314.35 1544.94 Q2311.29 1549.52 2305.48 1549.52 Q2299.67 1549.52 2296.59 1544.94 Q2293.54 1540.33 2293.54 1531.6 Q2293.54 1522.85 2296.59 1518.27 Q2299.67 1513.66 2305.48 1513.66 Z\" fill=\"#000000\" fill-rule=\"evenodd\" fill-opacity=\"1\" /><polyline clip-path=\"url(#clip952)\" style=\"stroke:#000000; stroke-linecap:round; stroke-linejoin:round; stroke-width:2; stroke-opacity:0.1; fill:none\" points=\"\n",
       "  186.274,1464.17 2352.76,1464.17 \n",
       "  \"/>\n",
       "<polyline clip-path=\"url(#clip952)\" style=\"stroke:#000000; stroke-linecap:round; stroke-linejoin:round; stroke-width:2; stroke-opacity:0.1; fill:none\" points=\"\n",
       "  186.274,1118.57 2352.76,1118.57 \n",
       "  \"/>\n",
       "<polyline clip-path=\"url(#clip952)\" style=\"stroke:#000000; stroke-linecap:round; stroke-linejoin:round; stroke-width:2; stroke-opacity:0.1; fill:none\" points=\"\n",
       "  186.274,772.974 2352.76,772.974 \n",
       "  \"/>\n",
       "<polyline clip-path=\"url(#clip952)\" style=\"stroke:#000000; stroke-linecap:round; stroke-linejoin:round; stroke-width:2; stroke-opacity:0.1; fill:none\" points=\"\n",
       "  186.274,427.379 2352.76,427.379 \n",
       "  \"/>\n",
       "<polyline clip-path=\"url(#clip952)\" style=\"stroke:#000000; stroke-linecap:round; stroke-linejoin:round; stroke-width:2; stroke-opacity:0.1; fill:none\" points=\"\n",
       "  186.274,81.7831 2352.76,81.7831 \n",
       "  \"/>\n",
       "<polyline clip-path=\"url(#clip950)\" style=\"stroke:#000000; stroke-linecap:round; stroke-linejoin:round; stroke-width:4; stroke-opacity:1; fill:none\" points=\"\n",
       "  186.274,1486.45 186.274,47.2441 \n",
       "  \"/>\n",
       "<polyline clip-path=\"url(#clip950)\" style=\"stroke:#000000; stroke-linecap:round; stroke-linejoin:round; stroke-width:4; stroke-opacity:1; fill:none\" points=\"\n",
       "  186.274,1464.17 205.172,1464.17 \n",
       "  \"/>\n",
       "<polyline clip-path=\"url(#clip950)\" style=\"stroke:#000000; stroke-linecap:round; stroke-linejoin:round; stroke-width:4; stroke-opacity:1; fill:none\" points=\"\n",
       "  186.274,1118.57 205.172,1118.57 \n",
       "  \"/>\n",
       "<polyline clip-path=\"url(#clip950)\" style=\"stroke:#000000; stroke-linecap:round; stroke-linejoin:round; stroke-width:4; stroke-opacity:1; fill:none\" points=\"\n",
       "  186.274,772.974 205.172,772.974 \n",
       "  \"/>\n",
       "<polyline clip-path=\"url(#clip950)\" style=\"stroke:#000000; stroke-linecap:round; stroke-linejoin:round; stroke-width:4; stroke-opacity:1; fill:none\" points=\"\n",
       "  186.274,427.379 205.172,427.379 \n",
       "  \"/>\n",
       "<polyline clip-path=\"url(#clip950)\" style=\"stroke:#000000; stroke-linecap:round; stroke-linejoin:round; stroke-width:4; stroke-opacity:1; fill:none\" points=\"\n",
       "  186.274,81.7831 205.172,81.7831 \n",
       "  \"/>\n",
       "<path clip-path=\"url(#clip950)\" d=\"M62.9365 1449.96 Q59.3254 1449.96 57.4967 1453.53 Q55.6912 1457.07 55.6912 1464.2 Q55.6912 1471.31 57.4967 1474.87 Q59.3254 1478.41 62.9365 1478.41 Q66.5707 1478.41 68.3763 1474.87 Q70.205 1471.31 70.205 1464.2 Q70.205 1457.07 68.3763 1453.53 Q66.5707 1449.96 62.9365 1449.96 M62.9365 1446.26 Q68.7467 1446.26 71.8022 1450.87 Q74.8809 1455.45 74.8809 1464.2 Q74.8809 1472.93 71.8022 1477.53 Q68.7467 1482.12 62.9365 1482.12 Q57.1264 1482.12 54.0477 1477.53 Q50.9921 1472.93 50.9921 1464.2 Q50.9921 1455.45 54.0477 1450.87 Q57.1264 1446.26 62.9365 1446.26 Z\" fill=\"#000000\" fill-rule=\"evenodd\" fill-opacity=\"1\" /><path clip-path=\"url(#clip950)\" d=\"M83.0984 1475.57 L87.9827 1475.57 L87.9827 1481.45 L83.0984 1481.45 L83.0984 1475.57 Z\" fill=\"#000000\" fill-rule=\"evenodd\" fill-opacity=\"1\" /><path clip-path=\"url(#clip950)\" d=\"M108.168 1449.96 Q104.557 1449.96 102.728 1453.53 Q100.922 1457.07 100.922 1464.2 Q100.922 1471.31 102.728 1474.87 Q104.557 1478.41 108.168 1478.41 Q111.802 1478.41 113.608 1474.87 Q115.436 1471.31 115.436 1464.2 Q115.436 1457.07 113.608 1453.53 Q111.802 1449.96 108.168 1449.96 M108.168 1446.26 Q113.978 1446.26 117.033 1450.87 Q120.112 1455.45 120.112 1464.2 Q120.112 1472.93 117.033 1477.53 Q113.978 1482.12 108.168 1482.12 Q102.358 1482.12 99.2789 1477.53 Q96.2234 1472.93 96.2234 1464.2 Q96.2234 1455.45 99.2789 1450.87 Q102.358 1446.26 108.168 1446.26 Z\" fill=\"#000000\" fill-rule=\"evenodd\" fill-opacity=\"1\" /><path clip-path=\"url(#clip950)\" d=\"M138.33 1449.96 Q134.719 1449.96 132.89 1453.53 Q131.084 1457.07 131.084 1464.2 Q131.084 1471.31 132.89 1474.87 Q134.719 1478.41 138.33 1478.41 Q141.964 1478.41 143.769 1474.87 Q145.598 1471.31 145.598 1464.2 Q145.598 1457.07 143.769 1453.53 Q141.964 1449.96 138.33 1449.96 M138.33 1446.26 Q144.14 1446.26 147.195 1450.87 Q150.274 1455.45 150.274 1464.2 Q150.274 1472.93 147.195 1477.53 Q144.14 1482.12 138.33 1482.12 Q132.519 1482.12 129.441 1477.53 Q126.385 1472.93 126.385 1464.2 Q126.385 1455.45 129.441 1450.87 Q132.519 1446.26 138.33 1446.26 Z\" fill=\"#000000\" fill-rule=\"evenodd\" fill-opacity=\"1\" /><path clip-path=\"url(#clip950)\" d=\"M63.9319 1104.37 Q60.3208 1104.37 58.4921 1107.93 Q56.6865 1111.47 56.6865 1118.6 Q56.6865 1125.71 58.4921 1129.28 Q60.3208 1132.82 63.9319 1132.82 Q67.5661 1132.82 69.3717 1129.28 Q71.2004 1125.71 71.2004 1118.6 Q71.2004 1111.47 69.3717 1107.93 Q67.5661 1104.37 63.9319 1104.37 M63.9319 1100.66 Q69.742 1100.66 72.7976 1105.27 Q75.8763 1109.85 75.8763 1118.6 Q75.8763 1127.33 72.7976 1131.94 Q69.742 1136.52 63.9319 1136.52 Q58.1217 1136.52 55.043 1131.94 Q51.9875 1127.33 51.9875 1118.6 Q51.9875 1109.85 55.043 1105.27 Q58.1217 1100.66 63.9319 1100.66 Z\" fill=\"#000000\" fill-rule=\"evenodd\" fill-opacity=\"1\" /><path clip-path=\"url(#clip950)\" d=\"M84.0938 1129.97 L88.978 1129.97 L88.978 1135.85 L84.0938 1135.85 L84.0938 1129.97 Z\" fill=\"#000000\" fill-rule=\"evenodd\" fill-opacity=\"1\" /><path clip-path=\"url(#clip950)\" d=\"M103.191 1131.91 L119.51 1131.91 L119.51 1135.85 L97.566 1135.85 L97.566 1131.91 Q100.228 1129.16 104.811 1124.53 Q109.418 1119.88 110.598 1118.53 Q112.844 1116.01 113.723 1114.28 Q114.626 1112.52 114.626 1110.83 Q114.626 1108.07 112.682 1106.34 Q110.76 1104.6 107.658 1104.6 Q105.459 1104.6 103.006 1105.36 Q100.575 1106.13 97.7974 1107.68 L97.7974 1102.96 Q100.621 1101.82 103.075 1101.24 Q105.529 1100.66 107.566 1100.66 Q112.936 1100.66 116.131 1103.35 Q119.325 1106.04 119.325 1110.53 Q119.325 1112.66 118.515 1114.58 Q117.728 1116.47 115.621 1119.07 Q115.043 1119.74 111.941 1122.96 Q108.839 1126.15 103.191 1131.91 Z\" fill=\"#000000\" fill-rule=\"evenodd\" fill-opacity=\"1\" /><path clip-path=\"url(#clip950)\" d=\"M129.371 1101.29 L147.728 1101.29 L147.728 1105.22 L133.654 1105.22 L133.654 1113.7 Q134.672 1113.35 135.691 1113.19 Q136.709 1113 137.728 1113 Q143.515 1113 146.894 1116.17 Q150.274 1119.35 150.274 1124.76 Q150.274 1130.34 146.802 1133.44 Q143.33 1136.52 137.01 1136.52 Q134.834 1136.52 132.566 1136.15 Q130.32 1135.78 127.913 1135.04 L127.913 1130.34 Q129.996 1131.47 132.219 1132.03 Q134.441 1132.59 136.918 1132.59 Q140.922 1132.59 143.26 1130.48 Q145.598 1128.37 145.598 1124.76 Q145.598 1121.15 143.26 1119.04 Q140.922 1116.94 136.918 1116.94 Q135.043 1116.94 133.168 1117.35 Q131.316 1117.77 129.371 1118.65 L129.371 1101.29 Z\" fill=\"#000000\" fill-rule=\"evenodd\" fill-opacity=\"1\" /><path clip-path=\"url(#clip950)\" d=\"M62.9365 758.773 Q59.3254 758.773 57.4967 762.338 Q55.6912 765.879 55.6912 773.009 Q55.6912 780.115 57.4967 783.68 Q59.3254 787.222 62.9365 787.222 Q66.5707 787.222 68.3763 783.68 Q70.205 780.115 70.205 773.009 Q70.205 765.879 68.3763 762.338 Q66.5707 758.773 62.9365 758.773 M62.9365 755.069 Q68.7467 755.069 71.8022 759.676 Q74.8809 764.259 74.8809 773.009 Q74.8809 781.736 71.8022 786.342 Q68.7467 790.925 62.9365 790.925 Q57.1264 790.925 54.0477 786.342 Q50.9921 781.736 50.9921 773.009 Q50.9921 764.259 54.0477 759.676 Q57.1264 755.069 62.9365 755.069 Z\" fill=\"#000000\" fill-rule=\"evenodd\" fill-opacity=\"1\" /><path clip-path=\"url(#clip950)\" d=\"M83.0984 784.375 L87.9827 784.375 L87.9827 790.254 L83.0984 790.254 L83.0984 784.375 Z\" fill=\"#000000\" fill-rule=\"evenodd\" fill-opacity=\"1\" /><path clip-path=\"url(#clip950)\" d=\"M98.2141 755.694 L116.57 755.694 L116.57 759.629 L102.496 759.629 L102.496 768.101 Q103.515 767.754 104.534 767.592 Q105.552 767.407 106.571 767.407 Q112.358 767.407 115.737 770.578 Q119.117 773.75 119.117 779.166 Q119.117 784.745 115.645 787.847 Q112.172 790.925 105.853 790.925 Q103.677 790.925 101.409 790.555 Q99.1632 790.185 96.7558 789.444 L96.7558 784.745 Q98.8391 785.879 101.061 786.435 Q103.284 786.99 105.76 786.99 Q109.765 786.99 112.103 784.884 Q114.441 782.777 114.441 779.166 Q114.441 775.555 112.103 773.449 Q109.765 771.342 105.76 771.342 Q103.885 771.342 102.01 771.759 Q100.159 772.176 98.2141 773.055 L98.2141 755.694 Z\" fill=\"#000000\" fill-rule=\"evenodd\" fill-opacity=\"1\" /><path clip-path=\"url(#clip950)\" d=\"M138.33 758.773 Q134.719 758.773 132.89 762.338 Q131.084 765.879 131.084 773.009 Q131.084 780.115 132.89 783.68 Q134.719 787.222 138.33 787.222 Q141.964 787.222 143.769 783.68 Q145.598 780.115 145.598 773.009 Q145.598 765.879 143.769 762.338 Q141.964 758.773 138.33 758.773 M138.33 755.069 Q144.14 755.069 147.195 759.676 Q150.274 764.259 150.274 773.009 Q150.274 781.736 147.195 786.342 Q144.14 790.925 138.33 790.925 Q132.519 790.925 129.441 786.342 Q126.385 781.736 126.385 773.009 Q126.385 764.259 129.441 759.676 Q132.519 755.069 138.33 755.069 Z\" fill=\"#000000\" fill-rule=\"evenodd\" fill-opacity=\"1\" /><path clip-path=\"url(#clip950)\" d=\"M63.9319 413.177 Q60.3208 413.177 58.4921 416.742 Q56.6865 420.284 56.6865 427.413 Q56.6865 434.52 58.4921 438.085 Q60.3208 441.626 63.9319 441.626 Q67.5661 441.626 69.3717 438.085 Q71.2004 434.52 71.2004 427.413 Q71.2004 420.284 69.3717 416.742 Q67.5661 413.177 63.9319 413.177 M63.9319 409.474 Q69.742 409.474 72.7976 414.08 Q75.8763 418.663 75.8763 427.413 Q75.8763 436.14 72.7976 440.747 Q69.742 445.33 63.9319 445.33 Q58.1217 445.33 55.043 440.747 Q51.9875 436.14 51.9875 427.413 Q51.9875 418.663 55.043 414.08 Q58.1217 409.474 63.9319 409.474 Z\" fill=\"#000000\" fill-rule=\"evenodd\" fill-opacity=\"1\" /><path clip-path=\"url(#clip950)\" d=\"M84.0938 438.779 L88.978 438.779 L88.978 444.659 L84.0938 444.659 L84.0938 438.779 Z\" fill=\"#000000\" fill-rule=\"evenodd\" fill-opacity=\"1\" /><path clip-path=\"url(#clip950)\" d=\"M97.9826 410.099 L120.205 410.099 L120.205 412.089 L107.658 444.659 L102.774 444.659 L114.58 414.034 L97.9826 414.034 L97.9826 410.099 Z\" fill=\"#000000\" fill-rule=\"evenodd\" fill-opacity=\"1\" /><path clip-path=\"url(#clip950)\" d=\"M129.371 410.099 L147.728 410.099 L147.728 414.034 L133.654 414.034 L133.654 422.506 Q134.672 422.159 135.691 421.997 Q136.709 421.812 137.728 421.812 Q143.515 421.812 146.894 424.983 Q150.274 428.154 150.274 433.571 Q150.274 439.149 146.802 442.251 Q143.33 445.33 137.01 445.33 Q134.834 445.33 132.566 444.96 Q130.32 444.589 127.913 443.848 L127.913 439.149 Q129.996 440.284 132.219 440.839 Q134.441 441.395 136.918 441.395 Q140.922 441.395 143.26 439.288 Q145.598 437.182 145.598 433.571 Q145.598 429.96 143.26 427.853 Q140.922 425.747 136.918 425.747 Q135.043 425.747 133.168 426.163 Q131.316 426.58 129.371 427.46 L129.371 410.099 Z\" fill=\"#000000\" fill-rule=\"evenodd\" fill-opacity=\"1\" /><path clip-path=\"url(#clip950)\" d=\"M53.7467 95.128 L61.3856 95.128 L61.3856 68.7624 L53.0754 70.429 L53.0754 66.1698 L61.3393 64.5031 L66.0152 64.5031 L66.0152 95.128 L73.654 95.128 L73.654 99.0631 L53.7467 99.0631 L53.7467 95.128 Z\" fill=\"#000000\" fill-rule=\"evenodd\" fill-opacity=\"1\" /><path clip-path=\"url(#clip950)\" d=\"M83.0984 93.1835 L87.9827 93.1835 L87.9827 99.0631 L83.0984 99.0631 L83.0984 93.1835 Z\" fill=\"#000000\" fill-rule=\"evenodd\" fill-opacity=\"1\" /><path clip-path=\"url(#clip950)\" d=\"M108.168 67.5818 Q104.557 67.5818 102.728 71.1466 Q100.922 74.6882 100.922 81.8178 Q100.922 88.9243 102.728 92.4891 Q104.557 96.0307 108.168 96.0307 Q111.802 96.0307 113.608 92.4891 Q115.436 88.9243 115.436 81.8178 Q115.436 74.6882 113.608 71.1466 Q111.802 67.5818 108.168 67.5818 M108.168 63.8781 Q113.978 63.8781 117.033 68.4846 Q120.112 73.0679 120.112 81.8178 Q120.112 90.5446 117.033 95.1511 Q113.978 99.7344 108.168 99.7344 Q102.358 99.7344 99.2789 95.1511 Q96.2234 90.5446 96.2234 81.8178 Q96.2234 73.0679 99.2789 68.4846 Q102.358 63.8781 108.168 63.8781 Z\" fill=\"#000000\" fill-rule=\"evenodd\" fill-opacity=\"1\" /><path clip-path=\"url(#clip950)\" d=\"M138.33 67.5818 Q134.719 67.5818 132.89 71.1466 Q131.084 74.6882 131.084 81.8178 Q131.084 88.9243 132.89 92.4891 Q134.719 96.0307 138.33 96.0307 Q141.964 96.0307 143.769 92.4891 Q145.598 88.9243 145.598 81.8178 Q145.598 74.6882 143.769 71.1466 Q141.964 67.5818 138.33 67.5818 M138.33 63.8781 Q144.14 63.8781 147.195 68.4846 Q150.274 73.0679 150.274 81.8178 Q150.274 90.5446 147.195 95.1511 Q144.14 99.7344 138.33 99.7344 Q132.519 99.7344 129.441 95.1511 Q126.385 90.5446 126.385 81.8178 Q126.385 73.0679 129.441 68.4846 Q132.519 63.8781 138.33 63.8781 Z\" fill=\"#000000\" fill-rule=\"evenodd\" fill-opacity=\"1\" /><polyline clip-path=\"url(#clip952)\" style=\"stroke:#009af9; stroke-linecap:round; stroke-linejoin:round; stroke-width:4; stroke-opacity:1; fill:none\" points=\"\n",
       "  247.59,647.473 474.684,1260.24 701.779,1445.72 928.873,698.214 1155.97,1101.21 1383.06,1103.84 1610.16,1035.23 1837.25,1204.68 2064.35,87.9763 2291.44,552.225 \n",
       "  \n",
       "  \"/>\n",
       "<polyline clip-path=\"url(#clip952)\" style=\"stroke:#e26f46; stroke-linecap:round; stroke-linejoin:round; stroke-width:4; stroke-opacity:1; fill:none\" points=\"\n",
       "  247.59,1299.95 474.684,693.97 701.779,1396.67 928.873,460.396 1155.97,937.041 1383.06,1168.33 1610.16,1361.24 1837.25,175.493 2064.35,1341.36 2291.44,1434.4 \n",
       "  \n",
       "  \"/>\n",
       "<polyline clip-path=\"url(#clip952)\" style=\"stroke:#3da44d; stroke-linecap:round; stroke-linejoin:round; stroke-width:4; stroke-opacity:1; fill:none\" points=\"\n",
       "  247.59,1366.74 474.684,1051.62 701.779,893.762 928.873,336.849 1155.97,900.644 1383.06,161.496 1610.16,1213.38 1837.25,463.364 2064.35,164.507 2291.44,1143.05 \n",
       "  \n",
       "  \"/>\n",
       "<path clip-path=\"url(#clip950)\" d=\"\n",
       "M1986.81 302.578 L2280.54 302.578 L2280.54 95.2176 L1986.81 95.2176  Z\n",
       "  \" fill=\"#ffffff\" fill-rule=\"evenodd\" fill-opacity=\"1\"/>\n",
       "<polyline clip-path=\"url(#clip950)\" style=\"stroke:#000000; stroke-linecap:round; stroke-linejoin:round; stroke-width:4; stroke-opacity:1; fill:none\" points=\"\n",
       "  1986.81,302.578 2280.54,302.578 2280.54,95.2176 1986.81,95.2176 1986.81,302.578 \n",
       "  \"/>\n",
       "<polyline clip-path=\"url(#clip950)\" style=\"stroke:#009af9; stroke-linecap:round; stroke-linejoin:round; stroke-width:4; stroke-opacity:1; fill:none\" points=\"\n",
       "  2010.88,147.058 2155.31,147.058 \n",
       "  \"/>\n",
       "<path clip-path=\"url(#clip950)\" d=\"M2193.23 166.745 Q2191.42 171.375 2189.71 172.787 Q2188 174.199 2185.13 174.199 L2181.72 174.199 L2181.72 170.634 L2184.22 170.634 Q2185.98 170.634 2186.96 169.8 Q2187.93 168.967 2189.11 165.865 L2189.87 163.921 L2179.39 138.412 L2183.9 138.412 L2192 158.689 L2200.1 138.412 L2204.62 138.412 L2193.23 166.745 Z\" fill=\"#000000\" fill-rule=\"evenodd\" fill-opacity=\"1\" /><path clip-path=\"url(#clip950)\" d=\"M2211.91 160.402 L2219.55 160.402 L2219.55 134.037 L2211.24 135.703 L2211.24 131.444 L2219.5 129.778 L2224.18 129.778 L2224.18 160.402 L2231.82 160.402 L2231.82 164.338 L2211.91 164.338 L2211.91 160.402 Z\" fill=\"#000000\" fill-rule=\"evenodd\" fill-opacity=\"1\" /><polyline clip-path=\"url(#clip950)\" style=\"stroke:#e26f46; stroke-linecap:round; stroke-linejoin:round; stroke-width:4; stroke-opacity:1; fill:none\" points=\"\n",
       "  2010.88,198.898 2155.31,198.898 \n",
       "  \"/>\n",
       "<path clip-path=\"url(#clip950)\" d=\"M2193.23 218.585 Q2191.42 223.215 2189.71 224.627 Q2188 226.039 2185.13 226.039 L2181.72 226.039 L2181.72 222.474 L2184.22 222.474 Q2185.98 222.474 2186.96 221.64 Q2187.93 220.807 2189.11 217.705 L2189.87 215.761 L2179.39 190.252 L2183.9 190.252 L2192 210.529 L2200.1 190.252 L2204.62 190.252 L2193.23 218.585 Z\" fill=\"#000000\" fill-rule=\"evenodd\" fill-opacity=\"1\" /><path clip-path=\"url(#clip950)\" d=\"M2215.13 212.242 L2231.45 212.242 L2231.45 216.178 L2209.5 216.178 L2209.5 212.242 Q2212.16 209.488 2216.75 204.858 Q2221.35 200.205 2222.53 198.863 Q2224.78 196.34 2225.66 194.604 Q2226.56 192.844 2226.56 191.155 Q2226.56 188.4 2224.62 186.664 Q2222.7 184.928 2219.59 184.928 Q2217.4 184.928 2214.94 185.692 Q2212.51 186.455 2209.73 188.006 L2209.73 183.284 Q2212.56 182.15 2215.01 181.571 Q2217.47 180.993 2219.5 180.993 Q2224.87 180.993 2228.07 183.678 Q2231.26 186.363 2231.26 190.854 Q2231.26 192.983 2230.45 194.905 Q2229.66 196.803 2227.56 199.395 Q2226.98 200.067 2223.88 203.284 Q2220.78 206.479 2215.13 212.242 Z\" fill=\"#000000\" fill-rule=\"evenodd\" fill-opacity=\"1\" /><polyline clip-path=\"url(#clip950)\" style=\"stroke:#3da44d; stroke-linecap:round; stroke-linejoin:round; stroke-width:4; stroke-opacity:1; fill:none\" points=\"\n",
       "  2010.88,250.738 2155.31,250.738 \n",
       "  \"/>\n",
       "<path clip-path=\"url(#clip950)\" d=\"M2193.23 270.425 Q2191.42 275.055 2189.71 276.467 Q2188 277.879 2185.13 277.879 L2181.72 277.879 L2181.72 274.314 L2184.22 274.314 Q2185.98 274.314 2186.96 273.48 Q2187.93 272.647 2189.11 269.545 L2189.87 267.601 L2179.39 242.092 L2183.9 242.092 L2192 262.369 L2200.1 242.092 L2204.62 242.092 L2193.23 270.425 Z\" fill=\"#000000\" fill-rule=\"evenodd\" fill-opacity=\"1\" /><path clip-path=\"url(#clip950)\" d=\"M2225.27 249.383 Q2228.62 250.101 2230.5 252.369 Q2232.4 254.638 2232.4 257.971 Q2232.4 263.087 2228.88 265.888 Q2225.36 268.689 2218.88 268.689 Q2216.7 268.689 2214.39 268.249 Q2212.09 267.832 2209.64 266.976 L2209.64 262.462 Q2211.59 263.596 2213.9 264.175 Q2216.22 264.754 2218.74 264.754 Q2223.14 264.754 2225.43 263.018 Q2227.74 261.281 2227.74 257.971 Q2227.74 254.916 2225.59 253.203 Q2223.46 251.467 2219.64 251.467 L2215.61 251.467 L2215.61 247.624 L2219.83 247.624 Q2223.28 247.624 2225.1 246.258 Q2226.93 244.87 2226.93 242.277 Q2226.93 239.615 2225.03 238.203 Q2223.16 236.768 2219.64 236.768 Q2217.72 236.768 2215.52 237.184 Q2213.32 237.601 2210.68 238.481 L2210.68 234.314 Q2213.34 233.573 2215.66 233.203 Q2218 232.833 2220.06 232.833 Q2225.38 232.833 2228.48 235.263 Q2231.59 237.67 2231.59 241.791 Q2231.59 244.661 2229.94 246.652 Q2228.3 248.62 2225.27 249.383 Z\" fill=\"#000000\" fill-rule=\"evenodd\" fill-opacity=\"1\" /></svg>\n"
      ]
     },
     "execution_count": 78,
     "metadata": {},
     "output_type": "execute_result"
    }
   ],
   "source": [
    "plot!(rand(10))"
   ]
  },
  {
   "cell_type": "markdown",
   "metadata": {
    "id": "5lS_Q88IiaYo"
   },
   "source": [
    "Although we usually will want to add to a specific plot."
   ]
  },
  {
   "cell_type": "code",
   "execution_count": 79,
   "metadata": {
    "id": "h_XIyx5wiams"
   },
   "outputs": [
    {
     "data": {
      "image/svg+xml": [
       "<?xml version=\"1.0\" encoding=\"utf-8\"?>\n",
       "<svg xmlns=\"http://www.w3.org/2000/svg\" xmlns:xlink=\"http://www.w3.org/1999/xlink\" width=\"600\" height=\"400\" viewBox=\"0 0 2400 1600\">\n",
       "<defs>\n",
       "  <clipPath id=\"clip990\">\n",
       "    <rect x=\"0\" y=\"0\" width=\"2400\" height=\"1600\"/>\n",
       "  </clipPath>\n",
       "</defs>\n",
       "<path clip-path=\"url(#clip990)\" d=\"\n",
       "M0 1600 L2400 1600 L2400 0 L0 0  Z\n",
       "  \" fill=\"#ffffff\" fill-rule=\"evenodd\" fill-opacity=\"1\"/>\n",
       "<defs>\n",
       "  <clipPath id=\"clip991\">\n",
       "    <rect x=\"480\" y=\"0\" width=\"1681\" height=\"1600\"/>\n",
       "  </clipPath>\n",
       "</defs>\n",
       "<path clip-path=\"url(#clip990)\" d=\"\n",
       "M186.274 1486.45 L2352.76 1486.45 L2352.76 47.2441 L186.274 47.2441  Z\n",
       "  \" fill=\"#ffffff\" fill-rule=\"evenodd\" fill-opacity=\"1\"/>\n",
       "<defs>\n",
       "  <clipPath id=\"clip992\">\n",
       "    <rect x=\"186\" y=\"47\" width=\"2167\" height=\"1440\"/>\n",
       "  </clipPath>\n",
       "</defs>\n",
       "<polyline clip-path=\"url(#clip992)\" style=\"stroke:#000000; stroke-linecap:round; stroke-linejoin:round; stroke-width:2; stroke-opacity:0.1; fill:none\" points=\"\n",
       "  474.684,1486.45 474.684,47.2441 \n",
       "  \"/>\n",
       "<polyline clip-path=\"url(#clip992)\" style=\"stroke:#000000; stroke-linecap:round; stroke-linejoin:round; stroke-width:2; stroke-opacity:0.1; fill:none\" points=\"\n",
       "  928.873,1486.45 928.873,47.2441 \n",
       "  \"/>\n",
       "<polyline clip-path=\"url(#clip992)\" style=\"stroke:#000000; stroke-linecap:round; stroke-linejoin:round; stroke-width:2; stroke-opacity:0.1; fill:none\" points=\"\n",
       "  1383.06,1486.45 1383.06,47.2441 \n",
       "  \"/>\n",
       "<polyline clip-path=\"url(#clip992)\" style=\"stroke:#000000; stroke-linecap:round; stroke-linejoin:round; stroke-width:2; stroke-opacity:0.1; fill:none\" points=\"\n",
       "  1837.25,1486.45 1837.25,47.2441 \n",
       "  \"/>\n",
       "<polyline clip-path=\"url(#clip992)\" style=\"stroke:#000000; stroke-linecap:round; stroke-linejoin:round; stroke-width:2; stroke-opacity:0.1; fill:none\" points=\"\n",
       "  2291.44,1486.45 2291.44,47.2441 \n",
       "  \"/>\n",
       "<polyline clip-path=\"url(#clip990)\" style=\"stroke:#000000; stroke-linecap:round; stroke-linejoin:round; stroke-width:4; stroke-opacity:1; fill:none\" points=\"\n",
       "  186.274,1486.45 2352.76,1486.45 \n",
       "  \"/>\n",
       "<polyline clip-path=\"url(#clip990)\" style=\"stroke:#000000; stroke-linecap:round; stroke-linejoin:round; stroke-width:4; stroke-opacity:1; fill:none\" points=\"\n",
       "  474.684,1486.45 474.684,1467.55 \n",
       "  \"/>\n",
       "<polyline clip-path=\"url(#clip990)\" style=\"stroke:#000000; stroke-linecap:round; stroke-linejoin:round; stroke-width:4; stroke-opacity:1; fill:none\" points=\"\n",
       "  928.873,1486.45 928.873,1467.55 \n",
       "  \"/>\n",
       "<polyline clip-path=\"url(#clip990)\" style=\"stroke:#000000; stroke-linecap:round; stroke-linejoin:round; stroke-width:4; stroke-opacity:1; fill:none\" points=\"\n",
       "  1383.06,1486.45 1383.06,1467.55 \n",
       "  \"/>\n",
       "<polyline clip-path=\"url(#clip990)\" style=\"stroke:#000000; stroke-linecap:round; stroke-linejoin:round; stroke-width:4; stroke-opacity:1; fill:none\" points=\"\n",
       "  1837.25,1486.45 1837.25,1467.55 \n",
       "  \"/>\n",
       "<polyline clip-path=\"url(#clip990)\" style=\"stroke:#000000; stroke-linecap:round; stroke-linejoin:round; stroke-width:4; stroke-opacity:1; fill:none\" points=\"\n",
       "  2291.44,1486.45 2291.44,1467.55 \n",
       "  \"/>\n",
       "<path clip-path=\"url(#clip990)\" d=\"M469.337 1544.91 L485.656 1544.91 L485.656 1548.85 L463.712 1548.85 L463.712 1544.91 Q466.374 1542.16 470.957 1537.53 Q475.564 1532.88 476.744 1531.53 Q478.99 1529.01 479.869 1527.27 Q480.772 1525.51 480.772 1523.82 Q480.772 1521.07 478.828 1519.33 Q476.906 1517.6 473.804 1517.6 Q471.605 1517.6 469.152 1518.36 Q466.721 1519.13 463.943 1520.68 L463.943 1515.95 Q466.767 1514.82 469.221 1514.24 Q471.675 1513.66 473.712 1513.66 Q479.082 1513.66 482.277 1516.35 Q485.471 1519.03 485.471 1523.52 Q485.471 1525.65 484.661 1527.57 Q483.874 1529.47 481.767 1532.07 Q481.189 1532.74 478.087 1535.95 Q474.985 1539.15 469.337 1544.91 Z\" fill=\"#000000\" fill-rule=\"evenodd\" fill-opacity=\"1\" /><path clip-path=\"url(#clip990)\" d=\"M931.882 1518.36 L920.077 1536.81 L931.882 1536.81 L931.882 1518.36 M930.656 1514.29 L936.535 1514.29 L936.535 1536.81 L941.466 1536.81 L941.466 1540.7 L936.535 1540.7 L936.535 1548.85 L931.882 1548.85 L931.882 1540.7 L916.281 1540.7 L916.281 1536.19 L930.656 1514.29 Z\" fill=\"#000000\" fill-rule=\"evenodd\" fill-opacity=\"1\" /><path clip-path=\"url(#clip990)\" d=\"M1383.47 1529.7 Q1380.32 1529.7 1378.47 1531.86 Q1376.64 1534.01 1376.64 1537.76 Q1376.64 1541.49 1378.47 1543.66 Q1380.32 1545.82 1383.47 1545.82 Q1386.62 1545.82 1388.44 1543.66 Q1390.3 1541.49 1390.3 1537.76 Q1390.3 1534.01 1388.44 1531.86 Q1386.62 1529.7 1383.47 1529.7 M1392.75 1515.05 L1392.75 1519.31 Q1390.99 1518.48 1389.18 1518.04 Q1387.4 1517.6 1385.64 1517.6 Q1381.01 1517.6 1378.56 1520.72 Q1376.13 1523.85 1375.78 1530.17 Q1377.15 1528.15 1379.21 1527.09 Q1381.27 1526 1383.75 1526 Q1388.95 1526 1391.96 1529.17 Q1395 1532.32 1395 1537.76 Q1395 1543.08 1391.85 1546.3 Q1388.7 1549.52 1383.47 1549.52 Q1377.47 1549.52 1374.3 1544.94 Q1371.13 1540.33 1371.13 1531.6 Q1371.13 1523.41 1375.02 1518.55 Q1378.91 1513.66 1385.46 1513.66 Q1387.22 1513.66 1389 1514.01 Q1390.81 1514.36 1392.75 1515.05 Z\" fill=\"#000000\" fill-rule=\"evenodd\" fill-opacity=\"1\" /><path clip-path=\"url(#clip990)\" d=\"M1837.25 1532.44 Q1833.92 1532.44 1832 1534.22 Q1830.1 1536 1830.1 1539.13 Q1830.1 1542.25 1832 1544.03 Q1833.92 1545.82 1837.25 1545.82 Q1840.58 1545.82 1842.51 1544.03 Q1844.43 1542.23 1844.43 1539.13 Q1844.43 1536 1842.51 1534.22 Q1840.61 1532.44 1837.25 1532.44 M1832.58 1530.45 Q1829.57 1529.7 1827.88 1527.64 Q1826.21 1525.58 1826.21 1522.62 Q1826.21 1518.48 1829.15 1516.07 Q1832.11 1513.66 1837.25 1513.66 Q1842.41 1513.66 1845.35 1516.07 Q1848.29 1518.48 1848.29 1522.62 Q1848.29 1525.58 1846.6 1527.64 Q1844.94 1529.7 1841.95 1530.45 Q1845.33 1531.23 1847.2 1533.52 Q1849.1 1535.82 1849.1 1539.13 Q1849.1 1544.15 1846.02 1546.83 Q1842.97 1549.52 1837.25 1549.52 Q1831.53 1549.52 1828.46 1546.83 Q1825.4 1544.15 1825.4 1539.13 Q1825.4 1535.82 1827.3 1533.52 Q1829.2 1531.23 1832.58 1530.45 M1830.86 1523.06 Q1830.86 1525.75 1832.53 1527.25 Q1834.22 1528.76 1837.25 1528.76 Q1840.26 1528.76 1841.95 1527.25 Q1843.66 1525.75 1843.66 1523.06 Q1843.66 1520.38 1841.95 1518.87 Q1840.26 1517.37 1837.25 1517.37 Q1834.22 1517.37 1832.53 1518.87 Q1830.86 1520.38 1830.86 1523.06 Z\" fill=\"#000000\" fill-rule=\"evenodd\" fill-opacity=\"1\" /><path clip-path=\"url(#clip990)\" d=\"M2266.13 1544.91 L2273.77 1544.91 L2273.77 1518.55 L2265.46 1520.21 L2265.46 1515.95 L2273.72 1514.29 L2278.4 1514.29 L2278.4 1544.91 L2286.04 1544.91 L2286.04 1548.85 L2266.13 1548.85 L2266.13 1544.91 Z\" fill=\"#000000\" fill-rule=\"evenodd\" fill-opacity=\"1\" /><path clip-path=\"url(#clip990)\" d=\"M2305.48 1517.37 Q2301.87 1517.37 2300.04 1520.93 Q2298.23 1524.47 2298.23 1531.6 Q2298.23 1538.71 2300.04 1542.27 Q2301.87 1545.82 2305.48 1545.82 Q2309.11 1545.82 2310.92 1542.27 Q2312.75 1538.71 2312.75 1531.6 Q2312.75 1524.47 2310.92 1520.93 Q2309.11 1517.37 2305.48 1517.37 M2305.48 1513.66 Q2311.29 1513.66 2314.35 1518.27 Q2317.42 1522.85 2317.42 1531.6 Q2317.42 1540.33 2314.35 1544.94 Q2311.29 1549.52 2305.48 1549.52 Q2299.67 1549.52 2296.59 1544.94 Q2293.54 1540.33 2293.54 1531.6 Q2293.54 1522.85 2296.59 1518.27 Q2299.67 1513.66 2305.48 1513.66 Z\" fill=\"#000000\" fill-rule=\"evenodd\" fill-opacity=\"1\" /><polyline clip-path=\"url(#clip992)\" style=\"stroke:#000000; stroke-linecap:round; stroke-linejoin:round; stroke-width:2; stroke-opacity:0.1; fill:none\" points=\"\n",
       "  186.274,1460.81 2352.76,1460.81 \n",
       "  \"/>\n",
       "<polyline clip-path=\"url(#clip992)\" style=\"stroke:#000000; stroke-linecap:round; stroke-linejoin:round; stroke-width:2; stroke-opacity:0.1; fill:none\" points=\"\n",
       "  186.274,1116.71 2352.76,1116.71 \n",
       "  \"/>\n",
       "<polyline clip-path=\"url(#clip992)\" style=\"stroke:#000000; stroke-linecap:round; stroke-linejoin:round; stroke-width:2; stroke-opacity:0.1; fill:none\" points=\"\n",
       "  186.274,772.623 2352.76,772.623 \n",
       "  \"/>\n",
       "<polyline clip-path=\"url(#clip992)\" style=\"stroke:#000000; stroke-linecap:round; stroke-linejoin:round; stroke-width:2; stroke-opacity:0.1; fill:none\" points=\"\n",
       "  186.274,428.531 2352.76,428.531 \n",
       "  \"/>\n",
       "<polyline clip-path=\"url(#clip992)\" style=\"stroke:#000000; stroke-linecap:round; stroke-linejoin:round; stroke-width:2; stroke-opacity:0.1; fill:none\" points=\"\n",
       "  186.274,84.4398 2352.76,84.4398 \n",
       "  \"/>\n",
       "<polyline clip-path=\"url(#clip990)\" style=\"stroke:#000000; stroke-linecap:round; stroke-linejoin:round; stroke-width:4; stroke-opacity:1; fill:none\" points=\"\n",
       "  186.274,1486.45 186.274,47.2441 \n",
       "  \"/>\n",
       "<polyline clip-path=\"url(#clip990)\" style=\"stroke:#000000; stroke-linecap:round; stroke-linejoin:round; stroke-width:4; stroke-opacity:1; fill:none\" points=\"\n",
       "  186.274,1460.81 205.172,1460.81 \n",
       "  \"/>\n",
       "<polyline clip-path=\"url(#clip990)\" style=\"stroke:#000000; stroke-linecap:round; stroke-linejoin:round; stroke-width:4; stroke-opacity:1; fill:none\" points=\"\n",
       "  186.274,1116.71 205.172,1116.71 \n",
       "  \"/>\n",
       "<polyline clip-path=\"url(#clip990)\" style=\"stroke:#000000; stroke-linecap:round; stroke-linejoin:round; stroke-width:4; stroke-opacity:1; fill:none\" points=\"\n",
       "  186.274,772.623 205.172,772.623 \n",
       "  \"/>\n",
       "<polyline clip-path=\"url(#clip990)\" style=\"stroke:#000000; stroke-linecap:round; stroke-linejoin:round; stroke-width:4; stroke-opacity:1; fill:none\" points=\"\n",
       "  186.274,428.531 205.172,428.531 \n",
       "  \"/>\n",
       "<polyline clip-path=\"url(#clip990)\" style=\"stroke:#000000; stroke-linecap:round; stroke-linejoin:round; stroke-width:4; stroke-opacity:1; fill:none\" points=\"\n",
       "  186.274,84.4398 205.172,84.4398 \n",
       "  \"/>\n",
       "<path clip-path=\"url(#clip990)\" d=\"M62.9365 1446.6 Q59.3254 1446.6 57.4967 1450.17 Q55.6912 1453.71 55.6912 1460.84 Q55.6912 1467.95 57.4967 1471.51 Q59.3254 1475.05 62.9365 1475.05 Q66.5707 1475.05 68.3763 1471.51 Q70.205 1467.95 70.205 1460.84 Q70.205 1453.71 68.3763 1450.17 Q66.5707 1446.6 62.9365 1446.6 M62.9365 1442.9 Q68.7467 1442.9 71.8022 1447.51 Q74.8809 1452.09 74.8809 1460.84 Q74.8809 1469.57 71.8022 1474.17 Q68.7467 1478.76 62.9365 1478.76 Q57.1264 1478.76 54.0477 1474.17 Q50.9921 1469.57 50.9921 1460.84 Q50.9921 1452.09 54.0477 1447.51 Q57.1264 1442.9 62.9365 1442.9 Z\" fill=\"#000000\" fill-rule=\"evenodd\" fill-opacity=\"1\" /><path clip-path=\"url(#clip990)\" d=\"M83.0984 1472.21 L87.9827 1472.21 L87.9827 1478.09 L83.0984 1478.09 L83.0984 1472.21 Z\" fill=\"#000000\" fill-rule=\"evenodd\" fill-opacity=\"1\" /><path clip-path=\"url(#clip990)\" d=\"M108.168 1446.6 Q104.557 1446.6 102.728 1450.17 Q100.922 1453.71 100.922 1460.84 Q100.922 1467.95 102.728 1471.51 Q104.557 1475.05 108.168 1475.05 Q111.802 1475.05 113.608 1471.51 Q115.436 1467.95 115.436 1460.84 Q115.436 1453.71 113.608 1450.17 Q111.802 1446.6 108.168 1446.6 M108.168 1442.9 Q113.978 1442.9 117.033 1447.51 Q120.112 1452.09 120.112 1460.84 Q120.112 1469.57 117.033 1474.17 Q113.978 1478.76 108.168 1478.76 Q102.358 1478.76 99.2789 1474.17 Q96.2234 1469.57 96.2234 1460.84 Q96.2234 1452.09 99.2789 1447.51 Q102.358 1442.9 108.168 1442.9 Z\" fill=\"#000000\" fill-rule=\"evenodd\" fill-opacity=\"1\" /><path clip-path=\"url(#clip990)\" d=\"M138.33 1446.6 Q134.719 1446.6 132.89 1450.17 Q131.084 1453.71 131.084 1460.84 Q131.084 1467.95 132.89 1471.51 Q134.719 1475.05 138.33 1475.05 Q141.964 1475.05 143.769 1471.51 Q145.598 1467.95 145.598 1460.84 Q145.598 1453.71 143.769 1450.17 Q141.964 1446.6 138.33 1446.6 M138.33 1442.9 Q144.14 1442.9 147.195 1447.51 Q150.274 1452.09 150.274 1460.84 Q150.274 1469.57 147.195 1474.17 Q144.14 1478.76 138.33 1478.76 Q132.519 1478.76 129.441 1474.17 Q126.385 1469.57 126.385 1460.84 Q126.385 1452.09 129.441 1447.51 Q132.519 1442.9 138.33 1442.9 Z\" fill=\"#000000\" fill-rule=\"evenodd\" fill-opacity=\"1\" /><path clip-path=\"url(#clip990)\" d=\"M63.9319 1102.51 Q60.3208 1102.51 58.4921 1106.08 Q56.6865 1109.62 56.6865 1116.75 Q56.6865 1123.86 58.4921 1127.42 Q60.3208 1130.96 63.9319 1130.96 Q67.5661 1130.96 69.3717 1127.42 Q71.2004 1123.86 71.2004 1116.75 Q71.2004 1109.62 69.3717 1106.08 Q67.5661 1102.51 63.9319 1102.51 M63.9319 1098.81 Q69.742 1098.81 72.7976 1103.42 Q75.8763 1108 75.8763 1116.75 Q75.8763 1125.48 72.7976 1130.08 Q69.742 1134.67 63.9319 1134.67 Q58.1217 1134.67 55.043 1130.08 Q51.9875 1125.48 51.9875 1116.75 Q51.9875 1108 55.043 1103.42 Q58.1217 1098.81 63.9319 1098.81 Z\" fill=\"#000000\" fill-rule=\"evenodd\" fill-opacity=\"1\" /><path clip-path=\"url(#clip990)\" d=\"M84.0938 1128.11 L88.978 1128.11 L88.978 1133.99 L84.0938 1133.99 L84.0938 1128.11 Z\" fill=\"#000000\" fill-rule=\"evenodd\" fill-opacity=\"1\" /><path clip-path=\"url(#clip990)\" d=\"M103.191 1130.06 L119.51 1130.06 L119.51 1133.99 L97.566 1133.99 L97.566 1130.06 Q100.228 1127.3 104.811 1122.67 Q109.418 1118.02 110.598 1116.68 Q112.844 1114.16 113.723 1112.42 Q114.626 1110.66 114.626 1108.97 Q114.626 1106.22 112.682 1104.48 Q110.76 1102.74 107.658 1102.74 Q105.459 1102.74 103.006 1103.51 Q100.575 1104.27 97.7974 1105.82 L97.7974 1101.1 Q100.621 1099.97 103.075 1099.39 Q105.529 1098.81 107.566 1098.81 Q112.936 1098.81 116.131 1101.49 Q119.325 1104.18 119.325 1108.67 Q119.325 1110.8 118.515 1112.72 Q117.728 1114.62 115.621 1117.21 Q115.043 1117.88 111.941 1121.1 Q108.839 1124.29 103.191 1130.06 Z\" fill=\"#000000\" fill-rule=\"evenodd\" fill-opacity=\"1\" /><path clip-path=\"url(#clip990)\" d=\"M129.371 1099.43 L147.728 1099.43 L147.728 1103.37 L133.654 1103.37 L133.654 1111.84 Q134.672 1111.49 135.691 1111.33 Q136.709 1111.15 137.728 1111.15 Q143.515 1111.15 146.894 1114.32 Q150.274 1117.49 150.274 1122.91 Q150.274 1128.48 146.802 1131.59 Q143.33 1134.67 137.01 1134.67 Q134.834 1134.67 132.566 1134.29 Q130.32 1133.92 127.913 1133.18 L127.913 1128.48 Q129.996 1129.62 132.219 1130.17 Q134.441 1130.73 136.918 1130.73 Q140.922 1130.73 143.26 1128.62 Q145.598 1126.52 145.598 1122.91 Q145.598 1119.3 143.26 1117.19 Q140.922 1115.08 136.918 1115.08 Q135.043 1115.08 133.168 1115.5 Q131.316 1115.92 129.371 1116.8 L129.371 1099.43 Z\" fill=\"#000000\" fill-rule=\"evenodd\" fill-opacity=\"1\" /><path clip-path=\"url(#clip990)\" d=\"M62.9365 758.421 Q59.3254 758.421 57.4967 761.986 Q55.6912 765.528 55.6912 772.657 Q55.6912 779.764 57.4967 783.329 Q59.3254 786.87 62.9365 786.87 Q66.5707 786.87 68.3763 783.329 Q70.205 779.764 70.205 772.657 Q70.205 765.528 68.3763 761.986 Q66.5707 758.421 62.9365 758.421 M62.9365 754.718 Q68.7467 754.718 71.8022 759.324 Q74.8809 763.907 74.8809 772.657 Q74.8809 781.384 71.8022 785.991 Q68.7467 790.574 62.9365 790.574 Q57.1264 790.574 54.0477 785.991 Q50.9921 781.384 50.9921 772.657 Q50.9921 763.907 54.0477 759.324 Q57.1264 754.718 62.9365 754.718 Z\" fill=\"#000000\" fill-rule=\"evenodd\" fill-opacity=\"1\" /><path clip-path=\"url(#clip990)\" d=\"M83.0984 784.023 L87.9827 784.023 L87.9827 789.903 L83.0984 789.903 L83.0984 784.023 Z\" fill=\"#000000\" fill-rule=\"evenodd\" fill-opacity=\"1\" /><path clip-path=\"url(#clip990)\" d=\"M98.2141 755.343 L116.57 755.343 L116.57 759.278 L102.496 759.278 L102.496 767.75 Q103.515 767.403 104.534 767.241 Q105.552 767.055 106.571 767.055 Q112.358 767.055 115.737 770.227 Q119.117 773.398 119.117 778.815 Q119.117 784.393 115.645 787.495 Q112.172 790.574 105.853 790.574 Q103.677 790.574 101.409 790.204 Q99.1632 789.833 96.7558 789.092 L96.7558 784.393 Q98.8391 785.528 101.061 786.083 Q103.284 786.639 105.76 786.639 Q109.765 786.639 112.103 784.532 Q114.441 782.426 114.441 778.815 Q114.441 775.204 112.103 773.097 Q109.765 770.991 105.76 770.991 Q103.885 770.991 102.01 771.407 Q100.159 771.824 98.2141 772.704 L98.2141 755.343 Z\" fill=\"#000000\" fill-rule=\"evenodd\" fill-opacity=\"1\" /><path clip-path=\"url(#clip990)\" d=\"M138.33 758.421 Q134.719 758.421 132.89 761.986 Q131.084 765.528 131.084 772.657 Q131.084 779.764 132.89 783.329 Q134.719 786.87 138.33 786.87 Q141.964 786.87 143.769 783.329 Q145.598 779.764 145.598 772.657 Q145.598 765.528 143.769 761.986 Q141.964 758.421 138.33 758.421 M138.33 754.718 Q144.14 754.718 147.195 759.324 Q150.274 763.907 150.274 772.657 Q150.274 781.384 147.195 785.991 Q144.14 790.574 138.33 790.574 Q132.519 790.574 129.441 785.991 Q126.385 781.384 126.385 772.657 Q126.385 763.907 129.441 759.324 Q132.519 754.718 138.33 754.718 Z\" fill=\"#000000\" fill-rule=\"evenodd\" fill-opacity=\"1\" /><path clip-path=\"url(#clip990)\" d=\"M63.9319 414.33 Q60.3208 414.33 58.4921 417.895 Q56.6865 421.436 56.6865 428.566 Q56.6865 435.672 58.4921 439.237 Q60.3208 442.779 63.9319 442.779 Q67.5661 442.779 69.3717 439.237 Q71.2004 435.672 71.2004 428.566 Q71.2004 421.436 69.3717 417.895 Q67.5661 414.33 63.9319 414.33 M63.9319 410.626 Q69.742 410.626 72.7976 415.233 Q75.8763 419.816 75.8763 428.566 Q75.8763 437.293 72.7976 441.899 Q69.742 446.482 63.9319 446.482 Q58.1217 446.482 55.043 441.899 Q51.9875 437.293 51.9875 428.566 Q51.9875 419.816 55.043 415.233 Q58.1217 410.626 63.9319 410.626 Z\" fill=\"#000000\" fill-rule=\"evenodd\" fill-opacity=\"1\" /><path clip-path=\"url(#clip990)\" d=\"M84.0938 439.932 L88.978 439.932 L88.978 445.811 L84.0938 445.811 L84.0938 439.932 Z\" fill=\"#000000\" fill-rule=\"evenodd\" fill-opacity=\"1\" /><path clip-path=\"url(#clip990)\" d=\"M97.9826 411.251 L120.205 411.251 L120.205 413.242 L107.658 445.811 L102.774 445.811 L114.58 415.186 L97.9826 415.186 L97.9826 411.251 Z\" fill=\"#000000\" fill-rule=\"evenodd\" fill-opacity=\"1\" /><path clip-path=\"url(#clip990)\" d=\"M129.371 411.251 L147.728 411.251 L147.728 415.186 L133.654 415.186 L133.654 423.659 Q134.672 423.311 135.691 423.149 Q136.709 422.964 137.728 422.964 Q143.515 422.964 146.894 426.135 Q150.274 429.307 150.274 434.723 Q150.274 440.302 146.802 443.404 Q143.33 446.482 137.01 446.482 Q134.834 446.482 132.566 446.112 Q130.32 445.742 127.913 445.001 L127.913 440.302 Q129.996 441.436 132.219 441.992 Q134.441 442.547 136.918 442.547 Q140.922 442.547 143.26 440.441 Q145.598 438.334 145.598 434.723 Q145.598 431.112 143.26 429.006 Q140.922 426.899 136.918 426.899 Q135.043 426.899 133.168 427.316 Q131.316 427.733 129.371 428.612 L129.371 411.251 Z\" fill=\"#000000\" fill-rule=\"evenodd\" fill-opacity=\"1\" /><path clip-path=\"url(#clip990)\" d=\"M53.7467 97.7846 L61.3856 97.7846 L61.3856 71.419 L53.0754 73.0856 L53.0754 68.8264 L61.3393 67.1598 L66.0152 67.1598 L66.0152 97.7846 L73.654 97.7846 L73.654 101.72 L53.7467 101.72 L53.7467 97.7846 Z\" fill=\"#000000\" fill-rule=\"evenodd\" fill-opacity=\"1\" /><path clip-path=\"url(#clip990)\" d=\"M83.0984 95.8402 L87.9827 95.8402 L87.9827 101.72 L83.0984 101.72 L83.0984 95.8402 Z\" fill=\"#000000\" fill-rule=\"evenodd\" fill-opacity=\"1\" /><path clip-path=\"url(#clip990)\" d=\"M108.168 70.2384 Q104.557 70.2384 102.728 73.8032 Q100.922 77.3449 100.922 84.4745 Q100.922 91.5809 102.728 95.1457 Q104.557 98.6874 108.168 98.6874 Q111.802 98.6874 113.608 95.1457 Q115.436 91.5809 115.436 84.4745 Q115.436 77.3449 113.608 73.8032 Q111.802 70.2384 108.168 70.2384 M108.168 66.5348 Q113.978 66.5348 117.033 71.1412 Q120.112 75.7245 120.112 84.4745 Q120.112 93.2013 117.033 97.8077 Q113.978 102.391 108.168 102.391 Q102.358 102.391 99.2789 97.8077 Q96.2234 93.2013 96.2234 84.4745 Q96.2234 75.7245 99.2789 71.1412 Q102.358 66.5348 108.168 66.5348 Z\" fill=\"#000000\" fill-rule=\"evenodd\" fill-opacity=\"1\" /><path clip-path=\"url(#clip990)\" d=\"M138.33 70.2384 Q134.719 70.2384 132.89 73.8032 Q131.084 77.3449 131.084 84.4745 Q131.084 91.5809 132.89 95.1457 Q134.719 98.6874 138.33 98.6874 Q141.964 98.6874 143.769 95.1457 Q145.598 91.5809 145.598 84.4745 Q145.598 77.3449 143.769 73.8032 Q141.964 70.2384 138.33 70.2384 M138.33 66.5348 Q144.14 66.5348 147.195 71.1412 Q150.274 75.7245 150.274 84.4745 Q150.274 93.2013 147.195 97.8077 Q144.14 102.391 138.33 102.391 Q132.519 102.391 129.441 97.8077 Q126.385 93.2013 126.385 84.4745 Q126.385 75.7245 129.441 71.1412 Q132.519 66.5348 138.33 66.5348 Z\" fill=\"#000000\" fill-rule=\"evenodd\" fill-opacity=\"1\" /><polyline clip-path=\"url(#clip992)\" style=\"stroke:#009af9; stroke-linecap:round; stroke-linejoin:round; stroke-width:4; stroke-opacity:1; fill:none\" points=\"\n",
       "  247.59,1224.76 474.684,1125.4 701.779,1436.16 928.873,856.062 1155.97,1079.31 1383.06,1419.68 1610.16,1391.57 1837.25,87.9763 2064.35,281.925 2291.44,338.579 \n",
       "  \n",
       "  \"/>\n",
       "<polyline clip-path=\"url(#clip992)\" style=\"stroke:#e26f46; stroke-linecap:round; stroke-linejoin:round; stroke-width:4; stroke-opacity:1; fill:none\" points=\"\n",
       "  247.59,440.998 474.684,415.581 701.779,330.271 928.873,989.403 1155.97,188.476 1383.06,737.221 1610.16,1403.53 1837.25,1445.72 2064.35,1043.61 2291.44,746.463 \n",
       "  \n",
       "  \"/>\n",
       "<path clip-path=\"url(#clip990)\" d=\"\n",
       "M1987.39 250.738 L2280.54 250.738 L2280.54 95.2176 L1987.39 95.2176  Z\n",
       "  \" fill=\"#ffffff\" fill-rule=\"evenodd\" fill-opacity=\"1\"/>\n",
       "<polyline clip-path=\"url(#clip990)\" style=\"stroke:#000000; stroke-linecap:round; stroke-linejoin:round; stroke-width:4; stroke-opacity:1; fill:none\" points=\"\n",
       "  1987.39,250.738 2280.54,250.738 2280.54,95.2176 1987.39,95.2176 1987.39,250.738 \n",
       "  \"/>\n",
       "<polyline clip-path=\"url(#clip990)\" style=\"stroke:#009af9; stroke-linecap:round; stroke-linejoin:round; stroke-width:4; stroke-opacity:1; fill:none\" points=\"\n",
       "  2011.46,147.058 2155.89,147.058 \n",
       "  \"/>\n",
       "<path clip-path=\"url(#clip990)\" d=\"M2193.81 166.745 Q2192 171.375 2190.29 172.787 Q2188.58 174.199 2185.71 174.199 L2182.3 174.199 L2182.3 170.634 L2184.8 170.634 Q2186.56 170.634 2187.53 169.8 Q2188.51 168.967 2189.69 165.865 L2190.45 163.921 L2179.97 138.412 L2184.48 138.412 L2192.58 158.689 L2200.68 138.412 L2205.2 138.412 L2193.81 166.745 Z\" fill=\"#000000\" fill-rule=\"evenodd\" fill-opacity=\"1\" /><path clip-path=\"url(#clip990)\" d=\"M2212.49 160.402 L2220.13 160.402 L2220.13 134.037 L2211.82 135.703 L2211.82 131.444 L2220.08 129.778 L2224.76 129.778 L2224.76 160.402 L2232.4 160.402 L2232.4 164.338 L2212.49 164.338 L2212.49 160.402 Z\" fill=\"#000000\" fill-rule=\"evenodd\" fill-opacity=\"1\" /><polyline clip-path=\"url(#clip990)\" style=\"stroke:#e26f46; stroke-linecap:round; stroke-linejoin:round; stroke-width:4; stroke-opacity:1; fill:none\" points=\"\n",
       "  2011.46,198.898 2155.89,198.898 \n",
       "  \"/>\n",
       "<path clip-path=\"url(#clip990)\" d=\"M2193.81 218.585 Q2192 223.215 2190.29 224.627 Q2188.58 226.039 2185.71 226.039 L2182.3 226.039 L2182.3 222.474 L2184.8 222.474 Q2186.56 222.474 2187.53 221.64 Q2188.51 220.807 2189.69 217.705 L2190.45 215.761 L2179.97 190.252 L2184.48 190.252 L2192.58 210.529 L2200.68 190.252 L2205.2 190.252 L2193.81 218.585 Z\" fill=\"#000000\" fill-rule=\"evenodd\" fill-opacity=\"1\" /><path clip-path=\"url(#clip990)\" d=\"M2215.71 212.242 L2232.03 212.242 L2232.03 216.178 L2210.08 216.178 L2210.08 212.242 Q2212.74 209.488 2217.33 204.858 Q2221.93 200.205 2223.11 198.863 Q2225.36 196.34 2226.24 194.604 Q2227.14 192.844 2227.14 191.155 Q2227.14 188.4 2225.2 186.664 Q2223.28 184.928 2220.17 184.928 Q2217.97 184.928 2215.52 185.692 Q2213.09 186.455 2210.31 188.006 L2210.31 183.284 Q2213.14 182.15 2215.59 181.571 Q2218.04 180.993 2220.08 180.993 Q2225.45 180.993 2228.65 183.678 Q2231.84 186.363 2231.84 190.854 Q2231.84 192.983 2231.03 194.905 Q2230.24 196.803 2228.14 199.395 Q2227.56 200.067 2224.46 203.284 Q2221.35 206.479 2215.71 212.242 Z\" fill=\"#000000\" fill-rule=\"evenodd\" fill-opacity=\"1\" /></svg>\n"
      ]
     },
     "execution_count": 79,
     "metadata": {},
     "output_type": "execute_result"
    }
   ],
   "source": [
    "plot!(f(), rand(10))"
   ]
  },
  {
   "cell_type": "markdown",
   "metadata": {
    "id": "cUxl1ah8i13Q"
   },
   "source": [
    "Continuing we present several types of plots and how to draw them.\n",
    "\n",
    "Pseudo-Time-Series-like plot."
   ]
  },
  {
   "cell_type": "code",
   "execution_count": 80,
   "metadata": {
    "id": "WlagGprPi1Qt"
   },
   "outputs": [
    {
     "data": {
      "image/svg+xml": [
       "<?xml version=\"1.0\" encoding=\"utf-8\"?>\n",
       "<svg xmlns=\"http://www.w3.org/2000/svg\" xmlns:xlink=\"http://www.w3.org/1999/xlink\" width=\"600\" height=\"400\" viewBox=\"0 0 2400 1600\">\n",
       "<defs>\n",
       "  <clipPath id=\"clip030\">\n",
       "    <rect x=\"0\" y=\"0\" width=\"2400\" height=\"1600\"/>\n",
       "  </clipPath>\n",
       "</defs>\n",
       "<path clip-path=\"url(#clip030)\" d=\"\n",
       "M0 1600 L2400 1600 L2400 0 L0 0  Z\n",
       "  \" fill=\"#ffffff\" fill-rule=\"evenodd\" fill-opacity=\"1\"/>\n",
       "<defs>\n",
       "  <clipPath id=\"clip031\">\n",
       "    <rect x=\"480\" y=\"0\" width=\"1681\" height=\"1600\"/>\n",
       "  </clipPath>\n",
       "</defs>\n",
       "<path clip-path=\"url(#clip030)\" d=\"\n",
       "M249.542 1454.38 L2352.76 1454.38 L2352.76 123.472 L249.542 123.472  Z\n",
       "  \" fill=\"#ffffff\" fill-rule=\"evenodd\" fill-opacity=\"1\"/>\n",
       "<defs>\n",
       "  <clipPath id=\"clip032\">\n",
       "    <rect x=\"249\" y=\"123\" width=\"2104\" height=\"1332\"/>\n",
       "  </clipPath>\n",
       "</defs>\n",
       "<polyline clip-path=\"url(#clip032)\" style=\"stroke:#000000; stroke-linecap:round; stroke-linejoin:round; stroke-width:2; stroke-opacity:0.1; fill:none\" points=\"\n",
       "  1692.95,1454.38 1692.95,123.472 \n",
       "  \"/>\n",
       "<polyline clip-path=\"url(#clip032)\" style=\"stroke:#000000; stroke-linecap:round; stroke-linejoin:round; stroke-width:2; stroke-opacity:0.1; fill:none\" points=\"\n",
       "  1990.95,1454.38 1990.95,123.472 \n",
       "  \"/>\n",
       "<polyline clip-path=\"url(#clip032)\" style=\"stroke:#000000; stroke-linecap:round; stroke-linejoin:round; stroke-width:2; stroke-opacity:0.1; fill:none\" points=\"\n",
       "  2165.27,1454.38 2165.27,123.472 \n",
       "  \"/>\n",
       "<polyline clip-path=\"url(#clip032)\" style=\"stroke:#000000; stroke-linecap:round; stroke-linejoin:round; stroke-width:2; stroke-opacity:0.1; fill:none\" points=\"\n",
       "  2288.95,1454.38 2288.95,123.472 \n",
       "  \"/>\n",
       "<polyline clip-path=\"url(#clip030)\" style=\"stroke:#000000; stroke-linecap:round; stroke-linejoin:round; stroke-width:4; stroke-opacity:1; fill:none\" points=\"\n",
       "  249.542,1454.38 2352.76,1454.38 \n",
       "  \"/>\n",
       "<polyline clip-path=\"url(#clip030)\" style=\"stroke:#000000; stroke-linecap:round; stroke-linejoin:round; stroke-width:4; stroke-opacity:1; fill:none\" points=\"\n",
       "  1692.95,1454.38 1692.95,1435.49 \n",
       "  \"/>\n",
       "<polyline clip-path=\"url(#clip030)\" style=\"stroke:#000000; stroke-linecap:round; stroke-linejoin:round; stroke-width:4; stroke-opacity:1; fill:none\" points=\"\n",
       "  1990.95,1454.38 1990.95,1435.49 \n",
       "  \"/>\n",
       "<polyline clip-path=\"url(#clip030)\" style=\"stroke:#000000; stroke-linecap:round; stroke-linejoin:round; stroke-width:4; stroke-opacity:1; fill:none\" points=\"\n",
       "  2165.27,1454.38 2165.27,1435.49 \n",
       "  \"/>\n",
       "<polyline clip-path=\"url(#clip030)\" style=\"stroke:#000000; stroke-linecap:round; stroke-linejoin:round; stroke-width:4; stroke-opacity:1; fill:none\" points=\"\n",
       "  2288.95,1454.38 2288.95,1435.49 \n",
       "  \"/>\n",
       "<path clip-path=\"url(#clip030)\" d=\"M1614.16 1507.91 L1618.93 1507.91 L1618.93 1491.43 L1613.74 1492.47 L1613.74 1489.81 L1618.9 1488.77 L1621.82 1488.77 L1621.82 1507.91 L1626.6 1507.91 L1626.6 1510.37 L1614.16 1510.37 L1614.16 1507.91 Z\" fill=\"#000000\" fill-rule=\"evenodd\" fill-opacity=\"1\" /><path clip-path=\"url(#clip030)\" d=\"M1638.75 1490.69 Q1636.49 1490.69 1635.35 1492.92 Q1634.22 1495.14 1634.22 1499.59 Q1634.22 1504.03 1635.35 1506.26 Q1636.49 1508.48 1638.75 1508.48 Q1641.02 1508.48 1642.15 1506.26 Q1643.29 1504.03 1643.29 1499.59 Q1643.29 1495.14 1642.15 1492.92 Q1641.02 1490.69 1638.75 1490.69 M1638.75 1488.38 Q1642.38 1488.38 1644.29 1491.26 Q1646.22 1494.12 1646.22 1499.59 Q1646.22 1505.05 1644.29 1507.93 Q1642.38 1510.79 1638.75 1510.79 Q1635.12 1510.79 1633.2 1507.93 Q1631.29 1505.05 1631.29 1499.59 Q1631.29 1494.12 1633.2 1491.26 Q1635.12 1488.38 1638.75 1488.38 Z\" fill=\"#000000\" fill-rule=\"evenodd\" fill-opacity=\"1\" /><path clip-path=\"url(#clip030)\" d=\"M1646.56 1491.24 L1650.44 1491.24 L1650.44 1477.85 L1646.22 1478.7 L1646.22 1476.54 L1650.41 1475.69 L1652.79 1475.69 L1652.79 1491.24 L1656.67 1491.24 L1656.67 1493.24 L1646.56 1493.24 L1646.56 1491.24 Z\" fill=\"#000000\" fill-rule=\"evenodd\" fill-opacity=\"1\" /><path clip-path=\"url(#clip030)\" d=\"M1661.46 1490.25 L1663.94 1490.25 L1663.94 1493.24 L1661.46 1493.24 L1661.46 1490.25 Z\" fill=\"#000000\" fill-rule=\"evenodd\" fill-opacity=\"1\" /><path clip-path=\"url(#clip030)\" d=\"M1676.31 1483.78 Q1678.01 1484.14 1678.97 1485.29 Q1679.93 1486.44 1679.93 1488.14 Q1679.93 1490.74 1678.14 1492.16 Q1676.36 1493.58 1673.07 1493.58 Q1671.96 1493.58 1670.78 1493.36 Q1669.62 1493.14 1668.37 1492.71 L1668.37 1490.42 Q1669.36 1490.99 1670.54 1491.29 Q1671.71 1491.58 1672.99 1491.58 Q1675.23 1491.58 1676.39 1490.7 Q1677.57 1489.82 1677.57 1488.14 Q1677.57 1486.59 1676.47 1485.72 Q1675.39 1484.83 1673.45 1484.83 L1671.41 1484.83 L1671.41 1482.88 L1673.55 1482.88 Q1675.3 1482.88 1676.23 1482.19 Q1677.16 1481.48 1677.16 1480.17 Q1677.16 1478.82 1676.19 1478.1 Q1675.24 1477.37 1673.45 1477.37 Q1672.48 1477.37 1671.36 1477.58 Q1670.24 1477.79 1668.9 1478.24 L1668.9 1476.12 Q1670.26 1475.75 1671.43 1475.56 Q1672.62 1475.37 1673.66 1475.37 Q1676.37 1475.37 1677.94 1476.61 Q1679.52 1477.83 1679.52 1479.92 Q1679.52 1481.38 1678.68 1482.39 Q1677.85 1483.39 1676.31 1483.78 Z\" fill=\"#000000\" fill-rule=\"evenodd\" fill-opacity=\"1\" /><path clip-path=\"url(#clip030)\" d=\"M1684.5 1492.87 L1684.5 1490.71 Q1685.4 1491.13 1686.31 1491.36 Q1687.23 1491.58 1688.11 1491.58 Q1690.46 1491.58 1691.7 1490.01 Q1692.94 1488.42 1693.12 1485.2 Q1692.44 1486.21 1691.39 1486.75 Q1690.34 1487.29 1689.08 1487.29 Q1686.44 1487.29 1684.9 1485.7 Q1683.37 1484.11 1683.37 1481.34 Q1683.37 1478.64 1684.97 1477.01 Q1686.57 1475.37 1689.23 1475.37 Q1692.27 1475.37 1693.87 1477.71 Q1695.48 1480.04 1695.48 1484.48 Q1695.48 1488.63 1693.51 1491.11 Q1691.54 1493.58 1688.22 1493.58 Q1687.32 1493.58 1686.41 1493.4 Q1685.49 1493.23 1684.5 1492.87 M1689.23 1485.43 Q1690.83 1485.43 1691.76 1484.34 Q1692.7 1483.25 1692.7 1481.34 Q1692.7 1479.45 1691.76 1478.36 Q1690.83 1477.25 1689.23 1477.25 Q1687.63 1477.25 1686.69 1478.36 Q1685.76 1479.45 1685.76 1481.34 Q1685.76 1483.25 1686.69 1484.34 Q1687.63 1485.43 1689.23 1485.43 Z\" fill=\"#000000\" fill-rule=\"evenodd\" fill-opacity=\"1\" /><path clip-path=\"url(#clip030)\" d=\"M1699.15 1475.69 L1710.43 1475.69 L1710.43 1476.7 L1704.06 1493.24 L1701.58 1493.24 L1707.58 1477.69 L1699.15 1477.69 L1699.15 1475.69 Z\" fill=\"#000000\" fill-rule=\"evenodd\" fill-opacity=\"1\" /><path clip-path=\"url(#clip030)\" d=\"M1715.14 1492.87 L1715.14 1490.71 Q1716.03 1491.13 1716.95 1491.36 Q1717.86 1491.58 1718.74 1491.58 Q1721.1 1491.58 1722.33 1490.01 Q1723.58 1488.42 1723.75 1485.2 Q1723.07 1486.21 1722.02 1486.75 Q1720.98 1487.29 1719.71 1487.29 Q1717.08 1487.29 1715.54 1485.7 Q1714.01 1484.11 1714.01 1481.34 Q1714.01 1478.64 1715.61 1477.01 Q1717.2 1475.37 1719.86 1475.37 Q1722.91 1475.37 1724.5 1477.71 Q1726.11 1480.04 1726.11 1484.48 Q1726.11 1488.63 1724.14 1491.11 Q1722.18 1493.58 1718.85 1493.58 Q1717.96 1493.58 1717.04 1493.4 Q1716.12 1493.23 1715.14 1492.87 M1719.86 1485.43 Q1721.46 1485.43 1722.39 1484.34 Q1723.33 1483.25 1723.33 1481.34 Q1723.33 1479.45 1722.39 1478.36 Q1721.46 1477.25 1719.86 1477.25 Q1718.26 1477.25 1717.32 1478.36 Q1716.39 1479.45 1716.39 1481.34 Q1716.39 1483.25 1717.32 1484.34 Q1718.26 1485.43 1719.86 1485.43 Z\" fill=\"#000000\" fill-rule=\"evenodd\" fill-opacity=\"1\" /><path clip-path=\"url(#clip030)\" d=\"M1736.91 1477.76 L1730.91 1487.13 L1736.91 1487.13 L1736.91 1477.76 M1736.28 1475.69 L1739.27 1475.69 L1739.27 1487.13 L1741.77 1487.13 L1741.77 1489.1 L1739.27 1489.1 L1739.27 1493.24 L1736.91 1493.24 L1736.91 1489.1 L1728.98 1489.1 L1728.98 1486.81 L1736.28 1475.69 Z\" fill=\"#000000\" fill-rule=\"evenodd\" fill-opacity=\"1\" /><path clip-path=\"url(#clip030)\" d=\"M1750.78 1477.25 Q1748.94 1477.25 1748.01 1479.06 Q1747.1 1480.86 1747.1 1484.48 Q1747.1 1488.09 1748.01 1489.9 Q1748.94 1491.7 1750.78 1491.7 Q1752.62 1491.7 1753.54 1489.9 Q1754.47 1488.09 1754.47 1484.48 Q1754.47 1480.86 1753.54 1479.06 Q1752.62 1477.25 1750.78 1477.25 M1750.78 1475.37 Q1753.73 1475.37 1755.28 1477.71 Q1756.84 1480.04 1756.84 1484.48 Q1756.84 1488.91 1755.28 1491.25 Q1753.73 1493.58 1750.78 1493.58 Q1747.83 1493.58 1746.26 1491.25 Q1744.71 1488.91 1744.71 1484.48 Q1744.71 1480.04 1746.26 1477.71 Q1747.83 1475.37 1750.78 1475.37 Z\" fill=\"#000000\" fill-rule=\"evenodd\" fill-opacity=\"1\" /><path clip-path=\"url(#clip030)\" d=\"M1766.09 1477.25 Q1764.26 1477.25 1763.33 1479.06 Q1762.41 1480.86 1762.41 1484.48 Q1762.41 1488.09 1763.33 1489.9 Q1764.26 1491.7 1766.09 1491.7 Q1767.94 1491.7 1768.86 1489.9 Q1769.78 1488.09 1769.78 1484.48 Q1769.78 1480.86 1768.86 1479.06 Q1767.94 1477.25 1766.09 1477.25 M1766.09 1475.37 Q1769.04 1475.37 1770.6 1477.71 Q1772.16 1480.04 1772.16 1484.48 Q1772.16 1488.91 1770.6 1491.25 Q1769.04 1493.58 1766.09 1493.58 Q1763.14 1493.58 1761.58 1491.25 Q1760.03 1488.91 1760.03 1484.48 Q1760.03 1480.04 1761.58 1477.71 Q1763.14 1475.37 1766.09 1475.37 Z\" fill=\"#000000\" fill-rule=\"evenodd\" fill-opacity=\"1\" /><path clip-path=\"url(#clip030)\" d=\"M1912.16 1507.91 L1916.93 1507.91 L1916.93 1491.43 L1911.74 1492.47 L1911.74 1489.81 L1916.9 1488.77 L1919.83 1488.77 L1919.83 1507.91 L1924.6 1507.91 L1924.6 1510.37 L1912.16 1510.37 L1912.16 1507.91 Z\" fill=\"#000000\" fill-rule=\"evenodd\" fill-opacity=\"1\" /><path clip-path=\"url(#clip030)\" d=\"M1936.75 1490.69 Q1934.5 1490.69 1933.35 1492.92 Q1932.23 1495.14 1932.23 1499.59 Q1932.23 1504.03 1933.35 1506.26 Q1934.5 1508.48 1936.75 1508.48 Q1939.03 1508.48 1940.15 1506.26 Q1941.3 1504.03 1941.3 1499.59 Q1941.3 1495.14 1940.15 1492.92 Q1939.03 1490.69 1936.75 1490.69 M1936.75 1488.38 Q1940.39 1488.38 1942.3 1491.26 Q1944.22 1494.12 1944.22 1499.59 Q1944.22 1505.05 1942.3 1507.93 Q1940.39 1510.79 1936.75 1510.79 Q1933.12 1510.79 1931.2 1507.93 Q1929.29 1505.05 1929.29 1499.59 Q1929.29 1494.12 1931.2 1491.26 Q1933.12 1488.38 1936.75 1488.38 Z\" fill=\"#000000\" fill-rule=\"evenodd\" fill-opacity=\"1\" /><path clip-path=\"url(#clip030)\" d=\"M1944.56 1491.24 L1948.44 1491.24 L1948.44 1477.85 L1944.22 1478.7 L1944.22 1476.54 L1948.42 1475.69 L1950.79 1475.69 L1950.79 1491.24 L1954.67 1491.24 L1954.67 1493.24 L1944.56 1493.24 L1944.56 1491.24 Z\" fill=\"#000000\" fill-rule=\"evenodd\" fill-opacity=\"1\" /><path clip-path=\"url(#clip030)\" d=\"M1959.47 1490.25 L1961.95 1490.25 L1961.95 1493.24 L1959.47 1493.24 L1959.47 1490.25 Z\" fill=\"#000000\" fill-rule=\"evenodd\" fill-opacity=\"1\" /><path clip-path=\"url(#clip030)\" d=\"M1972.49 1483.52 Q1970.89 1483.52 1969.95 1484.61 Q1969.02 1485.7 1969.02 1487.61 Q1969.02 1489.5 1969.95 1490.61 Q1970.89 1491.7 1972.49 1491.7 Q1974.09 1491.7 1975.02 1490.61 Q1975.96 1489.5 1975.96 1487.61 Q1975.96 1485.7 1975.02 1484.61 Q1974.09 1483.52 1972.49 1483.52 M1977.2 1476.08 L1977.2 1478.24 Q1976.31 1477.82 1975.39 1477.59 Q1974.49 1477.37 1973.59 1477.37 Q1971.24 1477.37 1970 1478.96 Q1968.76 1480.54 1968.59 1483.75 Q1969.28 1482.73 1970.33 1482.19 Q1971.37 1481.64 1972.63 1481.64 Q1975.28 1481.64 1976.8 1483.25 Q1978.34 1484.85 1978.34 1487.61 Q1978.34 1490.31 1976.75 1491.95 Q1975.15 1493.58 1972.49 1493.58 Q1969.45 1493.58 1967.84 1491.25 Q1966.22 1488.91 1966.22 1484.48 Q1966.22 1480.32 1968.2 1477.85 Q1970.17 1475.37 1973.5 1475.37 Q1974.39 1475.37 1975.3 1475.55 Q1976.22 1475.72 1977.2 1476.08 Z\" fill=\"#000000\" fill-rule=\"evenodd\" fill-opacity=\"1\" /><path clip-path=\"url(#clip030)\" d=\"M1982.51 1492.87 L1982.51 1490.71 Q1983.4 1491.13 1984.32 1491.36 Q1985.23 1491.58 1986.11 1491.58 Q1988.46 1491.58 1989.7 1490.01 Q1990.95 1488.42 1991.12 1485.2 Q1990.44 1486.21 1989.39 1486.75 Q1988.35 1487.29 1987.08 1487.29 Q1984.44 1487.29 1982.9 1485.7 Q1981.38 1484.11 1981.38 1481.34 Q1981.38 1478.64 1982.98 1477.01 Q1984.57 1475.37 1987.23 1475.37 Q1990.28 1475.37 1991.87 1477.71 Q1993.48 1480.04 1993.48 1484.48 Q1993.48 1488.63 1991.51 1491.11 Q1989.55 1493.58 1986.22 1493.58 Q1985.33 1493.58 1984.41 1493.4 Q1983.49 1493.23 1982.51 1492.87 M1987.23 1485.43 Q1988.83 1485.43 1989.76 1484.34 Q1990.7 1483.25 1990.7 1481.34 Q1990.7 1479.45 1989.76 1478.36 Q1988.83 1477.25 1987.23 1477.25 Q1985.63 1477.25 1984.69 1478.36 Q1983.76 1479.45 1983.76 1481.34 Q1983.76 1483.25 1984.69 1484.34 Q1985.63 1485.43 1987.23 1485.43 Z\" fill=\"#000000\" fill-rule=\"evenodd\" fill-opacity=\"1\" /><path clip-path=\"url(#clip030)\" d=\"M2002.83 1484.9 Q2001.14 1484.9 2000.16 1485.81 Q1999.2 1486.71 1999.2 1488.3 Q1999.2 1489.89 2000.16 1490.79 Q2001.14 1491.7 2002.83 1491.7 Q2004.52 1491.7 2005.5 1490.79 Q2006.47 1489.88 2006.47 1488.3 Q2006.47 1486.71 2005.5 1485.81 Q2004.53 1484.9 2002.83 1484.9 M2000.45 1483.89 Q1998.93 1483.52 1998.07 1482.47 Q1997.22 1481.43 1997.22 1479.92 Q1997.22 1477.82 1998.72 1476.59 Q2000.22 1475.37 2002.83 1475.37 Q2005.45 1475.37 2006.94 1476.59 Q2008.44 1477.82 2008.44 1479.92 Q2008.44 1481.43 2007.58 1482.47 Q2006.73 1483.52 2005.22 1483.89 Q2006.93 1484.29 2007.88 1485.46 Q2008.85 1486.62 2008.85 1488.3 Q2008.85 1490.85 2007.28 1492.22 Q2005.73 1493.58 2002.83 1493.58 Q1999.93 1493.58 1998.36 1492.22 Q1996.81 1490.85 1996.81 1488.3 Q1996.81 1486.62 1997.77 1485.46 Q1998.74 1484.29 2000.45 1483.89 M1999.58 1480.14 Q1999.58 1481.51 2000.43 1482.27 Q2001.29 1483.04 2002.83 1483.04 Q2004.36 1483.04 2005.22 1482.27 Q2006.09 1481.51 2006.09 1480.14 Q2006.09 1478.78 2005.22 1478.02 Q2004.36 1477.25 2002.83 1477.25 Q2001.29 1477.25 2000.43 1478.02 Q1999.58 1478.78 1999.58 1480.14 Z\" fill=\"#000000\" fill-rule=\"evenodd\" fill-opacity=\"1\" /><path clip-path=\"url(#clip030)\" d=\"M2013.14 1492.87 L2013.14 1490.71 Q2014.03 1491.13 2014.95 1491.36 Q2015.87 1491.58 2016.75 1491.58 Q2019.1 1491.58 2020.33 1490.01 Q2021.58 1488.42 2021.75 1485.2 Q2021.07 1486.21 2020.03 1486.75 Q2018.98 1487.29 2017.71 1487.29 Q2015.08 1487.29 2013.54 1485.7 Q2012.01 1484.11 2012.01 1481.34 Q2012.01 1478.64 2013.61 1477.01 Q2015.21 1475.37 2017.86 1475.37 Q2020.91 1475.37 2022.51 1477.71 Q2024.12 1480.04 2024.12 1484.48 Q2024.12 1488.63 2022.14 1491.11 Q2020.18 1493.58 2016.85 1493.58 Q2015.96 1493.58 2015.04 1493.4 Q2014.13 1493.23 2013.14 1492.87 M2017.86 1485.43 Q2019.46 1485.43 2020.39 1484.34 Q2021.33 1483.25 2021.33 1481.34 Q2021.33 1479.45 2020.39 1478.36 Q2019.46 1477.25 2017.86 1477.25 Q2016.27 1477.25 2015.32 1478.36 Q2014.4 1479.45 2014.4 1481.34 Q2014.4 1483.25 2015.32 1484.34 Q2016.27 1485.43 2017.86 1485.43 Z\" fill=\"#000000\" fill-rule=\"evenodd\" fill-opacity=\"1\" /><path clip-path=\"url(#clip030)\" d=\"M2027.78 1475.69 L2039.07 1475.69 L2039.07 1476.7 L2032.7 1493.24 L2030.22 1493.24 L2036.21 1477.69 L2027.78 1477.69 L2027.78 1475.69 Z\" fill=\"#000000\" fill-rule=\"evenodd\" fill-opacity=\"1\" /><path clip-path=\"url(#clip030)\" d=\"M2048.78 1477.25 Q2046.95 1477.25 2046.02 1479.06 Q2045.1 1480.86 2045.1 1484.48 Q2045.1 1488.09 2046.02 1489.9 Q2046.95 1491.7 2048.78 1491.7 Q2050.62 1491.7 2051.54 1489.9 Q2052.47 1488.09 2052.47 1484.48 Q2052.47 1480.86 2051.54 1479.06 Q2050.62 1477.25 2048.78 1477.25 M2048.78 1475.37 Q2051.73 1475.37 2053.28 1477.71 Q2054.84 1480.04 2054.84 1484.48 Q2054.84 1488.91 2053.28 1491.25 Q2051.73 1493.58 2048.78 1493.58 Q2045.83 1493.58 2044.27 1491.25 Q2042.71 1488.91 2042.71 1484.48 Q2042.71 1480.04 2044.27 1477.71 Q2045.83 1475.37 2048.78 1475.37 Z\" fill=\"#000000\" fill-rule=\"evenodd\" fill-opacity=\"1\" /><path clip-path=\"url(#clip030)\" d=\"M2064.1 1477.25 Q2062.26 1477.25 2061.33 1479.06 Q2060.42 1480.86 2060.42 1484.48 Q2060.42 1488.09 2061.33 1489.9 Q2062.26 1491.7 2064.1 1491.7 Q2065.94 1491.7 2066.86 1489.9 Q2067.79 1488.09 2067.79 1484.48 Q2067.79 1480.86 2066.86 1479.06 Q2065.94 1477.25 2064.1 1477.25 M2064.1 1475.37 Q2067.05 1475.37 2068.6 1477.71 Q2070.16 1480.04 2070.16 1484.48 Q2070.16 1488.91 2068.6 1491.25 Q2067.05 1493.58 2064.1 1493.58 Q2061.15 1493.58 2059.58 1491.25 Q2058.03 1488.91 2058.03 1484.48 Q2058.03 1480.04 2059.58 1477.71 Q2061.15 1475.37 2064.1 1475.37 Z\" fill=\"#000000\" fill-rule=\"evenodd\" fill-opacity=\"1\" /><path clip-path=\"url(#clip030)\" d=\"M2086.64 1507.91 L2091.42 1507.91 L2091.42 1491.43 L2086.22 1492.47 L2086.22 1489.81 L2091.39 1488.77 L2094.31 1488.77 L2094.31 1507.91 L2099.09 1507.91 L2099.09 1510.37 L2086.64 1510.37 L2086.64 1507.91 Z\" fill=\"#000000\" fill-rule=\"evenodd\" fill-opacity=\"1\" /><path clip-path=\"url(#clip030)\" d=\"M2111.24 1490.69 Q2108.98 1490.69 2107.84 1492.92 Q2106.71 1495.14 2106.71 1499.59 Q2106.71 1504.03 2107.84 1506.26 Q2108.98 1508.48 2111.24 1508.48 Q2113.51 1508.48 2114.64 1506.26 Q2115.78 1504.03 2115.78 1499.59 Q2115.78 1495.14 2114.64 1492.92 Q2113.51 1490.69 2111.24 1490.69 M2111.24 1488.38 Q2114.87 1488.38 2116.78 1491.26 Q2118.7 1494.12 2118.7 1499.59 Q2118.7 1505.05 2116.78 1507.93 Q2114.87 1510.79 2111.24 1510.79 Q2107.61 1510.79 2105.68 1507.93 Q2103.77 1505.05 2103.77 1499.59 Q2103.77 1494.12 2105.68 1491.26 Q2107.61 1488.38 2111.24 1488.38 Z\" fill=\"#000000\" fill-rule=\"evenodd\" fill-opacity=\"1\" /><path clip-path=\"url(#clip030)\" d=\"M2119.05 1491.24 L2122.92 1491.24 L2122.92 1477.85 L2118.7 1478.7 L2118.7 1476.54 L2122.9 1475.69 L2125.28 1475.69 L2125.28 1491.24 L2129.15 1491.24 L2129.15 1493.24 L2119.05 1493.24 L2119.05 1491.24 Z\" fill=\"#000000\" fill-rule=\"evenodd\" fill-opacity=\"1\" /><path clip-path=\"url(#clip030)\" d=\"M2133.95 1490.25 L2136.43 1490.25 L2136.43 1493.24 L2133.95 1493.24 L2133.95 1490.25 Z\" fill=\"#000000\" fill-rule=\"evenodd\" fill-opacity=\"1\" /><path clip-path=\"url(#clip030)\" d=\"M2146.68 1484.9 Q2144.99 1484.9 2144.01 1485.81 Q2143.05 1486.71 2143.05 1488.3 Q2143.05 1489.89 2144.01 1490.79 Q2144.99 1491.7 2146.68 1491.7 Q2148.37 1491.7 2149.35 1490.79 Q2150.32 1489.88 2150.32 1488.3 Q2150.32 1486.71 2149.35 1485.81 Q2148.39 1484.9 2146.68 1484.9 M2144.31 1483.89 Q2142.78 1483.52 2141.92 1482.47 Q2141.07 1481.43 2141.07 1479.92 Q2141.07 1477.82 2142.57 1476.59 Q2144.07 1475.37 2146.68 1475.37 Q2149.3 1475.37 2150.8 1476.59 Q2152.29 1477.82 2152.29 1479.92 Q2152.29 1481.43 2151.43 1482.47 Q2150.58 1483.52 2149.07 1483.89 Q2150.78 1484.29 2151.74 1485.46 Q2152.7 1486.62 2152.7 1488.3 Q2152.7 1490.85 2151.14 1492.22 Q2149.58 1493.58 2146.68 1493.58 Q2143.78 1493.58 2142.21 1492.22 Q2140.66 1490.85 2140.66 1488.3 Q2140.66 1486.62 2141.63 1485.46 Q2142.59 1484.29 2144.31 1483.89 M2143.44 1480.14 Q2143.44 1481.51 2144.28 1482.27 Q2145.14 1483.04 2146.68 1483.04 Q2148.21 1483.04 2149.07 1482.27 Q2149.94 1481.51 2149.94 1480.14 Q2149.94 1478.78 2149.07 1478.02 Q2148.21 1477.25 2146.68 1477.25 Q2145.14 1477.25 2144.28 1478.02 Q2143.44 1478.78 2143.44 1480.14 Z\" fill=\"#000000\" fill-rule=\"evenodd\" fill-opacity=\"1\" /><path clip-path=\"url(#clip030)\" d=\"M2156.32 1475.69 L2167.6 1475.69 L2167.6 1476.7 L2161.23 1493.24 L2158.75 1493.24 L2164.75 1477.69 L2156.32 1477.69 L2156.32 1475.69 Z\" fill=\"#000000\" fill-rule=\"evenodd\" fill-opacity=\"1\" /><path clip-path=\"url(#clip030)\" d=\"M2172.26 1475.69 L2181.58 1475.69 L2181.58 1477.69 L2174.43 1477.69 L2174.43 1481.99 Q2174.95 1481.81 2175.47 1481.73 Q2175.99 1481.64 2176.5 1481.64 Q2179.44 1481.64 2181.16 1483.25 Q2182.87 1484.86 2182.87 1487.61 Q2182.87 1490.44 2181.11 1492.02 Q2179.35 1493.58 2176.14 1493.58 Q2175.03 1493.58 2173.88 1493.39 Q2172.74 1493.2 2171.52 1492.83 L2171.52 1490.44 Q2172.58 1491.02 2173.71 1491.3 Q2174.83 1491.58 2176.09 1491.58 Q2178.13 1491.58 2179.31 1490.51 Q2180.5 1489.44 2180.5 1487.61 Q2180.5 1485.77 2179.31 1484.7 Q2178.13 1483.64 2176.09 1483.64 Q2175.14 1483.64 2174.19 1483.85 Q2173.25 1484.06 2172.26 1484.5 L2172.26 1475.69 Z\" fill=\"#000000\" fill-rule=\"evenodd\" fill-opacity=\"1\" /><path clip-path=\"url(#clip030)\" d=\"M2192.63 1477.25 Q2190.8 1477.25 2189.87 1479.06 Q2188.95 1480.86 2188.95 1484.48 Q2188.95 1488.09 2189.87 1489.9 Q2190.8 1491.7 2192.63 1491.7 Q2194.48 1491.7 2195.39 1489.9 Q2196.32 1488.09 2196.32 1484.48 Q2196.32 1480.86 2195.39 1479.06 Q2194.48 1477.25 2192.63 1477.25 M2192.63 1475.37 Q2195.58 1475.37 2197.13 1477.71 Q2198.7 1480.04 2198.7 1484.48 Q2198.7 1488.91 2197.13 1491.25 Q2195.58 1493.58 2192.63 1493.58 Q2189.68 1493.58 2188.12 1491.25 Q2186.57 1488.91 2186.57 1484.48 Q2186.57 1480.04 2188.12 1477.71 Q2189.68 1475.37 2192.63 1475.37 Z\" fill=\"#000000\" fill-rule=\"evenodd\" fill-opacity=\"1\" /><path clip-path=\"url(#clip030)\" d=\"M2208.24 1483.52 Q2206.64 1483.52 2205.7 1484.61 Q2204.77 1485.7 2204.77 1487.61 Q2204.77 1489.5 2205.7 1490.61 Q2206.64 1491.7 2208.24 1491.7 Q2209.84 1491.7 2210.77 1490.61 Q2211.71 1489.5 2211.71 1487.61 Q2211.71 1485.7 2210.77 1484.61 Q2209.84 1483.52 2208.24 1483.52 M2212.95 1476.08 L2212.95 1478.24 Q2212.06 1477.82 2211.14 1477.59 Q2210.24 1477.37 2209.35 1477.37 Q2207 1477.37 2205.75 1478.96 Q2204.51 1480.54 2204.34 1483.75 Q2205.03 1482.73 2206.08 1482.19 Q2207.12 1481.64 2208.38 1481.64 Q2211.03 1481.64 2212.56 1483.25 Q2214.1 1484.85 2214.1 1487.61 Q2214.1 1490.31 2212.5 1491.95 Q2210.9 1493.58 2208.24 1493.58 Q2205.2 1493.58 2203.59 1491.25 Q2201.98 1488.91 2201.98 1484.48 Q2201.98 1480.32 2203.95 1477.85 Q2205.93 1475.37 2209.25 1475.37 Q2210.15 1475.37 2211.05 1475.55 Q2211.97 1475.72 2212.95 1476.08 Z\" fill=\"#000000\" fill-rule=\"evenodd\" fill-opacity=\"1\" /><path clip-path=\"url(#clip030)\" d=\"M2218.6 1491.24 L2222.48 1491.24 L2222.48 1477.85 L2218.26 1478.7 L2218.26 1476.54 L2222.45 1475.69 L2224.83 1475.69 L2224.83 1491.24 L2228.71 1491.24 L2228.71 1493.24 L2218.6 1493.24 L2218.6 1491.24 Z\" fill=\"#000000\" fill-rule=\"evenodd\" fill-opacity=\"1\" /><path clip-path=\"url(#clip030)\" d=\"M2240.7 1483.78 Q2242.4 1484.14 2243.35 1485.29 Q2244.32 1486.44 2244.32 1488.14 Q2244.32 1490.74 2242.53 1492.16 Q2240.74 1493.58 2237.45 1493.58 Q2236.35 1493.58 2235.17 1493.36 Q2234.01 1493.14 2232.76 1492.71 L2232.76 1490.42 Q2233.75 1490.99 2234.92 1491.29 Q2236.1 1491.58 2237.38 1491.58 Q2239.61 1491.58 2240.78 1490.7 Q2241.95 1489.82 2241.95 1488.14 Q2241.95 1486.59 2240.86 1485.72 Q2239.78 1484.83 2237.84 1484.83 L2235.79 1484.83 L2235.79 1482.88 L2237.93 1482.88 Q2239.69 1482.88 2240.61 1482.19 Q2241.54 1481.48 2241.54 1480.17 Q2241.54 1478.82 2240.58 1478.1 Q2239.63 1477.37 2237.84 1477.37 Q2236.86 1477.37 2235.75 1477.58 Q2234.63 1477.79 2233.29 1478.24 L2233.29 1476.12 Q2234.64 1475.75 2235.82 1475.56 Q2237.01 1475.37 2238.05 1475.37 Q2240.76 1475.37 2242.33 1476.61 Q2243.91 1477.83 2243.91 1479.92 Q2243.91 1481.38 2243.07 1482.39 Q2242.24 1483.39 2240.7 1483.78 Z\" fill=\"#000000\" fill-rule=\"evenodd\" fill-opacity=\"1\" /><path clip-path=\"url(#clip030)\" d=\"M2209.72 1507.91 L2214.5 1507.91 L2214.5 1491.43 L2209.3 1492.47 L2209.3 1489.81 L2214.47 1488.77 L2217.39 1488.77 L2217.39 1507.91 L2222.16 1507.91 L2222.16 1510.37 L2209.72 1510.37 L2209.72 1507.91 Z\" fill=\"#000000\" fill-rule=\"evenodd\" fill-opacity=\"1\" /><path clip-path=\"url(#clip030)\" d=\"M2234.32 1490.69 Q2232.06 1490.69 2230.92 1492.92 Q2229.79 1495.14 2229.79 1499.59 Q2229.79 1504.03 2230.92 1506.26 Q2232.06 1508.48 2234.32 1508.48 Q2236.59 1508.48 2237.72 1506.26 Q2238.86 1504.03 2238.86 1499.59 Q2238.86 1495.14 2237.72 1492.92 Q2236.59 1490.69 2234.32 1490.69 M2234.32 1488.38 Q2237.95 1488.38 2239.86 1491.26 Q2241.78 1494.12 2241.78 1499.59 Q2241.78 1505.05 2239.86 1507.93 Q2237.95 1510.79 2234.32 1510.79 Q2230.68 1510.79 2228.76 1507.93 Q2226.85 1505.05 2226.85 1499.59 Q2226.85 1494.12 2228.76 1491.26 Q2230.68 1488.38 2234.32 1488.38 Z\" fill=\"#000000\" fill-rule=\"evenodd\" fill-opacity=\"1\" /><path clip-path=\"url(#clip030)\" d=\"M2244.64 1491.24 L2252.92 1491.24 L2252.92 1493.24 L2241.78 1493.24 L2241.78 1491.24 Q2243.13 1489.84 2245.46 1487.49 Q2247.8 1485.13 2248.4 1484.45 Q2249.54 1483.16 2249.99 1482.28 Q2250.44 1481.39 2250.44 1480.53 Q2250.44 1479.13 2249.46 1478.25 Q2248.48 1477.37 2246.91 1477.37 Q2245.79 1477.37 2244.54 1477.76 Q2243.31 1478.15 2241.9 1478.93 L2241.9 1476.54 Q2243.33 1475.96 2244.58 1475.67 Q2245.82 1475.37 2246.86 1475.37 Q2249.59 1475.37 2251.21 1476.74 Q2252.83 1478.1 2252.83 1480.38 Q2252.83 1481.46 2252.42 1482.44 Q2252.02 1483.4 2250.95 1484.72 Q2250.66 1485.06 2249.08 1486.69 Q2247.51 1488.31 2244.64 1491.24 Z\" fill=\"#000000\" fill-rule=\"evenodd\" fill-opacity=\"1\" /><path clip-path=\"url(#clip030)\" d=\"M2257.91 1490.25 L2260.39 1490.25 L2260.39 1493.24 L2257.91 1493.24 L2257.91 1490.25 Z\" fill=\"#000000\" fill-rule=\"evenodd\" fill-opacity=\"1\" /><path clip-path=\"url(#clip030)\" d=\"M2270.64 1477.25 Q2268.81 1477.25 2267.88 1479.06 Q2266.96 1480.86 2266.96 1484.48 Q2266.96 1488.09 2267.88 1489.9 Q2268.81 1491.7 2270.64 1491.7 Q2272.48 1491.7 2273.4 1489.9 Q2274.33 1488.09 2274.33 1484.48 Q2274.33 1480.86 2273.4 1479.06 Q2272.48 1477.25 2270.64 1477.25 M2270.64 1475.37 Q2273.59 1475.37 2275.14 1477.71 Q2276.7 1480.04 2276.7 1484.48 Q2276.7 1488.91 2275.14 1491.25 Q2273.59 1493.58 2270.64 1493.58 Q2267.69 1493.58 2266.13 1491.25 Q2264.57 1488.91 2264.57 1484.48 Q2264.57 1480.04 2266.13 1477.71 Q2267.69 1475.37 2270.64 1475.37 Z\" fill=\"#000000\" fill-rule=\"evenodd\" fill-opacity=\"1\" /><path clip-path=\"url(#clip030)\" d=\"M2285.96 1477.25 Q2284.12 1477.25 2283.19 1479.06 Q2282.28 1480.86 2282.28 1484.48 Q2282.28 1488.09 2283.19 1489.9 Q2284.12 1491.7 2285.96 1491.7 Q2287.8 1491.7 2288.72 1489.9 Q2289.65 1488.09 2289.65 1484.48 Q2289.65 1480.86 2288.72 1479.06 Q2287.8 1477.25 2285.96 1477.25 M2285.96 1475.37 Q2288.91 1475.37 2290.46 1477.71 Q2292.02 1480.04 2292.02 1484.48 Q2292.02 1488.91 2290.46 1491.25 Q2288.91 1493.58 2285.96 1493.58 Q2283.01 1493.58 2281.44 1491.25 Q2279.89 1488.91 2279.89 1484.48 Q2279.89 1480.04 2281.44 1477.71 Q2283.01 1475.37 2285.96 1475.37 Z\" fill=\"#000000\" fill-rule=\"evenodd\" fill-opacity=\"1\" /><path clip-path=\"url(#clip030)\" d=\"M2301.27 1477.25 Q2299.44 1477.25 2298.51 1479.06 Q2297.59 1480.86 2297.59 1484.48 Q2297.59 1488.09 2298.51 1489.9 Q2299.44 1491.7 2301.27 1491.7 Q2303.12 1491.7 2304.04 1489.9 Q2304.96 1488.09 2304.96 1484.48 Q2304.96 1480.86 2304.04 1479.06 Q2303.12 1477.25 2301.27 1477.25 M2301.27 1475.37 Q2304.22 1475.37 2305.77 1477.71 Q2307.34 1480.04 2307.34 1484.48 Q2307.34 1488.91 2305.77 1491.25 Q2304.22 1493.58 2301.27 1493.58 Q2298.32 1493.58 2296.76 1491.25 Q2295.21 1488.91 2295.21 1484.48 Q2295.21 1480.04 2296.76 1477.71 Q2298.32 1475.37 2301.27 1475.37 Z\" fill=\"#000000\" fill-rule=\"evenodd\" fill-opacity=\"1\" /><path clip-path=\"url(#clip030)\" d=\"M2316.59 1477.25 Q2314.76 1477.25 2313.83 1479.06 Q2312.91 1480.86 2312.91 1484.48 Q2312.91 1488.09 2313.83 1489.9 Q2314.76 1491.7 2316.59 1491.7 Q2318.43 1491.7 2319.35 1489.9 Q2320.28 1488.09 2320.28 1484.48 Q2320.28 1480.86 2319.35 1479.06 Q2318.43 1477.25 2316.59 1477.25 M2316.59 1475.37 Q2319.54 1475.37 2321.09 1477.71 Q2322.65 1480.04 2322.65 1484.48 Q2322.65 1488.91 2321.09 1491.25 Q2319.54 1493.58 2316.59 1493.58 Q2313.64 1493.58 2312.08 1491.25 Q2310.52 1488.91 2310.52 1484.48 Q2310.52 1480.04 2312.08 1477.71 Q2313.64 1475.37 2316.59 1475.37 Z\" fill=\"#000000\" fill-rule=\"evenodd\" fill-opacity=\"1\" /><path clip-path=\"url(#clip030)\" d=\"M2331.91 1477.25 Q2330.07 1477.25 2329.14 1479.06 Q2328.23 1480.86 2328.23 1484.48 Q2328.23 1488.09 2329.14 1489.9 Q2330.07 1491.7 2331.91 1491.7 Q2333.75 1491.7 2334.67 1489.9 Q2335.6 1488.09 2335.6 1484.48 Q2335.6 1480.86 2334.67 1479.06 Q2333.75 1477.25 2331.91 1477.25 M2331.91 1475.37 Q2334.86 1475.37 2336.41 1477.71 Q2337.97 1480.04 2337.97 1484.48 Q2337.97 1488.91 2336.41 1491.25 Q2334.86 1493.58 2331.91 1493.58 Q2328.96 1493.58 2327.39 1491.25 Q2325.84 1488.91 2325.84 1484.48 Q2325.84 1480.04 2327.39 1477.71 Q2328.96 1475.37 2331.91 1475.37 Z\" fill=\"#000000\" fill-rule=\"evenodd\" fill-opacity=\"1\" /><path clip-path=\"url(#clip030)\" d=\"M2347.22 1477.25 Q2345.39 1477.25 2344.46 1479.06 Q2343.54 1480.86 2343.54 1484.48 Q2343.54 1488.09 2344.46 1489.9 Q2345.39 1491.7 2347.22 1491.7 Q2349.07 1491.7 2349.98 1489.9 Q2350.91 1488.09 2350.91 1484.48 Q2350.91 1480.86 2349.98 1479.06 Q2349.07 1477.25 2347.22 1477.25 M2347.22 1475.37 Q2350.17 1475.37 2351.72 1477.71 Q2353.29 1480.04 2353.29 1484.48 Q2353.29 1488.91 2351.72 1491.25 Q2350.17 1493.58 2347.22 1493.58 Q2344.27 1493.58 2342.71 1491.25 Q2341.16 1488.91 2341.16 1484.48 Q2341.16 1480.04 2342.71 1477.71 Q2344.27 1475.37 2347.22 1475.37 Z\" fill=\"#000000\" fill-rule=\"evenodd\" fill-opacity=\"1\" /><path clip-path=\"url(#clip030)\" d=\"M2362.54 1477.25 Q2360.71 1477.25 2359.78 1479.06 Q2358.86 1480.86 2358.86 1484.48 Q2358.86 1488.09 2359.78 1489.9 Q2360.71 1491.7 2362.54 1491.7 Q2364.38 1491.7 2365.3 1489.9 Q2366.23 1488.09 2366.23 1484.48 Q2366.23 1480.86 2365.3 1479.06 Q2364.38 1477.25 2362.54 1477.25 M2362.54 1475.37 Q2365.49 1475.37 2367.04 1477.71 Q2368.6 1480.04 2368.6 1484.48 Q2368.6 1488.91 2367.04 1491.25 Q2365.49 1493.58 2362.54 1493.58 Q2359.59 1493.58 2358.03 1491.25 Q2356.47 1488.91 2356.47 1484.48 Q2356.47 1480.04 2358.03 1477.71 Q2359.59 1475.37 2362.54 1475.37 Z\" fill=\"#000000\" fill-rule=\"evenodd\" fill-opacity=\"1\" /><path clip-path=\"url(#clip030)\" d=\"M1227.21 1539.33 L1227.21 1542.18 Q1225.55 1541.38 1224.07 1540.99 Q1222.6 1540.6 1221.22 1540.6 Q1218.84 1540.6 1217.53 1541.53 Q1216.25 1542.45 1216.25 1544.16 Q1216.25 1545.59 1217.1 1546.33 Q1217.97 1547.05 1220.37 1547.5 L1222.13 1547.86 Q1225.4 1548.49 1226.95 1550.06 Q1228.51 1551.62 1228.51 1554.26 Q1228.51 1557.4 1226.4 1559.02 Q1224.3 1560.64 1220.24 1560.64 Q1218.71 1560.64 1216.97 1560.29 Q1215.25 1559.94 1213.4 1559.26 L1213.4 1556.25 Q1215.18 1557.25 1216.88 1557.76 Q1218.59 1558.27 1220.24 1558.27 Q1222.74 1558.27 1224.1 1557.28 Q1225.46 1556.3 1225.46 1554.47 Q1225.46 1552.88 1224.48 1551.99 Q1223.51 1551.09 1221.28 1550.64 L1219.5 1550.29 Q1216.23 1549.64 1214.77 1548.25 Q1213.31 1546.86 1213.31 1544.39 Q1213.31 1541.53 1215.32 1539.88 Q1217.35 1538.23 1220.89 1538.23 Q1222.41 1538.23 1223.99 1538.5 Q1225.56 1538.78 1227.21 1539.33 Z\" fill=\"#000000\" fill-rule=\"evenodd\" fill-opacity=\"1\" /><path clip-path=\"url(#clip030)\" d=\"M1232.96 1537.71 L1235.62 1537.71 L1235.62 1560.22 L1232.96 1560.22 L1232.96 1537.71 Z\" fill=\"#000000\" fill-rule=\"evenodd\" fill-opacity=\"1\" /><path clip-path=\"url(#clip030)\" d=\"M1241.19 1544.01 L1243.85 1544.01 L1243.85 1560.22 L1241.19 1560.22 L1241.19 1544.01 M1241.19 1537.71 L1243.85 1537.71 L1243.85 1541.08 L1241.19 1541.08 L1241.19 1537.71 Z\" fill=\"#000000\" fill-rule=\"evenodd\" fill-opacity=\"1\" /><path clip-path=\"url(#clip030)\" d=\"M1261.08 1544.64 L1261.08 1547.13 Q1259.95 1546.5 1258.81 1546.2 Q1257.68 1545.88 1256.52 1545.88 Q1253.93 1545.88 1252.5 1547.53 Q1251.07 1549.17 1251.07 1552.13 Q1251.07 1555.1 1252.5 1556.75 Q1253.93 1558.38 1256.52 1558.38 Q1257.68 1558.38 1258.81 1558.08 Q1259.95 1557.76 1261.08 1557.14 L1261.08 1559.6 Q1259.97 1560.12 1258.77 1560.38 Q1257.58 1560.64 1256.23 1560.64 Q1252.57 1560.64 1250.42 1558.34 Q1248.26 1556.04 1248.26 1552.13 Q1248.26 1548.17 1250.43 1545.9 Q1252.62 1543.62 1256.41 1543.62 Q1257.64 1543.62 1258.81 1543.88 Q1259.98 1544.13 1261.08 1544.64 Z\" fill=\"#000000\" fill-rule=\"evenodd\" fill-opacity=\"1\" /><path clip-path=\"url(#clip030)\" d=\"M1279.57 1551.45 L1279.57 1552.75 L1267.33 1552.75 Q1267.5 1555.5 1268.98 1556.95 Q1270.47 1558.38 1273.12 1558.38 Q1274.65 1558.38 1276.08 1558 Q1277.53 1557.63 1278.95 1556.88 L1278.95 1559.39 Q1277.52 1560 1276.01 1560.32 Q1274.51 1560.64 1272.96 1560.64 Q1269.08 1560.64 1266.81 1558.38 Q1264.55 1556.12 1264.55 1552.28 Q1264.55 1548.3 1266.69 1545.97 Q1268.85 1543.62 1272.5 1543.62 Q1275.77 1543.62 1277.66 1545.74 Q1279.57 1547.83 1279.57 1551.45 M1276.91 1550.67 Q1276.88 1548.49 1275.68 1547.18 Q1274.49 1545.88 1272.52 1545.88 Q1270.3 1545.88 1268.95 1547.14 Q1267.62 1548.4 1267.42 1550.68 L1276.91 1550.67 Z\" fill=\"#000000\" fill-rule=\"evenodd\" fill-opacity=\"1\" /><path clip-path=\"url(#clip030)\" d=\"M1294.27 1544.49 L1294.27 1547.01 Q1293.14 1546.43 1291.93 1546.14 Q1290.71 1545.85 1289.41 1545.85 Q1287.43 1545.85 1286.43 1546.46 Q1285.44 1547.07 1285.44 1548.28 Q1285.44 1549.21 1286.15 1549.74 Q1286.86 1550.26 1289 1550.74 L1289.91 1550.94 Q1292.75 1551.55 1293.94 1552.67 Q1295.14 1553.77 1295.14 1555.75 Q1295.14 1558 1293.34 1559.32 Q1291.56 1560.64 1288.44 1560.64 Q1287.14 1560.64 1285.72 1560.38 Q1284.32 1560.13 1282.75 1559.63 L1282.75 1556.88 Q1284.23 1557.64 1285.66 1558.03 Q1287.09 1558.41 1288.5 1558.41 Q1290.38 1558.41 1291.39 1557.77 Q1292.4 1557.12 1292.4 1555.95 Q1292.4 1554.87 1291.67 1554.29 Q1290.94 1553.71 1288.47 1553.17 L1287.54 1552.96 Q1285.07 1552.43 1283.97 1551.36 Q1282.87 1550.28 1282.87 1548.4 Q1282.87 1546.11 1284.49 1544.87 Q1286.11 1543.62 1289.09 1543.62 Q1290.57 1543.62 1291.87 1543.84 Q1293.17 1544.06 1294.27 1544.49 Z\" fill=\"#000000\" fill-rule=\"evenodd\" fill-opacity=\"1\" /><path clip-path=\"url(#clip030)\" d=\"M1308.91 1538.62 L1322.57 1538.62 L1322.57 1541.08 L1311.83 1541.08 L1311.83 1547.47 L1322.12 1547.47 L1322.12 1549.93 L1311.83 1549.93 L1311.83 1557.76 L1322.83 1557.76 L1322.83 1560.22 L1308.91 1560.22 L1308.91 1538.62 Z\" fill=\"#000000\" fill-rule=\"evenodd\" fill-opacity=\"1\" /><path clip-path=\"url(#clip030)\" d=\"M1334.88 1552.07 Q1331.65 1552.07 1330.41 1552.81 Q1329.17 1553.55 1329.17 1555.33 Q1329.17 1556.75 1330.09 1557.59 Q1331.03 1558.41 1332.64 1558.41 Q1334.85 1558.41 1336.18 1556.85 Q1337.53 1555.27 1337.53 1552.67 L1337.53 1552.07 L1334.88 1552.07 M1340.19 1550.97 L1340.19 1560.22 L1337.53 1560.22 L1337.53 1557.76 Q1336.62 1559.23 1335.26 1559.94 Q1333.9 1560.64 1331.93 1560.64 Q1329.44 1560.64 1327.96 1559.25 Q1326.5 1557.85 1326.5 1555.5 Q1326.5 1552.77 1328.33 1551.38 Q1330.16 1549.99 1333.79 1549.99 L1337.53 1549.99 L1337.53 1549.73 Q1337.53 1547.89 1336.31 1546.89 Q1335.11 1545.88 1332.93 1545.88 Q1331.54 1545.88 1330.22 1546.21 Q1328.9 1546.55 1327.69 1547.21 L1327.69 1544.75 Q1329.15 1544.19 1330.53 1543.91 Q1331.9 1543.62 1333.2 1543.62 Q1336.72 1543.62 1338.45 1545.45 Q1340.19 1547.27 1340.19 1550.97 Z\" fill=\"#000000\" fill-rule=\"evenodd\" fill-opacity=\"1\" /><path clip-path=\"url(#clip030)\" d=\"M1348.31 1539.41 L1348.31 1544.01 L1353.79 1544.01 L1353.79 1546.08 L1348.31 1546.08 L1348.31 1554.88 Q1348.31 1556.86 1348.84 1557.43 Q1349.39 1557.99 1351.05 1557.99 L1353.79 1557.99 L1353.79 1560.22 L1351.05 1560.22 Q1347.97 1560.22 1346.8 1559.08 Q1345.63 1557.92 1345.63 1554.88 L1345.63 1546.08 L1343.68 1546.08 L1343.68 1544.01 L1345.63 1544.01 L1345.63 1539.41 L1348.31 1539.41 Z\" fill=\"#000000\" fill-rule=\"evenodd\" fill-opacity=\"1\" /><path clip-path=\"url(#clip030)\" d=\"M1371.15 1551.45 L1371.15 1552.75 L1358.91 1552.75 Q1359.08 1555.5 1360.56 1556.95 Q1362.05 1558.38 1364.7 1558.38 Q1366.23 1558.38 1367.66 1558 Q1369.11 1557.63 1370.53 1556.88 L1370.53 1559.39 Q1369.1 1560 1367.59 1560.32 Q1366.09 1560.64 1364.54 1560.64 Q1360.66 1560.64 1358.39 1558.38 Q1356.13 1556.12 1356.13 1552.28 Q1356.13 1548.3 1358.27 1545.97 Q1360.43 1543.62 1364.08 1543.62 Q1367.35 1543.62 1369.24 1545.74 Q1371.15 1547.83 1371.15 1551.45 M1368.49 1550.67 Q1368.46 1548.49 1367.26 1547.18 Q1366.07 1545.88 1364.1 1545.88 Q1361.88 1545.88 1360.53 1547.14 Q1359.2 1548.4 1359 1550.68 L1368.49 1550.67 Z\" fill=\"#000000\" fill-rule=\"evenodd\" fill-opacity=\"1\" /><path clip-path=\"url(#clip030)\" d=\"M1388.99 1550.44 L1388.99 1560.22 L1386.33 1560.22 L1386.33 1550.53 Q1386.33 1548.22 1385.43 1547.08 Q1384.53 1545.94 1382.74 1545.94 Q1380.58 1545.94 1379.34 1547.31 Q1378.09 1548.69 1378.09 1551.06 L1378.09 1560.22 L1375.42 1560.22 L1375.42 1544.01 L1378.09 1544.01 L1378.09 1546.53 Q1379.05 1545.07 1380.34 1544.35 Q1381.64 1543.62 1383.33 1543.62 Q1386.12 1543.62 1387.56 1545.36 Q1388.99 1547.08 1388.99 1550.44 Z\" fill=\"#000000\" fill-rule=\"evenodd\" fill-opacity=\"1\" /><polyline clip-path=\"url(#clip032)\" style=\"stroke:#000000; stroke-linecap:round; stroke-linejoin:round; stroke-width:2; stroke-opacity:0.1; fill:none\" points=\"\n",
       "  249.542,1268.18 2352.76,1268.18 \n",
       "  \"/>\n",
       "<polyline clip-path=\"url(#clip032)\" style=\"stroke:#000000; stroke-linecap:round; stroke-linejoin:round; stroke-width:2; stroke-opacity:0.1; fill:none\" points=\"\n",
       "  249.542,1007.99 2352.76,1007.99 \n",
       "  \"/>\n",
       "<polyline clip-path=\"url(#clip032)\" style=\"stroke:#000000; stroke-linecap:round; stroke-linejoin:round; stroke-width:2; stroke-opacity:0.1; fill:none\" points=\"\n",
       "  249.542,747.788 2352.76,747.788 \n",
       "  \"/>\n",
       "<polyline clip-path=\"url(#clip032)\" style=\"stroke:#000000; stroke-linecap:round; stroke-linejoin:round; stroke-width:2; stroke-opacity:0.1; fill:none\" points=\"\n",
       "  249.542,487.59 2352.76,487.59 \n",
       "  \"/>\n",
       "<polyline clip-path=\"url(#clip032)\" style=\"stroke:#000000; stroke-linecap:round; stroke-linejoin:round; stroke-width:2; stroke-opacity:0.1; fill:none\" points=\"\n",
       "  249.542,227.393 2352.76,227.393 \n",
       "  \"/>\n",
       "<polyline clip-path=\"url(#clip030)\" style=\"stroke:#000000; stroke-linecap:round; stroke-linejoin:round; stroke-width:4; stroke-opacity:1; fill:none\" points=\"\n",
       "  249.542,1454.38 249.542,123.472 \n",
       "  \"/>\n",
       "<polyline clip-path=\"url(#clip030)\" style=\"stroke:#000000; stroke-linecap:round; stroke-linejoin:round; stroke-width:4; stroke-opacity:1; fill:none\" points=\"\n",
       "  249.542,1268.18 268.44,1268.18 \n",
       "  \"/>\n",
       "<polyline clip-path=\"url(#clip030)\" style=\"stroke:#000000; stroke-linecap:round; stroke-linejoin:round; stroke-width:4; stroke-opacity:1; fill:none\" points=\"\n",
       "  249.542,1007.99 268.44,1007.99 \n",
       "  \"/>\n",
       "<polyline clip-path=\"url(#clip030)\" style=\"stroke:#000000; stroke-linecap:round; stroke-linejoin:round; stroke-width:4; stroke-opacity:1; fill:none\" points=\"\n",
       "  249.542,747.788 268.44,747.788 \n",
       "  \"/>\n",
       "<polyline clip-path=\"url(#clip030)\" style=\"stroke:#000000; stroke-linecap:round; stroke-linejoin:round; stroke-width:4; stroke-opacity:1; fill:none\" points=\"\n",
       "  249.542,487.59 268.44,487.59 \n",
       "  \"/>\n",
       "<polyline clip-path=\"url(#clip030)\" style=\"stroke:#000000; stroke-linecap:round; stroke-linejoin:round; stroke-width:4; stroke-opacity:1; fill:none\" points=\"\n",
       "  249.542,227.393 268.44,227.393 \n",
       "  \"/>\n",
       "<path clip-path=\"url(#clip030)\" d=\"M126.205 1253.98 Q122.593 1253.98 120.765 1257.55 Q118.959 1261.09 118.959 1268.22 Q118.959 1275.32 120.765 1278.89 Q122.593 1282.43 126.205 1282.43 Q129.839 1282.43 131.644 1278.89 Q133.473 1275.32 133.473 1268.22 Q133.473 1261.09 131.644 1257.55 Q129.839 1253.98 126.205 1253.98 M126.205 1250.28 Q132.015 1250.28 135.07 1254.88 Q138.149 1259.47 138.149 1268.22 Q138.149 1276.94 135.07 1281.55 Q132.015 1286.13 126.205 1286.13 Q120.394 1286.13 117.316 1281.55 Q114.26 1276.94 114.26 1268.22 Q114.26 1259.47 117.316 1254.88 Q120.394 1250.28 126.205 1250.28 Z\" fill=\"#000000\" fill-rule=\"evenodd\" fill-opacity=\"1\" /><path clip-path=\"url(#clip030)\" d=\"M146.366 1279.58 L151.251 1279.58 L151.251 1285.46 L146.366 1285.46 L146.366 1279.58 Z\" fill=\"#000000\" fill-rule=\"evenodd\" fill-opacity=\"1\" /><path clip-path=\"url(#clip030)\" d=\"M171.436 1253.98 Q167.825 1253.98 165.996 1257.55 Q164.19 1261.09 164.19 1268.22 Q164.19 1275.32 165.996 1278.89 Q167.825 1282.43 171.436 1282.43 Q175.07 1282.43 176.876 1278.89 Q178.704 1275.32 178.704 1268.22 Q178.704 1261.09 176.876 1257.55 Q175.07 1253.98 171.436 1253.98 M171.436 1250.28 Q177.246 1250.28 180.301 1254.88 Q183.38 1259.47 183.38 1268.22 Q183.38 1276.94 180.301 1281.55 Q177.246 1286.13 171.436 1286.13 Q165.626 1286.13 162.547 1281.55 Q159.491 1276.94 159.491 1268.22 Q159.491 1259.47 162.547 1254.88 Q165.626 1250.28 171.436 1250.28 Z\" fill=\"#000000\" fill-rule=\"evenodd\" fill-opacity=\"1\" /><path clip-path=\"url(#clip030)\" d=\"M201.598 1253.98 Q197.987 1253.98 196.158 1257.55 Q194.352 1261.09 194.352 1268.22 Q194.352 1275.32 196.158 1278.89 Q197.987 1282.43 201.598 1282.43 Q205.232 1282.43 207.037 1278.89 Q208.866 1275.32 208.866 1268.22 Q208.866 1261.09 207.037 1257.55 Q205.232 1253.98 201.598 1253.98 M201.598 1250.28 Q207.408 1250.28 210.463 1254.88 Q213.542 1259.47 213.542 1268.22 Q213.542 1276.94 210.463 1281.55 Q207.408 1286.13 201.598 1286.13 Q195.787 1286.13 192.709 1281.55 Q189.653 1276.94 189.653 1268.22 Q189.653 1259.47 192.709 1254.88 Q195.787 1250.28 201.598 1250.28 Z\" fill=\"#000000\" fill-rule=\"evenodd\" fill-opacity=\"1\" /><path clip-path=\"url(#clip030)\" d=\"M127.2 993.784 Q123.589 993.784 121.76 997.349 Q119.955 1000.89 119.955 1008.02 Q119.955 1015.13 121.76 1018.69 Q123.589 1022.23 127.2 1022.23 Q130.834 1022.23 132.64 1018.69 Q134.468 1015.13 134.468 1008.02 Q134.468 1000.89 132.64 997.349 Q130.834 993.784 127.2 993.784 M127.2 990.08 Q133.01 990.08 136.066 994.687 Q139.144 999.27 139.144 1008.02 Q139.144 1016.75 136.066 1021.35 Q133.01 1025.94 127.2 1025.94 Q121.39 1025.94 118.311 1021.35 Q115.256 1016.75 115.256 1008.02 Q115.256 999.27 118.311 994.687 Q121.39 990.08 127.2 990.08 Z\" fill=\"#000000\" fill-rule=\"evenodd\" fill-opacity=\"1\" /><path clip-path=\"url(#clip030)\" d=\"M147.362 1019.39 L152.246 1019.39 L152.246 1025.27 L147.362 1025.27 L147.362 1019.39 Z\" fill=\"#000000\" fill-rule=\"evenodd\" fill-opacity=\"1\" /><path clip-path=\"url(#clip030)\" d=\"M166.459 1021.33 L182.778 1021.33 L182.778 1025.27 L160.834 1025.27 L160.834 1021.33 Q163.496 1018.58 168.079 1013.95 Q172.686 1009.29 173.866 1007.95 Q176.112 1005.43 176.991 1003.69 Q177.894 1001.93 177.894 1000.24 Q177.894 997.488 175.95 995.751 Q174.028 994.015 170.927 994.015 Q168.727 994.015 166.274 994.779 Q163.843 995.543 161.065 997.094 L161.065 992.372 Q163.89 991.238 166.343 990.659 Q168.797 990.08 170.834 990.08 Q176.204 990.08 179.399 992.765 Q182.593 995.451 182.593 999.941 Q182.593 1002.07 181.783 1003.99 Q180.996 1005.89 178.889 1008.48 Q178.311 1009.15 175.209 1012.37 Q172.107 1015.57 166.459 1021.33 Z\" fill=\"#000000\" fill-rule=\"evenodd\" fill-opacity=\"1\" /><path clip-path=\"url(#clip030)\" d=\"M192.639 990.705 L210.996 990.705 L210.996 994.64 L196.922 994.64 L196.922 1003.11 Q197.94 1002.77 198.959 1002.6 Q199.977 1002.42 200.996 1002.42 Q206.783 1002.42 210.162 1005.59 Q213.542 1008.76 213.542 1014.18 Q213.542 1019.76 210.07 1022.86 Q206.598 1025.94 200.278 1025.94 Q198.102 1025.94 195.834 1025.57 Q193.588 1025.2 191.181 1024.45 L191.181 1019.76 Q193.264 1020.89 195.487 1021.45 Q197.709 1022 200.186 1022 Q204.19 1022 206.528 1019.89 Q208.866 1017.79 208.866 1014.18 Q208.866 1010.57 206.528 1008.46 Q204.19 1006.35 200.186 1006.35 Q198.311 1006.35 196.436 1006.77 Q194.584 1007.19 192.639 1008.07 L192.639 990.705 Z\" fill=\"#000000\" fill-rule=\"evenodd\" fill-opacity=\"1\" /><path clip-path=\"url(#clip030)\" d=\"M126.205 733.586 Q122.593 733.586 120.765 737.151 Q118.959 740.693 118.959 747.822 Q118.959 754.929 120.765 758.494 Q122.593 762.035 126.205 762.035 Q129.839 762.035 131.644 758.494 Q133.473 754.929 133.473 747.822 Q133.473 740.693 131.644 737.151 Q129.839 733.586 126.205 733.586 M126.205 729.883 Q132.015 729.883 135.07 734.489 Q138.149 739.073 138.149 747.822 Q138.149 756.549 135.07 761.156 Q132.015 765.739 126.205 765.739 Q120.394 765.739 117.316 761.156 Q114.26 756.549 114.26 747.822 Q114.26 739.073 117.316 734.489 Q120.394 729.883 126.205 729.883 Z\" fill=\"#000000\" fill-rule=\"evenodd\" fill-opacity=\"1\" /><path clip-path=\"url(#clip030)\" d=\"M146.366 759.188 L151.251 759.188 L151.251 765.068 L146.366 765.068 L146.366 759.188 Z\" fill=\"#000000\" fill-rule=\"evenodd\" fill-opacity=\"1\" /><path clip-path=\"url(#clip030)\" d=\"M161.482 730.508 L179.839 730.508 L179.839 734.443 L165.765 734.443 L165.765 742.915 Q166.783 742.568 167.802 742.406 Q168.82 742.221 169.839 742.221 Q175.626 742.221 179.005 745.392 Q182.385 748.563 182.385 753.98 Q182.385 759.559 178.913 762.66 Q175.44 765.739 169.121 765.739 Q166.945 765.739 164.677 765.369 Q162.431 764.998 160.024 764.258 L160.024 759.559 Q162.107 760.693 164.329 761.248 Q166.552 761.804 169.028 761.804 Q173.033 761.804 175.371 759.697 Q177.709 757.591 177.709 753.98 Q177.709 750.369 175.371 748.262 Q173.033 746.156 169.028 746.156 Q167.153 746.156 165.278 746.572 Q163.427 746.989 161.482 747.869 L161.482 730.508 Z\" fill=\"#000000\" fill-rule=\"evenodd\" fill-opacity=\"1\" /><path clip-path=\"url(#clip030)\" d=\"M201.598 733.586 Q197.987 733.586 196.158 737.151 Q194.352 740.693 194.352 747.822 Q194.352 754.929 196.158 758.494 Q197.987 762.035 201.598 762.035 Q205.232 762.035 207.037 758.494 Q208.866 754.929 208.866 747.822 Q208.866 740.693 207.037 737.151 Q205.232 733.586 201.598 733.586 M201.598 729.883 Q207.408 729.883 210.463 734.489 Q213.542 739.073 213.542 747.822 Q213.542 756.549 210.463 761.156 Q207.408 765.739 201.598 765.739 Q195.787 765.739 192.709 761.156 Q189.653 756.549 189.653 747.822 Q189.653 739.073 192.709 734.489 Q195.787 729.883 201.598 729.883 Z\" fill=\"#000000\" fill-rule=\"evenodd\" fill-opacity=\"1\" /><path clip-path=\"url(#clip030)\" d=\"M127.2 473.389 Q123.589 473.389 121.76 476.954 Q119.955 480.496 119.955 487.625 Q119.955 494.732 121.76 498.296 Q123.589 501.838 127.2 501.838 Q130.834 501.838 132.64 498.296 Q134.468 494.732 134.468 487.625 Q134.468 480.496 132.64 476.954 Q130.834 473.389 127.2 473.389 M127.2 469.685 Q133.01 469.685 136.066 474.292 Q139.144 478.875 139.144 487.625 Q139.144 496.352 136.066 500.958 Q133.01 505.542 127.2 505.542 Q121.39 505.542 118.311 500.958 Q115.256 496.352 115.256 487.625 Q115.256 478.875 118.311 474.292 Q121.39 469.685 127.2 469.685 Z\" fill=\"#000000\" fill-rule=\"evenodd\" fill-opacity=\"1\" /><path clip-path=\"url(#clip030)\" d=\"M147.362 498.991 L152.246 498.991 L152.246 504.87 L147.362 504.87 L147.362 498.991 Z\" fill=\"#000000\" fill-rule=\"evenodd\" fill-opacity=\"1\" /><path clip-path=\"url(#clip030)\" d=\"M161.251 470.31 L183.473 470.31 L183.473 472.301 L170.927 504.87 L166.042 504.87 L177.848 474.246 L161.251 474.246 L161.251 470.31 Z\" fill=\"#000000\" fill-rule=\"evenodd\" fill-opacity=\"1\" /><path clip-path=\"url(#clip030)\" d=\"M192.639 470.31 L210.996 470.31 L210.996 474.246 L196.922 474.246 L196.922 482.718 Q197.94 482.37 198.959 482.208 Q199.977 482.023 200.996 482.023 Q206.783 482.023 210.162 485.195 Q213.542 488.366 213.542 493.782 Q213.542 499.361 210.07 502.463 Q206.598 505.542 200.278 505.542 Q198.102 505.542 195.834 505.171 Q193.588 504.801 191.181 504.06 L191.181 499.361 Q193.264 500.495 195.487 501.051 Q197.709 501.607 200.186 501.607 Q204.19 501.607 206.528 499.5 Q208.866 497.394 208.866 493.782 Q208.866 490.171 206.528 488.065 Q204.19 485.958 200.186 485.958 Q198.311 485.958 196.436 486.375 Q194.584 486.792 192.639 487.671 L192.639 470.31 Z\" fill=\"#000000\" fill-rule=\"evenodd\" fill-opacity=\"1\" /><path clip-path=\"url(#clip030)\" d=\"M117.015 240.738 L124.654 240.738 L124.654 214.372 L116.343 216.039 L116.343 211.78 L124.607 210.113 L129.283 210.113 L129.283 240.738 L136.922 240.738 L136.922 244.673 L117.015 244.673 L117.015 240.738 Z\" fill=\"#000000\" fill-rule=\"evenodd\" fill-opacity=\"1\" /><path clip-path=\"url(#clip030)\" d=\"M146.366 238.793 L151.251 238.793 L151.251 244.673 L146.366 244.673 L146.366 238.793 Z\" fill=\"#000000\" fill-rule=\"evenodd\" fill-opacity=\"1\" /><path clip-path=\"url(#clip030)\" d=\"M171.436 213.192 Q167.825 213.192 165.996 216.756 Q164.19 220.298 164.19 227.428 Q164.19 234.534 165.996 238.099 Q167.825 241.641 171.436 241.641 Q175.07 241.641 176.876 238.099 Q178.704 234.534 178.704 227.428 Q178.704 220.298 176.876 216.756 Q175.07 213.192 171.436 213.192 M171.436 209.488 Q177.246 209.488 180.301 214.094 Q183.38 218.678 183.38 227.428 Q183.38 236.155 180.301 240.761 Q177.246 245.344 171.436 245.344 Q165.626 245.344 162.547 240.761 Q159.491 236.155 159.491 227.428 Q159.491 218.678 162.547 214.094 Q165.626 209.488 171.436 209.488 Z\" fill=\"#000000\" fill-rule=\"evenodd\" fill-opacity=\"1\" /><path clip-path=\"url(#clip030)\" d=\"M201.598 213.192 Q197.987 213.192 196.158 216.756 Q194.352 220.298 194.352 227.428 Q194.352 234.534 196.158 238.099 Q197.987 241.641 201.598 241.641 Q205.232 241.641 207.037 238.099 Q208.866 234.534 208.866 227.428 Q208.866 220.298 207.037 216.756 Q205.232 213.192 201.598 213.192 M201.598 209.488 Q207.408 209.488 210.463 214.094 Q213.542 218.678 213.542 227.428 Q213.542 236.155 210.463 240.761 Q207.408 245.344 201.598 245.344 Q195.787 245.344 192.709 240.761 Q189.653 236.155 189.653 227.428 Q189.653 218.678 192.709 214.094 Q195.787 209.488 201.598 209.488 Z\" fill=\"#000000\" fill-rule=\"evenodd\" fill-opacity=\"1\" /><path clip-path=\"url(#clip030)\" d=\"M41.7242 869.852 Q42.4244 867.783 44.7161 865.841 Q47.0077 863.868 51.0181 861.894 L64.0042 855.37 L64.0042 862.276 L51.8138 868.356 Q47.0395 870.711 45.48 872.939 Q43.9204 875.135 43.9204 878.954 L43.9204 885.957 L64.0042 885.957 L64.0042 892.386 L16.4842 892.386 L16.4842 877.872 Q16.4842 869.724 19.8898 865.714 Q23.2955 861.703 30.1704 861.703 Q34.6582 861.703 37.6183 863.804 Q40.5784 865.873 41.7242 869.852 M21.7677 885.957 L38.6368 885.957 L38.6368 877.872 Q38.6368 873.225 36.5043 870.87 Q34.34 868.483 30.1704 868.483 Q26.0009 868.483 23.9002 870.87 Q21.7677 873.225 21.7677 877.872 L21.7677 885.957 Z\" fill=\"#000000\" fill-rule=\"evenodd\" fill-opacity=\"1\" /><path clip-path=\"url(#clip030)\" d=\"M44.7161 819.785 L47.5806 819.785 L47.5806 846.712 Q53.6281 846.33 56.8109 843.084 Q59.9619 839.805 59.9619 833.981 Q59.9619 830.607 59.1344 827.456 Q58.3069 824.273 56.6518 821.154 L62.1899 821.154 Q63.5267 824.305 64.227 827.615 Q64.9272 830.925 64.9272 834.331 Q64.9272 842.861 59.9619 847.858 Q54.9967 852.823 46.5303 852.823 Q37.7774 852.823 32.6531 848.113 Q27.4968 843.37 27.4968 835.349 Q27.4968 828.156 32.1438 823.987 Q36.7589 819.785 44.7161 819.785 M42.9973 825.642 Q38.1912 825.705 35.3266 828.347 Q32.4621 830.957 32.4621 835.286 Q32.4621 840.187 35.2312 843.147 Q38.0002 846.076 43.0292 846.521 L42.9973 825.642 Z\" fill=\"#000000\" fill-rule=\"evenodd\" fill-opacity=\"1\" /><path clip-path=\"url(#clip030)\" d=\"M45.7664 786.715 Q39.4007 786.715 35.8996 789.357 Q32.3984 791.967 32.3984 796.71 Q32.3984 801.42 35.8996 804.062 Q39.4007 806.672 45.7664 806.672 Q52.1003 806.672 55.6014 804.062 Q59.1026 801.42 59.1026 796.71 Q59.1026 791.967 55.6014 789.357 Q52.1003 786.715 45.7664 786.715 M59.58 780.859 Q68.683 780.859 73.1071 784.901 Q77.5631 788.943 77.5631 797.282 Q77.5631 800.37 77.0857 803.107 Q76.6401 805.844 75.6852 808.422 L69.9879 808.422 Q71.3884 805.844 72.0568 803.33 Q72.7252 800.815 72.7252 798.206 Q72.7252 792.445 69.7015 789.58 Q66.7096 786.715 60.6303 786.715 L57.7339 786.715 Q60.885 788.53 62.4446 791.362 Q64.0042 794.195 64.0042 798.142 Q64.0042 804.699 59.0071 808.709 Q54.01 812.719 45.7664 812.719 Q37.491 812.719 32.4939 808.709 Q27.4968 804.699 27.4968 798.142 Q27.4968 794.195 29.0564 791.362 Q30.616 788.53 33.7671 786.715 L28.3562 786.715 L28.3562 780.859 L59.58 780.859 Z\" fill=\"#000000\" fill-rule=\"evenodd\" fill-opacity=\"1\" /><path clip-path=\"url(#clip030)\" d=\"M33.8307 748.139 Q33.2578 749.126 33.0032 750.304 Q32.7167 751.449 32.7167 752.85 Q32.7167 757.815 35.9632 760.489 Q39.1779 763.13 45.2253 763.13 L64.0042 763.13 L64.0042 769.019 L28.3562 769.019 L28.3562 763.13 L33.8944 763.13 Q30.6479 761.284 29.0883 758.324 Q27.4968 755.364 27.4968 751.131 Q27.4968 750.526 27.5923 749.794 Q27.656 749.062 27.8151 748.171 L33.8307 748.139 Z\" fill=\"#000000\" fill-rule=\"evenodd\" fill-opacity=\"1\" /><path clip-path=\"url(#clip030)\" d=\"M44.7161 712.937 L47.5806 712.937 L47.5806 739.864 Q53.6281 739.482 56.8109 736.235 Q59.9619 732.957 59.9619 727.132 Q59.9619 723.759 59.1344 720.608 Q58.3069 717.425 56.6518 714.305 L62.1899 714.305 Q63.5267 717.457 64.227 720.767 Q64.9272 724.077 64.9272 727.483 Q64.9272 736.013 59.9619 741.01 Q54.9967 745.975 46.5303 745.975 Q37.7774 745.975 32.6531 741.264 Q27.4968 736.522 27.4968 728.501 Q27.4968 721.308 32.1438 717.138 Q36.7589 712.937 44.7161 712.937 M42.9973 718.793 Q38.1912 718.857 35.3266 721.499 Q32.4621 724.109 32.4621 728.437 Q32.4621 733.339 35.2312 736.299 Q38.0002 739.227 43.0292 739.673 L42.9973 718.793 Z\" fill=\"#000000\" fill-rule=\"evenodd\" fill-opacity=\"1\" /><path clip-path=\"url(#clip030)\" d=\"M18.2347 697.532 L28.3562 697.532 L28.3562 685.469 L32.9077 685.469 L32.9077 697.532 L52.2594 697.532 Q56.6199 697.532 57.8613 696.354 Q59.1026 695.145 59.1026 691.484 L59.1026 685.469 L64.0042 685.469 L64.0042 691.484 Q64.0042 698.264 61.4897 700.842 Q58.9434 703.42 52.2594 703.42 L32.9077 703.42 L32.9077 707.717 L28.3562 707.717 L28.3562 703.42 L18.2347 703.42 L18.2347 697.532 Z\" fill=\"#000000\" fill-rule=\"evenodd\" fill-opacity=\"1\" /><path clip-path=\"url(#clip030)\" d=\"M859.074 18.8205 L859.074 41.5461 L869.363 41.5461 Q875.075 41.5461 878.194 38.5889 Q881.313 35.6318 881.313 30.163 Q881.313 24.7348 878.194 21.7777 Q875.075 18.8205 869.363 18.8205 L859.074 18.8205 M850.891 12.096 L869.363 12.096 Q879.531 12.096 884.716 16.714 Q889.942 21.2916 889.942 30.163 Q889.942 39.1155 884.716 43.6931 Q879.531 48.2706 869.363 48.2706 L859.074 48.2706 L859.074 72.576 L850.891 72.576 L850.891 12.096 Z\" fill=\"#000000\" fill-rule=\"evenodd\" fill-opacity=\"1\" /><path clip-path=\"url(#clip030)\" d=\"M898.773 27.2059 L906.226 27.2059 L906.226 72.576 L898.773 72.576 L898.773 27.2059 M898.773 9.54393 L906.226 9.54393 L906.226 18.9825 L898.773 18.9825 L898.773 9.54393 Z\" fill=\"#000000\" fill-rule=\"evenodd\" fill-opacity=\"1\" /><path clip-path=\"url(#clip030)\" d=\"M918.582 27.2059 L953.986 27.2059 L953.986 34.0114 L925.954 66.6212 L953.986 66.6212 L953.986 72.576 L917.569 72.576 L917.569 65.7705 L945.601 33.1607 L918.582 33.1607 L918.582 27.2059 Z\" fill=\"#000000\" fill-rule=\"evenodd\" fill-opacity=\"1\" /><path clip-path=\"url(#clip030)\" d=\"M962.129 27.2059 L997.534 27.2059 L997.534 34.0114 L969.501 66.6212 L997.534 66.6212 L997.534 72.576 L961.116 72.576 L961.116 65.7705 L989.148 33.1607 L962.129 33.1607 L962.129 27.2059 Z\" fill=\"#000000\" fill-rule=\"evenodd\" fill-opacity=\"1\" /><path clip-path=\"url(#clip030)\" d=\"M1029.54 49.7694 Q1020.5 49.7694 1017.02 51.8354 Q1013.53 53.9013 1013.53 58.8839 Q1013.53 62.8538 1016.13 65.2034 Q1018.76 67.5124 1023.26 67.5124 Q1029.45 67.5124 1033.18 63.1374 Q1036.95 58.7219 1036.95 51.4303 L1036.95 49.7694 L1029.54 49.7694 M1044.4 46.6907 L1044.4 72.576 L1036.95 72.576 L1036.95 65.6895 Q1034.4 69.8214 1030.59 71.8063 Q1026.78 73.7508 1021.27 73.7508 Q1014.3 73.7508 1010.17 69.8619 Q1006.08 65.9325 1006.08 59.3701 Q1006.08 51.7138 1011.19 47.825 Q1016.33 43.9361 1026.5 43.9361 L1036.95 43.9361 L1036.95 43.2069 Q1036.95 38.0623 1033.55 35.2672 Q1030.18 32.4315 1024.07 32.4315 Q1020.18 32.4315 1016.49 33.3632 Q1012.81 34.295 1009.4 36.1584 L1009.4 29.2718 Q1013.49 27.692 1017.34 26.9223 Q1021.19 26.1121 1024.84 26.1121 Q1034.68 26.1121 1039.54 31.2163 Q1044.4 36.3204 1044.4 46.6907 Z\" fill=\"#000000\" fill-rule=\"evenodd\" fill-opacity=\"1\" /><path clip-path=\"url(#clip030)\" d=\"M1086.45 12.096 L1094.63 12.096 L1094.63 72.576 L1086.45 72.576 L1086.45 12.096 Z\" fill=\"#000000\" fill-rule=\"evenodd\" fill-opacity=\"1\" /><path clip-path=\"url(#clip030)\" d=\"M1148.31 45.1919 L1148.31 72.576 L1140.85 72.576 L1140.85 45.4349 Q1140.85 38.994 1138.34 35.7938 Q1135.83 32.5936 1130.81 32.5936 Q1124.77 32.5936 1121.29 36.4419 Q1117.81 40.2903 1117.81 46.9338 L1117.81 72.576 L1110.31 72.576 L1110.31 27.2059 L1117.81 27.2059 L1117.81 34.2544 Q1120.48 30.163 1124.08 28.1376 Q1127.73 26.1121 1132.47 26.1121 Q1140.29 26.1121 1144.3 30.9732 Q1148.31 35.7938 1148.31 45.1919 Z\" fill=\"#000000\" fill-rule=\"evenodd\" fill-opacity=\"1\" /><path clip-path=\"url(#clip030)\" d=\"M1170.55 14.324 L1170.55 27.2059 L1185.9 27.2059 L1185.9 32.9987 L1170.55 32.9987 L1170.55 57.6282 Q1170.55 63.1779 1172.05 64.7578 Q1173.59 66.3376 1178.24 66.3376 L1185.9 66.3376 L1185.9 72.576 L1178.24 72.576 Q1169.62 72.576 1166.33 69.3758 Q1163.05 66.1351 1163.05 57.6282 L1163.05 32.9987 L1157.58 32.9987 L1157.58 27.2059 L1163.05 27.2059 L1163.05 14.324 L1170.55 14.324 Z\" fill=\"#000000\" fill-rule=\"evenodd\" fill-opacity=\"1\" /><path clip-path=\"url(#clip030)\" d=\"M1216.32 49.7694 Q1207.29 49.7694 1203.81 51.8354 Q1200.32 53.9013 1200.32 58.8839 Q1200.32 62.8538 1202.91 65.2034 Q1205.55 67.5124 1210.04 67.5124 Q1216.24 67.5124 1219.97 63.1374 Q1223.74 58.7219 1223.74 51.4303 L1223.74 49.7694 L1216.32 49.7694 M1231.19 46.6907 L1231.19 72.576 L1223.74 72.576 L1223.74 65.6895 Q1221.18 69.8214 1217.38 71.8063 Q1213.57 73.7508 1208.06 73.7508 Q1201.09 73.7508 1196.96 69.8619 Q1192.87 65.9325 1192.87 59.3701 Q1192.87 51.7138 1197.97 47.825 Q1203.12 43.9361 1213.28 43.9361 L1223.74 43.9361 L1223.74 43.2069 Q1223.74 38.0623 1220.33 35.2672 Q1216.97 32.4315 1210.85 32.4315 Q1206.97 32.4315 1203.28 33.3632 Q1199.59 34.295 1196.19 36.1584 L1196.19 29.2718 Q1200.28 27.692 1204.13 26.9223 Q1207.98 26.1121 1211.62 26.1121 Q1221.47 26.1121 1226.33 31.2163 Q1231.19 36.3204 1231.19 46.6907 Z\" fill=\"#000000\" fill-rule=\"evenodd\" fill-opacity=\"1\" /><path clip-path=\"url(#clip030)\" d=\"M1246.26 9.54393 L1253.75 9.54393 L1253.75 46.7717 L1275.99 27.2059 L1285.51 27.2059 L1261.45 48.4326 L1286.53 72.576 L1276.8 72.576 L1253.75 50.4176 L1253.75 72.576 L1246.26 72.576 L1246.26 9.54393 Z\" fill=\"#000000\" fill-rule=\"evenodd\" fill-opacity=\"1\" /><path clip-path=\"url(#clip030)\" d=\"M1330.44 48.0275 L1330.44 51.6733 L1296.17 51.6733 Q1296.65 59.3701 1300.78 63.421 Q1304.96 67.4314 1312.37 67.4314 Q1316.66 67.4314 1320.67 66.3781 Q1324.73 65.3249 1328.7 63.2184 L1328.7 70.267 Q1324.68 71.9684 1320.47 72.8596 Q1316.26 73.7508 1311.92 73.7508 Q1301.07 73.7508 1294.71 67.4314 Q1288.39 61.1119 1288.39 50.3365 Q1288.39 39.1965 1294.38 32.6746 Q1300.42 26.1121 1310.63 26.1121 Q1319.78 26.1121 1325.09 32.0264 Q1330.44 37.9003 1330.44 48.0275 M1322.98 45.84 Q1322.9 39.7232 1319.54 36.0774 Q1316.22 32.4315 1310.71 32.4315 Q1304.47 32.4315 1300.7 35.9558 Q1296.98 39.4801 1296.41 45.8805 L1322.98 45.84 Z\" fill=\"#000000\" fill-rule=\"evenodd\" fill-opacity=\"1\" /><path clip-path=\"url(#clip030)\" d=\"M1363.69 27.2059 L1371.59 27.2059 L1385.77 65.2844 L1399.95 27.2059 L1407.85 27.2059 L1390.84 72.576 L1380.71 72.576 L1363.69 27.2059 Z\" fill=\"#000000\" fill-rule=\"evenodd\" fill-opacity=\"1\" /><path clip-path=\"url(#clip030)\" d=\"M1447.06 28.5427 L1447.06 35.5912 Q1443.9 33.9709 1440.5 33.1607 Q1437.1 32.3505 1433.45 32.3505 Q1427.9 32.3505 1425.11 34.0519 Q1422.35 35.7533 1422.35 39.156 Q1422.35 41.7486 1424.34 43.2475 Q1426.32 44.7058 1432.32 46.0426 L1434.87 46.6097 Q1442.81 48.3111 1446.13 51.4303 Q1449.49 54.509 1449.49 60.0587 Q1449.49 66.3781 1444.47 70.0644 Q1439.49 73.7508 1430.74 73.7508 Q1427.09 73.7508 1423.12 73.0216 Q1419.19 72.3329 1414.82 70.9151 L1414.82 63.2184 Q1418.95 65.3654 1422.96 66.4591 Q1426.97 67.5124 1430.9 67.5124 Q1436.17 67.5124 1439 65.73 Q1441.84 63.9071 1441.84 60.6258 Q1441.84 57.5877 1439.77 55.9673 Q1437.75 54.3469 1430.82 52.8481 L1428.23 52.2405 Q1421.3 50.7821 1418.22 47.7845 Q1415.14 44.7463 1415.14 39.4801 Q1415.14 33.0797 1419.68 29.5959 Q1424.22 26.1121 1432.56 26.1121 Q1436.69 26.1121 1440.34 26.7198 Q1443.98 27.3274 1447.06 28.5427 Z\" fill=\"#000000\" fill-rule=\"evenodd\" fill-opacity=\"1\" /><path clip-path=\"url(#clip030)\" d=\"M1516.74 44.2197 Q1519.37 45.1109 1521.84 48.0275 Q1524.35 50.9442 1526.87 56.0483 L1535.17 72.576 L1526.38 72.576 L1518.64 57.061 Q1515.64 50.9847 1512.81 48.9997 Q1510.01 47.0148 1505.15 47.0148 L1496.24 47.0148 L1496.24 72.576 L1488.06 72.576 L1488.06 12.096 L1506.53 12.096 Q1516.9 12.096 1522 16.4305 Q1527.11 20.7649 1527.11 29.5149 Q1527.11 35.2267 1524.43 38.994 Q1521.8 42.7613 1516.74 44.2197 M1496.24 18.8205 L1496.24 40.2903 L1506.53 40.2903 Q1512.44 40.2903 1515.44 37.5762 Q1518.48 34.8216 1518.48 29.5149 Q1518.48 24.2082 1515.44 21.5346 Q1512.44 18.8205 1506.53 18.8205 L1496.24 18.8205 Z\" fill=\"#000000\" fill-rule=\"evenodd\" fill-opacity=\"1\" /><path clip-path=\"url(#clip030)\" d=\"M1580.46 48.0275 L1580.46 51.6733 L1546.19 51.6733 Q1546.67 59.3701 1550.81 63.421 Q1554.98 67.4314 1562.39 67.4314 Q1566.69 67.4314 1570.7 66.3781 Q1574.75 65.3249 1578.72 63.2184 L1578.72 70.267 Q1574.71 71.9684 1570.49 72.8596 Q1566.28 73.7508 1561.95 73.7508 Q1551.09 73.7508 1544.73 67.4314 Q1538.41 61.1119 1538.41 50.3365 Q1538.41 39.1965 1544.41 32.6746 Q1550.44 26.1121 1560.65 26.1121 Q1569.8 26.1121 1575.11 32.0264 Q1580.46 37.9003 1580.46 48.0275 M1573.01 45.84 Q1572.92 39.7232 1569.56 36.0774 Q1566.24 32.4315 1560.73 32.4315 Q1554.49 32.4315 1550.73 35.9558 Q1547 39.4801 1546.43 45.8805 L1573.01 45.84 Z\" fill=\"#000000\" fill-rule=\"evenodd\" fill-opacity=\"1\" /><path clip-path=\"url(#clip030)\" d=\"M1622.55 49.3643 Q1622.55 41.2625 1619.19 36.8065 Q1615.86 32.3505 1609.83 32.3505 Q1603.83 32.3505 1600.47 36.8065 Q1597.15 41.2625 1597.15 49.3643 Q1597.15 57.4256 1600.47 61.8816 Q1603.83 66.3376 1609.83 66.3376 Q1615.86 66.3376 1619.19 61.8816 Q1622.55 57.4256 1622.55 49.3643 M1630 66.9452 Q1630 78.5308 1624.86 84.1616 Q1619.71 89.8329 1609.1 89.8329 Q1605.17 89.8329 1601.69 89.2252 Q1598.2 88.6581 1594.92 87.4428 L1594.92 80.1917 Q1598.2 81.9741 1601.4 82.8248 Q1604.6 83.6755 1607.92 83.6755 Q1615.26 83.6755 1618.9 79.8271 Q1622.55 76.0193 1622.55 68.282 L1622.55 64.5957 Q1620.24 68.6061 1616.63 70.5911 Q1613.03 72.576 1608 72.576 Q1599.66 72.576 1594.56 66.2161 Q1589.45 59.8562 1589.45 49.3643 Q1589.45 38.832 1594.56 32.472 Q1599.66 26.1121 1608 26.1121 Q1613.03 26.1121 1616.63 28.0971 Q1620.24 30.082 1622.55 34.0924 L1622.55 27.2059 L1630 27.2059 L1630 66.9452 Z\" fill=\"#000000\" fill-rule=\"evenodd\" fill-opacity=\"1\" /><path clip-path=\"url(#clip030)\" d=\"M1671.64 34.1734 Q1670.39 33.4443 1668.89 33.1202 Q1667.43 32.7556 1665.65 32.7556 Q1659.33 32.7556 1655.93 36.8875 Q1652.56 40.9789 1652.56 48.6757 L1652.56 72.576 L1645.07 72.576 L1645.07 27.2059 L1652.56 27.2059 L1652.56 34.2544 Q1654.91 30.1225 1658.68 28.1376 Q1662.45 26.1121 1667.84 26.1121 Q1668.61 26.1121 1669.54 26.2337 Q1670.47 26.3147 1671.6 26.5172 L1671.64 34.1734 Z\" fill=\"#000000\" fill-rule=\"evenodd\" fill-opacity=\"1\" /><path clip-path=\"url(#clip030)\" d=\"M1716.45 48.0275 L1716.45 51.6733 L1682.18 51.6733 Q1682.66 59.3701 1686.8 63.421 Q1690.97 67.4314 1698.38 67.4314 Q1702.67 67.4314 1706.68 66.3781 Q1710.74 65.3249 1714.71 63.2184 L1714.71 70.267 Q1710.7 71.9684 1706.48 72.8596 Q1702.27 73.7508 1697.94 73.7508 Q1687.08 73.7508 1680.72 67.4314 Q1674.4 61.1119 1674.4 50.3365 Q1674.4 39.1965 1680.39 32.6746 Q1686.43 26.1121 1696.64 26.1121 Q1705.79 26.1121 1711.1 32.0264 Q1716.45 37.9003 1716.45 48.0275 M1708.99 45.84 Q1708.91 39.7232 1705.55 36.0774 Q1702.23 32.4315 1696.72 32.4315 Q1690.48 32.4315 1686.71 35.9558 Q1682.99 39.4801 1682.42 45.8805 L1708.99 45.84 Z\" fill=\"#000000\" fill-rule=\"evenodd\" fill-opacity=\"1\" /><path clip-path=\"url(#clip030)\" d=\"M1736.05 14.324 L1736.05 27.2059 L1751.41 27.2059 L1751.41 32.9987 L1736.05 32.9987 L1736.05 57.6282 Q1736.05 63.1779 1737.55 64.7578 Q1739.09 66.3376 1743.75 66.3376 L1751.41 66.3376 L1751.41 72.576 L1743.75 72.576 Q1735.12 72.576 1731.84 69.3758 Q1728.56 66.1351 1728.56 57.6282 L1728.56 32.9987 L1723.09 32.9987 L1723.09 27.2059 L1728.56 27.2059 L1728.56 14.324 L1736.05 14.324 Z\" fill=\"#000000\" fill-rule=\"evenodd\" fill-opacity=\"1\" /><polyline clip-path=\"url(#clip032)\" style=\"stroke:#009af9; stroke-linecap:round; stroke-linejoin:round; stroke-width:12; stroke-opacity:0.5; fill:none\" points=\"\n",
       "  309.067,1234.14 607.07,1171.62 781.39,1269.86 905.072,1244.85 1001.01,1319.29 1079.39,1142.61 1145.67,1257.27 1203.07,1296.39 1253.71,1183.23 1299.01,1241.11 \n",
       "  1339.99,1171.81 1377.39,1098.43 1411.81,1120.06 1443.67,1125.64 1473.33,1116.52 1501.08,1094.9 1527.14,1173.81 1551.72,1107.2 1574.96,1166.91 1597.01,1076.53 \n",
       "  1617.99,1050.46 1637.99,1067.09 1657.1,999.107 1675.4,916.129 1692.95,1038.35 1709.81,986.198 1726.04,998.782 1741.67,955.13 1756.76,1074.12 1771.33,979.724 \n",
       "  1785.43,951.008 1799.08,940.967 1812.31,904.508 1825.14,931.421 1837.61,900.862 1849.72,828.561 1861.5,934.97 1872.96,938.402 1884.13,892.126 1895.02,881.02 \n",
       "  1905.63,894.573 1915.99,841.875 1926.11,842.664 1935.99,821.297 1945.65,750.02 1955.1,771.854 1964.35,701.682 1973.4,909.053 1982.26,888.738 1990.95,721.659 \n",
       "  1999.46,684.826 2007.81,711.059 2016,726.736 2024.04,726.906 2031.93,792.598 2039.67,737.319 2047.28,803.357 2054.76,639.659 2062.11,758.958 2069.34,697.895 \n",
       "  2076.44,693.17 2083.43,584.444 2090.31,639.498 2097.08,593.298 2103.75,629.63 2110.31,555.991 2116.78,626.291 2123.15,464.213 2129.42,633.947 2135.61,550.498 \n",
       "  2141.71,632.278 2147.72,545.394 2153.65,587.293 2159.5,513.942 2165.27,479.144 2170.97,453.907 2176.59,525.347 2182.13,447.074 2187.61,464.673 2193.02,406.102 \n",
       "  2198.36,418.034 2203.63,386.69 2208.84,461.252 2213.99,444.317 2219.08,458.872 2224.11,382.004 2229.08,415.877 2233.99,419.222 2238.85,397.954 2243.66,330.883 \n",
       "  2248.41,368.686 2253.11,397.829 2257.75,255.659 2262.35,329.776 2266.9,345.443 2271.4,337.803 2275.86,197.923 2280.27,335.022 2284.63,217.819 2288.95,161.139 \n",
       "  2293.23,208.159 \n",
       "  \"/>\n",
       "<polyline clip-path=\"url(#clip032)\" style=\"stroke:#e26f46; stroke-linecap:round; stroke-linejoin:round; stroke-width:12; stroke-opacity:0.5; fill:none\" points=\"\n",
       "  309.067,207.098 607.07,270.445 781.39,228.453 905.072,301.082 1001.01,273.279 1079.39,231.933 1145.67,314.492 1203.07,311.471 1253.71,308.396 1299.01,306.251 \n",
       "  1339.99,394.583 1377.39,285.52 1411.81,416.866 1443.67,465.557 1473.33,435.104 1501.08,461.415 1527.14,496.225 1551.72,325.975 1574.96,346.215 1597.01,406.175 \n",
       "  1617.99,406.276 1637.99,478.168 1657.1,457.56 1675.4,480.568 1692.95,409.164 1709.81,506.66 1726.04,568.094 1741.67,587.308 1756.76,459.565 1771.33,577.832 \n",
       "  1785.43,642.653 1799.08,498.842 1812.31,533.866 1825.14,563.069 1837.61,562.923 1849.72,543.813 1861.5,602.881 1872.96,647.171 1884.13,581.572 1895.02,635.625 \n",
       "  1905.63,725.248 1915.99,724.607 1926.11,655.62 1935.99,648.333 1945.65,722.982 1955.1,719.068 1964.35,666.476 1973.4,711.572 1982.26,656.634 1990.95,692.253 \n",
       "  1999.46,695.523 2007.81,684.396 2016,733.619 2024.04,782.253 2031.93,771.073 2039.67,793.838 2047.28,773.135 2054.76,816.807 2062.11,800.093 2069.34,831.87 \n",
       "  2076.44,914.015 2083.43,883.138 2090.31,904.07 2097.08,862.474 2103.75,893.233 2110.31,961.565 2116.78,874.163 2123.15,912.074 2129.42,895.94 2135.61,908.772 \n",
       "  2141.71,981.678 2147.72,1045.85 2153.65,957.094 2159.5,1019 2165.27,1064 2170.97,1004.3 2176.59,961.432 2182.13,1007.57 2187.61,1051.84 2193.02,1071.15 \n",
       "  2198.36,1059.23 2203.63,1049.66 2208.84,1185.47 2213.99,1107.87 2219.08,1076.24 2224.11,1067.43 2229.08,1113.11 2233.99,1054.28 2238.85,1169.6 2243.66,1225.98 \n",
       "  2248.41,1159.38 2253.11,1134.83 2257.75,1188.75 2262.35,1246.34 2266.9,1157.37 2271.4,1281.32 2275.86,1275.8 2280.27,1263.62 2284.63,1229.37 2288.95,1299.75 \n",
       "  2293.23,1416.72 \n",
       "  \"/>\n",
       "<path clip-path=\"url(#clip030)\" d=\"\n",
       "M1886.95 323.356 L2282.65 323.356 L2282.65 167.836 L1886.95 167.836  Z\n",
       "  \" fill=\"#ffffff\" fill-rule=\"evenodd\" fill-opacity=\"1\"/>\n",
       "<polyline clip-path=\"url(#clip030)\" style=\"stroke:#000000; stroke-linecap:round; stroke-linejoin:round; stroke-width:4; stroke-opacity:1; fill:none\" points=\"\n",
       "  1886.95,323.356 2282.65,323.356 2282.65,167.836 1886.95,167.836 1886.95,323.356 \n",
       "  \"/>\n",
       "<polyline clip-path=\"url(#clip030)\" style=\"stroke:#009af9; stroke-linecap:round; stroke-linejoin:round; stroke-width:4; stroke-opacity:0.5; fill:none\" points=\"\n",
       "  1910.31,219.676 2050.53,219.676 \n",
       "  \"/>\n",
       "<path clip-path=\"url(#clip030)\" d=\"M2101.77 205.058 L2101.77 209.988 Q2099.41 207.789 2096.72 206.701 Q2094.06 205.613 2091.05 205.613 Q2085.12 205.613 2081.98 209.248 Q2078.83 212.859 2078.83 219.711 Q2078.83 226.539 2081.98 230.173 Q2085.12 233.785 2091.05 233.785 Q2094.06 233.785 2096.72 232.697 Q2099.41 231.609 2101.77 229.41 L2101.77 234.294 Q2099.31 235.96 2096.56 236.794 Q2093.83 237.627 2090.77 237.627 Q2082.93 237.627 2078.41 232.835 Q2073.9 228.021 2073.9 219.711 Q2073.9 211.377 2078.41 206.586 Q2082.93 201.771 2090.77 201.771 Q2093.87 201.771 2096.61 202.604 Q2099.36 203.414 2101.77 205.058 Z\" fill=\"#000000\" fill-rule=\"evenodd\" fill-opacity=\"1\" /><path clip-path=\"url(#clip030)\" d=\"M2130.36 221.308 L2130.36 236.956 L2126.1 236.956 L2126.1 221.447 Q2126.1 217.766 2124.66 215.937 Q2123.23 214.109 2120.36 214.109 Q2116.91 214.109 2114.92 216.308 Q2112.93 218.507 2112.93 222.303 L2112.93 236.956 L2108.64 236.956 L2108.64 200.937 L2112.93 200.937 L2112.93 215.058 Q2114.45 212.72 2116.51 211.562 Q2118.6 210.405 2121.3 210.405 Q2125.77 210.405 2128.06 213.183 Q2130.36 215.937 2130.36 221.308 Z\" fill=\"#000000\" fill-rule=\"evenodd\" fill-opacity=\"1\" /><path clip-path=\"url(#clip030)\" d=\"M2150.63 223.923 Q2145.47 223.923 2143.48 225.104 Q2141.49 226.285 2141.49 229.132 Q2141.49 231.4 2142.97 232.743 Q2144.48 234.062 2147.05 234.062 Q2150.59 234.062 2152.72 231.562 Q2154.87 229.039 2154.87 224.873 L2154.87 223.923 L2150.63 223.923 M2159.13 222.164 L2159.13 236.956 L2154.87 236.956 L2154.87 233.021 Q2153.41 235.382 2151.24 236.516 Q2149.06 237.627 2145.91 237.627 Q2141.93 237.627 2139.57 235.405 Q2137.23 233.16 2137.23 229.41 Q2137.23 225.035 2140.15 222.812 Q2143.09 220.59 2148.9 220.59 L2154.87 220.59 L2154.87 220.173 Q2154.87 217.234 2152.93 215.636 Q2151 214.016 2147.51 214.016 Q2145.29 214.016 2143.18 214.549 Q2141.07 215.081 2139.13 216.146 L2139.13 212.211 Q2141.47 211.308 2143.67 210.868 Q2145.86 210.405 2147.95 210.405 Q2153.57 210.405 2156.35 213.322 Q2159.13 216.238 2159.13 222.164 Z\" fill=\"#000000\" fill-rule=\"evenodd\" fill-opacity=\"1\" /><path clip-path=\"url(#clip030)\" d=\"M2182.92 215.011 Q2182.21 214.595 2181.35 214.41 Q2180.52 214.201 2179.5 214.201 Q2175.89 214.201 2173.94 216.562 Q2172.02 218.9 2172.02 223.298 L2172.02 236.956 L2167.74 236.956 L2167.74 211.03 L2172.02 211.03 L2172.02 215.058 Q2173.36 212.697 2175.52 211.562 Q2177.67 210.405 2180.75 210.405 Q2181.19 210.405 2181.72 210.474 Q2182.25 210.521 2182.9 210.637 L2182.92 215.011 Z\" fill=\"#000000\" fill-rule=\"evenodd\" fill-opacity=\"1\" /><path clip-path=\"url(#clip030)\" d=\"M2187.39 200.937 L2191.65 200.937 L2191.65 236.956 L2187.39 236.956 L2187.39 200.937 Z\" fill=\"#000000\" fill-rule=\"evenodd\" fill-opacity=\"1\" /><path clip-path=\"url(#clip030)\" d=\"M2200.56 211.03 L2204.82 211.03 L2204.82 236.956 L2200.56 236.956 L2200.56 211.03 M2200.56 200.937 L2204.82 200.937 L2204.82 206.331 L2200.56 206.331 L2200.56 200.937 Z\" fill=\"#000000\" fill-rule=\"evenodd\" fill-opacity=\"1\" /><path clip-path=\"url(#clip030)\" d=\"M2235.91 222.928 L2235.91 225.011 L2216.33 225.011 Q2216.61 229.41 2218.97 231.724 Q2221.35 234.016 2225.59 234.016 Q2228.04 234.016 2230.33 233.414 Q2232.65 232.812 2234.92 231.609 L2234.92 235.636 Q2232.62 236.609 2230.22 237.118 Q2227.81 237.627 2225.33 237.627 Q2219.13 237.627 2215.49 234.016 Q2211.88 230.405 2211.88 224.248 Q2211.88 217.882 2215.31 214.155 Q2218.76 210.405 2224.59 210.405 Q2229.82 210.405 2232.86 213.785 Q2235.91 217.141 2235.91 222.928 M2231.65 221.678 Q2231.61 218.183 2229.68 216.099 Q2227.79 214.016 2224.64 214.016 Q2221.07 214.016 2218.92 216.03 Q2216.79 218.044 2216.47 221.701 L2231.65 221.678 Z\" fill=\"#000000\" fill-rule=\"evenodd\" fill-opacity=\"1\" /><polyline clip-path=\"url(#clip030)\" style=\"stroke:#e26f46; stroke-linecap:round; stroke-linejoin:round; stroke-width:4; stroke-opacity:0.5; fill:none\" points=\"\n",
       "  1910.31,271.516 2050.53,271.516 \n",
       "  \"/>\n",
       "<path clip-path=\"url(#clip030)\" d=\"M2089.92 257.407 Q2084.82 257.407 2081.81 261.203 Q2078.83 265 2078.83 271.551 Q2078.83 278.078 2081.81 281.875 Q2084.82 285.671 2089.92 285.671 Q2095.01 285.671 2097.97 281.875 Q2100.96 278.078 2100.96 271.551 Q2100.96 265 2097.97 261.203 Q2095.01 257.407 2089.92 257.407 M2089.92 253.611 Q2097.18 253.611 2101.54 258.495 Q2105.89 263.356 2105.89 271.551 Q2105.89 279.722 2101.54 284.606 Q2097.18 289.467 2089.92 289.467 Q2082.62 289.467 2078.25 284.606 Q2073.9 279.745 2073.9 271.551 Q2073.9 263.356 2078.25 258.495 Q2082.62 253.611 2089.92 253.611 Z\" fill=\"#000000\" fill-rule=\"evenodd\" fill-opacity=\"1\" /><path clip-path=\"url(#clip030)\" d=\"M2133.2 267.847 Q2134.8 264.976 2137.02 263.611 Q2139.24 262.245 2142.25 262.245 Q2146.3 262.245 2148.5 265.092 Q2150.7 267.916 2150.7 273.148 L2150.7 288.796 L2146.42 288.796 L2146.42 273.287 Q2146.42 269.56 2145.1 267.754 Q2143.78 265.949 2141.07 265.949 Q2137.76 265.949 2135.84 268.148 Q2133.92 270.347 2133.92 274.143 L2133.92 288.796 L2129.64 288.796 L2129.64 273.287 Q2129.64 269.537 2128.32 267.754 Q2127 265.949 2124.24 265.949 Q2120.98 265.949 2119.06 268.171 Q2117.14 270.37 2117.14 274.143 L2117.14 288.796 L2112.86 288.796 L2112.86 262.87 L2117.14 262.87 L2117.14 266.898 Q2118.6 264.514 2120.63 263.379 Q2122.67 262.245 2125.47 262.245 Q2128.3 262.245 2130.26 263.68 Q2132.25 265.115 2133.2 267.847 Z\" fill=\"#000000\" fill-rule=\"evenodd\" fill-opacity=\"1\" /><path clip-path=\"url(#clip030)\" d=\"M2170.98 275.763 Q2165.82 275.763 2163.83 276.944 Q2161.84 278.125 2161.84 280.972 Q2161.84 283.24 2163.32 284.583 Q2164.82 285.902 2167.39 285.902 Q2170.93 285.902 2173.06 283.402 Q2175.22 280.879 2175.22 276.713 L2175.22 275.763 L2170.98 275.763 M2179.48 274.004 L2179.48 288.796 L2175.22 288.796 L2175.22 284.861 Q2173.76 287.222 2171.58 288.356 Q2169.41 289.467 2166.26 289.467 Q2162.28 289.467 2159.92 287.245 Q2157.58 285 2157.58 281.25 Q2157.58 276.875 2160.49 274.652 Q2163.43 272.43 2169.24 272.43 L2175.22 272.43 L2175.22 272.013 Q2175.22 269.074 2173.27 267.476 Q2171.35 265.856 2167.86 265.856 Q2165.63 265.856 2163.53 266.389 Q2161.42 266.921 2159.48 267.986 L2159.48 264.051 Q2161.81 263.148 2164.01 262.708 Q2166.21 262.245 2168.3 262.245 Q2173.92 262.245 2176.7 265.162 Q2179.48 268.078 2179.48 274.004 Z\" fill=\"#000000\" fill-rule=\"evenodd\" fill-opacity=\"1\" /><path clip-path=\"url(#clip030)\" d=\"M2203.27 266.851 Q2202.55 266.435 2201.7 266.25 Q2200.86 266.041 2199.85 266.041 Q2196.23 266.041 2194.29 268.402 Q2192.37 270.74 2192.37 275.138 L2192.37 288.796 L2188.09 288.796 L2188.09 262.87 L2192.37 262.87 L2192.37 266.898 Q2193.71 264.537 2195.86 263.402 Q2198.02 262.245 2201.1 262.245 Q2201.54 262.245 2202.07 262.314 Q2202.6 262.361 2203.25 262.477 L2203.27 266.851 Z\" fill=\"#000000\" fill-rule=\"evenodd\" fill-opacity=\"1\" /></svg>\n"
      ]
     },
     "execution_count": 80,
     "metadata": {},
     "output_type": "execute_result"
    }
   ],
   "source": [
    "data = hcat(Array(0:0.01:1),Array(1:-0.01:0)) #concatenate along dimension 2\n",
    "data += .05*randn(size(data))\n",
    "\n",
    "plot(data, title=\"Pizza Intake vs Regret\", xaxis = (font(5), \"Slices Eaten\", 0:25:101, :log10), \n",
    "     ylabel=\"Regret\",line=(0.5, 3), label=[\"Charlie\" \"Omar\"])"
   ]
  },
  {
   "cell_type": "markdown",
   "metadata": {
    "id": "3TvYKO00i2ub"
   },
   "source": [
    "Multiple window plot."
   ]
  },
  {
   "cell_type": "code",
   "execution_count": 81,
   "metadata": {
    "id": "nvjydGFTi2MM"
   },
   "outputs": [
    {
     "data": {
      "image/svg+xml": [
       "<?xml version=\"1.0\" encoding=\"utf-8\"?>\n",
       "<svg xmlns=\"http://www.w3.org/2000/svg\" xmlns:xlink=\"http://www.w3.org/1999/xlink\" width=\"600\" height=\"400\" viewBox=\"0 0 2400 1600\">\n",
       "<defs>\n",
       "  <clipPath id=\"clip070\">\n",
       "    <rect x=\"0\" y=\"0\" width=\"2400\" height=\"1600\"/>\n",
       "  </clipPath>\n",
       "</defs>\n",
       "<path clip-path=\"url(#clip070)\" d=\"\n",
       "M0 1600 L2400 1600 L2400 0 L0 0  Z\n",
       "  \" fill=\"#ffffff\" fill-rule=\"evenodd\" fill-opacity=\"1\"/>\n",
       "<defs>\n",
       "  <clipPath id=\"clip071\">\n",
       "    <rect x=\"480\" y=\"0\" width=\"1681\" height=\"1600\"/>\n",
       "  </clipPath>\n",
       "</defs>\n",
       "<path clip-path=\"url(#clip070)\" d=\"\n",
       "M193.936 686.448 L1152.76 686.448 L1152.76 47.2441 L193.936 47.2441  Z\n",
       "  \" fill=\"#ffffff\" fill-rule=\"evenodd\" fill-opacity=\"1\"/>\n",
       "<defs>\n",
       "  <clipPath id=\"clip072\">\n",
       "    <rect x=\"193\" y=\"47\" width=\"960\" height=\"640\"/>\n",
       "  </clipPath>\n",
       "</defs>\n",
       "<polyline clip-path=\"url(#clip072)\" style=\"stroke:#000000; stroke-linecap:round; stroke-linejoin:round; stroke-width:2; stroke-opacity:0.1; fill:none\" points=\"\n",
       "  221.072,686.448 221.072,47.2441 \n",
       "  \"/>\n",
       "<polyline clip-path=\"url(#clip072)\" style=\"stroke:#000000; stroke-linecap:round; stroke-linejoin:round; stroke-width:2; stroke-opacity:0.1; fill:none\" points=\"\n",
       "  365.109,686.448 365.109,47.2441 \n",
       "  \"/>\n",
       "<polyline clip-path=\"url(#clip072)\" style=\"stroke:#000000; stroke-linecap:round; stroke-linejoin:round; stroke-width:2; stroke-opacity:0.1; fill:none\" points=\"\n",
       "  509.145,686.448 509.145,47.2441 \n",
       "  \"/>\n",
       "<polyline clip-path=\"url(#clip072)\" style=\"stroke:#000000; stroke-linecap:round; stroke-linejoin:round; stroke-width:2; stroke-opacity:0.1; fill:none\" points=\"\n",
       "  653.181,686.448 653.181,47.2441 \n",
       "  \"/>\n",
       "<polyline clip-path=\"url(#clip072)\" style=\"stroke:#000000; stroke-linecap:round; stroke-linejoin:round; stroke-width:2; stroke-opacity:0.1; fill:none\" points=\"\n",
       "  797.217,686.448 797.217,47.2441 \n",
       "  \"/>\n",
       "<polyline clip-path=\"url(#clip072)\" style=\"stroke:#000000; stroke-linecap:round; stroke-linejoin:round; stroke-width:2; stroke-opacity:0.1; fill:none\" points=\"\n",
       "  941.253,686.448 941.253,47.2441 \n",
       "  \"/>\n",
       "<polyline clip-path=\"url(#clip072)\" style=\"stroke:#000000; stroke-linecap:round; stroke-linejoin:round; stroke-width:2; stroke-opacity:0.1; fill:none\" points=\"\n",
       "  1085.29,686.448 1085.29,47.2441 \n",
       "  \"/>\n",
       "<polyline clip-path=\"url(#clip070)\" style=\"stroke:#000000; stroke-linecap:round; stroke-linejoin:round; stroke-width:4; stroke-opacity:1; fill:none\" points=\"\n",
       "  193.936,686.448 1152.76,686.448 \n",
       "  \"/>\n",
       "<polyline clip-path=\"url(#clip070)\" style=\"stroke:#000000; stroke-linecap:round; stroke-linejoin:round; stroke-width:4; stroke-opacity:1; fill:none\" points=\"\n",
       "  221.072,686.448 221.072,667.55 \n",
       "  \"/>\n",
       "<polyline clip-path=\"url(#clip070)\" style=\"stroke:#000000; stroke-linecap:round; stroke-linejoin:round; stroke-width:4; stroke-opacity:1; fill:none\" points=\"\n",
       "  365.109,686.448 365.109,667.55 \n",
       "  \"/>\n",
       "<polyline clip-path=\"url(#clip070)\" style=\"stroke:#000000; stroke-linecap:round; stroke-linejoin:round; stroke-width:4; stroke-opacity:1; fill:none\" points=\"\n",
       "  509.145,686.448 509.145,667.55 \n",
       "  \"/>\n",
       "<polyline clip-path=\"url(#clip070)\" style=\"stroke:#000000; stroke-linecap:round; stroke-linejoin:round; stroke-width:4; stroke-opacity:1; fill:none\" points=\"\n",
       "  653.181,686.448 653.181,667.55 \n",
       "  \"/>\n",
       "<polyline clip-path=\"url(#clip070)\" style=\"stroke:#000000; stroke-linecap:round; stroke-linejoin:round; stroke-width:4; stroke-opacity:1; fill:none\" points=\"\n",
       "  797.217,686.448 797.217,667.55 \n",
       "  \"/>\n",
       "<polyline clip-path=\"url(#clip070)\" style=\"stroke:#000000; stroke-linecap:round; stroke-linejoin:round; stroke-width:4; stroke-opacity:1; fill:none\" points=\"\n",
       "  941.253,686.448 941.253,667.55 \n",
       "  \"/>\n",
       "<polyline clip-path=\"url(#clip070)\" style=\"stroke:#000000; stroke-linecap:round; stroke-linejoin:round; stroke-width:4; stroke-opacity:1; fill:none\" points=\"\n",
       "  1085.29,686.448 1085.29,667.55 \n",
       "  \"/>\n",
       "<path clip-path=\"url(#clip070)\" d=\"M221.072 717.367 Q217.461 717.367 215.633 720.931 Q213.827 724.473 213.827 731.603 Q213.827 738.709 215.633 742.274 Q217.461 745.815 221.072 745.815 Q224.707 745.815 226.512 742.274 Q228.341 738.709 228.341 731.603 Q228.341 724.473 226.512 720.931 Q224.707 717.367 221.072 717.367 M221.072 713.663 Q226.883 713.663 229.938 718.269 Q233.017 722.853 233.017 731.603 Q233.017 740.329 229.938 744.936 Q226.883 749.519 221.072 749.519 Q215.262 749.519 212.184 744.936 Q209.128 740.329 209.128 731.603 Q209.128 722.853 212.184 718.269 Q215.262 713.663 221.072 713.663 Z\" fill=\"#000000\" fill-rule=\"evenodd\" fill-opacity=\"1\" /><path clip-path=\"url(#clip070)\" d=\"M355.491 744.913 L363.129 744.913 L363.129 718.547 L354.819 720.214 L354.819 715.955 L363.083 714.288 L367.759 714.288 L367.759 744.913 L375.398 744.913 L375.398 748.848 L355.491 748.848 L355.491 744.913 Z\" fill=\"#000000\" fill-rule=\"evenodd\" fill-opacity=\"1\" /><path clip-path=\"url(#clip070)\" d=\"M503.798 744.913 L520.117 744.913 L520.117 748.848 L498.173 748.848 L498.173 744.913 Q500.835 742.158 505.418 737.528 Q510.024 732.876 511.205 731.533 Q513.45 729.01 514.33 727.274 Q515.233 725.515 515.233 723.825 Q515.233 721.07 513.288 719.334 Q511.367 717.598 508.265 717.598 Q506.066 717.598 503.612 718.362 Q501.182 719.126 498.404 720.677 L498.404 715.955 Q501.228 714.82 503.682 714.242 Q506.135 713.663 508.173 713.663 Q513.543 713.663 516.737 716.348 Q519.932 719.033 519.932 723.524 Q519.932 725.654 519.122 727.575 Q518.334 729.473 516.228 732.066 Q515.649 732.737 512.547 735.954 Q509.446 739.149 503.798 744.913 Z\" fill=\"#000000\" fill-rule=\"evenodd\" fill-opacity=\"1\" /><path clip-path=\"url(#clip070)\" d=\"M657.429 730.214 Q660.785 730.931 662.66 733.2 Q664.558 735.468 664.558 738.802 Q664.558 743.917 661.04 746.718 Q657.521 749.519 651.04 749.519 Q648.864 749.519 646.549 749.079 Q644.257 748.663 641.804 747.806 L641.804 743.292 Q643.748 744.427 646.063 745.005 Q648.378 745.584 650.901 745.584 Q655.299 745.584 657.591 743.848 Q659.905 742.112 659.905 738.802 Q659.905 735.746 657.753 734.033 Q655.623 732.297 651.804 732.297 L647.776 732.297 L647.776 728.454 L651.989 728.454 Q655.438 728.454 657.267 727.089 Q659.095 725.7 659.095 723.107 Q659.095 720.445 657.197 719.033 Q655.322 717.598 651.804 717.598 Q649.882 717.598 647.683 718.015 Q645.484 718.431 642.845 719.311 L642.845 715.144 Q645.507 714.404 647.822 714.033 Q650.16 713.663 652.22 713.663 Q657.544 713.663 660.646 716.093 Q663.748 718.501 663.748 722.621 Q663.748 725.492 662.104 727.482 Q660.461 729.45 657.429 730.214 Z\" fill=\"#000000\" fill-rule=\"evenodd\" fill-opacity=\"1\" /><path clip-path=\"url(#clip070)\" d=\"M800.226 718.362 L788.421 736.811 L800.226 736.811 L800.226 718.362 M798.999 714.288 L804.879 714.288 L804.879 736.811 L809.81 736.811 L809.81 740.7 L804.879 740.7 L804.879 748.848 L800.226 748.848 L800.226 740.7 L784.625 740.7 L784.625 736.186 L798.999 714.288 Z\" fill=\"#000000\" fill-rule=\"evenodd\" fill-opacity=\"1\" /><path clip-path=\"url(#clip070)\" d=\"M931.531 714.288 L949.887 714.288 L949.887 718.223 L935.813 718.223 L935.813 726.695 Q936.832 726.348 937.85 726.186 Q938.869 726.001 939.887 726.001 Q945.674 726.001 949.054 729.172 Q952.434 732.343 952.434 737.76 Q952.434 743.339 948.962 746.44 Q945.489 749.519 939.17 749.519 Q936.994 749.519 934.725 749.149 Q932.48 748.778 930.073 748.038 L930.073 743.339 Q932.156 744.473 934.378 745.028 Q936.6 745.584 939.077 745.584 Q943.082 745.584 945.42 743.478 Q947.758 741.371 947.758 737.76 Q947.758 734.149 945.42 732.042 Q943.082 729.936 939.077 729.936 Q937.202 729.936 935.327 730.353 Q933.475 730.769 931.531 731.649 L931.531 714.288 Z\" fill=\"#000000\" fill-rule=\"evenodd\" fill-opacity=\"1\" /><path clip-path=\"url(#clip070)\" d=\"M1085.69 729.704 Q1082.55 729.704 1080.69 731.857 Q1078.87 734.01 1078.87 737.76 Q1078.87 741.487 1080.69 743.663 Q1082.55 745.815 1085.69 745.815 Q1088.84 745.815 1090.67 743.663 Q1092.52 741.487 1092.52 737.76 Q1092.52 734.01 1090.67 731.857 Q1088.84 729.704 1085.69 729.704 M1094.98 715.052 L1094.98 719.311 Q1093.22 718.478 1091.41 718.038 Q1089.63 717.598 1087.87 717.598 Q1083.24 717.598 1080.79 720.723 Q1078.36 723.848 1078.01 730.167 Q1079.38 728.154 1081.44 727.089 Q1083.5 726.001 1085.97 726.001 Q1091.18 726.001 1094.19 729.172 Q1097.22 732.32 1097.22 737.76 Q1097.22 743.084 1094.07 746.302 Q1090.93 749.519 1085.69 749.519 Q1079.7 749.519 1076.53 744.936 Q1073.36 740.329 1073.36 731.603 Q1073.36 723.408 1077.25 718.547 Q1081.13 713.663 1087.69 713.663 Q1089.44 713.663 1091.23 714.01 Q1093.03 714.357 1094.98 715.052 Z\" fill=\"#000000\" fill-rule=\"evenodd\" fill-opacity=\"1\" /><polyline clip-path=\"url(#clip072)\" style=\"stroke:#000000; stroke-linecap:round; stroke-linejoin:round; stroke-width:2; stroke-opacity:0.1; fill:none\" points=\"\n",
       "  193.936,668.358 1152.76,668.358 \n",
       "  \"/>\n",
       "<polyline clip-path=\"url(#clip072)\" style=\"stroke:#000000; stroke-linecap:round; stroke-linejoin:round; stroke-width:2; stroke-opacity:0.1; fill:none\" points=\"\n",
       "  193.936,517.602 1152.76,517.602 \n",
       "  \"/>\n",
       "<polyline clip-path=\"url(#clip072)\" style=\"stroke:#000000; stroke-linecap:round; stroke-linejoin:round; stroke-width:2; stroke-opacity:0.1; fill:none\" points=\"\n",
       "  193.936,366.846 1152.76,366.846 \n",
       "  \"/>\n",
       "<polyline clip-path=\"url(#clip072)\" style=\"stroke:#000000; stroke-linecap:round; stroke-linejoin:round; stroke-width:2; stroke-opacity:0.1; fill:none\" points=\"\n",
       "  193.936,216.091 1152.76,216.091 \n",
       "  \"/>\n",
       "<polyline clip-path=\"url(#clip072)\" style=\"stroke:#000000; stroke-linecap:round; stroke-linejoin:round; stroke-width:2; stroke-opacity:0.1; fill:none\" points=\"\n",
       "  193.936,65.3347 1152.76,65.3347 \n",
       "  \"/>\n",
       "<polyline clip-path=\"url(#clip070)\" style=\"stroke:#000000; stroke-linecap:round; stroke-linejoin:round; stroke-width:4; stroke-opacity:1; fill:none\" points=\"\n",
       "  193.936,686.448 193.936,47.2441 \n",
       "  \"/>\n",
       "<polyline clip-path=\"url(#clip070)\" style=\"stroke:#000000; stroke-linecap:round; stroke-linejoin:round; stroke-width:4; stroke-opacity:1; fill:none\" points=\"\n",
       "  193.936,668.358 212.834,668.358 \n",
       "  \"/>\n",
       "<polyline clip-path=\"url(#clip070)\" style=\"stroke:#000000; stroke-linecap:round; stroke-linejoin:round; stroke-width:4; stroke-opacity:1; fill:none\" points=\"\n",
       "  193.936,517.602 212.834,517.602 \n",
       "  \"/>\n",
       "<polyline clip-path=\"url(#clip070)\" style=\"stroke:#000000; stroke-linecap:round; stroke-linejoin:round; stroke-width:4; stroke-opacity:1; fill:none\" points=\"\n",
       "  193.936,366.846 212.834,366.846 \n",
       "  \"/>\n",
       "<polyline clip-path=\"url(#clip070)\" style=\"stroke:#000000; stroke-linecap:round; stroke-linejoin:round; stroke-width:4; stroke-opacity:1; fill:none\" points=\"\n",
       "  193.936,216.091 212.834,216.091 \n",
       "  \"/>\n",
       "<polyline clip-path=\"url(#clip070)\" style=\"stroke:#000000; stroke-linecap:round; stroke-linejoin:round; stroke-width:4; stroke-opacity:1; fill:none\" points=\"\n",
       "  193.936,65.3347 212.834,65.3347 \n",
       "  \"/>\n",
       "<path clip-path=\"url(#clip070)\" d=\"M50.9921 668.809 L80.6679 668.809 L80.6679 672.745 L50.9921 672.745 L50.9921 668.809 Z\" fill=\"#000000\" fill-rule=\"evenodd\" fill-opacity=\"1\" /><path clip-path=\"url(#clip070)\" d=\"M91.5706 681.703 L99.2095 681.703 L99.2095 655.337 L90.8993 657.004 L90.8993 652.745 L99.1632 651.078 L103.839 651.078 L103.839 681.703 L111.478 681.703 L111.478 685.638 L91.5706 685.638 L91.5706 681.703 Z\" fill=\"#000000\" fill-rule=\"evenodd\" fill-opacity=\"1\" /><path clip-path=\"url(#clip070)\" d=\"M120.922 679.758 L125.807 679.758 L125.807 685.638 L120.922 685.638 L120.922 679.758 Z\" fill=\"#000000\" fill-rule=\"evenodd\" fill-opacity=\"1\" /><path clip-path=\"url(#clip070)\" d=\"M145.992 654.157 Q142.381 654.157 140.552 657.722 Q138.746 661.263 138.746 668.393 Q138.746 675.499 140.552 679.064 Q142.381 682.606 145.992 682.606 Q149.626 682.606 151.431 679.064 Q153.26 675.499 153.26 668.393 Q153.26 661.263 151.431 657.722 Q149.626 654.157 145.992 654.157 M145.992 650.453 Q151.802 650.453 154.857 655.06 Q157.936 659.643 157.936 668.393 Q157.936 677.12 154.857 681.726 Q151.802 686.309 145.992 686.309 Q140.181 686.309 137.103 681.726 Q134.047 677.12 134.047 668.393 Q134.047 659.643 137.103 655.06 Q140.181 650.453 145.992 650.453 Z\" fill=\"#000000\" fill-rule=\"evenodd\" fill-opacity=\"1\" /><path clip-path=\"url(#clip070)\" d=\"M51.9875 518.054 L81.6633 518.054 L81.6633 521.989 L51.9875 521.989 L51.9875 518.054 Z\" fill=\"#000000\" fill-rule=\"evenodd\" fill-opacity=\"1\" /><path clip-path=\"url(#clip070)\" d=\"M101.756 503.401 Q98.1447 503.401 96.316 506.966 Q94.5104 510.507 94.5104 517.637 Q94.5104 524.743 96.316 528.308 Q98.1447 531.85 101.756 531.85 Q105.39 531.85 107.196 528.308 Q109.024 524.743 109.024 517.637 Q109.024 510.507 107.196 506.966 Q105.39 503.401 101.756 503.401 M101.756 499.697 Q107.566 499.697 110.621 504.304 Q113.7 508.887 113.7 517.637 Q113.7 526.364 110.621 530.97 Q107.566 535.554 101.756 535.554 Q95.9456 535.554 92.8669 530.97 Q89.8114 526.364 89.8114 517.637 Q89.8114 508.887 92.8669 504.304 Q95.9456 499.697 101.756 499.697 Z\" fill=\"#000000\" fill-rule=\"evenodd\" fill-opacity=\"1\" /><path clip-path=\"url(#clip070)\" d=\"M121.918 529.003 L126.802 529.003 L126.802 534.882 L121.918 534.882 L121.918 529.003 Z\" fill=\"#000000\" fill-rule=\"evenodd\" fill-opacity=\"1\" /><path clip-path=\"url(#clip070)\" d=\"M137.033 500.322 L155.39 500.322 L155.39 504.257 L141.316 504.257 L141.316 512.73 Q142.334 512.382 143.353 512.22 Q144.371 512.035 145.39 512.035 Q151.177 512.035 154.556 515.206 Q157.936 518.378 157.936 523.794 Q157.936 529.373 154.464 532.475 Q150.992 535.554 144.672 535.554 Q142.496 535.554 140.228 535.183 Q137.982 534.813 135.575 534.072 L135.575 529.373 Q137.658 530.507 139.881 531.063 Q142.103 531.618 144.58 531.618 Q148.584 531.618 150.922 529.512 Q153.26 527.405 153.26 523.794 Q153.26 520.183 150.922 518.077 Q148.584 515.97 144.58 515.97 Q142.705 515.97 140.83 516.387 Q138.978 516.804 137.033 517.683 L137.033 500.322 Z\" fill=\"#000000\" fill-rule=\"evenodd\" fill-opacity=\"1\" /><path clip-path=\"url(#clip070)\" d=\"M100.76 352.645 Q97.1493 352.645 95.3206 356.21 Q93.515 359.751 93.515 366.881 Q93.515 373.988 95.3206 377.552 Q97.1493 381.094 100.76 381.094 Q104.395 381.094 106.2 377.552 Q108.029 373.988 108.029 366.881 Q108.029 359.751 106.2 356.21 Q104.395 352.645 100.76 352.645 M100.76 348.941 Q106.571 348.941 109.626 353.548 Q112.705 358.131 112.705 366.881 Q112.705 375.608 109.626 380.214 Q106.571 384.798 100.76 384.798 Q94.9502 384.798 91.8715 380.214 Q88.816 375.608 88.816 366.881 Q88.816 358.131 91.8715 353.548 Q94.9502 348.941 100.76 348.941 Z\" fill=\"#000000\" fill-rule=\"evenodd\" fill-opacity=\"1\" /><path clip-path=\"url(#clip070)\" d=\"M120.922 378.247 L125.807 378.247 L125.807 384.126 L120.922 384.126 L120.922 378.247 Z\" fill=\"#000000\" fill-rule=\"evenodd\" fill-opacity=\"1\" /><path clip-path=\"url(#clip070)\" d=\"M145.992 352.645 Q142.381 352.645 140.552 356.21 Q138.746 359.751 138.746 366.881 Q138.746 373.988 140.552 377.552 Q142.381 381.094 145.992 381.094 Q149.626 381.094 151.431 377.552 Q153.26 373.988 153.26 366.881 Q153.26 359.751 151.431 356.21 Q149.626 352.645 145.992 352.645 M145.992 348.941 Q151.802 348.941 154.857 353.548 Q157.936 358.131 157.936 366.881 Q157.936 375.608 154.857 380.214 Q151.802 384.798 145.992 384.798 Q140.181 384.798 137.103 380.214 Q134.047 375.608 134.047 366.881 Q134.047 358.131 137.103 353.548 Q140.181 348.941 145.992 348.941 Z\" fill=\"#000000\" fill-rule=\"evenodd\" fill-opacity=\"1\" /><path clip-path=\"url(#clip070)\" d=\"M101.756 201.889 Q98.1447 201.889 96.316 205.454 Q94.5104 208.996 94.5104 216.125 Q94.5104 223.232 96.316 226.796 Q98.1447 230.338 101.756 230.338 Q105.39 230.338 107.196 226.796 Q109.024 223.232 109.024 216.125 Q109.024 208.996 107.196 205.454 Q105.39 201.889 101.756 201.889 M101.756 198.186 Q107.566 198.186 110.621 202.792 Q113.7 207.375 113.7 216.125 Q113.7 224.852 110.621 229.459 Q107.566 234.042 101.756 234.042 Q95.9456 234.042 92.8669 229.459 Q89.8114 224.852 89.8114 216.125 Q89.8114 207.375 92.8669 202.792 Q95.9456 198.186 101.756 198.186 Z\" fill=\"#000000\" fill-rule=\"evenodd\" fill-opacity=\"1\" /><path clip-path=\"url(#clip070)\" d=\"M121.918 227.491 L126.802 227.491 L126.802 233.371 L121.918 233.371 L121.918 227.491 Z\" fill=\"#000000\" fill-rule=\"evenodd\" fill-opacity=\"1\" /><path clip-path=\"url(#clip070)\" d=\"M137.033 198.811 L155.39 198.811 L155.39 202.746 L141.316 202.746 L141.316 211.218 Q142.334 210.871 143.353 210.709 Q144.371 210.523 145.39 210.523 Q151.177 210.523 154.556 213.695 Q157.936 216.866 157.936 222.283 Q157.936 227.861 154.464 230.963 Q150.992 234.042 144.672 234.042 Q142.496 234.042 140.228 233.671 Q137.982 233.301 135.575 232.56 L135.575 227.861 Q137.658 228.996 139.881 229.551 Q142.103 230.107 144.58 230.107 Q148.584 230.107 150.922 228 Q153.26 225.894 153.26 222.283 Q153.26 218.672 150.922 216.565 Q148.584 214.459 144.58 214.459 Q142.705 214.459 140.83 214.875 Q138.978 215.292 137.033 216.172 L137.033 198.811 Z\" fill=\"#000000\" fill-rule=\"evenodd\" fill-opacity=\"1\" /><path clip-path=\"url(#clip070)\" d=\"M91.5706 78.6795 L99.2095 78.6795 L99.2095 52.3139 L90.8993 53.9806 L90.8993 49.7213 L99.1632 48.0547 L103.839 48.0547 L103.839 78.6795 L111.478 78.6795 L111.478 82.6147 L91.5706 82.6147 L91.5706 78.6795 Z\" fill=\"#000000\" fill-rule=\"evenodd\" fill-opacity=\"1\" /><path clip-path=\"url(#clip070)\" d=\"M120.922 76.7351 L125.807 76.7351 L125.807 82.6147 L120.922 82.6147 L120.922 76.7351 Z\" fill=\"#000000\" fill-rule=\"evenodd\" fill-opacity=\"1\" /><path clip-path=\"url(#clip070)\" d=\"M145.992 51.1334 Q142.381 51.1334 140.552 54.6982 Q138.746 58.2398 138.746 65.3694 Q138.746 72.4758 140.552 76.0406 Q142.381 79.5823 145.992 79.5823 Q149.626 79.5823 151.431 76.0406 Q153.26 72.4758 153.26 65.3694 Q153.26 58.2398 151.431 54.6982 Q149.626 51.1334 145.992 51.1334 M145.992 47.4297 Q151.802 47.4297 154.857 52.0361 Q157.936 56.6194 157.936 65.3694 Q157.936 74.0962 154.857 78.7027 Q151.802 83.286 145.992 83.286 Q140.181 83.286 137.103 78.7027 Q134.047 74.0962 134.047 65.3694 Q134.047 56.6194 137.103 52.0361 Q140.181 47.4297 145.992 47.4297 Z\" fill=\"#000000\" fill-rule=\"evenodd\" fill-opacity=\"1\" /><polyline clip-path=\"url(#clip072)\" style=\"stroke:#009af9; stroke-linecap:round; stroke-linejoin:round; stroke-width:4; stroke-opacity:1; fill:none\" points=\"\n",
       "  221.072,366.846 222.513,363.831 223.953,360.817 225.393,357.802 226.834,354.789 228.274,351.777 229.715,348.767 231.155,345.758 232.595,342.751 234.036,339.747 \n",
       "  235.476,336.745 236.916,333.747 238.357,330.752 239.797,327.76 241.237,324.772 242.678,321.789 244.118,318.81 245.559,315.836 246.999,312.867 248.439,309.903 \n",
       "  249.88,306.945 251.32,303.993 252.76,301.048 254.201,298.108 255.641,295.176 257.081,292.251 258.522,289.334 259.962,286.424 261.403,283.522 262.843,280.628 \n",
       "  264.283,277.744 265.724,274.868 267.164,272.001 268.604,269.144 270.045,266.296 271.485,263.459 272.925,260.632 274.366,257.815 275.806,255.01 277.247,252.215 \n",
       "  278.687,249.432 280.127,246.661 281.568,243.902 283.008,241.155 284.448,238.421 285.889,235.699 287.329,232.991 288.769,230.296 290.21,227.615 291.65,224.947 \n",
       "  293.09,222.294 294.531,219.655 295.971,217.031 297.412,214.422 298.852,211.828 300.292,209.25 301.733,206.688 303.173,204.141 304.613,201.611 306.054,199.097 \n",
       "  307.494,196.6 308.934,194.12 310.375,191.657 311.815,189.212 313.256,186.785 314.696,184.376 316.136,181.984 317.577,179.612 319.017,177.258 320.457,174.923 \n",
       "  321.898,172.607 323.338,170.311 324.778,168.034 326.219,165.777 327.659,163.541 329.1,161.324 330.54,159.128 331.98,156.953 333.421,154.799 334.861,152.667 \n",
       "  336.301,150.555 337.742,148.465 339.182,146.397 340.622,144.351 342.063,142.328 343.503,140.327 344.944,138.348 346.384,136.392 347.824,134.46 349.265,132.55 \n",
       "  350.705,130.664 352.145,128.802 353.586,126.963 355.026,125.149 356.466,123.358 357.907,121.592 359.347,119.851 360.787,118.134 362.228,116.442 363.668,114.775 \n",
       "  365.109,113.133 366.549,111.517 367.989,109.926 369.43,108.361 370.87,106.821 372.31,105.308 373.751,103.821 375.191,102.36 376.631,100.926 378.072,99.518 \n",
       "  379.512,98.1369 380.953,96.7827 382.393,95.4556 383.833,94.1555 385.274,92.8827 386.714,91.6374 388.154,90.4195 389.595,89.2293 391.035,88.0668 392.475,86.9323 \n",
       "  393.916,85.8257 395.356,84.7472 396.797,83.6969 398.237,82.675 399.677,81.6814 401.118,80.7164 402.558,79.78 403.998,78.8723 405.439,77.9934 406.879,77.1434 \n",
       "  408.319,76.3223 409.76,75.5303 411.2,74.7674 412.641,74.0338 414.081,73.3294 415.521,72.6544 416.962,72.0088 418.402,71.3926 419.842,70.806 421.283,70.2491 \n",
       "  422.723,69.7217 424.163,69.2241 425.604,68.7563 427.044,68.3183 428.484,67.9101 429.925,67.5318 431.365,67.1834 432.806,66.865 434.246,66.5766 435.686,66.3183 \n",
       "  437.127,66.09 438.567,65.8917 440.007,65.7236 441.448,65.5855 442.888,65.4776 444.328,65.3999 445.769,65.3522 447.209,65.3348 448.65,65.3474 450.09,65.3903 \n",
       "  451.53,65.4632 452.971,65.5663 454.411,65.6996 455.851,65.8629 457.292,66.0564 458.732,66.2799 460.172,66.5335 461.613,66.8171 463.053,67.1307 464.494,67.4743 \n",
       "  465.934,67.8478 467.374,68.2513 468.815,68.6845 470.255,69.1476 471.695,69.6405 473.136,70.1631 474.576,70.7154 476.016,71.2972 477.457,71.9086 478.897,72.5496 \n",
       "  480.337,73.2199 481.778,73.9196 483.218,74.6486 484.659,75.4069 486.099,76.1942 487.539,77.0107 488.98,77.8561 490.42,78.7304 491.86,79.6335 493.301,80.5653 \n",
       "  494.741,81.5258 496.181,82.5148 497.622,83.5323 499.062,84.578 500.503,85.652 501.943,86.7541 503.383,87.8843 504.824,89.0423 506.264,90.2281 507.704,91.4416 \n",
       "  509.145,92.6826 510.585,93.951 512.025,95.2467 513.466,96.5696 514.906,97.9194 516.347,99.2962 517.787,100.7 519.227,102.13 520.668,103.587 522.108,105.07 \n",
       "  523.548,106.579 524.989,108.114 526.429,109.675 527.869,111.262 529.31,112.874 530.75,114.512 532.191,116.175 533.631,117.863 535.071,119.575 536.512,121.313 \n",
       "  537.952,123.075 539.392,124.862 540.833,126.673 542.273,128.507 543.713,130.366 545.154,132.248 546.594,134.154 548.034,136.083 549.475,138.035 550.915,140.01 \n",
       "  552.356,142.008 553.796,144.028 555.236,146.07 556.677,148.134 558.117,150.221 559.557,152.329 560.998,154.458 562.438,156.609 563.878,158.781 565.319,160.973 \n",
       "  566.759,163.186 568.2,165.42 569.64,167.673 571.08,169.947 572.521,172.24 573.961,174.553 575.401,176.885 576.842,179.236 578.282,181.605 579.722,183.994 \n",
       "  581.163,186.4 582.603,188.825 584.044,191.267 585.484,193.727 586.924,196.204 588.365,198.698 589.805,201.209 591.245,203.737 592.686,206.281 594.126,208.841 \n",
       "  595.566,211.417 597.007,214.008 598.447,216.615 599.888,219.236 601.328,221.873 602.768,224.524 604.209,227.189 605.649,229.868 607.089,232.561 608.53,235.267 \n",
       "  609.97,237.986 611.41,240.719 612.851,243.464 614.291,246.221 615.731,248.99 617.172,251.771 618.612,254.564 620.053,257.368 621.493,260.182 622.933,263.008 \n",
       "  624.374,265.844 625.814,268.689 627.254,271.545 628.695,274.41 630.135,277.285 631.575,280.168 633.016,283.061 634.456,285.961 635.897,288.87 637.337,291.786 \n",
       "  638.777,294.71 640.218,297.641 641.658,300.579 643.098,303.524 644.539,306.475 645.979,309.432 647.419,312.394 648.86,315.363 650.3,318.336 651.741,321.314 \n",
       "  653.181,324.297 654.621,327.284 656.062,330.275 657.502,333.27 658.942,336.268 660.383,339.269 661.823,342.273 663.263,345.279 664.704,348.287 666.144,351.297 \n",
       "  667.585,354.309 669.025,357.322 670.465,360.336 671.906,363.351 673.346,366.366 674.786,369.381 676.227,372.396 677.667,375.41 679.107,378.424 680.548,381.436 \n",
       "  681.988,384.447 683.428,387.456 684.869,390.463 686.309,393.468 687.75,396.469 689.19,399.468 690.63,402.464 692.071,405.456 693.511,408.445 694.951,411.429 \n",
       "  696.392,414.409 697.832,417.383 699.272,420.353 700.713,423.318 702.153,426.277 703.594,429.23 705.034,432.176 706.474,435.117 707.915,438.05 709.355,440.976 \n",
       "  710.795,443.895 712.236,446.806 713.676,449.709 715.116,452.604 716.557,455.49 717.997,458.368 719.438,461.236 720.878,464.095 722.318,466.944 723.759,469.783 \n",
       "  725.199,472.612 726.639,475.43 728.08,478.237 729.52,481.033 730.96,483.818 732.401,486.591 733.841,489.352 735.282,492.101 736.722,494.837 738.162,497.561 \n",
       "  739.603,500.271 741.043,502.969 742.483,505.652 743.924,508.322 745.364,510.977 746.804,513.618 748.245,516.245 749.685,518.856 751.125,521.452 752.566,524.033 \n",
       "  754.006,526.598 755.447,529.147 756.887,531.68 758.327,534.196 759.768,536.696 761.208,539.179 762.648,541.644 764.089,544.092 765.529,546.522 766.969,548.935 \n",
       "  768.41,551.329 769.85,553.704 771.291,556.061 772.731,558.399 774.171,560.718 775.612,563.017 777.052,565.297 778.492,567.557 779.933,569.797 781.373,572.017 \n",
       "  782.813,574.216 784.254,576.394 785.694,578.552 787.135,580.688 788.575,582.803 790.015,584.896 791.456,586.968 792.896,589.017 794.336,591.044 795.777,593.049 \n",
       "  797.217,595.031 798.657,596.991 800.098,598.927 801.538,600.84 802.978,602.73 804.419,604.596 805.859,606.438 807.3,608.257 808.74,610.051 810.18,611.821 \n",
       "  811.621,613.566 813.061,615.287 814.501,616.983 815.942,618.654 817.382,620.3 818.822,621.92 820.263,623.515 821.703,625.084 823.144,626.628 824.584,628.145 \n",
       "  826.024,629.637 827.465,631.102 828.905,632.54 830.345,633.952 831.786,635.338 833.226,636.696 834.666,638.028 836.107,639.332 837.547,640.609 838.988,641.859 \n",
       "  840.428,643.081 841.868,644.276 843.309,645.443 844.749,646.582 846.189,647.693 847.63,648.776 849.07,649.83 850.51,650.857 851.951,651.855 853.391,652.825 \n",
       "  854.832,653.766 856.272,654.678 857.712,655.561 859.153,656.416 860.593,657.242 862.033,658.038 863.474,658.806 864.914,659.544 866.354,660.253 867.795,660.933 \n",
       "  869.235,661.583 870.675,662.204 872.116,662.795 873.556,663.357 874.997,663.889 876.437,664.391 877.877,664.864 879.318,665.307 880.758,665.72 882.198,666.103 \n",
       "  883.639,666.456 885.079,666.779 886.519,667.072 887.96,667.335 889.4,667.568 890.841,667.771 892.281,667.944 893.721,668.087 895.162,668.2 896.602,668.282 \n",
       "  898.042,668.335 899.483,668.357 900.923,668.349 902.363,668.311 903.804,668.243 905.244,668.145 906.685,668.016 908.125,667.858 909.565,667.669 911.006,667.45 \n",
       "  912.446,667.202 913.886,666.923 915.327,666.614 916.767,666.275 918.207,665.906 919.648,665.508 921.088,665.079 922.529,664.621 923.969,664.133 925.409,663.615 \n",
       "  926.85,663.067 928.29,662.49 929.73,661.883 931.171,661.247 932.611,660.582 934.051,659.887 935.492,659.162 936.932,658.409 938.372,657.626 939.813,656.814 \n",
       "  941.253,655.973 942.694,655.104 944.134,654.205 945.574,653.278 947.015,652.322 948.455,651.337 949.895,650.324 951.336,649.283 952.776,648.214 954.216,647.116 \n",
       "  955.657,645.99 957.097,644.837 958.538,643.655 959.978,642.446 961.418,641.21 962.859,639.946 964.299,638.654 965.739,637.336 967.18,635.99 968.62,634.618 \n",
       "  970.06,633.218 971.501,631.792 972.941,630.34 974.382,628.861 975.822,627.356 977.262,625.825 978.703,624.268 980.143,622.686 981.583,621.077 983.024,619.444 \n",
       "  984.464,617.785 985.904,616.101 987.345,614.392 988.785,612.658 990.226,610.9 991.666,609.117 993.106,607.31 994.547,605.479 995.987,603.624 997.427,601.746 \n",
       "  998.868,599.844 1000.31,597.919 1001.75,595.97 1003.19,593.999 1004.63,592.005 1006.07,589.988 1007.51,587.949 1008.95,585.889 1010.39,583.806 1011.83,581.701 \n",
       "  1013.27,579.575 1014.71,577.428 1016.15,575.259 1017.59,573.07 1019.03,570.86 1020.47,568.63 1021.91,566.38 1023.35,564.109 1024.79,561.819 1026.23,559.51 \n",
       "  1027.67,557.181 1029.12,554.833 1030.56,552.466 1032,550.081 1033.44,547.677 1034.88,545.256 1036.32,542.816 1037.76,540.359 1039.2,537.884 1040.64,535.393 \n",
       "  1042.08,532.884 1043.52,530.359 1044.96,527.818 1046.4,525.261 1047.84,522.687 1049.28,520.098 1050.72,517.494 1052.16,514.875 1053.6,512.241 1055.04,509.592 \n",
       "  1056.48,506.929 1057.92,504.252 1059.36,501.562 1060.8,498.858 1062.24,496.14 1063.68,493.41 1065.12,490.667 1066.56,487.912 1068.01,485.145 1069.45,482.365 \n",
       "  1070.89,479.575 1072.33,476.773 1073.77,473.959 1075.21,471.136 1076.65,468.302 1078.09,465.457 1079.53,462.603 1080.97,459.739 1082.41,456.866 1083.85,453.984 \n",
       "  1085.29,451.093 1086.73,448.194 1088.17,445.287 1089.61,442.372 1091.05,439.449 1092.49,436.519 1093.93,433.582 1095.37,430.638 1096.81,427.688 1098.25,424.732 \n",
       "  1099.69,421.77 1101.13,418.803 1102.57,415.831 1104.01,412.853 1105.45,409.871 1106.89,406.885 1108.34,403.894 1109.78,400.9 1111.22,397.903 1112.66,394.902 \n",
       "  1114.1,391.899 1115.54,388.893 1116.98,385.885 1118.42,382.875 1119.86,379.863 1121.3,376.85 1122.74,373.836 1124.18,370.822 1125.62,367.807 \n",
       "  \"/>\n",
       "<path clip-path=\"url(#clip070)\" d=\"\n",
       "M961.829 172.231 L1120.8 172.231 L1120.8 68.5509 L961.829 68.5509  Z\n",
       "  \" fill=\"#ffffff\" fill-rule=\"evenodd\" fill-opacity=\"1\"/>\n",
       "<polyline clip-path=\"url(#clip070)\" style=\"stroke:#000000; stroke-linecap:round; stroke-linejoin:round; stroke-width:4; stroke-opacity:1; fill:none\" points=\"\n",
       "  961.829,172.231 1120.8,172.231 1120.8,68.5509 961.829,68.5509 961.829,172.231 \n",
       "  \"/>\n",
       "<polyline clip-path=\"url(#clip070)\" style=\"stroke:#009af9; stroke-linecap:round; stroke-linejoin:round; stroke-width:4; stroke-opacity:1; fill:none\" points=\"\n",
       "  972.483,120.391 1036.4,120.391 \n",
       "  \"/>\n",
       "<path clip-path=\"url(#clip070)\" d=\"M1060.9 140.078 Q1059.09 144.708 1057.38 146.12 Q1055.67 147.532 1052.8 147.532 L1049.4 147.532 L1049.4 143.967 L1051.9 143.967 Q1053.66 143.967 1054.63 143.134 Q1055.6 142.3 1056.78 139.199 L1057.54 137.254 L1047.06 111.745 L1051.57 111.745 L1059.67 132.023 L1067.78 111.745 L1072.29 111.745 L1060.9 140.078 Z\" fill=\"#000000\" fill-rule=\"evenodd\" fill-opacity=\"1\" /><path clip-path=\"url(#clip070)\" d=\"M1079.58 133.736 L1087.22 133.736 L1087.22 107.37 L1078.91 109.037 L1078.91 104.778 L1087.17 103.111 L1091.85 103.111 L1091.85 133.736 L1099.49 133.736 L1099.49 137.671 L1079.58 137.671 L1079.58 133.736 Z\" fill=\"#000000\" fill-rule=\"evenodd\" fill-opacity=\"1\" /><path clip-path=\"url(#clip070)\" d=\"\n",
       "M1393.94 686.448 L2352.76 686.448 L2352.76 47.2441 L1393.94 47.2441  Z\n",
       "  \" fill=\"#ffffff\" fill-rule=\"evenodd\" fill-opacity=\"1\"/>\n",
       "<defs>\n",
       "  <clipPath id=\"clip073\">\n",
       "    <rect x=\"1393\" y=\"47\" width=\"960\" height=\"640\"/>\n",
       "  </clipPath>\n",
       "</defs>\n",
       "<polyline clip-path=\"url(#clip073)\" style=\"stroke:#000000; stroke-linecap:round; stroke-linejoin:round; stroke-width:2; stroke-opacity:0.1; fill:none\" points=\"\n",
       "  1421.07,686.448 1421.07,47.2441 \n",
       "  \"/>\n",
       "<polyline clip-path=\"url(#clip073)\" style=\"stroke:#000000; stroke-linecap:round; stroke-linejoin:round; stroke-width:2; stroke-opacity:0.1; fill:none\" points=\"\n",
       "  1565.11,686.448 1565.11,47.2441 \n",
       "  \"/>\n",
       "<polyline clip-path=\"url(#clip073)\" style=\"stroke:#000000; stroke-linecap:round; stroke-linejoin:round; stroke-width:2; stroke-opacity:0.1; fill:none\" points=\"\n",
       "  1709.14,686.448 1709.14,47.2441 \n",
       "  \"/>\n",
       "<polyline clip-path=\"url(#clip073)\" style=\"stroke:#000000; stroke-linecap:round; stroke-linejoin:round; stroke-width:2; stroke-opacity:0.1; fill:none\" points=\"\n",
       "  1853.18,686.448 1853.18,47.2441 \n",
       "  \"/>\n",
       "<polyline clip-path=\"url(#clip073)\" style=\"stroke:#000000; stroke-linecap:round; stroke-linejoin:round; stroke-width:2; stroke-opacity:0.1; fill:none\" points=\"\n",
       "  1997.22,686.448 1997.22,47.2441 \n",
       "  \"/>\n",
       "<polyline clip-path=\"url(#clip073)\" style=\"stroke:#000000; stroke-linecap:round; stroke-linejoin:round; stroke-width:2; stroke-opacity:0.1; fill:none\" points=\"\n",
       "  2141.25,686.448 2141.25,47.2441 \n",
       "  \"/>\n",
       "<polyline clip-path=\"url(#clip073)\" style=\"stroke:#000000; stroke-linecap:round; stroke-linejoin:round; stroke-width:2; stroke-opacity:0.1; fill:none\" points=\"\n",
       "  2285.29,686.448 2285.29,47.2441 \n",
       "  \"/>\n",
       "<polyline clip-path=\"url(#clip070)\" style=\"stroke:#000000; stroke-linecap:round; stroke-linejoin:round; stroke-width:4; stroke-opacity:1; fill:none\" points=\"\n",
       "  1393.94,686.448 2352.76,686.448 \n",
       "  \"/>\n",
       "<polyline clip-path=\"url(#clip070)\" style=\"stroke:#000000; stroke-linecap:round; stroke-linejoin:round; stroke-width:4; stroke-opacity:1; fill:none\" points=\"\n",
       "  1421.07,686.448 1421.07,667.55 \n",
       "  \"/>\n",
       "<polyline clip-path=\"url(#clip070)\" style=\"stroke:#000000; stroke-linecap:round; stroke-linejoin:round; stroke-width:4; stroke-opacity:1; fill:none\" points=\"\n",
       "  1565.11,686.448 1565.11,667.55 \n",
       "  \"/>\n",
       "<polyline clip-path=\"url(#clip070)\" style=\"stroke:#000000; stroke-linecap:round; stroke-linejoin:round; stroke-width:4; stroke-opacity:1; fill:none\" points=\"\n",
       "  1709.14,686.448 1709.14,667.55 \n",
       "  \"/>\n",
       "<polyline clip-path=\"url(#clip070)\" style=\"stroke:#000000; stroke-linecap:round; stroke-linejoin:round; stroke-width:4; stroke-opacity:1; fill:none\" points=\"\n",
       "  1853.18,686.448 1853.18,667.55 \n",
       "  \"/>\n",
       "<polyline clip-path=\"url(#clip070)\" style=\"stroke:#000000; stroke-linecap:round; stroke-linejoin:round; stroke-width:4; stroke-opacity:1; fill:none\" points=\"\n",
       "  1997.22,686.448 1997.22,667.55 \n",
       "  \"/>\n",
       "<polyline clip-path=\"url(#clip070)\" style=\"stroke:#000000; stroke-linecap:round; stroke-linejoin:round; stroke-width:4; stroke-opacity:1; fill:none\" points=\"\n",
       "  2141.25,686.448 2141.25,667.55 \n",
       "  \"/>\n",
       "<polyline clip-path=\"url(#clip070)\" style=\"stroke:#000000; stroke-linecap:round; stroke-linejoin:round; stroke-width:4; stroke-opacity:1; fill:none\" points=\"\n",
       "  2285.29,686.448 2285.29,667.55 \n",
       "  \"/>\n",
       "<path clip-path=\"url(#clip070)\" d=\"M1421.07 717.367 Q1417.46 717.367 1415.63 720.931 Q1413.83 724.473 1413.83 731.603 Q1413.83 738.709 1415.63 742.274 Q1417.46 745.815 1421.07 745.815 Q1424.71 745.815 1426.51 742.274 Q1428.34 738.709 1428.34 731.603 Q1428.34 724.473 1426.51 720.931 Q1424.71 717.367 1421.07 717.367 M1421.07 713.663 Q1426.88 713.663 1429.94 718.269 Q1433.02 722.853 1433.02 731.603 Q1433.02 740.329 1429.94 744.936 Q1426.88 749.519 1421.07 749.519 Q1415.26 749.519 1412.18 744.936 Q1409.13 740.329 1409.13 731.603 Q1409.13 722.853 1412.18 718.269 Q1415.26 713.663 1421.07 713.663 Z\" fill=\"#000000\" fill-rule=\"evenodd\" fill-opacity=\"1\" /><path clip-path=\"url(#clip070)\" d=\"M1555.49 744.913 L1563.13 744.913 L1563.13 718.547 L1554.82 720.214 L1554.82 715.955 L1563.08 714.288 L1567.76 714.288 L1567.76 744.913 L1575.4 744.913 L1575.4 748.848 L1555.49 748.848 L1555.49 744.913 Z\" fill=\"#000000\" fill-rule=\"evenodd\" fill-opacity=\"1\" /><path clip-path=\"url(#clip070)\" d=\"M1703.8 744.913 L1720.12 744.913 L1720.12 748.848 L1698.17 748.848 L1698.17 744.913 Q1700.83 742.158 1705.42 737.528 Q1710.02 732.876 1711.2 731.533 Q1713.45 729.01 1714.33 727.274 Q1715.23 725.515 1715.23 723.825 Q1715.23 721.07 1713.29 719.334 Q1711.37 717.598 1708.27 717.598 Q1706.07 717.598 1703.61 718.362 Q1701.18 719.126 1698.4 720.677 L1698.4 715.955 Q1701.23 714.82 1703.68 714.242 Q1706.14 713.663 1708.17 713.663 Q1713.54 713.663 1716.74 716.348 Q1719.93 719.033 1719.93 723.524 Q1719.93 725.654 1719.12 727.575 Q1718.33 729.473 1716.23 732.066 Q1715.65 732.737 1712.55 735.954 Q1709.45 739.149 1703.8 744.913 Z\" fill=\"#000000\" fill-rule=\"evenodd\" fill-opacity=\"1\" /><path clip-path=\"url(#clip070)\" d=\"M1857.43 730.214 Q1860.79 730.931 1862.66 733.2 Q1864.56 735.468 1864.56 738.802 Q1864.56 743.917 1861.04 746.718 Q1857.52 749.519 1851.04 749.519 Q1848.86 749.519 1846.55 749.079 Q1844.26 748.663 1841.8 747.806 L1841.8 743.292 Q1843.75 744.427 1846.06 745.005 Q1848.38 745.584 1850.9 745.584 Q1855.3 745.584 1857.59 743.848 Q1859.91 742.112 1859.91 738.802 Q1859.91 735.746 1857.75 734.033 Q1855.62 732.297 1851.8 732.297 L1847.78 732.297 L1847.78 728.454 L1851.99 728.454 Q1855.44 728.454 1857.27 727.089 Q1859.1 725.7 1859.1 723.107 Q1859.1 720.445 1857.2 719.033 Q1855.32 717.598 1851.8 717.598 Q1849.88 717.598 1847.68 718.015 Q1845.48 718.431 1842.85 719.311 L1842.85 715.144 Q1845.51 714.404 1847.82 714.033 Q1850.16 713.663 1852.22 713.663 Q1857.54 713.663 1860.65 716.093 Q1863.75 718.501 1863.75 722.621 Q1863.75 725.492 1862.1 727.482 Q1860.46 729.45 1857.43 730.214 Z\" fill=\"#000000\" fill-rule=\"evenodd\" fill-opacity=\"1\" /><path clip-path=\"url(#clip070)\" d=\"M2000.23 718.362 L1988.42 736.811 L2000.23 736.811 L2000.23 718.362 M1999 714.288 L2004.88 714.288 L2004.88 736.811 L2009.81 736.811 L2009.81 740.7 L2004.88 740.7 L2004.88 748.848 L2000.23 748.848 L2000.23 740.7 L1984.62 740.7 L1984.62 736.186 L1999 714.288 Z\" fill=\"#000000\" fill-rule=\"evenodd\" fill-opacity=\"1\" /><path clip-path=\"url(#clip070)\" d=\"M2131.53 714.288 L2149.89 714.288 L2149.89 718.223 L2135.81 718.223 L2135.81 726.695 Q2136.83 726.348 2137.85 726.186 Q2138.87 726.001 2139.89 726.001 Q2145.67 726.001 2149.05 729.172 Q2152.43 732.343 2152.43 737.76 Q2152.43 743.339 2148.96 746.44 Q2145.49 749.519 2139.17 749.519 Q2136.99 749.519 2134.73 749.149 Q2132.48 748.778 2130.07 748.038 L2130.07 743.339 Q2132.16 744.473 2134.38 745.028 Q2136.6 745.584 2139.08 745.584 Q2143.08 745.584 2145.42 743.478 Q2147.76 741.371 2147.76 737.76 Q2147.76 734.149 2145.42 732.042 Q2143.08 729.936 2139.08 729.936 Q2137.2 729.936 2135.33 730.353 Q2133.48 730.769 2131.53 731.649 L2131.53 714.288 Z\" fill=\"#000000\" fill-rule=\"evenodd\" fill-opacity=\"1\" /><path clip-path=\"url(#clip070)\" d=\"M2285.69 729.704 Q2282.55 729.704 2280.69 731.857 Q2278.87 734.01 2278.87 737.76 Q2278.87 741.487 2280.69 743.663 Q2282.55 745.815 2285.69 745.815 Q2288.84 745.815 2290.67 743.663 Q2292.52 741.487 2292.52 737.76 Q2292.52 734.01 2290.67 731.857 Q2288.84 729.704 2285.69 729.704 M2294.98 715.052 L2294.98 719.311 Q2293.22 718.478 2291.41 718.038 Q2289.63 717.598 2287.87 717.598 Q2283.24 717.598 2280.79 720.723 Q2278.36 723.848 2278.01 730.167 Q2279.38 728.154 2281.44 727.089 Q2283.5 726.001 2285.97 726.001 Q2291.18 726.001 2294.19 729.172 Q2297.22 732.32 2297.22 737.76 Q2297.22 743.084 2294.07 746.302 Q2290.93 749.519 2285.69 749.519 Q2279.7 749.519 2276.53 744.936 Q2273.36 740.329 2273.36 731.603 Q2273.36 723.408 2277.25 718.547 Q2281.13 713.663 2287.69 713.663 Q2289.44 713.663 2291.23 714.01 Q2293.03 714.357 2294.98 715.052 Z\" fill=\"#000000\" fill-rule=\"evenodd\" fill-opacity=\"1\" /><polyline clip-path=\"url(#clip073)\" style=\"stroke:#000000; stroke-linecap:round; stroke-linejoin:round; stroke-width:2; stroke-opacity:0.1; fill:none\" points=\"\n",
       "  1393.94,668.358 2352.76,668.358 \n",
       "  \"/>\n",
       "<polyline clip-path=\"url(#clip073)\" style=\"stroke:#000000; stroke-linecap:round; stroke-linejoin:round; stroke-width:2; stroke-opacity:0.1; fill:none\" points=\"\n",
       "  1393.94,517.602 2352.76,517.602 \n",
       "  \"/>\n",
       "<polyline clip-path=\"url(#clip073)\" style=\"stroke:#000000; stroke-linecap:round; stroke-linejoin:round; stroke-width:2; stroke-opacity:0.1; fill:none\" points=\"\n",
       "  1393.94,366.846 2352.76,366.846 \n",
       "  \"/>\n",
       "<polyline clip-path=\"url(#clip073)\" style=\"stroke:#000000; stroke-linecap:round; stroke-linejoin:round; stroke-width:2; stroke-opacity:0.1; fill:none\" points=\"\n",
       "  1393.94,216.091 2352.76,216.091 \n",
       "  \"/>\n",
       "<polyline clip-path=\"url(#clip073)\" style=\"stroke:#000000; stroke-linecap:round; stroke-linejoin:round; stroke-width:2; stroke-opacity:0.1; fill:none\" points=\"\n",
       "  1393.94,65.3347 2352.76,65.3347 \n",
       "  \"/>\n",
       "<polyline clip-path=\"url(#clip070)\" style=\"stroke:#000000; stroke-linecap:round; stroke-linejoin:round; stroke-width:4; stroke-opacity:1; fill:none\" points=\"\n",
       "  1393.94,686.448 1393.94,47.2441 \n",
       "  \"/>\n",
       "<polyline clip-path=\"url(#clip070)\" style=\"stroke:#000000; stroke-linecap:round; stroke-linejoin:round; stroke-width:4; stroke-opacity:1; fill:none\" points=\"\n",
       "  1393.94,668.358 1412.83,668.358 \n",
       "  \"/>\n",
       "<polyline clip-path=\"url(#clip070)\" style=\"stroke:#000000; stroke-linecap:round; stroke-linejoin:round; stroke-width:4; stroke-opacity:1; fill:none\" points=\"\n",
       "  1393.94,517.602 1412.83,517.602 \n",
       "  \"/>\n",
       "<polyline clip-path=\"url(#clip070)\" style=\"stroke:#000000; stroke-linecap:round; stroke-linejoin:round; stroke-width:4; stroke-opacity:1; fill:none\" points=\"\n",
       "  1393.94,366.846 1412.83,366.846 \n",
       "  \"/>\n",
       "<polyline clip-path=\"url(#clip070)\" style=\"stroke:#000000; stroke-linecap:round; stroke-linejoin:round; stroke-width:4; stroke-opacity:1; fill:none\" points=\"\n",
       "  1393.94,216.091 1412.83,216.091 \n",
       "  \"/>\n",
       "<polyline clip-path=\"url(#clip070)\" style=\"stroke:#000000; stroke-linecap:round; stroke-linejoin:round; stroke-width:4; stroke-opacity:1; fill:none\" points=\"\n",
       "  1393.94,65.3347 1412.83,65.3347 \n",
       "  \"/>\n",
       "<path clip-path=\"url(#clip070)\" d=\"M1250.99 668.809 L1280.67 668.809 L1280.67 672.745 L1250.99 672.745 L1250.99 668.809 Z\" fill=\"#000000\" fill-rule=\"evenodd\" fill-opacity=\"1\" /><path clip-path=\"url(#clip070)\" d=\"M1291.57 681.703 L1299.21 681.703 L1299.21 655.337 L1290.9 657.004 L1290.9 652.745 L1299.16 651.078 L1303.84 651.078 L1303.84 681.703 L1311.48 681.703 L1311.48 685.638 L1291.57 685.638 L1291.57 681.703 Z\" fill=\"#000000\" fill-rule=\"evenodd\" fill-opacity=\"1\" /><path clip-path=\"url(#clip070)\" d=\"M1320.92 679.758 L1325.81 679.758 L1325.81 685.638 L1320.92 685.638 L1320.92 679.758 Z\" fill=\"#000000\" fill-rule=\"evenodd\" fill-opacity=\"1\" /><path clip-path=\"url(#clip070)\" d=\"M1345.99 654.157 Q1342.38 654.157 1340.55 657.722 Q1338.75 661.263 1338.75 668.393 Q1338.75 675.499 1340.55 679.064 Q1342.38 682.606 1345.99 682.606 Q1349.63 682.606 1351.43 679.064 Q1353.26 675.499 1353.26 668.393 Q1353.26 661.263 1351.43 657.722 Q1349.63 654.157 1345.99 654.157 M1345.99 650.453 Q1351.8 650.453 1354.86 655.06 Q1357.94 659.643 1357.94 668.393 Q1357.94 677.12 1354.86 681.726 Q1351.8 686.309 1345.99 686.309 Q1340.18 686.309 1337.1 681.726 Q1334.05 677.12 1334.05 668.393 Q1334.05 659.643 1337.1 655.06 Q1340.18 650.453 1345.99 650.453 Z\" fill=\"#000000\" fill-rule=\"evenodd\" fill-opacity=\"1\" /><path clip-path=\"url(#clip070)\" d=\"M1251.99 518.054 L1281.66 518.054 L1281.66 521.989 L1251.99 521.989 L1251.99 518.054 Z\" fill=\"#000000\" fill-rule=\"evenodd\" fill-opacity=\"1\" /><path clip-path=\"url(#clip070)\" d=\"M1301.76 503.401 Q1298.14 503.401 1296.32 506.966 Q1294.51 510.507 1294.51 517.637 Q1294.51 524.743 1296.32 528.308 Q1298.14 531.85 1301.76 531.85 Q1305.39 531.85 1307.2 528.308 Q1309.02 524.743 1309.02 517.637 Q1309.02 510.507 1307.2 506.966 Q1305.39 503.401 1301.76 503.401 M1301.76 499.697 Q1307.57 499.697 1310.62 504.304 Q1313.7 508.887 1313.7 517.637 Q1313.7 526.364 1310.62 530.97 Q1307.57 535.554 1301.76 535.554 Q1295.95 535.554 1292.87 530.97 Q1289.81 526.364 1289.81 517.637 Q1289.81 508.887 1292.87 504.304 Q1295.95 499.697 1301.76 499.697 Z\" fill=\"#000000\" fill-rule=\"evenodd\" fill-opacity=\"1\" /><path clip-path=\"url(#clip070)\" d=\"M1321.92 529.003 L1326.8 529.003 L1326.8 534.882 L1321.92 534.882 L1321.92 529.003 Z\" fill=\"#000000\" fill-rule=\"evenodd\" fill-opacity=\"1\" /><path clip-path=\"url(#clip070)\" d=\"M1337.03 500.322 L1355.39 500.322 L1355.39 504.257 L1341.32 504.257 L1341.32 512.73 Q1342.33 512.382 1343.35 512.22 Q1344.37 512.035 1345.39 512.035 Q1351.18 512.035 1354.56 515.206 Q1357.94 518.378 1357.94 523.794 Q1357.94 529.373 1354.46 532.475 Q1350.99 535.554 1344.67 535.554 Q1342.5 535.554 1340.23 535.183 Q1337.98 534.813 1335.58 534.072 L1335.58 529.373 Q1337.66 530.507 1339.88 531.063 Q1342.1 531.618 1344.58 531.618 Q1348.58 531.618 1350.92 529.512 Q1353.26 527.405 1353.26 523.794 Q1353.26 520.183 1350.92 518.077 Q1348.58 515.97 1344.58 515.97 Q1342.7 515.97 1340.83 516.387 Q1338.98 516.804 1337.03 517.683 L1337.03 500.322 Z\" fill=\"#000000\" fill-rule=\"evenodd\" fill-opacity=\"1\" /><path clip-path=\"url(#clip070)\" d=\"M1300.76 352.645 Q1297.15 352.645 1295.32 356.21 Q1293.52 359.751 1293.52 366.881 Q1293.52 373.988 1295.32 377.552 Q1297.15 381.094 1300.76 381.094 Q1304.39 381.094 1306.2 377.552 Q1308.03 373.988 1308.03 366.881 Q1308.03 359.751 1306.2 356.21 Q1304.39 352.645 1300.76 352.645 M1300.76 348.941 Q1306.57 348.941 1309.63 353.548 Q1312.7 358.131 1312.7 366.881 Q1312.7 375.608 1309.63 380.214 Q1306.57 384.798 1300.76 384.798 Q1294.95 384.798 1291.87 380.214 Q1288.82 375.608 1288.82 366.881 Q1288.82 358.131 1291.87 353.548 Q1294.95 348.941 1300.76 348.941 Z\" fill=\"#000000\" fill-rule=\"evenodd\" fill-opacity=\"1\" /><path clip-path=\"url(#clip070)\" d=\"M1320.92 378.247 L1325.81 378.247 L1325.81 384.126 L1320.92 384.126 L1320.92 378.247 Z\" fill=\"#000000\" fill-rule=\"evenodd\" fill-opacity=\"1\" /><path clip-path=\"url(#clip070)\" d=\"M1345.99 352.645 Q1342.38 352.645 1340.55 356.21 Q1338.75 359.751 1338.75 366.881 Q1338.75 373.988 1340.55 377.552 Q1342.38 381.094 1345.99 381.094 Q1349.63 381.094 1351.43 377.552 Q1353.26 373.988 1353.26 366.881 Q1353.26 359.751 1351.43 356.21 Q1349.63 352.645 1345.99 352.645 M1345.99 348.941 Q1351.8 348.941 1354.86 353.548 Q1357.94 358.131 1357.94 366.881 Q1357.94 375.608 1354.86 380.214 Q1351.8 384.798 1345.99 384.798 Q1340.18 384.798 1337.1 380.214 Q1334.05 375.608 1334.05 366.881 Q1334.05 358.131 1337.1 353.548 Q1340.18 348.941 1345.99 348.941 Z\" fill=\"#000000\" fill-rule=\"evenodd\" fill-opacity=\"1\" /><path clip-path=\"url(#clip070)\" d=\"M1301.76 201.889 Q1298.14 201.889 1296.32 205.454 Q1294.51 208.996 1294.51 216.125 Q1294.51 223.232 1296.32 226.796 Q1298.14 230.338 1301.76 230.338 Q1305.39 230.338 1307.2 226.796 Q1309.02 223.232 1309.02 216.125 Q1309.02 208.996 1307.2 205.454 Q1305.39 201.889 1301.76 201.889 M1301.76 198.186 Q1307.57 198.186 1310.62 202.792 Q1313.7 207.375 1313.7 216.125 Q1313.7 224.852 1310.62 229.459 Q1307.57 234.042 1301.76 234.042 Q1295.95 234.042 1292.87 229.459 Q1289.81 224.852 1289.81 216.125 Q1289.81 207.375 1292.87 202.792 Q1295.95 198.186 1301.76 198.186 Z\" fill=\"#000000\" fill-rule=\"evenodd\" fill-opacity=\"1\" /><path clip-path=\"url(#clip070)\" d=\"M1321.92 227.491 L1326.8 227.491 L1326.8 233.371 L1321.92 233.371 L1321.92 227.491 Z\" fill=\"#000000\" fill-rule=\"evenodd\" fill-opacity=\"1\" /><path clip-path=\"url(#clip070)\" d=\"M1337.03 198.811 L1355.39 198.811 L1355.39 202.746 L1341.32 202.746 L1341.32 211.218 Q1342.33 210.871 1343.35 210.709 Q1344.37 210.523 1345.39 210.523 Q1351.18 210.523 1354.56 213.695 Q1357.94 216.866 1357.94 222.283 Q1357.94 227.861 1354.46 230.963 Q1350.99 234.042 1344.67 234.042 Q1342.5 234.042 1340.23 233.671 Q1337.98 233.301 1335.58 232.56 L1335.58 227.861 Q1337.66 228.996 1339.88 229.551 Q1342.1 230.107 1344.58 230.107 Q1348.58 230.107 1350.92 228 Q1353.26 225.894 1353.26 222.283 Q1353.26 218.672 1350.92 216.565 Q1348.58 214.459 1344.58 214.459 Q1342.7 214.459 1340.83 214.875 Q1338.98 215.292 1337.03 216.172 L1337.03 198.811 Z\" fill=\"#000000\" fill-rule=\"evenodd\" fill-opacity=\"1\" /><path clip-path=\"url(#clip070)\" d=\"M1291.57 78.6795 L1299.21 78.6795 L1299.21 52.3139 L1290.9 53.9806 L1290.9 49.7213 L1299.16 48.0547 L1303.84 48.0547 L1303.84 78.6795 L1311.48 78.6795 L1311.48 82.6147 L1291.57 82.6147 L1291.57 78.6795 Z\" fill=\"#000000\" fill-rule=\"evenodd\" fill-opacity=\"1\" /><path clip-path=\"url(#clip070)\" d=\"M1320.92 76.7351 L1325.81 76.7351 L1325.81 82.6147 L1320.92 82.6147 L1320.92 76.7351 Z\" fill=\"#000000\" fill-rule=\"evenodd\" fill-opacity=\"1\" /><path clip-path=\"url(#clip070)\" d=\"M1345.99 51.1334 Q1342.38 51.1334 1340.55 54.6982 Q1338.75 58.2398 1338.75 65.3694 Q1338.75 72.4758 1340.55 76.0406 Q1342.38 79.5823 1345.99 79.5823 Q1349.63 79.5823 1351.43 76.0406 Q1353.26 72.4758 1353.26 65.3694 Q1353.26 58.2398 1351.43 54.6982 Q1349.63 51.1334 1345.99 51.1334 M1345.99 47.4297 Q1351.8 47.4297 1354.86 52.0361 Q1357.94 56.6194 1357.94 65.3694 Q1357.94 74.0962 1354.86 78.7027 Q1351.8 83.286 1345.99 83.286 Q1340.18 83.286 1337.1 78.7027 Q1334.05 74.0962 1334.05 65.3694 Q1334.05 56.6194 1337.1 52.0361 Q1340.18 47.4297 1345.99 47.4297 Z\" fill=\"#000000\" fill-rule=\"evenodd\" fill-opacity=\"1\" /><polyline clip-path=\"url(#clip073)\" style=\"stroke:#009af9; stroke-linecap:round; stroke-linejoin:round; stroke-width:4; stroke-opacity:1; fill:none\" points=\"\n",
       "  1421.07,366.846 1422.51,363.831 1423.95,360.817 1425.39,357.802 1426.83,354.789 1428.27,351.777 1429.71,348.767 1431.15,345.758 1432.6,342.751 1434.04,339.747 \n",
       "  1435.48,336.745 1436.92,333.747 1438.36,330.752 1439.8,327.76 1441.24,324.772 1442.68,321.789 1444.12,318.81 1445.56,315.836 1447,312.867 1448.44,309.903 \n",
       "  1449.88,306.945 1451.32,303.993 1452.76,301.048 1454.2,298.108 1455.64,295.176 1457.08,292.251 1458.52,289.334 1459.96,286.424 1461.4,283.522 1462.84,280.628 \n",
       "  1464.28,277.744 1465.72,274.868 1467.16,272.001 1468.6,269.144 1470.04,266.296 1471.49,263.459 1472.93,260.632 1474.37,257.815 1475.81,255.01 1477.25,252.215 \n",
       "  1478.69,249.432 1480.13,246.661 1481.57,243.902 1483.01,241.155 1484.45,238.421 1485.89,235.699 1487.33,232.991 1488.77,230.296 1490.21,227.615 1491.65,224.947 \n",
       "  1493.09,222.294 1494.53,219.655 1495.97,217.031 1497.41,214.422 1498.85,211.828 1500.29,209.25 1501.73,206.688 1503.17,204.141 1504.61,201.611 1506.05,199.097 \n",
       "  1507.49,196.6 1508.93,194.12 1510.37,191.657 1511.82,189.212 1513.26,186.785 1514.7,184.376 1516.14,181.984 1517.58,179.612 1519.02,177.258 1520.46,174.923 \n",
       "  1521.9,172.607 1523.34,170.311 1524.78,168.034 1526.22,165.777 1527.66,163.541 1529.1,161.324 1530.54,159.128 1531.98,156.953 1533.42,154.799 1534.86,152.667 \n",
       "  1536.3,150.555 1537.74,148.465 1539.18,146.397 1540.62,144.351 1542.06,142.328 1543.5,140.327 1544.94,138.348 1546.38,136.392 1547.82,134.46 1549.26,132.55 \n",
       "  1550.7,130.664 1552.15,128.802 1553.59,126.963 1555.03,125.149 1556.47,123.358 1557.91,121.592 1559.35,119.851 1560.79,118.134 1562.23,116.442 1563.67,114.775 \n",
       "  1565.11,113.133 1566.55,111.517 1567.99,109.926 1569.43,108.361 1570.87,106.821 1572.31,105.308 1573.75,103.821 1575.19,102.36 1576.63,100.926 1578.07,99.518 \n",
       "  1579.51,98.1369 1580.95,96.7827 1582.39,95.4556 1583.83,94.1555 1585.27,92.8827 1586.71,91.6374 1588.15,90.4195 1589.59,89.2293 1591.04,88.0668 1592.48,86.9323 \n",
       "  1593.92,85.8257 1595.36,84.7472 1596.8,83.6969 1598.24,82.675 1599.68,81.6814 1601.12,80.7164 1602.56,79.78 1604,78.8723 1605.44,77.9934 1606.88,77.1434 \n",
       "  1608.32,76.3223 1609.76,75.5303 1611.2,74.7674 1612.64,74.0338 1614.08,73.3294 1615.52,72.6544 1616.96,72.0088 1618.4,71.3926 1619.84,70.806 1621.28,70.2491 \n",
       "  1622.72,69.7217 1624.16,69.2241 1625.6,68.7563 1627.04,68.3183 1628.48,67.9101 1629.92,67.5318 1631.37,67.1834 1632.81,66.865 1634.25,66.5766 1635.69,66.3183 \n",
       "  1637.13,66.09 1638.57,65.8917 1640.01,65.7236 1641.45,65.5855 1642.89,65.4776 1644.33,65.3999 1645.77,65.3522 1647.21,65.3348 1648.65,65.3474 1650.09,65.3903 \n",
       "  1651.53,65.4632 1652.97,65.5663 1654.41,65.6996 1655.85,65.8629 1657.29,66.0564 1658.73,66.2799 1660.17,66.5335 1661.61,66.8171 1663.05,67.1307 1664.49,67.4743 \n",
       "  1665.93,67.8478 1667.37,68.2513 1668.81,68.6845 1670.25,69.1476 1671.7,69.6405 1673.14,70.1631 1674.58,70.7154 1676.02,71.2972 1677.46,71.9086 1678.9,72.5496 \n",
       "  1680.34,73.2199 1681.78,73.9196 1683.22,74.6486 1684.66,75.4069 1686.1,76.1942 1687.54,77.0107 1688.98,77.8561 1690.42,78.7304 1691.86,79.6335 1693.3,80.5653 \n",
       "  1694.74,81.5258 1696.18,82.5148 1697.62,83.5323 1699.06,84.578 1700.5,85.652 1701.94,86.7541 1703.38,87.8843 1704.82,89.0423 1706.26,90.2281 1707.7,91.4416 \n",
       "  1709.14,92.6826 1710.59,93.951 1712.03,95.2467 1713.47,96.5696 1714.91,97.9194 1716.35,99.2962 1717.79,100.7 1719.23,102.13 1720.67,103.587 1722.11,105.07 \n",
       "  1723.55,106.579 1724.99,108.114 1726.43,109.675 1727.87,111.262 1729.31,112.874 1730.75,114.512 1732.19,116.175 1733.63,117.863 1735.07,119.575 1736.51,121.313 \n",
       "  1737.95,123.075 1739.39,124.862 1740.83,126.673 1742.27,128.507 1743.71,130.366 1745.15,132.248 1746.59,134.154 1748.03,136.083 1749.47,138.035 1750.92,140.01 \n",
       "  1752.36,142.008 1753.8,144.028 1755.24,146.07 1756.68,148.134 1758.12,150.221 1759.56,152.329 1761,154.458 1762.44,156.609 1763.88,158.781 1765.32,160.973 \n",
       "  1766.76,163.186 1768.2,165.42 1769.64,167.673 1771.08,169.947 1772.52,172.24 1773.96,174.553 1775.4,176.885 1776.84,179.236 1778.28,181.605 1779.72,183.994 \n",
       "  1781.16,186.4 1782.6,188.825 1784.04,191.267 1785.48,193.727 1786.92,196.204 1788.36,198.698 1789.8,201.209 1791.25,203.737 1792.69,206.281 1794.13,208.841 \n",
       "  1795.57,211.417 1797.01,214.008 1798.45,216.615 1799.89,219.236 1801.33,221.873 1802.77,224.524 1804.21,227.189 1805.65,229.868 1807.09,232.561 1808.53,235.267 \n",
       "  1809.97,237.986 1811.41,240.719 1812.85,243.464 1814.29,246.221 1815.73,248.99 1817.17,251.771 1818.61,254.564 1820.05,257.368 1821.49,260.182 1822.93,263.008 \n",
       "  1824.37,265.844 1825.81,268.689 1827.25,271.545 1828.69,274.41 1830.14,277.285 1831.58,280.168 1833.02,283.061 1834.46,285.961 1835.9,288.87 1837.34,291.786 \n",
       "  1838.78,294.71 1840.22,297.641 1841.66,300.579 1843.1,303.524 1844.54,306.475 1845.98,309.432 1847.42,312.394 1848.86,315.363 1850.3,318.336 1851.74,321.314 \n",
       "  1853.18,324.297 1854.62,327.284 1856.06,330.275 1857.5,333.27 1858.94,336.268 1860.38,339.269 1861.82,342.273 1863.26,345.279 1864.7,348.287 1866.14,351.297 \n",
       "  1867.58,354.309 1869.02,357.322 1870.47,360.336 1871.91,363.351 1873.35,366.366 1874.79,369.381 1876.23,372.396 1877.67,375.41 1879.11,378.424 1880.55,381.436 \n",
       "  1881.99,384.447 1883.43,387.456 1884.87,390.463 1886.31,393.468 1887.75,396.469 1889.19,399.468 1890.63,402.464 1892.07,405.456 1893.51,408.445 1894.95,411.429 \n",
       "  1896.39,414.409 1897.83,417.383 1899.27,420.353 1900.71,423.318 1902.15,426.277 1903.59,429.23 1905.03,432.176 1906.47,435.117 1907.91,438.05 1909.35,440.976 \n",
       "  1910.8,443.895 1912.24,446.806 1913.68,449.709 1915.12,452.604 1916.56,455.49 1918,458.368 1919.44,461.236 1920.88,464.095 1922.32,466.944 1923.76,469.783 \n",
       "  1925.2,472.612 1926.64,475.43 1928.08,478.237 1929.52,481.033 1930.96,483.818 1932.4,486.591 1933.84,489.352 1935.28,492.101 1936.72,494.837 1938.16,497.561 \n",
       "  1939.6,500.271 1941.04,502.969 1942.48,505.652 1943.92,508.322 1945.36,510.977 1946.8,513.618 1948.24,516.245 1949.69,518.856 1951.13,521.452 1952.57,524.033 \n",
       "  1954.01,526.598 1955.45,529.147 1956.89,531.68 1958.33,534.196 1959.77,536.696 1961.21,539.179 1962.65,541.644 1964.09,544.092 1965.53,546.522 1966.97,548.935 \n",
       "  1968.41,551.329 1969.85,553.704 1971.29,556.061 1972.73,558.399 1974.17,560.718 1975.61,563.017 1977.05,565.297 1978.49,567.557 1979.93,569.797 1981.37,572.017 \n",
       "  1982.81,574.216 1984.25,576.394 1985.69,578.552 1987.13,580.688 1988.57,582.803 1990.02,584.896 1991.46,586.968 1992.9,589.017 1994.34,591.044 1995.78,593.049 \n",
       "  1997.22,595.031 1998.66,596.991 2000.1,598.927 2001.54,600.84 2002.98,602.73 2004.42,604.596 2005.86,606.438 2007.3,608.257 2008.74,610.051 2010.18,611.821 \n",
       "  2011.62,613.566 2013.06,615.287 2014.5,616.983 2015.94,618.654 2017.38,620.3 2018.82,621.92 2020.26,623.515 2021.7,625.084 2023.14,626.628 2024.58,628.145 \n",
       "  2026.02,629.637 2027.46,631.102 2028.91,632.54 2030.35,633.952 2031.79,635.338 2033.23,636.696 2034.67,638.028 2036.11,639.332 2037.55,640.609 2038.99,641.859 \n",
       "  2040.43,643.081 2041.87,644.276 2043.31,645.443 2044.75,646.582 2046.19,647.693 2047.63,648.776 2049.07,649.83 2050.51,650.857 2051.95,651.855 2053.39,652.825 \n",
       "  2054.83,653.766 2056.27,654.678 2057.71,655.561 2059.15,656.416 2060.59,657.242 2062.03,658.038 2063.47,658.806 2064.91,659.544 2066.35,660.253 2067.79,660.933 \n",
       "  2069.24,661.583 2070.68,662.204 2072.12,662.795 2073.56,663.357 2075,663.889 2076.44,664.391 2077.88,664.864 2079.32,665.307 2080.76,665.72 2082.2,666.103 \n",
       "  2083.64,666.456 2085.08,666.779 2086.52,667.072 2087.96,667.335 2089.4,667.568 2090.84,667.771 2092.28,667.944 2093.72,668.087 2095.16,668.2 2096.6,668.282 \n",
       "  2098.04,668.335 2099.48,668.357 2100.92,668.349 2102.36,668.311 2103.8,668.243 2105.24,668.145 2106.68,668.016 2108.12,667.858 2109.57,667.669 2111.01,667.45 \n",
       "  2112.45,667.202 2113.89,666.923 2115.33,666.614 2116.77,666.275 2118.21,665.906 2119.65,665.508 2121.09,665.079 2122.53,664.621 2123.97,664.133 2125.41,663.615 \n",
       "  2126.85,663.067 2128.29,662.49 2129.73,661.883 2131.17,661.247 2132.61,660.582 2134.05,659.887 2135.49,659.162 2136.93,658.409 2138.37,657.626 2139.81,656.814 \n",
       "  2141.25,655.973 2142.69,655.104 2144.13,654.205 2145.57,653.278 2147.01,652.322 2148.46,651.337 2149.9,650.324 2151.34,649.283 2152.78,648.214 2154.22,647.116 \n",
       "  2155.66,645.99 2157.1,644.837 2158.54,643.655 2159.98,642.446 2161.42,641.21 2162.86,639.946 2164.3,638.654 2165.74,637.336 2167.18,635.99 2168.62,634.618 \n",
       "  2170.06,633.218 2171.5,631.792 2172.94,630.34 2174.38,628.861 2175.82,627.356 2177.26,625.825 2178.7,624.268 2180.14,622.686 2181.58,621.077 2183.02,619.444 \n",
       "  2184.46,617.785 2185.9,616.101 2187.34,614.392 2188.79,612.658 2190.23,610.9 2191.67,609.117 2193.11,607.31 2194.55,605.479 2195.99,603.624 2197.43,601.746 \n",
       "  2198.87,599.844 2200.31,597.919 2201.75,595.97 2203.19,593.999 2204.63,592.005 2206.07,589.988 2207.51,587.949 2208.95,585.889 2210.39,583.806 2211.83,581.701 \n",
       "  2213.27,579.575 2214.71,577.428 2216.15,575.259 2217.59,573.07 2219.03,570.86 2220.47,568.63 2221.91,566.38 2223.35,564.109 2224.79,561.819 2226.23,559.51 \n",
       "  2227.67,557.181 2229.12,554.833 2230.56,552.466 2232,550.081 2233.44,547.677 2234.88,545.256 2236.32,542.816 2237.76,540.359 2239.2,537.884 2240.64,535.393 \n",
       "  2242.08,532.884 2243.52,530.359 2244.96,527.818 2246.4,525.261 2247.84,522.687 2249.28,520.098 2250.72,517.494 2252.16,514.875 2253.6,512.241 2255.04,509.592 \n",
       "  2256.48,506.929 2257.92,504.252 2259.36,501.562 2260.8,498.858 2262.24,496.14 2263.68,493.41 2265.12,490.667 2266.56,487.912 2268.01,485.145 2269.45,482.365 \n",
       "  2270.89,479.575 2272.33,476.773 2273.77,473.959 2275.21,471.136 2276.65,468.302 2278.09,465.457 2279.53,462.603 2280.97,459.739 2282.41,456.866 2283.85,453.984 \n",
       "  2285.29,451.093 2286.73,448.194 2288.17,445.287 2289.61,442.372 2291.05,439.449 2292.49,436.519 2293.93,433.582 2295.37,430.638 2296.81,427.688 2298.25,424.732 \n",
       "  2299.69,421.77 2301.13,418.803 2302.57,415.831 2304.01,412.853 2305.45,409.871 2306.89,406.885 2308.34,403.894 2309.78,400.9 2311.22,397.903 2312.66,394.902 \n",
       "  2314.1,391.899 2315.54,388.893 2316.98,385.885 2318.42,382.875 2319.86,379.863 2321.3,376.85 2322.74,373.836 2324.18,370.822 2325.62,367.807 \n",
       "  \"/>\n",
       "<path clip-path=\"url(#clip070)\" d=\"\n",
       "M2161.83 172.231 L2320.8 172.231 L2320.8 68.5509 L2161.83 68.5509  Z\n",
       "  \" fill=\"#ffffff\" fill-rule=\"evenodd\" fill-opacity=\"1\"/>\n",
       "<polyline clip-path=\"url(#clip070)\" style=\"stroke:#000000; stroke-linecap:round; stroke-linejoin:round; stroke-width:4; stroke-opacity:1; fill:none\" points=\"\n",
       "  2161.83,172.231 2320.8,172.231 2320.8,68.5509 2161.83,68.5509 2161.83,172.231 \n",
       "  \"/>\n",
       "<polyline clip-path=\"url(#clip070)\" style=\"stroke:#009af9; stroke-linecap:round; stroke-linejoin:round; stroke-width:4; stroke-opacity:1; fill:none\" points=\"\n",
       "  2172.48,120.391 2236.4,120.391 \n",
       "  \"/>\n",
       "<path clip-path=\"url(#clip070)\" d=\"M2260.9 140.078 Q2259.09 144.708 2257.38 146.12 Q2255.67 147.532 2252.8 147.532 L2249.4 147.532 L2249.4 143.967 L2251.9 143.967 Q2253.66 143.967 2254.63 143.134 Q2255.6 142.3 2256.78 139.199 L2257.54 137.254 L2247.06 111.745 L2251.57 111.745 L2259.67 132.023 L2267.78 111.745 L2272.29 111.745 L2260.9 140.078 Z\" fill=\"#000000\" fill-rule=\"evenodd\" fill-opacity=\"1\" /><path clip-path=\"url(#clip070)\" d=\"M2279.58 133.736 L2287.22 133.736 L2287.22 107.37 L2278.91 109.037 L2278.91 104.778 L2287.17 103.111 L2291.85 103.111 L2291.85 133.736 L2299.49 133.736 L2299.49 137.671 L2279.58 137.671 L2279.58 133.736 Z\" fill=\"#000000\" fill-rule=\"evenodd\" fill-opacity=\"1\" /><path clip-path=\"url(#clip070)\" d=\"\n",
       "M193.936 1486.45 L1152.76 1486.45 L1152.76 847.244 L193.936 847.244  Z\n",
       "  \" fill=\"#ffffff\" fill-rule=\"evenodd\" fill-opacity=\"1\"/>\n",
       "<defs>\n",
       "  <clipPath id=\"clip074\">\n",
       "    <rect x=\"193\" y=\"847\" width=\"960\" height=\"640\"/>\n",
       "  </clipPath>\n",
       "</defs>\n",
       "<polyline clip-path=\"url(#clip074)\" style=\"stroke:#000000; stroke-linecap:round; stroke-linejoin:round; stroke-width:2; stroke-opacity:0.1; fill:none\" points=\"\n",
       "  221.072,1486.45 221.072,847.244 \n",
       "  \"/>\n",
       "<polyline clip-path=\"url(#clip074)\" style=\"stroke:#000000; stroke-linecap:round; stroke-linejoin:round; stroke-width:2; stroke-opacity:0.1; fill:none\" points=\"\n",
       "  365.109,1486.45 365.109,847.244 \n",
       "  \"/>\n",
       "<polyline clip-path=\"url(#clip074)\" style=\"stroke:#000000; stroke-linecap:round; stroke-linejoin:round; stroke-width:2; stroke-opacity:0.1; fill:none\" points=\"\n",
       "  509.145,1486.45 509.145,847.244 \n",
       "  \"/>\n",
       "<polyline clip-path=\"url(#clip074)\" style=\"stroke:#000000; stroke-linecap:round; stroke-linejoin:round; stroke-width:2; stroke-opacity:0.1; fill:none\" points=\"\n",
       "  653.181,1486.45 653.181,847.244 \n",
       "  \"/>\n",
       "<polyline clip-path=\"url(#clip074)\" style=\"stroke:#000000; stroke-linecap:round; stroke-linejoin:round; stroke-width:2; stroke-opacity:0.1; fill:none\" points=\"\n",
       "  797.217,1486.45 797.217,847.244 \n",
       "  \"/>\n",
       "<polyline clip-path=\"url(#clip074)\" style=\"stroke:#000000; stroke-linecap:round; stroke-linejoin:round; stroke-width:2; stroke-opacity:0.1; fill:none\" points=\"\n",
       "  941.253,1486.45 941.253,847.244 \n",
       "  \"/>\n",
       "<polyline clip-path=\"url(#clip074)\" style=\"stroke:#000000; stroke-linecap:round; stroke-linejoin:round; stroke-width:2; stroke-opacity:0.1; fill:none\" points=\"\n",
       "  1085.29,1486.45 1085.29,847.244 \n",
       "  \"/>\n",
       "<polyline clip-path=\"url(#clip070)\" style=\"stroke:#000000; stroke-linecap:round; stroke-linejoin:round; stroke-width:4; stroke-opacity:1; fill:none\" points=\"\n",
       "  193.936,1486.45 1152.76,1486.45 \n",
       "  \"/>\n",
       "<polyline clip-path=\"url(#clip070)\" style=\"stroke:#000000; stroke-linecap:round; stroke-linejoin:round; stroke-width:4; stroke-opacity:1; fill:none\" points=\"\n",
       "  221.072,1486.45 221.072,1467.55 \n",
       "  \"/>\n",
       "<polyline clip-path=\"url(#clip070)\" style=\"stroke:#000000; stroke-linecap:round; stroke-linejoin:round; stroke-width:4; stroke-opacity:1; fill:none\" points=\"\n",
       "  365.109,1486.45 365.109,1467.55 \n",
       "  \"/>\n",
       "<polyline clip-path=\"url(#clip070)\" style=\"stroke:#000000; stroke-linecap:round; stroke-linejoin:round; stroke-width:4; stroke-opacity:1; fill:none\" points=\"\n",
       "  509.145,1486.45 509.145,1467.55 \n",
       "  \"/>\n",
       "<polyline clip-path=\"url(#clip070)\" style=\"stroke:#000000; stroke-linecap:round; stroke-linejoin:round; stroke-width:4; stroke-opacity:1; fill:none\" points=\"\n",
       "  653.181,1486.45 653.181,1467.55 \n",
       "  \"/>\n",
       "<polyline clip-path=\"url(#clip070)\" style=\"stroke:#000000; stroke-linecap:round; stroke-linejoin:round; stroke-width:4; stroke-opacity:1; fill:none\" points=\"\n",
       "  797.217,1486.45 797.217,1467.55 \n",
       "  \"/>\n",
       "<polyline clip-path=\"url(#clip070)\" style=\"stroke:#000000; stroke-linecap:round; stroke-linejoin:round; stroke-width:4; stroke-opacity:1; fill:none\" points=\"\n",
       "  941.253,1486.45 941.253,1467.55 \n",
       "  \"/>\n",
       "<polyline clip-path=\"url(#clip070)\" style=\"stroke:#000000; stroke-linecap:round; stroke-linejoin:round; stroke-width:4; stroke-opacity:1; fill:none\" points=\"\n",
       "  1085.29,1486.45 1085.29,1467.55 \n",
       "  \"/>\n",
       "<path clip-path=\"url(#clip070)\" d=\"M221.072 1517.37 Q217.461 1517.37 215.633 1520.93 Q213.827 1524.47 213.827 1531.6 Q213.827 1538.71 215.633 1542.27 Q217.461 1545.82 221.072 1545.82 Q224.707 1545.82 226.512 1542.27 Q228.341 1538.71 228.341 1531.6 Q228.341 1524.47 226.512 1520.93 Q224.707 1517.37 221.072 1517.37 M221.072 1513.66 Q226.883 1513.66 229.938 1518.27 Q233.017 1522.85 233.017 1531.6 Q233.017 1540.33 229.938 1544.94 Q226.883 1549.52 221.072 1549.52 Q215.262 1549.52 212.184 1544.94 Q209.128 1540.33 209.128 1531.6 Q209.128 1522.85 212.184 1518.27 Q215.262 1513.66 221.072 1513.66 Z\" fill=\"#000000\" fill-rule=\"evenodd\" fill-opacity=\"1\" /><path clip-path=\"url(#clip070)\" d=\"M355.491 1544.91 L363.129 1544.91 L363.129 1518.55 L354.819 1520.21 L354.819 1515.95 L363.083 1514.29 L367.759 1514.29 L367.759 1544.91 L375.398 1544.91 L375.398 1548.85 L355.491 1548.85 L355.491 1544.91 Z\" fill=\"#000000\" fill-rule=\"evenodd\" fill-opacity=\"1\" /><path clip-path=\"url(#clip070)\" d=\"M503.798 1544.91 L520.117 1544.91 L520.117 1548.85 L498.173 1548.85 L498.173 1544.91 Q500.835 1542.16 505.418 1537.53 Q510.024 1532.88 511.205 1531.53 Q513.45 1529.01 514.33 1527.27 Q515.233 1525.51 515.233 1523.82 Q515.233 1521.07 513.288 1519.33 Q511.367 1517.6 508.265 1517.6 Q506.066 1517.6 503.612 1518.36 Q501.182 1519.13 498.404 1520.68 L498.404 1515.95 Q501.228 1514.82 503.682 1514.24 Q506.135 1513.66 508.173 1513.66 Q513.543 1513.66 516.737 1516.35 Q519.932 1519.03 519.932 1523.52 Q519.932 1525.65 519.122 1527.57 Q518.334 1529.47 516.228 1532.07 Q515.649 1532.74 512.547 1535.95 Q509.446 1539.15 503.798 1544.91 Z\" fill=\"#000000\" fill-rule=\"evenodd\" fill-opacity=\"1\" /><path clip-path=\"url(#clip070)\" d=\"M657.429 1530.21 Q660.785 1530.93 662.66 1533.2 Q664.558 1535.47 664.558 1538.8 Q664.558 1543.92 661.04 1546.72 Q657.521 1549.52 651.04 1549.52 Q648.864 1549.52 646.549 1549.08 Q644.257 1548.66 641.804 1547.81 L641.804 1543.29 Q643.748 1544.43 646.063 1545.01 Q648.378 1545.58 650.901 1545.58 Q655.299 1545.58 657.591 1543.85 Q659.905 1542.11 659.905 1538.8 Q659.905 1535.75 657.753 1534.03 Q655.623 1532.3 651.804 1532.3 L647.776 1532.3 L647.776 1528.45 L651.989 1528.45 Q655.438 1528.45 657.267 1527.09 Q659.095 1525.7 659.095 1523.11 Q659.095 1520.45 657.197 1519.03 Q655.322 1517.6 651.804 1517.6 Q649.882 1517.6 647.683 1518.01 Q645.484 1518.43 642.845 1519.31 L642.845 1515.14 Q645.507 1514.4 647.822 1514.03 Q650.16 1513.66 652.22 1513.66 Q657.544 1513.66 660.646 1516.09 Q663.748 1518.5 663.748 1522.62 Q663.748 1525.49 662.104 1527.48 Q660.461 1529.45 657.429 1530.21 Z\" fill=\"#000000\" fill-rule=\"evenodd\" fill-opacity=\"1\" /><path clip-path=\"url(#clip070)\" d=\"M800.226 1518.36 L788.421 1536.81 L800.226 1536.81 L800.226 1518.36 M798.999 1514.29 L804.879 1514.29 L804.879 1536.81 L809.81 1536.81 L809.81 1540.7 L804.879 1540.7 L804.879 1548.85 L800.226 1548.85 L800.226 1540.7 L784.625 1540.7 L784.625 1536.19 L798.999 1514.29 Z\" fill=\"#000000\" fill-rule=\"evenodd\" fill-opacity=\"1\" /><path clip-path=\"url(#clip070)\" d=\"M931.531 1514.29 L949.887 1514.29 L949.887 1518.22 L935.813 1518.22 L935.813 1526.7 Q936.832 1526.35 937.85 1526.19 Q938.869 1526 939.887 1526 Q945.674 1526 949.054 1529.17 Q952.434 1532.34 952.434 1537.76 Q952.434 1543.34 948.962 1546.44 Q945.489 1549.52 939.17 1549.52 Q936.994 1549.52 934.725 1549.15 Q932.48 1548.78 930.073 1548.04 L930.073 1543.34 Q932.156 1544.47 934.378 1545.03 Q936.6 1545.58 939.077 1545.58 Q943.082 1545.58 945.42 1543.48 Q947.758 1541.37 947.758 1537.76 Q947.758 1534.15 945.42 1532.04 Q943.082 1529.94 939.077 1529.94 Q937.202 1529.94 935.327 1530.35 Q933.475 1530.77 931.531 1531.65 L931.531 1514.29 Z\" fill=\"#000000\" fill-rule=\"evenodd\" fill-opacity=\"1\" /><path clip-path=\"url(#clip070)\" d=\"M1085.69 1529.7 Q1082.55 1529.7 1080.69 1531.86 Q1078.87 1534.01 1078.87 1537.76 Q1078.87 1541.49 1080.69 1543.66 Q1082.55 1545.82 1085.69 1545.82 Q1088.84 1545.82 1090.67 1543.66 Q1092.52 1541.49 1092.52 1537.76 Q1092.52 1534.01 1090.67 1531.86 Q1088.84 1529.7 1085.69 1529.7 M1094.98 1515.05 L1094.98 1519.31 Q1093.22 1518.48 1091.41 1518.04 Q1089.63 1517.6 1087.87 1517.6 Q1083.24 1517.6 1080.79 1520.72 Q1078.36 1523.85 1078.01 1530.17 Q1079.38 1528.15 1081.44 1527.09 Q1083.5 1526 1085.97 1526 Q1091.18 1526 1094.19 1529.17 Q1097.22 1532.32 1097.22 1537.76 Q1097.22 1543.08 1094.07 1546.3 Q1090.93 1549.52 1085.69 1549.52 Q1079.7 1549.52 1076.53 1544.94 Q1073.36 1540.33 1073.36 1531.6 Q1073.36 1523.41 1077.25 1518.55 Q1081.13 1513.66 1087.69 1513.66 Q1089.44 1513.66 1091.23 1514.01 Q1093.03 1514.36 1094.98 1515.05 Z\" fill=\"#000000\" fill-rule=\"evenodd\" fill-opacity=\"1\" /><polyline clip-path=\"url(#clip074)\" style=\"stroke:#000000; stroke-linecap:round; stroke-linejoin:round; stroke-width:2; stroke-opacity:0.1; fill:none\" points=\"\n",
       "  193.936,1468.36 1152.76,1468.36 \n",
       "  \"/>\n",
       "<polyline clip-path=\"url(#clip074)\" style=\"stroke:#000000; stroke-linecap:round; stroke-linejoin:round; stroke-width:2; stroke-opacity:0.1; fill:none\" points=\"\n",
       "  193.936,1317.6 1152.76,1317.6 \n",
       "  \"/>\n",
       "<polyline clip-path=\"url(#clip074)\" style=\"stroke:#000000; stroke-linecap:round; stroke-linejoin:round; stroke-width:2; stroke-opacity:0.1; fill:none\" points=\"\n",
       "  193.936,1166.85 1152.76,1166.85 \n",
       "  \"/>\n",
       "<polyline clip-path=\"url(#clip074)\" style=\"stroke:#000000; stroke-linecap:round; stroke-linejoin:round; stroke-width:2; stroke-opacity:0.1; fill:none\" points=\"\n",
       "  193.936,1016.09 1152.76,1016.09 \n",
       "  \"/>\n",
       "<polyline clip-path=\"url(#clip074)\" style=\"stroke:#000000; stroke-linecap:round; stroke-linejoin:round; stroke-width:2; stroke-opacity:0.1; fill:none\" points=\"\n",
       "  193.936,865.335 1152.76,865.335 \n",
       "  \"/>\n",
       "<polyline clip-path=\"url(#clip070)\" style=\"stroke:#000000; stroke-linecap:round; stroke-linejoin:round; stroke-width:4; stroke-opacity:1; fill:none\" points=\"\n",
       "  193.936,1486.45 193.936,847.244 \n",
       "  \"/>\n",
       "<polyline clip-path=\"url(#clip070)\" style=\"stroke:#000000; stroke-linecap:round; stroke-linejoin:round; stroke-width:4; stroke-opacity:1; fill:none\" points=\"\n",
       "  193.936,1468.36 212.834,1468.36 \n",
       "  \"/>\n",
       "<polyline clip-path=\"url(#clip070)\" style=\"stroke:#000000; stroke-linecap:round; stroke-linejoin:round; stroke-width:4; stroke-opacity:1; fill:none\" points=\"\n",
       "  193.936,1317.6 212.834,1317.6 \n",
       "  \"/>\n",
       "<polyline clip-path=\"url(#clip070)\" style=\"stroke:#000000; stroke-linecap:round; stroke-linejoin:round; stroke-width:4; stroke-opacity:1; fill:none\" points=\"\n",
       "  193.936,1166.85 212.834,1166.85 \n",
       "  \"/>\n",
       "<polyline clip-path=\"url(#clip070)\" style=\"stroke:#000000; stroke-linecap:round; stroke-linejoin:round; stroke-width:4; stroke-opacity:1; fill:none\" points=\"\n",
       "  193.936,1016.09 212.834,1016.09 \n",
       "  \"/>\n",
       "<polyline clip-path=\"url(#clip070)\" style=\"stroke:#000000; stroke-linecap:round; stroke-linejoin:round; stroke-width:4; stroke-opacity:1; fill:none\" points=\"\n",
       "  193.936,865.335 212.834,865.335 \n",
       "  \"/>\n",
       "<path clip-path=\"url(#clip070)\" d=\"M50.9921 1468.81 L80.6679 1468.81 L80.6679 1472.74 L50.9921 1472.74 L50.9921 1468.81 Z\" fill=\"#000000\" fill-rule=\"evenodd\" fill-opacity=\"1\" /><path clip-path=\"url(#clip070)\" d=\"M91.5706 1481.7 L99.2095 1481.7 L99.2095 1455.34 L90.8993 1457 L90.8993 1452.74 L99.1632 1451.08 L103.839 1451.08 L103.839 1481.7 L111.478 1481.7 L111.478 1485.64 L91.5706 1485.64 L91.5706 1481.7 Z\" fill=\"#000000\" fill-rule=\"evenodd\" fill-opacity=\"1\" /><path clip-path=\"url(#clip070)\" d=\"M120.922 1479.76 L125.807 1479.76 L125.807 1485.64 L120.922 1485.64 L120.922 1479.76 Z\" fill=\"#000000\" fill-rule=\"evenodd\" fill-opacity=\"1\" /><path clip-path=\"url(#clip070)\" d=\"M145.992 1454.16 Q142.381 1454.16 140.552 1457.72 Q138.746 1461.26 138.746 1468.39 Q138.746 1475.5 140.552 1479.06 Q142.381 1482.61 145.992 1482.61 Q149.626 1482.61 151.431 1479.06 Q153.26 1475.5 153.26 1468.39 Q153.26 1461.26 151.431 1457.72 Q149.626 1454.16 145.992 1454.16 M145.992 1450.45 Q151.802 1450.45 154.857 1455.06 Q157.936 1459.64 157.936 1468.39 Q157.936 1477.12 154.857 1481.73 Q151.802 1486.31 145.992 1486.31 Q140.181 1486.31 137.103 1481.73 Q134.047 1477.12 134.047 1468.39 Q134.047 1459.64 137.103 1455.06 Q140.181 1450.45 145.992 1450.45 Z\" fill=\"#000000\" fill-rule=\"evenodd\" fill-opacity=\"1\" /><path clip-path=\"url(#clip070)\" d=\"M51.9875 1318.05 L81.6633 1318.05 L81.6633 1321.99 L51.9875 1321.99 L51.9875 1318.05 Z\" fill=\"#000000\" fill-rule=\"evenodd\" fill-opacity=\"1\" /><path clip-path=\"url(#clip070)\" d=\"M101.756 1303.4 Q98.1447 1303.4 96.316 1306.97 Q94.5104 1310.51 94.5104 1317.64 Q94.5104 1324.74 96.316 1328.31 Q98.1447 1331.85 101.756 1331.85 Q105.39 1331.85 107.196 1328.31 Q109.024 1324.74 109.024 1317.64 Q109.024 1310.51 107.196 1306.97 Q105.39 1303.4 101.756 1303.4 M101.756 1299.7 Q107.566 1299.7 110.621 1304.3 Q113.7 1308.89 113.7 1317.64 Q113.7 1326.36 110.621 1330.97 Q107.566 1335.55 101.756 1335.55 Q95.9456 1335.55 92.8669 1330.97 Q89.8114 1326.36 89.8114 1317.64 Q89.8114 1308.89 92.8669 1304.3 Q95.9456 1299.7 101.756 1299.7 Z\" fill=\"#000000\" fill-rule=\"evenodd\" fill-opacity=\"1\" /><path clip-path=\"url(#clip070)\" d=\"M121.918 1329 L126.802 1329 L126.802 1334.88 L121.918 1334.88 L121.918 1329 Z\" fill=\"#000000\" fill-rule=\"evenodd\" fill-opacity=\"1\" /><path clip-path=\"url(#clip070)\" d=\"M137.033 1300.32 L155.39 1300.32 L155.39 1304.26 L141.316 1304.26 L141.316 1312.73 Q142.334 1312.38 143.353 1312.22 Q144.371 1312.04 145.39 1312.04 Q151.177 1312.04 154.556 1315.21 Q157.936 1318.38 157.936 1323.79 Q157.936 1329.37 154.464 1332.47 Q150.992 1335.55 144.672 1335.55 Q142.496 1335.55 140.228 1335.18 Q137.982 1334.81 135.575 1334.07 L135.575 1329.37 Q137.658 1330.51 139.881 1331.06 Q142.103 1331.62 144.58 1331.62 Q148.584 1331.62 150.922 1329.51 Q153.26 1327.41 153.26 1323.79 Q153.26 1320.18 150.922 1318.08 Q148.584 1315.97 144.58 1315.97 Q142.705 1315.97 140.83 1316.39 Q138.978 1316.8 137.033 1317.68 L137.033 1300.32 Z\" fill=\"#000000\" fill-rule=\"evenodd\" fill-opacity=\"1\" /><path clip-path=\"url(#clip070)\" d=\"M100.76 1152.65 Q97.1493 1152.65 95.3206 1156.21 Q93.515 1159.75 93.515 1166.88 Q93.515 1173.99 95.3206 1177.55 Q97.1493 1181.09 100.76 1181.09 Q104.395 1181.09 106.2 1177.55 Q108.029 1173.99 108.029 1166.88 Q108.029 1159.75 106.2 1156.21 Q104.395 1152.65 100.76 1152.65 M100.76 1148.94 Q106.571 1148.94 109.626 1153.55 Q112.705 1158.13 112.705 1166.88 Q112.705 1175.61 109.626 1180.21 Q106.571 1184.8 100.76 1184.8 Q94.9502 1184.8 91.8715 1180.21 Q88.816 1175.61 88.816 1166.88 Q88.816 1158.13 91.8715 1153.55 Q94.9502 1148.94 100.76 1148.94 Z\" fill=\"#000000\" fill-rule=\"evenodd\" fill-opacity=\"1\" /><path clip-path=\"url(#clip070)\" d=\"M120.922 1178.25 L125.807 1178.25 L125.807 1184.13 L120.922 1184.13 L120.922 1178.25 Z\" fill=\"#000000\" fill-rule=\"evenodd\" fill-opacity=\"1\" /><path clip-path=\"url(#clip070)\" d=\"M145.992 1152.65 Q142.381 1152.65 140.552 1156.21 Q138.746 1159.75 138.746 1166.88 Q138.746 1173.99 140.552 1177.55 Q142.381 1181.09 145.992 1181.09 Q149.626 1181.09 151.431 1177.55 Q153.26 1173.99 153.26 1166.88 Q153.26 1159.75 151.431 1156.21 Q149.626 1152.65 145.992 1152.65 M145.992 1148.94 Q151.802 1148.94 154.857 1153.55 Q157.936 1158.13 157.936 1166.88 Q157.936 1175.61 154.857 1180.21 Q151.802 1184.8 145.992 1184.8 Q140.181 1184.8 137.103 1180.21 Q134.047 1175.61 134.047 1166.88 Q134.047 1158.13 137.103 1153.55 Q140.181 1148.94 145.992 1148.94 Z\" fill=\"#000000\" fill-rule=\"evenodd\" fill-opacity=\"1\" /><path clip-path=\"url(#clip070)\" d=\"M101.756 1001.89 Q98.1447 1001.89 96.316 1005.45 Q94.5104 1009 94.5104 1016.13 Q94.5104 1023.23 96.316 1026.8 Q98.1447 1030.34 101.756 1030.34 Q105.39 1030.34 107.196 1026.8 Q109.024 1023.23 109.024 1016.13 Q109.024 1009 107.196 1005.45 Q105.39 1001.89 101.756 1001.89 M101.756 998.186 Q107.566 998.186 110.621 1002.79 Q113.7 1007.38 113.7 1016.13 Q113.7 1024.85 110.621 1029.46 Q107.566 1034.04 101.756 1034.04 Q95.9456 1034.04 92.8669 1029.46 Q89.8114 1024.85 89.8114 1016.13 Q89.8114 1007.38 92.8669 1002.79 Q95.9456 998.186 101.756 998.186 Z\" fill=\"#000000\" fill-rule=\"evenodd\" fill-opacity=\"1\" /><path clip-path=\"url(#clip070)\" d=\"M121.918 1027.49 L126.802 1027.49 L126.802 1033.37 L121.918 1033.37 L121.918 1027.49 Z\" fill=\"#000000\" fill-rule=\"evenodd\" fill-opacity=\"1\" /><path clip-path=\"url(#clip070)\" d=\"M137.033 998.811 L155.39 998.811 L155.39 1002.75 L141.316 1002.75 L141.316 1011.22 Q142.334 1010.87 143.353 1010.71 Q144.371 1010.52 145.39 1010.52 Q151.177 1010.52 154.556 1013.69 Q157.936 1016.87 157.936 1022.28 Q157.936 1027.86 154.464 1030.96 Q150.992 1034.04 144.672 1034.04 Q142.496 1034.04 140.228 1033.67 Q137.982 1033.3 135.575 1032.56 L135.575 1027.86 Q137.658 1029 139.881 1029.55 Q142.103 1030.11 144.58 1030.11 Q148.584 1030.11 150.922 1028 Q153.26 1025.89 153.26 1022.28 Q153.26 1018.67 150.922 1016.57 Q148.584 1014.46 144.58 1014.46 Q142.705 1014.46 140.83 1014.88 Q138.978 1015.29 137.033 1016.17 L137.033 998.811 Z\" fill=\"#000000\" fill-rule=\"evenodd\" fill-opacity=\"1\" /><path clip-path=\"url(#clip070)\" d=\"M91.5706 878.68 L99.2095 878.68 L99.2095 852.314 L90.8993 853.981 L90.8993 849.721 L99.1632 848.055 L103.839 848.055 L103.839 878.68 L111.478 878.68 L111.478 882.615 L91.5706 882.615 L91.5706 878.68 Z\" fill=\"#000000\" fill-rule=\"evenodd\" fill-opacity=\"1\" /><path clip-path=\"url(#clip070)\" d=\"M120.922 876.735 L125.807 876.735 L125.807 882.615 L120.922 882.615 L120.922 876.735 Z\" fill=\"#000000\" fill-rule=\"evenodd\" fill-opacity=\"1\" /><path clip-path=\"url(#clip070)\" d=\"M145.992 851.133 Q142.381 851.133 140.552 854.698 Q138.746 858.24 138.746 865.369 Q138.746 872.476 140.552 876.041 Q142.381 879.582 145.992 879.582 Q149.626 879.582 151.431 876.041 Q153.26 872.476 153.26 865.369 Q153.26 858.24 151.431 854.698 Q149.626 851.133 145.992 851.133 M145.992 847.43 Q151.802 847.43 154.857 852.036 Q157.936 856.619 157.936 865.369 Q157.936 874.096 154.857 878.703 Q151.802 883.286 145.992 883.286 Q140.181 883.286 137.103 878.703 Q134.047 874.096 134.047 865.369 Q134.047 856.619 137.103 852.036 Q140.181 847.43 145.992 847.43 Z\" fill=\"#000000\" fill-rule=\"evenodd\" fill-opacity=\"1\" /><polyline clip-path=\"url(#clip074)\" style=\"stroke:#009af9; stroke-linecap:round; stroke-linejoin:round; stroke-width:4; stroke-opacity:1; fill:none\" points=\"\n",
       "  221.072,1166.85 222.513,1163.83 223.953,1160.82 225.393,1157.8 226.834,1154.79 228.274,1151.78 229.715,1148.77 231.155,1145.76 232.595,1142.75 234.036,1139.75 \n",
       "  235.476,1136.75 236.916,1133.75 238.357,1130.75 239.797,1127.76 241.237,1124.77 242.678,1121.79 244.118,1118.81 245.559,1115.84 246.999,1112.87 248.439,1109.9 \n",
       "  249.88,1106.95 251.32,1103.99 252.76,1101.05 254.201,1098.11 255.641,1095.18 257.081,1092.25 258.522,1089.33 259.962,1086.42 261.403,1083.52 262.843,1080.63 \n",
       "  264.283,1077.74 265.724,1074.87 267.164,1072 268.604,1069.14 270.045,1066.3 271.485,1063.46 272.925,1060.63 274.366,1057.82 275.806,1055.01 277.247,1052.22 \n",
       "  278.687,1049.43 280.127,1046.66 281.568,1043.9 283.008,1041.15 284.448,1038.42 285.889,1035.7 287.329,1032.99 288.769,1030.3 290.21,1027.61 291.65,1024.95 \n",
       "  293.09,1022.29 294.531,1019.66 295.971,1017.03 297.412,1014.42 298.852,1011.83 300.292,1009.25 301.733,1006.69 303.173,1004.14 304.613,1001.61 306.054,999.097 \n",
       "  307.494,996.6 308.934,994.12 310.375,991.657 311.815,989.212 313.256,986.785 314.696,984.376 316.136,981.984 317.577,979.612 319.017,977.258 320.457,974.923 \n",
       "  321.898,972.607 323.338,970.311 324.778,968.034 326.219,965.777 327.659,963.541 329.1,961.324 330.54,959.128 331.98,956.953 333.421,954.799 334.861,952.667 \n",
       "  336.301,950.555 337.742,948.465 339.182,946.397 340.622,944.351 342.063,942.328 343.503,940.327 344.944,938.348 346.384,936.392 347.824,934.46 349.265,932.55 \n",
       "  350.705,930.664 352.145,928.802 353.586,926.963 355.026,925.149 356.466,923.358 357.907,921.592 359.347,919.851 360.787,918.134 362.228,916.442 363.668,914.775 \n",
       "  365.109,913.133 366.549,911.517 367.989,909.926 369.43,908.361 370.87,906.821 372.31,905.308 373.751,903.821 375.191,902.36 376.631,900.926 378.072,899.518 \n",
       "  379.512,898.137 380.953,896.783 382.393,895.456 383.833,894.156 385.274,892.883 386.714,891.637 388.154,890.42 389.595,889.229 391.035,888.067 392.475,886.932 \n",
       "  393.916,885.826 395.356,884.747 396.797,883.697 398.237,882.675 399.677,881.681 401.118,880.716 402.558,879.78 403.998,878.872 405.439,877.993 406.879,877.143 \n",
       "  408.319,876.322 409.76,875.53 411.2,874.767 412.641,874.034 414.081,873.329 415.521,872.654 416.962,872.009 418.402,871.393 419.842,870.806 421.283,870.249 \n",
       "  422.723,869.722 424.163,869.224 425.604,868.756 427.044,868.318 428.484,867.91 429.925,867.532 431.365,867.183 432.806,866.865 434.246,866.577 435.686,866.318 \n",
       "  437.127,866.09 438.567,865.892 440.007,865.724 441.448,865.586 442.888,865.478 444.328,865.4 445.769,865.352 447.209,865.335 448.65,865.347 450.09,865.39 \n",
       "  451.53,865.463 452.971,865.566 454.411,865.7 455.851,865.863 457.292,866.056 458.732,866.28 460.172,866.533 461.613,866.817 463.053,867.131 464.494,867.474 \n",
       "  465.934,867.848 467.374,868.251 468.815,868.685 470.255,869.148 471.695,869.641 473.136,870.163 474.576,870.715 476.016,871.297 477.457,871.909 478.897,872.55 \n",
       "  480.337,873.22 481.778,873.92 483.218,874.649 484.659,875.407 486.099,876.194 487.539,877.011 488.98,877.856 490.42,878.73 491.86,879.634 493.301,880.565 \n",
       "  494.741,881.526 496.181,882.515 497.622,883.532 499.062,884.578 500.503,885.652 501.943,886.754 503.383,887.884 504.824,889.042 506.264,890.228 507.704,891.442 \n",
       "  509.145,892.683 510.585,893.951 512.025,895.247 513.466,896.57 514.906,897.919 516.347,899.296 517.787,900.7 519.227,902.13 520.668,903.587 522.108,905.07 \n",
       "  523.548,906.579 524.989,908.114 526.429,909.675 527.869,911.262 529.31,912.874 530.75,914.512 532.191,916.175 533.631,917.863 535.071,919.575 536.512,921.313 \n",
       "  537.952,923.075 539.392,924.862 540.833,926.673 542.273,928.507 543.713,930.366 545.154,932.248 546.594,934.154 548.034,936.083 549.475,938.035 550.915,940.01 \n",
       "  552.356,942.008 553.796,944.028 555.236,946.07 556.677,948.134 558.117,950.221 559.557,952.329 560.998,954.458 562.438,956.609 563.878,958.781 565.319,960.973 \n",
       "  566.759,963.186 568.2,965.42 569.64,967.673 571.08,969.947 572.521,972.24 573.961,974.553 575.401,976.885 576.842,979.236 578.282,981.605 579.722,983.994 \n",
       "  581.163,986.4 582.603,988.825 584.044,991.267 585.484,993.727 586.924,996.204 588.365,998.698 589.805,1001.21 591.245,1003.74 592.686,1006.28 594.126,1008.84 \n",
       "  595.566,1011.42 597.007,1014.01 598.447,1016.61 599.888,1019.24 601.328,1021.87 602.768,1024.52 604.209,1027.19 605.649,1029.87 607.089,1032.56 608.53,1035.27 \n",
       "  609.97,1037.99 611.41,1040.72 612.851,1043.46 614.291,1046.22 615.731,1048.99 617.172,1051.77 618.612,1054.56 620.053,1057.37 621.493,1060.18 622.933,1063.01 \n",
       "  624.374,1065.84 625.814,1068.69 627.254,1071.55 628.695,1074.41 630.135,1077.28 631.575,1080.17 633.016,1083.06 634.456,1085.96 635.897,1088.87 637.337,1091.79 \n",
       "  638.777,1094.71 640.218,1097.64 641.658,1100.58 643.098,1103.52 644.539,1106.47 645.979,1109.43 647.419,1112.39 648.86,1115.36 650.3,1118.34 651.741,1121.31 \n",
       "  653.181,1124.3 654.621,1127.28 656.062,1130.28 657.502,1133.27 658.942,1136.27 660.383,1139.27 661.823,1142.27 663.263,1145.28 664.704,1148.29 666.144,1151.3 \n",
       "  667.585,1154.31 669.025,1157.32 670.465,1160.34 671.906,1163.35 673.346,1166.37 674.786,1169.38 676.227,1172.4 677.667,1175.41 679.107,1178.42 680.548,1181.44 \n",
       "  681.988,1184.45 683.428,1187.46 684.869,1190.46 686.309,1193.47 687.75,1196.47 689.19,1199.47 690.63,1202.46 692.071,1205.46 693.511,1208.44 694.951,1211.43 \n",
       "  696.392,1214.41 697.832,1217.38 699.272,1220.35 700.713,1223.32 702.153,1226.28 703.594,1229.23 705.034,1232.18 706.474,1235.12 707.915,1238.05 709.355,1240.98 \n",
       "  710.795,1243.89 712.236,1246.81 713.676,1249.71 715.116,1252.6 716.557,1255.49 717.997,1258.37 719.438,1261.24 720.878,1264.09 722.318,1266.94 723.759,1269.78 \n",
       "  725.199,1272.61 726.639,1275.43 728.08,1278.24 729.52,1281.03 730.96,1283.82 732.401,1286.59 733.841,1289.35 735.282,1292.1 736.722,1294.84 738.162,1297.56 \n",
       "  739.603,1300.27 741.043,1302.97 742.483,1305.65 743.924,1308.32 745.364,1310.98 746.804,1313.62 748.245,1316.24 749.685,1318.86 751.125,1321.45 752.566,1324.03 \n",
       "  754.006,1326.6 755.447,1329.15 756.887,1331.68 758.327,1334.2 759.768,1336.7 761.208,1339.18 762.648,1341.64 764.089,1344.09 765.529,1346.52 766.969,1348.93 \n",
       "  768.41,1351.33 769.85,1353.7 771.291,1356.06 772.731,1358.4 774.171,1360.72 775.612,1363.02 777.052,1365.3 778.492,1367.56 779.933,1369.8 781.373,1372.02 \n",
       "  782.813,1374.22 784.254,1376.39 785.694,1378.55 787.135,1380.69 788.575,1382.8 790.015,1384.9 791.456,1386.97 792.896,1389.02 794.336,1391.04 795.777,1393.05 \n",
       "  797.217,1395.03 798.657,1396.99 800.098,1398.93 801.538,1400.84 802.978,1402.73 804.419,1404.6 805.859,1406.44 807.3,1408.26 808.74,1410.05 810.18,1411.82 \n",
       "  811.621,1413.57 813.061,1415.29 814.501,1416.98 815.942,1418.65 817.382,1420.3 818.822,1421.92 820.263,1423.52 821.703,1425.08 823.144,1426.63 824.584,1428.15 \n",
       "  826.024,1429.64 827.465,1431.1 828.905,1432.54 830.345,1433.95 831.786,1435.34 833.226,1436.7 834.666,1438.03 836.107,1439.33 837.547,1440.61 838.988,1441.86 \n",
       "  840.428,1443.08 841.868,1444.28 843.309,1445.44 844.749,1446.58 846.189,1447.69 847.63,1448.78 849.07,1449.83 850.51,1450.86 851.951,1451.85 853.391,1452.82 \n",
       "  854.832,1453.77 856.272,1454.68 857.712,1455.56 859.153,1456.42 860.593,1457.24 862.033,1458.04 863.474,1458.81 864.914,1459.54 866.354,1460.25 867.795,1460.93 \n",
       "  869.235,1461.58 870.675,1462.2 872.116,1462.8 873.556,1463.36 874.997,1463.89 876.437,1464.39 877.877,1464.86 879.318,1465.31 880.758,1465.72 882.198,1466.1 \n",
       "  883.639,1466.46 885.079,1466.78 886.519,1467.07 887.96,1467.34 889.4,1467.57 890.841,1467.77 892.281,1467.94 893.721,1468.09 895.162,1468.2 896.602,1468.28 \n",
       "  898.042,1468.33 899.483,1468.36 900.923,1468.35 902.363,1468.31 903.804,1468.24 905.244,1468.14 906.685,1468.02 908.125,1467.86 909.565,1467.67 911.006,1467.45 \n",
       "  912.446,1467.2 913.886,1466.92 915.327,1466.61 916.767,1466.28 918.207,1465.91 919.648,1465.51 921.088,1465.08 922.529,1464.62 923.969,1464.13 925.409,1463.61 \n",
       "  926.85,1463.07 928.29,1462.49 929.73,1461.88 931.171,1461.25 932.611,1460.58 934.051,1459.89 935.492,1459.16 936.932,1458.41 938.372,1457.63 939.813,1456.81 \n",
       "  941.253,1455.97 942.694,1455.1 944.134,1454.2 945.574,1453.28 947.015,1452.32 948.455,1451.34 949.895,1450.32 951.336,1449.28 952.776,1448.21 954.216,1447.12 \n",
       "  955.657,1445.99 957.097,1444.84 958.538,1443.66 959.978,1442.45 961.418,1441.21 962.859,1439.95 964.299,1438.65 965.739,1437.34 967.18,1435.99 968.62,1434.62 \n",
       "  970.06,1433.22 971.501,1431.79 972.941,1430.34 974.382,1428.86 975.822,1427.36 977.262,1425.83 978.703,1424.27 980.143,1422.69 981.583,1421.08 983.024,1419.44 \n",
       "  984.464,1417.78 985.904,1416.1 987.345,1414.39 988.785,1412.66 990.226,1410.9 991.666,1409.12 993.106,1407.31 994.547,1405.48 995.987,1403.62 997.427,1401.75 \n",
       "  998.868,1399.84 1000.31,1397.92 1001.75,1395.97 1003.19,1394 1004.63,1392 1006.07,1389.99 1007.51,1387.95 1008.95,1385.89 1010.39,1383.81 1011.83,1381.7 \n",
       "  1013.27,1379.58 1014.71,1377.43 1016.15,1375.26 1017.59,1373.07 1019.03,1370.86 1020.47,1368.63 1021.91,1366.38 1023.35,1364.11 1024.79,1361.82 1026.23,1359.51 \n",
       "  1027.67,1357.18 1029.12,1354.83 1030.56,1352.47 1032,1350.08 1033.44,1347.68 1034.88,1345.26 1036.32,1342.82 1037.76,1340.36 1039.2,1337.88 1040.64,1335.39 \n",
       "  1042.08,1332.88 1043.52,1330.36 1044.96,1327.82 1046.4,1325.26 1047.84,1322.69 1049.28,1320.1 1050.72,1317.49 1052.16,1314.87 1053.6,1312.24 1055.04,1309.59 \n",
       "  1056.48,1306.93 1057.92,1304.25 1059.36,1301.56 1060.8,1298.86 1062.24,1296.14 1063.68,1293.41 1065.12,1290.67 1066.56,1287.91 1068.01,1285.14 1069.45,1282.37 \n",
       "  1070.89,1279.57 1072.33,1276.77 1073.77,1273.96 1075.21,1271.14 1076.65,1268.3 1078.09,1265.46 1079.53,1262.6 1080.97,1259.74 1082.41,1256.87 1083.85,1253.98 \n",
       "  1085.29,1251.09 1086.73,1248.19 1088.17,1245.29 1089.61,1242.37 1091.05,1239.45 1092.49,1236.52 1093.93,1233.58 1095.37,1230.64 1096.81,1227.69 1098.25,1224.73 \n",
       "  1099.69,1221.77 1101.13,1218.8 1102.57,1215.83 1104.01,1212.85 1105.45,1209.87 1106.89,1206.88 1108.34,1203.89 1109.78,1200.9 1111.22,1197.9 1112.66,1194.9 \n",
       "  1114.1,1191.9 1115.54,1188.89 1116.98,1185.88 1118.42,1182.87 1119.86,1179.86 1121.3,1176.85 1122.74,1173.84 1124.18,1170.82 1125.62,1167.81 \n",
       "  \"/>\n",
       "<path clip-path=\"url(#clip070)\" d=\"\n",
       "M961.829 972.231 L1120.8 972.231 L1120.8 868.551 L961.829 868.551  Z\n",
       "  \" fill=\"#ffffff\" fill-rule=\"evenodd\" fill-opacity=\"1\"/>\n",
       "<polyline clip-path=\"url(#clip070)\" style=\"stroke:#000000; stroke-linecap:round; stroke-linejoin:round; stroke-width:4; stroke-opacity:1; fill:none\" points=\"\n",
       "  961.829,972.231 1120.8,972.231 1120.8,868.551 961.829,868.551 961.829,972.231 \n",
       "  \"/>\n",
       "<polyline clip-path=\"url(#clip070)\" style=\"stroke:#009af9; stroke-linecap:round; stroke-linejoin:round; stroke-width:4; stroke-opacity:1; fill:none\" points=\"\n",
       "  972.483,920.391 1036.4,920.391 \n",
       "  \"/>\n",
       "<path clip-path=\"url(#clip070)\" d=\"M1060.9 940.078 Q1059.09 944.708 1057.38 946.12 Q1055.67 947.532 1052.8 947.532 L1049.4 947.532 L1049.4 943.967 L1051.9 943.967 Q1053.66 943.967 1054.63 943.134 Q1055.6 942.3 1056.78 939.199 L1057.54 937.254 L1047.06 911.745 L1051.57 911.745 L1059.67 932.023 L1067.78 911.745 L1072.29 911.745 L1060.9 940.078 Z\" fill=\"#000000\" fill-rule=\"evenodd\" fill-opacity=\"1\" /><path clip-path=\"url(#clip070)\" d=\"M1079.58 933.736 L1087.22 933.736 L1087.22 907.37 L1078.91 909.037 L1078.91 904.778 L1087.17 903.111 L1091.85 903.111 L1091.85 933.736 L1099.49 933.736 L1099.49 937.671 L1079.58 937.671 L1079.58 933.736 Z\" fill=\"#000000\" fill-rule=\"evenodd\" fill-opacity=\"1\" /><path clip-path=\"url(#clip070)\" d=\"\n",
       "M1393.94 1486.45 L2352.76 1486.45 L2352.76 847.244 L1393.94 847.244  Z\n",
       "  \" fill=\"#ffffff\" fill-rule=\"evenodd\" fill-opacity=\"1\"/>\n",
       "<defs>\n",
       "  <clipPath id=\"clip075\">\n",
       "    <rect x=\"1393\" y=\"847\" width=\"960\" height=\"640\"/>\n",
       "  </clipPath>\n",
       "</defs>\n",
       "<polyline clip-path=\"url(#clip075)\" style=\"stroke:#000000; stroke-linecap:round; stroke-linejoin:round; stroke-width:2; stroke-opacity:0.1; fill:none\" points=\"\n",
       "  1421.07,1486.45 1421.07,847.244 \n",
       "  \"/>\n",
       "<polyline clip-path=\"url(#clip075)\" style=\"stroke:#000000; stroke-linecap:round; stroke-linejoin:round; stroke-width:2; stroke-opacity:0.1; fill:none\" points=\"\n",
       "  1647.21,1486.45 1647.21,847.244 \n",
       "  \"/>\n",
       "<polyline clip-path=\"url(#clip075)\" style=\"stroke:#000000; stroke-linecap:round; stroke-linejoin:round; stroke-width:2; stroke-opacity:0.1; fill:none\" points=\"\n",
       "  1873.35,1486.45 1873.35,847.244 \n",
       "  \"/>\n",
       "<polyline clip-path=\"url(#clip075)\" style=\"stroke:#000000; stroke-linecap:round; stroke-linejoin:round; stroke-width:2; stroke-opacity:0.1; fill:none\" points=\"\n",
       "  2099.48,1486.45 2099.48,847.244 \n",
       "  \"/>\n",
       "<polyline clip-path=\"url(#clip075)\" style=\"stroke:#000000; stroke-linecap:round; stroke-linejoin:round; stroke-width:2; stroke-opacity:0.1; fill:none\" points=\"\n",
       "  2325.62,1486.45 2325.62,847.244 \n",
       "  \"/>\n",
       "<polyline clip-path=\"url(#clip070)\" style=\"stroke:#000000; stroke-linecap:round; stroke-linejoin:round; stroke-width:4; stroke-opacity:1; fill:none\" points=\"\n",
       "  1393.94,1486.45 2352.76,1486.45 \n",
       "  \"/>\n",
       "<polyline clip-path=\"url(#clip070)\" style=\"stroke:#000000; stroke-linecap:round; stroke-linejoin:round; stroke-width:4; stroke-opacity:1; fill:none\" points=\"\n",
       "  1421.07,1486.45 1421.07,1467.55 \n",
       "  \"/>\n",
       "<polyline clip-path=\"url(#clip070)\" style=\"stroke:#000000; stroke-linecap:round; stroke-linejoin:round; stroke-width:4; stroke-opacity:1; fill:none\" points=\"\n",
       "  1647.21,1486.45 1647.21,1467.55 \n",
       "  \"/>\n",
       "<polyline clip-path=\"url(#clip070)\" style=\"stroke:#000000; stroke-linecap:round; stroke-linejoin:round; stroke-width:4; stroke-opacity:1; fill:none\" points=\"\n",
       "  1873.35,1486.45 1873.35,1467.55 \n",
       "  \"/>\n",
       "<polyline clip-path=\"url(#clip070)\" style=\"stroke:#000000; stroke-linecap:round; stroke-linejoin:round; stroke-width:4; stroke-opacity:1; fill:none\" points=\"\n",
       "  2099.48,1486.45 2099.48,1467.55 \n",
       "  \"/>\n",
       "<polyline clip-path=\"url(#clip070)\" style=\"stroke:#000000; stroke-linecap:round; stroke-linejoin:round; stroke-width:4; stroke-opacity:1; fill:none\" points=\"\n",
       "  2325.62,1486.45 2325.62,1467.55 \n",
       "  \"/>\n",
       "<path clip-path=\"url(#clip070)\" d=\"M1367.6 1532.02 L1397.27 1532.02 L1397.27 1535.95 L1367.6 1535.95 L1367.6 1532.02 Z\" fill=\"#000000\" fill-rule=\"evenodd\" fill-opacity=\"1\" /><path clip-path=\"url(#clip070)\" d=\"M1408.18 1544.91 L1415.82 1544.91 L1415.82 1518.55 L1407.51 1520.21 L1407.51 1515.95 L1415.77 1514.29 L1420.45 1514.29 L1420.45 1544.91 L1428.08 1544.91 L1428.08 1548.85 L1408.18 1548.85 L1408.18 1544.91 Z\" fill=\"#000000\" fill-rule=\"evenodd\" fill-opacity=\"1\" /><path clip-path=\"url(#clip070)\" d=\"M1437.53 1542.97 L1442.41 1542.97 L1442.41 1548.85 L1437.53 1548.85 L1437.53 1542.97 Z\" fill=\"#000000\" fill-rule=\"evenodd\" fill-opacity=\"1\" /><path clip-path=\"url(#clip070)\" d=\"M1462.6 1517.37 Q1458.99 1517.37 1457.16 1520.93 Q1455.35 1524.47 1455.35 1531.6 Q1455.35 1538.71 1457.16 1542.27 Q1458.99 1545.82 1462.6 1545.82 Q1466.23 1545.82 1468.04 1542.27 Q1469.87 1538.71 1469.87 1531.6 Q1469.87 1524.47 1468.04 1520.93 Q1466.23 1517.37 1462.6 1517.37 M1462.6 1513.66 Q1468.41 1513.66 1471.46 1518.27 Q1474.54 1522.85 1474.54 1531.6 Q1474.54 1540.33 1471.46 1544.94 Q1468.41 1549.52 1462.6 1549.52 Q1456.79 1549.52 1453.71 1544.94 Q1450.65 1540.33 1450.65 1531.6 Q1450.65 1522.85 1453.71 1518.27 Q1456.79 1513.66 1462.6 1513.66 Z\" fill=\"#000000\" fill-rule=\"evenodd\" fill-opacity=\"1\" /><path clip-path=\"url(#clip070)\" d=\"M1594.23 1532.02 L1623.91 1532.02 L1623.91 1535.95 L1594.23 1535.95 L1594.23 1532.02 Z\" fill=\"#000000\" fill-rule=\"evenodd\" fill-opacity=\"1\" /><path clip-path=\"url(#clip070)\" d=\"M1644 1517.37 Q1640.39 1517.37 1638.56 1520.93 Q1636.76 1524.47 1636.76 1531.6 Q1636.76 1538.71 1638.56 1542.27 Q1640.39 1545.82 1644 1545.82 Q1647.64 1545.82 1649.44 1542.27 Q1651.27 1538.71 1651.27 1531.6 Q1651.27 1524.47 1649.44 1520.93 Q1647.64 1517.37 1644 1517.37 M1644 1513.66 Q1649.81 1513.66 1652.87 1518.27 Q1655.95 1522.85 1655.95 1531.6 Q1655.95 1540.33 1652.87 1544.94 Q1649.81 1549.52 1644 1549.52 Q1638.19 1549.52 1635.11 1544.94 Q1632.06 1540.33 1632.06 1531.6 Q1632.06 1522.85 1635.11 1518.27 Q1638.19 1513.66 1644 1513.66 Z\" fill=\"#000000\" fill-rule=\"evenodd\" fill-opacity=\"1\" /><path clip-path=\"url(#clip070)\" d=\"M1664.16 1542.97 L1669.05 1542.97 L1669.05 1548.85 L1664.16 1548.85 L1664.16 1542.97 Z\" fill=\"#000000\" fill-rule=\"evenodd\" fill-opacity=\"1\" /><path clip-path=\"url(#clip070)\" d=\"M1679.28 1514.29 L1697.64 1514.29 L1697.64 1518.22 L1683.56 1518.22 L1683.56 1526.7 Q1684.58 1526.35 1685.6 1526.19 Q1686.62 1526 1687.64 1526 Q1693.42 1526 1696.8 1529.17 Q1700.18 1532.34 1700.18 1537.76 Q1700.18 1543.34 1696.71 1546.44 Q1693.24 1549.52 1686.92 1549.52 Q1684.74 1549.52 1682.47 1549.15 Q1680.23 1548.78 1677.82 1548.04 L1677.82 1543.34 Q1679.9 1544.47 1682.13 1545.03 Q1684.35 1545.58 1686.83 1545.58 Q1690.83 1545.58 1693.17 1543.48 Q1695.51 1541.37 1695.51 1537.76 Q1695.51 1534.15 1693.17 1532.04 Q1690.83 1529.94 1686.83 1529.94 Q1684.95 1529.94 1683.08 1530.35 Q1681.22 1530.77 1679.28 1531.65 L1679.28 1514.29 Z\" fill=\"#000000\" fill-rule=\"evenodd\" fill-opacity=\"1\" /><path clip-path=\"url(#clip070)\" d=\"M1850.73 1517.37 Q1847.12 1517.37 1845.29 1520.93 Q1843.48 1524.47 1843.48 1531.6 Q1843.48 1538.71 1845.29 1542.27 Q1847.12 1545.82 1850.73 1545.82 Q1854.36 1545.82 1856.17 1542.27 Q1858 1538.71 1858 1531.6 Q1858 1524.47 1856.17 1520.93 Q1854.36 1517.37 1850.73 1517.37 M1850.73 1513.66 Q1856.54 1513.66 1859.6 1518.27 Q1862.67 1522.85 1862.67 1531.6 Q1862.67 1540.33 1859.6 1544.94 Q1856.54 1549.52 1850.73 1549.52 Q1844.92 1549.52 1841.84 1544.94 Q1838.79 1540.33 1838.79 1531.6 Q1838.79 1522.85 1841.84 1518.27 Q1844.92 1513.66 1850.73 1513.66 Z\" fill=\"#000000\" fill-rule=\"evenodd\" fill-opacity=\"1\" /><path clip-path=\"url(#clip070)\" d=\"M1870.89 1542.97 L1875.78 1542.97 L1875.78 1548.85 L1870.89 1548.85 L1870.89 1542.97 Z\" fill=\"#000000\" fill-rule=\"evenodd\" fill-opacity=\"1\" /><path clip-path=\"url(#clip070)\" d=\"M1895.96 1517.37 Q1892.35 1517.37 1890.52 1520.93 Q1888.72 1524.47 1888.72 1531.6 Q1888.72 1538.71 1890.52 1542.27 Q1892.35 1545.82 1895.96 1545.82 Q1899.6 1545.82 1901.4 1542.27 Q1903.23 1538.71 1903.23 1531.6 Q1903.23 1524.47 1901.4 1520.93 Q1899.6 1517.37 1895.96 1517.37 M1895.96 1513.66 Q1901.77 1513.66 1904.83 1518.27 Q1907.91 1522.85 1907.91 1531.6 Q1907.91 1540.33 1904.83 1544.94 Q1901.77 1549.52 1895.96 1549.52 Q1890.15 1549.52 1887.07 1544.94 Q1884.02 1540.33 1884.02 1531.6 Q1884.02 1522.85 1887.07 1518.27 Q1890.15 1513.66 1895.96 1513.66 Z\" fill=\"#000000\" fill-rule=\"evenodd\" fill-opacity=\"1\" /><path clip-path=\"url(#clip070)\" d=\"M2077.36 1517.37 Q2073.75 1517.37 2071.92 1520.93 Q2070.12 1524.47 2070.12 1531.6 Q2070.12 1538.71 2071.92 1542.27 Q2073.75 1545.82 2077.36 1545.82 Q2081 1545.82 2082.8 1542.27 Q2084.63 1538.71 2084.63 1531.6 Q2084.63 1524.47 2082.8 1520.93 Q2081 1517.37 2077.36 1517.37 M2077.36 1513.66 Q2083.17 1513.66 2086.23 1518.27 Q2089.31 1522.85 2089.31 1531.6 Q2089.31 1540.33 2086.23 1544.94 Q2083.17 1549.52 2077.36 1549.52 Q2071.55 1549.52 2068.48 1544.94 Q2065.42 1540.33 2065.42 1531.6 Q2065.42 1522.85 2068.48 1518.27 Q2071.55 1513.66 2077.36 1513.66 Z\" fill=\"#000000\" fill-rule=\"evenodd\" fill-opacity=\"1\" /><path clip-path=\"url(#clip070)\" d=\"M2097.53 1542.97 L2102.41 1542.97 L2102.41 1548.85 L2097.53 1548.85 L2097.53 1542.97 Z\" fill=\"#000000\" fill-rule=\"evenodd\" fill-opacity=\"1\" /><path clip-path=\"url(#clip070)\" d=\"M2112.64 1514.29 L2131 1514.29 L2131 1518.22 L2116.92 1518.22 L2116.92 1526.7 Q2117.94 1526.35 2118.96 1526.19 Q2119.98 1526 2121 1526 Q2126.79 1526 2130.17 1529.17 Q2133.54 1532.34 2133.54 1537.76 Q2133.54 1543.34 2130.07 1546.44 Q2126.6 1549.52 2120.28 1549.52 Q2118.11 1549.52 2115.84 1549.15 Q2113.59 1548.78 2111.18 1548.04 L2111.18 1543.34 Q2113.27 1544.47 2115.49 1545.03 Q2117.71 1545.58 2120.19 1545.58 Q2124.19 1545.58 2126.53 1543.48 Q2128.87 1541.37 2128.87 1537.76 Q2128.87 1534.15 2126.53 1532.04 Q2124.19 1529.94 2120.19 1529.94 Q2118.31 1529.94 2116.44 1530.35 Q2114.59 1530.77 2112.64 1531.65 L2112.64 1514.29 Z\" fill=\"#000000\" fill-rule=\"evenodd\" fill-opacity=\"1\" /><path clip-path=\"url(#clip070)\" d=\"M2292.77 1544.91 L2300.41 1544.91 L2300.41 1518.55 L2292.1 1520.21 L2292.1 1515.95 L2300.37 1514.29 L2305.04 1514.29 L2305.04 1544.91 L2312.68 1544.91 L2312.68 1548.85 L2292.77 1548.85 L2292.77 1544.91 Z\" fill=\"#000000\" fill-rule=\"evenodd\" fill-opacity=\"1\" /><path clip-path=\"url(#clip070)\" d=\"M2322.12 1542.97 L2327.01 1542.97 L2327.01 1548.85 L2322.12 1548.85 L2322.12 1542.97 Z\" fill=\"#000000\" fill-rule=\"evenodd\" fill-opacity=\"1\" /><path clip-path=\"url(#clip070)\" d=\"M2347.19 1517.37 Q2343.58 1517.37 2341.75 1520.93 Q2339.95 1524.47 2339.95 1531.6 Q2339.95 1538.71 2341.75 1542.27 Q2343.58 1545.82 2347.19 1545.82 Q2350.83 1545.82 2352.63 1542.27 Q2354.46 1538.71 2354.46 1531.6 Q2354.46 1524.47 2352.63 1520.93 Q2350.83 1517.37 2347.19 1517.37 M2347.19 1513.66 Q2353 1513.66 2356.06 1518.27 Q2359.14 1522.85 2359.14 1531.6 Q2359.14 1540.33 2356.06 1544.94 Q2353 1549.52 2347.19 1549.52 Q2341.38 1549.52 2338.3 1544.94 Q2335.25 1540.33 2335.25 1531.6 Q2335.25 1522.85 2338.3 1518.27 Q2341.38 1513.66 2347.19 1513.66 Z\" fill=\"#000000\" fill-rule=\"evenodd\" fill-opacity=\"1\" /><polyline clip-path=\"url(#clip075)\" style=\"stroke:#000000; stroke-linecap:round; stroke-linejoin:round; stroke-width:2; stroke-opacity:0.1; fill:none\" points=\"\n",
       "  1393.94,1468.36 2352.76,1468.36 \n",
       "  \"/>\n",
       "<polyline clip-path=\"url(#clip075)\" style=\"stroke:#000000; stroke-linecap:round; stroke-linejoin:round; stroke-width:2; stroke-opacity:0.1; fill:none\" points=\"\n",
       "  1393.94,1372.33 2352.76,1372.33 \n",
       "  \"/>\n",
       "<polyline clip-path=\"url(#clip075)\" style=\"stroke:#000000; stroke-linecap:round; stroke-linejoin:round; stroke-width:2; stroke-opacity:0.1; fill:none\" points=\"\n",
       "  1393.94,1276.31 2352.76,1276.31 \n",
       "  \"/>\n",
       "<polyline clip-path=\"url(#clip075)\" style=\"stroke:#000000; stroke-linecap:round; stroke-linejoin:round; stroke-width:2; stroke-opacity:0.1; fill:none\" points=\"\n",
       "  1393.94,1180.29 2352.76,1180.29 \n",
       "  \"/>\n",
       "<polyline clip-path=\"url(#clip075)\" style=\"stroke:#000000; stroke-linecap:round; stroke-linejoin:round; stroke-width:2; stroke-opacity:0.1; fill:none\" points=\"\n",
       "  1393.94,1084.27 2352.76,1084.27 \n",
       "  \"/>\n",
       "<polyline clip-path=\"url(#clip075)\" style=\"stroke:#000000; stroke-linecap:round; stroke-linejoin:round; stroke-width:2; stroke-opacity:0.1; fill:none\" points=\"\n",
       "  1393.94,988.244 2352.76,988.244 \n",
       "  \"/>\n",
       "<polyline clip-path=\"url(#clip075)\" style=\"stroke:#000000; stroke-linecap:round; stroke-linejoin:round; stroke-width:2; stroke-opacity:0.1; fill:none\" points=\"\n",
       "  1393.94,892.221 2352.76,892.221 \n",
       "  \"/>\n",
       "<polyline clip-path=\"url(#clip070)\" style=\"stroke:#000000; stroke-linecap:round; stroke-linejoin:round; stroke-width:4; stroke-opacity:1; fill:none\" points=\"\n",
       "  1393.94,1486.45 1393.94,847.244 \n",
       "  \"/>\n",
       "<polyline clip-path=\"url(#clip070)\" style=\"stroke:#000000; stroke-linecap:round; stroke-linejoin:round; stroke-width:4; stroke-opacity:1; fill:none\" points=\"\n",
       "  1393.94,1468.36 1412.83,1468.36 \n",
       "  \"/>\n",
       "<polyline clip-path=\"url(#clip070)\" style=\"stroke:#000000; stroke-linecap:round; stroke-linejoin:round; stroke-width:4; stroke-opacity:1; fill:none\" points=\"\n",
       "  1393.94,1372.33 1412.83,1372.33 \n",
       "  \"/>\n",
       "<polyline clip-path=\"url(#clip070)\" style=\"stroke:#000000; stroke-linecap:round; stroke-linejoin:round; stroke-width:4; stroke-opacity:1; fill:none\" points=\"\n",
       "  1393.94,1276.31 1412.83,1276.31 \n",
       "  \"/>\n",
       "<polyline clip-path=\"url(#clip070)\" style=\"stroke:#000000; stroke-linecap:round; stroke-linejoin:round; stroke-width:4; stroke-opacity:1; fill:none\" points=\"\n",
       "  1393.94,1180.29 1412.83,1180.29 \n",
       "  \"/>\n",
       "<polyline clip-path=\"url(#clip070)\" style=\"stroke:#000000; stroke-linecap:round; stroke-linejoin:round; stroke-width:4; stroke-opacity:1; fill:none\" points=\"\n",
       "  1393.94,1084.27 1412.83,1084.27 \n",
       "  \"/>\n",
       "<polyline clip-path=\"url(#clip070)\" style=\"stroke:#000000; stroke-linecap:round; stroke-linejoin:round; stroke-width:4; stroke-opacity:1; fill:none\" points=\"\n",
       "  1393.94,988.244 1412.83,988.244 \n",
       "  \"/>\n",
       "<polyline clip-path=\"url(#clip070)\" style=\"stroke:#000000; stroke-linecap:round; stroke-linejoin:round; stroke-width:4; stroke-opacity:1; fill:none\" points=\"\n",
       "  1393.94,892.221 1412.83,892.221 \n",
       "  \"/>\n",
       "<path clip-path=\"url(#clip070)\" d=\"M1345.99 1454.16 Q1342.38 1454.16 1340.55 1457.72 Q1338.75 1461.26 1338.75 1468.39 Q1338.75 1475.5 1340.55 1479.06 Q1342.38 1482.6 1345.99 1482.6 Q1349.63 1482.6 1351.43 1479.06 Q1353.26 1475.5 1353.26 1468.39 Q1353.26 1461.26 1351.43 1457.72 Q1349.63 1454.16 1345.99 1454.16 M1345.99 1450.45 Q1351.8 1450.45 1354.86 1455.06 Q1357.94 1459.64 1357.94 1468.39 Q1357.94 1477.12 1354.86 1481.73 Q1351.8 1486.31 1345.99 1486.31 Q1340.18 1486.31 1337.1 1481.73 Q1334.05 1477.12 1334.05 1468.39 Q1334.05 1459.64 1337.1 1455.06 Q1340.18 1450.45 1345.99 1450.45 Z\" fill=\"#000000\" fill-rule=\"evenodd\" fill-opacity=\"1\" /><path clip-path=\"url(#clip070)\" d=\"M1338.03 1385.68 L1345.67 1385.68 L1345.67 1359.31 L1337.36 1360.98 L1337.36 1356.72 L1345.62 1355.05 L1350.3 1355.05 L1350.3 1385.68 L1357.94 1385.68 L1357.94 1389.61 L1338.03 1389.61 L1338.03 1385.68 Z\" fill=\"#000000\" fill-rule=\"evenodd\" fill-opacity=\"1\" /><path clip-path=\"url(#clip070)\" d=\"M1341.62 1289.66 L1357.94 1289.66 L1357.94 1293.59 L1335.99 1293.59 L1335.99 1289.66 Q1338.65 1286.9 1343.24 1282.27 Q1347.84 1277.62 1349.02 1276.28 Q1351.27 1273.75 1352.15 1272.02 Q1353.05 1270.26 1353.05 1268.57 Q1353.05 1265.81 1351.11 1264.08 Q1349.19 1262.34 1346.08 1262.34 Q1343.89 1262.34 1341.43 1263.11 Q1339 1263.87 1336.22 1265.42 L1336.22 1260.7 Q1339.05 1259.56 1341.5 1258.99 Q1343.95 1258.41 1345.99 1258.41 Q1351.36 1258.41 1354.56 1261.09 Q1357.75 1263.78 1357.75 1268.27 Q1357.75 1270.4 1356.94 1272.32 Q1356.15 1274.22 1354.05 1276.81 Q1353.47 1277.48 1350.37 1280.7 Q1347.26 1283.89 1341.62 1289.66 Z\" fill=\"#000000\" fill-rule=\"evenodd\" fill-opacity=\"1\" /><path clip-path=\"url(#clip070)\" d=\"M1350.81 1178.94 Q1354.16 1179.65 1356.04 1181.92 Q1357.94 1184.19 1357.94 1187.52 Q1357.94 1192.64 1354.42 1195.44 Q1350.9 1198.24 1344.42 1198.24 Q1342.24 1198.24 1339.93 1197.8 Q1337.64 1197.38 1335.18 1196.53 L1335.18 1192.01 Q1337.13 1193.15 1339.44 1193.73 Q1341.76 1194.31 1344.28 1194.31 Q1348.68 1194.31 1350.97 1192.57 Q1353.28 1190.83 1353.28 1187.52 Q1353.28 1184.47 1351.13 1182.75 Q1349 1181.02 1345.18 1181.02 L1341.15 1181.02 L1341.15 1177.18 L1345.37 1177.18 Q1348.82 1177.18 1350.64 1175.81 Q1352.47 1174.42 1352.47 1171.83 Q1352.47 1169.17 1350.57 1167.75 Q1348.7 1166.32 1345.18 1166.32 Q1343.26 1166.32 1341.06 1166.74 Q1338.86 1167.15 1336.22 1168.03 L1336.22 1163.87 Q1338.89 1163.12 1341.2 1162.75 Q1343.54 1162.38 1345.6 1162.38 Q1350.92 1162.38 1354.02 1164.81 Q1357.13 1167.22 1357.13 1171.34 Q1357.13 1174.21 1355.48 1176.2 Q1353.84 1178.17 1350.81 1178.94 Z\" fill=\"#000000\" fill-rule=\"evenodd\" fill-opacity=\"1\" /><path clip-path=\"url(#clip070)\" d=\"M1348.35 1071.06 L1336.55 1089.51 L1348.35 1089.51 L1348.35 1071.06 M1347.13 1066.99 L1353.01 1066.99 L1353.01 1089.51 L1357.94 1089.51 L1357.94 1093.4 L1353.01 1093.4 L1353.01 1101.55 L1348.35 1101.55 L1348.35 1093.4 L1332.75 1093.4 L1332.75 1088.88 L1347.13 1066.99 Z\" fill=\"#000000\" fill-rule=\"evenodd\" fill-opacity=\"1\" /><path clip-path=\"url(#clip070)\" d=\"M1337.03 970.964 L1355.39 970.964 L1355.39 974.899 L1341.32 974.899 L1341.32 983.371 Q1342.33 983.024 1343.35 982.862 Q1344.37 982.677 1345.39 982.677 Q1351.18 982.677 1354.56 985.848 Q1357.94 989.019 1357.94 994.436 Q1357.94 1000.01 1354.46 1003.12 Q1350.99 1006.2 1344.67 1006.2 Q1342.5 1006.2 1340.23 1005.82 Q1337.98 1005.45 1335.58 1004.71 L1335.58 1000.01 Q1337.66 1001.15 1339.88 1001.7 Q1342.1 1002.26 1344.58 1002.26 Q1348.58 1002.26 1350.92 1000.15 Q1353.26 998.047 1353.26 994.436 Q1353.26 990.825 1350.92 988.718 Q1348.58 986.612 1344.58 986.612 Q1342.7 986.612 1340.83 987.029 Q1338.98 987.445 1337.03 988.325 L1337.03 970.964 Z\" fill=\"#000000\" fill-rule=\"evenodd\" fill-opacity=\"1\" /><path clip-path=\"url(#clip070)\" d=\"M1346.41 890.358 Q1343.26 890.358 1341.41 892.51 Q1339.58 894.663 1339.58 898.413 Q1339.58 902.14 1341.41 904.316 Q1343.26 906.469 1346.41 906.469 Q1349.56 906.469 1351.39 904.316 Q1353.24 902.14 1353.24 898.413 Q1353.24 894.663 1351.39 892.51 Q1349.56 890.358 1346.41 890.358 M1355.69 875.705 L1355.69 879.964 Q1353.93 879.131 1352.13 878.691 Q1350.34 878.251 1348.58 878.251 Q1343.95 878.251 1341.5 881.376 Q1339.07 884.501 1338.72 890.821 Q1340.09 888.807 1342.15 887.742 Q1344.21 886.654 1346.69 886.654 Q1351.89 886.654 1354.9 889.825 Q1357.94 892.973 1357.94 898.413 Q1357.94 903.737 1354.79 906.955 Q1351.64 910.172 1346.41 910.172 Q1340.41 910.172 1337.24 905.589 Q1334.07 900.983 1334.07 892.256 Q1334.07 884.061 1337.96 879.2 Q1341.85 874.316 1348.4 874.316 Q1350.16 874.316 1351.94 874.663 Q1353.75 875.011 1355.69 875.705 Z\" fill=\"#000000\" fill-rule=\"evenodd\" fill-opacity=\"1\" /><polyline clip-path=\"url(#clip075)\" style=\"stroke:#009af9; stroke-linecap:round; stroke-linejoin:round; stroke-width:4; stroke-opacity:1; fill:none\" points=\"\n",
       "  1873.35,1468.36 1877.87,1467.4 1882.39,1466.44 1886.91,1465.48 1891.43,1464.52 1895.95,1463.56 1900.47,1462.6 1904.98,1461.64 1909.49,1460.68 1914,1459.72 \n",
       "  1918.5,1458.75 1923,1457.79 1927.49,1456.83 1931.98,1455.87 1936.46,1454.91 1940.93,1453.95 1945.4,1452.99 1949.86,1452.03 1954.32,1451.07 1958.76,1450.11 \n",
       "  1963.2,1449.15 1967.63,1448.19 1972.05,1447.23 1976.45,1446.27 1980.85,1445.31 1985.24,1444.35 1989.62,1443.39 1993.98,1442.43 1998.33,1441.47 2002.67,1440.51 \n",
       "  2007,1439.55 2011.32,1438.59 2015.62,1437.63 2019.9,1436.67 2024.17,1435.71 2028.43,1434.75 2032.67,1433.79 2036.89,1432.83 2041.1,1431.87 2045.29,1430.91 \n",
       "  2049.47,1429.95 2053.63,1428.99 2057.76,1428.03 2061.89,1427.07 2065.99,1426.11 2070.07,1425.15 2074.13,1424.19 2078.17,1423.23 2082.2,1422.27 2086.2,1421.31 \n",
       "  2090.18,1420.35 2094.14,1419.39 2098.07,1418.43 2101.99,1417.47 2105.88,1416.5 2109.74,1415.54 2113.59,1414.58 2117.41,1413.62 2121.2,1412.66 2124.97,1411.7 \n",
       "  2128.72,1410.74 2132.44,1409.78 2136.13,1408.82 2139.8,1407.86 2143.44,1406.9 2147.06,1405.94 2150.64,1404.98 2154.2,1404.02 2157.73,1403.06 2161.23,1402.1 \n",
       "  2164.71,1401.14 2168.15,1400.18 2171.57,1399.22 2174.95,1398.26 2178.31,1397.3 2181.63,1396.34 2184.93,1395.38 2188.19,1394.42 2191.42,1393.46 2194.62,1392.5 \n",
       "  2197.79,1391.54 2200.92,1390.58 2204.02,1389.62 2207.09,1388.66 2210.13,1387.7 2213.13,1386.74 2216.1,1385.78 2219.03,1384.82 2221.93,1383.86 2224.79,1382.9 \n",
       "  2227.62,1381.94 2230.42,1380.98 2233.18,1380.02 2235.9,1379.06 2238.58,1378.1 2241.23,1377.14 2243.84,1376.18 2246.42,1375.22 2248.96,1374.25 2251.46,1373.29 \n",
       "  2253.92,1372.33 2256.35,1371.37 2258.73,1370.41 2261.08,1369.45 2263.39,1368.49 2265.66,1367.53 2267.89,1366.57 2270.08,1365.61 2272.23,1364.65 2274.34,1363.69 \n",
       "  2276.42,1362.73 2278.45,1361.77 2280.44,1360.81 2282.39,1359.85 2284.3,1358.89 2286.17,1357.93 2287.99,1356.97 2289.78,1356.01 2291.52,1355.05 2293.22,1354.09 \n",
       "  2294.88,1353.13 2296.5,1352.17 2298.08,1351.21 2299.61,1350.25 2301.1,1349.29 2302.55,1348.33 2303.95,1347.37 2305.31,1346.41 2306.63,1345.45 2307.91,1344.49 \n",
       "  2309.14,1343.53 2310.33,1342.57 2311.47,1341.61 2312.57,1340.65 2313.63,1339.69 2314.64,1338.73 2315.61,1337.77 2316.53,1336.81 2317.41,1335.85 2318.25,1334.89 \n",
       "  2319.04,1333.93 2319.79,1332.97 2320.49,1332 2321.14,1331.04 2321.76,1330.08 2322.32,1329.12 2322.85,1328.16 2323.32,1327.2 2323.76,1326.24 2324.14,1325.28 \n",
       "  2324.49,1324.32 2324.78,1323.36 2325.04,1322.4 2325.24,1321.44 2325.41,1320.48 2325.52,1319.52 2325.59,1318.56 2325.62,1317.6 2325.6,1316.64 2325.54,1315.68 \n",
       "  2325.43,1314.72 2325.27,1313.76 2325.07,1312.8 2324.83,1311.84 2324.54,1310.88 2324.2,1309.92 2323.82,1308.96 2323.4,1308 2322.93,1307.04 2322.41,1306.08 \n",
       "  2321.85,1305.12 2321.24,1304.16 2320.59,1303.2 2319.9,1302.24 2319.16,1301.28 2318.38,1300.32 2317.55,1299.36 2316.68,1298.4 2315.76,1297.44 2314.8,1296.48 \n",
       "  2313.79,1295.52 2312.74,1294.56 2311.65,1293.6 2310.51,1292.64 2309.33,1291.68 2308.11,1290.72 2306.84,1289.76 2305.53,1288.79 2304.17,1287.83 2302.77,1286.87 \n",
       "  2301.33,1285.91 2299.85,1284.95 2298.32,1283.99 2296.75,1283.03 2295.14,1282.07 2293.49,1281.11 2291.79,1280.15 2290.06,1279.19 2288.28,1278.23 2286.46,1277.27 \n",
       "  2284.6,1276.31 2282.69,1275.35 2280.75,1274.39 2278.77,1273.43 2276.74,1272.47 2274.68,1271.51 2272.57,1270.55 2270.43,1269.59 2268.24,1268.63 2266.02,1267.67 \n",
       "  2263.75,1266.71 2261.45,1265.75 2259.11,1264.79 2256.73,1263.83 2254.31,1262.87 2251.85,1261.91 2249.36,1260.95 2246.83,1259.99 2244.26,1259.03 2241.65,1258.07 \n",
       "  2239.01,1257.11 2236.33,1256.15 2233.61,1255.19 2230.86,1254.23 2228.07,1253.27 2225.25,1252.31 2222.39,1251.35 2219.5,1250.39 2216.57,1249.43 2213.61,1248.47 \n",
       "  2210.61,1247.51 2207.58,1246.54 2204.51,1245.58 2201.42,1244.62 2198.29,1243.66 2195.13,1242.7 2191.93,1241.74 2188.71,1240.78 2185.45,1239.82 2182.16,1238.86 \n",
       "  2178.84,1237.9 2175.49,1236.94 2172.11,1235.98 2168.7,1235.02 2165.26,1234.06 2161.79,1233.1 2158.29,1232.14 2154.77,1231.18 2151.21,1230.22 2147.63,1229.26 \n",
       "  2144.02,1228.3 2140.38,1227.34 2136.72,1226.38 2133.03,1225.42 2129.31,1224.46 2125.57,1223.5 2121.8,1222.54 2118.01,1221.58 2114.2,1220.62 2110.36,1219.66 \n",
       "  2106.49,1218.7 2102.61,1217.74 2098.7,1216.78 2094.76,1215.82 2090.81,1214.86 2086.83,1213.9 2082.83,1212.94 2078.82,1211.98 2074.78,1211.02 2070.72,1210.06 \n",
       "  2066.64,1209.1 2062.54,1208.14 2058.42,1207.18 2054.29,1206.22 2050.13,1205.26 2045.96,1204.29 2041.77,1203.33 2037.57,1202.37 2033.34,1201.41 2029.11,1200.45 \n",
       "  2024.85,1199.49 2020.58,1198.53 2016.3,1197.57 2012,1196.61 2007.69,1195.65 2003.36,1194.69 1999.03,1193.73 1994.68,1192.77 1990.31,1191.81 1985.94,1190.85 \n",
       "  1981.55,1189.89 1977.15,1188.93 1972.75,1187.97 1968.33,1187.01 1963.9,1186.05 1959.47,1185.09 1955.02,1184.13 1950.57,1183.17 1946.11,1182.21 1941.64,1181.25 \n",
       "  1937.17,1180.29 1932.69,1179.33 1928.2,1178.37 1923.71,1177.41 1919.21,1176.45 1914.71,1175.49 1910.21,1174.53 1905.7,1173.57 1901.18,1172.61 1896.67,1171.65 \n",
       "  1892.15,1170.69 1887.63,1169.73 1883.11,1168.77 1878.59,1167.81 1874.07,1166.85 1869.54,1165.89 1865.02,1164.93 1860.5,1163.97 1855.98,1163.01 1851.46,1162.04 \n",
       "  1846.94,1161.08 1842.43,1160.12 1837.92,1159.16 1833.41,1158.2 1828.91,1157.24 1824.41,1156.28 1819.92,1155.32 1815.43,1154.36 1810.95,1153.4 1806.47,1152.44 \n",
       "  1802,1151.48 1797.54,1150.52 1793.08,1149.56 1788.64,1148.6 1784.2,1147.64 1779.77,1146.68 1775.35,1145.72 1770.94,1144.76 1766.54,1143.8 1762.15,1142.84 \n",
       "  1757.77,1141.88 1753.4,1140.92 1749.05,1139.96 1744.71,1139 1740.38,1138.04 1736.06,1137.08 1731.76,1136.12 1727.47,1135.16 1723.2,1134.2 1718.94,1133.24 \n",
       "  1714.7,1132.28 1710.47,1131.32 1706.26,1130.36 1702.06,1129.4 1697.89,1128.44 1693.73,1127.48 1689.58,1126.52 1685.46,1125.56 1681.36,1124.6 1677.27,1123.64 \n",
       "  1673.2,1122.68 1669.16,1121.72 1665.13,1120.76 1661.13,1119.79 1657.15,1118.83 1653.18,1117.87 1649.24,1116.91 1645.33,1115.95 1641.43,1114.99 1637.56,1114.03 \n",
       "  1633.71,1113.07 1629.89,1112.11 1626.09,1111.15 1622.32,1110.19 1618.57,1109.23 1614.84,1108.27 1611.14,1107.31 1607.47,1106.35 1603.83,1105.39 1600.21,1104.43 \n",
       "  1596.62,1103.47 1593.05,1102.51 1589.52,1101.55 1586.01,1100.59 1582.53,1099.63 1579.08,1098.67 1575.66,1097.71 1572.27,1096.75 1568.91,1095.79 1565.59,1094.83 \n",
       "  1562.29,1093.87 1559.02,1092.91 1555.78,1091.95 1552.58,1090.99 1549.41,1090.03 1546.27,1089.07 1543.16,1088.11 1540.08,1087.15 1537.04,1086.19 1534.04,1085.23 \n",
       "  1531.06,1084.27 1528.12,1083.31 1525.22,1082.35 1522.35,1081.39 1519.51,1080.43 1516.72,1079.47 1513.95,1078.51 1511.22,1077.54 1508.53,1076.58 1505.88,1075.62 \n",
       "  1503.26,1074.66 1500.68,1073.7 1498.13,1072.74 1495.63,1071.78 1493.16,1070.82 1490.73,1069.86 1488.34,1068.9 1485.98,1067.94 1483.67,1066.98 1481.39,1066.02 \n",
       "  1479.15,1065.06 1476.96,1064.1 1474.8,1063.14 1472.68,1062.18 1470.6,1061.22 1468.56,1060.26 1466.57,1059.3 1464.61,1058.34 1462.7,1057.38 1460.82,1056.42 \n",
       "  1458.99,1055.46 1457.2,1054.5 1455.44,1053.54 1453.74,1052.58 1452.07,1051.62 1450.45,1050.66 1448.86,1049.7 1447.32,1048.74 1445.83,1047.78 1444.37,1046.82 \n",
       "  1442.96,1045.86 1441.59,1044.9 1440.27,1043.94 1438.98,1042.98 1437.75,1042.02 1436.55,1041.06 1435.4,1040.1 1434.29,1039.14 1433.23,1038.18 1432.21,1037.22 \n",
       "  1431.23,1036.26 1430.3,1035.29 1429.42,1034.33 1428.57,1033.37 1427.77,1032.41 1427.02,1031.45 1426.31,1030.49 1425.65,1029.53 1425.03,1028.57 1424.45,1027.61 \n",
       "  1423.92,1026.65 1423.44,1025.69 1423,1024.73 1422.61,1023.77 1422.26,1022.81 1421.95,1021.85 1421.69,1020.89 1421.48,1019.93 1421.31,1018.97 1421.18,1018.01 \n",
       "  1421.11,1017.05 1421.07,1016.09 1421.08,1015.13 1421.14,1014.17 1421.24,1013.21 1421.39,1012.25 1421.58,1011.29 1421.82,1010.33 1422.1,1009.37 1422.43,1008.41 \n",
       "  1422.81,1007.45 1423.22,1006.49 1423.69,1005.53 1424.2,1004.57 1424.75,1003.61 1425.35,1002.65 1425.99,1001.69 1426.68,1000.73 1427.41,999.767 1428.19,998.806 \n",
       "  1429.01,997.846 1429.87,996.886 1430.78,995.926 1431.74,994.965 1432.74,994.005 1433.78,993.045 1434.87,992.085 1436,991.124 1437.17,990.164 1438.39,989.204 \n",
       "  1439.65,988.244 1440.95,987.284 1442.3,986.323 1443.69,985.363 1445.13,984.403 1446.6,983.443 1448.12,982.482 1449.68,981.522 1451.29,980.562 1452.93,979.602 \n",
       "  1454.62,978.642 1456.35,977.681 1458.13,976.721 1459.94,975.761 1461.79,974.801 1463.69,973.84 1465.63,972.88 1467.61,971.92 1469.62,970.96 1471.68,969.999 \n",
       "  1473.78,969.039 1475.92,968.079 1478.1,967.119 1480.32,966.159 1482.57,965.198 1484.87,964.238 1487.21,963.278 1489.58,962.318 1491.99,961.357 1494.44,960.397 \n",
       "  1496.93,959.437 1499.46,958.477 1502.02,957.517 1504.62,956.556 1507.26,955.596 1509.93,954.636 1512.64,953.676 1515.39,952.715 1518.17,951.755 1520.99,950.795 \n",
       "  1523.84,949.835 1526.73,948.874 1529.65,947.914 1532.61,946.954 1535.6,945.994 1538.63,945.034 1541.69,944.073 1544.78,943.113 1547.9,942.153 1551.06,941.193 \n",
       "  1554.25,940.232 1557.47,939.272 1560.72,938.312 1564.01,937.352 1567.32,936.392 1570.67,935.431 1574.04,934.471 1577.45,933.511 1580.88,932.551 1584.35,931.59 \n",
       "  1587.84,930.63 1591.36,929.67 1594.91,928.71 1598.49,927.75 1602.1,926.789 1605.73,925.829 1609.39,924.869 1613.07,923.909 1616.78,922.948 1620.52,921.988 \n",
       "  1624.28,921.028 1628.07,920.068 1631.88,919.107 1635.72,918.147 1639.58,917.187 1643.46,916.227 1647.37,915.267 1651.3,914.306 1655.25,913.346 1659.22,912.386 \n",
       "  1663.22,911.426 1667.23,910.465 1671.27,909.505 1675.33,908.545 1679.4,907.585 1683.5,906.625 1687.61,905.664 1691.74,904.704 1695.9,903.744 1700.06,902.784 \n",
       "  1704.25,901.823 1708.45,900.863 1712.67,899.903 1716.91,898.943 1721.16,897.982 1725.43,897.022 1729.71,896.062 1734,895.102 1738.31,894.142 1742.64,893.181 \n",
       "  1746.97,892.221 1751.32,891.261 1755.68,890.301 1760.06,889.34 1764.44,888.38 1768.83,887.42 1773.24,886.46 1777.66,885.5 1782.08,884.539 1786.52,883.579 \n",
       "  1790.96,882.619 1795.41,881.659 1799.87,880.698 1804.33,879.738 1808.81,878.778 1813.29,877.818 1817.77,876.857 1822.26,875.897 1826.76,874.937 1831.26,873.977 \n",
       "  1835.77,873.017 1840.28,872.056 1844.79,871.096 1849.3,870.136 1853.82,869.176 1858.34,868.215 1862.86,867.255 1867.38,866.295 1871.9,865.335 \n",
       "  \"/>\n",
       "<path clip-path=\"url(#clip070)\" d=\"\n",
       "M2161.83 972.231 L2320.8 972.231 L2320.8 868.551 L2161.83 868.551  Z\n",
       "  \" fill=\"#ffffff\" fill-rule=\"evenodd\" fill-opacity=\"1\"/>\n",
       "<polyline clip-path=\"url(#clip070)\" style=\"stroke:#000000; stroke-linecap:round; stroke-linejoin:round; stroke-width:4; stroke-opacity:1; fill:none\" points=\"\n",
       "  2161.83,972.231 2320.8,972.231 2320.8,868.551 2161.83,868.551 2161.83,972.231 \n",
       "  \"/>\n",
       "<polyline clip-path=\"url(#clip070)\" style=\"stroke:#009af9; stroke-linecap:round; stroke-linejoin:round; stroke-width:4; stroke-opacity:1; fill:none\" points=\"\n",
       "  2172.48,920.391 2236.4,920.391 \n",
       "  \"/>\n",
       "<path clip-path=\"url(#clip070)\" d=\"M2260.9 940.078 Q2259.09 944.708 2257.38 946.12 Q2255.67 947.532 2252.8 947.532 L2249.4 947.532 L2249.4 943.967 L2251.9 943.967 Q2253.66 943.967 2254.63 943.134 Q2255.6 942.3 2256.78 939.199 L2257.54 937.254 L2247.06 911.745 L2251.57 911.745 L2259.67 932.023 L2267.78 911.745 L2272.29 911.745 L2260.9 940.078 Z\" fill=\"#000000\" fill-rule=\"evenodd\" fill-opacity=\"1\" /><path clip-path=\"url(#clip070)\" d=\"M2279.58 933.736 L2287.22 933.736 L2287.22 907.37 L2278.91 909.037 L2278.91 904.778 L2287.17 903.111 L2291.85 903.111 L2291.85 933.736 L2299.49 933.736 L2299.49 937.671 L2279.58 937.671 L2279.58 933.736 Z\" fill=\"#000000\" fill-rule=\"evenodd\" fill-opacity=\"1\" /></svg>\n"
      ]
     },
     "execution_count": 81,
     "metadata": {},
     "output_type": "execute_result"
    }
   ],
   "source": [
    "p1() = plot(sin, 0:0.01:2*pi)\n",
    "p2() = plot(0:0.01:2*pi, sin)\n",
    "\n",
    "x = Array(0:0.01:2*pi);\n",
    "y = sin.(x); # elementwise sin(x)\n",
    "\n",
    "p3() = plot(x,y)\n",
    "p4() = plot(y,x)\n",
    "\n",
    "\n",
    "plot(p1(), p2(), p3(), p4())"
   ]
  },
  {
   "cell_type": "markdown",
   "metadata": {
    "id": "50BDOr9njTmD"
   },
   "source": [
    "Dynamic plots."
   ]
  },
  {
   "cell_type": "code",
   "execution_count": null,
   "metadata": {
    "id": "wWKjEVj5jTZM"
   },
   "outputs": [],
   "source": [
    "# TODO: Error\n",
    "# The kernel appears to have died. It will restart automatically.\n",
    "using Plots\n",
    "default(legend = false)\n",
    "x = y = range(-5, 5, length = 40)\n",
    "zs = zeros(0, 40)\n",
    "n = 100\n",
    "\n",
    "@gif for i in range(0, stop = 2π, length = n)\n",
    "    f(x, y) = sin(x + 10sin(i)) + cos(y)\n",
    "\n",
    "    # create a plot with 3 subplots and a custom layout\n",
    "    l = @layout [a{0.7w} b; c{0.2h}]\n",
    "    p = plot(x, y, f, st = [:surface, :contourf], layout = l)\n",
    "\n",
    "    # induce a slight oscillating camera angle sweep, in degrees (azimuth, altitude)\n",
    "    plot!(p[1], camera = (10 * (1 + cos(i)), 40))\n",
    "\n",
    "    # add a tracking line\n",
    "    fixed_x = zeros(40)\n",
    "    z = map(f, fixed_x, y)\n",
    "    plot!(p[1], fixed_x, y, z, line = (:black, 5, 0.2))\n",
    "    vline!(p[2], [0], line = (:black, 5))\n",
    "\n",
    "    # add to and show the tracked values over time\n",
    "    global zs = vcat(zs, z')\n",
    "    plot!(p[3], zs, alpha = 0.2, palette = cgrad(:blues).colors)\n",
    "end"
   ]
  },
  {
   "cell_type": "markdown",
   "metadata": {
    "id": "Bi3mePu3jb6A"
   },
   "source": [
    "Dataset plots."
   ]
  },
  {
   "cell_type": "code",
   "execution_count": 1,
   "metadata": {
    "id": "54aIAMhDjbRZ"
   },
   "outputs": [
    {
     "data": {
      "image/svg+xml": [
       "<?xml version=\"1.0\" encoding=\"utf-8\"?>\n",
       "<svg xmlns=\"http://www.w3.org/2000/svg\" xmlns:xlink=\"http://www.w3.org/1999/xlink\" width=\"600\" height=\"400\" viewBox=\"0 0 2400 1600\">\n",
       "<defs>\n",
       "  <clipPath id=\"clip570\">\n",
       "    <rect x=\"0\" y=\"0\" width=\"2400\" height=\"1600\"/>\n",
       "  </clipPath>\n",
       "</defs>\n",
       "<path clip-path=\"url(#clip570)\" d=\"\n",
       "M0 1600 L2400 1600 L2400 0 L0 0  Z\n",
       "  \" fill=\"#333333\" fill-rule=\"evenodd\" fill-opacity=\"1\"/>\n",
       "<defs>\n",
       "  <clipPath id=\"clip571\">\n",
       "    <rect x=\"480\" y=\"0\" width=\"1681\" height=\"1600\"/>\n",
       "  </clipPath>\n",
       "</defs>\n",
       "<path clip-path=\"url(#clip570)\" d=\"\n",
       "M220.19 1423.18 L2352.76 1423.18 L2352.76 123.472 L220.19 123.472  Z\n",
       "  \" fill=\"#333333\" fill-rule=\"evenodd\" fill-opacity=\"1\"/>\n",
       "<defs>\n",
       "  <clipPath id=\"clip572\">\n",
       "    <rect x=\"220\" y=\"123\" width=\"2134\" height=\"1301\"/>\n",
       "  </clipPath>\n",
       "</defs>\n",
       "<polyline clip-path=\"url(#clip572)\" style=\"stroke:#ffffff; stroke-linecap:round; stroke-linejoin:round; stroke-width:2; stroke-opacity:0.1; fill:none\" points=\"\n",
       "  671.74,1423.18 671.74,123.472 \n",
       "  \"/>\n",
       "<polyline clip-path=\"url(#clip572)\" style=\"stroke:#ffffff; stroke-linecap:round; stroke-linejoin:round; stroke-width:2; stroke-opacity:0.1; fill:none\" points=\"\n",
       "  1230.59,1423.18 1230.59,123.472 \n",
       "  \"/>\n",
       "<polyline clip-path=\"url(#clip572)\" style=\"stroke:#ffffff; stroke-linecap:round; stroke-linejoin:round; stroke-width:2; stroke-opacity:0.1; fill:none\" points=\"\n",
       "  1789.44,1423.18 1789.44,123.472 \n",
       "  \"/>\n",
       "<polyline clip-path=\"url(#clip572)\" style=\"stroke:#ffffff; stroke-linecap:round; stroke-linejoin:round; stroke-width:2; stroke-opacity:0.1; fill:none\" points=\"\n",
       "  2348.29,1423.18 2348.29,123.472 \n",
       "  \"/>\n",
       "<polyline clip-path=\"url(#clip570)\" style=\"stroke:#ffffff; stroke-linecap:round; stroke-linejoin:round; stroke-width:4; stroke-opacity:1; fill:none\" points=\"\n",
       "  220.19,1423.18 2352.76,1423.18 \n",
       "  \"/>\n",
       "<polyline clip-path=\"url(#clip570)\" style=\"stroke:#ffffff; stroke-linecap:round; stroke-linejoin:round; stroke-width:4; stroke-opacity:1; fill:none\" points=\"\n",
       "  671.74,1423.18 671.74,1404.28 \n",
       "  \"/>\n",
       "<polyline clip-path=\"url(#clip570)\" style=\"stroke:#ffffff; stroke-linecap:round; stroke-linejoin:round; stroke-width:4; stroke-opacity:1; fill:none\" points=\"\n",
       "  1230.59,1423.18 1230.59,1404.28 \n",
       "  \"/>\n",
       "<polyline clip-path=\"url(#clip570)\" style=\"stroke:#ffffff; stroke-linecap:round; stroke-linejoin:round; stroke-width:4; stroke-opacity:1; fill:none\" points=\"\n",
       "  1789.44,1423.18 1789.44,1404.28 \n",
       "  \"/>\n",
       "<polyline clip-path=\"url(#clip570)\" style=\"stroke:#ffffff; stroke-linecap:round; stroke-linejoin:round; stroke-width:4; stroke-opacity:1; fill:none\" points=\"\n",
       "  2348.29,1423.18 2348.29,1404.28 \n",
       "  \"/>\n",
       "<path clip-path=\"url(#clip570)\" d=\"M662.018 1451.02 L680.374 1451.02 L680.374 1454.96 L666.3 1454.96 L666.3 1463.43 Q667.319 1463.08 668.337 1462.92 Q669.356 1462.73 670.374 1462.73 Q676.161 1462.73 679.541 1465.9 Q682.92 1469.08 682.92 1474.49 Q682.92 1480.07 679.448 1483.17 Q675.976 1486.25 669.657 1486.25 Q667.481 1486.25 665.212 1485.88 Q662.967 1485.51 660.559 1484.77 L660.559 1480.07 Q662.643 1481.2 664.865 1481.76 Q667.087 1482.32 669.564 1482.32 Q673.569 1482.32 675.907 1480.21 Q678.244 1478.1 678.244 1474.49 Q678.244 1470.88 675.907 1468.77 Q673.569 1466.67 669.564 1466.67 Q667.689 1466.67 665.814 1467.08 Q663.962 1467.5 662.018 1468.38 L662.018 1451.02 Z\" fill=\"#ffffff\" fill-rule=\"evenodd\" fill-opacity=\"1\" /><path clip-path=\"url(#clip570)\" d=\"M1230.99 1466.44 Q1227.85 1466.44 1225.99 1468.59 Q1224.16 1470.74 1224.16 1474.49 Q1224.16 1478.22 1225.99 1480.39 Q1227.85 1482.55 1230.99 1482.55 Q1234.14 1482.55 1235.97 1480.39 Q1237.82 1478.22 1237.82 1474.49 Q1237.82 1470.74 1235.97 1468.59 Q1234.14 1466.44 1230.99 1466.44 M1240.28 1451.78 L1240.28 1456.04 Q1238.52 1455.21 1236.71 1454.77 Q1234.93 1454.33 1233.17 1454.33 Q1228.54 1454.33 1226.09 1457.45 Q1223.66 1460.58 1223.31 1466.9 Q1224.67 1464.89 1226.73 1463.82 Q1228.79 1462.73 1231.27 1462.73 Q1236.48 1462.73 1239.49 1465.9 Q1242.52 1469.05 1242.52 1474.49 Q1242.52 1479.82 1239.37 1483.03 Q1236.22 1486.25 1230.99 1486.25 Q1225 1486.25 1221.83 1481.67 Q1218.66 1477.06 1218.66 1468.33 Q1218.66 1460.14 1222.54 1455.28 Q1226.43 1450.39 1232.98 1450.39 Q1234.74 1450.39 1236.53 1450.74 Q1238.33 1451.09 1240.28 1451.78 Z\" fill=\"#ffffff\" fill-rule=\"evenodd\" fill-opacity=\"1\" /><path clip-path=\"url(#clip570)\" d=\"M1778.33 1451.02 L1800.55 1451.02 L1800.55 1453.01 L1788 1485.58 L1783.12 1485.58 L1794.92 1454.96 L1778.33 1454.96 L1778.33 1451.02 Z\" fill=\"#ffffff\" fill-rule=\"evenodd\" fill-opacity=\"1\" /><path clip-path=\"url(#clip570)\" d=\"M2348.29 1469.17 Q2344.95 1469.17 2343.03 1470.95 Q2341.13 1472.73 2341.13 1475.86 Q2341.13 1478.98 2343.03 1480.77 Q2344.95 1482.55 2348.29 1482.55 Q2351.62 1482.55 2353.54 1480.77 Q2355.46 1478.96 2355.46 1475.86 Q2355.46 1472.73 2353.54 1470.95 Q2351.64 1469.17 2348.29 1469.17 M2343.61 1467.18 Q2340.6 1466.44 2338.91 1464.38 Q2337.24 1462.32 2337.24 1459.35 Q2337.24 1455.21 2340.18 1452.8 Q2343.15 1450.39 2348.29 1450.39 Q2353.45 1450.39 2356.39 1452.8 Q2359.33 1455.21 2359.33 1459.35 Q2359.33 1462.32 2357.64 1464.38 Q2355.97 1466.44 2352.98 1467.18 Q2356.36 1467.96 2358.24 1470.26 Q2360.14 1472.55 2360.14 1475.86 Q2360.14 1480.88 2357.06 1483.57 Q2354 1486.25 2348.29 1486.25 Q2342.57 1486.25 2339.49 1483.57 Q2336.43 1480.88 2336.43 1475.86 Q2336.43 1472.55 2338.33 1470.26 Q2340.23 1467.96 2343.61 1467.18 M2341.9 1459.79 Q2341.9 1462.48 2343.56 1463.98 Q2345.25 1465.49 2348.29 1465.49 Q2351.29 1465.49 2352.98 1463.98 Q2354.7 1462.48 2354.7 1459.79 Q2354.7 1457.11 2352.98 1455.6 Q2351.29 1454.1 2348.29 1454.1 Q2345.25 1454.1 2343.56 1455.6 Q2341.9 1457.11 2341.9 1459.79 Z\" fill=\"#ffffff\" fill-rule=\"evenodd\" fill-opacity=\"1\" /><path clip-path=\"url(#clip570)\" d=\"M1180.02 1520.52 L1186.45 1520.52 L1186.45 1562.63 L1209.59 1562.63 L1209.59 1568.04 L1180.02 1568.04 L1180.02 1520.52 Z\" fill=\"#ffffff\" fill-rule=\"evenodd\" fill-opacity=\"1\" /><path clip-path=\"url(#clip570)\" d=\"M1245.43 1548.76 L1245.43 1551.62 L1218.5 1551.62 Q1218.89 1557.67 1222.13 1560.85 Q1225.41 1564 1231.23 1564 Q1234.61 1564 1237.76 1563.17 Q1240.94 1562.35 1244.06 1560.69 L1244.06 1566.23 Q1240.91 1567.57 1237.6 1568.27 Q1234.29 1568.97 1230.88 1568.97 Q1222.35 1568.97 1217.36 1564 Q1212.39 1559.04 1212.39 1550.57 Q1212.39 1541.82 1217.1 1536.69 Q1221.85 1531.54 1229.87 1531.54 Q1237.06 1531.54 1241.23 1536.18 Q1245.43 1540.8 1245.43 1548.76 M1239.57 1547.04 Q1239.51 1542.23 1236.87 1539.37 Q1234.26 1536.5 1229.93 1536.5 Q1225.03 1536.5 1222.07 1539.27 Q1219.14 1542.04 1218.69 1547.07 L1239.57 1547.04 Z\" fill=\"#ffffff\" fill-rule=\"evenodd\" fill-opacity=\"1\" /><path clip-path=\"url(#clip570)\" d=\"M1284.67 1546.53 L1284.67 1568.04 L1278.82 1568.04 L1278.82 1546.72 Q1278.82 1541.66 1276.84 1539.14 Q1274.87 1536.63 1270.92 1536.63 Q1266.18 1536.63 1263.45 1539.65 Q1260.71 1542.68 1260.71 1547.9 L1260.71 1568.04 L1254.82 1568.04 L1254.82 1532.4 L1260.71 1532.4 L1260.71 1537.93 Q1262.81 1534.72 1265.64 1533.13 Q1268.51 1531.54 1272.23 1531.54 Q1278.37 1531.54 1281.52 1535.36 Q1284.67 1539.14 1284.67 1546.53 Z\" fill=\"#ffffff\" fill-rule=\"evenodd\" fill-opacity=\"1\" /><path clip-path=\"url(#clip570)\" d=\"M1319.81 1549.81 Q1319.81 1543.44 1317.17 1539.94 Q1314.56 1536.44 1309.82 1536.44 Q1305.11 1536.44 1302.47 1539.94 Q1299.86 1543.44 1299.86 1549.81 Q1299.86 1556.14 1302.47 1559.64 Q1305.11 1563.14 1309.82 1563.14 Q1314.56 1563.14 1317.17 1559.64 Q1319.81 1556.14 1319.81 1549.81 M1325.67 1563.62 Q1325.67 1572.72 1321.63 1577.15 Q1317.59 1581.6 1309.25 1581.6 Q1306.16 1581.6 1303.42 1581.13 Q1300.68 1580.68 1298.11 1579.72 L1298.11 1574.03 Q1300.68 1575.43 1303.2 1576.1 Q1305.71 1576.76 1308.32 1576.76 Q1314.08 1576.76 1316.95 1573.74 Q1319.81 1570.75 1319.81 1564.67 L1319.81 1561.77 Q1318 1564.92 1315.17 1566.48 Q1312.33 1568.04 1308.39 1568.04 Q1301.83 1568.04 1297.82 1563.05 Q1293.81 1558.05 1293.81 1549.81 Q1293.81 1541.53 1297.82 1536.53 Q1301.83 1531.54 1308.39 1531.54 Q1312.33 1531.54 1315.17 1533.1 Q1318 1534.66 1319.81 1537.81 L1319.81 1532.4 L1325.67 1532.4 L1325.67 1563.62 Z\" fill=\"#ffffff\" fill-rule=\"evenodd\" fill-opacity=\"1\" /><path clip-path=\"url(#clip570)\" d=\"M1343.53 1522.27 L1343.53 1532.4 L1355.59 1532.4 L1355.59 1536.95 L1343.53 1536.95 L1343.53 1556.3 Q1343.53 1560.66 1344.7 1561.9 Q1345.91 1563.14 1349.57 1563.14 L1355.59 1563.14 L1355.59 1568.04 L1349.57 1568.04 Q1342.79 1568.04 1340.22 1565.53 Q1337.64 1562.98 1337.64 1556.3 L1337.64 1536.95 L1333.34 1536.95 L1333.34 1532.4 L1337.64 1532.4 L1337.64 1522.27 L1343.53 1522.27 Z\" fill=\"#ffffff\" fill-rule=\"evenodd\" fill-opacity=\"1\" /><path clip-path=\"url(#clip570)\" d=\"M1392.92 1546.53 L1392.92 1568.04 L1387.07 1568.04 L1387.07 1546.72 Q1387.07 1541.66 1385.09 1539.14 Q1383.12 1536.63 1379.17 1536.63 Q1374.43 1536.63 1371.69 1539.65 Q1368.96 1542.68 1368.96 1547.9 L1368.96 1568.04 L1363.07 1568.04 L1363.07 1518.52 L1368.96 1518.52 L1368.96 1537.93 Q1371.06 1534.72 1373.89 1533.13 Q1376.75 1531.54 1380.48 1531.54 Q1386.62 1531.54 1389.77 1535.36 Q1392.92 1539.14 1392.92 1546.53 Z\" fill=\"#ffffff\" fill-rule=\"evenodd\" fill-opacity=\"1\" /><polyline clip-path=\"url(#clip572)\" style=\"stroke:#ffffff; stroke-linecap:round; stroke-linejoin:round; stroke-width:2; stroke-opacity:0.1; fill:none\" points=\"\n",
       "  220.19,1386.4 2352.76,1386.4 \n",
       "  \"/>\n",
       "<polyline clip-path=\"url(#clip572)\" style=\"stroke:#ffffff; stroke-linecap:round; stroke-linejoin:round; stroke-width:2; stroke-opacity:0.1; fill:none\" points=\"\n",
       "  220.19,1130.95 2352.76,1130.95 \n",
       "  \"/>\n",
       "<polyline clip-path=\"url(#clip572)\" style=\"stroke:#ffffff; stroke-linecap:round; stroke-linejoin:round; stroke-width:2; stroke-opacity:0.1; fill:none\" points=\"\n",
       "  220.19,875.504 2352.76,875.504 \n",
       "  \"/>\n",
       "<polyline clip-path=\"url(#clip572)\" style=\"stroke:#ffffff; stroke-linecap:round; stroke-linejoin:round; stroke-width:2; stroke-opacity:0.1; fill:none\" points=\"\n",
       "  220.19,620.059 2352.76,620.059 \n",
       "  \"/>\n",
       "<polyline clip-path=\"url(#clip572)\" style=\"stroke:#ffffff; stroke-linecap:round; stroke-linejoin:round; stroke-width:2; stroke-opacity:0.1; fill:none\" points=\"\n",
       "  220.19,364.613 2352.76,364.613 \n",
       "  \"/>\n",
       "<polyline clip-path=\"url(#clip570)\" style=\"stroke:#ffffff; stroke-linecap:round; stroke-linejoin:round; stroke-width:4; stroke-opacity:1; fill:none\" points=\"\n",
       "  220.19,1423.18 220.19,123.472 \n",
       "  \"/>\n",
       "<polyline clip-path=\"url(#clip570)\" style=\"stroke:#ffffff; stroke-linecap:round; stroke-linejoin:round; stroke-width:4; stroke-opacity:1; fill:none\" points=\"\n",
       "  220.19,1386.4 239.088,1386.4 \n",
       "  \"/>\n",
       "<polyline clip-path=\"url(#clip570)\" style=\"stroke:#ffffff; stroke-linecap:round; stroke-linejoin:round; stroke-width:4; stroke-opacity:1; fill:none\" points=\"\n",
       "  220.19,1130.95 239.088,1130.95 \n",
       "  \"/>\n",
       "<polyline clip-path=\"url(#clip570)\" style=\"stroke:#ffffff; stroke-linecap:round; stroke-linejoin:round; stroke-width:4; stroke-opacity:1; fill:none\" points=\"\n",
       "  220.19,875.504 239.088,875.504 \n",
       "  \"/>\n",
       "<polyline clip-path=\"url(#clip570)\" style=\"stroke:#ffffff; stroke-linecap:round; stroke-linejoin:round; stroke-width:4; stroke-opacity:1; fill:none\" points=\"\n",
       "  220.19,620.059 239.088,620.059 \n",
       "  \"/>\n",
       "<polyline clip-path=\"url(#clip570)\" style=\"stroke:#ffffff; stroke-linecap:round; stroke-linejoin:round; stroke-width:4; stroke-opacity:1; fill:none\" points=\"\n",
       "  220.19,364.613 239.088,364.613 \n",
       "  \"/>\n",
       "<path clip-path=\"url(#clip570)\" d=\"M121.043 1399.74 L137.362 1399.74 L137.362 1403.68 L115.418 1403.68 L115.418 1399.74 Q118.08 1396.99 122.663 1392.36 Q127.269 1387.7 128.45 1386.36 Q130.695 1383.84 131.575 1382.1 Q132.478 1380.34 132.478 1378.65 Q132.478 1375.9 130.533 1374.16 Q128.612 1372.43 125.51 1372.43 Q123.311 1372.43 120.857 1373.19 Q118.427 1373.95 115.649 1375.5 L115.649 1370.78 Q118.473 1369.65 120.927 1369.07 Q123.38 1368.49 125.418 1368.49 Q130.788 1368.49 133.982 1371.18 Q137.177 1373.86 137.177 1378.35 Q137.177 1380.48 136.367 1382.4 Q135.579 1384.3 133.473 1386.89 Q132.894 1387.56 129.792 1390.78 Q126.691 1393.98 121.043 1399.74 Z\" fill=\"#ffffff\" fill-rule=\"evenodd\" fill-opacity=\"1\" /><path clip-path=\"url(#clip570)\" d=\"M147.177 1397.8 L152.061 1397.8 L152.061 1403.68 L147.177 1403.68 L147.177 1397.8 Z\" fill=\"#ffffff\" fill-rule=\"evenodd\" fill-opacity=\"1\" /><path clip-path=\"url(#clip570)\" d=\"M172.246 1372.19 Q168.635 1372.19 166.806 1375.76 Q165.001 1379.3 165.001 1386.43 Q165.001 1393.54 166.806 1397.1 Q168.635 1400.64 172.246 1400.64 Q175.88 1400.64 177.686 1397.1 Q179.514 1393.54 179.514 1386.43 Q179.514 1379.3 177.686 1375.76 Q175.88 1372.19 172.246 1372.19 M172.246 1368.49 Q178.056 1368.49 181.112 1373.1 Q184.19 1377.68 184.19 1386.43 Q184.19 1395.16 181.112 1399.76 Q178.056 1404.35 172.246 1404.35 Q166.436 1404.35 163.357 1399.76 Q160.302 1395.16 160.302 1386.43 Q160.302 1377.68 163.357 1373.1 Q166.436 1368.49 172.246 1368.49 Z\" fill=\"#ffffff\" fill-rule=\"evenodd\" fill-opacity=\"1\" /><path clip-path=\"url(#clip570)\" d=\"M122.038 1144.29 L138.357 1144.29 L138.357 1148.23 L116.413 1148.23 L116.413 1144.29 Q119.075 1141.54 123.658 1136.91 Q128.265 1132.26 129.445 1130.92 Q131.691 1128.39 132.57 1126.66 Q133.473 1124.9 133.473 1123.21 Q133.473 1120.45 131.529 1118.72 Q129.607 1116.98 126.505 1116.98 Q124.306 1116.98 121.853 1117.74 Q119.422 1118.51 116.644 1120.06 L116.644 1115.34 Q119.468 1114.2 121.922 1113.62 Q124.376 1113.04 126.413 1113.04 Q131.783 1113.04 134.978 1115.73 Q138.172 1118.42 138.172 1122.91 Q138.172 1125.04 137.362 1126.96 Q136.575 1128.86 134.468 1131.45 Q133.89 1132.12 130.788 1135.34 Q127.686 1138.53 122.038 1144.29 Z\" fill=\"#ffffff\" fill-rule=\"evenodd\" fill-opacity=\"1\" /><path clip-path=\"url(#clip570)\" d=\"M148.172 1142.35 L153.056 1142.35 L153.056 1148.23 L148.172 1148.23 L148.172 1142.35 Z\" fill=\"#ffffff\" fill-rule=\"evenodd\" fill-opacity=\"1\" /><path clip-path=\"url(#clip570)\" d=\"M163.288 1113.67 L181.644 1113.67 L181.644 1117.61 L167.57 1117.61 L167.57 1126.08 Q168.589 1125.73 169.607 1125.57 Q170.626 1125.38 171.644 1125.38 Q177.431 1125.38 180.811 1128.55 Q184.19 1131.73 184.19 1137.14 Q184.19 1142.72 180.718 1145.82 Q177.246 1148.9 170.927 1148.9 Q168.751 1148.9 166.482 1148.53 Q164.237 1148.16 161.829 1147.42 L161.829 1142.72 Q163.913 1143.85 166.135 1144.41 Q168.357 1144.97 170.834 1144.97 Q174.839 1144.97 177.176 1142.86 Q179.514 1140.75 179.514 1137.14 Q179.514 1133.53 177.176 1131.42 Q174.839 1129.32 170.834 1129.32 Q168.959 1129.32 167.084 1129.73 Q165.232 1130.15 163.288 1131.03 L163.288 1113.67 Z\" fill=\"#ffffff\" fill-rule=\"evenodd\" fill-opacity=\"1\" /><path clip-path=\"url(#clip570)\" d=\"M131.181 874.15 Q134.538 874.868 136.413 877.136 Q138.311 879.405 138.311 882.738 Q138.311 887.854 134.792 890.655 Q131.274 893.456 124.793 893.456 Q122.617 893.456 120.302 893.016 Q118.01 892.599 115.556 891.743 L115.556 887.229 Q117.501 888.363 119.816 888.942 Q122.13 889.52 124.654 889.52 Q129.052 889.52 131.343 887.784 Q133.658 886.048 133.658 882.738 Q133.658 879.682 131.505 877.97 Q129.376 876.233 125.556 876.233 L121.529 876.233 L121.529 872.391 L125.742 872.391 Q129.191 872.391 131.019 871.025 Q132.848 869.636 132.848 867.044 Q132.848 864.382 130.95 862.97 Q129.075 861.534 125.556 861.534 Q123.635 861.534 121.436 861.951 Q119.237 862.368 116.598 863.247 L116.598 859.081 Q119.26 858.34 121.575 857.97 Q123.913 857.599 125.973 857.599 Q131.297 857.599 134.399 860.03 Q137.501 862.437 137.501 866.558 Q137.501 869.428 135.857 871.419 Q134.214 873.386 131.181 874.15 Z\" fill=\"#ffffff\" fill-rule=\"evenodd\" fill-opacity=\"1\" /><path clip-path=\"url(#clip570)\" d=\"M147.177 886.905 L152.061 886.905 L152.061 892.784 L147.177 892.784 L147.177 886.905 Z\" fill=\"#ffffff\" fill-rule=\"evenodd\" fill-opacity=\"1\" /><path clip-path=\"url(#clip570)\" d=\"M172.246 861.303 Q168.635 861.303 166.806 864.868 Q165.001 868.409 165.001 875.539 Q165.001 882.645 166.806 886.21 Q168.635 889.752 172.246 889.752 Q175.88 889.752 177.686 886.21 Q179.514 882.645 179.514 875.539 Q179.514 868.409 177.686 864.868 Q175.88 861.303 172.246 861.303 M172.246 857.599 Q178.056 857.599 181.112 862.206 Q184.19 866.789 184.19 875.539 Q184.19 884.266 181.112 888.872 Q178.056 893.456 172.246 893.456 Q166.436 893.456 163.357 888.872 Q160.302 884.266 160.302 875.539 Q160.302 866.789 163.357 862.206 Q166.436 857.599 172.246 857.599 Z\" fill=\"#ffffff\" fill-rule=\"evenodd\" fill-opacity=\"1\" /><path clip-path=\"url(#clip570)\" d=\"M132.177 618.704 Q135.533 619.422 137.408 621.691 Q139.306 623.959 139.306 627.292 Q139.306 632.408 135.788 635.209 Q132.269 638.01 125.788 638.01 Q123.612 638.01 121.297 637.57 Q119.006 637.153 116.552 636.297 L116.552 631.783 Q118.496 632.917 120.811 633.496 Q123.126 634.075 125.649 634.075 Q130.047 634.075 132.339 632.339 Q134.654 630.602 134.654 627.292 Q134.654 624.237 132.501 622.524 Q130.371 620.788 126.552 620.788 L122.524 620.788 L122.524 616.945 L126.737 616.945 Q130.186 616.945 132.015 615.579 Q133.843 614.191 133.843 611.598 Q133.843 608.936 131.945 607.524 Q130.07 606.089 126.552 606.089 Q124.63 606.089 122.431 606.505 Q120.232 606.922 117.593 607.802 L117.593 603.635 Q120.255 602.894 122.57 602.524 Q124.908 602.154 126.968 602.154 Q132.292 602.154 135.394 604.584 Q138.496 606.992 138.496 611.112 Q138.496 613.982 136.853 615.973 Q135.209 617.941 132.177 618.704 Z\" fill=\"#ffffff\" fill-rule=\"evenodd\" fill-opacity=\"1\" /><path clip-path=\"url(#clip570)\" d=\"M148.172 631.459 L153.056 631.459 L153.056 637.339 L148.172 637.339 L148.172 631.459 Z\" fill=\"#ffffff\" fill-rule=\"evenodd\" fill-opacity=\"1\" /><path clip-path=\"url(#clip570)\" d=\"M163.288 602.779 L181.644 602.779 L181.644 606.714 L167.57 606.714 L167.57 615.186 Q168.589 614.839 169.607 614.677 Q170.626 614.491 171.644 614.491 Q177.431 614.491 180.811 617.663 Q184.19 620.834 184.19 626.251 Q184.19 631.829 180.718 634.931 Q177.246 638.01 170.927 638.01 Q168.751 638.01 166.482 637.639 Q164.237 637.269 161.829 636.528 L161.829 631.829 Q163.913 632.964 166.135 633.519 Q168.357 634.075 170.834 634.075 Q174.839 634.075 177.176 631.968 Q179.514 629.862 179.514 626.251 Q179.514 622.64 177.176 620.533 Q174.839 618.427 170.834 618.427 Q168.959 618.427 167.084 618.843 Q165.232 619.26 163.288 620.14 L163.288 602.779 Z\" fill=\"#ffffff\" fill-rule=\"evenodd\" fill-opacity=\"1\" /><path clip-path=\"url(#clip570)\" d=\"M129.862 351.407 L118.056 369.856 L129.862 369.856 L129.862 351.407 M128.635 347.333 L134.515 347.333 L134.515 369.856 L139.445 369.856 L139.445 373.745 L134.515 373.745 L134.515 381.893 L129.862 381.893 L129.862 373.745 L114.26 373.745 L114.26 369.231 L128.635 347.333 Z\" fill=\"#ffffff\" fill-rule=\"evenodd\" fill-opacity=\"1\" /><path clip-path=\"url(#clip570)\" d=\"M147.177 376.013 L152.061 376.013 L152.061 381.893 L147.177 381.893 L147.177 376.013 Z\" fill=\"#ffffff\" fill-rule=\"evenodd\" fill-opacity=\"1\" /><path clip-path=\"url(#clip570)\" d=\"M172.246 350.412 Q168.635 350.412 166.806 353.976 Q165.001 357.518 165.001 364.648 Q165.001 371.754 166.806 375.319 Q168.635 378.86 172.246 378.86 Q175.88 378.86 177.686 375.319 Q179.514 371.754 179.514 364.648 Q179.514 357.518 177.686 353.976 Q175.88 350.412 172.246 350.412 M172.246 346.708 Q178.056 346.708 181.112 351.314 Q184.19 355.898 184.19 364.648 Q184.19 373.374 181.112 377.981 Q178.056 382.564 172.246 382.564 Q166.436 382.564 163.357 377.981 Q160.302 373.374 160.302 364.648 Q160.302 355.898 163.357 351.314 Q166.436 346.708 172.246 346.708 Z\" fill=\"#ffffff\" fill-rule=\"evenodd\" fill-opacity=\"1\" /><path clip-path=\"url(#clip570)\" d=\"M16.4842 864.165 L16.4842 857.672 L56.6518 847.677 L16.4842 837.715 L16.4842 830.49 L56.6518 820.496 L16.4842 810.534 L16.4842 804.009 L64.0042 815.944 L64.0042 824.029 L22.7544 834.055 L64.0042 844.176 L64.0042 852.261 L16.4842 864.165 Z\" fill=\"#ffffff\" fill-rule=\"evenodd\" fill-opacity=\"1\" /><path clip-path=\"url(#clip570)\" d=\"M28.3562 797.166 L28.3562 791.309 L64.0042 791.309 L64.0042 797.166 L28.3562 797.166 M14.479 797.166 L14.479 791.309 L21.895 791.309 L21.895 797.166 L14.479 797.166 Z\" fill=\"#ffffff\" fill-rule=\"evenodd\" fill-opacity=\"1\" /><path clip-path=\"url(#clip570)\" d=\"M33.7671 755.597 L14.479 755.597 L14.479 749.741 L64.0042 749.741 L64.0042 755.597 L58.657 755.597 Q61.8398 757.444 63.3994 760.276 Q64.9272 763.077 64.9272 767.024 Q64.9272 773.485 59.771 777.559 Q54.6147 781.601 46.212 781.601 Q37.8093 781.601 32.6531 777.559 Q27.4968 773.485 27.4968 767.024 Q27.4968 763.077 29.0564 760.276 Q30.5842 757.444 33.7671 755.597 M46.212 775.554 Q52.6732 775.554 56.3653 772.912 Q60.0256 770.239 60.0256 765.592 Q60.0256 760.945 56.3653 758.271 Q52.6732 755.597 46.212 755.597 Q39.7508 755.597 36.0905 758.271 Q32.3984 760.945 32.3984 765.592 Q32.3984 770.239 36.0905 772.912 Q39.7508 775.554 46.212 775.554 Z\" fill=\"#ffffff\" fill-rule=\"evenodd\" fill-opacity=\"1\" /><path clip-path=\"url(#clip570)\" d=\"M18.2347 731.885 L28.3562 731.885 L28.3562 719.822 L32.9077 719.822 L32.9077 731.885 L52.2594 731.885 Q56.6199 731.885 57.8613 730.708 Q59.1026 729.498 59.1026 725.838 L59.1026 719.822 L64.0042 719.822 L64.0042 725.838 Q64.0042 732.617 61.4897 735.195 Q58.9434 737.774 52.2594 737.774 L32.9077 737.774 L32.9077 742.07 L28.3562 742.07 L28.3562 737.774 L18.2347 737.774 L18.2347 731.885 Z\" fill=\"#ffffff\" fill-rule=\"evenodd\" fill-opacity=\"1\" /><path clip-path=\"url(#clip570)\" d=\"M42.4881 682.487 L64.0042 682.487 L64.0042 688.344 L42.679 688.344 Q37.6183 688.344 35.1038 690.317 Q32.5894 692.291 32.5894 696.237 Q32.5894 700.98 35.6131 703.717 Q38.6368 706.454 43.8567 706.454 L64.0042 706.454 L64.0042 712.343 L14.479 712.343 L14.479 706.454 L33.8944 706.454 Q30.6797 704.354 29.0883 701.521 Q27.4968 698.656 27.4968 694.932 Q27.4968 688.789 31.3163 685.638 Q35.1038 682.487 42.4881 682.487 Z\" fill=\"#ffffff\" fill-rule=\"evenodd\" fill-opacity=\"1\" /><path clip-path=\"url(#clip570)\" d=\"M927.543 12.096 L939.736 12.096 L955.17 53.2532 L970.685 12.096 L982.878 12.096 L982.878 72.576 L974.898 72.576 L974.898 19.4686 L959.302 60.9499 L951.079 60.9499 L935.483 19.4686 L935.483 72.576 L927.543 72.576 L927.543 12.096 Z\" fill=\"#ffffff\" fill-rule=\"evenodd\" fill-opacity=\"1\" /><path clip-path=\"url(#clip570)\" d=\"M1017.68 76.7889 Q1014.52 84.8907 1011.52 87.3618 Q1008.52 89.8329 1003.5 89.8329 L997.542 89.8329 L997.542 83.5945 L1001.92 83.5945 Q1005 83.5945 1006.7 82.1361 Q1008.4 80.6778 1010.46 75.2496 L1011.8 71.8468 L993.451 27.2059 L1001.35 27.2059 L1015.53 62.6918 L1029.71 27.2059 L1037.61 27.2059 L1017.68 76.7889 Z\" fill=\"#ffffff\" fill-rule=\"evenodd\" fill-opacity=\"1\" /><path clip-path=\"url(#clip570)\" d=\"M1094.89 49.7694 Q1085.85 49.7694 1082.37 51.8354 Q1078.88 53.9013 1078.88 58.8839 Q1078.88 62.8538 1081.48 65.2034 Q1084.11 67.5124 1088.61 67.5124 Q1094.8 67.5124 1098.53 63.1374 Q1102.3 58.7219 1102.3 51.4303 L1102.3 49.7694 L1094.89 49.7694 M1109.75 46.6907 L1109.75 72.576 L1102.3 72.576 L1102.3 65.6895 Q1099.75 69.8214 1095.94 71.8063 Q1092.13 73.7508 1086.62 73.7508 Q1079.65 73.7508 1075.52 69.8619 Q1071.43 65.9325 1071.43 59.3701 Q1071.43 51.7138 1076.54 47.825 Q1081.68 43.9361 1091.85 43.9361 L1102.3 43.9361 L1102.3 43.2069 Q1102.3 38.0623 1098.9 35.2672 Q1095.53 32.4315 1089.42 32.4315 Q1085.53 32.4315 1081.84 33.3632 Q1078.16 34.295 1074.75 36.1584 L1074.75 29.2718 Q1078.84 27.692 1082.69 26.9223 Q1086.54 26.1121 1090.19 26.1121 Q1100.03 26.1121 1104.89 31.2163 Q1109.75 36.3204 1109.75 46.6907 Z\" fill=\"#ffffff\" fill-rule=\"evenodd\" fill-opacity=\"1\" /><path clip-path=\"url(#clip570)\" d=\"M1120.77 27.2059 L1128.22 27.2059 L1137.54 62.6108 L1146.82 27.2059 L1155.61 27.2059 L1164.93 62.6108 L1174.2 27.2059 L1181.66 27.2059 L1169.79 72.576 L1161 72.576 L1151.23 35.3887 L1141.43 72.576 L1132.64 72.576 L1120.77 27.2059 Z\" fill=\"#ffffff\" fill-rule=\"evenodd\" fill-opacity=\"1\" /><path clip-path=\"url(#clip570)\" d=\"M1231.77 48.0275 L1231.77 51.6733 L1197.5 51.6733 Q1197.98 59.3701 1202.11 63.421 Q1206.29 67.4314 1213.7 67.4314 Q1217.99 67.4314 1222 66.3781 Q1226.05 65.3249 1230.02 63.2184 L1230.02 70.267 Q1226.01 71.9684 1221.8 72.8596 Q1217.59 73.7508 1213.25 73.7508 Q1202.4 73.7508 1196.04 67.4314 Q1189.72 61.1119 1189.72 50.3365 Q1189.72 39.1965 1195.71 32.6746 Q1201.75 26.1121 1211.96 26.1121 Q1221.11 26.1121 1226.42 32.0264 Q1231.77 37.9003 1231.77 48.0275 M1224.31 45.84 Q1224.23 39.7232 1220.87 36.0774 Q1217.55 32.4315 1212.04 32.4315 Q1205.8 32.4315 1202.03 35.9558 Q1198.31 39.4801 1197.74 45.8805 L1224.31 45.84 Z\" fill=\"#ffffff\" fill-rule=\"evenodd\" fill-opacity=\"1\" /><path clip-path=\"url(#clip570)\" d=\"M1272.92 28.5427 L1272.92 35.5912 Q1269.76 33.9709 1266.36 33.1607 Q1262.96 32.3505 1259.31 32.3505 Q1253.76 32.3505 1250.97 34.0519 Q1248.21 35.7533 1248.21 39.156 Q1248.21 41.7486 1250.2 43.2475 Q1252.18 44.7058 1258.18 46.0426 L1260.73 46.6097 Q1268.67 48.3111 1271.99 51.4303 Q1275.35 54.509 1275.35 60.0587 Q1275.35 66.3781 1270.33 70.0644 Q1265.35 73.7508 1256.6 73.7508 Q1252.95 73.7508 1248.98 73.0216 Q1245.05 72.3329 1240.68 70.9151 L1240.68 63.2184 Q1244.81 65.3654 1248.82 66.4591 Q1252.83 67.5124 1256.76 67.5124 Q1262.03 67.5124 1264.86 65.73 Q1267.7 63.9071 1267.7 60.6258 Q1267.7 57.5877 1265.63 55.9673 Q1263.61 54.3469 1256.68 52.8481 L1254.09 52.2405 Q1247.16 50.7821 1244.08 47.7845 Q1241 44.7463 1241 39.4801 Q1241 33.0797 1245.54 29.5959 Q1250.08 26.1121 1258.42 26.1121 Q1262.55 26.1121 1266.2 26.7198 Q1269.84 27.3274 1272.92 28.5427 Z\" fill=\"#ffffff\" fill-rule=\"evenodd\" fill-opacity=\"1\" /><path clip-path=\"url(#clip570)\" d=\"M1304.8 32.4315 Q1298.81 32.4315 1295.32 37.1306 Q1291.84 41.7891 1291.84 49.9314 Q1291.84 58.0738 1295.28 62.7728 Q1298.77 67.4314 1304.8 67.4314 Q1310.76 67.4314 1314.24 62.7323 Q1317.73 58.0333 1317.73 49.9314 Q1317.73 41.8701 1314.24 37.1711 Q1310.76 32.4315 1304.8 32.4315 M1304.8 26.1121 Q1314.53 26.1121 1320.08 32.4315 Q1325.63 38.7509 1325.63 49.9314 Q1325.63 61.0714 1320.08 67.4314 Q1314.53 73.7508 1304.8 73.7508 Q1295.04 73.7508 1289.49 67.4314 Q1283.98 61.0714 1283.98 49.9314 Q1283.98 38.7509 1289.49 32.4315 Q1295.04 26.1121 1304.8 26.1121 Z\" fill=\"#ffffff\" fill-rule=\"evenodd\" fill-opacity=\"1\" /><path clip-path=\"url(#clip570)\" d=\"M1373.3 35.9153 Q1376.1 30.8922 1379.99 28.5022 Q1383.88 26.1121 1389.14 26.1121 Q1396.23 26.1121 1400.08 31.0947 Q1403.93 36.0368 1403.93 45.1919 L1403.93 72.576 L1396.43 72.576 L1396.43 45.4349 Q1396.43 38.913 1394.13 35.7533 Q1391.82 32.5936 1387.08 32.5936 Q1381.28 32.5936 1377.92 36.4419 Q1374.56 40.2903 1374.56 46.9338 L1374.56 72.576 L1367.07 72.576 L1367.07 45.4349 Q1367.07 38.8725 1364.76 35.7533 Q1362.45 32.5936 1357.63 32.5936 Q1351.92 32.5936 1348.55 36.4824 Q1345.19 40.3308 1345.19 46.9338 L1345.19 72.576 L1337.7 72.576 L1337.7 27.2059 L1345.19 27.2059 L1345.19 34.2544 Q1347.74 30.082 1351.31 28.0971 Q1354.87 26.1121 1359.77 26.1121 Q1364.72 26.1121 1368.16 28.6237 Q1371.64 31.1352 1373.3 35.9153 Z\" fill=\"#ffffff\" fill-rule=\"evenodd\" fill-opacity=\"1\" /><path clip-path=\"url(#clip570)\" d=\"M1457.6 48.0275 L1457.6 51.6733 L1423.33 51.6733 Q1423.82 59.3701 1427.95 63.421 Q1432.12 67.4314 1439.54 67.4314 Q1443.83 67.4314 1447.84 66.3781 Q1451.89 65.3249 1455.86 63.2184 L1455.86 70.267 Q1451.85 71.9684 1447.64 72.8596 Q1443.43 73.7508 1439.09 73.7508 Q1428.23 73.7508 1421.87 67.4314 Q1415.56 61.1119 1415.56 50.3365 Q1415.56 39.1965 1421.55 32.6746 Q1427.59 26.1121 1437.79 26.1121 Q1446.95 26.1121 1452.26 32.0264 Q1457.6 37.9003 1457.6 48.0275 M1450.15 45.84 Q1450.07 39.7232 1446.71 36.0774 Q1443.38 32.4315 1437.88 32.4315 Q1431.64 32.4315 1427.87 35.9558 Q1424.14 39.4801 1423.58 45.8805 L1450.15 45.84 Z\" fill=\"#ffffff\" fill-rule=\"evenodd\" fill-opacity=\"1\" /><path clip-path=\"url(#clip570)\" d=\"M1503.42 65.7705 L1503.42 89.8329 L1495.93 89.8329 L1495.93 27.2059 L1503.42 27.2059 L1503.42 34.0924 Q1505.77 30.0415 1509.33 28.0971 Q1512.94 26.1121 1517.92 26.1121 Q1526.19 26.1121 1531.33 32.6746 Q1536.52 39.2371 1536.52 49.9314 Q1536.52 60.6258 1531.33 67.1883 Q1526.19 73.7508 1517.92 73.7508 Q1512.94 73.7508 1509.33 71.8063 Q1505.77 69.8214 1503.42 65.7705 M1528.78 49.9314 Q1528.78 41.7081 1525.38 37.0496 Q1522.01 32.3505 1516.1 32.3505 Q1510.18 32.3505 1506.78 37.0496 Q1503.42 41.7081 1503.42 49.9314 Q1503.42 58.1548 1506.78 62.8538 Q1510.18 67.5124 1516.1 67.5124 Q1522.01 67.5124 1525.38 62.8538 Q1528.78 58.1548 1528.78 49.9314 Z\" fill=\"#ffffff\" fill-rule=\"evenodd\" fill-opacity=\"1\" /><path clip-path=\"url(#clip570)\" d=\"M1548.87 9.54393 L1556.32 9.54393 L1556.32 72.576 L1548.87 72.576 L1548.87 9.54393 Z\" fill=\"#ffffff\" fill-rule=\"evenodd\" fill-opacity=\"1\" /><path clip-path=\"url(#clip570)\" d=\"M1589.5 32.4315 Q1583.51 32.4315 1580.02 37.1306 Q1576.54 41.7891 1576.54 49.9314 Q1576.54 58.0738 1579.98 62.7728 Q1583.47 67.4314 1589.5 67.4314 Q1595.46 67.4314 1598.94 62.7323 Q1602.42 58.0333 1602.42 49.9314 Q1602.42 41.8701 1598.94 37.1711 Q1595.46 32.4315 1589.5 32.4315 M1589.5 26.1121 Q1599.22 26.1121 1604.77 32.4315 Q1610.32 38.7509 1610.32 49.9314 Q1610.32 61.0714 1604.77 67.4314 Q1599.22 73.7508 1589.5 73.7508 Q1579.74 73.7508 1574.19 67.4314 Q1568.68 61.0714 1568.68 49.9314 Q1568.68 38.7509 1574.19 32.4315 Q1579.74 26.1121 1589.5 26.1121 Z\" fill=\"#ffffff\" fill-rule=\"evenodd\" fill-opacity=\"1\" /><path clip-path=\"url(#clip570)\" d=\"M1630.05 14.324 L1630.05 27.2059 L1645.4 27.2059 L1645.4 32.9987 L1630.05 32.9987 L1630.05 57.6282 Q1630.05 63.1779 1631.55 64.7578 Q1633.09 66.3376 1637.75 66.3376 L1645.4 66.3376 L1645.4 72.576 L1637.75 72.576 Q1629.12 72.576 1625.84 69.3758 Q1622.56 66.1351 1622.56 57.6282 L1622.56 32.9987 L1617.09 32.9987 L1617.09 27.2059 L1622.56 27.2059 L1622.56 14.324 L1630.05 14.324 Z\" fill=\"#ffffff\" fill-rule=\"evenodd\" fill-opacity=\"1\" /><line clip-path=\"url(#clip572)\" x1=\"727.625\" y1=\"620.059\" x2=\"727.625\" y2=\"572.059\" style=\"stroke:#009af9; stroke-width:3.2; stroke-opacity:0.5\"/>\n",
       "<line clip-path=\"url(#clip572)\" x1=\"727.625\" y1=\"620.059\" x2=\"679.625\" y2=\"620.059\" style=\"stroke:#009af9; stroke-width:3.2; stroke-opacity:0.5\"/>\n",
       "<line clip-path=\"url(#clip572)\" x1=\"727.625\" y1=\"620.059\" x2=\"727.625\" y2=\"668.059\" style=\"stroke:#009af9; stroke-width:3.2; stroke-opacity:0.5\"/>\n",
       "<line clip-path=\"url(#clip572)\" x1=\"727.625\" y1=\"620.059\" x2=\"775.625\" y2=\"620.059\" style=\"stroke:#009af9; stroke-width:3.2; stroke-opacity:0.5\"/>\n",
       "<line clip-path=\"url(#clip572)\" x1=\"615.855\" y1=\"875.504\" x2=\"615.855\" y2=\"827.504\" style=\"stroke:#009af9; stroke-width:3.2; stroke-opacity:0.5\"/>\n",
       "<line clip-path=\"url(#clip572)\" x1=\"615.855\" y1=\"875.504\" x2=\"567.855\" y2=\"875.504\" style=\"stroke:#009af9; stroke-width:3.2; stroke-opacity:0.5\"/>\n",
       "<line clip-path=\"url(#clip572)\" x1=\"615.855\" y1=\"875.504\" x2=\"615.855\" y2=\"923.504\" style=\"stroke:#009af9; stroke-width:3.2; stroke-opacity:0.5\"/>\n",
       "<line clip-path=\"url(#clip572)\" x1=\"615.855\" y1=\"875.504\" x2=\"663.855\" y2=\"875.504\" style=\"stroke:#009af9; stroke-width:3.2; stroke-opacity:0.5\"/>\n",
       "<line clip-path=\"url(#clip572)\" x1=\"504.085\" y1=\"773.326\" x2=\"504.085\" y2=\"725.326\" style=\"stroke:#009af9; stroke-width:3.2; stroke-opacity:0.5\"/>\n",
       "<line clip-path=\"url(#clip572)\" x1=\"504.085\" y1=\"773.326\" x2=\"456.085\" y2=\"773.326\" style=\"stroke:#009af9; stroke-width:3.2; stroke-opacity:0.5\"/>\n",
       "<line clip-path=\"url(#clip572)\" x1=\"504.085\" y1=\"773.326\" x2=\"504.085\" y2=\"821.326\" style=\"stroke:#009af9; stroke-width:3.2; stroke-opacity:0.5\"/>\n",
       "<line clip-path=\"url(#clip572)\" x1=\"504.085\" y1=\"773.326\" x2=\"552.085\" y2=\"773.326\" style=\"stroke:#009af9; stroke-width:3.2; stroke-opacity:0.5\"/>\n",
       "<line clip-path=\"url(#clip572)\" x1=\"448.2\" y1=\"824.415\" x2=\"448.2\" y2=\"776.415\" style=\"stroke:#009af9; stroke-width:3.2; stroke-opacity:0.5\"/>\n",
       "<line clip-path=\"url(#clip572)\" x1=\"448.2\" y1=\"824.415\" x2=\"400.2\" y2=\"824.415\" style=\"stroke:#009af9; stroke-width:3.2; stroke-opacity:0.5\"/>\n",
       "<line clip-path=\"url(#clip572)\" x1=\"448.2\" y1=\"824.415\" x2=\"448.2\" y2=\"872.415\" style=\"stroke:#009af9; stroke-width:3.2; stroke-opacity:0.5\"/>\n",
       "<line clip-path=\"url(#clip572)\" x1=\"448.2\" y1=\"824.415\" x2=\"496.2\" y2=\"824.415\" style=\"stroke:#009af9; stroke-width:3.2; stroke-opacity:0.5\"/>\n",
       "<line clip-path=\"url(#clip572)\" x1=\"671.74\" y1=\"568.969\" x2=\"671.74\" y2=\"520.969\" style=\"stroke:#009af9; stroke-width:3.2; stroke-opacity:0.5\"/>\n",
       "<line clip-path=\"url(#clip572)\" x1=\"671.74\" y1=\"568.969\" x2=\"623.74\" y2=\"568.969\" style=\"stroke:#009af9; stroke-width:3.2; stroke-opacity:0.5\"/>\n",
       "<line clip-path=\"url(#clip572)\" x1=\"671.74\" y1=\"568.969\" x2=\"671.74\" y2=\"616.969\" style=\"stroke:#009af9; stroke-width:3.2; stroke-opacity:0.5\"/>\n",
       "<line clip-path=\"url(#clip572)\" x1=\"671.74\" y1=\"568.969\" x2=\"719.74\" y2=\"568.969\" style=\"stroke:#009af9; stroke-width:3.2; stroke-opacity:0.5\"/>\n",
       "<line clip-path=\"url(#clip572)\" x1=\"895.279\" y1=\"415.702\" x2=\"895.279\" y2=\"367.702\" style=\"stroke:#009af9; stroke-width:3.2; stroke-opacity:0.5\"/>\n",
       "<line clip-path=\"url(#clip572)\" x1=\"895.279\" y1=\"415.702\" x2=\"847.279\" y2=\"415.702\" style=\"stroke:#009af9; stroke-width:3.2; stroke-opacity:0.5\"/>\n",
       "<line clip-path=\"url(#clip572)\" x1=\"895.279\" y1=\"415.702\" x2=\"895.279\" y2=\"463.702\" style=\"stroke:#009af9; stroke-width:3.2; stroke-opacity:0.5\"/>\n",
       "<line clip-path=\"url(#clip572)\" x1=\"895.279\" y1=\"415.702\" x2=\"943.279\" y2=\"415.702\" style=\"stroke:#009af9; stroke-width:3.2; stroke-opacity:0.5\"/>\n",
       "<line clip-path=\"url(#clip572)\" x1=\"448.2\" y1=\"671.148\" x2=\"448.2\" y2=\"623.148\" style=\"stroke:#009af9; stroke-width:3.2; stroke-opacity:0.5\"/>\n",
       "<line clip-path=\"url(#clip572)\" x1=\"448.2\" y1=\"671.148\" x2=\"400.2\" y2=\"671.148\" style=\"stroke:#009af9; stroke-width:3.2; stroke-opacity:0.5\"/>\n",
       "<line clip-path=\"url(#clip572)\" x1=\"448.2\" y1=\"671.148\" x2=\"448.2\" y2=\"719.148\" style=\"stroke:#009af9; stroke-width:3.2; stroke-opacity:0.5\"/>\n",
       "<line clip-path=\"url(#clip572)\" x1=\"448.2\" y1=\"671.148\" x2=\"496.2\" y2=\"671.148\" style=\"stroke:#009af9; stroke-width:3.2; stroke-opacity:0.5\"/>\n",
       "<line clip-path=\"url(#clip572)\" x1=\"671.74\" y1=\"671.148\" x2=\"671.74\" y2=\"623.148\" style=\"stroke:#009af9; stroke-width:3.2; stroke-opacity:0.5\"/>\n",
       "<line clip-path=\"url(#clip572)\" x1=\"671.74\" y1=\"671.148\" x2=\"623.74\" y2=\"671.148\" style=\"stroke:#009af9; stroke-width:3.2; stroke-opacity:0.5\"/>\n",
       "<line clip-path=\"url(#clip572)\" x1=\"671.74\" y1=\"671.148\" x2=\"671.74\" y2=\"719.148\" style=\"stroke:#009af9; stroke-width:3.2; stroke-opacity:0.5\"/>\n",
       "<line clip-path=\"url(#clip572)\" x1=\"671.74\" y1=\"671.148\" x2=\"719.74\" y2=\"671.148\" style=\"stroke:#009af9; stroke-width:3.2; stroke-opacity:0.5\"/>\n",
       "<line clip-path=\"url(#clip572)\" x1=\"336.431\" y1=\"926.593\" x2=\"336.431\" y2=\"878.593\" style=\"stroke:#009af9; stroke-width:3.2; stroke-opacity:0.5\"/>\n",
       "<line clip-path=\"url(#clip572)\" x1=\"336.431\" y1=\"926.593\" x2=\"288.431\" y2=\"926.593\" style=\"stroke:#009af9; stroke-width:3.2; stroke-opacity:0.5\"/>\n",
       "<line clip-path=\"url(#clip572)\" x1=\"336.431\" y1=\"926.593\" x2=\"336.431\" y2=\"974.593\" style=\"stroke:#009af9; stroke-width:3.2; stroke-opacity:0.5\"/>\n",
       "<line clip-path=\"url(#clip572)\" x1=\"336.431\" y1=\"926.593\" x2=\"384.431\" y2=\"926.593\" style=\"stroke:#009af9; stroke-width:3.2; stroke-opacity:0.5\"/>\n",
       "<line clip-path=\"url(#clip572)\" x1=\"615.855\" y1=\"824.415\" x2=\"615.855\" y2=\"776.415\" style=\"stroke:#009af9; stroke-width:3.2; stroke-opacity:0.5\"/>\n",
       "<line clip-path=\"url(#clip572)\" x1=\"615.855\" y1=\"824.415\" x2=\"567.855\" y2=\"824.415\" style=\"stroke:#009af9; stroke-width:3.2; stroke-opacity:0.5\"/>\n",
       "<line clip-path=\"url(#clip572)\" x1=\"615.855\" y1=\"824.415\" x2=\"615.855\" y2=\"872.415\" style=\"stroke:#009af9; stroke-width:3.2; stroke-opacity:0.5\"/>\n",
       "<line clip-path=\"url(#clip572)\" x1=\"615.855\" y1=\"824.415\" x2=\"663.855\" y2=\"824.415\" style=\"stroke:#009af9; stroke-width:3.2; stroke-opacity:0.5\"/>\n",
       "<line clip-path=\"url(#clip572)\" x1=\"895.279\" y1=\"517.88\" x2=\"895.279\" y2=\"469.88\" style=\"stroke:#009af9; stroke-width:3.2; stroke-opacity:0.5\"/>\n",
       "<line clip-path=\"url(#clip572)\" x1=\"895.279\" y1=\"517.88\" x2=\"847.279\" y2=\"517.88\" style=\"stroke:#009af9; stroke-width:3.2; stroke-opacity:0.5\"/>\n",
       "<line clip-path=\"url(#clip572)\" x1=\"895.279\" y1=\"517.88\" x2=\"895.279\" y2=\"565.88\" style=\"stroke:#009af9; stroke-width:3.2; stroke-opacity:0.5\"/>\n",
       "<line clip-path=\"url(#clip572)\" x1=\"895.279\" y1=\"517.88\" x2=\"943.279\" y2=\"517.88\" style=\"stroke:#009af9; stroke-width:3.2; stroke-opacity:0.5\"/>\n",
       "<line clip-path=\"url(#clip572)\" x1=\"559.97\" y1=\"671.148\" x2=\"559.97\" y2=\"623.148\" style=\"stroke:#009af9; stroke-width:3.2; stroke-opacity:0.5\"/>\n",
       "<line clip-path=\"url(#clip572)\" x1=\"559.97\" y1=\"671.148\" x2=\"511.97\" y2=\"671.148\" style=\"stroke:#009af9; stroke-width:3.2; stroke-opacity:0.5\"/>\n",
       "<line clip-path=\"url(#clip572)\" x1=\"559.97\" y1=\"671.148\" x2=\"559.97\" y2=\"719.148\" style=\"stroke:#009af9; stroke-width:3.2; stroke-opacity:0.5\"/>\n",
       "<line clip-path=\"url(#clip572)\" x1=\"559.97\" y1=\"671.148\" x2=\"607.97\" y2=\"671.148\" style=\"stroke:#009af9; stroke-width:3.2; stroke-opacity:0.5\"/>\n",
       "<line clip-path=\"url(#clip572)\" x1=\"559.97\" y1=\"875.504\" x2=\"559.97\" y2=\"827.504\" style=\"stroke:#009af9; stroke-width:3.2; stroke-opacity:0.5\"/>\n",
       "<line clip-path=\"url(#clip572)\" x1=\"559.97\" y1=\"875.504\" x2=\"511.97\" y2=\"875.504\" style=\"stroke:#009af9; stroke-width:3.2; stroke-opacity:0.5\"/>\n",
       "<line clip-path=\"url(#clip572)\" x1=\"559.97\" y1=\"875.504\" x2=\"559.97\" y2=\"923.504\" style=\"stroke:#009af9; stroke-width:3.2; stroke-opacity:0.5\"/>\n",
       "<line clip-path=\"url(#clip572)\" x1=\"559.97\" y1=\"875.504\" x2=\"607.97\" y2=\"875.504\" style=\"stroke:#009af9; stroke-width:3.2; stroke-opacity:0.5\"/>\n",
       "<line clip-path=\"url(#clip572)\" x1=\"280.546\" y1=\"875.504\" x2=\"280.546\" y2=\"827.504\" style=\"stroke:#009af9; stroke-width:3.2; stroke-opacity:0.5\"/>\n",
       "<line clip-path=\"url(#clip572)\" x1=\"280.546\" y1=\"875.504\" x2=\"232.546\" y2=\"875.504\" style=\"stroke:#009af9; stroke-width:3.2; stroke-opacity:0.5\"/>\n",
       "<line clip-path=\"url(#clip572)\" x1=\"280.546\" y1=\"875.504\" x2=\"280.546\" y2=\"923.504\" style=\"stroke:#009af9; stroke-width:3.2; stroke-opacity:0.5\"/>\n",
       "<line clip-path=\"url(#clip572)\" x1=\"280.546\" y1=\"875.504\" x2=\"328.546\" y2=\"875.504\" style=\"stroke:#009af9; stroke-width:3.2; stroke-opacity:0.5\"/>\n",
       "<line clip-path=\"url(#clip572)\" x1=\"1118.82\" y1=\"364.613\" x2=\"1118.82\" y2=\"316.613\" style=\"stroke:#009af9; stroke-width:3.2; stroke-opacity:0.5\"/>\n",
       "<line clip-path=\"url(#clip572)\" x1=\"1118.82\" y1=\"364.613\" x2=\"1070.82\" y2=\"364.613\" style=\"stroke:#009af9; stroke-width:3.2; stroke-opacity:0.5\"/>\n",
       "<line clip-path=\"url(#clip572)\" x1=\"1118.82\" y1=\"364.613\" x2=\"1118.82\" y2=\"412.613\" style=\"stroke:#009af9; stroke-width:3.2; stroke-opacity:0.5\"/>\n",
       "<line clip-path=\"url(#clip572)\" x1=\"1118.82\" y1=\"364.613\" x2=\"1166.82\" y2=\"364.613\" style=\"stroke:#009af9; stroke-width:3.2; stroke-opacity:0.5\"/>\n",
       "<line clip-path=\"url(#clip572)\" x1=\"1062.93\" y1=\"160.256\" x2=\"1062.93\" y2=\"112.256\" style=\"stroke:#009af9; stroke-width:3.2; stroke-opacity:0.5\"/>\n",
       "<line clip-path=\"url(#clip572)\" x1=\"1062.93\" y1=\"160.256\" x2=\"1014.93\" y2=\"160.256\" style=\"stroke:#009af9; stroke-width:3.2; stroke-opacity:0.5\"/>\n",
       "<line clip-path=\"url(#clip572)\" x1=\"1062.93\" y1=\"160.256\" x2=\"1062.93\" y2=\"208.256\" style=\"stroke:#009af9; stroke-width:3.2; stroke-opacity:0.5\"/>\n",
       "<line clip-path=\"url(#clip572)\" x1=\"1062.93\" y1=\"160.256\" x2=\"1110.93\" y2=\"160.256\" style=\"stroke:#009af9; stroke-width:3.2; stroke-opacity:0.5\"/>\n",
       "<line clip-path=\"url(#clip572)\" x1=\"895.279\" y1=\"415.702\" x2=\"895.279\" y2=\"367.702\" style=\"stroke:#009af9; stroke-width:3.2; stroke-opacity:0.5\"/>\n",
       "<line clip-path=\"url(#clip572)\" x1=\"895.279\" y1=\"415.702\" x2=\"847.279\" y2=\"415.702\" style=\"stroke:#009af9; stroke-width:3.2; stroke-opacity:0.5\"/>\n",
       "<line clip-path=\"url(#clip572)\" x1=\"895.279\" y1=\"415.702\" x2=\"895.279\" y2=\"463.702\" style=\"stroke:#009af9; stroke-width:3.2; stroke-opacity:0.5\"/>\n",
       "<line clip-path=\"url(#clip572)\" x1=\"895.279\" y1=\"415.702\" x2=\"943.279\" y2=\"415.702\" style=\"stroke:#009af9; stroke-width:3.2; stroke-opacity:0.5\"/>\n",
       "<line clip-path=\"url(#clip572)\" x1=\"727.625\" y1=\"620.059\" x2=\"727.625\" y2=\"572.059\" style=\"stroke:#009af9; stroke-width:3.2; stroke-opacity:0.5\"/>\n",
       "<line clip-path=\"url(#clip572)\" x1=\"727.625\" y1=\"620.059\" x2=\"679.625\" y2=\"620.059\" style=\"stroke:#009af9; stroke-width:3.2; stroke-opacity:0.5\"/>\n",
       "<line clip-path=\"url(#clip572)\" x1=\"727.625\" y1=\"620.059\" x2=\"727.625\" y2=\"668.059\" style=\"stroke:#009af9; stroke-width:3.2; stroke-opacity:0.5\"/>\n",
       "<line clip-path=\"url(#clip572)\" x1=\"727.625\" y1=\"620.059\" x2=\"775.625\" y2=\"620.059\" style=\"stroke:#009af9; stroke-width:3.2; stroke-opacity:0.5\"/>\n",
       "<line clip-path=\"url(#clip572)\" x1=\"1062.93\" y1=\"466.791\" x2=\"1062.93\" y2=\"418.791\" style=\"stroke:#009af9; stroke-width:3.2; stroke-opacity:0.5\"/>\n",
       "<line clip-path=\"url(#clip572)\" x1=\"1062.93\" y1=\"466.791\" x2=\"1014.93\" y2=\"466.791\" style=\"stroke:#009af9; stroke-width:3.2; stroke-opacity:0.5\"/>\n",
       "<line clip-path=\"url(#clip572)\" x1=\"1062.93\" y1=\"466.791\" x2=\"1062.93\" y2=\"514.791\" style=\"stroke:#009af9; stroke-width:3.2; stroke-opacity:0.5\"/>\n",
       "<line clip-path=\"url(#clip572)\" x1=\"1062.93\" y1=\"466.791\" x2=\"1110.93\" y2=\"466.791\" style=\"stroke:#009af9; stroke-width:3.2; stroke-opacity:0.5\"/>\n",
       "<line clip-path=\"url(#clip572)\" x1=\"727.625\" y1=\"466.791\" x2=\"727.625\" y2=\"418.791\" style=\"stroke:#009af9; stroke-width:3.2; stroke-opacity:0.5\"/>\n",
       "<line clip-path=\"url(#clip572)\" x1=\"727.625\" y1=\"466.791\" x2=\"679.625\" y2=\"466.791\" style=\"stroke:#009af9; stroke-width:3.2; stroke-opacity:0.5\"/>\n",
       "<line clip-path=\"url(#clip572)\" x1=\"727.625\" y1=\"466.791\" x2=\"727.625\" y2=\"514.791\" style=\"stroke:#009af9; stroke-width:3.2; stroke-opacity:0.5\"/>\n",
       "<line clip-path=\"url(#clip572)\" x1=\"727.625\" y1=\"466.791\" x2=\"775.625\" y2=\"466.791\" style=\"stroke:#009af9; stroke-width:3.2; stroke-opacity:0.5\"/>\n",
       "<line clip-path=\"url(#clip572)\" x1=\"895.279\" y1=\"671.148\" x2=\"895.279\" y2=\"623.148\" style=\"stroke:#009af9; stroke-width:3.2; stroke-opacity:0.5\"/>\n",
       "<line clip-path=\"url(#clip572)\" x1=\"895.279\" y1=\"671.148\" x2=\"847.279\" y2=\"671.148\" style=\"stroke:#009af9; stroke-width:3.2; stroke-opacity:0.5\"/>\n",
       "<line clip-path=\"url(#clip572)\" x1=\"895.279\" y1=\"671.148\" x2=\"895.279\" y2=\"719.148\" style=\"stroke:#009af9; stroke-width:3.2; stroke-opacity:0.5\"/>\n",
       "<line clip-path=\"url(#clip572)\" x1=\"895.279\" y1=\"671.148\" x2=\"943.279\" y2=\"671.148\" style=\"stroke:#009af9; stroke-width:3.2; stroke-opacity:0.5\"/>\n",
       "<line clip-path=\"url(#clip572)\" x1=\"727.625\" y1=\"517.88\" x2=\"727.625\" y2=\"469.88\" style=\"stroke:#009af9; stroke-width:3.2; stroke-opacity:0.5\"/>\n",
       "<line clip-path=\"url(#clip572)\" x1=\"727.625\" y1=\"517.88\" x2=\"679.625\" y2=\"517.88\" style=\"stroke:#009af9; stroke-width:3.2; stroke-opacity:0.5\"/>\n",
       "<line clip-path=\"url(#clip572)\" x1=\"727.625\" y1=\"517.88\" x2=\"727.625\" y2=\"565.88\" style=\"stroke:#009af9; stroke-width:3.2; stroke-opacity:0.5\"/>\n",
       "<line clip-path=\"url(#clip572)\" x1=\"727.625\" y1=\"517.88\" x2=\"775.625\" y2=\"517.88\" style=\"stroke:#009af9; stroke-width:3.2; stroke-opacity:0.5\"/>\n",
       "<line clip-path=\"url(#clip572)\" x1=\"448.2\" y1=\"568.969\" x2=\"448.2\" y2=\"520.969\" style=\"stroke:#009af9; stroke-width:3.2; stroke-opacity:0.5\"/>\n",
       "<line clip-path=\"url(#clip572)\" x1=\"448.2\" y1=\"568.969\" x2=\"400.2\" y2=\"568.969\" style=\"stroke:#009af9; stroke-width:3.2; stroke-opacity:0.5\"/>\n",
       "<line clip-path=\"url(#clip572)\" x1=\"448.2\" y1=\"568.969\" x2=\"448.2\" y2=\"616.969\" style=\"stroke:#009af9; stroke-width:3.2; stroke-opacity:0.5\"/>\n",
       "<line clip-path=\"url(#clip572)\" x1=\"448.2\" y1=\"568.969\" x2=\"496.2\" y2=\"568.969\" style=\"stroke:#009af9; stroke-width:3.2; stroke-opacity:0.5\"/>\n",
       "<line clip-path=\"url(#clip572)\" x1=\"727.625\" y1=\"722.237\" x2=\"727.625\" y2=\"674.237\" style=\"stroke:#009af9; stroke-width:3.2; stroke-opacity:0.5\"/>\n",
       "<line clip-path=\"url(#clip572)\" x1=\"727.625\" y1=\"722.237\" x2=\"679.625\" y2=\"722.237\" style=\"stroke:#009af9; stroke-width:3.2; stroke-opacity:0.5\"/>\n",
       "<line clip-path=\"url(#clip572)\" x1=\"727.625\" y1=\"722.237\" x2=\"727.625\" y2=\"770.237\" style=\"stroke:#009af9; stroke-width:3.2; stroke-opacity:0.5\"/>\n",
       "<line clip-path=\"url(#clip572)\" x1=\"727.625\" y1=\"722.237\" x2=\"775.625\" y2=\"722.237\" style=\"stroke:#009af9; stroke-width:3.2; stroke-opacity:0.5\"/>\n",
       "<line clip-path=\"url(#clip572)\" x1=\"559.97\" y1=\"671.148\" x2=\"559.97\" y2=\"623.148\" style=\"stroke:#009af9; stroke-width:3.2; stroke-opacity:0.5\"/>\n",
       "<line clip-path=\"url(#clip572)\" x1=\"559.97\" y1=\"671.148\" x2=\"511.97\" y2=\"671.148\" style=\"stroke:#009af9; stroke-width:3.2; stroke-opacity:0.5\"/>\n",
       "<line clip-path=\"url(#clip572)\" x1=\"559.97\" y1=\"671.148\" x2=\"559.97\" y2=\"719.148\" style=\"stroke:#009af9; stroke-width:3.2; stroke-opacity:0.5\"/>\n",
       "<line clip-path=\"url(#clip572)\" x1=\"559.97\" y1=\"671.148\" x2=\"607.97\" y2=\"671.148\" style=\"stroke:#009af9; stroke-width:3.2; stroke-opacity:0.5\"/>\n",
       "<line clip-path=\"url(#clip572)\" x1=\"671.74\" y1=\"875.504\" x2=\"671.74\" y2=\"827.504\" style=\"stroke:#009af9; stroke-width:3.2; stroke-opacity:0.5\"/>\n",
       "<line clip-path=\"url(#clip572)\" x1=\"671.74\" y1=\"875.504\" x2=\"623.74\" y2=\"875.504\" style=\"stroke:#009af9; stroke-width:3.2; stroke-opacity:0.5\"/>\n",
       "<line clip-path=\"url(#clip572)\" x1=\"671.74\" y1=\"875.504\" x2=\"671.74\" y2=\"923.504\" style=\"stroke:#009af9; stroke-width:3.2; stroke-opacity:0.5\"/>\n",
       "<line clip-path=\"url(#clip572)\" x1=\"671.74\" y1=\"875.504\" x2=\"719.74\" y2=\"875.504\" style=\"stroke:#009af9; stroke-width:3.2; stroke-opacity:0.5\"/>\n",
       "<line clip-path=\"url(#clip572)\" x1=\"671.74\" y1=\"671.148\" x2=\"671.74\" y2=\"623.148\" style=\"stroke:#009af9; stroke-width:3.2; stroke-opacity:0.5\"/>\n",
       "<line clip-path=\"url(#clip572)\" x1=\"671.74\" y1=\"671.148\" x2=\"623.74\" y2=\"671.148\" style=\"stroke:#009af9; stroke-width:3.2; stroke-opacity:0.5\"/>\n",
       "<line clip-path=\"url(#clip572)\" x1=\"671.74\" y1=\"671.148\" x2=\"671.74\" y2=\"719.148\" style=\"stroke:#009af9; stroke-width:3.2; stroke-opacity:0.5\"/>\n",
       "<line clip-path=\"url(#clip572)\" x1=\"671.74\" y1=\"671.148\" x2=\"719.74\" y2=\"671.148\" style=\"stroke:#009af9; stroke-width:3.2; stroke-opacity:0.5\"/>\n",
       "<line clip-path=\"url(#clip572)\" x1=\"783.51\" y1=\"620.059\" x2=\"783.51\" y2=\"572.059\" style=\"stroke:#009af9; stroke-width:3.2; stroke-opacity:0.5\"/>\n",
       "<line clip-path=\"url(#clip572)\" x1=\"783.51\" y1=\"620.059\" x2=\"735.51\" y2=\"620.059\" style=\"stroke:#009af9; stroke-width:3.2; stroke-opacity:0.5\"/>\n",
       "<line clip-path=\"url(#clip572)\" x1=\"783.51\" y1=\"620.059\" x2=\"783.51\" y2=\"668.059\" style=\"stroke:#009af9; stroke-width:3.2; stroke-opacity:0.5\"/>\n",
       "<line clip-path=\"url(#clip572)\" x1=\"783.51\" y1=\"620.059\" x2=\"831.51\" y2=\"620.059\" style=\"stroke:#009af9; stroke-width:3.2; stroke-opacity:0.5\"/>\n",
       "<line clip-path=\"url(#clip572)\" x1=\"783.51\" y1=\"671.148\" x2=\"783.51\" y2=\"623.148\" style=\"stroke:#009af9; stroke-width:3.2; stroke-opacity:0.5\"/>\n",
       "<line clip-path=\"url(#clip572)\" x1=\"783.51\" y1=\"671.148\" x2=\"735.51\" y2=\"671.148\" style=\"stroke:#009af9; stroke-width:3.2; stroke-opacity:0.5\"/>\n",
       "<line clip-path=\"url(#clip572)\" x1=\"783.51\" y1=\"671.148\" x2=\"783.51\" y2=\"719.148\" style=\"stroke:#009af9; stroke-width:3.2; stroke-opacity:0.5\"/>\n",
       "<line clip-path=\"url(#clip572)\" x1=\"783.51\" y1=\"671.148\" x2=\"831.51\" y2=\"671.148\" style=\"stroke:#009af9; stroke-width:3.2; stroke-opacity:0.5\"/>\n",
       "<line clip-path=\"url(#clip572)\" x1=\"504.085\" y1=\"773.326\" x2=\"504.085\" y2=\"725.326\" style=\"stroke:#009af9; stroke-width:3.2; stroke-opacity:0.5\"/>\n",
       "<line clip-path=\"url(#clip572)\" x1=\"504.085\" y1=\"773.326\" x2=\"456.085\" y2=\"773.326\" style=\"stroke:#009af9; stroke-width:3.2; stroke-opacity:0.5\"/>\n",
       "<line clip-path=\"url(#clip572)\" x1=\"504.085\" y1=\"773.326\" x2=\"504.085\" y2=\"821.326\" style=\"stroke:#009af9; stroke-width:3.2; stroke-opacity:0.5\"/>\n",
       "<line clip-path=\"url(#clip572)\" x1=\"504.085\" y1=\"773.326\" x2=\"552.085\" y2=\"773.326\" style=\"stroke:#009af9; stroke-width:3.2; stroke-opacity:0.5\"/>\n",
       "<line clip-path=\"url(#clip572)\" x1=\"559.97\" y1=\"824.415\" x2=\"559.97\" y2=\"776.415\" style=\"stroke:#009af9; stroke-width:3.2; stroke-opacity:0.5\"/>\n",
       "<line clip-path=\"url(#clip572)\" x1=\"559.97\" y1=\"824.415\" x2=\"511.97\" y2=\"824.415\" style=\"stroke:#009af9; stroke-width:3.2; stroke-opacity:0.5\"/>\n",
       "<line clip-path=\"url(#clip572)\" x1=\"559.97\" y1=\"824.415\" x2=\"559.97\" y2=\"872.415\" style=\"stroke:#009af9; stroke-width:3.2; stroke-opacity:0.5\"/>\n",
       "<line clip-path=\"url(#clip572)\" x1=\"559.97\" y1=\"824.415\" x2=\"607.97\" y2=\"824.415\" style=\"stroke:#009af9; stroke-width:3.2; stroke-opacity:0.5\"/>\n",
       "<line clip-path=\"url(#clip572)\" x1=\"895.279\" y1=\"671.148\" x2=\"895.279\" y2=\"623.148\" style=\"stroke:#009af9; stroke-width:3.2; stroke-opacity:0.5\"/>\n",
       "<line clip-path=\"url(#clip572)\" x1=\"895.279\" y1=\"671.148\" x2=\"847.279\" y2=\"671.148\" style=\"stroke:#009af9; stroke-width:3.2; stroke-opacity:0.5\"/>\n",
       "<line clip-path=\"url(#clip572)\" x1=\"895.279\" y1=\"671.148\" x2=\"895.279\" y2=\"719.148\" style=\"stroke:#009af9; stroke-width:3.2; stroke-opacity:0.5\"/>\n",
       "<line clip-path=\"url(#clip572)\" x1=\"895.279\" y1=\"671.148\" x2=\"943.279\" y2=\"671.148\" style=\"stroke:#009af9; stroke-width:3.2; stroke-opacity:0.5\"/>\n",
       "<line clip-path=\"url(#clip572)\" x1=\"783.51\" y1=\"313.524\" x2=\"783.51\" y2=\"265.524\" style=\"stroke:#009af9; stroke-width:3.2; stroke-opacity:0.5\"/>\n",
       "<line clip-path=\"url(#clip572)\" x1=\"783.51\" y1=\"313.524\" x2=\"735.51\" y2=\"313.524\" style=\"stroke:#009af9; stroke-width:3.2; stroke-opacity:0.5\"/>\n",
       "<line clip-path=\"url(#clip572)\" x1=\"783.51\" y1=\"313.524\" x2=\"783.51\" y2=\"361.524\" style=\"stroke:#009af9; stroke-width:3.2; stroke-opacity:0.5\"/>\n",
       "<line clip-path=\"url(#clip572)\" x1=\"783.51\" y1=\"313.524\" x2=\"831.51\" y2=\"313.524\" style=\"stroke:#009af9; stroke-width:3.2; stroke-opacity:0.5\"/>\n",
       "<line clip-path=\"url(#clip572)\" x1=\"951.164\" y1=\"262.435\" x2=\"951.164\" y2=\"214.435\" style=\"stroke:#009af9; stroke-width:3.2; stroke-opacity:0.5\"/>\n",
       "<line clip-path=\"url(#clip572)\" x1=\"951.164\" y1=\"262.435\" x2=\"903.164\" y2=\"262.435\" style=\"stroke:#009af9; stroke-width:3.2; stroke-opacity:0.5\"/>\n",
       "<line clip-path=\"url(#clip572)\" x1=\"951.164\" y1=\"262.435\" x2=\"951.164\" y2=\"310.435\" style=\"stroke:#009af9; stroke-width:3.2; stroke-opacity:0.5\"/>\n",
       "<line clip-path=\"url(#clip572)\" x1=\"951.164\" y1=\"262.435\" x2=\"999.164\" y2=\"262.435\" style=\"stroke:#009af9; stroke-width:3.2; stroke-opacity:0.5\"/>\n",
       "<line clip-path=\"url(#clip572)\" x1=\"615.855\" y1=\"824.415\" x2=\"615.855\" y2=\"776.415\" style=\"stroke:#009af9; stroke-width:3.2; stroke-opacity:0.5\"/>\n",
       "<line clip-path=\"url(#clip572)\" x1=\"615.855\" y1=\"824.415\" x2=\"567.855\" y2=\"824.415\" style=\"stroke:#009af9; stroke-width:3.2; stroke-opacity:0.5\"/>\n",
       "<line clip-path=\"url(#clip572)\" x1=\"615.855\" y1=\"824.415\" x2=\"615.855\" y2=\"872.415\" style=\"stroke:#009af9; stroke-width:3.2; stroke-opacity:0.5\"/>\n",
       "<line clip-path=\"url(#clip572)\" x1=\"615.855\" y1=\"824.415\" x2=\"663.855\" y2=\"824.415\" style=\"stroke:#009af9; stroke-width:3.2; stroke-opacity:0.5\"/>\n",
       "<line clip-path=\"url(#clip572)\" x1=\"671.74\" y1=\"773.326\" x2=\"671.74\" y2=\"725.326\" style=\"stroke:#009af9; stroke-width:3.2; stroke-opacity:0.5\"/>\n",
       "<line clip-path=\"url(#clip572)\" x1=\"671.74\" y1=\"773.326\" x2=\"623.74\" y2=\"773.326\" style=\"stroke:#009af9; stroke-width:3.2; stroke-opacity:0.5\"/>\n",
       "<line clip-path=\"url(#clip572)\" x1=\"671.74\" y1=\"773.326\" x2=\"671.74\" y2=\"821.326\" style=\"stroke:#009af9; stroke-width:3.2; stroke-opacity:0.5\"/>\n",
       "<line clip-path=\"url(#clip572)\" x1=\"671.74\" y1=\"773.326\" x2=\"719.74\" y2=\"773.326\" style=\"stroke:#009af9; stroke-width:3.2; stroke-opacity:0.5\"/>\n",
       "<line clip-path=\"url(#clip572)\" x1=\"951.164\" y1=\"620.059\" x2=\"951.164\" y2=\"572.059\" style=\"stroke:#009af9; stroke-width:3.2; stroke-opacity:0.5\"/>\n",
       "<line clip-path=\"url(#clip572)\" x1=\"951.164\" y1=\"620.059\" x2=\"903.164\" y2=\"620.059\" style=\"stroke:#009af9; stroke-width:3.2; stroke-opacity:0.5\"/>\n",
       "<line clip-path=\"url(#clip572)\" x1=\"951.164\" y1=\"620.059\" x2=\"951.164\" y2=\"668.059\" style=\"stroke:#009af9; stroke-width:3.2; stroke-opacity:0.5\"/>\n",
       "<line clip-path=\"url(#clip572)\" x1=\"951.164\" y1=\"620.059\" x2=\"999.164\" y2=\"620.059\" style=\"stroke:#009af9; stroke-width:3.2; stroke-opacity:0.5\"/>\n",
       "<line clip-path=\"url(#clip572)\" x1=\"615.855\" y1=\"568.969\" x2=\"615.855\" y2=\"520.969\" style=\"stroke:#009af9; stroke-width:3.2; stroke-opacity:0.5\"/>\n",
       "<line clip-path=\"url(#clip572)\" x1=\"615.855\" y1=\"568.969\" x2=\"567.855\" y2=\"568.969\" style=\"stroke:#009af9; stroke-width:3.2; stroke-opacity:0.5\"/>\n",
       "<line clip-path=\"url(#clip572)\" x1=\"615.855\" y1=\"568.969\" x2=\"615.855\" y2=\"616.969\" style=\"stroke:#009af9; stroke-width:3.2; stroke-opacity:0.5\"/>\n",
       "<line clip-path=\"url(#clip572)\" x1=\"615.855\" y1=\"568.969\" x2=\"663.855\" y2=\"568.969\" style=\"stroke:#009af9; stroke-width:3.2; stroke-opacity:0.5\"/>\n",
       "<line clip-path=\"url(#clip572)\" x1=\"336.431\" y1=\"875.504\" x2=\"336.431\" y2=\"827.504\" style=\"stroke:#009af9; stroke-width:3.2; stroke-opacity:0.5\"/>\n",
       "<line clip-path=\"url(#clip572)\" x1=\"336.431\" y1=\"875.504\" x2=\"288.431\" y2=\"875.504\" style=\"stroke:#009af9; stroke-width:3.2; stroke-opacity:0.5\"/>\n",
       "<line clip-path=\"url(#clip572)\" x1=\"336.431\" y1=\"875.504\" x2=\"336.431\" y2=\"923.504\" style=\"stroke:#009af9; stroke-width:3.2; stroke-opacity:0.5\"/>\n",
       "<line clip-path=\"url(#clip572)\" x1=\"336.431\" y1=\"875.504\" x2=\"384.431\" y2=\"875.504\" style=\"stroke:#009af9; stroke-width:3.2; stroke-opacity:0.5\"/>\n",
       "<line clip-path=\"url(#clip572)\" x1=\"727.625\" y1=\"671.148\" x2=\"727.625\" y2=\"623.148\" style=\"stroke:#009af9; stroke-width:3.2; stroke-opacity:0.5\"/>\n",
       "<line clip-path=\"url(#clip572)\" x1=\"727.625\" y1=\"671.148\" x2=\"679.625\" y2=\"671.148\" style=\"stroke:#009af9; stroke-width:3.2; stroke-opacity:0.5\"/>\n",
       "<line clip-path=\"url(#clip572)\" x1=\"727.625\" y1=\"671.148\" x2=\"727.625\" y2=\"719.148\" style=\"stroke:#009af9; stroke-width:3.2; stroke-opacity:0.5\"/>\n",
       "<line clip-path=\"url(#clip572)\" x1=\"727.625\" y1=\"671.148\" x2=\"775.625\" y2=\"671.148\" style=\"stroke:#009af9; stroke-width:3.2; stroke-opacity:0.5\"/>\n",
       "<line clip-path=\"url(#clip572)\" x1=\"671.74\" y1=\"620.059\" x2=\"671.74\" y2=\"572.059\" style=\"stroke:#009af9; stroke-width:3.2; stroke-opacity:0.5\"/>\n",
       "<line clip-path=\"url(#clip572)\" x1=\"671.74\" y1=\"620.059\" x2=\"623.74\" y2=\"620.059\" style=\"stroke:#009af9; stroke-width:3.2; stroke-opacity:0.5\"/>\n",
       "<line clip-path=\"url(#clip572)\" x1=\"671.74\" y1=\"620.059\" x2=\"671.74\" y2=\"668.059\" style=\"stroke:#009af9; stroke-width:3.2; stroke-opacity:0.5\"/>\n",
       "<line clip-path=\"url(#clip572)\" x1=\"671.74\" y1=\"620.059\" x2=\"719.74\" y2=\"620.059\" style=\"stroke:#009af9; stroke-width:3.2; stroke-opacity:0.5\"/>\n",
       "<line clip-path=\"url(#clip572)\" x1=\"392.316\" y1=\"1233.13\" x2=\"392.316\" y2=\"1185.13\" style=\"stroke:#009af9; stroke-width:3.2; stroke-opacity:0.5\"/>\n",
       "<line clip-path=\"url(#clip572)\" x1=\"392.316\" y1=\"1233.13\" x2=\"344.316\" y2=\"1233.13\" style=\"stroke:#009af9; stroke-width:3.2; stroke-opacity:0.5\"/>\n",
       "<line clip-path=\"url(#clip572)\" x1=\"392.316\" y1=\"1233.13\" x2=\"392.316\" y2=\"1281.13\" style=\"stroke:#009af9; stroke-width:3.2; stroke-opacity:0.5\"/>\n",
       "<line clip-path=\"url(#clip572)\" x1=\"392.316\" y1=\"1233.13\" x2=\"440.316\" y2=\"1233.13\" style=\"stroke:#009af9; stroke-width:3.2; stroke-opacity:0.5\"/>\n",
       "<line clip-path=\"url(#clip572)\" x1=\"336.431\" y1=\"773.326\" x2=\"336.431\" y2=\"725.326\" style=\"stroke:#009af9; stroke-width:3.2; stroke-opacity:0.5\"/>\n",
       "<line clip-path=\"url(#clip572)\" x1=\"336.431\" y1=\"773.326\" x2=\"288.431\" y2=\"773.326\" style=\"stroke:#009af9; stroke-width:3.2; stroke-opacity:0.5\"/>\n",
       "<line clip-path=\"url(#clip572)\" x1=\"336.431\" y1=\"773.326\" x2=\"336.431\" y2=\"821.326\" style=\"stroke:#009af9; stroke-width:3.2; stroke-opacity:0.5\"/>\n",
       "<line clip-path=\"url(#clip572)\" x1=\"336.431\" y1=\"773.326\" x2=\"384.431\" y2=\"773.326\" style=\"stroke:#009af9; stroke-width:3.2; stroke-opacity:0.5\"/>\n",
       "<line clip-path=\"url(#clip572)\" x1=\"671.74\" y1=\"620.059\" x2=\"671.74\" y2=\"572.059\" style=\"stroke:#009af9; stroke-width:3.2; stroke-opacity:0.5\"/>\n",
       "<line clip-path=\"url(#clip572)\" x1=\"671.74\" y1=\"620.059\" x2=\"623.74\" y2=\"620.059\" style=\"stroke:#009af9; stroke-width:3.2; stroke-opacity:0.5\"/>\n",
       "<line clip-path=\"url(#clip572)\" x1=\"671.74\" y1=\"620.059\" x2=\"671.74\" y2=\"668.059\" style=\"stroke:#009af9; stroke-width:3.2; stroke-opacity:0.5\"/>\n",
       "<line clip-path=\"url(#clip572)\" x1=\"671.74\" y1=\"620.059\" x2=\"719.74\" y2=\"620.059\" style=\"stroke:#009af9; stroke-width:3.2; stroke-opacity:0.5\"/>\n",
       "<line clip-path=\"url(#clip572)\" x1=\"727.625\" y1=\"466.791\" x2=\"727.625\" y2=\"418.791\" style=\"stroke:#009af9; stroke-width:3.2; stroke-opacity:0.5\"/>\n",
       "<line clip-path=\"url(#clip572)\" x1=\"727.625\" y1=\"466.791\" x2=\"679.625\" y2=\"466.791\" style=\"stroke:#009af9; stroke-width:3.2; stroke-opacity:0.5\"/>\n",
       "<line clip-path=\"url(#clip572)\" x1=\"727.625\" y1=\"466.791\" x2=\"727.625\" y2=\"514.791\" style=\"stroke:#009af9; stroke-width:3.2; stroke-opacity:0.5\"/>\n",
       "<line clip-path=\"url(#clip572)\" x1=\"727.625\" y1=\"466.791\" x2=\"775.625\" y2=\"466.791\" style=\"stroke:#009af9; stroke-width:3.2; stroke-opacity:0.5\"/>\n",
       "<line clip-path=\"url(#clip572)\" x1=\"559.97\" y1=\"875.504\" x2=\"559.97\" y2=\"827.504\" style=\"stroke:#009af9; stroke-width:3.2; stroke-opacity:0.5\"/>\n",
       "<line clip-path=\"url(#clip572)\" x1=\"559.97\" y1=\"875.504\" x2=\"511.97\" y2=\"875.504\" style=\"stroke:#009af9; stroke-width:3.2; stroke-opacity:0.5\"/>\n",
       "<line clip-path=\"url(#clip572)\" x1=\"559.97\" y1=\"875.504\" x2=\"559.97\" y2=\"923.504\" style=\"stroke:#009af9; stroke-width:3.2; stroke-opacity:0.5\"/>\n",
       "<line clip-path=\"url(#clip572)\" x1=\"559.97\" y1=\"875.504\" x2=\"607.97\" y2=\"875.504\" style=\"stroke:#009af9; stroke-width:3.2; stroke-opacity:0.5\"/>\n",
       "<line clip-path=\"url(#clip572)\" x1=\"727.625\" y1=\"466.791\" x2=\"727.625\" y2=\"418.791\" style=\"stroke:#009af9; stroke-width:3.2; stroke-opacity:0.5\"/>\n",
       "<line clip-path=\"url(#clip572)\" x1=\"727.625\" y1=\"466.791\" x2=\"679.625\" y2=\"466.791\" style=\"stroke:#009af9; stroke-width:3.2; stroke-opacity:0.5\"/>\n",
       "<line clip-path=\"url(#clip572)\" x1=\"727.625\" y1=\"466.791\" x2=\"727.625\" y2=\"514.791\" style=\"stroke:#009af9; stroke-width:3.2; stroke-opacity:0.5\"/>\n",
       "<line clip-path=\"url(#clip572)\" x1=\"727.625\" y1=\"466.791\" x2=\"775.625\" y2=\"466.791\" style=\"stroke:#009af9; stroke-width:3.2; stroke-opacity:0.5\"/>\n",
       "<line clip-path=\"url(#clip572)\" x1=\"448.2\" y1=\"773.326\" x2=\"448.2\" y2=\"725.326\" style=\"stroke:#009af9; stroke-width:3.2; stroke-opacity:0.5\"/>\n",
       "<line clip-path=\"url(#clip572)\" x1=\"448.2\" y1=\"773.326\" x2=\"400.2\" y2=\"773.326\" style=\"stroke:#009af9; stroke-width:3.2; stroke-opacity:0.5\"/>\n",
       "<line clip-path=\"url(#clip572)\" x1=\"448.2\" y1=\"773.326\" x2=\"448.2\" y2=\"821.326\" style=\"stroke:#009af9; stroke-width:3.2; stroke-opacity:0.5\"/>\n",
       "<line clip-path=\"url(#clip572)\" x1=\"448.2\" y1=\"773.326\" x2=\"496.2\" y2=\"773.326\" style=\"stroke:#009af9; stroke-width:3.2; stroke-opacity:0.5\"/>\n",
       "<line clip-path=\"url(#clip572)\" x1=\"839.394\" y1=\"517.88\" x2=\"839.394\" y2=\"469.88\" style=\"stroke:#009af9; stroke-width:3.2; stroke-opacity:0.5\"/>\n",
       "<line clip-path=\"url(#clip572)\" x1=\"839.394\" y1=\"517.88\" x2=\"791.394\" y2=\"517.88\" style=\"stroke:#009af9; stroke-width:3.2; stroke-opacity:0.5\"/>\n",
       "<line clip-path=\"url(#clip572)\" x1=\"839.394\" y1=\"517.88\" x2=\"839.394\" y2=\"565.88\" style=\"stroke:#009af9; stroke-width:3.2; stroke-opacity:0.5\"/>\n",
       "<line clip-path=\"url(#clip572)\" x1=\"839.394\" y1=\"517.88\" x2=\"887.394\" y2=\"517.88\" style=\"stroke:#009af9; stroke-width:3.2; stroke-opacity:0.5\"/>\n",
       "<line clip-path=\"url(#clip572)\" x1=\"671.74\" y1=\"722.237\" x2=\"671.74\" y2=\"674.237\" style=\"stroke:#009af9; stroke-width:3.2; stroke-opacity:0.5\"/>\n",
       "<line clip-path=\"url(#clip572)\" x1=\"671.74\" y1=\"722.237\" x2=\"623.74\" y2=\"722.237\" style=\"stroke:#009af9; stroke-width:3.2; stroke-opacity:0.5\"/>\n",
       "<line clip-path=\"url(#clip572)\" x1=\"671.74\" y1=\"722.237\" x2=\"671.74\" y2=\"770.237\" style=\"stroke:#009af9; stroke-width:3.2; stroke-opacity:0.5\"/>\n",
       "<line clip-path=\"url(#clip572)\" x1=\"671.74\" y1=\"722.237\" x2=\"719.74\" y2=\"722.237\" style=\"stroke:#009af9; stroke-width:3.2; stroke-opacity:0.5\"/>\n",
       "<path clip-path=\"url(#clip572)\" d=\"M1789.44 821.326 L1747.87 797.326 L1747.87 749.326 L1789.44 725.326 L1831 749.326 L1831 797.326 Z\" fill=\"#e26f46\" fill-rule=\"evenodd\" fill-opacity=\"0.5\" stroke=\"#ffffff\" stroke-opacity=\"0.5\" stroke-width=\"3.2\"/>\n",
       "<path clip-path=\"url(#clip572)\" d=\"M1454.13 821.326 L1412.56 797.326 L1412.56 749.326 L1454.13 725.326 L1495.7 749.326 L1495.7 797.326 Z\" fill=\"#e26f46\" fill-rule=\"evenodd\" fill-opacity=\"0.5\" stroke=\"#ffffff\" stroke-opacity=\"0.5\" stroke-width=\"3.2\"/>\n",
       "<path clip-path=\"url(#clip572)\" d=\"M1733.55 872.415 L1691.98 848.415 L1691.98 800.415 L1733.55 776.415 L1775.12 800.415 L1775.12 848.415 Z\" fill=\"#e26f46\" fill-rule=\"evenodd\" fill-opacity=\"0.5\" stroke=\"#ffffff\" stroke-opacity=\"0.5\" stroke-width=\"3.2\"/>\n",
       "<path clip-path=\"url(#clip572)\" d=\"M951.164 1281.13 L909.596 1257.13 L909.596 1209.13 L951.164 1185.13 L992.732 1209.13 L992.732 1257.13 Z\" fill=\"#e26f46\" fill-rule=\"evenodd\" fill-opacity=\"0.5\" stroke=\"#ffffff\" stroke-opacity=\"0.5\" stroke-width=\"3.2\"/>\n",
       "<path clip-path=\"url(#clip572)\" d=\"M1510.01 1025.68 L1468.44 1001.68 L1468.44 953.683 L1510.01 929.683 L1551.58 953.683 L1551.58 1001.68 Z\" fill=\"#e26f46\" fill-rule=\"evenodd\" fill-opacity=\"0.5\" stroke=\"#ffffff\" stroke-opacity=\"0.5\" stroke-width=\"3.2\"/>\n",
       "<path clip-path=\"url(#clip572)\" d=\"M1062.93 1025.68 L1021.37 1001.68 L1021.37 953.683 L1062.93 929.683 L1104.5 953.683 L1104.5 1001.68 Z\" fill=\"#e26f46\" fill-rule=\"evenodd\" fill-opacity=\"0.5\" stroke=\"#ffffff\" stroke-opacity=\"0.5\" stroke-width=\"3.2\"/>\n",
       "<path clip-path=\"url(#clip572)\" d=\"M1398.24 770.237 L1356.67 746.237 L1356.67 698.237 L1398.24 674.237 L1439.81 698.237 L1439.81 746.237 Z\" fill=\"#e26f46\" fill-rule=\"evenodd\" fill-opacity=\"0.5\" stroke=\"#ffffff\" stroke-opacity=\"0.5\" stroke-width=\"3.2\"/>\n",
       "<path clip-path=\"url(#clip572)\" d=\"M615.855 1230.04 L574.287 1206.04 L574.287 1158.04 L615.855 1134.04 L657.423 1158.04 L657.423 1206.04 Z\" fill=\"#e26f46\" fill-rule=\"evenodd\" fill-opacity=\"0.5\" stroke=\"#ffffff\" stroke-opacity=\"0.5\" stroke-width=\"3.2\"/>\n",
       "<path clip-path=\"url(#clip572)\" d=\"M1565.9 974.593 L1524.33 950.593 L1524.33 902.593 L1565.9 878.593 L1607.47 902.593 L1607.47 950.593 Z\" fill=\"#e26f46\" fill-rule=\"evenodd\" fill-opacity=\"0.5\" stroke=\"#ffffff\" stroke-opacity=\"0.5\" stroke-width=\"3.2\"/>\n",
       "<path clip-path=\"url(#clip572)\" d=\"M783.51 1076.77 L741.942 1052.77 L741.942 1004.77 L783.51 980.772 L825.078 1004.77 L825.078 1052.77 Z\" fill=\"#e26f46\" fill-rule=\"evenodd\" fill-opacity=\"0.5\" stroke=\"#ffffff\" stroke-opacity=\"0.5\" stroke-width=\"3.2\"/>\n",
       "<path clip-path=\"url(#clip572)\" d=\"M671.74 1434.4 L630.172 1410.4 L630.172 1362.4 L671.74 1338.4 L713.308 1362.4 L713.308 1410.4 Z\" fill=\"#e26f46\" fill-rule=\"evenodd\" fill-opacity=\"0.5\" stroke=\"#ffffff\" stroke-opacity=\"0.5\" stroke-width=\"3.2\"/>\n",
       "<path clip-path=\"url(#clip572)\" d=\"M1174.7 923.504 L1133.14 899.504 L1133.14 851.504 L1174.7 827.504 L1216.27 851.504 L1216.27 899.504 Z\" fill=\"#e26f46\" fill-rule=\"evenodd\" fill-opacity=\"0.5\" stroke=\"#ffffff\" stroke-opacity=\"0.5\" stroke-width=\"3.2\"/>\n",
       "<path clip-path=\"url(#clip572)\" d=\"M1230.59 1332.22 L1189.02 1308.22 L1189.02 1260.22 L1230.59 1236.22 L1272.16 1260.22 L1272.16 1308.22 Z\" fill=\"#e26f46\" fill-rule=\"evenodd\" fill-opacity=\"0.5\" stroke=\"#ffffff\" stroke-opacity=\"0.5\" stroke-width=\"3.2\"/>\n",
       "<path clip-path=\"url(#clip572)\" d=\"M1286.47 974.593 L1244.91 950.593 L1244.91 902.593 L1286.47 878.593 L1328.04 902.593 L1328.04 950.593 Z\" fill=\"#e26f46\" fill-rule=\"evenodd\" fill-opacity=\"0.5\" stroke=\"#ffffff\" stroke-opacity=\"0.5\" stroke-width=\"3.2\"/>\n",
       "<path clip-path=\"url(#clip572)\" d=\"M1007.05 974.593 L965.481 950.593 L965.481 902.593 L1007.05 878.593 L1048.62 902.593 L1048.62 950.593 Z\" fill=\"#e26f46\" fill-rule=\"evenodd\" fill-opacity=\"0.5\" stroke=\"#ffffff\" stroke-opacity=\"0.5\" stroke-width=\"3.2\"/>\n",
       "<path clip-path=\"url(#clip572)\" d=\"M1621.78 872.415 L1580.21 848.415 L1580.21 800.415 L1621.78 776.415 L1663.35 800.415 L1663.35 848.415 Z\" fill=\"#e26f46\" fill-rule=\"evenodd\" fill-opacity=\"0.5\" stroke=\"#ffffff\" stroke-opacity=\"0.5\" stroke-width=\"3.2\"/>\n",
       "<path clip-path=\"url(#clip572)\" d=\"M1007.05 923.504 L965.481 899.504 L965.481 851.504 L1007.05 827.504 L1048.62 851.504 L1048.62 899.504 Z\" fill=\"#e26f46\" fill-rule=\"evenodd\" fill-opacity=\"0.5\" stroke=\"#ffffff\" stroke-opacity=\"0.5\" stroke-width=\"3.2\"/>\n",
       "<path clip-path=\"url(#clip572)\" d=\"M1118.82 1076.77 L1077.25 1052.77 L1077.25 1004.77 L1118.82 980.772 L1160.39 1004.77 L1160.39 1052.77 Z\" fill=\"#e26f46\" fill-rule=\"evenodd\" fill-opacity=\"0.5\" stroke=\"#ffffff\" stroke-opacity=\"0.5\" stroke-width=\"3.2\"/>\n",
       "<path clip-path=\"url(#clip572)\" d=\"M1342.36 1332.22 L1300.79 1308.22 L1300.79 1260.22 L1342.36 1236.22 L1383.93 1260.22 L1383.93 1308.22 Z\" fill=\"#e26f46\" fill-rule=\"evenodd\" fill-opacity=\"0.5\" stroke=\"#ffffff\" stroke-opacity=\"0.5\" stroke-width=\"3.2\"/>\n",
       "<path clip-path=\"url(#clip572)\" d=\"M1007.05 1178.95 L965.481 1154.95 L965.481 1106.95 L1007.05 1082.95 L1048.62 1106.95 L1048.62 1154.95 Z\" fill=\"#e26f46\" fill-rule=\"evenodd\" fill-opacity=\"0.5\" stroke=\"#ffffff\" stroke-opacity=\"0.5\" stroke-width=\"3.2\"/>\n",
       "<path clip-path=\"url(#clip572)\" d=\"M1174.7 821.326 L1133.14 797.326 L1133.14 749.326 L1174.7 725.326 L1216.27 749.326 L1216.27 797.326 Z\" fill=\"#e26f46\" fill-rule=\"evenodd\" fill-opacity=\"0.5\" stroke=\"#ffffff\" stroke-opacity=\"0.5\" stroke-width=\"3.2\"/>\n",
       "<path clip-path=\"url(#clip572)\" d=\"M1286.47 1025.68 L1244.91 1001.68 L1244.91 953.683 L1286.47 929.683 L1328.04 953.683 L1328.04 1001.68 Z\" fill=\"#e26f46\" fill-rule=\"evenodd\" fill-opacity=\"0.5\" stroke=\"#ffffff\" stroke-opacity=\"0.5\" stroke-width=\"3.2\"/>\n",
       "<path clip-path=\"url(#clip572)\" d=\"M1398.24 1178.95 L1356.67 1154.95 L1356.67 1106.95 L1398.24 1082.95 L1439.81 1106.95 L1439.81 1154.95 Z\" fill=\"#e26f46\" fill-rule=\"evenodd\" fill-opacity=\"0.5\" stroke=\"#ffffff\" stroke-opacity=\"0.5\" stroke-width=\"3.2\"/>\n",
       "<path clip-path=\"url(#clip572)\" d=\"M1286.47 1025.68 L1244.91 1001.68 L1244.91 953.683 L1286.47 929.683 L1328.04 953.683 L1328.04 1001.68 Z\" fill=\"#e26f46\" fill-rule=\"evenodd\" fill-opacity=\"0.5\" stroke=\"#ffffff\" stroke-opacity=\"0.5\" stroke-width=\"3.2\"/>\n",
       "<path clip-path=\"url(#clip572)\" d=\"M1454.13 974.593 L1412.56 950.593 L1412.56 902.593 L1454.13 878.593 L1495.7 902.593 L1495.7 950.593 Z\" fill=\"#e26f46\" fill-rule=\"evenodd\" fill-opacity=\"0.5\" stroke=\"#ffffff\" stroke-opacity=\"0.5\" stroke-width=\"3.2\"/>\n",
       "<path clip-path=\"url(#clip572)\" d=\"M1565.9 923.504 L1524.33 899.504 L1524.33 851.504 L1565.9 827.504 L1607.47 851.504 L1607.47 899.504 Z\" fill=\"#e26f46\" fill-rule=\"evenodd\" fill-opacity=\"0.5\" stroke=\"#ffffff\" stroke-opacity=\"0.5\" stroke-width=\"3.2\"/>\n",
       "<path clip-path=\"url(#clip572)\" d=\"M1677.67 1025.68 L1636.1 1001.68 L1636.1 953.683 L1677.67 929.683 L1719.24 953.683 L1719.24 1001.68 Z\" fill=\"#e26f46\" fill-rule=\"evenodd\" fill-opacity=\"0.5\" stroke=\"#ffffff\" stroke-opacity=\"0.5\" stroke-width=\"3.2\"/>\n",
       "<path clip-path=\"url(#clip572)\" d=\"M1621.78 923.504 L1580.21 899.504 L1580.21 851.504 L1621.78 827.504 L1663.35 851.504 L1663.35 899.504 Z\" fill=\"#e26f46\" fill-rule=\"evenodd\" fill-opacity=\"0.5\" stroke=\"#ffffff\" stroke-opacity=\"0.5\" stroke-width=\"3.2\"/>\n",
       "<path clip-path=\"url(#clip572)\" d=\"M1230.59 974.593 L1189.02 950.593 L1189.02 902.593 L1230.59 878.593 L1272.16 902.593 L1272.16 950.593 Z\" fill=\"#e26f46\" fill-rule=\"evenodd\" fill-opacity=\"0.5\" stroke=\"#ffffff\" stroke-opacity=\"0.5\" stroke-width=\"3.2\"/>\n",
       "<path clip-path=\"url(#clip572)\" d=\"M1062.93 1127.86 L1021.37 1103.86 L1021.37 1055.86 L1062.93 1031.86 L1104.5 1055.86 L1104.5 1103.86 Z\" fill=\"#e26f46\" fill-rule=\"evenodd\" fill-opacity=\"0.5\" stroke=\"#ffffff\" stroke-opacity=\"0.5\" stroke-width=\"3.2\"/>\n",
       "<path clip-path=\"url(#clip572)\" d=\"M951.164 1230.04 L909.596 1206.04 L909.596 1158.04 L951.164 1134.04 L992.732 1158.04 L992.732 1206.04 Z\" fill=\"#e26f46\" fill-rule=\"evenodd\" fill-opacity=\"0.5\" stroke=\"#ffffff\" stroke-opacity=\"0.5\" stroke-width=\"3.2\"/>\n",
       "<path clip-path=\"url(#clip572)\" d=\"M951.164 1230.04 L909.596 1206.04 L909.596 1158.04 L951.164 1134.04 L992.732 1158.04 L992.732 1206.04 Z\" fill=\"#e26f46\" fill-rule=\"evenodd\" fill-opacity=\"0.5\" stroke=\"#ffffff\" stroke-opacity=\"0.5\" stroke-width=\"3.2\"/>\n",
       "<path clip-path=\"url(#clip572)\" d=\"M1118.82 1076.77 L1077.25 1052.77 L1077.25 1004.77 L1118.82 980.772 L1160.39 1004.77 L1160.39 1052.77 Z\" fill=\"#e26f46\" fill-rule=\"evenodd\" fill-opacity=\"0.5\" stroke=\"#ffffff\" stroke-opacity=\"0.5\" stroke-width=\"3.2\"/>\n",
       "<path clip-path=\"url(#clip572)\" d=\"M1230.59 1076.77 L1189.02 1052.77 L1189.02 1004.77 L1230.59 980.772 L1272.16 1004.77 L1272.16 1052.77 Z\" fill=\"#e26f46\" fill-rule=\"evenodd\" fill-opacity=\"0.5\" stroke=\"#ffffff\" stroke-opacity=\"0.5\" stroke-width=\"3.2\"/>\n",
       "<path clip-path=\"url(#clip572)\" d=\"M895.279 923.504 L853.711 899.504 L853.711 851.504 L895.279 827.504 L936.847 851.504 L936.847 899.504 Z\" fill=\"#e26f46\" fill-rule=\"evenodd\" fill-opacity=\"0.5\" stroke=\"#ffffff\" stroke-opacity=\"0.5\" stroke-width=\"3.2\"/>\n",
       "<path clip-path=\"url(#clip572)\" d=\"M1230.59 719.148 L1189.02 695.148 L1189.02 647.148 L1230.59 623.148 L1272.16 647.148 L1272.16 695.148 Z\" fill=\"#e26f46\" fill-rule=\"evenodd\" fill-opacity=\"0.5\" stroke=\"#ffffff\" stroke-opacity=\"0.5\" stroke-width=\"3.2\"/>\n",
       "<path clip-path=\"url(#clip572)\" d=\"M1621.78 872.415 L1580.21 848.415 L1580.21 800.415 L1621.78 776.415 L1663.35 800.415 L1663.35 848.415 Z\" fill=\"#e26f46\" fill-rule=\"evenodd\" fill-opacity=\"0.5\" stroke=\"#ffffff\" stroke-opacity=\"0.5\" stroke-width=\"3.2\"/>\n",
       "<path clip-path=\"url(#clip572)\" d=\"M1398.24 1281.13 L1356.67 1257.13 L1356.67 1209.13 L1398.24 1185.13 L1439.81 1209.13 L1439.81 1257.13 Z\" fill=\"#e26f46\" fill-rule=\"evenodd\" fill-opacity=\"0.5\" stroke=\"#ffffff\" stroke-opacity=\"0.5\" stroke-width=\"3.2\"/>\n",
       "<path clip-path=\"url(#clip572)\" d=\"M1007.05 923.504 L965.481 899.504 L965.481 851.504 L1007.05 827.504 L1048.62 851.504 L1048.62 899.504 Z\" fill=\"#e26f46\" fill-rule=\"evenodd\" fill-opacity=\"0.5\" stroke=\"#ffffff\" stroke-opacity=\"0.5\" stroke-width=\"3.2\"/>\n",
       "<path clip-path=\"url(#clip572)\" d=\"M951.164 1178.95 L909.596 1154.95 L909.596 1106.95 L951.164 1082.95 L992.732 1106.95 L992.732 1154.95 Z\" fill=\"#e26f46\" fill-rule=\"evenodd\" fill-opacity=\"0.5\" stroke=\"#ffffff\" stroke-opacity=\"0.5\" stroke-width=\"3.2\"/>\n",
       "<path clip-path=\"url(#clip572)\" d=\"M951.164 1127.86 L909.596 1103.86 L909.596 1055.86 L951.164 1031.86 L992.732 1055.86 L992.732 1103.86 Z\" fill=\"#e26f46\" fill-rule=\"evenodd\" fill-opacity=\"0.5\" stroke=\"#ffffff\" stroke-opacity=\"0.5\" stroke-width=\"3.2\"/>\n",
       "<path clip-path=\"url(#clip572)\" d=\"M1286.47 923.504 L1244.91 899.504 L1244.91 851.504 L1286.47 827.504 L1328.04 851.504 L1328.04 899.504 Z\" fill=\"#e26f46\" fill-rule=\"evenodd\" fill-opacity=\"0.5\" stroke=\"#ffffff\" stroke-opacity=\"0.5\" stroke-width=\"3.2\"/>\n",
       "<path clip-path=\"url(#clip572)\" d=\"M1118.82 1127.86 L1077.25 1103.86 L1077.25 1055.86 L1118.82 1031.86 L1160.39 1055.86 L1160.39 1103.86 Z\" fill=\"#e26f46\" fill-rule=\"evenodd\" fill-opacity=\"0.5\" stroke=\"#ffffff\" stroke-opacity=\"0.5\" stroke-width=\"3.2\"/>\n",
       "<path clip-path=\"url(#clip572)\" d=\"M671.74 1281.13 L630.172 1257.13 L630.172 1209.13 L671.74 1185.13 L713.308 1209.13 L713.308 1257.13 Z\" fill=\"#e26f46\" fill-rule=\"evenodd\" fill-opacity=\"0.5\" stroke=\"#ffffff\" stroke-opacity=\"0.5\" stroke-width=\"3.2\"/>\n",
       "<path clip-path=\"url(#clip572)\" d=\"M1007.05 1076.77 L965.481 1052.77 L965.481 1004.77 L1007.05 980.772 L1048.62 1004.77 L1048.62 1052.77 Z\" fill=\"#e26f46\" fill-rule=\"evenodd\" fill-opacity=\"0.5\" stroke=\"#ffffff\" stroke-opacity=\"0.5\" stroke-width=\"3.2\"/>\n",
       "<path clip-path=\"url(#clip572)\" d=\"M1062.93 923.504 L1021.37 899.504 L1021.37 851.504 L1062.93 827.504 L1104.5 851.504 L1104.5 899.504 Z\" fill=\"#e26f46\" fill-rule=\"evenodd\" fill-opacity=\"0.5\" stroke=\"#ffffff\" stroke-opacity=\"0.5\" stroke-width=\"3.2\"/>\n",
       "<path clip-path=\"url(#clip572)\" d=\"M1062.93 974.593 L1021.37 950.593 L1021.37 902.593 L1062.93 878.593 L1104.5 902.593 L1104.5 950.593 Z\" fill=\"#e26f46\" fill-rule=\"evenodd\" fill-opacity=\"0.5\" stroke=\"#ffffff\" stroke-opacity=\"0.5\" stroke-width=\"3.2\"/>\n",
       "<path clip-path=\"url(#clip572)\" d=\"M1342.36 974.593 L1300.79 950.593 L1300.79 902.593 L1342.36 878.593 L1383.93 902.593 L1383.93 950.593 Z\" fill=\"#e26f46\" fill-rule=\"evenodd\" fill-opacity=\"0.5\" stroke=\"#ffffff\" stroke-opacity=\"0.5\" stroke-width=\"3.2\"/>\n",
       "<path clip-path=\"url(#clip572)\" d=\"M727.625 1178.95 L686.057 1154.95 L686.057 1106.95 L727.625 1082.95 L769.193 1106.95 L769.193 1154.95 Z\" fill=\"#e26f46\" fill-rule=\"evenodd\" fill-opacity=\"0.5\" stroke=\"#ffffff\" stroke-opacity=\"0.5\" stroke-width=\"3.2\"/>\n",
       "<path clip-path=\"url(#clip572)\" d=\"M1062.93 1025.68 L1021.37 1001.68 L1021.37 953.683 L1062.93 929.683 L1104.5 953.683 L1104.5 1001.68 Z\" fill=\"#e26f46\" fill-rule=\"evenodd\" fill-opacity=\"0.5\" stroke=\"#ffffff\" stroke-opacity=\"0.5\" stroke-width=\"3.2\"/>\n",
       "<path clip-path=\"url(#clip572)\" d=\"M1398.24 674.237 L1389.89 704.957 L1360.71 692.333 L1379.52 717.965 L1351.44 732.941 L1383.22 734.189 L1377.41 765.485 L1398.24 741.437 L1419.07 765.485 L1413.27 734.189 L1445.04 732.941 L1416.96 717.965 L1435.78 692.333 L1406.59 704.957 L1398.24 674.237 Z\" fill=\"#3da44d\" fill-rule=\"evenodd\" fill-opacity=\"0.5\" stroke=\"#ffffff\" stroke-opacity=\"0.5\" stroke-width=\"3.2\"/>\n",
       "<path clip-path=\"url(#clip572)\" d=\"M1118.82 980.772 L1110.47 1011.49 L1081.28 998.868 L1100.1 1024.5 L1072.02 1039.48 L1103.79 1040.72 L1097.99 1072.02 L1118.82 1047.97 L1139.65 1072.02 L1133.84 1040.72 L1165.62 1039.48 L1137.54 1024.5 L1156.35 998.868 L1127.17 1011.49 L1118.82 980.772 Z\" fill=\"#3da44d\" fill-rule=\"evenodd\" fill-opacity=\"0.5\" stroke=\"#ffffff\" stroke-opacity=\"0.5\" stroke-width=\"3.2\"/>\n",
       "<path clip-path=\"url(#clip572)\" d=\"M1845.32 827.504 L1836.97 858.224 L1807.79 845.6 L1826.6 871.232 L1798.52 886.208 L1830.3 887.456 L1824.49 918.752 L1845.32 894.704 L1866.15 918.752 L1860.35 887.456 L1892.12 886.208 L1864.04 871.232 L1882.86 845.6 L1853.67 858.224 L1845.32 827.504 Z\" fill=\"#3da44d\" fill-rule=\"evenodd\" fill-opacity=\"0.5\" stroke=\"#ffffff\" stroke-opacity=\"0.5\" stroke-width=\"3.2\"/>\n",
       "<path clip-path=\"url(#clip572)\" d=\"M1398.24 878.593 L1389.89 909.313 L1360.71 896.689 L1379.52 922.321 L1351.44 937.297 L1383.22 938.545 L1377.41 969.841 L1398.24 945.793 L1419.07 969.841 L1413.27 938.545 L1445.04 937.297 L1416.96 922.321 L1435.78 896.689 L1406.59 909.313 L1398.24 878.593 Z\" fill=\"#3da44d\" fill-rule=\"evenodd\" fill-opacity=\"0.5\" stroke=\"#ffffff\" stroke-opacity=\"0.5\" stroke-width=\"3.2\"/>\n",
       "<path clip-path=\"url(#clip572)\" d=\"M1510.01 827.504 L1501.66 858.224 L1472.48 845.6 L1491.29 871.232 L1463.21 886.208 L1494.99 887.456 L1489.18 918.752 L1510.01 894.704 L1530.84 918.752 L1525.04 887.456 L1556.81 886.208 L1528.73 871.232 L1547.55 845.6 L1518.36 858.224 L1510.01 827.504 Z\" fill=\"#3da44d\" fill-rule=\"evenodd\" fill-opacity=\"0.5\" stroke=\"#ffffff\" stroke-opacity=\"0.5\" stroke-width=\"3.2\"/>\n",
       "<path clip-path=\"url(#clip572)\" d=\"M2124.75 827.504 L2116.39 858.224 L2087.21 845.6 L2106.03 871.232 L2077.95 886.208 L2109.72 887.456 L2103.91 918.752 L2124.75 894.704 L2145.58 918.752 L2139.77 887.456 L2171.55 886.208 L2143.47 871.232 L2162.28 845.6 L2133.1 858.224 L2124.75 827.504 Z\" fill=\"#3da44d\" fill-rule=\"evenodd\" fill-opacity=\"0.5\" stroke=\"#ffffff\" stroke-opacity=\"0.5\" stroke-width=\"3.2\"/>\n",
       "<path clip-path=\"url(#clip572)\" d=\"M615.855 1082.95 L607.503 1113.67 L578.319 1101.05 L597.135 1126.68 L569.055 1141.65 L600.831 1142.9 L595.023 1174.2 L615.855 1150.15 L636.687 1174.2 L630.879 1142.9 L662.655 1141.65 L634.575 1126.68 L653.391 1101.05 L624.207 1113.67 L615.855 1082.95 Z\" fill=\"#3da44d\" fill-rule=\"evenodd\" fill-opacity=\"0.5\" stroke=\"#ffffff\" stroke-opacity=\"0.5\" stroke-width=\"3.2\"/>\n",
       "<path clip-path=\"url(#clip572)\" d=\"M1957.09 878.593 L1948.74 909.313 L1919.56 896.689 L1938.37 922.321 L1910.29 937.297 L1942.07 938.545 L1936.26 969.841 L1957.09 945.793 L1977.92 969.841 L1972.12 938.545 L2003.89 937.297 L1975.81 922.321 L1994.63 896.689 L1965.44 909.313 L1957.09 878.593 Z\" fill=\"#3da44d\" fill-rule=\"evenodd\" fill-opacity=\"0.5\" stroke=\"#ffffff\" stroke-opacity=\"0.5\" stroke-width=\"3.2\"/>\n",
       "<path clip-path=\"url(#clip572)\" d=\"M1621.78 1082.95 L1613.43 1113.67 L1584.25 1101.05 L1603.06 1126.68 L1574.98 1141.65 L1606.76 1142.9 L1600.95 1174.2 L1621.78 1150.15 L1642.61 1174.2 L1636.81 1142.9 L1668.58 1141.65 L1640.5 1126.68 L1659.32 1101.05 L1630.13 1113.67 L1621.78 1082.95 Z\" fill=\"#3da44d\" fill-rule=\"evenodd\" fill-opacity=\"0.5\" stroke=\"#ffffff\" stroke-opacity=\"0.5\" stroke-width=\"3.2\"/>\n",
       "<path clip-path=\"url(#clip572)\" d=\"M1901.21 520.969 L1892.85 551.689 L1863.67 539.065 L1882.49 564.697 L1854.41 579.673 L1886.18 580.921 L1880.37 612.217 L1901.21 588.169 L1922.04 612.217 L1916.23 580.921 L1948.01 579.673 L1919.93 564.697 L1938.74 539.065 L1909.56 551.689 L1901.21 520.969 Z\" fill=\"#3da44d\" fill-rule=\"evenodd\" fill-opacity=\"0.5\" stroke=\"#ffffff\" stroke-opacity=\"0.5\" stroke-width=\"3.2\"/>\n",
       "<path clip-path=\"url(#clip572)\" d=\"M1510.01 725.326 L1501.66 756.046 L1472.48 743.422 L1491.29 769.054 L1463.21 784.03 L1494.99 785.278 L1489.18 816.574 L1510.01 792.526 L1530.84 816.574 L1525.04 785.278 L1556.81 784.03 L1528.73 769.054 L1547.55 743.422 L1518.36 756.046 L1510.01 725.326 Z\" fill=\"#3da44d\" fill-rule=\"evenodd\" fill-opacity=\"0.5\" stroke=\"#ffffff\" stroke-opacity=\"0.5\" stroke-width=\"3.2\"/>\n",
       "<path clip-path=\"url(#clip572)\" d=\"M1454.13 980.772 L1445.78 1011.49 L1416.59 998.868 L1435.41 1024.5 L1407.33 1039.48 L1439.1 1040.72 L1433.3 1072.02 L1454.13 1047.97 L1474.96 1072.02 L1469.15 1040.72 L1500.93 1039.48 L1472.85 1024.5 L1491.66 998.868 L1462.48 1011.49 L1454.13 980.772 Z\" fill=\"#3da44d\" fill-rule=\"evenodd\" fill-opacity=\"0.5\" stroke=\"#ffffff\" stroke-opacity=\"0.5\" stroke-width=\"3.2\"/>\n",
       "<path clip-path=\"url(#clip572)\" d=\"M1677.67 827.504 L1669.32 858.224 L1640.13 845.6 L1658.95 871.232 L1630.87 886.208 L1662.64 887.456 L1656.84 918.752 L1677.67 894.704 L1698.5 918.752 L1692.69 887.456 L1724.47 886.208 L1696.39 871.232 L1715.2 845.6 L1686.02 858.224 L1677.67 827.504 Z\" fill=\"#3da44d\" fill-rule=\"evenodd\" fill-opacity=\"0.5\" stroke=\"#ffffff\" stroke-opacity=\"0.5\" stroke-width=\"3.2\"/>\n",
       "<path clip-path=\"url(#clip572)\" d=\"M1062.93 1082.95 L1054.58 1113.67 L1025.4 1101.05 L1044.21 1126.68 L1016.13 1141.65 L1047.91 1142.9 L1042.1 1174.2 L1062.93 1150.15 L1083.77 1174.2 L1077.96 1142.9 L1109.73 1141.65 L1081.65 1126.68 L1100.47 1101.05 L1071.29 1113.67 L1062.93 1082.95 Z\" fill=\"#3da44d\" fill-rule=\"evenodd\" fill-opacity=\"0.5\" stroke=\"#ffffff\" stroke-opacity=\"0.5\" stroke-width=\"3.2\"/>\n",
       "<path clip-path=\"url(#clip572)\" d=\"M1118.82 929.683 L1110.47 960.403 L1081.28 947.779 L1100.1 973.411 L1072.02 988.387 L1103.79 989.635 L1097.99 1020.93 L1118.82 996.883 L1139.65 1020.93 L1133.84 989.635 L1165.62 988.387 L1137.54 973.411 L1156.35 947.779 L1127.17 960.403 L1118.82 929.683 Z\" fill=\"#3da44d\" fill-rule=\"evenodd\" fill-opacity=\"0.5\" stroke=\"#ffffff\" stroke-opacity=\"0.5\" stroke-width=\"3.2\"/>\n",
       "<path clip-path=\"url(#clip572)\" d=\"M1454.13 725.326 L1445.78 756.046 L1416.59 743.422 L1435.41 769.054 L1407.33 784.03 L1439.1 785.278 L1433.3 816.574 L1454.13 792.526 L1474.96 816.574 L1469.15 785.278 L1500.93 784.03 L1472.85 769.054 L1491.66 743.422 L1462.48 756.046 L1454.13 725.326 Z\" fill=\"#3da44d\" fill-rule=\"evenodd\" fill-opacity=\"0.5\" stroke=\"#ffffff\" stroke-opacity=\"0.5\" stroke-width=\"3.2\"/>\n",
       "<path clip-path=\"url(#clip572)\" d=\"M1510.01 827.504 L1501.66 858.224 L1472.48 845.6 L1491.29 871.232 L1463.21 886.208 L1494.99 887.456 L1489.18 918.752 L1510.01 894.704 L1530.84 918.752 L1525.04 887.456 L1556.81 886.208 L1528.73 871.232 L1547.55 845.6 L1518.36 858.224 L1510.01 827.504 Z\" fill=\"#3da44d\" fill-rule=\"evenodd\" fill-opacity=\"0.5\" stroke=\"#ffffff\" stroke-opacity=\"0.5\" stroke-width=\"3.2\"/>\n",
       "<path clip-path=\"url(#clip572)\" d=\"M2180.63 418.791 L2172.28 449.511 L2143.09 436.887 L2161.91 462.519 L2133.83 477.495 L2165.61 478.743 L2159.8 510.039 L2180.63 485.991 L2201.46 510.039 L2195.65 478.743 L2227.43 477.495 L2199.35 462.519 L2218.17 436.887 L2188.98 449.511 L2180.63 418.791 Z\" fill=\"#3da44d\" fill-rule=\"evenodd\" fill-opacity=\"0.5\" stroke=\"#ffffff\" stroke-opacity=\"0.5\" stroke-width=\"3.2\"/>\n",
       "<path clip-path=\"url(#clip572)\" d=\"M2180.63 1031.86 L2172.28 1062.58 L2143.09 1049.96 L2161.91 1075.59 L2133.83 1090.56 L2165.61 1091.81 L2159.8 1123.11 L2180.63 1099.06 L2201.46 1123.11 L2195.65 1091.81 L2227.43 1090.56 L2199.35 1075.59 L2218.17 1049.96 L2188.98 1062.58 L2180.63 1031.86 Z\" fill=\"#3da44d\" fill-rule=\"evenodd\" fill-opacity=\"0.5\" stroke=\"#ffffff\" stroke-opacity=\"0.5\" stroke-width=\"3.2\"/>\n",
       "<path clip-path=\"url(#clip572)\" d=\"M1230.59 1236.22 L1222.24 1266.94 L1193.05 1254.31 L1211.87 1279.95 L1183.79 1294.92 L1215.56 1296.17 L1209.76 1327.47 L1230.59 1303.42 L1251.42 1327.47 L1245.61 1296.17 L1277.39 1294.92 L1249.31 1279.95 L1268.12 1254.31 L1238.94 1266.94 L1230.59 1236.22 Z\" fill=\"#3da44d\" fill-rule=\"evenodd\" fill-opacity=\"0.5\" stroke=\"#ffffff\" stroke-opacity=\"0.5\" stroke-width=\"3.2\"/>\n",
       "<path clip-path=\"url(#clip572)\" d=\"M1733.55 725.326 L1725.2 756.046 L1696.02 743.422 L1714.83 769.054 L1686.75 784.03 L1718.53 785.278 L1712.72 816.574 L1733.55 792.526 L1754.38 816.574 L1748.58 785.278 L1780.35 784.03 L1752.27 769.054 L1771.09 743.422 L1741.9 756.046 L1733.55 725.326 Z\" fill=\"#3da44d\" fill-rule=\"evenodd\" fill-opacity=\"0.5\" stroke=\"#ffffff\" stroke-opacity=\"0.5\" stroke-width=\"3.2\"/>\n",
       "<path clip-path=\"url(#clip572)\" d=\"M1007.05 929.683 L998.697 960.403 L969.513 947.779 L988.329 973.411 L960.249 988.387 L992.025 989.635 L986.217 1020.93 L1007.05 996.883 L1027.88 1020.93 L1022.07 989.635 L1053.85 988.387 L1025.77 973.411 L1044.58 947.779 L1015.4 960.403 L1007.05 929.683 Z\" fill=\"#3da44d\" fill-rule=\"evenodd\" fill-opacity=\"0.5\" stroke=\"#ffffff\" stroke-opacity=\"0.5\" stroke-width=\"3.2\"/>\n",
       "<path clip-path=\"url(#clip572)\" d=\"M2180.63 929.683 L2172.28 960.403 L2143.09 947.779 L2161.91 973.411 L2133.83 988.387 L2165.61 989.635 L2159.8 1020.93 L2180.63 996.883 L2201.46 1020.93 L2195.65 989.635 L2227.43 988.387 L2199.35 973.411 L2218.17 947.779 L2188.98 960.403 L2180.63 929.683 Z\" fill=\"#3da44d\" fill-rule=\"evenodd\" fill-opacity=\"0.5\" stroke=\"#ffffff\" stroke-opacity=\"0.5\" stroke-width=\"3.2\"/>\n",
       "<path clip-path=\"url(#clip572)\" d=\"M1398.24 980.772 L1389.89 1011.49 L1360.71 998.868 L1379.52 1024.5 L1351.44 1039.48 L1383.22 1040.72 L1377.41 1072.02 L1398.24 1047.97 L1419.07 1072.02 L1413.27 1040.72 L1445.04 1039.48 L1416.96 1024.5 L1435.78 998.868 L1406.59 1011.49 L1398.24 980.772 Z\" fill=\"#3da44d\" fill-rule=\"evenodd\" fill-opacity=\"0.5\" stroke=\"#ffffff\" stroke-opacity=\"0.5\" stroke-width=\"3.2\"/>\n",
       "<path clip-path=\"url(#clip572)\" d=\"M1621.78 674.237 L1613.43 704.957 L1584.25 692.333 L1603.06 717.965 L1574.98 732.941 L1606.76 734.189 L1600.95 765.485 L1621.78 741.437 L1642.61 765.485 L1636.81 734.189 L1668.58 732.941 L1640.5 717.965 L1659.32 692.333 L1630.13 704.957 L1621.78 674.237 Z\" fill=\"#3da44d\" fill-rule=\"evenodd\" fill-opacity=\"0.5\" stroke=\"#ffffff\" stroke-opacity=\"0.5\" stroke-width=\"3.2\"/>\n",
       "<path clip-path=\"url(#clip572)\" d=\"M1901.21 725.326 L1892.85 756.046 L1863.67 743.422 L1882.49 769.054 L1854.41 784.03 L1886.18 785.278 L1880.37 816.574 L1901.21 792.526 L1922.04 816.574 L1916.23 785.278 L1948.01 784.03 L1919.93 769.054 L1938.74 743.422 L1909.56 756.046 L1901.21 725.326 Z\" fill=\"#3da44d\" fill-rule=\"evenodd\" fill-opacity=\"0.5\" stroke=\"#ffffff\" stroke-opacity=\"0.5\" stroke-width=\"3.2\"/>\n",
       "<path clip-path=\"url(#clip572)\" d=\"M1342.36 929.683 L1334.01 960.403 L1304.82 947.779 L1323.64 973.411 L1295.56 988.387 L1327.33 989.635 L1321.53 1020.93 L1342.36 996.883 L1363.19 1020.93 L1357.38 989.635 L1389.16 988.387 L1361.08 973.411 L1379.89 947.779 L1350.71 960.403 L1342.36 929.683 Z\" fill=\"#3da44d\" fill-rule=\"evenodd\" fill-opacity=\"0.5\" stroke=\"#ffffff\" stroke-opacity=\"0.5\" stroke-width=\"3.2\"/>\n",
       "<path clip-path=\"url(#clip572)\" d=\"M1286.47 827.504 L1278.12 858.224 L1248.94 845.6 L1267.75 871.232 L1239.67 886.208 L1271.45 887.456 L1265.64 918.752 L1286.47 894.704 L1307.31 918.752 L1301.5 887.456 L1333.27 886.208 L1305.19 871.232 L1324.01 845.6 L1294.83 858.224 L1286.47 827.504 Z\" fill=\"#3da44d\" fill-rule=\"evenodd\" fill-opacity=\"0.5\" stroke=\"#ffffff\" stroke-opacity=\"0.5\" stroke-width=\"3.2\"/>\n",
       "<path clip-path=\"url(#clip572)\" d=\"M1454.13 929.683 L1445.78 960.403 L1416.59 947.779 L1435.41 973.411 L1407.33 988.387 L1439.1 989.635 L1433.3 1020.93 L1454.13 996.883 L1474.96 1020.93 L1469.15 989.635 L1500.93 988.387 L1472.85 973.411 L1491.66 947.779 L1462.48 960.403 L1454.13 929.683 Z\" fill=\"#3da44d\" fill-rule=\"evenodd\" fill-opacity=\"0.5\" stroke=\"#ffffff\" stroke-opacity=\"0.5\" stroke-width=\"3.2\"/>\n",
       "<path clip-path=\"url(#clip572)\" d=\"M1901.21 827.504 L1892.85 858.224 L1863.67 845.6 L1882.49 871.232 L1854.41 886.208 L1886.18 887.456 L1880.37 918.752 L1901.21 894.704 L1922.04 918.752 L1916.23 887.456 L1948.01 886.208 L1919.93 871.232 L1938.74 845.6 L1909.56 858.224 L1901.21 827.504 Z\" fill=\"#3da44d\" fill-rule=\"evenodd\" fill-opacity=\"0.5\" stroke=\"#ffffff\" stroke-opacity=\"0.5\" stroke-width=\"3.2\"/>\n",
       "<path clip-path=\"url(#clip572)\" d=\"M2012.98 929.683 L2004.62 960.403 L1975.44 947.779 L1994.26 973.411 L1966.18 988.387 L1997.95 989.635 L1992.14 1020.93 L2012.98 996.883 L2033.81 1020.93 L2028 989.635 L2059.78 988.387 L2031.7 973.411 L2050.51 947.779 L2021.33 960.403 L2012.98 929.683 Z\" fill=\"#3da44d\" fill-rule=\"evenodd\" fill-opacity=\"0.5\" stroke=\"#ffffff\" stroke-opacity=\"0.5\" stroke-width=\"3.2\"/>\n",
       "<path clip-path=\"url(#clip572)\" d=\"M2292.4 418.791 L2284.05 449.511 L2254.86 436.887 L2273.68 462.519 L2245.6 477.495 L2277.38 478.743 L2271.57 510.039 L2292.4 485.991 L2313.23 510.039 L2307.42 478.743 L2339.2 477.495 L2311.12 462.519 L2329.94 436.887 L2300.75 449.511 L2292.4 418.791 Z\" fill=\"#3da44d\" fill-rule=\"evenodd\" fill-opacity=\"0.5\" stroke=\"#ffffff\" stroke-opacity=\"0.5\" stroke-width=\"3.2\"/>\n",
       "<path clip-path=\"url(#clip572)\" d=\"M1454.13 929.683 L1445.78 960.403 L1416.59 947.779 L1435.41 973.411 L1407.33 988.387 L1439.1 989.635 L1433.3 1020.93 L1454.13 996.883 L1474.96 1020.93 L1469.15 989.635 L1500.93 988.387 L1472.85 973.411 L1491.66 947.779 L1462.48 960.403 L1454.13 929.683 Z\" fill=\"#3da44d\" fill-rule=\"evenodd\" fill-opacity=\"0.5\" stroke=\"#ffffff\" stroke-opacity=\"0.5\" stroke-width=\"3.2\"/>\n",
       "<path clip-path=\"url(#clip572)\" d=\"M1398.24 929.683 L1389.89 960.403 L1360.71 947.779 L1379.52 973.411 L1351.44 988.387 L1383.22 989.635 L1377.41 1020.93 L1398.24 996.883 L1419.07 1020.93 L1413.27 989.635 L1445.04 988.387 L1416.96 973.411 L1435.78 947.779 L1406.59 960.403 L1398.24 929.683 Z\" fill=\"#3da44d\" fill-rule=\"evenodd\" fill-opacity=\"0.5\" stroke=\"#ffffff\" stroke-opacity=\"0.5\" stroke-width=\"3.2\"/>\n",
       "<path clip-path=\"url(#clip572)\" d=\"M1286.47 1031.86 L1278.12 1062.58 L1248.94 1049.96 L1267.75 1075.59 L1239.67 1090.56 L1271.45 1091.81 L1265.64 1123.11 L1286.47 1099.06 L1307.31 1123.11 L1301.5 1091.81 L1333.27 1090.56 L1305.19 1075.59 L1324.01 1049.96 L1294.83 1062.58 L1286.47 1031.86 Z\" fill=\"#3da44d\" fill-rule=\"evenodd\" fill-opacity=\"0.5\" stroke=\"#ffffff\" stroke-opacity=\"0.5\" stroke-width=\"3.2\"/>\n",
       "<path clip-path=\"url(#clip572)\" d=\"M2180.63 827.504 L2172.28 858.224 L2143.09 845.6 L2161.91 871.232 L2133.83 886.208 L2165.61 887.456 L2159.8 918.752 L2180.63 894.704 L2201.46 918.752 L2195.65 887.456 L2227.43 886.208 L2199.35 871.232 L2218.17 845.6 L2188.98 858.224 L2180.63 827.504 Z\" fill=\"#3da44d\" fill-rule=\"evenodd\" fill-opacity=\"0.5\" stroke=\"#ffffff\" stroke-opacity=\"0.5\" stroke-width=\"3.2\"/>\n",
       "<path clip-path=\"url(#clip572)\" d=\"M1398.24 623.148 L1389.89 653.868 L1360.71 641.244 L1379.52 666.876 L1351.44 681.852 L1383.22 683.1 L1377.41 714.396 L1398.24 690.348 L1419.07 714.396 L1413.27 683.1 L1445.04 681.852 L1416.96 666.876 L1435.78 641.244 L1406.59 653.868 L1398.24 623.148 Z\" fill=\"#3da44d\" fill-rule=\"evenodd\" fill-opacity=\"0.5\" stroke=\"#ffffff\" stroke-opacity=\"0.5\" stroke-width=\"3.2\"/>\n",
       "<path clip-path=\"url(#clip572)\" d=\"M1454.13 776.415 L1445.78 807.135 L1416.59 794.511 L1435.41 820.143 L1407.33 835.119 L1439.1 836.367 L1433.3 867.663 L1454.13 843.615 L1474.96 867.663 L1469.15 836.367 L1500.93 835.119 L1472.85 820.143 L1491.66 794.511 L1462.48 807.135 L1454.13 776.415 Z\" fill=\"#3da44d\" fill-rule=\"evenodd\" fill-opacity=\"0.5\" stroke=\"#ffffff\" stroke-opacity=\"0.5\" stroke-width=\"3.2\"/>\n",
       "<path clip-path=\"url(#clip572)\" d=\"M1230.59 827.504 L1222.24 858.224 L1193.05 845.6 L1211.87 871.232 L1183.79 886.208 L1215.56 887.456 L1209.76 918.752 L1230.59 894.704 L1251.42 918.752 L1245.61 887.456 L1277.39 886.208 L1249.31 871.232 L1268.12 845.6 L1238.94 858.224 L1230.59 827.504 Z\" fill=\"#3da44d\" fill-rule=\"evenodd\" fill-opacity=\"0.5\" stroke=\"#ffffff\" stroke-opacity=\"0.5\" stroke-width=\"3.2\"/>\n",
       "<path clip-path=\"url(#clip572)\" d=\"M1733.55 776.415 L1725.2 807.135 L1696.02 794.511 L1714.83 820.143 L1686.75 835.119 L1718.53 836.367 L1712.72 867.663 L1733.55 843.615 L1754.38 867.663 L1748.58 836.367 L1780.35 835.119 L1752.27 820.143 L1771.09 794.511 L1741.9 807.135 L1733.55 776.415 Z\" fill=\"#3da44d\" fill-rule=\"evenodd\" fill-opacity=\"0.5\" stroke=\"#ffffff\" stroke-opacity=\"0.5\" stroke-width=\"3.2\"/>\n",
       "<path clip-path=\"url(#clip572)\" d=\"M1621.78 776.415 L1613.43 807.135 L1584.25 794.511 L1603.06 820.143 L1574.98 835.119 L1606.76 836.367 L1600.95 867.663 L1621.78 843.615 L1642.61 867.663 L1636.81 836.367 L1668.58 835.119 L1640.5 820.143 L1659.32 794.511 L1630.13 807.135 L1621.78 776.415 Z\" fill=\"#3da44d\" fill-rule=\"evenodd\" fill-opacity=\"0.5\" stroke=\"#ffffff\" stroke-opacity=\"0.5\" stroke-width=\"3.2\"/>\n",
       "<path clip-path=\"url(#clip572)\" d=\"M1733.55 776.415 L1725.2 807.135 L1696.02 794.511 L1714.83 820.143 L1686.75 835.119 L1718.53 836.367 L1712.72 867.663 L1733.55 843.615 L1754.38 867.663 L1748.58 836.367 L1780.35 835.119 L1752.27 820.143 L1771.09 794.511 L1741.9 807.135 L1733.55 776.415 Z\" fill=\"#3da44d\" fill-rule=\"evenodd\" fill-opacity=\"0.5\" stroke=\"#ffffff\" stroke-opacity=\"0.5\" stroke-width=\"3.2\"/>\n",
       "<path clip-path=\"url(#clip572)\" d=\"M1118.82 980.772 L1110.47 1011.49 L1081.28 998.868 L1100.1 1024.5 L1072.02 1039.48 L1103.79 1040.72 L1097.99 1072.02 L1118.82 1047.97 L1139.65 1072.02 L1133.84 1040.72 L1165.62 1039.48 L1137.54 1024.5 L1156.35 998.868 L1127.17 1011.49 L1118.82 980.772 Z\" fill=\"#3da44d\" fill-rule=\"evenodd\" fill-opacity=\"0.5\" stroke=\"#ffffff\" stroke-opacity=\"0.5\" stroke-width=\"3.2\"/>\n",
       "<path clip-path=\"url(#clip572)\" d=\"M1677.67 725.326 L1669.32 756.046 L1640.13 743.422 L1658.95 769.054 L1630.87 784.03 L1662.64 785.278 L1656.84 816.574 L1677.67 792.526 L1698.5 816.574 L1692.69 785.278 L1724.47 784.03 L1696.39 769.054 L1715.2 743.422 L1686.02 756.046 L1677.67 725.326 Z\" fill=\"#3da44d\" fill-rule=\"evenodd\" fill-opacity=\"0.5\" stroke=\"#ffffff\" stroke-opacity=\"0.5\" stroke-width=\"3.2\"/>\n",
       "<path clip-path=\"url(#clip572)\" d=\"M1621.78 674.237 L1613.43 704.957 L1584.25 692.333 L1603.06 717.965 L1574.98 732.941 L1606.76 734.189 L1600.95 765.485 L1621.78 741.437 L1642.61 765.485 L1636.81 734.189 L1668.58 732.941 L1640.5 717.965 L1659.32 692.333 L1630.13 704.957 L1621.78 674.237 Z\" fill=\"#3da44d\" fill-rule=\"evenodd\" fill-opacity=\"0.5\" stroke=\"#ffffff\" stroke-opacity=\"0.5\" stroke-width=\"3.2\"/>\n",
       "<path clip-path=\"url(#clip572)\" d=\"M1621.78 827.504 L1613.43 858.224 L1584.25 845.6 L1603.06 871.232 L1574.98 886.208 L1606.76 887.456 L1600.95 918.752 L1621.78 894.704 L1642.61 918.752 L1636.81 887.456 L1668.58 886.208 L1640.5 871.232 L1659.32 845.6 L1630.13 858.224 L1621.78 827.504 Z\" fill=\"#3da44d\" fill-rule=\"evenodd\" fill-opacity=\"0.5\" stroke=\"#ffffff\" stroke-opacity=\"0.5\" stroke-width=\"3.2\"/>\n",
       "<path clip-path=\"url(#clip572)\" d=\"M1398.24 1082.95 L1389.89 1113.67 L1360.71 1101.05 L1379.52 1126.68 L1351.44 1141.65 L1383.22 1142.9 L1377.41 1174.2 L1398.24 1150.15 L1419.07 1174.2 L1413.27 1142.9 L1445.04 1141.65 L1416.96 1126.68 L1435.78 1101.05 L1406.59 1113.67 L1398.24 1082.95 Z\" fill=\"#3da44d\" fill-rule=\"evenodd\" fill-opacity=\"0.5\" stroke=\"#ffffff\" stroke-opacity=\"0.5\" stroke-width=\"3.2\"/>\n",
       "<path clip-path=\"url(#clip572)\" d=\"M1510.01 827.504 L1501.66 858.224 L1472.48 845.6 L1491.29 871.232 L1463.21 886.208 L1494.99 887.456 L1489.18 918.752 L1510.01 894.704 L1530.84 918.752 L1525.04 887.456 L1556.81 886.208 L1528.73 871.232 L1547.55 845.6 L1518.36 858.224 L1510.01 827.504 Z\" fill=\"#3da44d\" fill-rule=\"evenodd\" fill-opacity=\"0.5\" stroke=\"#ffffff\" stroke-opacity=\"0.5\" stroke-width=\"3.2\"/>\n",
       "<path clip-path=\"url(#clip572)\" d=\"M1342.36 623.148 L1334.01 653.868 L1304.82 641.244 L1323.64 666.876 L1295.56 681.852 L1327.33 683.1 L1321.53 714.396 L1342.36 690.348 L1363.19 714.396 L1357.38 683.1 L1389.16 681.852 L1361.08 666.876 L1379.89 641.244 L1350.71 653.868 L1342.36 623.148 Z\" fill=\"#3da44d\" fill-rule=\"evenodd\" fill-opacity=\"0.5\" stroke=\"#ffffff\" stroke-opacity=\"0.5\" stroke-width=\"3.2\"/>\n",
       "<path clip-path=\"url(#clip572)\" d=\"M1174.7 827.504 L1166.35 858.224 L1137.17 845.6 L1155.98 871.232 L1127.9 886.208 L1159.68 887.456 L1153.87 918.752 L1174.7 894.704 L1195.54 918.752 L1189.73 887.456 L1221.5 886.208 L1193.42 871.232 L1212.24 845.6 L1183.06 858.224 L1174.7 827.504 Z\" fill=\"#3da44d\" fill-rule=\"evenodd\" fill-opacity=\"0.5\" stroke=\"#ffffff\" stroke-opacity=\"0.5\" stroke-width=\"3.2\"/>\n",
       "<path clip-path=\"url(#clip570)\" d=\"\n",
       "M1814.81 374.156 L2281.67 374.156 L2281.67 166.796 L1814.81 166.796  Z\n",
       "  \" fill=\"#333333\" fill-rule=\"evenodd\" fill-opacity=\"1\"/>\n",
       "<polyline clip-path=\"url(#clip570)\" style=\"stroke:#ffffff; stroke-linecap:round; stroke-linejoin:round; stroke-width:4; stroke-opacity:1; fill:none\" points=\"\n",
       "  1814.81,374.156 2281.67,374.156 2281.67,166.796 1814.81,166.796 1814.81,374.156 \n",
       "  \"/>\n",
       "<line clip-path=\"url(#clip570)\" x1=\"1909.59\" y1=\"218.636\" x2=\"1909.59\" y2=\"193.036\" style=\"stroke:#009af9; stroke-width:1.70667; stroke-opacity:0.5\"/>\n",
       "<line clip-path=\"url(#clip570)\" x1=\"1909.59\" y1=\"218.636\" x2=\"1883.99\" y2=\"218.636\" style=\"stroke:#009af9; stroke-width:1.70667; stroke-opacity:0.5\"/>\n",
       "<line clip-path=\"url(#clip570)\" x1=\"1909.59\" y1=\"218.636\" x2=\"1909.59\" y2=\"244.236\" style=\"stroke:#009af9; stroke-width:1.70667; stroke-opacity:0.5\"/>\n",
       "<line clip-path=\"url(#clip570)\" x1=\"1909.59\" y1=\"218.636\" x2=\"1935.19\" y2=\"218.636\" style=\"stroke:#009af9; stroke-width:1.70667; stroke-opacity:0.5\"/>\n",
       "<path clip-path=\"url(#clip570)\" d=\"M2022.8 210.754 L2022.8 214.782 Q2020.99 213.856 2019.05 213.393 Q2017.11 212.93 2015.02 212.93 Q2011.85 212.93 2010.25 213.902 Q2008.68 214.874 2008.68 216.819 Q2008.68 218.3 2009.81 219.157 Q2010.95 219.99 2014.37 220.754 L2015.83 221.078 Q2020.37 222.05 2022.27 223.832 Q2024.19 225.592 2024.19 228.763 Q2024.19 232.374 2021.32 234.481 Q2018.47 236.587 2013.47 236.587 Q2011.39 236.587 2009.12 236.17 Q2006.87 235.777 2004.37 234.967 L2004.37 230.569 Q2006.73 231.795 2009.03 232.42 Q2011.32 233.022 2013.56 233.022 Q2016.57 233.022 2018.19 232.004 Q2019.81 230.962 2019.81 229.087 Q2019.81 227.351 2018.63 226.425 Q2017.48 225.499 2013.52 224.643 L2012.04 224.295 Q2008.08 223.462 2006.32 221.749 Q2004.56 220.013 2004.56 217.004 Q2004.56 213.346 2007.15 211.356 Q2009.74 209.365 2014.51 209.365 Q2016.87 209.365 2018.96 209.712 Q2021.04 210.059 2022.8 210.754 Z\" fill=\"#ffffff\" fill-rule=\"evenodd\" fill-opacity=\"1\" /><path clip-path=\"url(#clip570)\" d=\"M2053.15 221.888 L2053.15 223.971 L2033.56 223.971 Q2033.84 228.369 2036.2 230.684 Q2038.59 232.976 2042.82 232.976 Q2045.28 232.976 2047.57 232.374 Q2049.88 231.772 2052.15 230.569 L2052.15 234.596 Q2049.86 235.568 2047.45 236.078 Q2045.04 236.587 2042.57 236.587 Q2036.36 236.587 2032.73 232.976 Q2029.12 229.365 2029.12 223.207 Q2029.12 216.842 2032.55 213.115 Q2035.99 209.365 2041.83 209.365 Q2047.06 209.365 2050.09 212.745 Q2053.15 216.101 2053.15 221.888 M2048.89 220.638 Q2048.84 217.143 2046.92 215.059 Q2045.02 212.976 2041.87 212.976 Q2038.31 212.976 2036.16 214.99 Q2034.03 217.004 2033.7 220.661 L2048.89 220.638 Z\" fill=\"#ffffff\" fill-rule=\"evenodd\" fill-opacity=\"1\" /><path clip-path=\"url(#clip570)\" d=\"M2064.35 202.629 L2064.35 209.99 L2073.12 209.99 L2073.12 213.3 L2064.35 213.3 L2064.35 227.374 Q2064.35 230.545 2065.21 231.448 Q2066.09 232.351 2068.75 232.351 L2073.12 232.351 L2073.12 235.916 L2068.75 235.916 Q2063.82 235.916 2061.94 234.087 Q2060.07 232.235 2060.07 227.374 L2060.07 213.3 L2056.94 213.3 L2056.94 209.99 L2060.07 209.99 L2060.07 202.629 L2064.35 202.629 Z\" fill=\"#ffffff\" fill-rule=\"evenodd\" fill-opacity=\"1\" /><path clip-path=\"url(#clip570)\" d=\"M2088.77 212.976 Q2085.35 212.976 2083.35 215.661 Q2081.36 218.323 2081.36 222.976 Q2081.36 227.629 2083.33 230.314 Q2085.32 232.976 2088.77 232.976 Q2092.17 232.976 2094.17 230.291 Q2096.16 227.606 2096.16 222.976 Q2096.16 218.37 2094.17 215.684 Q2092.17 212.976 2088.77 212.976 M2088.77 209.365 Q2094.33 209.365 2097.5 212.976 Q2100.67 216.587 2100.67 222.976 Q2100.67 229.342 2097.5 232.976 Q2094.33 236.587 2088.77 236.587 Q2083.19 236.587 2080.02 232.976 Q2076.87 229.342 2076.87 222.976 Q2076.87 216.587 2080.02 212.976 Q2083.19 209.365 2088.77 209.365 Z\" fill=\"#ffffff\" fill-rule=\"evenodd\" fill-opacity=\"1\" /><path clip-path=\"url(#clip570)\" d=\"M2124.26 210.754 L2124.26 214.782 Q2122.45 213.856 2120.51 213.393 Q2118.56 212.93 2116.48 212.93 Q2113.31 212.93 2111.71 213.902 Q2110.14 214.874 2110.14 216.819 Q2110.14 218.3 2111.27 219.157 Q2112.41 219.99 2115.83 220.754 L2117.29 221.078 Q2121.83 222.05 2123.73 223.832 Q2125.65 225.592 2125.65 228.763 Q2125.65 232.374 2122.78 234.481 Q2119.93 236.587 2114.93 236.587 Q2112.85 236.587 2110.58 236.17 Q2108.33 235.777 2105.83 234.967 L2105.83 230.569 Q2108.19 231.795 2110.48 232.42 Q2112.78 233.022 2115.02 233.022 Q2118.03 233.022 2119.65 232.004 Q2121.27 230.962 2121.27 229.087 Q2121.27 227.351 2120.09 226.425 Q2118.93 225.499 2114.98 224.643 L2113.49 224.295 Q2109.54 223.462 2107.78 221.749 Q2106.02 220.013 2106.02 217.004 Q2106.02 213.346 2108.61 211.356 Q2111.2 209.365 2115.97 209.365 Q2118.33 209.365 2120.41 209.712 Q2122.5 210.059 2124.26 210.754 Z\" fill=\"#ffffff\" fill-rule=\"evenodd\" fill-opacity=\"1\" /><path clip-path=\"url(#clip570)\" d=\"M2144.21 222.883 Q2139.05 222.883 2137.06 224.064 Q2135.07 225.244 2135.07 228.092 Q2135.07 230.36 2136.55 231.703 Q2138.05 233.022 2140.62 233.022 Q2144.16 233.022 2146.29 230.522 Q2148.45 227.999 2148.45 223.832 L2148.45 222.883 L2144.21 222.883 M2152.71 221.124 L2152.71 235.916 L2148.45 235.916 L2148.45 231.981 Q2146.99 234.342 2144.81 235.476 Q2142.64 236.587 2139.49 236.587 Q2135.51 236.587 2133.15 234.365 Q2130.81 232.119 2130.81 228.369 Q2130.81 223.994 2133.73 221.772 Q2136.66 219.55 2142.47 219.55 L2148.45 219.55 L2148.45 219.133 Q2148.45 216.194 2146.5 214.596 Q2144.58 212.976 2141.09 212.976 Q2138.86 212.976 2136.76 213.508 Q2134.65 214.041 2132.71 215.106 L2132.71 211.17 Q2135.04 210.268 2137.24 209.828 Q2139.44 209.365 2141.53 209.365 Q2147.15 209.365 2149.93 212.282 Q2152.71 215.198 2152.71 221.124 Z\" fill=\"#ffffff\" fill-rule=\"evenodd\" fill-opacity=\"1\" /><path clip-path=\"url(#clip570)\" d=\"M1909.59 296.076 L1887.42 283.276 L1887.42 257.676 L1909.59 244.876 L1931.76 257.676 L1931.76 283.276 Z\" fill=\"#e26f46\" fill-rule=\"evenodd\" fill-opacity=\"0.5\" stroke=\"#ffffff\" stroke-opacity=\"0.5\" stroke-width=\"1.70667\"/>\n",
       "<path clip-path=\"url(#clip570)\" d=\"M2004.37 261.83 L2008.89 261.83 L2016.99 283.589 L2025.09 261.83 L2029.61 261.83 L2019.88 287.756 L2014.1 287.756 L2004.37 261.83 Z\" fill=\"#ffffff\" fill-rule=\"evenodd\" fill-opacity=\"1\" /><path clip-path=\"url(#clip570)\" d=\"M2057.66 273.728 L2057.66 275.811 L2038.08 275.811 Q2038.36 280.209 2040.72 282.524 Q2043.1 284.816 2047.34 284.816 Q2049.79 284.816 2052.08 284.214 Q2054.4 283.612 2056.67 282.409 L2056.67 286.436 Q2054.37 287.408 2051.97 287.918 Q2049.56 288.427 2047.08 288.427 Q2040.88 288.427 2037.24 284.816 Q2033.63 281.205 2033.63 275.047 Q2033.63 268.682 2037.06 264.955 Q2040.51 261.205 2046.34 261.205 Q2051.57 261.205 2054.61 264.585 Q2057.66 267.941 2057.66 273.728 M2053.4 272.478 Q2053.36 268.983 2051.43 266.899 Q2049.54 264.816 2046.39 264.816 Q2042.82 264.816 2040.67 266.83 Q2038.54 268.844 2038.22 272.501 L2053.4 272.478 Z\" fill=\"#ffffff\" fill-rule=\"evenodd\" fill-opacity=\"1\" /><path clip-path=\"url(#clip570)\" d=\"M2079.67 265.811 Q2078.96 265.395 2078.1 265.21 Q2077.27 265.001 2076.25 265.001 Q2072.64 265.001 2070.69 267.362 Q2068.77 269.7 2068.77 274.098 L2068.77 287.756 L2064.49 287.756 L2064.49 261.83 L2068.77 261.83 L2068.77 265.858 Q2070.11 263.497 2072.27 262.362 Q2074.42 261.205 2077.5 261.205 Q2077.94 261.205 2078.47 261.274 Q2079 261.321 2079.65 261.436 L2079.67 265.811 Z\" fill=\"#ffffff\" fill-rule=\"evenodd\" fill-opacity=\"1\" /><path clip-path=\"url(#clip570)\" d=\"M2100.67 262.594 L2100.67 266.622 Q2098.86 265.696 2096.92 265.233 Q2094.98 264.77 2092.89 264.77 Q2089.72 264.77 2088.12 265.742 Q2086.55 266.714 2086.55 268.659 Q2086.55 270.14 2087.68 270.997 Q2088.82 271.83 2092.24 272.594 L2093.7 272.918 Q2098.24 273.89 2100.14 275.672 Q2102.06 277.432 2102.06 280.603 Q2102.06 284.214 2099.19 286.321 Q2096.34 288.427 2091.34 288.427 Q2089.26 288.427 2086.99 288.01 Q2084.74 287.617 2082.24 286.807 L2082.24 282.409 Q2084.6 283.635 2086.9 284.26 Q2089.19 284.862 2091.43 284.862 Q2094.44 284.862 2096.06 283.844 Q2097.68 282.802 2097.68 280.927 Q2097.68 279.191 2096.5 278.265 Q2095.35 277.339 2091.39 276.483 L2089.91 276.135 Q2085.95 275.302 2084.19 273.589 Q2082.43 271.853 2082.43 268.844 Q2082.43 265.186 2085.02 263.196 Q2087.61 261.205 2092.38 261.205 Q2094.74 261.205 2096.83 261.552 Q2098.91 261.899 2100.67 262.594 Z\" fill=\"#ffffff\" fill-rule=\"evenodd\" fill-opacity=\"1\" /><path clip-path=\"url(#clip570)\" d=\"M2108.84 261.83 L2113.1 261.83 L2113.1 287.756 L2108.84 287.756 L2108.84 261.83 M2108.84 251.737 L2113.1 251.737 L2113.1 257.131 L2108.84 257.131 L2108.84 251.737 Z\" fill=\"#ffffff\" fill-rule=\"evenodd\" fill-opacity=\"1\" /><path clip-path=\"url(#clip570)\" d=\"M2140.67 262.825 L2140.67 266.807 Q2138.86 265.811 2137.04 265.325 Q2135.23 264.816 2133.38 264.816 Q2129.23 264.816 2126.94 267.455 Q2124.65 270.071 2124.65 274.816 Q2124.65 279.561 2126.94 282.2 Q2129.23 284.816 2133.38 284.816 Q2135.23 284.816 2137.04 284.33 Q2138.86 283.821 2140.67 282.825 L2140.67 286.76 Q2138.89 287.594 2136.97 288.01 Q2135.07 288.427 2132.91 288.427 Q2127.06 288.427 2123.61 284.746 Q2120.16 281.066 2120.16 274.816 Q2120.16 268.473 2123.63 264.839 Q2127.13 261.205 2133.19 261.205 Q2135.16 261.205 2137.04 261.622 Q2138.91 262.015 2140.67 262.825 Z\" fill=\"#ffffff\" fill-rule=\"evenodd\" fill-opacity=\"1\" /><path clip-path=\"url(#clip570)\" d=\"M2158.12 264.816 Q2154.7 264.816 2152.71 267.501 Q2150.72 270.163 2150.72 274.816 Q2150.72 279.469 2152.68 282.154 Q2154.67 284.816 2158.12 284.816 Q2161.53 284.816 2163.52 282.131 Q2165.51 279.446 2165.51 274.816 Q2165.51 270.21 2163.52 267.524 Q2161.53 264.816 2158.12 264.816 M2158.12 261.205 Q2163.68 261.205 2166.85 264.816 Q2170.02 268.427 2170.02 274.816 Q2170.02 281.182 2166.85 284.816 Q2163.68 288.427 2158.12 288.427 Q2152.54 288.427 2149.37 284.816 Q2146.22 281.182 2146.22 274.816 Q2146.22 268.427 2149.37 264.816 Q2152.54 261.205 2158.12 261.205 Z\" fill=\"#ffffff\" fill-rule=\"evenodd\" fill-opacity=\"1\" /><path clip-path=\"url(#clip570)\" d=\"M2177.08 251.737 L2181.34 251.737 L2181.34 287.756 L2177.08 287.756 L2177.08 251.737 Z\" fill=\"#ffffff\" fill-rule=\"evenodd\" fill-opacity=\"1\" /><path clip-path=\"url(#clip570)\" d=\"M2200.3 264.816 Q2196.87 264.816 2194.88 267.501 Q2192.89 270.163 2192.89 274.816 Q2192.89 279.469 2194.86 282.154 Q2196.85 284.816 2200.3 284.816 Q2203.7 284.816 2205.69 282.131 Q2207.68 279.446 2207.68 274.816 Q2207.68 270.21 2205.69 267.524 Q2203.7 264.816 2200.3 264.816 M2200.3 261.205 Q2205.85 261.205 2209.03 264.816 Q2212.2 268.427 2212.2 274.816 Q2212.2 281.182 2209.03 284.816 Q2205.85 288.427 2200.3 288.427 Q2194.72 288.427 2191.55 284.816 Q2188.4 281.182 2188.4 274.816 Q2188.4 268.427 2191.55 264.816 Q2194.72 261.205 2200.3 261.205 Z\" fill=\"#ffffff\" fill-rule=\"evenodd\" fill-opacity=\"1\" /><path clip-path=\"url(#clip570)\" d=\"M2234.28 265.811 Q2233.56 265.395 2232.71 265.21 Q2231.87 265.001 2230.85 265.001 Q2227.24 265.001 2225.3 267.362 Q2223.38 269.7 2223.38 274.098 L2223.38 287.756 L2219.09 287.756 L2219.09 261.83 L2223.38 261.83 L2223.38 265.858 Q2224.72 263.497 2226.87 262.362 Q2229.03 261.205 2232.1 261.205 Q2232.54 261.205 2233.08 261.274 Q2233.61 261.321 2234.26 261.436 L2234.28 265.811 Z\" fill=\"#ffffff\" fill-rule=\"evenodd\" fill-opacity=\"1\" /><path clip-path=\"url(#clip570)\" d=\"M1909.59 296.716 L1905.14 313.1 L1889.57 306.367 L1899.61 320.037 L1884.63 328.025 L1901.58 328.69 L1898.48 345.381 L1909.59 332.556 L1920.7 345.381 L1917.61 328.69 L1934.55 328.025 L1919.58 320.037 L1929.61 306.367 L1914.05 313.1 L1909.59 296.716 Z\" fill=\"#3da44d\" fill-rule=\"evenodd\" fill-opacity=\"0.5\" stroke=\"#ffffff\" stroke-opacity=\"0.5\" stroke-width=\"1.70667\"/>\n",
       "<path clip-path=\"url(#clip570)\" d=\"M2004.37 313.67 L2008.89 313.67 L2016.99 335.429 L2025.09 313.67 L2029.61 313.67 L2019.88 339.596 L2014.1 339.596 L2004.37 313.67 Z\" fill=\"#ffffff\" fill-rule=\"evenodd\" fill-opacity=\"1\" /><path clip-path=\"url(#clip570)\" d=\"M2035.48 313.67 L2039.74 313.67 L2039.74 339.596 L2035.48 339.596 L2035.48 313.67 M2035.48 303.577 L2039.74 303.577 L2039.74 308.971 L2035.48 308.971 L2035.48 303.577 Z\" fill=\"#ffffff\" fill-rule=\"evenodd\" fill-opacity=\"1\" /><path clip-path=\"url(#clip570)\" d=\"M2063.68 317.651 Q2062.96 317.235 2062.11 317.05 Q2061.27 316.841 2060.25 316.841 Q2056.64 316.841 2054.7 319.202 Q2052.78 321.54 2052.78 325.938 L2052.78 339.596 L2048.49 339.596 L2048.49 313.67 L2052.78 313.67 L2052.78 317.698 Q2054.12 315.337 2056.27 314.202 Q2058.42 313.045 2061.5 313.045 Q2061.94 313.045 2062.48 313.114 Q2063.01 313.161 2063.66 313.276 L2063.68 317.651 Z\" fill=\"#ffffff\" fill-rule=\"evenodd\" fill-opacity=\"1\" /><path clip-path=\"url(#clip570)\" d=\"M2084.37 326.332 Q2084.37 321.702 2082.45 319.156 Q2080.55 316.61 2077.1 316.61 Q2073.68 316.61 2071.76 319.156 Q2069.86 321.702 2069.86 326.332 Q2069.86 330.938 2071.76 333.485 Q2073.68 336.031 2077.1 336.031 Q2080.55 336.031 2082.45 333.485 Q2084.37 330.938 2084.37 326.332 M2088.63 336.378 Q2088.63 342.998 2085.69 346.216 Q2082.75 349.457 2076.69 349.457 Q2074.44 349.457 2072.45 349.11 Q2070.46 348.785 2068.59 348.091 L2068.59 343.948 Q2070.46 344.966 2072.29 345.452 Q2074.12 345.938 2076.02 345.938 Q2080.21 345.938 2082.29 343.739 Q2084.37 341.563 2084.37 337.142 L2084.37 335.036 Q2083.05 337.327 2080.99 338.461 Q2078.93 339.596 2076.06 339.596 Q2071.29 339.596 2068.38 335.961 Q2065.46 332.327 2065.46 326.332 Q2065.46 320.313 2068.38 316.679 Q2071.29 313.045 2076.06 313.045 Q2078.93 313.045 2080.99 314.179 Q2083.05 315.313 2084.37 317.605 L2084.37 313.67 L2088.63 313.67 L2088.63 336.378 Z\" fill=\"#ffffff\" fill-rule=\"evenodd\" fill-opacity=\"1\" /><path clip-path=\"url(#clip570)\" d=\"M2097.41 313.67 L2101.67 313.67 L2101.67 339.596 L2097.41 339.596 L2097.41 313.67 M2097.41 303.577 L2101.67 303.577 L2101.67 308.971 L2097.41 308.971 L2097.41 303.577 Z\" fill=\"#ffffff\" fill-rule=\"evenodd\" fill-opacity=\"1\" /><path clip-path=\"url(#clip570)\" d=\"M2132.13 323.948 L2132.13 339.596 L2127.87 339.596 L2127.87 324.087 Q2127.87 320.406 2126.43 318.577 Q2125 316.749 2122.13 316.749 Q2118.68 316.749 2116.69 318.948 Q2114.7 321.147 2114.7 324.943 L2114.7 339.596 L2110.41 339.596 L2110.41 313.67 L2114.7 313.67 L2114.7 317.698 Q2116.23 315.36 2118.29 314.202 Q2120.37 313.045 2123.08 313.045 Q2127.54 313.045 2129.84 315.823 Q2132.13 318.577 2132.13 323.948 Z\" fill=\"#ffffff\" fill-rule=\"evenodd\" fill-opacity=\"1\" /><path clip-path=\"url(#clip570)\" d=\"M2140.62 313.67 L2144.88 313.67 L2144.88 339.596 L2140.62 339.596 L2140.62 313.67 M2140.62 303.577 L2144.88 303.577 L2144.88 308.971 L2140.62 308.971 L2140.62 303.577 Z\" fill=\"#ffffff\" fill-rule=\"evenodd\" fill-opacity=\"1\" /><path clip-path=\"url(#clip570)\" d=\"M2172.45 314.665 L2172.45 318.647 Q2170.65 317.651 2168.82 317.165 Q2167.01 316.656 2165.16 316.656 Q2161.02 316.656 2158.72 319.295 Q2156.43 321.911 2156.43 326.656 Q2156.43 331.401 2158.72 334.04 Q2161.02 336.656 2165.16 336.656 Q2167.01 336.656 2168.82 336.17 Q2170.65 335.661 2172.45 334.665 L2172.45 338.6 Q2170.67 339.434 2168.75 339.85 Q2166.85 340.267 2164.7 340.267 Q2158.84 340.267 2155.39 336.586 Q2151.94 332.906 2151.94 326.656 Q2151.94 320.313 2155.41 316.679 Q2158.91 313.045 2164.97 313.045 Q2166.94 313.045 2168.82 313.462 Q2170.69 313.855 2172.45 314.665 Z\" fill=\"#ffffff\" fill-rule=\"evenodd\" fill-opacity=\"1\" /><path clip-path=\"url(#clip570)\" d=\"M2191.64 326.563 Q2186.48 326.563 2184.49 327.744 Q2182.5 328.924 2182.5 331.772 Q2182.5 334.04 2183.98 335.383 Q2185.48 336.702 2188.05 336.702 Q2191.6 336.702 2193.72 334.202 Q2195.88 331.679 2195.88 327.512 L2195.88 326.563 L2191.64 326.563 M2200.14 324.804 L2200.14 339.596 L2195.88 339.596 L2195.88 335.661 Q2194.42 338.022 2192.24 339.156 Q2190.07 340.267 2186.92 340.267 Q2182.94 340.267 2180.58 338.045 Q2178.24 335.799 2178.24 332.049 Q2178.24 327.674 2181.16 325.452 Q2184.1 323.23 2189.91 323.23 L2195.88 323.23 L2195.88 322.813 Q2195.88 319.874 2193.93 318.276 Q2192.01 316.656 2188.52 316.656 Q2186.29 316.656 2184.19 317.188 Q2182.08 317.721 2180.14 318.786 L2180.14 314.85 Q2182.47 313.948 2184.67 313.508 Q2186.87 313.045 2188.96 313.045 Q2194.58 313.045 2197.36 315.962 Q2200.14 318.878 2200.14 324.804 Z\" fill=\"#ffffff\" fill-rule=\"evenodd\" fill-opacity=\"1\" /></svg>\n"
      ]
     },
     "execution_count": 1,
     "metadata": {},
     "output_type": "execute_result"
    }
   ],
   "source": [
    "# load a dataset\n",
    "using RDatasets\n",
    "iris = dataset(\"datasets\", \"iris\");\n",
    "\n",
    "# load the StatsPlots recipes (for DataFrames) available via:\n",
    "using StatsPlots\n",
    "\n",
    "# Scatter plot with some custom settings\n",
    "@df iris scatter(\n",
    "    :SepalLength,\n",
    "    :SepalWidth,\n",
    "    group = :Species,\n",
    "    title = \"My awesome plot\",\n",
    "    xlabel = \"Length\",\n",
    "    ylabel = \"Width\",\n",
    "    m = (0.5, [:cross :hex :star7], 12),\n",
    "    bg = RGB(0.2, 0.2, 0.2)\n",
    ")"
   ]
  },
  {
   "cell_type": "markdown",
   "metadata": {
    "id": "gBI_7POgMUSe"
   },
   "source": [
    "[Here](https://www.math.purdue.edu/~allen450/Plotting-Tutorial.html) you can find many more plotting examples using Julia. Since the language is compatible with the PyPlot library, we also recommend taking a look at [Python Graph Gallery.](https://www.python-graph-gallery.com/)"
   ]
  },
  {
   "cell_type": "markdown",
   "metadata": {
    "id": "w61CPK3MsNx3"
   },
   "source": [
    "# Gen\n",
    "\n",
    "Gen is Julia's open-source framework for generative modeling and probabilistic inference. In the following few cells we are going to go through some of the most basic blocks of creating ingerence models in Julia."
   ]
  },
  {
   "cell_type": "markdown",
   "metadata": {
    "id": "PfdKLqw-fiwH"
   },
   "source": [
    "Generative functions written are prefixed with the `@gen` keyword.\n",
    "\n",
    "The function represents the data-generating process we are modeling. Conceptually, every time we run the function, it should generate a new “synthetic dataset” in line with our assumptions. Along the way, it will make random choices; each random choice it makes can be thought of as adding a random variable to a probabilistic model."
   ]
  },
  {
   "cell_type": "code",
   "execution_count": 2,
   "metadata": {
    "colab": {
     "base_uri": "https://localhost:8080/"
    },
    "id": "PedxEzNVfi-o",
    "outputId": "2d81635d-16b0-426f-b090-68eec577fb74"
   },
   "outputs": [
    {
     "name": "stderr",
     "output_type": "stream",
     "text": [
      "┌ Info: Precompiling Gen [ea4f424c-a589-11e8-07c0-fd5c91b9da4a]\n",
      "└ @ Base loading.jl:1664\n",
      "WARNING: method definition for process! at /home/liviu/.julia/packages/Gen/Dne3u/src/modeling_library/switch/update.jl:85 declares type variable DV but does not use it.\n",
      "WARNING: method definition for #importance_resampling#354 at /home/liviu/.julia/packages/Gen/Dne3u/src/inference/importance.jl:70 declares type variable W but does not use it.\n",
      "WARNING: method definition for #importance_resampling#354 at /home/liviu/.julia/packages/Gen/Dne3u/src/inference/importance.jl:70 declares type variable V but does not use it.\n"
     ]
    },
    {
     "data": {
      "text/plain": [
       "DynamicDSLFunction{Any}(Dict{Symbol, Any}(), Dict{Symbol, Any}(), Type[Any], false, Union{Nothing, Some{Any}}[nothing], var\"##function_name_here#321\", Bool[0], false)"
      ]
     },
     "execution_count": 2,
     "metadata": {},
     "output_type": "execute_result"
    }
   ],
   "source": [
    "using Gen\n",
    "\n",
    "@gen function function_name_here(input_arguments)\n",
    "    # Function body...\n",
    "    return nothing\n",
    "end"
   ]
  },
  {
   "cell_type": "markdown",
   "metadata": {
    "id": "nJdz-tHqfjSI"
   },
   "source": [
    "Withing these functions you can use most of Julia's functions and functionalities. However, you'll have to keep an eye on your `variables`. That is because only specific variables enter the generative process, which are called `random variables`.\n",
    "\n",
    "Below you may find a random variable which is instantiated using the normal distribution parametrized with mean 0 and standard deviation 1:\n",
    "\n",
    "\n",
    "\n",
    "```\n",
    "my_variable = [:my_variable_address] ~ normal(0, 1)\n",
    "```\n",
    "\n",
    "\n"
   ]
  },
  {
   "cell_type": "markdown",
   "metadata": {
    "id": "UN5oPJJIj0wC"
   },
   "source": [
    "Every random choice must be given an address, which can be an arbitrary value—but we often use a symbol. (`:my_variable_address` is a symbol in the Julia language.) Think of the address as the name of a particular random choice, which is distinct from the name of the variable.\n",
    "\n",
    "The following cell manipulates a single variable, x, but may make up to two random choices: `:initial_x` and `:addition_to_x`:\n",
    "\n",
    "\n",
    "\n",
    "```\n",
    "x = {:initial_x} ~ normal(0, 1)\n",
    "if x < 0\n",
    "    x = x + ({:addition_to_x} ~ normal(2, 1))\n",
    "end\n",
    "```\n",
    "\n"
   ]
  },
  {
   "cell_type": "markdown",
   "metadata": {
    "id": "-oBhZpnIj1FQ"
   },
   "source": [
    "The generative function below represents a probabilistic model of a linear relationship in the xOy plane. Given a set of `x` coordinates, it randomly chooses a line in the plane and generates corresponding  coordinates so that each `(x,y)` is near the line. We might think of this function as modeling house prices as a function of square footage, or the measured volume of a gas as a function of its measured temperature."
   ]
  },
  {
   "cell_type": "code",
   "execution_count": 3,
   "metadata": {
    "id": "zYIKKVjAj1SF"
   },
   "outputs": [],
   "source": [
    "@gen function line_model(xs::Vector{Float64})\n",
    "    # We begin by sampling a slope and intercept for the line.\n",
    "    # Before we have seen the data, we don't know the values of\n",
    "    # these parameters, so we treat them as random choices. The\n",
    "    # distributions they are drawn from represent our prior beliefs\n",
    "    # about the parameters: in this case, that neither the slope nor the\n",
    "    # intercept will be more than a couple points away from 0.\n",
    "    slope = ({:slope} ~ normal(0, 1))\n",
    "    intercept = ({:intercept} ~ normal(0, 2))\n",
    "    \n",
    "    # We define a function to compute y for a given x\n",
    "    function y(x)\n",
    "        return slope * x + intercept\n",
    "    end\n",
    "\n",
    "    # Given the slope and intercept, we can sample y coordinates\n",
    "    # for each of the x coordinates in our input vector.\n",
    "    for (i, x) in enumerate(xs)\n",
    "        # Note that we name each random choice in this loop\n",
    "        # slightly differently: the first time through,\n",
    "        # the name (:y, 1) will be used, then (:y, 2) for\n",
    "        # the second point, and so on.\n",
    "        ({(:y, i)} ~ normal(y(x), 0.1))\n",
    "    end\n",
    "\n",
    "    # Most of the time, we don't care about the return\n",
    "    # value of a model, only the random choices it makes.\n",
    "    # It can sometimems be useful to return something\n",
    "    # meaningful, however; here, we return the function `y`.\n",
    "    return y\n",
    "end;"
   ]
  },
  {
   "cell_type": "markdown",
   "metadata": {
    "id": "-_1k7stJj1fT"
   },
   "source": [
    "Here we create a vector of x-coordinates, which are the argument for our generative function.\n",
    "\n",
    "Given this vector, the generative function samples a random choice representing the slope of a line from a normal distribution with mean 0 and standard deviation 1, and a random choice representing the intercept of a line from a normal distribution with mean 0 and standard deviation 2. In Bayesian statistics terms, these distributions are the prior distributions of the slope and intercept respectively. Then, the function samples values for the y-coordinates corresponding to each of the provided x-coordinates.\n",
    "\n",
    "This generative function returns a function y encoding the slope and intercept. We can run the model like we run a regular Julia function:"
   ]
  },
  {
   "cell_type": "code",
   "execution_count": 4,
   "metadata": {
    "colab": {
     "base_uri": "https://localhost:8080/"
    },
    "id": "3x3dOg9fj1vt",
    "outputId": "22a65e7f-03ba-4af7-850d-f0e7d685805e"
   },
   "outputs": [
    {
     "name": "stdout",
     "output_type": "stream",
     "text": [
      "Gen.DynamicDSLTrace{DynamicDSLFunction{Any}}(DynamicDSLFunction{Any}(Dict{Symbol, Any}(), Dict{Symbol, Any}(), Type[Vector{Float64}], false, Union{Nothing, Some{Any}}[nothing], var\"##line_model#322\", Bool[0], false), Trie{Any, Gen.ChoiceOrCallRecord}(Dict{Any, Gen.ChoiceOrCallRecord}((:y, 11) => Gen.ChoiceOrCallRecord{Float64}(9.981666653142804, 1.3739185534059124, NaN, true), (:y, 3) => Gen.ChoiceOrCallRecord{Float64}(-5.286648605387364, 0.5201880785033839, NaN, true), :intercept => Gen.ChoiceOrCallRecord{Float64}(0.5263329298974544, -1.6467140079014229, NaN, true), (:y, 1) => Gen.ChoiceOrCallRecord{Float64}(-8.681033446187927, -2.0463484973746637, NaN, true), (:y, 8) => Gen.ChoiceOrCallRecord{Float64}(4.270957025192677, 1.2908143837681159, NaN, true), (:y, 7) => Gen.ChoiceOrCallRecord{Float64}(2.674341313930397, -1.8460139504223494, NaN, true), (:y, 5) => Gen.ChoiceOrCallRecord{Float64}(-1.3219227080048628, 1.2796748981413835, NaN, true), (:y, 6) => Gen.ChoiceOrCallRecord{Float64}(0.3839036472785968, 0.36934153242325274, NaN, true), (:y, 10) => Gen.ChoiceOrCallRecord{Float64}(8.127760585890623, 1.3498416392656318, NaN, true), :slope => Gen.ChoiceOrCallRecord{Float64}(1.8938564408882272, -2.7122846425515843, NaN, true), (:y, 4) => Gen.ChoiceOrCallRecord{Float64}(-3.254828197966777, 1.3815002858230563, NaN, true), (:y, 2) => Gen.ChoiceOrCallRecord{Float64}(-7.151454788172638, 0.8597480731604832, NaN, true), (:y, 9) => Gen.ChoiceOrCallRecord{Float64}(6.226179213322159, 1.3669441950582022, NaN, true)), Dict{Any, Trie{Any, Gen.ChoiceOrCallRecord}}()), false, 1.5406105412994024, 0.0, ([-5.0, -4.0, -3.0, -2.0, -1.0, 0.0, 1.0, 2.0, 3.0, 4.0, 5.0],), var\"#y#3\"{Float64, Float64}(0.5263329298974544, 1.8938564408882272))\n"
     ]
    }
   ],
   "source": [
    "xs = [-5., -4., -3., -2., -1., 0., 1., 2., 3., 4., 5.];\n",
    "\n",
    "y = line_model(xs)\n",
    "\n",
    "trace = Gen.simulate(line_model, (xs,));\n",
    "\n",
    "println(trace)"
   ]
  },
  {
   "cell_type": "markdown",
   "metadata": {
    "id": "zqcOPGh5luBa"
   },
   "source": [
    "In order to understand the probabilistic behavior of a generative function, it is helpful to be able to visualize its traces. Below, we define a function that uses PyPlot to render a trace of the generative function above. The rendering shows the x-y data points and the line that is represented by the slope and intercept choices."
   ]
  },
  {
   "cell_type": "code",
   "execution_count": 5,
   "metadata": {
    "id": "OVZ8a_uvltqy"
   },
   "outputs": [],
   "source": [
    "function render_trace(trace; show_data=true)\n",
    "    \n",
    "    # Pull out xs from the trace\n",
    "    xs, = get_args(trace)\n",
    "    \n",
    "    xmin = minimum(xs)\n",
    "    xmax = maximum(xs)\n",
    "\n",
    "    # Pull out the return value, useful for plotting\n",
    "    y = get_retval(trace)\n",
    "    \n",
    "    # Draw the line\n",
    "    test_xs = collect(range(-5, stop=5, length=1000))\n",
    "    fig = plot(test_xs, map(y, test_xs), color=\"black\", alpha=0.5, label=nothing,\n",
    "                xlim=(xmin, xmax), ylim=(xmin, xmax))\n",
    "\n",
    "    if show_data\n",
    "        ys = [trace[(:y, i)] for i=1:length(xs)]\n",
    "        \n",
    "        # Plot the data set\n",
    "        scatter!(xs, ys, c=\"black\", label=nothing)\n",
    "    end\n",
    "    \n",
    "    return fig\n",
    "end;"
   ]
  },
  {
   "cell_type": "markdown",
   "metadata": {
    "id": "dnqhq5cplulH"
   },
   "source": [
    "And call the function."
   ]
  },
  {
   "cell_type": "code",
   "execution_count": 6,
   "metadata": {
    "id": "x0rI2joXlvS7"
   },
   "outputs": [
    {
     "data": {
      "image/svg+xml": [
       "<?xml version=\"1.0\" encoding=\"utf-8\"?>\n",
       "<svg xmlns=\"http://www.w3.org/2000/svg\" xmlns:xlink=\"http://www.w3.org/1999/xlink\" width=\"600\" height=\"400\" viewBox=\"0 0 2400 1600\">\n",
       "<defs>\n",
       "  <clipPath id=\"clip610\">\n",
       "    <rect x=\"0\" y=\"0\" width=\"2400\" height=\"1600\"/>\n",
       "  </clipPath>\n",
       "</defs>\n",
       "<path clip-path=\"url(#clip610)\" d=\"\n",
       "M0 1600 L2400 1600 L2400 0 L0 0  Z\n",
       "  \" fill=\"#ffffff\" fill-rule=\"evenodd\" fill-opacity=\"1\"/>\n",
       "<defs>\n",
       "  <clipPath id=\"clip611\">\n",
       "    <rect x=\"480\" y=\"0\" width=\"1681\" height=\"1600\"/>\n",
       "  </clipPath>\n",
       "</defs>\n",
       "<path clip-path=\"url(#clip610)\" d=\"\n",
       "M193.936 1486.45 L2352.76 1486.45 L2352.76 47.2441 L193.936 47.2441  Z\n",
       "  \" fill=\"#ffffff\" fill-rule=\"evenodd\" fill-opacity=\"1\"/>\n",
       "<defs>\n",
       "  <clipPath id=\"clip612\">\n",
       "    <rect x=\"193\" y=\"47\" width=\"2160\" height=\"1440\"/>\n",
       "  </clipPath>\n",
       "</defs>\n",
       "<polyline clip-path=\"url(#clip612)\" style=\"stroke:#000000; stroke-linecap:round; stroke-linejoin:round; stroke-width:2; stroke-opacity:0.1; fill:none\" points=\"\n",
       "  193.936,1486.45 193.936,47.2441 \n",
       "  \"/>\n",
       "<polyline clip-path=\"url(#clip612)\" style=\"stroke:#000000; stroke-linecap:round; stroke-linejoin:round; stroke-width:2; stroke-opacity:0.1; fill:none\" points=\"\n",
       "  733.641,1486.45 733.641,47.2441 \n",
       "  \"/>\n",
       "<polyline clip-path=\"url(#clip612)\" style=\"stroke:#000000; stroke-linecap:round; stroke-linejoin:round; stroke-width:2; stroke-opacity:0.1; fill:none\" points=\"\n",
       "  1273.35,1486.45 1273.35,47.2441 \n",
       "  \"/>\n",
       "<polyline clip-path=\"url(#clip612)\" style=\"stroke:#000000; stroke-linecap:round; stroke-linejoin:round; stroke-width:2; stroke-opacity:0.1; fill:none\" points=\"\n",
       "  1813.05,1486.45 1813.05,47.2441 \n",
       "  \"/>\n",
       "<polyline clip-path=\"url(#clip612)\" style=\"stroke:#000000; stroke-linecap:round; stroke-linejoin:round; stroke-width:2; stroke-opacity:0.1; fill:none\" points=\"\n",
       "  2352.76,1486.45 2352.76,47.2441 \n",
       "  \"/>\n",
       "<polyline clip-path=\"url(#clip610)\" style=\"stroke:#000000; stroke-linecap:round; stroke-linejoin:round; stroke-width:4; stroke-opacity:1; fill:none\" points=\"\n",
       "  193.936,1486.45 2352.76,1486.45 \n",
       "  \"/>\n",
       "<polyline clip-path=\"url(#clip610)\" style=\"stroke:#000000; stroke-linecap:round; stroke-linejoin:round; stroke-width:4; stroke-opacity:1; fill:none\" points=\"\n",
       "  193.936,1486.45 193.936,1467.55 \n",
       "  \"/>\n",
       "<polyline clip-path=\"url(#clip610)\" style=\"stroke:#000000; stroke-linecap:round; stroke-linejoin:round; stroke-width:4; stroke-opacity:1; fill:none\" points=\"\n",
       "  733.641,1486.45 733.641,1467.55 \n",
       "  \"/>\n",
       "<polyline clip-path=\"url(#clip610)\" style=\"stroke:#000000; stroke-linecap:round; stroke-linejoin:round; stroke-width:4; stroke-opacity:1; fill:none\" points=\"\n",
       "  1273.35,1486.45 1273.35,1467.55 \n",
       "  \"/>\n",
       "<polyline clip-path=\"url(#clip610)\" style=\"stroke:#000000; stroke-linecap:round; stroke-linejoin:round; stroke-width:4; stroke-opacity:1; fill:none\" points=\"\n",
       "  1813.05,1486.45 1813.05,1467.55 \n",
       "  \"/>\n",
       "<polyline clip-path=\"url(#clip610)\" style=\"stroke:#000000; stroke-linecap:round; stroke-linejoin:round; stroke-width:4; stroke-opacity:1; fill:none\" points=\"\n",
       "  2352.76,1486.45 2352.76,1467.55 \n",
       "  \"/>\n",
       "<path clip-path=\"url(#clip610)\" d=\"M140.464 1532.02 L170.14 1532.02 L170.14 1535.95 L140.464 1535.95 L140.464 1532.02 Z\" fill=\"#000000\" fill-rule=\"evenodd\" fill-opacity=\"1\" /><path clip-path=\"url(#clip610)\" d=\"M180.279 1514.29 L198.635 1514.29 L198.635 1518.22 L184.561 1518.22 L184.561 1526.7 Q185.58 1526.35 186.598 1526.19 Q187.617 1526 188.635 1526 Q194.422 1526 197.802 1529.17 Q201.181 1532.34 201.181 1537.76 Q201.181 1543.34 197.709 1546.44 Q194.237 1549.52 187.918 1549.52 Q185.742 1549.52 183.473 1549.15 Q181.228 1548.78 178.82 1548.04 L178.82 1543.34 Q180.904 1544.47 183.126 1545.03 Q185.348 1545.58 187.825 1545.58 Q191.83 1545.58 194.167 1543.48 Q196.505 1541.37 196.505 1537.76 Q196.505 1534.15 194.167 1532.04 Q191.83 1529.94 187.825 1529.94 Q185.95 1529.94 184.075 1530.35 Q182.223 1530.77 180.279 1531.65 L180.279 1514.29 Z\" fill=\"#000000\" fill-rule=\"evenodd\" fill-opacity=\"1\" /><path clip-path=\"url(#clip610)\" d=\"M210.394 1542.97 L215.278 1542.97 L215.278 1548.85 L210.394 1548.85 L210.394 1542.97 Z\" fill=\"#000000\" fill-rule=\"evenodd\" fill-opacity=\"1\" /><path clip-path=\"url(#clip610)\" d=\"M235.464 1517.37 Q231.852 1517.37 230.024 1520.93 Q228.218 1524.47 228.218 1531.6 Q228.218 1538.71 230.024 1542.27 Q231.852 1545.82 235.464 1545.82 Q239.098 1545.82 240.903 1542.27 Q242.732 1538.71 242.732 1531.6 Q242.732 1524.47 240.903 1520.93 Q239.098 1517.37 235.464 1517.37 M235.464 1513.66 Q241.274 1513.66 244.329 1518.27 Q247.408 1522.85 247.408 1531.6 Q247.408 1540.33 244.329 1544.94 Q241.274 1549.52 235.464 1549.52 Q229.653 1549.52 226.575 1544.94 Q223.519 1540.33 223.519 1531.6 Q223.519 1522.85 226.575 1518.27 Q229.653 1513.66 235.464 1513.66 Z\" fill=\"#000000\" fill-rule=\"evenodd\" fill-opacity=\"1\" /><path clip-path=\"url(#clip610)\" d=\"M680.667 1532.02 L710.342 1532.02 L710.342 1535.95 L680.667 1535.95 L680.667 1532.02 Z\" fill=\"#000000\" fill-rule=\"evenodd\" fill-opacity=\"1\" /><path clip-path=\"url(#clip610)\" d=\"M724.463 1544.91 L740.782 1544.91 L740.782 1548.85 L718.838 1548.85 L718.838 1544.91 Q721.5 1542.16 726.083 1537.53 Q730.69 1532.88 731.87 1531.53 Q734.116 1529.01 734.995 1527.27 Q735.898 1525.51 735.898 1523.82 Q735.898 1521.07 733.953 1519.33 Q732.032 1517.6 728.93 1517.6 Q726.731 1517.6 724.278 1518.36 Q721.847 1519.13 719.069 1520.68 L719.069 1515.95 Q721.893 1514.82 724.347 1514.24 Q726.801 1513.66 728.838 1513.66 Q734.208 1513.66 737.403 1516.35 Q740.597 1519.03 740.597 1523.52 Q740.597 1525.65 739.787 1527.57 Q739 1529.47 736.893 1532.07 Q736.315 1532.74 733.213 1535.95 Q730.111 1539.15 724.463 1544.91 Z\" fill=\"#000000\" fill-rule=\"evenodd\" fill-opacity=\"1\" /><path clip-path=\"url(#clip610)\" d=\"M750.597 1542.97 L755.481 1542.97 L755.481 1548.85 L750.597 1548.85 L750.597 1542.97 Z\" fill=\"#000000\" fill-rule=\"evenodd\" fill-opacity=\"1\" /><path clip-path=\"url(#clip610)\" d=\"M765.713 1514.29 L784.069 1514.29 L784.069 1518.22 L769.995 1518.22 L769.995 1526.7 Q771.013 1526.35 772.032 1526.19 Q773.05 1526 774.069 1526 Q779.856 1526 783.236 1529.17 Q786.615 1532.34 786.615 1537.76 Q786.615 1543.34 783.143 1546.44 Q779.671 1549.52 773.351 1549.52 Q771.175 1549.52 768.907 1549.15 Q766.662 1548.78 764.254 1548.04 L764.254 1543.34 Q766.338 1544.47 768.56 1545.03 Q770.782 1545.58 773.259 1545.58 Q777.263 1545.58 779.601 1543.48 Q781.939 1541.37 781.939 1537.76 Q781.939 1534.15 779.601 1532.04 Q777.263 1529.94 773.259 1529.94 Q771.384 1529.94 769.509 1530.35 Q767.657 1530.77 765.713 1531.65 L765.713 1514.29 Z\" fill=\"#000000\" fill-rule=\"evenodd\" fill-opacity=\"1\" /><path clip-path=\"url(#clip610)\" d=\"M1250.73 1517.37 Q1247.12 1517.37 1245.29 1520.93 Q1243.49 1524.47 1243.49 1531.6 Q1243.49 1538.71 1245.29 1542.27 Q1247.12 1545.82 1250.73 1545.82 Q1254.36 1545.82 1256.17 1542.27 Q1258 1538.71 1258 1531.6 Q1258 1524.47 1256.17 1520.93 Q1254.36 1517.37 1250.73 1517.37 M1250.73 1513.66 Q1256.54 1513.66 1259.6 1518.27 Q1262.67 1522.85 1262.67 1531.6 Q1262.67 1540.33 1259.6 1544.94 Q1256.54 1549.52 1250.73 1549.52 Q1244.92 1549.52 1241.84 1544.94 Q1238.79 1540.33 1238.79 1531.6 Q1238.79 1522.85 1241.84 1518.27 Q1244.92 1513.66 1250.73 1513.66 Z\" fill=\"#000000\" fill-rule=\"evenodd\" fill-opacity=\"1\" /><path clip-path=\"url(#clip610)\" d=\"M1270.89 1542.97 L1275.78 1542.97 L1275.78 1548.85 L1270.89 1548.85 L1270.89 1542.97 Z\" fill=\"#000000\" fill-rule=\"evenodd\" fill-opacity=\"1\" /><path clip-path=\"url(#clip610)\" d=\"M1295.96 1517.37 Q1292.35 1517.37 1290.52 1520.93 Q1288.72 1524.47 1288.72 1531.6 Q1288.72 1538.71 1290.52 1542.27 Q1292.35 1545.82 1295.96 1545.82 Q1299.6 1545.82 1301.4 1542.27 Q1303.23 1538.71 1303.23 1531.6 Q1303.23 1524.47 1301.4 1520.93 Q1299.6 1517.37 1295.96 1517.37 M1295.96 1513.66 Q1301.77 1513.66 1304.83 1518.27 Q1307.91 1522.85 1307.91 1531.6 Q1307.91 1540.33 1304.83 1544.94 Q1301.77 1549.52 1295.96 1549.52 Q1290.15 1549.52 1287.07 1544.94 Q1284.02 1540.33 1284.02 1531.6 Q1284.02 1522.85 1287.07 1518.27 Q1290.15 1513.66 1295.96 1513.66 Z\" fill=\"#000000\" fill-rule=\"evenodd\" fill-opacity=\"1\" /><path clip-path=\"url(#clip610)\" d=\"M1784.79 1544.91 L1801.11 1544.91 L1801.11 1548.85 L1779.16 1548.85 L1779.16 1544.91 Q1781.82 1542.16 1786.41 1537.53 Q1791.01 1532.88 1792.19 1531.53 Q1794.44 1529.01 1795.32 1527.27 Q1796.22 1525.51 1796.22 1523.82 Q1796.22 1521.07 1794.28 1519.33 Q1792.36 1517.6 1789.25 1517.6 Q1787.06 1517.6 1784.6 1518.36 Q1782.17 1519.13 1779.39 1520.68 L1779.39 1515.95 Q1782.22 1514.82 1784.67 1514.24 Q1787.13 1513.66 1789.16 1513.66 Q1794.53 1513.66 1797.73 1516.35 Q1800.92 1519.03 1800.92 1523.52 Q1800.92 1525.65 1800.11 1527.57 Q1799.32 1529.47 1797.22 1532.07 Q1796.64 1532.74 1793.54 1535.95 Q1790.44 1539.15 1784.79 1544.91 Z\" fill=\"#000000\" fill-rule=\"evenodd\" fill-opacity=\"1\" /><path clip-path=\"url(#clip610)\" d=\"M1810.92 1542.97 L1815.81 1542.97 L1815.81 1548.85 L1810.92 1548.85 L1810.92 1542.97 Z\" fill=\"#000000\" fill-rule=\"evenodd\" fill-opacity=\"1\" /><path clip-path=\"url(#clip610)\" d=\"M1826.04 1514.29 L1844.39 1514.29 L1844.39 1518.22 L1830.32 1518.22 L1830.32 1526.7 Q1831.34 1526.35 1832.36 1526.19 Q1833.37 1526 1834.39 1526 Q1840.18 1526 1843.56 1529.17 Q1846.94 1532.34 1846.94 1537.76 Q1846.94 1543.34 1843.47 1546.44 Q1840 1549.52 1833.68 1549.52 Q1831.5 1549.52 1829.23 1549.15 Q1826.99 1548.78 1824.58 1548.04 L1824.58 1543.34 Q1826.66 1544.47 1828.88 1545.03 Q1831.11 1545.58 1833.58 1545.58 Q1837.59 1545.58 1839.93 1543.48 Q1842.26 1541.37 1842.26 1537.76 Q1842.26 1534.15 1839.93 1532.04 Q1837.59 1529.94 1833.58 1529.94 Q1831.71 1529.94 1829.83 1530.35 Q1827.98 1530.77 1826.04 1531.65 L1826.04 1514.29 Z\" fill=\"#000000\" fill-rule=\"evenodd\" fill-opacity=\"1\" /><path clip-path=\"url(#clip610)\" d=\"M2319.92 1514.29 L2338.28 1514.29 L2338.28 1518.22 L2324.2 1518.22 L2324.2 1526.7 Q2325.22 1526.35 2326.24 1526.19 Q2327.26 1526 2328.28 1526 Q2334.06 1526 2337.44 1529.17 Q2340.82 1532.34 2340.82 1537.76 Q2340.82 1543.34 2337.35 1546.44 Q2333.88 1549.52 2327.56 1549.52 Q2325.38 1549.52 2323.11 1549.15 Q2320.87 1548.78 2318.46 1548.04 L2318.46 1543.34 Q2320.55 1544.47 2322.77 1545.03 Q2324.99 1545.58 2327.47 1545.58 Q2331.47 1545.58 2333.81 1543.48 Q2336.15 1541.37 2336.15 1537.76 Q2336.15 1534.15 2333.81 1532.04 Q2331.47 1529.94 2327.47 1529.94 Q2325.59 1529.94 2323.72 1530.35 Q2321.86 1530.77 2319.92 1531.65 L2319.92 1514.29 Z\" fill=\"#000000\" fill-rule=\"evenodd\" fill-opacity=\"1\" /><path clip-path=\"url(#clip610)\" d=\"M2350.04 1542.97 L2354.92 1542.97 L2354.92 1548.85 L2350.04 1548.85 L2350.04 1542.97 Z\" fill=\"#000000\" fill-rule=\"evenodd\" fill-opacity=\"1\" /><path clip-path=\"url(#clip610)\" d=\"M2375.11 1517.37 Q2371.49 1517.37 2369.67 1520.93 Q2367.86 1524.47 2367.86 1531.6 Q2367.86 1538.71 2369.67 1542.27 Q2371.49 1545.82 2375.11 1545.82 Q2378.74 1545.82 2380.55 1542.27 Q2382.37 1538.71 2382.37 1531.6 Q2382.37 1524.47 2380.55 1520.93 Q2378.74 1517.37 2375.11 1517.37 M2375.11 1513.66 Q2380.92 1513.66 2383.97 1518.27 Q2387.05 1522.85 2387.05 1531.6 Q2387.05 1540.33 2383.97 1544.94 Q2380.92 1549.52 2375.11 1549.52 Q2369.3 1549.52 2366.22 1544.94 Q2363.16 1540.33 2363.16 1531.6 Q2363.16 1522.85 2366.22 1518.27 Q2369.3 1513.66 2375.11 1513.66 Z\" fill=\"#000000\" fill-rule=\"evenodd\" fill-opacity=\"1\" /><polyline clip-path=\"url(#clip612)\" style=\"stroke:#000000; stroke-linecap:round; stroke-linejoin:round; stroke-width:2; stroke-opacity:0.1; fill:none\" points=\"\n",
       "  193.936,1486.45 2352.76,1486.45 \n",
       "  \"/>\n",
       "<polyline clip-path=\"url(#clip612)\" style=\"stroke:#000000; stroke-linecap:round; stroke-linejoin:round; stroke-width:2; stroke-opacity:0.1; fill:none\" points=\"\n",
       "  193.936,1126.65 2352.76,1126.65 \n",
       "  \"/>\n",
       "<polyline clip-path=\"url(#clip612)\" style=\"stroke:#000000; stroke-linecap:round; stroke-linejoin:round; stroke-width:2; stroke-opacity:0.1; fill:none\" points=\"\n",
       "  193.936,766.846 2352.76,766.846 \n",
       "  \"/>\n",
       "<polyline clip-path=\"url(#clip612)\" style=\"stroke:#000000; stroke-linecap:round; stroke-linejoin:round; stroke-width:2; stroke-opacity:0.1; fill:none\" points=\"\n",
       "  193.936,407.045 2352.76,407.045 \n",
       "  \"/>\n",
       "<polyline clip-path=\"url(#clip612)\" style=\"stroke:#000000; stroke-linecap:round; stroke-linejoin:round; stroke-width:2; stroke-opacity:0.1; fill:none\" points=\"\n",
       "  193.936,47.2441 2352.76,47.2441 \n",
       "  \"/>\n",
       "<polyline clip-path=\"url(#clip610)\" style=\"stroke:#000000; stroke-linecap:round; stroke-linejoin:round; stroke-width:4; stroke-opacity:1; fill:none\" points=\"\n",
       "  193.936,1486.45 193.936,47.2441 \n",
       "  \"/>\n",
       "<polyline clip-path=\"url(#clip610)\" style=\"stroke:#000000; stroke-linecap:round; stroke-linejoin:round; stroke-width:4; stroke-opacity:1; fill:none\" points=\"\n",
       "  193.936,1486.45 212.834,1486.45 \n",
       "  \"/>\n",
       "<polyline clip-path=\"url(#clip610)\" style=\"stroke:#000000; stroke-linecap:round; stroke-linejoin:round; stroke-width:4; stroke-opacity:1; fill:none\" points=\"\n",
       "  193.936,1126.65 212.834,1126.65 \n",
       "  \"/>\n",
       "<polyline clip-path=\"url(#clip610)\" style=\"stroke:#000000; stroke-linecap:round; stroke-linejoin:round; stroke-width:4; stroke-opacity:1; fill:none\" points=\"\n",
       "  193.936,766.846 212.834,766.846 \n",
       "  \"/>\n",
       "<polyline clip-path=\"url(#clip610)\" style=\"stroke:#000000; stroke-linecap:round; stroke-linejoin:round; stroke-width:4; stroke-opacity:1; fill:none\" points=\"\n",
       "  193.936,407.045 212.834,407.045 \n",
       "  \"/>\n",
       "<polyline clip-path=\"url(#clip610)\" style=\"stroke:#000000; stroke-linecap:round; stroke-linejoin:round; stroke-width:4; stroke-opacity:1; fill:none\" points=\"\n",
       "  193.936,47.2441 212.834,47.2441 \n",
       "  \"/>\n",
       "<path clip-path=\"url(#clip610)\" d=\"M50.9921 1486.9 L80.6679 1486.9 L80.6679 1490.83 L50.9921 1490.83 L50.9921 1486.9 Z\" fill=\"#000000\" fill-rule=\"evenodd\" fill-opacity=\"1\" /><path clip-path=\"url(#clip610)\" d=\"M90.8067 1469.17 L109.163 1469.17 L109.163 1473.1 L95.0891 1473.1 L95.0891 1481.58 Q96.1076 1481.23 97.1261 1481.07 Q98.1447 1480.88 99.1632 1480.88 Q104.95 1480.88 108.33 1484.05 Q111.709 1487.22 111.709 1492.64 Q111.709 1498.22 108.237 1501.32 Q104.765 1504.4 98.4456 1504.4 Q96.2697 1504.4 94.0012 1504.03 Q91.7558 1503.66 89.3484 1502.92 L89.3484 1498.22 Q91.4317 1499.35 93.6539 1499.91 Q95.8761 1500.46 98.353 1500.46 Q102.358 1500.46 104.696 1498.36 Q107.033 1496.25 107.033 1492.64 Q107.033 1489.03 104.696 1486.92 Q102.358 1484.82 98.353 1484.82 Q96.478 1484.82 94.603 1485.23 Q92.7512 1485.65 90.8067 1486.53 L90.8067 1469.17 Z\" fill=\"#000000\" fill-rule=\"evenodd\" fill-opacity=\"1\" /><path clip-path=\"url(#clip610)\" d=\"M120.922 1497.85 L125.807 1497.85 L125.807 1503.73 L120.922 1503.73 L120.922 1497.85 Z\" fill=\"#000000\" fill-rule=\"evenodd\" fill-opacity=\"1\" /><path clip-path=\"url(#clip610)\" d=\"M145.992 1472.25 Q142.381 1472.25 140.552 1475.81 Q138.746 1479.35 138.746 1486.48 Q138.746 1493.59 140.552 1497.15 Q142.381 1500.7 145.992 1500.7 Q149.626 1500.7 151.431 1497.15 Q153.26 1493.59 153.26 1486.48 Q153.26 1479.35 151.431 1475.81 Q149.626 1472.25 145.992 1472.25 M145.992 1468.54 Q151.802 1468.54 154.857 1473.15 Q157.936 1477.73 157.936 1486.48 Q157.936 1495.21 154.857 1499.82 Q151.802 1504.4 145.992 1504.4 Q140.181 1504.4 137.103 1499.82 Q134.047 1495.21 134.047 1486.48 Q134.047 1477.73 137.103 1473.15 Q140.181 1468.54 145.992 1468.54 Z\" fill=\"#000000\" fill-rule=\"evenodd\" fill-opacity=\"1\" /><path clip-path=\"url(#clip610)\" d=\"M51.9875 1127.1 L81.6633 1127.1 L81.6633 1131.03 L51.9875 1131.03 L51.9875 1127.1 Z\" fill=\"#000000\" fill-rule=\"evenodd\" fill-opacity=\"1\" /><path clip-path=\"url(#clip610)\" d=\"M95.7836 1139.99 L112.103 1139.99 L112.103 1143.93 L90.1586 1143.93 L90.1586 1139.99 Q92.8206 1137.24 97.4039 1132.61 Q102.01 1127.95 103.191 1126.61 Q105.436 1124.09 106.316 1122.35 Q107.219 1120.59 107.219 1118.9 Q107.219 1116.15 105.274 1114.41 Q103.353 1112.68 100.251 1112.68 Q98.0521 1112.68 95.5984 1113.44 Q93.1678 1114.2 90.3901 1115.76 L90.3901 1111.03 Q93.2141 1109.9 95.6678 1109.32 Q98.1215 1108.74 100.159 1108.74 Q105.529 1108.74 108.723 1111.43 Q111.918 1114.11 111.918 1118.6 Q111.918 1120.73 111.108 1122.65 Q110.321 1124.55 108.214 1127.14 Q107.635 1127.82 104.534 1131.03 Q101.432 1134.23 95.7836 1139.99 Z\" fill=\"#000000\" fill-rule=\"evenodd\" fill-opacity=\"1\" /><path clip-path=\"url(#clip610)\" d=\"M121.918 1138.05 L126.802 1138.05 L126.802 1143.93 L121.918 1143.93 L121.918 1138.05 Z\" fill=\"#000000\" fill-rule=\"evenodd\" fill-opacity=\"1\" /><path clip-path=\"url(#clip610)\" d=\"M137.033 1109.37 L155.39 1109.37 L155.39 1113.3 L141.316 1113.3 L141.316 1121.77 Q142.334 1121.43 143.353 1121.27 Q144.371 1121.08 145.39 1121.08 Q151.177 1121.08 154.556 1124.25 Q157.936 1127.42 157.936 1132.84 Q157.936 1138.42 154.464 1141.52 Q150.992 1144.6 144.672 1144.6 Q142.496 1144.6 140.228 1144.23 Q137.982 1143.86 135.575 1143.12 L135.575 1138.42 Q137.658 1139.55 139.881 1140.11 Q142.103 1140.66 144.58 1140.66 Q148.584 1140.66 150.922 1138.56 Q153.26 1136.45 153.26 1132.84 Q153.26 1129.23 150.922 1127.12 Q148.584 1125.01 144.58 1125.01 Q142.705 1125.01 140.83 1125.43 Q138.978 1125.85 137.033 1126.73 L137.033 1109.37 Z\" fill=\"#000000\" fill-rule=\"evenodd\" fill-opacity=\"1\" /><path clip-path=\"url(#clip610)\" d=\"M100.76 752.645 Q97.1493 752.645 95.3206 756.209 Q93.515 759.751 93.515 766.881 Q93.515 773.987 95.3206 777.552 Q97.1493 781.094 100.76 781.094 Q104.395 781.094 106.2 777.552 Q108.029 773.987 108.029 766.881 Q108.029 759.751 106.2 756.209 Q104.395 752.645 100.76 752.645 M100.76 748.941 Q106.571 748.941 109.626 753.547 Q112.705 758.131 112.705 766.881 Q112.705 775.608 109.626 780.214 Q106.571 784.797 100.76 784.797 Q94.9502 784.797 91.8715 780.214 Q88.816 775.608 88.816 766.881 Q88.816 758.131 91.8715 753.547 Q94.9502 748.941 100.76 748.941 Z\" fill=\"#000000\" fill-rule=\"evenodd\" fill-opacity=\"1\" /><path clip-path=\"url(#clip610)\" d=\"M120.922 778.246 L125.807 778.246 L125.807 784.126 L120.922 784.126 L120.922 778.246 Z\" fill=\"#000000\" fill-rule=\"evenodd\" fill-opacity=\"1\" /><path clip-path=\"url(#clip610)\" d=\"M145.992 752.645 Q142.381 752.645 140.552 756.209 Q138.746 759.751 138.746 766.881 Q138.746 773.987 140.552 777.552 Q142.381 781.094 145.992 781.094 Q149.626 781.094 151.431 777.552 Q153.26 773.987 153.26 766.881 Q153.26 759.751 151.431 756.209 Q149.626 752.645 145.992 752.645 M145.992 748.941 Q151.802 748.941 154.857 753.547 Q157.936 758.131 157.936 766.881 Q157.936 775.608 154.857 780.214 Q151.802 784.797 145.992 784.797 Q140.181 784.797 137.103 780.214 Q134.047 775.608 134.047 766.881 Q134.047 758.131 137.103 753.547 Q140.181 748.941 145.992 748.941 Z\" fill=\"#000000\" fill-rule=\"evenodd\" fill-opacity=\"1\" /><path clip-path=\"url(#clip610)\" d=\"M95.7836 420.39 L112.103 420.39 L112.103 424.325 L90.1586 424.325 L90.1586 420.39 Q92.8206 417.635 97.4039 413.006 Q102.01 408.353 103.191 407.01 Q105.436 404.487 106.316 402.751 Q107.219 400.992 107.219 399.302 Q107.219 396.547 105.274 394.811 Q103.353 393.075 100.251 393.075 Q98.0521 393.075 95.5984 393.839 Q93.1678 394.603 90.3901 396.154 L90.3901 391.432 Q93.2141 390.297 95.6678 389.719 Q98.1215 389.14 100.159 389.14 Q105.529 389.14 108.723 391.825 Q111.918 394.51 111.918 399.001 Q111.918 401.131 111.108 403.052 Q110.321 404.95 108.214 407.543 Q107.635 408.214 104.534 411.432 Q101.432 414.626 95.7836 420.39 Z\" fill=\"#000000\" fill-rule=\"evenodd\" fill-opacity=\"1\" /><path clip-path=\"url(#clip610)\" d=\"M121.918 418.445 L126.802 418.445 L126.802 424.325 L121.918 424.325 L121.918 418.445 Z\" fill=\"#000000\" fill-rule=\"evenodd\" fill-opacity=\"1\" /><path clip-path=\"url(#clip610)\" d=\"M137.033 389.765 L155.39 389.765 L155.39 393.7 L141.316 393.7 L141.316 402.172 Q142.334 401.825 143.353 401.663 Q144.371 401.478 145.39 401.478 Q151.177 401.478 154.556 404.649 Q157.936 407.82 157.936 413.237 Q157.936 418.816 154.464 421.918 Q150.992 424.996 144.672 424.996 Q142.496 424.996 140.228 424.626 Q137.982 424.256 135.575 423.515 L135.575 418.816 Q137.658 419.95 139.881 420.506 Q142.103 421.061 144.58 421.061 Q148.584 421.061 150.922 418.955 Q153.26 416.848 153.26 413.237 Q153.26 409.626 150.922 407.52 Q148.584 405.413 144.58 405.413 Q142.705 405.413 140.83 405.83 Q138.978 406.246 137.033 407.126 L137.033 389.765 Z\" fill=\"#000000\" fill-rule=\"evenodd\" fill-opacity=\"1\" /><path clip-path=\"url(#clip610)\" d=\"M90.8067 29.9641 L109.163 29.9641 L109.163 33.8993 L95.0891 33.8993 L95.0891 42.3714 Q96.1076 42.0242 97.1261 41.8622 Q98.1447 41.677 99.1632 41.677 Q104.95 41.677 108.33 44.8483 Q111.709 48.0196 111.709 53.4362 Q111.709 59.0149 108.237 62.1167 Q104.765 65.1954 98.4456 65.1954 Q96.2697 65.1954 94.0012 64.825 Q91.7558 64.4547 89.3484 63.7139 L89.3484 59.0149 Q91.4317 60.1491 93.6539 60.7047 Q95.8761 61.2602 98.353 61.2602 Q102.358 61.2602 104.696 59.1538 Q107.033 57.0473 107.033 53.4362 Q107.033 49.8251 104.696 47.7186 Q102.358 45.6122 98.353 45.6122 Q96.478 45.6122 94.603 46.0288 Q92.7512 46.4455 90.8067 47.3251 L90.8067 29.9641 Z\" fill=\"#000000\" fill-rule=\"evenodd\" fill-opacity=\"1\" /><path clip-path=\"url(#clip610)\" d=\"M120.922 58.6445 L125.807 58.6445 L125.807 64.5241 L120.922 64.5241 L120.922 58.6445 Z\" fill=\"#000000\" fill-rule=\"evenodd\" fill-opacity=\"1\" /><path clip-path=\"url(#clip610)\" d=\"M145.992 33.0428 Q142.381 33.0428 140.552 36.6076 Q138.746 40.1492 138.746 47.2788 Q138.746 54.3853 140.552 57.9501 Q142.381 61.4917 145.992 61.4917 Q149.626 61.4917 151.431 57.9501 Q153.26 54.3853 153.26 47.2788 Q153.26 40.1492 151.431 36.6076 Q149.626 33.0428 145.992 33.0428 M145.992 29.3391 Q151.802 29.3391 154.857 33.9456 Q157.936 38.5289 157.936 47.2788 Q157.936 56.0056 154.857 60.6121 Q151.802 65.1954 145.992 65.1954 Q140.181 65.1954 137.103 60.6121 Q134.047 56.0056 134.047 47.2788 Q134.047 38.5289 137.103 33.9456 Q140.181 29.3391 145.992 29.3391 Z\" fill=\"#000000\" fill-rule=\"evenodd\" fill-opacity=\"1\" /><polyline clip-path=\"url(#clip612)\" style=\"stroke:#000000; stroke-linecap:round; stroke-linejoin:round; stroke-width:4; stroke-opacity:0.5; fill:none\" points=\"\n",
       "  193.936,2053.92 196.097,2051.19 198.258,2048.46 200.419,2045.73 202.58,2043.01 204.741,2040.28 206.902,2037.55 209.063,2034.82 211.224,2032.09 213.385,2029.36 \n",
       "  215.546,2026.63 217.707,2023.91 219.868,2021.18 222.029,2018.45 224.19,2015.72 226.351,2012.99 228.512,2010.26 230.673,2007.54 232.834,2004.81 234.995,2002.08 \n",
       "  237.156,1999.35 239.317,1996.62 241.478,1993.89 243.639,1991.17 245.8,1988.44 247.961,1985.71 250.122,1982.98 252.282,1980.25 254.443,1977.52 256.604,1974.8 \n",
       "  258.765,1972.07 260.926,1969.34 263.087,1966.61 265.248,1963.88 267.409,1961.15 269.57,1958.43 271.731,1955.7 273.892,1952.97 276.053,1950.24 278.214,1947.51 \n",
       "  280.375,1944.78 282.536,1942.06 284.697,1939.33 286.858,1936.6 289.019,1933.87 291.18,1931.14 293.341,1928.41 295.502,1925.69 297.663,1922.96 299.824,1920.23 \n",
       "  301.985,1917.5 304.146,1914.77 306.307,1912.04 308.468,1909.31 310.629,1906.59 312.79,1903.86 314.951,1901.13 317.112,1898.4 319.273,1895.67 321.434,1892.94 \n",
       "  323.595,1890.22 325.756,1887.49 327.917,1884.76 330.078,1882.03 332.239,1879.3 334.4,1876.57 336.561,1873.85 338.722,1871.12 340.883,1868.39 343.044,1865.66 \n",
       "  345.205,1862.93 347.366,1860.2 349.527,1857.48 351.688,1854.75 353.849,1852.02 356.01,1849.29 358.171,1846.56 360.332,1843.83 362.493,1841.11 364.653,1838.38 \n",
       "  366.814,1835.65 368.975,1832.92 371.136,1830.19 373.297,1827.46 375.458,1824.74 377.619,1822.01 379.78,1819.28 381.941,1816.55 384.102,1813.82 386.263,1811.09 \n",
       "  388.424,1808.36 390.585,1805.64 392.746,1802.91 394.907,1800.18 397.068,1797.45 399.229,1794.72 401.39,1791.99 403.551,1789.27 405.712,1786.54 407.873,1783.81 \n",
       "  410.034,1781.08 412.195,1778.35 414.356,1775.62 416.517,1772.9 418.678,1770.17 420.839,1767.44 423,1764.71 425.161,1761.98 427.322,1759.25 429.483,1756.53 \n",
       "  431.644,1753.8 433.805,1751.07 435.966,1748.34 438.127,1745.61 440.288,1742.88 442.449,1740.16 444.61,1737.43 446.771,1734.7 448.932,1731.97 451.093,1729.24 \n",
       "  453.254,1726.51 455.415,1723.79 457.576,1721.06 459.737,1718.33 461.898,1715.6 464.059,1712.87 466.22,1710.14 468.381,1707.42 470.542,1704.69 472.703,1701.96 \n",
       "  474.864,1699.23 477.024,1696.5 479.185,1693.77 481.346,1691.04 483.507,1688.32 485.668,1685.59 487.829,1682.86 489.99,1680.13 492.151,1677.4 494.312,1674.67 \n",
       "  496.473,1671.95 498.634,1669.22 500.795,1666.49 502.956,1663.76 505.117,1661.03 507.278,1658.3 509.439,1655.58 511.6,1652.85 513.761,1650.12 515.922,1647.39 \n",
       "  518.083,1644.66 520.244,1641.93 522.405,1639.21 524.566,1636.48 526.727,1633.75 528.888,1631.02 531.049,1628.29 533.21,1625.56 535.371,1622.84 537.532,1620.11 \n",
       "  539.693,1617.38 541.854,1614.65 544.015,1611.92 546.176,1609.19 548.337,1606.47 550.498,1603.74 552.659,1601.01 554.82,1598.28 556.981,1595.55 559.142,1592.82 \n",
       "  561.303,1590.1 563.464,1587.37 565.625,1584.64 567.786,1581.91 569.947,1579.18 572.108,1576.45 574.269,1573.72 576.43,1571 578.591,1568.27 580.752,1565.54 \n",
       "  582.913,1562.81 585.074,1560.08 587.235,1557.35 589.396,1554.63 591.556,1551.9 593.717,1549.17 595.878,1546.44 598.039,1543.71 600.2,1540.98 602.361,1538.26 \n",
       "  604.522,1535.53 606.683,1532.8 608.844,1530.07 611.005,1527.34 613.166,1524.61 615.327,1521.89 617.488,1519.16 619.649,1516.43 621.81,1513.7 623.971,1510.97 \n",
       "  626.132,1508.24 628.293,1505.52 630.454,1502.79 632.615,1500.06 634.776,1497.33 636.937,1494.6 639.098,1491.87 641.259,1489.15 643.42,1486.42 645.581,1483.69 \n",
       "  647.742,1480.96 649.903,1478.23 652.064,1475.5 654.225,1472.78 656.386,1470.05 658.547,1467.32 660.708,1464.59 662.869,1461.86 665.03,1459.13 667.191,1456.4 \n",
       "  669.352,1453.68 671.513,1450.95 673.674,1448.22 675.835,1445.49 677.996,1442.76 680.157,1440.03 682.318,1437.31 684.479,1434.58 686.64,1431.85 688.801,1429.12 \n",
       "  690.962,1426.39 693.123,1423.66 695.284,1420.94 697.445,1418.21 699.606,1415.48 701.767,1412.75 703.927,1410.02 706.088,1407.29 708.249,1404.57 710.41,1401.84 \n",
       "  712.571,1399.11 714.732,1396.38 716.893,1393.65 719.054,1390.92 721.215,1388.2 723.376,1385.47 725.537,1382.74 727.698,1380.01 729.859,1377.28 732.02,1374.55 \n",
       "  734.181,1371.83 736.342,1369.1 738.503,1366.37 740.664,1363.64 742.825,1360.91 744.986,1358.18 747.147,1355.45 749.308,1352.73 751.469,1350 753.63,1347.27 \n",
       "  755.791,1344.54 757.952,1341.81 760.113,1339.08 762.274,1336.36 764.435,1333.63 766.596,1330.9 768.757,1328.17 770.918,1325.44 773.079,1322.71 775.24,1319.99 \n",
       "  777.401,1317.26 779.562,1314.53 781.723,1311.8 783.884,1309.07 786.045,1306.34 788.206,1303.62 790.367,1300.89 792.528,1298.16 794.689,1295.43 796.85,1292.7 \n",
       "  799.011,1289.97 801.172,1287.25 803.333,1284.52 805.494,1281.79 807.655,1279.06 809.816,1276.33 811.977,1273.6 814.138,1270.88 816.298,1268.15 818.459,1265.42 \n",
       "  820.62,1262.69 822.781,1259.96 824.942,1257.23 827.103,1254.51 829.264,1251.78 831.425,1249.05 833.586,1246.32 835.747,1243.59 837.908,1240.86 840.069,1238.13 \n",
       "  842.23,1235.41 844.391,1232.68 846.552,1229.95 848.713,1227.22 850.874,1224.49 853.035,1221.76 855.196,1219.04 857.357,1216.31 859.518,1213.58 861.679,1210.85 \n",
       "  863.84,1208.12 866.001,1205.39 868.162,1202.67 870.323,1199.94 872.484,1197.21 874.645,1194.48 876.806,1191.75 878.967,1189.02 881.128,1186.3 883.289,1183.57 \n",
       "  885.45,1180.84 887.611,1178.11 889.772,1175.38 891.933,1172.65 894.094,1169.93 896.255,1167.2 898.416,1164.47 900.577,1161.74 902.738,1159.01 904.899,1156.28 \n",
       "  907.06,1153.56 909.221,1150.83 911.382,1148.1 913.543,1145.37 915.704,1142.64 917.865,1139.91 920.026,1137.19 922.187,1134.46 924.348,1131.73 926.509,1129 \n",
       "  928.669,1126.27 930.83,1123.54 932.991,1120.81 935.152,1118.09 937.313,1115.36 939.474,1112.63 941.635,1109.9 943.796,1107.17 945.957,1104.44 948.118,1101.72 \n",
       "  950.279,1098.99 952.44,1096.26 954.601,1093.53 956.762,1090.8 958.923,1088.07 961.084,1085.35 963.245,1082.62 965.406,1079.89 967.567,1077.16 969.728,1074.43 \n",
       "  971.889,1071.7 974.05,1068.98 976.211,1066.25 978.372,1063.52 980.533,1060.79 982.694,1058.06 984.855,1055.33 987.016,1052.61 989.177,1049.88 991.338,1047.15 \n",
       "  993.499,1044.42 995.66,1041.69 997.821,1038.96 999.982,1036.24 1002.14,1033.51 1004.3,1030.78 1006.46,1028.05 1008.63,1025.32 1010.79,1022.59 1012.95,1019.86 \n",
       "  1015.11,1017.14 1017.27,1014.41 1019.43,1011.68 1021.59,1008.95 1023.75,1006.22 1025.91,1003.49 1028.07,1000.77 1030.24,998.038 1032.4,995.31 1034.56,992.581 \n",
       "  1036.72,989.853 1038.88,987.124 1041.04,984.396 1043.2,981.668 1045.36,978.939 1047.52,976.211 1049.68,973.483 1051.85,970.754 1054.01,968.026 1056.17,965.298 \n",
       "  1058.33,962.569 1060.49,959.841 1062.65,957.112 1064.81,954.384 1066.97,951.656 1069.13,948.927 1071.29,946.199 1073.46,943.471 1075.62,940.742 1077.78,938.014 \n",
       "  1079.94,935.285 1082.1,932.557 1084.26,929.829 1086.42,927.1 1088.58,924.372 1090.74,921.644 1092.9,918.915 1095.07,916.187 1097.23,913.458 1099.39,910.73 \n",
       "  1101.55,908.002 1103.71,905.273 1105.87,902.545 1108.03,899.817 1110.19,897.088 1112.35,894.36 1114.51,891.631 1116.67,888.903 1118.84,886.175 1121,883.446 \n",
       "  1123.16,880.718 1125.32,877.99 1127.48,875.261 1129.64,872.533 1131.8,869.804 1133.96,867.076 1136.12,864.348 1138.28,861.619 1140.45,858.891 1142.61,856.163 \n",
       "  1144.77,853.434 1146.93,850.706 1149.09,847.977 1151.25,845.249 1153.41,842.521 1155.57,839.792 1157.73,837.064 1159.89,834.336 1162.06,831.607 1164.22,828.879 \n",
       "  1166.38,826.15 1168.54,823.422 1170.7,820.694 1172.86,817.965 1175.02,815.237 1177.18,812.509 1179.34,809.78 1181.5,807.052 1183.67,804.323 1185.83,801.595 \n",
       "  1187.99,798.867 1190.15,796.138 1192.31,793.41 1194.47,790.682 1196.63,787.953 1198.79,785.225 1200.95,782.496 1203.11,779.768 1205.28,777.04 1207.44,774.311 \n",
       "  1209.6,771.583 1211.76,768.855 1213.92,766.126 1216.08,763.398 1218.24,760.669 1220.4,757.941 1222.56,755.213 1224.72,752.484 1226.88,749.756 1229.05,747.028 \n",
       "  1231.21,744.299 1233.37,741.571 1235.53,738.842 1237.69,736.114 1239.85,733.386 1242.01,730.657 1244.17,727.929 1246.33,725.201 1248.49,722.472 1250.66,719.744 \n",
       "  1252.82,717.016 1254.98,714.287 1257.14,711.559 1259.3,708.83 1261.46,706.102 1263.62,703.374 1265.78,700.645 1267.94,697.917 1270.1,695.189 1272.27,692.46 \n",
       "  1274.43,689.732 1276.59,687.003 1278.75,684.275 1280.91,681.547 1283.07,678.818 1285.23,676.09 1287.39,673.362 1289.55,670.633 1291.71,667.905 1293.88,665.176 \n",
       "  1296.04,662.448 1298.2,659.72 1300.36,656.991 1302.52,654.263 1304.68,651.535 1306.84,648.806 1309,646.078 1311.16,643.349 1313.32,640.621 1315.49,637.893 \n",
       "  1317.65,635.164 1319.81,632.436 1321.97,629.708 1324.13,626.979 1326.29,624.251 1328.45,621.522 1330.61,618.794 1332.77,616.066 1334.93,613.337 1337.09,610.609 \n",
       "  1339.26,607.881 1341.42,605.152 1343.58,602.424 1345.74,599.695 1347.9,596.967 1350.06,594.239 1352.22,591.51 1354.38,588.782 1356.54,586.054 1358.7,583.325 \n",
       "  1360.87,580.597 1363.03,577.868 1365.19,575.14 1367.35,572.412 1369.51,569.683 1371.67,566.955 1373.83,564.227 1375.99,561.498 1378.15,558.77 1380.31,556.041 \n",
       "  1382.48,553.313 1384.64,550.585 1386.8,547.856 1388.96,545.128 1391.12,542.4 1393.28,539.671 1395.44,536.943 1397.6,534.214 1399.76,531.486 1401.92,528.758 \n",
       "  1404.09,526.029 1406.25,523.301 1408.41,520.573 1410.57,517.844 1412.73,515.116 1414.89,512.387 1417.05,509.659 1419.21,506.931 1421.37,504.202 1423.53,501.474 \n",
       "  1425.7,498.746 1427.86,496.017 1430.02,493.289 1432.18,490.56 1434.34,487.832 1436.5,485.104 1438.66,482.375 1440.82,479.647 1442.98,476.919 1445.14,474.19 \n",
       "  1447.3,471.462 1449.47,468.733 1451.63,466.005 1453.79,463.277 1455.95,460.548 1458.11,457.82 1460.27,455.092 1462.43,452.363 1464.59,449.635 1466.75,446.907 \n",
       "  1468.91,444.178 1471.08,441.45 1473.24,438.721 1475.4,435.993 1477.56,433.265 1479.72,430.536 1481.88,427.808 1484.04,425.08 1486.2,422.351 1488.36,419.623 \n",
       "  1490.52,416.894 1492.69,414.166 1494.85,411.438 1497.01,408.709 1499.17,405.981 1501.33,403.253 1503.49,400.524 1505.65,397.796 1507.81,395.067 1509.97,392.339 \n",
       "  1512.13,389.611 1514.3,386.882 1516.46,384.154 1518.62,381.426 1520.78,378.697 1522.94,375.969 1525.1,373.24 1527.26,370.512 1529.42,367.784 1531.58,365.055 \n",
       "  1533.74,362.327 1535.91,359.599 1538.07,356.87 1540.23,354.142 1542.39,351.413 1544.55,348.685 1546.71,345.957 1548.87,343.228 1551.03,340.5 1553.19,337.772 \n",
       "  1555.35,335.043 1557.51,332.315 1559.68,329.586 1561.84,326.858 1564,324.13 1566.16,321.401 1568.32,318.673 1570.48,315.945 1572.64,313.216 1574.8,310.488 \n",
       "  1576.96,307.759 1579.12,305.031 1581.29,302.303 1583.45,299.574 1585.61,296.846 1587.77,294.118 1589.93,291.389 1592.09,288.661 1594.25,285.932 1596.41,283.204 \n",
       "  1598.57,280.476 1600.73,277.747 1602.9,275.019 1605.06,272.291 1607.22,269.562 1609.38,266.834 1611.54,264.105 1613.7,261.377 1615.86,258.649 1618.02,255.92 \n",
       "  1620.18,253.192 1622.34,250.464 1624.51,247.735 1626.67,245.007 1628.83,242.278 1630.99,239.55 1633.15,236.822 1635.31,234.093 1637.47,231.365 1639.63,228.637 \n",
       "  1641.79,225.908 1643.95,223.18 1646.12,220.451 1648.28,217.723 1650.44,214.995 1652.6,212.266 1654.76,209.538 1656.92,206.81 1659.08,204.081 1661.24,201.353 \n",
       "  1663.4,198.624 1665.56,195.896 1667.72,193.168 1669.89,190.439 1672.05,187.711 1674.21,184.983 1676.37,182.254 1678.53,179.526 1680.69,176.798 1682.85,174.069 \n",
       "  1685.01,171.341 1687.17,168.612 1689.33,165.884 1691.5,163.156 1693.66,160.427 1695.82,157.699 1697.98,154.971 1700.14,152.242 1702.3,149.514 1704.46,146.785 \n",
       "  1706.62,144.057 1708.78,141.329 1710.94,138.6 1713.11,135.872 1715.27,133.144 1717.43,130.415 1719.59,127.687 1721.75,124.958 1723.91,122.23 1726.07,119.502 \n",
       "  1728.23,116.773 1730.39,114.045 1732.55,111.317 1734.72,108.588 1736.88,105.86 1739.04,103.131 1741.2,100.403 1743.36,97.6747 1745.52,94.9463 1747.68,92.2179 \n",
       "  1749.84,89.4895 1752,86.7612 1754.16,84.0328 1756.33,81.3044 1758.49,78.576 1760.65,75.8477 1762.81,73.1193 1764.97,70.3909 1767.13,67.6626 1769.29,64.9342 \n",
       "  1771.45,62.2058 1773.61,59.4774 1775.77,56.7491 1777.93,54.0207 1780.1,51.2923 1782.26,48.5639 1784.42,45.8356 1786.58,43.1072 1788.74,40.3788 1790.9,37.6504 \n",
       "  1793.06,34.9221 1795.22,32.1937 1797.38,29.4653 1799.54,26.7369 1801.71,24.0086 1803.87,21.2802 1806.03,18.5518 1808.19,15.8235 1810.35,13.0951 1812.51,10.3667 \n",
       "  1814.67,7.63833 1816.83,4.90996 1818.99,2.18159 1821.15,-0.546788 1823.32,-3.27516 1825.48,-6.00354 1827.64,-8.73191 1829.8,-11.4603 1831.96,-14.1887 1834.12,-16.917 \n",
       "  1836.28,-19.6454 1838.44,-22.3738 1840.6,-25.1022 1842.76,-27.8305 1844.93,-30.5589 1847.09,-33.2873 1849.25,-36.0156 1851.41,-38.744 1853.57,-41.4724 1855.73,-44.2008 \n",
       "  1857.89,-46.9291 1860.05,-49.6575 1862.21,-52.3859 1864.37,-55.1143 1866.54,-57.8426 1868.7,-60.571 1870.86,-63.2994 1873.02,-66.0278 1875.18,-68.7561 1877.34,-71.4845 \n",
       "  1879.5,-74.2129 1881.66,-76.9413 1883.82,-79.6696 1885.98,-82.398 1888.15,-85.1264 1890.31,-87.8547 1892.47,-90.5831 1894.63,-93.3115 1896.79,-96.0399 1898.95,-98.7682 \n",
       "  1901.11,-101.497 1903.27,-104.225 1905.43,-106.953 1907.59,-109.682 1909.75,-112.41 1911.92,-115.138 1914.08,-117.867 1916.24,-120.595 1918.4,-123.324 1920.56,-126.052 \n",
       "  1922.72,-128.78 1924.88,-131.509 1927.04,-134.237 1929.2,-136.965 1931.36,-139.694 1933.53,-142.422 1935.69,-145.151 1937.85,-147.879 1940.01,-150.607 1942.17,-153.336 \n",
       "  1944.33,-156.064 1946.49,-158.792 1948.65,-161.521 1950.81,-164.249 1952.97,-166.978 1955.14,-169.706 1957.3,-172.434 1959.46,-175.163 1961.62,-177.891 1963.78,-180.619 \n",
       "  1965.94,-183.348 1968.1,-186.076 1970.26,-188.805 1972.42,-191.533 1974.58,-194.261 1976.75,-196.99 1978.91,-199.718 1981.07,-202.446 1983.23,-205.175 1985.39,-207.903 \n",
       "  1987.55,-210.632 1989.71,-213.36 1991.87,-216.088 1994.03,-218.817 1996.19,-221.545 1998.36,-224.273 2000.52,-227.002 2002.68,-229.73 2004.84,-232.459 2007,-235.187 \n",
       "  2009.16,-237.915 2011.32,-240.644 2013.48,-243.372 2015.64,-246.1 2017.8,-248.829 2019.96,-251.557 2022.13,-254.286 2024.29,-257.014 2026.45,-259.742 2028.61,-262.471 \n",
       "  2030.77,-265.199 2032.93,-267.927 2035.09,-270.656 2037.25,-273.384 2039.41,-276.113 2041.57,-278.841 2043.74,-281.569 2045.9,-284.298 2048.06,-287.026 2050.22,-289.754 \n",
       "  2052.38,-292.483 2054.54,-295.211 2056.7,-297.94 2058.86,-300.668 2061.02,-303.396 2063.18,-306.125 2065.35,-308.853 2067.51,-311.581 2069.67,-314.31 2071.83,-317.038 \n",
       "  2073.99,-319.767 2076.15,-322.495 2078.31,-325.223 2080.47,-327.952 2082.63,-330.68 2084.79,-333.408 2086.96,-336.137 2089.12,-338.865 2091.28,-341.594 2093.44,-344.322 \n",
       "  2095.6,-347.05 2097.76,-349.779 2099.92,-352.507 2102.08,-355.235 2104.24,-357.964 2106.4,-360.692 2108.57,-363.42 2110.73,-366.149 2112.89,-368.877 2115.05,-371.606 \n",
       "  2117.21,-374.334 2119.37,-377.062 2121.53,-379.791 2123.69,-382.519 2125.85,-385.247 2128.01,-387.976 2130.17,-390.704 2132.34,-393.433 2134.5,-396.161 2136.66,-398.889 \n",
       "  2138.82,-401.618 2140.98,-404.346 2143.14,-407.074 2145.3,-409.803 2147.46,-412.531 2149.62,-415.26 2151.78,-417.988 2153.95,-420.716 2156.11,-423.445 2158.27,-426.173 \n",
       "  2160.43,-428.901 2162.59,-431.63 2164.75,-434.358 2166.91,-437.087 2169.07,-439.815 2171.23,-442.543 2173.39,-445.272 2175.56,-448 2177.72,-450.728 2179.88,-453.457 \n",
       "  2182.04,-456.185 2184.2,-458.914 2186.36,-461.642 2188.52,-464.37 2190.68,-467.099 2192.84,-469.827 2195,-472.555 2197.17,-475.284 2199.33,-478.012 2201.49,-480.741 \n",
       "  2203.65,-483.469 2205.81,-486.197 2207.97,-488.926 2210.13,-491.654 2212.29,-494.382 2214.45,-497.111 2216.61,-499.839 2218.78,-502.568 2220.94,-505.296 2223.1,-508.024 \n",
       "  2225.26,-510.753 2227.42,-513.481 2229.58,-516.209 2231.74,-518.938 2233.9,-521.666 2236.06,-524.395 2238.22,-527.123 2240.38,-529.851 2242.55,-532.58 2244.71,-535.308 \n",
       "  2246.87,-538.036 2249.03,-540.765 2251.19,-543.493 2253.35,-546.222 2255.51,-548.95 2257.67,-551.678 2259.83,-554.407 2261.99,-557.135 2264.16,-559.863 2266.32,-562.592 \n",
       "  2268.48,-565.32 2270.64,-568.049 2272.8,-570.777 2274.96,-573.505 2277.12,-576.234 2279.28,-578.962 2281.44,-581.69 2283.6,-584.419 2285.77,-587.147 2287.93,-589.876 \n",
       "  2290.09,-592.604 2292.25,-595.332 2294.41,-598.061 2296.57,-600.789 2298.73,-603.517 2300.89,-606.246 2303.05,-608.974 2305.21,-611.703 2307.38,-614.431 2309.54,-617.159 \n",
       "  2311.7,-619.888 2313.86,-622.616 2316.02,-625.344 2318.18,-628.073 2320.34,-630.801 2322.5,-633.529 2324.66,-636.258 2326.82,-638.986 2328.99,-641.715 2331.15,-644.443 \n",
       "  2333.31,-647.171 2335.47,-649.9 2337.63,-652.628 2339.79,-655.356 2341.95,-658.085 2344.11,-660.813 2346.27,-663.542 2348.43,-666.27 2350.59,-668.998 2352.76,-671.727 \n",
       "  \n",
       "  \"/>\n",
       "<circle clip-path=\"url(#clip612)\" cx=\"841.582\" cy=\"1235.28\" r=\"14.4\" fill=\"#000000\" fill-rule=\"evenodd\" fill-opacity=\"1\" stroke=\"none\"/>\n",
       "<circle clip-path=\"url(#clip612)\" cx=\"1057.46\" cy=\"957.098\" r=\"14.4\" fill=\"#000000\" fill-rule=\"evenodd\" fill-opacity=\"1\" stroke=\"none\"/>\n",
       "<circle clip-path=\"url(#clip612)\" cx=\"1273.35\" cy=\"711.594\" r=\"14.4\" fill=\"#000000\" fill-rule=\"evenodd\" fill-opacity=\"1\" stroke=\"none\"/>\n",
       "<circle clip-path=\"url(#clip612)\" cx=\"1489.23\" cy=\"381.954\" r=\"14.4\" fill=\"#000000\" fill-rule=\"evenodd\" fill-opacity=\"1\" stroke=\"none\"/>\n",
       "<circle clip-path=\"url(#clip612)\" cx=\"1705.11\" cy=\"152.168\" r=\"14.4\" fill=\"#000000\" fill-rule=\"evenodd\" fill-opacity=\"1\" stroke=\"none\"/>\n",
       "</svg>\n"
      ]
     },
     "execution_count": 6,
     "metadata": {},
     "output_type": "execute_result"
    }
   ],
   "source": [
    "render_trace(trace)"
   ]
  },
  {
   "cell_type": "markdown",
   "metadata": {
    "id": "LcYexmHesPTy"
   },
   "source": [
    "# References\n",
    "\n",
    "We thank whoever wrote the material from the following sources:\n",
    "\n",
    "- https://www.geeksforgeeks.org/how-to-work-with-julia-on-jupyter-notebook/\n",
    "- https://www.geeksforgeeks.org/arrays-in-julia/\n",
    "- https://www.geeksforgeeks.org/functions-in-julia/\n",
    "- https://docs.julialang.org/en/v1/manual/functions/ \n",
    "- https://julia.school/julia/dataframes/\n",
    "- https://github.com/bkamins/Julia-DataFrames-Tutorial\n",
    "- https://gist.github.com/gizmaa/7214002\n",
    "- https://syl1.gitbook.io/julia-language-a-concise-tutorial/useful-packages/dataframes\n",
    "- https://www.math.purdue.edu/~allen450/Plotting-Tutorial.html \n",
    "- https://docs.juliaplots.org/stable/ \n",
    "- https://www.gen.dev/tutorials/intro-to-modeling/tutorial\n",
    "\n",
    "They allowed us to put minimal effort into making this Jupyter Notebook."
   ]
  }
 ],
 "metadata": {
  "colab": {
   "collapsed_sections": [
    "-OS3Ac017T1i",
    "-UsKPF01n37h",
    "1Sn6_RUvkOKt",
    "Rfc8fhFPoEe7",
    "k1rYyDAAoptV",
    "D-6iMWmXoqAh",
    "AkUoPUzeoqcN",
    "Hq2Y9ptTr1zw",
    "yavwGWO1sKvg",
    "BkGVovaIsM1X",
    "HNBvTLcnyjka",
    "LcYexmHesPTy"
   ],
   "provenance": []
  },
  "kernelspec": {
   "display_name": "Julia 1.8.2",
   "language": "julia",
   "name": "julia-1.8"
  },
  "language_info": {
   "file_extension": ".jl",
   "mimetype": "application/julia",
   "name": "julia",
   "version": "1.8.2"
  }
 },
 "nbformat": 4,
 "nbformat_minor": 1
}
