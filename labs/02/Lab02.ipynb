{
 "cells": [
  {
   "cell_type": "code",
   "execution_count": 80,
   "id": "78bb3784",
   "metadata": {},
   "outputs": [
    {
     "data": {
      "text/plain": [
       "0.3136875466887069"
      ]
     },
     "metadata": {},
     "output_type": "display_data"
    }
   ],
   "source": [
    "using Statistics\n",
    "using Gen\n",
    "\n",
    "@gen function model_lab2(c)\n",
    "    x ~ uniform(0, 4*c)\n",
    "\n",
    "    function compute()\n",
    "        return min(c,x) / (c+x)\n",
    "    end\n",
    "\n",
    "    return compute()\n",
    "end\n",
    "\n",
    "# model(2) # No info\n",
    "# tr = Gen.simulate(model, 1) # Trace\n",
    "# tr[:x]\n",
    "# tr[] # Call inner function2\n",
    "\n",
    "tr = [Gen.simulate(model_lab2, (2,)) for _=1:40_000];\n",
    "tr[1][]"
   ]
  },
  {
   "cell_type": "code",
   "execution_count": null,
   "id": "5f455068",
   "metadata": {},
   "outputs": [],
   "source": []
  },
  {
   "cell_type": "code",
   "execution_count": null,
   "id": "5f2b05b8",
   "metadata": {},
   "outputs": [],
   "source": []
  }
 ],
 "metadata": {
  "kernelspec": {
   "display_name": "Julia 1.8.2",
   "language": "julia",
   "name": "julia-1.8"
  },
  "language_info": {
   "file_extension": ".jl",
   "mimetype": "application/julia",
   "name": "julia",
   "version": "1.8.2"
  }
 },
 "nbformat": 4,
 "nbformat_minor": 5
}
