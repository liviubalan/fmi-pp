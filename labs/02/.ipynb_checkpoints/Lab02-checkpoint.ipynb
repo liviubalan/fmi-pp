{
 "cells": [
  {
   "cell_type": "code",
   "execution_count": 1,
   "id": "465d7d61",
   "metadata": {},
   "outputs": [],
   "source": [
    "using Statistics\n",
    "using Gen\n",
    "\n",
    "@gen function model()\n",
    "    X ~ uniform(0, 4c)\n",
    "end\n",
    "# model() # No info\n",
    "tr = Gen.simulate(model, 1) # Trace\n",
    "tr[:x]\n",
    "tr[] # Call inner function"
   ]
  },
  {
   "cell_type": "code",
   "execution_count": null,
   "id": "3b5e836f",
   "metadata": {},
   "outputs": [],
   "source": []
  }
 ],
 "metadata": {
  "kernelspec": {
   "display_name": "Julia 1.8.2",
   "language": "julia",
   "name": "julia-1.8"
  },
  "language_info": {
   "file_extension": ".jl",
   "mimetype": "application/julia",
   "name": "julia",
   "version": "1.8.2"
  }
 },
 "nbformat": 4,
 "nbformat_minor": 5
}
